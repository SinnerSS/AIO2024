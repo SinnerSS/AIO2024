{
 "cells": [
  {
   "cell_type": "code",
   "execution_count": 1,
   "id": "1836f489",
   "metadata": {
    "lines_to_next_cell": 0
   },
   "outputs": [
    {
     "data": {
      "text/plain": [
       "/home/Sinner/miniforge3/envs/AIO2024/lib/python3.11/site-packages/torchtext/data/__init__.py:4: UserWarning: \n",
       "/!\\ IMPORTANT WARNING ABOUT TORCHTEXT STATUS /!\\ \n",
       "Torchtext is deprecated and the last released version will be 0.18 (this one). You can silence this warning by calling the following at the beginnign of your scripts: `import torchtext; torchtext.disable_torchtext_deprecation_warning()`\n",
       "  warnings.warn(torchtext._TORCHTEXT_DEPRECATION_MSG)\n",
       "/home/Sinner/miniforge3/envs/AIO2024/lib/python3.11/site-packages/torchtext/vocab/__init__.py:4: UserWarning: \n",
       "/!\\ IMPORTANT WARNING ABOUT TORCHTEXT STATUS /!\\ \n",
       "Torchtext is deprecated and the last released version will be 0.18 (this one). You can silence this warning by calling the following at the beginnign of your scripts: `import torchtext; torchtext.disable_torchtext_deprecation_warning()`\n",
       "  warnings.warn(torchtext._TORCHTEXT_DEPRECATION_MSG)\n",
       "/home/Sinner/miniforge3/envs/AIO2024/lib/python3.11/site-packages/torchtext/utils.py:4: UserWarning: \n",
       "/!\\ IMPORTANT WARNING ABOUT TORCHTEXT STATUS /!\\ \n",
       "Torchtext is deprecated and the last released version will be 0.18 (this one). You can silence this warning by calling the following at the beginnign of your scripts: `import torchtext; torchtext.disable_torchtext_deprecation_warning()`\n",
       "  warnings.warn(torchtext._TORCHTEXT_DEPRECATION_MSG)\n"
      ]
     },
     "metadata": {},
     "output_type": "display_data"
    }
   ],
   "source": [
    "import os\n",
    "import re\n",
    "import string\n",
    "import time\n",
    "import matplotlib.pyplot as plt\n",
    "\n",
    "import torch\n",
    "import torch.nn as nn\n",
    "import torch.optim as optim\n",
    "from torch.utils.data import DataLoader\n",
    "from torchtext.data import get_tokenizer\n",
    "from torchtext.vocab import build_vocab_from_iterator\n",
    "from torchtext.data.functional import to_map_style_dataset\n",
    "from datasets import load_dataset"
   ]
  },
  {
   "cell_type": "code",
   "execution_count": 2,
   "id": "e07e3be0",
   "metadata": {
    "lines_to_next_cell": 0
   },
   "outputs": [],
   "source": [
    "class TokenAndPositionEmbedding(nn.Module):\n",
    "    def __init__(self, vocab_size, embed_dim, max_length, device='cpu'):\n",
    "        super(TokenAndPositionEmbedding, self).__init__()\n",
    "        self.device = device\n",
    "        self.word_emb = nn.Embedding(\n",
    "            num_embeddings=vocab_size,\n",
    "            embedding_dim=embed_dim\n",
    "        )\n",
    "        self.pos_emb = nn.Embedding(\n",
    "            num_embeddings=max_length,\n",
    "            embedding_dim=embed_dim\n",
    "        )\n",
    "\n",
    "    def forward(self, x):\n",
    "        N, seq_len = x.size()\n",
    "        positions = torch.arange(0, seq_len).expand(N, seq_len).to(self.device)\n",
    "        output1 = self.word_emb(x)\n",
    "        output2 = self.pos_emb(positions)\n",
    "        output = output1 + output2\n",
    "        return output"
   ]
  },
  {
   "cell_type": "code",
   "execution_count": 3,
   "id": "962951fe",
   "metadata": {
    "lines_to_next_cell": 0
   },
   "outputs": [],
   "source": [
    "class TransformerEncoderBlock(nn.Module):\n",
    "    def __init__(self, embed_dim, num_heads, ff_dim, dropout=0.1):\n",
    "        super(TransformerEncoderBlock, self).__init__()\n",
    "        self.attn = nn.MultiheadAttention(\n",
    "            embed_dim=embed_dim,\n",
    "            num_heads=num_heads,\n",
    "            batch_first=True\n",
    "        )\n",
    "        self.ffn = nn.Sequential(\n",
    "            nn.Linear(in_features=embed_dim, out_features=ff_dim, bias=True),\n",
    "            nn.ReLU(),\n",
    "            nn.Linear(in_features=ff_dim, out_features=embed_dim, bias=True)\n",
    "        )\n",
    "        self.ln1 = nn.LayerNorm(normalized_shape=embed_dim, eps=1e-6)\n",
    "        self.ln2 = nn.LayerNorm(normalized_shape=embed_dim, eps=1e-6)\n",
    "        self.dropout1= nn.Dropout(p=dropout)\n",
    "        self.dropout2= nn.Dropout(p=dropout)\n",
    "\n",
    "    def forward(self, query, key, value):\n",
    "        attn_output, _ = self.attn(query, key, value)\n",
    "        attn_output = self.dropout1(attn_output)\n",
    "        out1 = self.ln1(query + attn_output)\n",
    "        ffn_output = self.ffn(out1)\n",
    "        ffn_output = self.dropout2(ffn_output)\n",
    "        out2 = self.ln2(out1 + ffn_output)\n",
    "        return out2\n",
    "\n",
    "class TransformerEncoder(nn.Module):\n",
    "    def __init__(\n",
    "        self,\n",
    "        src_vocab_size,\n",
    "        embed_dim,\n",
    "        max_length,\n",
    "        num_layers,\n",
    "        num_heads,\n",
    "        ff_dim,\n",
    "        dropout=0.1,\n",
    "        device='cpu'\n",
    "    ):\n",
    "        super(TransformerEncoder, self).__init__()\n",
    "        self.embedding = TokenAndPositionEmbedding(\n",
    "            src_vocab_size,\n",
    "            embed_dim,\n",
    "            max_length,\n",
    "            device\n",
    "        )\n",
    "        self.layers = nn.ModuleList(\n",
    "            [\n",
    "                TransformerEncoderBlock(\n",
    "                    embed_dim, \n",
    "                    num_heads,\n",
    "                    ff_dim,\n",
    "                    dropout\n",
    "                ) for _ in range(num_layers)\n",
    "            ]\n",
    "        )\n",
    "\n",
    "    def forward(self, x):\n",
    "        output = self.embedding(x)\n",
    "        for layer in self.layers:\n",
    "            output = layer(output, output, output)\n",
    "        return output"
   ]
  },
  {
   "cell_type": "code",
   "execution_count": 4,
   "id": "75542ead",
   "metadata": {
    "lines_to_next_cell": 0
   },
   "outputs": [],
   "source": [
    "class TransformerDecoderBlock(nn.Module):\n",
    "    def __init__(self, embed_dim, num_heads, ff_dim, dropout=0.1):\n",
    "        super(TransformerDecoderBlock, self).__init__()\n",
    "        self.attn = nn.MultiheadAttention(\n",
    "            embed_dim=embed_dim,\n",
    "            num_heads=num_heads,\n",
    "            batch_first=True\n",
    "        )\n",
    "        self.cross_attn = nn.MultiheadAttention(\n",
    "            embed_dim=embed_dim,\n",
    "            num_heads=num_heads,\n",
    "            batch_first=True\n",
    "        )\n",
    "        self.ffn = nn.Sequential(\n",
    "            nn.Linear(in_features=embed_dim, out_features=ff_dim, bias=True),\n",
    "            nn.ReLU(),\n",
    "            nn.Linear(in_features=ff_dim, out_features=embed_dim, bias=True)\n",
    "        )\n",
    "        self.ln1 = nn.LayerNorm(normalized_shape=embed_dim, eps=1e-6)\n",
    "        self.ln2 = nn.LayerNorm(normalized_shape=embed_dim, eps=1e-6)\n",
    "        self.ln3 = nn.LayerNorm(normalized_shape=embed_dim, eps=1e-6)\n",
    "        self.dropout1 = nn.Dropout(p=dropout)\n",
    "        self.dropout2 = nn.Dropout(p=dropout)\n",
    "        self.dropout3 = nn.Dropout(p=dropout)\n",
    "\n",
    "    def forward(self, x, enc_output, src_mask, tgt_mask):\n",
    "        attn_output, _ = self.attn(x, x, x, attn_mask=tgt_mask)\n",
    "        attn_output = self.dropout1(attn_output)\n",
    "        out1 = self.ln1(x + attn_output)\n",
    "\n",
    "        attn_output, _ = self.cross_attn(\n",
    "            out1,\n",
    "            enc_output,\n",
    "            enc_output,\n",
    "            attn_mask=src_mask\n",
    "        )\n",
    "        attn_output = self.dropout2(attn_output)\n",
    "        out2 = self.ln2(out1 + attn_output)\n",
    "\n",
    "        ffn_output = self.ffn(out2)\n",
    "        ffn_output = self.dropout3(ffn_output)\n",
    "        out3 = self.ln3(out2 + ffn_output)\n",
    "        return out3\n",
    "\n",
    "class TransformerDecoder(nn.Module):\n",
    "    def __init__(\n",
    "        self,\n",
    "        tgt_vocab_size,\n",
    "        embed_dim,\n",
    "        max_length,\n",
    "        num_layers,\n",
    "        num_heads,\n",
    "        ff_dim,\n",
    "        dropout=0.1,\n",
    "        device='cpu'\n",
    "    ):\n",
    "        super(TransformerDecoder, self).__init__()\n",
    "        self.embedding = TokenAndPositionEmbedding(\n",
    "            tgt_vocab_size,\n",
    "            embed_dim,\n",
    "            max_length,\n",
    "            device\n",
    "        )\n",
    "        self.layers = nn.ModuleList(\n",
    "            [\n",
    "                TransformerDecoderBlock(\n",
    "                    embed_dim,\n",
    "                    num_heads,\n",
    "                    ff_dim,\n",
    "                    dropout\n",
    "                ) for _ in range(num_layers)\n",
    "            ]\n",
    "        )\n",
    "\n",
    "    def forward(self, x, enc_output, src_mask, tgt_mask):\n",
    "        output = self.embedding(x)\n",
    "        for layer in self.layers:\n",
    "            output = layer(output, enc_output, src_mask, tgt_mask)\n",
    "        return output"
   ]
  },
  {
   "cell_type": "code",
   "execution_count": 5,
   "id": "59b3ec3d",
   "metadata": {
    "lines_to_next_cell": 0
   },
   "outputs": [],
   "source": [
    "class Transformer(nn.Module):\n",
    "    def __init__(\n",
    "        self,\n",
    "        src_vocab_size,\n",
    "        tgt_vocab_size,\n",
    "        embed_dim,\n",
    "        max_length,\n",
    "        num_layers,\n",
    "        num_heads,\n",
    "        ff_dim,\n",
    "        dropout=0.1,\n",
    "        device='cpu'\n",
    "    ):\n",
    "        super(Transformer, self).__init__()\n",
    "        self.device = device\n",
    "        self.encoder = TransformerEncoder(\n",
    "            src_vocab_size,\n",
    "            embed_dim,\n",
    "            max_length,\n",
    "            num_layers,\n",
    "            num_heads,\n",
    "            ff_dim\n",
    "        )\n",
    "        self.decoder = TransformerDecoder(\n",
    "            tgt_vocab_size,\n",
    "            embed_dim,\n",
    "            max_length,\n",
    "            num_layers,\n",
    "            num_heads,\n",
    "            ff_dim\n",
    "        )\n",
    "        self.fc = nn.Linear(embed_dim, tgt_vocab_size)\n",
    "\n",
    "    def generate_mask(self, src, tgt):\n",
    "        src_seq_len = src.shape[1]\n",
    "        tgt_seq_len = tgt.shape[1]\n",
    "\n",
    "        src_mask = torch.zeros(\n",
    "            (src_seq_len, src_seq_len),\n",
    "            device=self.device\n",
    "        ).type(torch.bool)\n",
    "\n",
    "        tgt_mask = torch.triu(torch.ones(\n",
    "            (tgt_seq_len, tgt_seq_len),\n",
    "            device=self.device\n",
    "        ) == 1).transpose(0,1)\n",
    "        tgt_mask = tgt_mask.float().masked_fill(\n",
    "            tgt_mask == 0,\n",
    "            float('-inf')\n",
    "        ).masked_fill(tgt_mask == 1, float(0.0))\n",
    "        return src_mask, tgt_mask\n",
    "\n",
    "    def forward(self, src, tgt):\n",
    "        src_mask, tgt_mask = self.generate_mask(src, tgt)\n",
    "        enc_output = self.encoder(src)\n",
    "        dec_output = self.decoder(tgt, enc_output, src_mask, tgt_mask)\n",
    "        output = self.fc(dec_output)\n",
    "        return output"
   ]
  },
  {
   "cell_type": "code",
   "execution_count": 6,
   "id": "c320232f",
   "metadata": {
    "lines_to_next_cell": 0
   },
   "outputs": [
    {
     "data": {
      "text/plain": [
       "torch.Size([128, 100, 2000])"
      ]
     },
     "metadata": {},
     "output_type": "display_data"
    }
   ],
   "source": [
    "batch_size = 128\n",
    "src_vocab_size = 1000\n",
    "tgt_vocab_size = 2000\n",
    "embed_dim = 200\n",
    "max_length = 100\n",
    "num_layers = 2\n",
    "num_heads = 4\n",
    "ff_dim = 256\n",
    "\n",
    "model = Transformer(\n",
    "    src_vocab_size,\n",
    "    tgt_vocab_size,\n",
    "    embed_dim,\n",
    "    max_length,\n",
    "    num_layers,\n",
    "    num_heads,\n",
    "    ff_dim\n",
    ")\n",
    "\n",
    "src = torch.randint(\n",
    "    high=2,\n",
    "    size=(batch_size, max_length),\n",
    "    dtype=torch.int64\n",
    ")\n",
    "\n",
    "tgt = torch.randint(\n",
    "    high=2,\n",
    "    size=(batch_size, max_length),\n",
    "    dtype=torch.int64\n",
    ")\n",
    "\n",
    "prediction = model(src, tgt)\n",
    "prediction.shape"
   ]
  },
  {
   "cell_type": "code",
   "execution_count": 7,
   "id": "7bb1da0a",
   "metadata": {
    "lines_to_next_cell": 0
   },
   "outputs": [],
   "source": [
    "ds = load_dataset('thainq107/ntc-scv')"
   ]
  },
  {
   "cell_type": "code",
   "execution_count": 8,
   "id": "58615444",
   "metadata": {
    "lines_to_next_cell": 0
   },
   "outputs": [],
   "source": [
    "def preprocess_text(text):\n",
    "    url_pattern = re.compile(r'https?://\\s+\\wwww\\.\\s+')\n",
    "    text = url_pattern.sub(r\" \", text)\n",
    "\n",
    "    html_pattern = re.compile(r'<[^<>]+>')\n",
    "    text = html_pattern.sub(r\" \", text)\n",
    "\n",
    "    replace_chars = list(string.punctuation + string.digits)\n",
    "    for char in replace_chars:\n",
    "        text = text.replace(char, \" \")\n",
    "\n",
    "    emoji_pattern = re.compile (\"[\"\n",
    "        u\"\\U0001F600-\\U0001F64F\" \n",
    "        u\"\\U0001F300-\\U0001F5FF\" \n",
    "        u\"\\U0001F680-\\U0001F6FF\"\n",
    "        u\"\\U0001F1E0-\\U0001F1FF\"\n",
    "        u\"\\U0001F1F2-\\U0001F1F4\"\n",
    "        u\"\\U0001F1E6-\\U0001F1FF\"\n",
    "        u\"\\U0001F600-\\U0001F64F\"\n",
    "        u\"\\U00002702-\\U000027B0\"\n",
    "        u\"\\U000024C2-\\U0001F251\"\n",
    "        u\"\\U0001f926-\\U0001f937\"\n",
    "        u\"\\U0001F1F2\"\n",
    "        u\"\\U0001F1F4\"\n",
    "        u\"\\U0001F620\"\n",
    "        u\"\\u200d\"\n",
    "        u\"\\u2640-\\u2642\"\n",
    "        \"]+\", flags=re.UNICODE)\n",
    "    text = emoji_pattern.sub(r\" \", text)\n",
    "\n",
    "    text = \" \".join(text.split())\n",
    "\n",
    "    return text.lower()"
   ]
  },
  {
   "cell_type": "code",
   "execution_count": 9,
   "id": "2ca0c54c",
   "metadata": {
    "lines_to_next_cell": 0
   },
   "outputs": [],
   "source": [
    "def yield_tokens(sentences, tokenizer):\n",
    "    for sentence in sentences:\n",
    "        yield tokenizer(sentence)\n",
    "\n",
    "tokenizer = get_tokenizer('basic_english')\n",
    "\n",
    "vocab_size = 10000\n",
    "vocabulary = build_vocab_from_iterator(\n",
    "    yield_tokens(ds['train']['preprocessed_sentence'], tokenizer),\n",
    "    max_tokens=vocab_size,\n",
    "    specials=['<pad>','<unk>']\n",
    ")\n",
    "vocabulary.set_default_index(vocabulary['<unk>'])\n",
    "\n",
    "def prepare_dataset(df):\n",
    "    for row in df:\n",
    "        sentence = row['preprocessed_sentence']\n",
    "        encoded_sentence = vocabulary(tokenizer(sentence))\n",
    "        label = row['label']\n",
    "        yield encoded_sentence, label\n",
    "\n",
    "train_dataset = prepare_dataset(ds['train'])\n",
    "train_dataset = to_map_style_dataset(train_dataset)\n",
    "\n",
    "valid_dataset = prepare_dataset(ds['valid'])\n",
    "valid_dataset = to_map_style_dataset(valid_dataset)\n",
    "\n",
    "test_dataset = prepare_dataset(ds['test'])\n",
    "test_dataset = to_map_style_dataset(test_dataset)"
   ]
  },
  {
   "cell_type": "code",
   "execution_count": 10,
   "id": "4c91fa07",
   "metadata": {
    "lines_to_next_cell": 0
   },
   "outputs": [],
   "source": [
    "seq_length = 100\n",
    "\n",
    "def collate_batch(batch):\n",
    "    sentences, labels = list(zip(*batch))\n",
    "    encoded_sentences = [\n",
    "        sentence + ([0] * (seq_length - len(sentence))) if len(sentence) < seq_length\n",
    "        else sentence[:seq_length]\n",
    "        for sentence in sentences\n",
    "    ]\n",
    "\n",
    "    encoded_sentences = torch.tensor(encoded_sentences, dtype=torch.int64)\n",
    "    labels = torch.tensor(labels)\n",
    "\n",
    "    return encoded_sentences, labels\n",
    "\n",
    "batch_size = 128\n",
    "\n",
    "train_dataloader = DataLoader(\n",
    "    train_dataset,\n",
    "    batch_size=batch_size,\n",
    "    shuffle=True,\n",
    "    collate_fn=collate_batch\n",
    ")\n",
    "\n",
    "valid_dataloader = DataLoader(\n",
    "    valid_dataset,\n",
    "    batch_size=batch_size,\n",
    "    shuffle=False,\n",
    "    collate_fn=collate_batch\n",
    ")\n",
    "\n",
    "test_dataloader = DataLoader(\n",
    "    test_dataset,\n",
    "    batch_size=batch_size,\n",
    "    shuffle=False,\n",
    "    collate_fn=collate_batch\n",
    ")"
   ]
  },
  {
   "cell_type": "code",
   "execution_count": 11,
   "id": "6c5888d7",
   "metadata": {
    "lines_to_next_cell": 0
   },
   "outputs": [],
   "source": [
    "def train_epoch(model, optimizer, criterion, train_dataloader, device, epoch=0, log_interval=50):\n",
    "    model.train()\n",
    "    total_acc, total_count = 0, 0\n",
    "    losses = []\n",
    "    start_time = time.time()\n",
    "\n",
    "    for idx, (inputs, labels) in enumerate(train_dataloader):\n",
    "        inputs = inputs.to(device)\n",
    "        labels = labels.to(device)\n",
    "\n",
    "        optimizer.zero_grad()\n",
    "\n",
    "        predictions = model(inputs)\n",
    "\n",
    "        loss = criterion(predictions, labels)\n",
    "        losses.append(loss.item())\n",
    "\n",
    "        loss.backward()\n",
    "        optimizer.step()\n",
    "        total_acc += (predictions.argmax(1) == labels).sum().item()\n",
    "        total_count += labels.size(0)\n",
    "        if idx % log_interval == 0 and idx > 0:\n",
    "            elapsed = time.time() - start_time\n",
    "            print(\n",
    "                '| Epoch {:3d} | {:5d}/{:5d} batches '\n",
    "                '| Accuracy {:8.3f}'.format(\n",
    "                    epoch, idx, len(train_dataloader), total_acc / total_count\n",
    "                )\n",
    "            )\n",
    "            total_acc, total_count = 0, 0\n",
    "            start_time = time.time()\n",
    "\n",
    "    epoch_acc = total_acc / total_count\n",
    "    epoch_loss = sum(losses) / len(losses)\n",
    "    return epoch_acc, epoch_loss\n",
    "\n",
    "def evaluate_epoch(model, criterion, valid_dataloader, device):\n",
    "    model.eval()\n",
    "    total_acc, total_count = 0, 0\n",
    "    losses =[]\n",
    "\n",
    "    with torch.no_grad():\n",
    "        for idx, (inputs, labels) in enumerate(valid_dataloader):\n",
    "            inputs = inputs.to(device)\n",
    "            labels = labels.to(device)\n",
    "\n",
    "            predictions = model(inputs)\n",
    "\n",
    "            loss = criterion(predictions, labels)\n",
    "            losses.append(loss.item())\n",
    "\n",
    "            total_acc += (predictions.argmax(1) == labels).sum().item()\n",
    "            total_count += labels.size(0)\n",
    "\n",
    "    epoch_acc = total_acc / total_count\n",
    "    epoch_loss = sum(losses) / len(losses)\n",
    "    return epoch_acc, epoch_loss\n",
    "\n",
    "def train(model, model_name, save_model, optimizer, criterion, train_dataloader, valid_dataloader, num_epochs, device):\n",
    "    train_accs, train_losses = [], []\n",
    "    eval_accs, eval_losses = [], []\n",
    "    best_loss_eval = 100\n",
    "    times = []\n",
    "    for epoch in range(1, num_epochs + 1):\n",
    "        epoch_start_time = time.time()\n",
    "\n",
    "        train_acc, train_loss = train_epoch(model, optimizer, criterion, train_dataloader, device, epoch)\n",
    "        train_accs.append(train_acc)\n",
    "        train_losses.append(train_loss)\n",
    "\n",
    "        eval_acc, eval_loss = evaluate_epoch(model, criterion, valid_dataloader, device)\n",
    "        eval_accs.append(eval_acc)\n",
    "        eval_losses.append(eval_loss)\n",
    "\n",
    "        if eval_loss < best_loss_eval:\n",
    "            torch.save(model.state_dict(), save_model + f'/{model_name}.pt')\n",
    "\n",
    "        times.append(time.time() - epoch_start_time)\n",
    "\n",
    "        print('-' * 59)\n",
    "        print(\n",
    "            '| End of epoch {:3d} | Time: {:5.2f}s | Train Accuracy {:8.3f} | Train Loss {:8.3f} '\n",
    "            '| Valid Accuracy {:8.3f} | Valid Loss {:8.3f} '.format(\n",
    "                epoch, time.time() - epoch_start_time, train_acc, train_loss, eval_acc, eval_loss\n",
    "            )\n",
    "        )\n",
    "        print('-' * 59)\n",
    "\n",
    "    model.load_state_dict(torch.load(save_model + f'/{model_name}.pt'))\n",
    "    model.eval()\n",
    "    metrics = {\n",
    "        'train_accuracy': train_accs,\n",
    "        'train_loss': train_losses,\n",
    "        'valid_accuracy': eval_accs,\n",
    "        'valid_loss': eval_losses,\n",
    "        'time': times\n",
    "    }\n",
    "    return model, metrics"
   ]
  },
  {
   "cell_type": "code",
   "execution_count": 12,
   "id": "9948ddca",
   "metadata": {
    "lines_to_next_cell": 0
   },
   "outputs": [],
   "source": [
    "def plot_result(num_epochs, train_accs, eval_accs, train_losses, eval_losses):\n",
    "    epochs = list(range(num_epochs))\n",
    "    fig, axs = plt.subplots(nrows=1, ncols=2, figsize=(12,6))\n",
    "    axs[0].plot(epochs, train_accs, label='Training')\n",
    "    axs[0].plot(epochs, eval_accs, label='Evaluation')\n",
    "    axs[1].plot(epochs, train_losses, label='Training')\n",
    "    axs[1].plot(epochs, eval_losses, label='Evaluation')\n",
    "    axs[0].set_xlabel('Epochs')\n",
    "    axs[1].set_xlabel('Epochs')\n",
    "    axs[0].set_ylabel('Accuracy')\n",
    "    axs[1].set_ylabel('Loss')\n",
    "    plt.legend()"
   ]
  },
  {
   "cell_type": "code",
   "execution_count": 13,
   "id": "ac0778cb",
   "metadata": {
    "lines_to_next_cell": 0
   },
   "outputs": [],
   "source": [
    "class TransformerEncoderCls(nn.Module):\n",
    "    def __init__(\n",
    "        self,\n",
    "        vocab_size, \n",
    "        max_length,\n",
    "        num_layers,\n",
    "        embed_dim,\n",
    "        num_heads,\n",
    "        ff_dim,\n",
    "        dropout=0.1,\n",
    "        device='cpu'\n",
    "    ):\n",
    "        super(TransformerEncoderCls, self).__init__()\n",
    "        self.encoder = TransformerEncoder(\n",
    "            vocab_size,\n",
    "            embed_dim,\n",
    "            max_length,\n",
    "            num_layers,\n",
    "            num_heads,\n",
    "            ff_dim,\n",
    "            dropout,\n",
    "            device\n",
    "        )\n",
    "        self.pool = nn.AvgPool1d(kernel_size=max_length)\n",
    "        self.fc1 = nn.Linear(in_features=embed_dim, out_features=20)\n",
    "        self.fc2 = nn.Linear(in_features=20, out_features=2)\n",
    "        self.dropout = nn.Dropout(p=dropout)\n",
    "        self.relu = nn.ReLU()\n",
    "\n",
    "    def forward(self, x):\n",
    "        output = self.encoder(x)\n",
    "        output = self.pool(output.permute(0, 2, 1)).squeeze()\n",
    "        output = self.dropout(output)\n",
    "        output = self.fc1(output)\n",
    "        output = self.dropout(output)\n",
    "        output = self.fc2(output)\n",
    "        return output"
   ]
  },
  {
   "cell_type": "code",
   "execution_count": 14,
   "id": "c0fd41fd",
   "metadata": {
    "lines_to_next_cell": 0
   },
   "outputs": [
    {
     "data": {
      "text/plain": [
       "| Epoch   1 |    50/  235 batches | Accuracy    0.557\n"
      ]
     },
     "metadata": {},
     "output_type": "display_data"
    },
    {
     "data": {
      "text/plain": [
       "| Epoch   1 |   100/  235 batches | Accuracy    0.600\n"
      ]
     },
     "metadata": {},
     "output_type": "display_data"
    },
    {
     "data": {
      "text/plain": [
       "| Epoch   1 |   150/  235 batches | Accuracy    0.687\n"
      ]
     },
     "metadata": {},
     "output_type": "display_data"
    },
    {
     "data": {
      "text/plain": [
       "| Epoch   1 |   200/  235 batches | Accuracy    0.710\n"
      ]
     },
     "metadata": {},
     "output_type": "display_data"
    },
    {
     "data": {
      "text/plain": [
       "-----------------------------------------------------------\n",
       "| End of epoch   1 | Time: 140.82s | Train Accuracy    0.734 | Train Loss    0.633 | Valid Accuracy    0.741 | Valid Loss    0.538 \n",
       "-----------------------------------------------------------\n"
      ]
     },
     "metadata": {},
     "output_type": "display_data"
    },
    {
     "data": {
      "text/plain": [
       "| Epoch   2 |    50/  235 batches | Accuracy    0.766\n"
      ]
     },
     "metadata": {},
     "output_type": "display_data"
    },
    {
     "data": {
      "text/plain": [
       "| Epoch   2 |   100/  235 batches | Accuracy    0.787\n"
      ]
     },
     "metadata": {},
     "output_type": "display_data"
    },
    {
     "data": {
      "text/plain": [
       "| Epoch   2 |   150/  235 batches | Accuracy    0.790\n"
      ]
     },
     "metadata": {},
     "output_type": "display_data"
    },
    {
     "data": {
      "text/plain": [
       "| Epoch   2 |   200/  235 batches | Accuracy    0.798\n"
      ]
     },
     "metadata": {},
     "output_type": "display_data"
    },
    {
     "data": {
      "text/plain": [
       "-----------------------------------------------------------\n",
       "| End of epoch   2 | Time: 141.85s | Train Accuracy    0.796 | Train Loss    0.465 | Valid Accuracy    0.795 | Valid Loss    0.448 \n",
       "-----------------------------------------------------------\n"
      ]
     },
     "metadata": {},
     "output_type": "display_data"
    },
    {
     "data": {
      "text/plain": [
       "| Epoch   3 |    50/  235 batches | Accuracy    0.810\n"
      ]
     },
     "metadata": {},
     "output_type": "display_data"
    },
    {
     "data": {
      "text/plain": [
       "| Epoch   3 |   100/  235 batches | Accuracy    0.823\n"
      ]
     },
     "metadata": {},
     "output_type": "display_data"
    },
    {
     "data": {
      "text/plain": [
       "| Epoch   3 |   150/  235 batches | Accuracy    0.819\n"
      ]
     },
     "metadata": {},
     "output_type": "display_data"
    },
    {
     "data": {
      "text/plain": [
       "| Epoch   3 |   200/  235 batches | Accuracy    0.810\n"
      ]
     },
     "metadata": {},
     "output_type": "display_data"
    },
    {
     "data": {
      "text/plain": [
       "-----------------------------------------------------------\n",
       "| End of epoch   3 | Time: 136.53s | Train Accuracy    0.816 | Train Loss    0.415 | Valid Accuracy    0.807 | Valid Loss    0.429 \n",
       "-----------------------------------------------------------\n"
      ]
     },
     "metadata": {},
     "output_type": "display_data"
    },
    {
     "data": {
      "text/plain": [
       "| Epoch   4 |    50/  235 batches | Accuracy    0.834\n"
      ]
     },
     "metadata": {},
     "output_type": "display_data"
    },
    {
     "data": {
      "text/plain": [
       "| Epoch   4 |   100/  235 batches | Accuracy    0.826\n"
      ]
     },
     "metadata": {},
     "output_type": "display_data"
    },
    {
     "data": {
      "text/plain": [
       "| Epoch   4 |   150/  235 batches | Accuracy    0.830\n"
      ]
     },
     "metadata": {},
     "output_type": "display_data"
    },
    {
     "data": {
      "text/plain": [
       "| Epoch   4 |   200/  235 batches | Accuracy    0.830\n"
      ]
     },
     "metadata": {},
     "output_type": "display_data"
    },
    {
     "data": {
      "text/plain": [
       "-----------------------------------------------------------\n",
       "| End of epoch   4 | Time: 138.74s | Train Accuracy    0.828 | Train Loss    0.390 | Valid Accuracy    0.817 | Valid Loss    0.409 \n",
       "-----------------------------------------------------------\n"
      ]
     },
     "metadata": {},
     "output_type": "display_data"
    },
    {
     "data": {
      "text/plain": [
       "| Epoch   5 |    50/  235 batches | Accuracy    0.846\n"
      ]
     },
     "metadata": {},
     "output_type": "display_data"
    },
    {
     "data": {
      "text/plain": [
       "| Epoch   5 |   100/  235 batches | Accuracy    0.832\n"
      ]
     },
     "metadata": {},
     "output_type": "display_data"
    },
    {
     "data": {
      "text/plain": [
       "| Epoch   5 |   150/  235 batches | Accuracy    0.831\n"
      ]
     },
     "metadata": {},
     "output_type": "display_data"
    },
    {
     "data": {
      "text/plain": [
       "| Epoch   5 |   200/  235 batches | Accuracy    0.832\n"
      ]
     },
     "metadata": {},
     "output_type": "display_data"
    },
    {
     "data": {
      "text/plain": [
       "-----------------------------------------------------------\n",
       "| End of epoch   5 | Time: 146.61s | Train Accuracy    0.838 | Train Loss    0.375 | Valid Accuracy    0.825 | Valid Loss    0.402 \n",
       "-----------------------------------------------------------\n"
      ]
     },
     "metadata": {},
     "output_type": "display_data"
    },
    {
     "data": {
      "text/plain": [
       "| Epoch   6 |    50/  235 batches | Accuracy    0.844\n"
      ]
     },
     "metadata": {},
     "output_type": "display_data"
    },
    {
     "data": {
      "text/plain": [
       "| Epoch   6 |   100/  235 batches | Accuracy    0.843\n"
      ]
     },
     "metadata": {},
     "output_type": "display_data"
    },
    {
     "data": {
      "text/plain": [
       "| Epoch   6 |   150/  235 batches | Accuracy    0.835\n"
      ]
     },
     "metadata": {},
     "output_type": "display_data"
    },
    {
     "data": {
      "text/plain": [
       "| Epoch   6 |   200/  235 batches | Accuracy    0.850\n"
      ]
     },
     "metadata": {},
     "output_type": "display_data"
    },
    {
     "data": {
      "text/plain": [
       "-----------------------------------------------------------\n",
       "| End of epoch   6 | Time: 144.45s | Train Accuracy    0.843 | Train Loss    0.361 | Valid Accuracy    0.829 | Valid Loss    0.394 \n",
       "-----------------------------------------------------------\n"
      ]
     },
     "metadata": {},
     "output_type": "display_data"
    },
    {
     "data": {
      "text/plain": [
       "| Epoch   7 |    50/  235 batches | Accuracy    0.851\n"
      ]
     },
     "metadata": {},
     "output_type": "display_data"
    },
    {
     "data": {
      "text/plain": [
       "| Epoch   7 |   100/  235 batches | Accuracy    0.848\n"
      ]
     },
     "metadata": {},
     "output_type": "display_data"
    },
    {
     "data": {
      "text/plain": [
       "| Epoch   7 |   150/  235 batches | Accuracy    0.849\n"
      ]
     },
     "metadata": {},
     "output_type": "display_data"
    },
    {
     "data": {
      "text/plain": [
       "| Epoch   7 |   200/  235 batches | Accuracy    0.847\n"
      ]
     },
     "metadata": {},
     "output_type": "display_data"
    },
    {
     "data": {
      "text/plain": [
       "-----------------------------------------------------------\n",
       "| End of epoch   7 | Time: 142.06s | Train Accuracy    0.858 | Train Loss    0.351 | Valid Accuracy    0.831 | Valid Loss    0.394 \n",
       "-----------------------------------------------------------\n"
      ]
     },
     "metadata": {},
     "output_type": "display_data"
    },
    {
     "data": {
      "text/plain": [
       "| Epoch   8 |    50/  235 batches | Accuracy    0.853\n"
      ]
     },
     "metadata": {},
     "output_type": "display_data"
    },
    {
     "data": {
      "text/plain": [
       "| Epoch   8 |   100/  235 batches | Accuracy    0.854\n"
      ]
     },
     "metadata": {},
     "output_type": "display_data"
    },
    {
     "data": {
      "text/plain": [
       "| Epoch   8 |   150/  235 batches | Accuracy    0.856\n"
      ]
     },
     "metadata": {},
     "output_type": "display_data"
    },
    {
     "data": {
      "text/plain": [
       "| Epoch   8 |   200/  235 batches | Accuracy    0.856\n"
      ]
     },
     "metadata": {},
     "output_type": "display_data"
    },
    {
     "data": {
      "text/plain": [
       "-----------------------------------------------------------\n",
       "| End of epoch   8 | Time: 142.38s | Train Accuracy    0.856 | Train Loss    0.341 | Valid Accuracy    0.834 | Valid Loss    0.386 \n",
       "-----------------------------------------------------------\n"
      ]
     },
     "metadata": {},
     "output_type": "display_data"
    },
    {
     "data": {
      "text/plain": [
       "| Epoch   9 |    50/  235 batches | Accuracy    0.861\n"
      ]
     },
     "metadata": {},
     "output_type": "display_data"
    },
    {
     "data": {
      "text/plain": [
       "| Epoch   9 |   100/  235 batches | Accuracy    0.862\n"
      ]
     },
     "metadata": {},
     "output_type": "display_data"
    },
    {
     "data": {
      "text/plain": [
       "| Epoch   9 |   150/  235 batches | Accuracy    0.853\n"
      ]
     },
     "metadata": {},
     "output_type": "display_data"
    },
    {
     "data": {
      "text/plain": [
       "| Epoch   9 |   200/  235 batches | Accuracy    0.858\n"
      ]
     },
     "metadata": {},
     "output_type": "display_data"
    },
    {
     "data": {
      "text/plain": [
       "-----------------------------------------------------------\n",
       "| End of epoch   9 | Time: 143.45s | Train Accuracy    0.856 | Train Loss    0.333 | Valid Accuracy    0.836 | Valid Loss    0.385 \n",
       "-----------------------------------------------------------\n"
      ]
     },
     "metadata": {},
     "output_type": "display_data"
    },
    {
     "data": {
      "text/plain": [
       "| Epoch  10 |    50/  235 batches | Accuracy    0.867\n"
      ]
     },
     "metadata": {},
     "output_type": "display_data"
    },
    {
     "data": {
      "text/plain": [
       "| Epoch  10 |   100/  235 batches | Accuracy    0.862\n"
      ]
     },
     "metadata": {},
     "output_type": "display_data"
    },
    {
     "data": {
      "text/plain": [
       "| Epoch  10 |   150/  235 batches | Accuracy    0.870\n"
      ]
     },
     "metadata": {},
     "output_type": "display_data"
    },
    {
     "data": {
      "text/plain": [
       "| Epoch  10 |   200/  235 batches | Accuracy    0.861\n"
      ]
     },
     "metadata": {},
     "output_type": "display_data"
    },
    {
     "data": {
      "text/plain": [
       "-----------------------------------------------------------\n",
       "| End of epoch  10 | Time: 142.51s | Train Accuracy    0.864 | Train Loss    0.321 | Valid Accuracy    0.839 | Valid Loss    0.380 \n",
       "-----------------------------------------------------------\n"
      ]
     },
     "metadata": {},
     "output_type": "display_data"
    },
    {
     "data": {
      "text/plain": [
       "| Epoch  11 |    50/  235 batches | Accuracy    0.864\n"
      ]
     },
     "metadata": {},
     "output_type": "display_data"
    },
    {
     "data": {
      "text/plain": [
       "| Epoch  11 |   100/  235 batches | Accuracy    0.867\n"
      ]
     },
     "metadata": {},
     "output_type": "display_data"
    },
    {
     "data": {
      "text/plain": [
       "| Epoch  11 |   150/  235 batches | Accuracy    0.880\n"
      ]
     },
     "metadata": {},
     "output_type": "display_data"
    },
    {
     "data": {
      "text/plain": [
       "| Epoch  11 |   200/  235 batches | Accuracy    0.865\n"
      ]
     },
     "metadata": {},
     "output_type": "display_data"
    },
    {
     "data": {
      "text/plain": [
       "-----------------------------------------------------------\n",
       "| End of epoch  11 | Time: 143.31s | Train Accuracy    0.862 | Train Loss    0.314 | Valid Accuracy    0.842 | Valid Loss    0.376 \n",
       "-----------------------------------------------------------\n"
      ]
     },
     "metadata": {},
     "output_type": "display_data"
    },
    {
     "data": {
      "text/plain": [
       "| Epoch  12 |    50/  235 batches | Accuracy    0.878\n"
      ]
     },
     "metadata": {},
     "output_type": "display_data"
    },
    {
     "data": {
      "text/plain": [
       "| Epoch  12 |   100/  235 batches | Accuracy    0.874\n"
      ]
     },
     "metadata": {},
     "output_type": "display_data"
    },
    {
     "data": {
      "text/plain": [
       "| Epoch  12 |   150/  235 batches | Accuracy    0.872\n"
      ]
     },
     "metadata": {},
     "output_type": "display_data"
    },
    {
     "data": {
      "text/plain": [
       "| Epoch  12 |   200/  235 batches | Accuracy    0.876\n"
      ]
     },
     "metadata": {},
     "output_type": "display_data"
    },
    {
     "data": {
      "text/plain": [
       "-----------------------------------------------------------\n",
       "| End of epoch  12 | Time: 143.92s | Train Accuracy    0.871 | Train Loss    0.306 | Valid Accuracy    0.843 | Valid Loss    0.378 \n",
       "-----------------------------------------------------------\n"
      ]
     },
     "metadata": {},
     "output_type": "display_data"
    },
    {
     "data": {
      "text/plain": [
       "| Epoch  13 |    50/  235 batches | Accuracy    0.879\n"
      ]
     },
     "metadata": {},
     "output_type": "display_data"
    },
    {
     "data": {
      "text/plain": [
       "| Epoch  13 |   100/  235 batches | Accuracy    0.880\n"
      ]
     },
     "metadata": {},
     "output_type": "display_data"
    },
    {
     "data": {
      "text/plain": [
       "| Epoch  13 |   150/  235 batches | Accuracy    0.873\n"
      ]
     },
     "metadata": {},
     "output_type": "display_data"
    },
    {
     "data": {
      "text/plain": [
       "| Epoch  13 |   200/  235 batches | Accuracy    0.875\n"
      ]
     },
     "metadata": {},
     "output_type": "display_data"
    },
    {
     "data": {
      "text/plain": [
       "-----------------------------------------------------------\n",
       "| End of epoch  13 | Time: 141.37s | Train Accuracy    0.887 | Train Loss    0.298 | Valid Accuracy    0.845 | Valid Loss    0.382 \n",
       "-----------------------------------------------------------\n"
      ]
     },
     "metadata": {},
     "output_type": "display_data"
    },
    {
     "data": {
      "text/plain": [
       "| Epoch  14 |    50/  235 batches | Accuracy    0.875\n"
      ]
     },
     "metadata": {},
     "output_type": "display_data"
    },
    {
     "data": {
      "text/plain": [
       "| Epoch  14 |   100/  235 batches | Accuracy    0.873\n"
      ]
     },
     "metadata": {},
     "output_type": "display_data"
    },
    {
     "data": {
      "text/plain": [
       "| Epoch  14 |   150/  235 batches | Accuracy    0.884\n"
      ]
     },
     "metadata": {},
     "output_type": "display_data"
    },
    {
     "data": {
      "text/plain": [
       "| Epoch  14 |   200/  235 batches | Accuracy    0.886\n"
      ]
     },
     "metadata": {},
     "output_type": "display_data"
    },
    {
     "data": {
      "text/plain": [
       "-----------------------------------------------------------\n",
       "| End of epoch  14 | Time: 140.08s | Train Accuracy    0.888 | Train Loss    0.291 | Valid Accuracy    0.844 | Valid Loss    0.388 \n",
       "-----------------------------------------------------------\n"
      ]
     },
     "metadata": {},
     "output_type": "display_data"
    },
    {
     "data": {
      "text/plain": [
       "| Epoch  15 |    50/  235 batches | Accuracy    0.892\n"
      ]
     },
     "metadata": {},
     "output_type": "display_data"
    },
    {
     "data": {
      "text/plain": [
       "| Epoch  15 |   100/  235 batches | Accuracy    0.885\n"
      ]
     },
     "metadata": {},
     "output_type": "display_data"
    },
    {
     "data": {
      "text/plain": [
       "| Epoch  15 |   150/  235 batches | Accuracy    0.885\n"
      ]
     },
     "metadata": {},
     "output_type": "display_data"
    },
    {
     "data": {
      "text/plain": [
       "| Epoch  15 |   200/  235 batches | Accuracy    0.882\n"
      ]
     },
     "metadata": {},
     "output_type": "display_data"
    },
    {
     "data": {
      "text/plain": [
       "-----------------------------------------------------------\n",
       "| End of epoch  15 | Time: 141.21s | Train Accuracy    0.890 | Train Loss    0.282 | Valid Accuracy    0.840 | Valid Loss    0.387 \n",
       "-----------------------------------------------------------\n"
      ]
     },
     "metadata": {},
     "output_type": "display_data"
    },
    {
     "data": {
      "text/plain": [
       "| Epoch  16 |    50/  235 batches | Accuracy    0.895\n"
      ]
     },
     "metadata": {},
     "output_type": "display_data"
    },
    {
     "data": {
      "text/plain": [
       "| Epoch  16 |   100/  235 batches | Accuracy    0.900\n"
      ]
     },
     "metadata": {},
     "output_type": "display_data"
    },
    {
     "data": {
      "text/plain": [
       "| Epoch  16 |   150/  235 batches | Accuracy    0.886\n"
      ]
     },
     "metadata": {},
     "output_type": "display_data"
    },
    {
     "data": {
      "text/plain": [
       "| Epoch  16 |   200/  235 batches | Accuracy    0.884\n"
      ]
     },
     "metadata": {},
     "output_type": "display_data"
    },
    {
     "data": {
      "text/plain": [
       "-----------------------------------------------------------\n",
       "| End of epoch  16 | Time: 141.41s | Train Accuracy    0.893 | Train Loss    0.274 | Valid Accuracy    0.846 | Valid Loss    0.386 \n",
       "-----------------------------------------------------------\n"
      ]
     },
     "metadata": {},
     "output_type": "display_data"
    },
    {
     "data": {
      "text/plain": [
       "| Epoch  17 |    50/  235 batches | Accuracy    0.902\n"
      ]
     },
     "metadata": {},
     "output_type": "display_data"
    },
    {
     "data": {
      "text/plain": [
       "| Epoch  17 |   100/  235 batches | Accuracy    0.896\n"
      ]
     },
     "metadata": {},
     "output_type": "display_data"
    },
    {
     "data": {
      "text/plain": [
       "| Epoch  17 |   150/  235 batches | Accuracy    0.894\n"
      ]
     },
     "metadata": {},
     "output_type": "display_data"
    },
    {
     "data": {
      "text/plain": [
       "| Epoch  17 |   200/  235 batches | Accuracy    0.891\n"
      ]
     },
     "metadata": {},
     "output_type": "display_data"
    },
    {
     "data": {
      "text/plain": [
       "-----------------------------------------------------------\n",
       "| End of epoch  17 | Time: 141.91s | Train Accuracy    0.895 | Train Loss    0.265 | Valid Accuracy    0.843 | Valid Loss    0.388 \n",
       "-----------------------------------------------------------\n"
      ]
     },
     "metadata": {},
     "output_type": "display_data"
    },
    {
     "data": {
      "text/plain": [
       "| Epoch  18 |    50/  235 batches | Accuracy    0.905\n"
      ]
     },
     "metadata": {},
     "output_type": "display_data"
    },
    {
     "data": {
      "text/plain": [
       "| Epoch  18 |   100/  235 batches | Accuracy    0.900\n"
      ]
     },
     "metadata": {},
     "output_type": "display_data"
    },
    {
     "data": {
      "text/plain": [
       "| Epoch  18 |   150/  235 batches | Accuracy    0.891\n"
      ]
     },
     "metadata": {},
     "output_type": "display_data"
    },
    {
     "data": {
      "text/plain": [
       "| Epoch  18 |   200/  235 batches | Accuracy    0.904\n"
      ]
     },
     "metadata": {},
     "output_type": "display_data"
    },
    {
     "data": {
      "text/plain": [
       "-----------------------------------------------------------\n",
       "| End of epoch  18 | Time: 142.21s | Train Accuracy    0.894 | Train Loss    0.255 | Valid Accuracy    0.843 | Valid Loss    0.391 \n",
       "-----------------------------------------------------------\n"
      ]
     },
     "metadata": {},
     "output_type": "display_data"
    },
    {
     "data": {
      "text/plain": [
       "| Epoch  19 |    50/  235 batches | Accuracy    0.906\n"
      ]
     },
     "metadata": {},
     "output_type": "display_data"
    },
    {
     "data": {
      "text/plain": [
       "| Epoch  19 |   100/  235 batches | Accuracy    0.910\n"
      ]
     },
     "metadata": {},
     "output_type": "display_data"
    },
    {
     "data": {
      "text/plain": [
       "| Epoch  19 |   150/  235 batches | Accuracy    0.899\n"
      ]
     },
     "metadata": {},
     "output_type": "display_data"
    },
    {
     "data": {
      "text/plain": [
       "| Epoch  19 |   200/  235 batches | Accuracy    0.897\n"
      ]
     },
     "metadata": {},
     "output_type": "display_data"
    },
    {
     "data": {
      "text/plain": [
       "-----------------------------------------------------------\n",
       "| End of epoch  19 | Time: 143.86s | Train Accuracy    0.901 | Train Loss    0.248 | Valid Accuracy    0.835 | Valid Loss    0.405 \n",
       "-----------------------------------------------------------\n"
      ]
     },
     "metadata": {},
     "output_type": "display_data"
    },
    {
     "data": {
      "text/plain": [
       "| Epoch  20 |    50/  235 batches | Accuracy    0.908\n"
      ]
     },
     "metadata": {},
     "output_type": "display_data"
    },
    {
     "data": {
      "text/plain": [
       "| Epoch  20 |   100/  235 batches | Accuracy    0.915\n"
      ]
     },
     "metadata": {},
     "output_type": "display_data"
    },
    {
     "data": {
      "text/plain": [
       "| Epoch  20 |   150/  235 batches | Accuracy    0.911\n"
      ]
     },
     "metadata": {},
     "output_type": "display_data"
    },
    {
     "data": {
      "text/plain": [
       "| Epoch  20 |   200/  235 batches | Accuracy    0.903\n"
      ]
     },
     "metadata": {},
     "output_type": "display_data"
    },
    {
     "data": {
      "text/plain": [
       "-----------------------------------------------------------\n",
       "| End of epoch  20 | Time: 143.59s | Train Accuracy    0.901 | Train Loss    0.236 | Valid Accuracy    0.840 | Valid Loss    0.404 \n",
       "-----------------------------------------------------------\n"
      ]
     },
     "metadata": {},
     "output_type": "display_data"
    },
    {
     "data": {
      "text/plain": [
       "| Epoch  21 |    50/  235 batches | Accuracy    0.913\n"
      ]
     },
     "metadata": {},
     "output_type": "display_data"
    },
    {
     "data": {
      "text/plain": [
       "| Epoch  21 |   100/  235 batches | Accuracy    0.916\n"
      ]
     },
     "metadata": {},
     "output_type": "display_data"
    },
    {
     "data": {
      "text/plain": [
       "| Epoch  21 |   150/  235 batches | Accuracy    0.914\n"
      ]
     },
     "metadata": {},
     "output_type": "display_data"
    },
    {
     "data": {
      "text/plain": [
       "| Epoch  21 |   200/  235 batches | Accuracy    0.911\n"
      ]
     },
     "metadata": {},
     "output_type": "display_data"
    },
    {
     "data": {
      "text/plain": [
       "-----------------------------------------------------------\n",
       "| End of epoch  21 | Time: 142.33s | Train Accuracy    0.917 | Train Loss    0.226 | Valid Accuracy    0.841 | Valid Loss    0.429 \n",
       "-----------------------------------------------------------\n"
      ]
     },
     "metadata": {},
     "output_type": "display_data"
    },
    {
     "data": {
      "text/plain": [
       "| Epoch  22 |    50/  235 batches | Accuracy    0.918\n"
      ]
     },
     "metadata": {},
     "output_type": "display_data"
    },
    {
     "data": {
      "text/plain": [
       "| Epoch  22 |   100/  235 batches | Accuracy    0.921\n"
      ]
     },
     "metadata": {},
     "output_type": "display_data"
    },
    {
     "data": {
      "text/plain": [
       "| Epoch  22 |   150/  235 batches | Accuracy    0.910\n"
      ]
     },
     "metadata": {},
     "output_type": "display_data"
    },
    {
     "data": {
      "text/plain": [
       "| Epoch  22 |   200/  235 batches | Accuracy    0.915\n"
      ]
     },
     "metadata": {},
     "output_type": "display_data"
    },
    {
     "data": {
      "text/plain": [
       "-----------------------------------------------------------\n",
       "| End of epoch  22 | Time: 144.01s | Train Accuracy    0.920 | Train Loss    0.218 | Valid Accuracy    0.838 | Valid Loss    0.435 \n",
       "-----------------------------------------------------------\n"
      ]
     },
     "metadata": {},
     "output_type": "display_data"
    },
    {
     "data": {
      "text/plain": [
       "| Epoch  23 |    50/  235 batches | Accuracy    0.925\n"
      ]
     },
     "metadata": {},
     "output_type": "display_data"
    },
    {
     "data": {
      "text/plain": [
       "| Epoch  23 |   100/  235 batches | Accuracy    0.927\n"
      ]
     },
     "metadata": {},
     "output_type": "display_data"
    },
    {
     "data": {
      "text/plain": [
       "| Epoch  23 |   150/  235 batches | Accuracy    0.922\n"
      ]
     },
     "metadata": {},
     "output_type": "display_data"
    },
    {
     "data": {
      "text/plain": [
       "| Epoch  23 |   200/  235 batches | Accuracy    0.920\n"
      ]
     },
     "metadata": {},
     "output_type": "display_data"
    },
    {
     "data": {
      "text/plain": [
       "-----------------------------------------------------------\n",
       "| End of epoch  23 | Time: 144.63s | Train Accuracy    0.923 | Train Loss    0.207 | Valid Accuracy    0.833 | Valid Loss    0.447 \n",
       "-----------------------------------------------------------\n"
      ]
     },
     "metadata": {},
     "output_type": "display_data"
    },
    {
     "data": {
      "text/plain": [
       "| Epoch  24 |    50/  235 batches | Accuracy    0.928\n"
      ]
     },
     "metadata": {},
     "output_type": "display_data"
    },
    {
     "data": {
      "text/plain": [
       "| Epoch  24 |   100/  235 batches | Accuracy    0.933\n"
      ]
     },
     "metadata": {},
     "output_type": "display_data"
    },
    {
     "data": {
      "text/plain": [
       "| Epoch  24 |   150/  235 batches | Accuracy    0.930\n"
      ]
     },
     "metadata": {},
     "output_type": "display_data"
    },
    {
     "data": {
      "text/plain": [
       "| Epoch  24 |   200/  235 batches | Accuracy    0.929\n"
      ]
     },
     "metadata": {},
     "output_type": "display_data"
    },
    {
     "data": {
      "text/plain": [
       "-----------------------------------------------------------\n",
       "| End of epoch  24 | Time: 144.22s | Train Accuracy    0.927 | Train Loss    0.195 | Valid Accuracy    0.824 | Valid Loss    0.502 \n",
       "-----------------------------------------------------------\n"
      ]
     },
     "metadata": {},
     "output_type": "display_data"
    },
    {
     "data": {
      "text/plain": [
       "| Epoch  25 |    50/  235 batches | Accuracy    0.933\n"
      ]
     },
     "metadata": {},
     "output_type": "display_data"
    },
    {
     "data": {
      "text/plain": [
       "| Epoch  25 |   100/  235 batches | Accuracy    0.931\n"
      ]
     },
     "metadata": {},
     "output_type": "display_data"
    },
    {
     "data": {
      "text/plain": [
       "| Epoch  25 |   150/  235 batches | Accuracy    0.940\n"
      ]
     },
     "metadata": {},
     "output_type": "display_data"
    },
    {
     "data": {
      "text/plain": [
       "| Epoch  25 |   200/  235 batches | Accuracy    0.934\n"
      ]
     },
     "metadata": {},
     "output_type": "display_data"
    },
    {
     "data": {
      "text/plain": [
       "-----------------------------------------------------------\n",
       "| End of epoch  25 | Time: 144.33s | Train Accuracy    0.930 | Train Loss    0.184 | Valid Accuracy    0.828 | Valid Loss    0.494 \n",
       "-----------------------------------------------------------\n"
      ]
     },
     "metadata": {},
     "output_type": "display_data"
    },
    {
     "data": {
      "text/plain": [
       "| Epoch  26 |    50/  235 batches | Accuracy    0.944\n"
      ]
     },
     "metadata": {},
     "output_type": "display_data"
    },
    {
     "data": {
      "text/plain": [
       "| Epoch  26 |   100/  235 batches | Accuracy    0.939\n"
      ]
     },
     "metadata": {},
     "output_type": "display_data"
    },
    {
     "data": {
      "text/plain": [
       "| Epoch  26 |   150/  235 batches | Accuracy    0.933\n"
      ]
     },
     "metadata": {},
     "output_type": "display_data"
    },
    {
     "data": {
      "text/plain": [
       "| Epoch  26 |   200/  235 batches | Accuracy    0.942\n"
      ]
     },
     "metadata": {},
     "output_type": "display_data"
    },
    {
     "data": {
      "text/plain": [
       "-----------------------------------------------------------\n",
       "| End of epoch  26 | Time: 143.70s | Train Accuracy    0.936 | Train Loss    0.173 | Valid Accuracy    0.824 | Valid Loss    0.513 \n",
       "-----------------------------------------------------------\n"
      ]
     },
     "metadata": {},
     "output_type": "display_data"
    },
    {
     "data": {
      "text/plain": [
       "| Epoch  27 |    50/  235 batches | Accuracy    0.948\n"
      ]
     },
     "metadata": {},
     "output_type": "display_data"
    },
    {
     "data": {
      "text/plain": [
       "| Epoch  27 |   100/  235 batches | Accuracy    0.939\n"
      ]
     },
     "metadata": {},
     "output_type": "display_data"
    },
    {
     "data": {
      "text/plain": [
       "| Epoch  27 |   150/  235 batches | Accuracy    0.944\n"
      ]
     },
     "metadata": {},
     "output_type": "display_data"
    },
    {
     "data": {
      "text/plain": [
       "| Epoch  27 |   200/  235 batches | Accuracy    0.947\n"
      ]
     },
     "metadata": {},
     "output_type": "display_data"
    },
    {
     "data": {
      "text/plain": [
       "-----------------------------------------------------------\n",
       "| End of epoch  27 | Time: 143.66s | Train Accuracy    0.945 | Train Loss    0.162 | Valid Accuracy    0.827 | Valid Loss    0.530 \n",
       "-----------------------------------------------------------\n"
      ]
     },
     "metadata": {},
     "output_type": "display_data"
    },
    {
     "data": {
      "text/plain": [
       "| Epoch  28 |    50/  235 batches | Accuracy    0.950\n"
      ]
     },
     "metadata": {},
     "output_type": "display_data"
    },
    {
     "data": {
      "text/plain": [
       "| Epoch  28 |   100/  235 batches | Accuracy    0.950\n"
      ]
     },
     "metadata": {},
     "output_type": "display_data"
    },
    {
     "data": {
      "text/plain": [
       "| Epoch  28 |   150/  235 batches | Accuracy    0.952\n"
      ]
     },
     "metadata": {},
     "output_type": "display_data"
    },
    {
     "data": {
      "text/plain": [
       "| Epoch  28 |   200/  235 batches | Accuracy    0.948\n"
      ]
     },
     "metadata": {},
     "output_type": "display_data"
    },
    {
     "data": {
      "text/plain": [
       "-----------------------------------------------------------\n",
       "| End of epoch  28 | Time: 145.32s | Train Accuracy    0.950 | Train Loss    0.150 | Valid Accuracy    0.824 | Valid Loss    0.573 \n",
       "-----------------------------------------------------------\n"
      ]
     },
     "metadata": {},
     "output_type": "display_data"
    },
    {
     "data": {
      "text/plain": [
       "| Epoch  29 |    50/  235 batches | Accuracy    0.959\n"
      ]
     },
     "metadata": {},
     "output_type": "display_data"
    },
    {
     "data": {
      "text/plain": [
       "| Epoch  29 |   100/  235 batches | Accuracy    0.953\n"
      ]
     },
     "metadata": {},
     "output_type": "display_data"
    },
    {
     "data": {
      "text/plain": [
       "| Epoch  29 |   150/  235 batches | Accuracy    0.957\n"
      ]
     },
     "metadata": {},
     "output_type": "display_data"
    },
    {
     "data": {
      "text/plain": [
       "| Epoch  29 |   200/  235 batches | Accuracy    0.951\n"
      ]
     },
     "metadata": {},
     "output_type": "display_data"
    },
    {
     "data": {
      "text/plain": [
       "-----------------------------------------------------------\n",
       "| End of epoch  29 | Time: 144.74s | Train Accuracy    0.954 | Train Loss    0.139 | Valid Accuracy    0.825 | Valid Loss    0.583 \n",
       "-----------------------------------------------------------\n"
      ]
     },
     "metadata": {},
     "output_type": "display_data"
    },
    {
     "data": {
      "text/plain": [
       "| Epoch  30 |    50/  235 batches | Accuracy    0.963\n"
      ]
     },
     "metadata": {},
     "output_type": "display_data"
    },
    {
     "data": {
      "text/plain": [
       "| Epoch  30 |   100/  235 batches | Accuracy    0.958\n"
      ]
     },
     "metadata": {},
     "output_type": "display_data"
    },
    {
     "data": {
      "text/plain": [
       "| Epoch  30 |   150/  235 batches | Accuracy    0.957\n"
      ]
     },
     "metadata": {},
     "output_type": "display_data"
    },
    {
     "data": {
      "text/plain": [
       "| Epoch  30 |   200/  235 batches | Accuracy    0.959\n"
      ]
     },
     "metadata": {},
     "output_type": "display_data"
    },
    {
     "data": {
      "text/plain": [
       "-----------------------------------------------------------\n",
       "| End of epoch  30 | Time: 144.99s | Train Accuracy    0.960 | Train Loss    0.129 | Valid Accuracy    0.824 | Valid Loss    0.633 \n",
       "-----------------------------------------------------------\n"
      ]
     },
     "metadata": {},
     "output_type": "display_data"
    },
    {
     "data": {
      "text/plain": [
       "| Epoch  31 |    50/  235 batches | Accuracy    0.969\n"
      ]
     },
     "metadata": {},
     "output_type": "display_data"
    },
    {
     "data": {
      "text/plain": [
       "| Epoch  31 |   100/  235 batches | Accuracy    0.968\n"
      ]
     },
     "metadata": {},
     "output_type": "display_data"
    },
    {
     "data": {
      "text/plain": [
       "| Epoch  31 |   150/  235 batches | Accuracy    0.957\n"
      ]
     },
     "metadata": {},
     "output_type": "display_data"
    },
    {
     "data": {
      "text/plain": [
       "| Epoch  31 |   200/  235 batches | Accuracy    0.962\n"
      ]
     },
     "metadata": {},
     "output_type": "display_data"
    },
    {
     "data": {
      "text/plain": [
       "-----------------------------------------------------------\n",
       "| End of epoch  31 | Time: 144.69s | Train Accuracy    0.964 | Train Loss    0.117 | Valid Accuracy    0.824 | Valid Loss    0.647 \n",
       "-----------------------------------------------------------\n"
      ]
     },
     "metadata": {},
     "output_type": "display_data"
    },
    {
     "data": {
      "text/plain": [
       "| Epoch  32 |    50/  235 batches | Accuracy    0.972\n"
      ]
     },
     "metadata": {},
     "output_type": "display_data"
    },
    {
     "data": {
      "text/plain": [
       "| Epoch  32 |   100/  235 batches | Accuracy    0.968\n"
      ]
     },
     "metadata": {},
     "output_type": "display_data"
    },
    {
     "data": {
      "text/plain": [
       "| Epoch  32 |   150/  235 batches | Accuracy    0.966\n"
      ]
     },
     "metadata": {},
     "output_type": "display_data"
    },
    {
     "data": {
      "text/plain": [
       "| Epoch  32 |   200/  235 batches | Accuracy    0.963\n"
      ]
     },
     "metadata": {},
     "output_type": "display_data"
    },
    {
     "data": {
      "text/plain": [
       "-----------------------------------------------------------\n",
       "| End of epoch  32 | Time: 144.90s | Train Accuracy    0.965 | Train Loss    0.109 | Valid Accuracy    0.822 | Valid Loss    0.694 \n",
       "-----------------------------------------------------------\n"
      ]
     },
     "metadata": {},
     "output_type": "display_data"
    },
    {
     "data": {
      "text/plain": [
       "| Epoch  33 |    50/  235 batches | Accuracy    0.975\n"
      ]
     },
     "metadata": {},
     "output_type": "display_data"
    },
    {
     "data": {
      "text/plain": [
       "| Epoch  33 |   100/  235 batches | Accuracy    0.968\n"
      ]
     },
     "metadata": {},
     "output_type": "display_data"
    },
    {
     "data": {
      "text/plain": [
       "| Epoch  33 |   150/  235 batches | Accuracy    0.972\n"
      ]
     },
     "metadata": {},
     "output_type": "display_data"
    },
    {
     "data": {
      "text/plain": [
       "| Epoch  33 |   200/  235 batches | Accuracy    0.965\n"
      ]
     },
     "metadata": {},
     "output_type": "display_data"
    },
    {
     "data": {
      "text/plain": [
       "-----------------------------------------------------------\n",
       "| End of epoch  33 | Time: 144.36s | Train Accuracy    0.967 | Train Loss    0.101 | Valid Accuracy    0.818 | Valid Loss    0.734 \n",
       "-----------------------------------------------------------\n"
      ]
     },
     "metadata": {},
     "output_type": "display_data"
    },
    {
     "data": {
      "text/plain": [
       "| Epoch  34 |    50/  235 batches | Accuracy    0.977\n"
      ]
     },
     "metadata": {},
     "output_type": "display_data"
    },
    {
     "data": {
      "text/plain": [
       "| Epoch  34 |   100/  235 batches | Accuracy    0.973\n"
      ]
     },
     "metadata": {},
     "output_type": "display_data"
    },
    {
     "data": {
      "text/plain": [
       "| Epoch  34 |   150/  235 batches | Accuracy    0.973\n"
      ]
     },
     "metadata": {},
     "output_type": "display_data"
    },
    {
     "data": {
      "text/plain": [
       "| Epoch  34 |   200/  235 batches | Accuracy    0.974\n"
      ]
     },
     "metadata": {},
     "output_type": "display_data"
    },
    {
     "data": {
      "text/plain": [
       "-----------------------------------------------------------\n",
       "| End of epoch  34 | Time: 146.67s | Train Accuracy    0.970 | Train Loss    0.092 | Valid Accuracy    0.819 | Valid Loss    0.786 \n",
       "-----------------------------------------------------------\n"
      ]
     },
     "metadata": {},
     "output_type": "display_data"
    },
    {
     "data": {
      "text/plain": [
       "| Epoch  35 |    50/  235 batches | Accuracy    0.978\n"
      ]
     },
     "metadata": {},
     "output_type": "display_data"
    },
    {
     "data": {
      "text/plain": [
       "| Epoch  35 |   100/  235 batches | Accuracy    0.983\n"
      ]
     },
     "metadata": {},
     "output_type": "display_data"
    },
    {
     "data": {
      "text/plain": [
       "| Epoch  35 |   150/  235 batches | Accuracy    0.979\n"
      ]
     },
     "metadata": {},
     "output_type": "display_data"
    },
    {
     "data": {
      "text/plain": [
       "| Epoch  35 |   200/  235 batches | Accuracy    0.975\n"
      ]
     },
     "metadata": {},
     "output_type": "display_data"
    },
    {
     "data": {
      "text/plain": [
       "-----------------------------------------------------------\n",
       "| End of epoch  35 | Time: 144.84s | Train Accuracy    0.973 | Train Loss    0.083 | Valid Accuracy    0.820 | Valid Loss    0.784 \n",
       "-----------------------------------------------------------\n"
      ]
     },
     "metadata": {},
     "output_type": "display_data"
    },
    {
     "data": {
      "text/plain": [
       "| Epoch  36 |    50/  235 batches | Accuracy    0.979\n"
      ]
     },
     "metadata": {},
     "output_type": "display_data"
    },
    {
     "data": {
      "text/plain": [
       "| Epoch  36 |   100/  235 batches | Accuracy    0.980\n"
      ]
     },
     "metadata": {},
     "output_type": "display_data"
    },
    {
     "data": {
      "text/plain": [
       "| Epoch  36 |   150/  235 batches | Accuracy    0.980\n"
      ]
     },
     "metadata": {},
     "output_type": "display_data"
    },
    {
     "data": {
      "text/plain": [
       "| Epoch  36 |   200/  235 batches | Accuracy    0.981\n"
      ]
     },
     "metadata": {},
     "output_type": "display_data"
    },
    {
     "data": {
      "text/plain": [
       "-----------------------------------------------------------\n",
       "| End of epoch  36 | Time: 144.70s | Train Accuracy    0.980 | Train Loss    0.076 | Valid Accuracy    0.819 | Valid Loss    0.864 \n",
       "-----------------------------------------------------------\n"
      ]
     },
     "metadata": {},
     "output_type": "display_data"
    },
    {
     "data": {
      "text/plain": [
       "| Epoch  37 |    50/  235 batches | Accuracy    0.982\n"
      ]
     },
     "metadata": {},
     "output_type": "display_data"
    },
    {
     "data": {
      "text/plain": [
       "| Epoch  37 |   100/  235 batches | Accuracy    0.984\n"
      ]
     },
     "metadata": {},
     "output_type": "display_data"
    },
    {
     "data": {
      "text/plain": [
       "| Epoch  37 |   150/  235 batches | Accuracy    0.981\n"
      ]
     },
     "metadata": {},
     "output_type": "display_data"
    },
    {
     "data": {
      "text/plain": [
       "| Epoch  37 |   200/  235 batches | Accuracy    0.981\n"
      ]
     },
     "metadata": {},
     "output_type": "display_data"
    },
    {
     "data": {
      "text/plain": [
       "-----------------------------------------------------------\n",
       "| End of epoch  37 | Time: 144.94s | Train Accuracy    0.979 | Train Loss    0.071 | Valid Accuracy    0.818 | Valid Loss    0.886 \n",
       "-----------------------------------------------------------\n"
      ]
     },
     "metadata": {},
     "output_type": "display_data"
    },
    {
     "data": {
      "text/plain": [
       "| Epoch  38 |    50/  235 batches | Accuracy    0.981\n"
      ]
     },
     "metadata": {},
     "output_type": "display_data"
    },
    {
     "data": {
      "text/plain": [
       "| Epoch  38 |   100/  235 batches | Accuracy    0.985\n"
      ]
     },
     "metadata": {},
     "output_type": "display_data"
    },
    {
     "data": {
      "text/plain": [
       "| Epoch  38 |   150/  235 batches | Accuracy    0.985\n"
      ]
     },
     "metadata": {},
     "output_type": "display_data"
    },
    {
     "data": {
      "text/plain": [
       "| Epoch  38 |   200/  235 batches | Accuracy    0.983\n"
      ]
     },
     "metadata": {},
     "output_type": "display_data"
    },
    {
     "data": {
      "text/plain": [
       "-----------------------------------------------------------\n",
       "| End of epoch  38 | Time: 155.77s | Train Accuracy    0.981 | Train Loss    0.067 | Valid Accuracy    0.820 | Valid Loss    0.900 \n",
       "-----------------------------------------------------------\n"
      ]
     },
     "metadata": {},
     "output_type": "display_data"
    },
    {
     "data": {
      "text/plain": [
       "| Epoch  39 |    50/  235 batches | Accuracy    0.987\n"
      ]
     },
     "metadata": {},
     "output_type": "display_data"
    },
    {
     "data": {
      "text/plain": [
       "| Epoch  39 |   100/  235 batches | Accuracy    0.981\n"
      ]
     },
     "metadata": {},
     "output_type": "display_data"
    },
    {
     "data": {
      "text/plain": [
       "| Epoch  39 |   150/  235 batches | Accuracy    0.984\n"
      ]
     },
     "metadata": {},
     "output_type": "display_data"
    },
    {
     "data": {
      "text/plain": [
       "| Epoch  39 |   200/  235 batches | Accuracy    0.983\n"
      ]
     },
     "metadata": {},
     "output_type": "display_data"
    },
    {
     "data": {
      "text/plain": [
       "-----------------------------------------------------------\n",
       "| End of epoch  39 | Time: 157.04s | Train Accuracy    0.982 | Train Loss    0.063 | Valid Accuracy    0.820 | Valid Loss    0.984 \n",
       "-----------------------------------------------------------\n"
      ]
     },
     "metadata": {},
     "output_type": "display_data"
    },
    {
     "data": {
      "text/plain": [
       "| Epoch  40 |    50/  235 batches | Accuracy    0.987\n"
      ]
     },
     "metadata": {},
     "output_type": "display_data"
    },
    {
     "data": {
      "text/plain": [
       "| Epoch  40 |   100/  235 batches | Accuracy    0.984\n"
      ]
     },
     "metadata": {},
     "output_type": "display_data"
    },
    {
     "data": {
      "text/plain": [
       "| Epoch  40 |   150/  235 batches | Accuracy    0.988\n"
      ]
     },
     "metadata": {},
     "output_type": "display_data"
    },
    {
     "data": {
      "text/plain": [
       "| Epoch  40 |   200/  235 batches | Accuracy    0.985\n"
      ]
     },
     "metadata": {},
     "output_type": "display_data"
    },
    {
     "data": {
      "text/plain": [
       "-----------------------------------------------------------\n",
       "| End of epoch  40 | Time: 157.46s | Train Accuracy    0.986 | Train Loss    0.056 | Valid Accuracy    0.821 | Valid Loss    1.039 \n",
       "-----------------------------------------------------------\n"
      ]
     },
     "metadata": {},
     "output_type": "display_data"
    },
    {
     "data": {
      "text/plain": [
       "| Epoch  41 |    50/  235 batches | Accuracy    0.989\n"
      ]
     },
     "metadata": {},
     "output_type": "display_data"
    },
    {
     "data": {
      "text/plain": [
       "| Epoch  41 |   100/  235 batches | Accuracy    0.988\n"
      ]
     },
     "metadata": {},
     "output_type": "display_data"
    },
    {
     "data": {
      "text/plain": [
       "| Epoch  41 |   150/  235 batches | Accuracy    0.988\n"
      ]
     },
     "metadata": {},
     "output_type": "display_data"
    },
    {
     "data": {
      "text/plain": [
       "| Epoch  41 |   200/  235 batches | Accuracy    0.986\n"
      ]
     },
     "metadata": {},
     "output_type": "display_data"
    },
    {
     "data": {
      "text/plain": [
       "-----------------------------------------------------------\n",
       "| End of epoch  41 | Time: 157.91s | Train Accuracy    0.989 | Train Loss    0.051 | Valid Accuracy    0.819 | Valid Loss    1.094 \n",
       "-----------------------------------------------------------\n"
      ]
     },
     "metadata": {},
     "output_type": "display_data"
    },
    {
     "data": {
      "text/plain": [
       "| Epoch  42 |    50/  235 batches | Accuracy    0.989\n"
      ]
     },
     "metadata": {},
     "output_type": "display_data"
    },
    {
     "data": {
      "text/plain": [
       "| Epoch  42 |   100/  235 batches | Accuracy    0.990\n"
      ]
     },
     "metadata": {},
     "output_type": "display_data"
    },
    {
     "data": {
      "text/plain": [
       "| Epoch  42 |   150/  235 batches | Accuracy    0.989\n"
      ]
     },
     "metadata": {},
     "output_type": "display_data"
    },
    {
     "data": {
      "text/plain": [
       "| Epoch  42 |   200/  235 batches | Accuracy    0.986\n"
      ]
     },
     "metadata": {},
     "output_type": "display_data"
    },
    {
     "data": {
      "text/plain": [
       "-----------------------------------------------------------\n",
       "| End of epoch  42 | Time: 158.51s | Train Accuracy    0.986 | Train Loss    0.050 | Valid Accuracy    0.813 | Valid Loss    1.197 \n",
       "-----------------------------------------------------------\n"
      ]
     },
     "metadata": {},
     "output_type": "display_data"
    },
    {
     "data": {
      "text/plain": [
       "| Epoch  43 |    50/  235 batches | Accuracy    0.992\n"
      ]
     },
     "metadata": {},
     "output_type": "display_data"
    },
    {
     "data": {
      "text/plain": [
       "| Epoch  43 |   100/  235 batches | Accuracy    0.988\n"
      ]
     },
     "metadata": {},
     "output_type": "display_data"
    },
    {
     "data": {
      "text/plain": [
       "| Epoch  43 |   150/  235 batches | Accuracy    0.989\n"
      ]
     },
     "metadata": {},
     "output_type": "display_data"
    },
    {
     "data": {
      "text/plain": [
       "| Epoch  43 |   200/  235 batches | Accuracy    0.988\n"
      ]
     },
     "metadata": {},
     "output_type": "display_data"
    },
    {
     "data": {
      "text/plain": [
       "-----------------------------------------------------------\n",
       "| End of epoch  43 | Time: 156.26s | Train Accuracy    0.992 | Train Loss    0.045 | Valid Accuracy    0.816 | Valid Loss    1.248 \n",
       "-----------------------------------------------------------\n"
      ]
     },
     "metadata": {},
     "output_type": "display_data"
    },
    {
     "data": {
      "text/plain": [
       "| Epoch  44 |    50/  235 batches | Accuracy    0.992\n"
      ]
     },
     "metadata": {},
     "output_type": "display_data"
    },
    {
     "data": {
      "text/plain": [
       "| Epoch  44 |   100/  235 batches | Accuracy    0.992\n"
      ]
     },
     "metadata": {},
     "output_type": "display_data"
    },
    {
     "data": {
      "text/plain": [
       "| Epoch  44 |   150/  235 batches | Accuracy    0.991\n"
      ]
     },
     "metadata": {},
     "output_type": "display_data"
    },
    {
     "data": {
      "text/plain": [
       "| Epoch  44 |   200/  235 batches | Accuracy    0.986\n"
      ]
     },
     "metadata": {},
     "output_type": "display_data"
    },
    {
     "data": {
      "text/plain": [
       "-----------------------------------------------------------\n",
       "| End of epoch  44 | Time: 156.87s | Train Accuracy    0.992 | Train Loss    0.042 | Valid Accuracy    0.819 | Valid Loss    1.288 \n",
       "-----------------------------------------------------------\n"
      ]
     },
     "metadata": {},
     "output_type": "display_data"
    },
    {
     "data": {
      "text/plain": [
       "| Epoch  45 |    50/  235 batches | Accuracy    0.991\n"
      ]
     },
     "metadata": {},
     "output_type": "display_data"
    },
    {
     "data": {
      "text/plain": [
       "| Epoch  45 |   100/  235 batches | Accuracy    0.993\n"
      ]
     },
     "metadata": {},
     "output_type": "display_data"
    },
    {
     "data": {
      "text/plain": [
       "| Epoch  45 |   150/  235 batches | Accuracy    0.989\n"
      ]
     },
     "metadata": {},
     "output_type": "display_data"
    },
    {
     "data": {
      "text/plain": [
       "| Epoch  45 |   200/  235 batches | Accuracy    0.989\n"
      ]
     },
     "metadata": {},
     "output_type": "display_data"
    },
    {
     "data": {
      "text/plain": [
       "-----------------------------------------------------------\n",
       "| End of epoch  45 | Time: 155.96s | Train Accuracy    0.991 | Train Loss    0.040 | Valid Accuracy    0.819 | Valid Loss    1.317 \n",
       "-----------------------------------------------------------\n"
      ]
     },
     "metadata": {},
     "output_type": "display_data"
    },
    {
     "data": {
      "text/plain": [
       "| Epoch  46 |    50/  235 batches | Accuracy    0.993\n"
      ]
     },
     "metadata": {},
     "output_type": "display_data"
    },
    {
     "data": {
      "text/plain": [
       "| Epoch  46 |   100/  235 batches | Accuracy    0.991\n"
      ]
     },
     "metadata": {},
     "output_type": "display_data"
    },
    {
     "data": {
      "text/plain": [
       "| Epoch  46 |   150/  235 batches | Accuracy    0.990\n"
      ]
     },
     "metadata": {},
     "output_type": "display_data"
    },
    {
     "data": {
      "text/plain": [
       "| Epoch  46 |   200/  235 batches | Accuracy    0.992\n"
      ]
     },
     "metadata": {},
     "output_type": "display_data"
    },
    {
     "data": {
      "text/plain": [
       "-----------------------------------------------------------\n",
       "| End of epoch  46 | Time: 154.09s | Train Accuracy    0.991 | Train Loss    0.039 | Valid Accuracy    0.819 | Valid Loss    1.320 \n",
       "-----------------------------------------------------------\n"
      ]
     },
     "metadata": {},
     "output_type": "display_data"
    },
    {
     "data": {
      "text/plain": [
       "| Epoch  47 |    50/  235 batches | Accuracy    0.991\n"
      ]
     },
     "metadata": {},
     "output_type": "display_data"
    },
    {
     "data": {
      "text/plain": [
       "| Epoch  47 |   100/  235 batches | Accuracy    0.991\n"
      ]
     },
     "metadata": {},
     "output_type": "display_data"
    },
    {
     "data": {
      "text/plain": [
       "| Epoch  47 |   150/  235 batches | Accuracy    0.991\n"
      ]
     },
     "metadata": {},
     "output_type": "display_data"
    },
    {
     "data": {
      "text/plain": [
       "| Epoch  47 |   200/  235 batches | Accuracy    0.992\n"
      ]
     },
     "metadata": {},
     "output_type": "display_data"
    },
    {
     "data": {
      "text/plain": [
       "-----------------------------------------------------------\n",
       "| End of epoch  47 | Time: 151.26s | Train Accuracy    0.992 | Train Loss    0.037 | Valid Accuracy    0.816 | Valid Loss    1.526 \n",
       "-----------------------------------------------------------\n"
      ]
     },
     "metadata": {},
     "output_type": "display_data"
    },
    {
     "data": {
      "text/plain": [
       "| Epoch  48 |    50/  235 batches | Accuracy    0.990\n"
      ]
     },
     "metadata": {},
     "output_type": "display_data"
    },
    {
     "data": {
      "text/plain": [
       "| Epoch  48 |   100/  235 batches | Accuracy    0.993\n"
      ]
     },
     "metadata": {},
     "output_type": "display_data"
    },
    {
     "data": {
      "text/plain": [
       "| Epoch  48 |   150/  235 batches | Accuracy    0.992\n"
      ]
     },
     "metadata": {},
     "output_type": "display_data"
    },
    {
     "data": {
      "text/plain": [
       "| Epoch  48 |   200/  235 batches | Accuracy    0.992\n"
      ]
     },
     "metadata": {},
     "output_type": "display_data"
    },
    {
     "data": {
      "text/plain": [
       "-----------------------------------------------------------\n",
       "| End of epoch  48 | Time: 152.25s | Train Accuracy    0.991 | Train Loss    0.036 | Valid Accuracy    0.818 | Valid Loss    1.392 \n",
       "-----------------------------------------------------------\n"
      ]
     },
     "metadata": {},
     "output_type": "display_data"
    },
    {
     "data": {
      "text/plain": [
       "| Epoch  49 |    50/  235 batches | Accuracy    0.993\n"
      ]
     },
     "metadata": {},
     "output_type": "display_data"
    },
    {
     "data": {
      "text/plain": [
       "| Epoch  49 |   100/  235 batches | Accuracy    0.989\n"
      ]
     },
     "metadata": {},
     "output_type": "display_data"
    },
    {
     "data": {
      "text/plain": [
       "| Epoch  49 |   150/  235 batches | Accuracy    0.990\n"
      ]
     },
     "metadata": {},
     "output_type": "display_data"
    },
    {
     "data": {
      "text/plain": [
       "| Epoch  49 |   200/  235 batches | Accuracy    0.991\n"
      ]
     },
     "metadata": {},
     "output_type": "display_data"
    },
    {
     "data": {
      "text/plain": [
       "-----------------------------------------------------------\n",
       "| End of epoch  49 | Time: 149.03s | Train Accuracy    0.992 | Train Loss    0.038 | Valid Accuracy    0.819 | Valid Loss    1.455 \n",
       "-----------------------------------------------------------\n"
      ]
     },
     "metadata": {},
     "output_type": "display_data"
    },
    {
     "data": {
      "text/plain": [
       "| Epoch  50 |    50/  235 batches | Accuracy    0.994\n"
      ]
     },
     "metadata": {},
     "output_type": "display_data"
    },
    {
     "data": {
      "text/plain": [
       "| Epoch  50 |   100/  235 batches | Accuracy    0.990\n"
      ]
     },
     "metadata": {},
     "output_type": "display_data"
    },
    {
     "data": {
      "text/plain": [
       "| Epoch  50 |   150/  235 batches | Accuracy    0.991\n"
      ]
     },
     "metadata": {},
     "output_type": "display_data"
    },
    {
     "data": {
      "text/plain": [
       "| Epoch  50 |   200/  235 batches | Accuracy    0.992\n"
      ]
     },
     "metadata": {},
     "output_type": "display_data"
    },
    {
     "data": {
      "text/plain": [
       "-----------------------------------------------------------\n",
       "| End of epoch  50 | Time: 144.26s | Train Accuracy    0.992 | Train Loss    0.034 | Valid Accuracy    0.813 | Valid Loss    1.616 \n",
       "-----------------------------------------------------------\n"
      ]
     },
     "metadata": {},
     "output_type": "display_data"
    }
   ],
   "source": [
    "vocab_size = 10000\n",
    "max_length = 100\n",
    "embed_dim = 200\n",
    "num_layers = 2\n",
    "num_heads = 4\n",
    "ff_dim = 128\n",
    "dropout = 0.1\n",
    "\n",
    "device = 'cuda' if torch.cuda.is_available() else 'cpu'\n",
    "\n",
    "model = TransformerEncoderCls(\n",
    "    vocab_size,\n",
    "    max_length,\n",
    "    num_layers,\n",
    "    embed_dim,\n",
    "    num_heads,\n",
    "    ff_dim,\n",
    "    dropout,\n",
    "    device\n",
    ").to(device)\n",
    "\n",
    "criterion = nn.CrossEntropyLoss()\n",
    "optimizer = optim.Adam(model.parameters(), lr=0.00005)\n",
    "\n",
    "num_epochs = 50\n",
    "save_model = './model'\n",
    "os.makedirs(save_model, exist_ok=True)\n",
    "model_name = 'model'\n",
    "\n",
    "model, metrics = train(\n",
    "    model,\n",
    "    model_name,\n",
    "    save_model,\n",
    "    optimizer,\n",
    "    criterion,\n",
    "    train_dataloader,\n",
    "    valid_dataloader,\n",
    "    num_epochs,\n",
    "    device\n",
    ")"
   ]
  },
  {
   "cell_type": "code",
   "execution_count": 15,
   "id": "f6bece2b",
   "metadata": {},
   "outputs": [
    {
     "data": {
      "image/png": "[encoded data removed]",
      "text/plain": [
       "<Figure size 1200x600 with 2 Axes>"
      ]
     },
     "metadata": {},
     "output_type": "display_data"
    }
   ],
   "source": [
    "plot_result(num_epochs, metrics['train_accuracy'], metrics['valid_accuracy'], metrics['train_loss'], metrics['valid_loss'])"
   ]
  }
 ],
 "metadata": {
  "kernelspec": {
   "display_name": "Python 3",
   "language": "python",
   "name": "python3"
  },
  "language_info": {
   "codemirror_mode": {
    "name": "ipython"
   },
   "file_extension": ".py",
   "mimetype": "text/x-python",
   "name": "python",
   "nbconvert_exporter": "python",
   "pygments_lexer": "ipython3"
  }
 },
 "nbformat": 4,
 "nbformat_minor": 5
}
