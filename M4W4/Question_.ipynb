{
 "cells": [
  {
   "cell_type": "code",
   "execution_count": 1,
   "id": "fd99268a-9956-41cc-9543-60af5aca039e",
   "metadata": {},
   "outputs": [],
   "source": [
    "import numpy as np\n",
    "import pandas as pd"
   ]
  },
  {
   "cell_type": "code",
   "execution_count": 2,
   "id": "6220b50a-2f15-42be-83d4-f5f556808db9",
   "metadata": {},
   "outputs": [],
   "source": [
    "class CustomLinearRegression:\n",
    "    def __init__(self, X_data, y_target, learning_rate=0.01, num_epochs=10000):\n",
    "        self.num_samples = X_data.shape[0]\n",
    "        self.X_data = np.c_[np.ones((self.num_samples, 1)), X_data]\n",
    "        self.y_target = y_target\n",
    "        self.learning_rate = learning_rate\n",
    "        self.num_epochs = num_epochs\n",
    "        \n",
    "        # Initial weights\n",
    "        self.theta = np.random.randn(self.X_data.shape[1] , 1)\n",
    "        self.losses = []\n",
    "\n",
    "    def compute_loss(self, y_pred, y_target):\n",
    "        #*** Your Code Here ***\n",
    "        loss = sum(1/num_samples * (y_pred - y_target)**2)\n",
    "        return loss\n",
    "\n",
    "    def predict(self, X_data):\n",
    "        #*** Your Code Here ***\n",
    "        y_pred = X_data.dot(self.theta)\n",
    "        return y_pred\n",
    "    \n",
    "    def fit(self):\n",
    "        for epoch in range(self.num_epochs):\n",
    "        \n",
    "            #*** Your Code Here ***\n",
    "            # predict\n",
    "            y_pred = self.predict(self.X_data)\n",
    "    \n",
    "            # compute loss\n",
    "            loss = self.compute_loss(y_pred, self.y_target)\n",
    "            self.losses.append(loss)\n",
    "    \n",
    "            # compute gradient\n",
    "            loss_grd = 2 * (y_pred - self.y_target) / self.num_sampples\n",
    "            gradients = self.X_data.T.dot(loss_grd)\n",
    "    \n",
    "            # update weight\n",
    "            self.theta -= self.learning_rate*gradients\n",
    "            \n",
    "            if (epoch % 50) == 0:\n",
    "                print (f'Epoch : {epoch} - Loss: {loss}')\n",
    "        \n",
    "        return {\n",
    "         'loss': sum(self.losses) / len(self.losses),\n",
    "         'weight': self.theta\n",
    "        }"
   ]
  },
  {
   "cell_type": "code",
   "execution_count": 3,
   "id": "69fe0fc7-d94b-46c5-b9f1-dc4bcb0b39b9",
   "metadata": {},
   "outputs": [],
   "source": [
    "def r2score(y_pred, y):\n",
    "    rss = np.sum((y_pred - y) ** 2)\n",
    "    tss = np.sum((y - y.mean()) ** 2)\n",
    "    r2 = 1 - (rss / tss)\n",
    "    return r2"
   ]
  },
  {
   "cell_type": "code",
   "execution_count": 4,
   "id": "acdb0c6a-3522-4e88-87b6-cb56bb452c3c",
   "metadata": {},
   "outputs": [
    {
     "data": {
      "text/plain": [
       "np.float64(1.0)"
      ]
     },
     "execution_count": 4,
     "metadata": {},
     "output_type": "execute_result"
    }
   ],
   "source": [
    "# Case 1\n",
    "y_pred = np.array([1, 2, 3, 4, 5])\n",
    "y = np.array([1, 2, 3, 4, 5])\n",
    "r2score(y_pred, y)"
   ]
  },
  {
   "cell_type": "code",
   "execution_count": 5,
   "id": "bae331af-9e83-4bd4-98c4-1c82713000a8",
   "metadata": {},
   "outputs": [
    {
     "data": {
      "text/plain": [
       "np.float64(-2.235294117647059)"
      ]
     },
     "execution_count": 5,
     "metadata": {},
     "output_type": "execute_result"
    }
   ],
   "source": [
    "# Case 2\n",
    "y_pred = np.array([1, 2, 3, 4, 5])\n",
    "y = np.array([3, 5, 5, 2, 4])\n",
    "r2score(y_pred, y) "
   ]
  },
  {
   "cell_type": "code",
   "execution_count": 6,
   "id": "ce63ead4-2033-406f-8f5c-694c245b2aaf",
   "metadata": {},
   "outputs": [],
   "source": [
    "def create_polynomial_features(X, degree =2):\n",
    "    \"\"\" Creates the polynomial features\n",
    "    Args:\n",
    "    X: A array tensor for the data .\n",
    "    degree: A integer for the degree of\n",
    "    the generated polynomial function.\n",
    "    \"\"\"\n",
    "    #** Your code here **\n",
    "    X_new = X\n",
    "    for d in range (2 , degree +1) :\n",
    "        X_new = np.c_[X_new, np.power(X, d)]\n",
    "    return X_new\n",
    "\n",
    "X = np.array([[1], [2], [3]])"
   ]
  },
  {
   "cell_type": "code",
   "execution_count": 7,
   "id": "b8a57f14-7035-4180-afbf-4389c6e05377",
   "metadata": {},
   "outputs": [],
   "source": [
    "def create_polynomial_features(X, degree=2):\n",
    "    \"\"\" Creates the polynomial features\n",
    "    Args:\n",
    "    X: A array for the data .\n",
    "    degree : A integer for the degree of\n",
    "    the generated polynomial function.\n",
    "    \"\"\"\n",
    "    X_mem = []\n",
    "    for X_sub in X.T:\n",
    "        X_sub = X_sub.T\n",
    "        X_new = X_sub\n",
    "        for d in range(2, degree+1):\n",
    "            X_new = np.c_[X_sub, np.power(X_sub, d)]\n",
    "            X_mem.extend(X_new.T)\n",
    "    return np.c_[X_mem].T"
   ]
  },
  {
   "cell_type": "code",
   "execution_count": 8,
   "id": "c8e5386f-7f7d-46b2-a078-cff16ff0461e",
   "metadata": {},
   "outputs": [],
   "source": [
    "df = pd.read_csv('SalesPrediction.csv', delimiter=',')"
   ]
  },
  {
   "cell_type": "code",
   "execution_count": 9,
   "id": "6744dddf-ddab-49bd-b54b-e9aa605e984e",
   "metadata": {},
   "outputs": [],
   "source": [
    "df = pd.get_dummies(df)"
   ]
  },
  {
   "cell_type": "code",
   "execution_count": 10,
   "id": "e52866ed-ce37-4029-8881-770750b53c65",
   "metadata": {},
   "outputs": [],
   "source": [
    "# Handle Null values\n",
    "df = df.fillna(df.mean())\n",
    "# Get features\n",
    "X = df[['TV', 'Radio', 'Social Media', 'Influencer_Macro', 'Influencer_Mega', 'Influencer_Micro', 'Influencer_Nano']]\n",
    "y = df [['Sales']]\n",
    "# Train Test Split\n",
    "from sklearn.model_selection import train_test_split\n",
    "X_train, X_test, y_train, y_test = train_test_split(X, y, test_size=0.33, random_state=0)"
   ]
  },
  {
   "cell_type": "code",
   "execution_count": 11,
   "id": "eeaac71a-4075-4c1d-838d-88183f47e8e4",
   "metadata": {},
   "outputs": [
    {
     "data": {
      "text/plain": [
       "np.float64(54.173577723283785)"
      ]
     },
     "execution_count": 11,
     "metadata": {},
     "output_type": "execute_result"
    }
   ],
   "source": [
    "from sklearn.preprocessing import StandardScaler\n",
    "scaler = StandardScaler()\n",
    "X_train_processed = scaler.fit_transform(X_train)\n",
    "X_test_processed = scaler.transform(X_test)\n",
    "scaler.mean_[0]"
   ]
  },
  {
   "cell_type": "code",
   "execution_count": 12,
   "id": "60e6992e-841d-4499-a95a-5146509fad35",
   "metadata": {},
   "outputs": [],
   "source": [
    "from sklearn.preprocessing import PolynomialFeatures\n",
    "poly_features = PolynomialFeatures(degree =2)\n",
    "X_train_poly = poly_features.fit_transform(X_train_processed)\n",
    "X_test_poly = poly_features.transform(X_test_processed)"
   ]
  },
  {
   "cell_type": "code",
   "execution_count": 13,
   "id": "42758aff-9e74-475c-bd15-d20ba44e621d",
   "metadata": {},
   "outputs": [
    {
     "data": {
      "text/plain": [
       "0.9951795734157376"
      ]
     },
     "execution_count": 13,
     "metadata": {},
     "output_type": "execute_result"
    }
   ],
   "source": [
    "from sklearn.linear_model import LinearRegression\n",
    "from sklearn.metrics import r2_score\n",
    "poly_model = LinearRegression()\n",
    "poly_model.fit(X_train_poly, y_train)\n",
    "preds = poly_model.predict(X_test_poly)\n",
    "r2_score(y_test, preds)"
   ]
  }
 ],
 "metadata": {
  "kernelspec": {
   "display_name": "Python (AIO2024)",
   "language": "python",
   "name": "aio2024"
  },
  "language_info": {
   "codemirror_mode": {
    "name": "ipython",
    "version": 3
   },
   "file_extension": ".py",
   "mimetype": "text/x-python",
   "name": "python",
   "nbconvert_exporter": "python",
   "pygments_lexer": "ipython3",
   "version": "3.13.0"
  }
 },
 "nbformat": 4,
 "nbformat_minor": 5
}
