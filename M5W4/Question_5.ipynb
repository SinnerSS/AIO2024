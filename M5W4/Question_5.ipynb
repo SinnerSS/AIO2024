{
 "cells": [
  {
   "cell_type": "code",
   "execution_count": null,
   "id": "e175eeac",
   "metadata": {
    "colab": {
     "base_uri": "https://localhost:8080/"
    },
    "executionInfo": {
     "elapsed": 6949,
     "status": "ok",
     "timestamp": 1670136716546,
     "user": {
      "displayName": "Khoa Nguyen KT",
      "userId": "08245901144578708381"
     },
     "user_tz": -420
    },
    "id": "e175eeac",
    "outputId": "2747e68b-9370-4e82-bd6b-61192575e30e"
   },
   "outputs": [],
   "source": [
    "import torch\n",
    "from torch import nn\n",
    "from adopt import ADOPT\n",
    "import torch.optim as optim\n",
    "from torch.utils.data import Dataset, DataLoader\n",
    "import torchvision\n",
    "from torchvision.datasets import FashionMNIST\n",
    "import torchvision.transforms as transforms\n",
    "import numpy as np\n",
    "import matplotlib.pyplot as plt"
   ]
  },
  {
   "cell_type": "code",
   "execution_count": null,
   "id": "cd6d8ed9-194c-4334-bd99-625b3d5b4a00",
   "metadata": {
    "id": "cd6d8ed9-194c-4334-bd99-625b3d5b4a00"
   },
   "outputs": [],
   "source": [
    "device = torch.device('cuda:0' if torch.cuda.is_available() else 'cpu')\n",
    "torch.manual_seed(42)\n",
    "batch_size = 512\n",
    "num_epochs = 300\n",
    "lr = 0.01"
   ]
  },
  {
   "cell_type": "code",
   "execution_count": null,
   "id": "c99e7832-3603-48e2-aafa-45194af43501",
   "metadata": {
    "id": "c99e7832-3603-48e2-aafa-45194af43501"
   },
   "outputs": [],
   "source": [
    "train_dataset = FashionMNIST(root='./data', train=True, download=True, transform=transforms.ToTensor())\n",
    "train_loader = DataLoader(train_dataset, batch_size, shuffle=True)\n",
    "test_dataset = FashionMNIST(root='./data', train=False, download=True, transform=transforms.ToTensor())\n",
    "test_loader = DataLoader(test_dataset, batch_size)"
   ]
  },
  {
   "cell_type": "code",
   "execution_count": null,
   "id": "8aabf29a",
   "metadata": {
    "id": "8aabf29a"
   },
   "outputs": [],
   "source": [
    "class MLP(nn.Module):\n",
    "    def __init__(self, input_dims, hidden_dims, output_dims):\n",
    "        super(MLP, self).__init__()\n",
    "        self.layer1 = nn.Linear(input_dims, hidden_dims)\n",
    "        self.layer2 = nn.Linear(hidden_dims, hidden_dims)\n",
    "        self.layer3 = nn.Linear(hidden_dims, hidden_dims)\n",
    "        self.layer4 = nn.Linear(hidden_dims, hidden_dims)\n",
    "        self.layer5 = nn.Linear(hidden_dims, hidden_dims)\n",
    "        self.output = nn.Linear(hidden_dims, output_dims)\n",
    "        self.sigmoid = nn.Sigmoid()\n",
    "\n",
    "    def forward(self, x):\n",
    "        x = nn.Flatten()(x)\n",
    "        x = self.layer1(x)\n",
    "        x = self.sigmoid(x)\n",
    "        x = self.layer2(x)\n",
    "        x = self.sigmoid(x)\n",
    "        x = self.layer3(x)\n",
    "        x = self.sigmoid(x)\n",
    "        x = self.layer4(x)\n",
    "        x = self.sigmoid(x)\n",
    "        x = self.layer5(x)\n",
    "        x = self.sigmoid(x)\n",
    "        out = self.output(x)\n",
    "        return out"
   ]
  },
  {
   "cell_type": "code",
   "execution_count": null,
   "id": "c46b65da",
   "metadata": {
    "colab": {
     "base_uri": "https://localhost:8080/"
    },
    "executionInfo": {
     "elapsed": 152392,
     "status": "ok",
     "timestamp": 1670136868933,
     "user": {
      "displayName": "Khoa Nguyen KT",
      "userId": "08245901144578708381"
     },
     "user_tz": -420
    },
    "id": "c46b65da",
    "outputId": "326cf668-e8e6-4cfe-94d6-12d58670e671"
   },
   "outputs": [],
   "source": [
    "def train_model(model, optimizer):\n",
    "    criterion = nn.CrossEntropyLoss()\n",
    "    train_losses = []\n",
    "    train_acc = []\n",
    "    val_losses = []\n",
    "    val_acc = []\n",
    "    for epoch in range(num_epochs):\n",
    "        model.train()\n",
    "        t_loss = 0\n",
    "        t_acc = 0\n",
    "        cnt = 0\n",
    "        for X, y in train_loader:\n",
    "            X, y = X.to(device), y.to(device)\n",
    "            optimizer.zero_grad()\n",
    "            outputs = model(X)\n",
    "            loss = criterion(outputs, y)\n",
    "            loss.backward()\n",
    "            optimizer.step()\n",
    "            t_loss += loss.item()\n",
    "            t_acc += (torch.argmax(outputs, 1) == y).sum().item()\n",
    "            cnt += len(y)\n",
    "        t_loss /= len(train_loader)\n",
    "        train_losses.append(t_loss)\n",
    "        t_acc /= cnt\n",
    "        train_acc.append(t_acc)\n",
    "    \n",
    "        model.eval()\n",
    "        v_loss = 0\n",
    "        v_acc = 0\n",
    "        cnt = 0\n",
    "        with torch.no_grad():\n",
    "            for X, y in test_loader:\n",
    "                X, y = X.to(device), y.to(device)\n",
    "                outputs = model(X)\n",
    "                loss = criterion(outputs, y)\n",
    "                v_loss += loss.item()\n",
    "                v_acc += (torch.argmax(outputs, 1)==y).sum().item()\n",
    "                cnt += len(y)\n",
    "        v_loss /= len(test_loader)\n",
    "        val_losses.append(v_loss)\n",
    "        v_acc /= cnt\n",
    "        val_acc.append(v_acc)\n",
    "        \n",
    "        if (epoch+1) % 50 == 0:\n",
    "            print(f\"Epoch {epoch+1}/{num_epochs}, Train_Loss: {t_loss:.4f}, Train_Acc: {t_acc:.4f}, Validation Loss: {v_loss:.4f}, Val_Acc: {v_acc:.4f}\")\n",
    "            \n",
    "    fig, axes = plt.subplots(1, 2, figsize=(12, 8))\n",
    "    fig.suptitle('Training and Validation Metrics Over Epochs', fontsize=16)\n",
    "        \n",
    "    axes[0].plot(train_losses, label='Training Loss', color='blue')\n",
    "    axes[0].plot(val_losses, label='Validation Loss', color='orange')\n",
    "    axes[0].set_title('Training Loss', fontsize=14)\n",
    "    axes[0].set_xlabel('Epochs', fontsize=12)\n",
    "    axes[0].set_ylabel('Loss', fontsize=12)\n",
    "    axes[0].legend(fontsize=12)\n",
    "    axes[0].grid(True)\n",
    "\n",
    "    axes[1].plot(train_acc, label='Training Acc', color='blue')\n",
    "    axes[1].plot(val_acc, label='Validation Acc', color='orange')\n",
    "    axes[1].set_title('Validation Loss', fontsize=14)\n",
    "    axes[1].set_xlabel('Epochs', fontsize=12)\n",
    "    axes[1].set_ylabel('Loss', fontsize=12)\n",
    "    axes[1].legend(fontsize=12)\n",
    "    axes[1].grid(True)"
   ]
  },
  {
   "cell_type": "code",
   "execution_count": null,
   "id": "8c6459b6-d042-4117-8ee1-e388a8b708f0",
   "metadata": {
    "id": "8c6459b6-d042-4117-8ee1-e388a8b708f0"
   },
   "outputs": [],
   "source": [
    "model = MLP(input_dims=784, hidden_dims=128, output_dims=10).to(device)\n",
    "optimizer = optim.SGD(model.parameters(), lr=lr)\n",
    "\n",
    "train_model(model, optimizer)"
   ]
  },
  {
   "cell_type": "code",
   "execution_count": null,
   "id": "22177108-633f-4b32-b7c9-84e39216013c",
   "metadata": {},
   "outputs": [],
   "source": [
    "model = MLP(input_dims=784, hidden_dims=128, output_dims=10).to(device)\n",
    "optimizer = optim.SGD(model.parameters(), lr=lr, momentum=0.9)\n",
    "\n",
    "train_model(model, optimizer)"
   ]
  },
  {
   "cell_type": "code",
   "execution_count": null,
   "id": "9668f3db-7c6e-421b-b14d-a3eb4513cbc5",
   "metadata": {},
   "outputs": [],
   "source": [
    "model = MLP(input_dims=784, hidden_dims=128, output_dims=10).to(device)\n",
    "optimizer = optim.RMSprop(model.parameters(), lr=lr)\n",
    "\n",
    "train_model(model, optimizer)"
   ]
  },
  {
   "cell_type": "code",
   "execution_count": null,
   "id": "426c3892-8d65-4ed7-9a55-a114418bc8ea",
   "metadata": {},
   "outputs": [],
   "source": [
    "model = MLP(input_dims=784, hidden_dims=128, output_dims=10).to(device)\n",
    "optimizer = optim.Adam(model.parameters(), lr=lr)\n",
    "\n",
    "train_model(model, optimizer)"
   ]
  },
  {
   "cell_type": "code",
   "execution_count": null,
   "id": "f35b2e10-1372-40ad-98b9-56ac93a27723",
   "metadata": {},
   "outputs": [],
   "source": [
    "model = MLP(input_dims=784, hidden_dims=128, output_dims=10).to(device)\n",
    "optimizer = ADOPT(model.parameters(), lr=lr)\n",
    "\n",
    "train_model(model, optimizer)"
   ]
  }
 ],
 "metadata": {
  "accelerator": "GPU",
  "colab": {
   "provenance": [],
   "toc_visible": true
  },
  "kernelspec": {
   "display_name": "Python (AIO2024)",
   "language": "python",
   "name": "aio2024"
  },
  "language_info": {
   "codemirror_mode": {
    "name": "ipython",
    "version": 3
   },
   "file_extension": ".py",
   "mimetype": "text/x-python",
   "name": "python",
   "nbconvert_exporter": "python",
   "pygments_lexer": "ipython3",
   "version": "3.12.7"
  },
  "toc": {
   "base_numbering": 1,
   "nav_menu": {},
   "number_sections": true,
   "sideBar": true,
   "skip_h1_title": false,
   "title_cell": "Table of Contents",
   "title_sidebar": "Contents",
   "toc_cell": false,
   "toc_position": {},
   "toc_section_display": true,
   "toc_window_display": false
  }
 },
 "nbformat": 4,
 "nbformat_minor": 5
}
