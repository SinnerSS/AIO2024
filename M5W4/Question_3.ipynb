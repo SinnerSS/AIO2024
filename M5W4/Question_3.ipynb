{
 "cells": [
  {
   "cell_type": "code",
   "execution_count": 1,
   "metadata": {
    "id": "_IAVg99F9N0y"
   },
   "outputs": [],
   "source": [
    "import math\n",
    "import numpy as np"
   ]
  },
  {
   "cell_type": "code",
   "execution_count": 2,
   "metadata": {
    "id": "uai1hzbWuNaK"
   },
   "outputs": [],
   "source": [
    "def df_w(w):\n",
    "    \"\"\"\n",
    "    Thực hiện tính gradient của dw1 và dw2\n",
    "    Arguments:\n",
    "    W -- np.array [w1, w2]\n",
    "    Returns:\n",
    "    dW -- np.array [dw1, dw2], array chứa giá trị đạo hàm theo w1 và w2\n",
    "    \"\"\"\n",
    "    #################### YOUR CODE HERE ####################\n",
    "    w1, w2 = w\n",
    "    dw1 = 0.2 * w1\n",
    "    dw2 = 4 * w2\n",
    "    dW = np.array([dw1, dw2])\n",
    "    ########################################################\n",
    "\n",
    "    return dW"
   ]
  },
  {
   "cell_type": "code",
   "execution_count": 3,
   "metadata": {
    "id": "ws1QcU-o3NPi"
   },
   "outputs": [],
   "source": [
    "def RMSProp(W, dW, lr, S, gamma):\n",
    "    \"\"\"\n",
    "    Thực hiện thuật tóan RMSProp để update w1 và w2\n",
    "    Arguments:\n",
    "    W -- np.array: [w1, w2]\n",
    "    dW -- np.array: [dw1, dw2], array chứa giá trị đạo hàm theo w1 và w2\n",
    "    lr -- float: learning rate\n",
    "    S -- np.array: [s1, s2] Exponentially weighted averages bình phương gradients\n",
    "    gamma -- float: hệ số long-range average\n",
    "    Returns:\n",
    "    W -- np.array: [w1, w2] w1 và w2 sau khi đã update\n",
    "    S -- np.array: [s1, s2] Exponentially weighted averages bình phương gradients sau khi đã cập nhật\n",
    "    \"\"\"\n",
    "    epsilon = 1e-6\n",
    "    #################### YOUR CODE HERE ####################\n",
    "    S = gamma * S + (1 - gamma) * dW ** 2\n",
    "    adapt_lr = lr / (S + epsilon) ** 0.5\n",
    "    W = W - adapt_lr * dW\n",
    "    ########################################################\n",
    "    return W, S"
   ]
  },
  {
   "cell_type": "code",
   "execution_count": 4,
   "metadata": {
    "id": "QA_czueo4bz2"
   },
   "outputs": [],
   "source": [
    "def train_p1(optimizer, lr, gamma, epochs):\n",
    "    \"\"\"\n",
    "    Thực hiện tìm điểm minimum của function (1) dựa vào thuật toán\n",
    "    được truyền vào từ optimizer\n",
    "    Arguments:\n",
    "    optimize : function thực hiện thuật toán optimization cụ thể\n",
    "    lr -- float: learning rate\n",
    "    epochs -- int: số lượng lần (epoch) lặp để tìm điểm minimum\n",
    "    Returns:\n",
    "    results -- list: list các cặp điểm [w1, w2] sau mỗi epoch (mỗi lần cập nhật)\n",
    "    \"\"\"\n",
    "    # initial\n",
    "    W = np.array([-5, -2], dtype=np.float32)\n",
    "    S = np.array([0, 0], dtype=np.float32)\n",
    "    results = [W]\n",
    "    #################### YOUR CODE HERE ####################\n",
    "    # Tạo vòng lặp theo số lần epochs\n",
    "    # tìm gradient dW gồm dw1 và dw2\n",
    "    # dùng thuật toán optimization cập nhật w1, w2, s1, s2\n",
    "    # append cặp [w1, w2] vào list results\n",
    "    for epoch in range(epochs):\n",
    "        dW = df_w(W)\n",
    "        W, S = optimizer(W, dW, lr, S, gamma)\n",
    "        results.append(W)\n",
    "    ########################################################\n",
    "    return results"
   ]
  },
  {
   "cell_type": "code",
   "execution_count": 5,
   "metadata": {
    "id": "eGVlk8pi4kM5"
   },
   "outputs": [
    {
     "data": {
      "text/plain": [
       "[array([-5., -2.], dtype=float32),\n",
       " array([-4.0513215, -1.0513167], dtype=float32),\n",
       " array([-3.4351976 , -0.59152335], dtype=float32),\n",
       " array([-2.958937  , -0.32943937], dtype=float32),\n",
       " array([-2.5654628 , -0.17756478], dtype=float32),\n",
       " array([-2.2292054 , -0.09163253], dtype=float32),\n",
       " array([-1.9362674 , -0.04494497], dtype=float32),\n",
       " array([-1.6781766 , -0.02081422], dtype=float32),\n",
       " array([-1.4493496 , -0.00903558], dtype=float32),\n",
       " array([-1.2458818, -0.0036459], dtype=float32),\n",
       " array([-1.0649028 , -0.00135351], dtype=float32),\n",
       " array([-9.0420204e-01, -4.5644364e-04], dtype=float32),\n",
       " array([-7.6199627e-01, -1.3756263e-04], dtype=float32),\n",
       " array([-6.3677830e-01, -3.6259997e-05], dtype=float32),\n",
       " array([-5.272150e-01, -8.113342e-06], dtype=float32),\n",
       " array([-4.3207830e-01, -1.4747266e-06], dtype=float32),\n",
       " array([-3.5019833e-01, -2.0278264e-07], dtype=float32),\n",
       " array([-2.8043449e-01, -1.8422952e-08], dtype=float32),\n",
       " array([-2.2165969e-01, -7.6773077e-10], dtype=float32),\n",
       " array([-1.7275539e-01,  7.8045903e-12], dtype=float32),\n",
       " array([-1.3261501e-01, -5.0580200e-13], dtype=float32),\n",
       " array([-1.0015368e-01,  6.1913419e-14], dtype=float32),\n",
       " array([-7.43216872e-02, -1.13376105e-14], dtype=float32),\n",
       " array([-5.4120056e-02,  2.8017300e-15], dtype=float32),\n",
       " array([-3.8615860e-02, -8.8136235e-16], dtype=float32),\n",
       " array([-2.6955761e-02,  3.3992978e-16], dtype=float32),\n",
       " array([-1.8376527e-02, -1.5658595e-16], dtype=float32),\n",
       " array([-1.2211582e-02,  8.4501886e-17], dtype=float32),\n",
       " array([-7.8932978e-03, -5.2639207e-17], dtype=float32),\n",
       " array([-4.9510882e-03,  3.7411937e-17], dtype=float32),\n",
       " array([-3.005761e-03, -3.005155e-17], dtype=float32)]"
      ]
     },
     "execution_count": 5,
     "metadata": {},
     "output_type": "execute_result"
    }
   ],
   "source": [
    "train_p1(RMSProp, lr=0.3, gamma=0.9, epochs=30)"
   ]
  }
 ],
 "metadata": {
  "colab": {
   "provenance": [],
   "toc_visible": true
  },
  "kernelspec": {
   "display_name": "Python (AIO2024)",
   "language": "python",
   "name": "aio2024"
  },
  "language_info": {
   "codemirror_mode": {
    "name": "ipython",
    "version": 3
   },
   "file_extension": ".py",
   "mimetype": "text/x-python",
   "name": "python",
   "nbconvert_exporter": "python",
   "pygments_lexer": "ipython3",
   "version": "3.12.7"
  }
 },
 "nbformat": 4,
 "nbformat_minor": 4
}
