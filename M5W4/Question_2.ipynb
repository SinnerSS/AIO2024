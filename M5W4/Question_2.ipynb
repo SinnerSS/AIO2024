{
 "cells": [
  {
   "cell_type": "code",
   "execution_count": 1,
   "metadata": {
    "id": "_IAVg99F9N0y"
   },
   "outputs": [],
   "source": [
    "import numpy as np"
   ]
  },
  {
   "cell_type": "code",
   "execution_count": 2,
   "metadata": {
    "id": "uai1hzbWuNaK"
   },
   "outputs": [],
   "source": [
    "def df_w(w):\n",
    "    \"\"\"\n",
    "    Thực hiện tính gradient của dw1 và dw2\n",
    "    Arguments:\n",
    "    W -- np.array [w1, w2]\n",
    "    Returns:\n",
    "    dW -- np.array [dw1, dw2], array chứa giá trị đạo hàm theo w1 và w2\n",
    "    \"\"\"\n",
    "    #################### YOUR CODE HERE ####################\n",
    "    w1, w2 = w\n",
    "    dw1 = 0.2 * w1\n",
    "    dw2 = 4 * w2\n",
    "    dW = np.array([dw1, dw2])\n",
    "    ########################################################\n",
    "\n",
    "    return dW"
   ]
  },
  {
   "cell_type": "code",
   "execution_count": 3,
   "metadata": {
    "id": "faIqYpr4E57r"
   },
   "outputs": [],
   "source": [
    "def sgd_momentum(W, dW, lr, V, beta):\n",
    "    \"\"\"\n",
    "    Thực hiện thuật tóan Gradient Descent + Momentum để update w1 và w2\n",
    "    Arguments:\n",
    "    W -- np.array: [w1, w2]\n",
    "    dW -- np.array: [dw1, dw2], array chứa giá trị đạo hàm theo w1 và w2\n",
    "    lr -- float: learning rate\n",
    "    V -- np.array: [v1, v2] Exponentially weighted averages gradients\n",
    "    beta -- float: hệ số long-range average\n",
    "    Returns:\n",
    "    W -- np.array: [w1, w2] w1 và w2 sau khi đã update\n",
    "    V -- np.array: [v1, v2] Exponentially weighted averages gradients sau khi đã cập nhật\n",
    "    \"\"\"\n",
    "    #################### YOUR CODE HERE ####################\n",
    "    V = beta * V + (1 - beta) * dW\n",
    "    W = W - lr * V\n",
    "    ########################################################\n",
    "    return W, V"
   ]
  },
  {
   "cell_type": "code",
   "execution_count": 4,
   "metadata": {
    "id": "J1L9O5rNGPZ1"
   },
   "outputs": [],
   "source": [
    "def train_p1(optimizer, lr, beta, epochs):\n",
    "    \"\"\"\n",
    "    Thực hiện tìm điểm minimum của function (1) dựa vào thuật toán\n",
    "    được truyền vào từ optimizer\n",
    "    Arguments:\n",
    "    optimize : function thực hiện thuật toán optimization cụ thể\n",
    "    lr -- float: learning rate\n",
    "    epochs -- int: số lượng lần (epoch) lặp để tìm điểm minimum\n",
    "    Returns:\n",
    "    results -- list: list các cặp điểm [w1, w2] sau mỗi epoch (mỗi lần cập nhật)\n",
    "    \"\"\"\n",
    "    # initial\n",
    "    W = np.array([-5, -2], dtype=np.float32)\n",
    "    V = np.array([0, 0], dtype=np.float32)\n",
    "    results = [W]\n",
    "    #################### YOUR CODE HERE ####################\n",
    "    # Tạo vòng lặp theo số lần epochs\n",
    "    # tìm gradient dW gồm dw1 và dw2\n",
    "    # dùng thuật toán optimization cập nhật w1, w2, v1, v2\n",
    "    # append cặp [w1, w2] vào list results\n",
    "    for epoch in range(epochs):\n",
    "        dW = df_w(W)\n",
    "        W, V = optimizer(W, dW, lr, V, beta)\n",
    "        results.append(W)\n",
    "    ########################################################\n",
    "    return results"
   ]
  },
  {
   "cell_type": "code",
   "execution_count": 5,
   "metadata": {
    "colab": {
     "base_uri": "https://localhost:8080/"
    },
    "executionInfo": {
     "elapsed": 6,
     "status": "ok",
     "timestamp": 1669969106575,
     "user": {
      "displayName": "huyu nguyen",
      "userId": "09509650119716865009"
     },
     "user_tz": -420
    },
    "id": "z0AxyO3mGJB8",
    "outputId": "8659b8d3-3d1c-44b5-c6fc-bfc990b9bf62"
   },
   "outputs": [
    {
     "data": {
      "text/plain": [
       "[array([-5., -2.], dtype=float32),\n",
       " array([-4.7      ,  0.4000001], dtype=float32),\n",
       " array([-4.2679996,  1.12     ], dtype=float32),\n",
       " array([-3.7959197 ,  0.13599992], dtype=float32),\n",
       " array([-3.3321245, -0.5192   ], dtype=float32),\n",
       " array([-2.9002993 , -0.22375995], dtype=float32),\n",
       " array([-2.5103688 ,  0.19247207], dtype=float32),\n",
       " array([-2.1647813 ,  0.16962159], dtype=float32),\n",
       " array([-1.8621007 , -0.04534957], dtype=float32),\n",
       " array([-1.5990343 , -0.09841566], dtype=float32),\n",
       " array([-1.371559  , -0.00684991], dtype=float32),\n",
       " array([-1.1755278 ,  0.04715286], dtype=float32),\n",
       " array([-1.0069805 ,  0.01757081], dtype=float32),\n",
       " array([-0.86228806, -0.01830519], dtype=float32),\n",
       " array([-0.73820454, -0.01427696], dtype=float32),\n",
       " array([-0.6318705,  0.0048695], dtype=float32),\n",
       " array([-0.5407913 ,  0.00859933], dtype=float32),\n",
       " array([-4.6280417e-01,  1.4504697e-04], dtype=float32),\n",
       " array([-0.39604235, -0.00425615], dtype=float32),\n",
       " array([-0.3388989 , -0.00134937], dtype=float32),\n",
       " array([-0.28999323,  0.00172327], dtype=float32),\n",
       " array([-0.24814081,  0.00119166], dtype=float32),\n",
       " array([-0.21232615, -0.00050413], dtype=float32),\n",
       " array([-0.18167925, -0.00074707], dtype=float32),\n",
       " array([-1.5545504e-01,  2.7945207e-05], dtype=float32),\n",
       " array([-0.13301563,  0.00038192], dtype=float32),\n",
       " array([-1.13814995e-01,  1.00603269e-04], dtype=float32),\n",
       " array([-0.09738577, -0.00016078], dtype=float32),\n",
       " array([-8.3328016e-02, -9.8535267e-05], dtype=float32),\n",
       " array([-7.1299456e-02,  5.0828821e-05], dtype=float32),\n",
       " array([-6.100721e-02,  6.451628e-05], dtype=float32)]"
      ]
     },
     "execution_count": 5,
     "metadata": {},
     "output_type": "execute_result"
    }
   ],
   "source": [
    "train_p1(sgd_momentum, lr=0.6, beta=0.5, epochs=30)"
   ]
  }
 ],
 "metadata": {
  "colab": {
   "provenance": [],
   "toc_visible": true
  },
  "kernelspec": {
   "display_name": "Python (BKAI2024)",
   "language": "python",
   "name": "bkai2024"
  },
  "language_info": {
   "codemirror_mode": {
    "name": "ipython",
    "version": 3
   },
   "file_extension": ".py",
   "mimetype": "text/x-python",
   "name": "python",
   "nbconvert_exporter": "python",
   "pygments_lexer": "ipython3",
   "version": "3.9.15"
  }
 },
 "nbformat": 4,
 "nbformat_minor": 4
}
