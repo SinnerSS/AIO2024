{
 "cells": [
  {
   "cell_type": "code",
   "execution_count": 1,
   "metadata": {
    "id": "_IAVg99F9N0y"
   },
   "outputs": [],
   "source": [
    "import numpy as np"
   ]
  },
  {
   "cell_type": "code",
   "execution_count": 2,
   "metadata": {
    "id": "uai1hzbWuNaK"
   },
   "outputs": [],
   "source": [
    "def df_w(w):\n",
    "    \"\"\"\n",
    "    Thực hiện tính gradient của dw1 và dw2\n",
    "    Arguments:\n",
    "    W -- np.array [w1, w2]\n",
    "    Returns:\n",
    "    dW -- np.array [dw1, dw2], array chứa giá trị đạo hàm theo w1 và w2\n",
    "    \"\"\"\n",
    "    #################### YOUR CODE HERE ####################\n",
    "    w1, w2 = w\n",
    "    dw1 = 0.2 * w1\n",
    "    dw2 = 4 * w2\n",
    "    dW = np.array([dw1, dw2])\n",
    "    ########################################################\n",
    "\n",
    "    return dW"
   ]
  },
  {
   "cell_type": "code",
   "execution_count": 3,
   "metadata": {
    "id": "d9HnD57lC1X1"
   },
   "outputs": [],
   "source": [
    "def Adam(W, dW, lr, V, S, beta1, beta2, t):\n",
    "    \"\"\"\n",
    "    Thực hiện thuật tóan Adam để update w1 và w2\n",
    "    Arguments:\n",
    "    W -- np.array: [w1, w2]\n",
    "    dW -- np.array: [dw1, dw2], array chứa giá trị đạo hàm theo w1 và w2\n",
    "    lr -- float: learning rate\n",
    "    V -- np.array: [v1, v2] Exponentially weighted averages gradients\n",
    "    S -- np.array: [s1, s2] Exponentially weighted averages bình phương gradients\n",
    "    beta1 -- float: hệ số long-range average cho V\n",
    "    beta2 -- float: hệ số long-range average cho S\n",
    "    t -- int: lần thứ t update (bắt đầu bằng 1)\n",
    "    Returns:\n",
    "    W -- np.array: [w1, w2] w1 và w2 sau khi đã update\n",
    "    V -- np.array: [v1, v2] Exponentially weighted averages gradients sau khi đã cập nhật\n",
    "    S -- np.array: [s1, s2] Exponentially weighted averages bình phương gradients sau khi đã cập nhật\n",
    "    \"\"\"\n",
    "    epsilon = 1e-6\n",
    "    #################### YOUR CODE HERE ####################\n",
    "    V = beta1 * V + (1 - beta1) * dW\n",
    "    S = beta2 * S + (1 - beta2) * dW **2\n",
    "    V_corr = V / (1 - beta1 ** t)\n",
    "    S_corr = S / (1 - beta2 ** t)\n",
    "    W = W - lr * V_corr / ( S_corr ** 0.5 + epsilon)\n",
    "    ########################################################\n",
    "    return W, V, S"
   ]
  },
  {
   "cell_type": "code",
   "execution_count": 4,
   "metadata": {
    "id": "DSux416mEjYy"
   },
   "outputs": [],
   "source": [
    "def train_p1(optimizer, lr, beta1, beta2, epochs):\n",
    "    \"\"\"\n",
    "    Thực hiện tìm điểm minimum của function (1) dựa vào thuật toán\n",
    "    được truyền vào từ optimizer\n",
    "    Arguments:\n",
    "    optimize : function thực hiện thuật toán optimization cụ thể\n",
    "    lr -- float: learning rate\n",
    "    epochs -- int: số lượng lần (epoch) lặp để tìm điểm minimum\n",
    "    Returns:\n",
    "    results -- list: list các cặp điểm [w1, w2] sau mỗi epoch (mỗi lần cập nhật)\n",
    "    \"\"\"\n",
    "    # initial\n",
    "    W = np.array([-5, -2], dtype=np.float32)\n",
    "    V = np.array([0, 0], dtype=np.float32)\n",
    "    S = np.array([0, 0], dtype=np.float32)\n",
    "    results = [W]\n",
    "    #################### YOUR CODE HERE ####################\n",
    "    # Tạo vòng lặp theo số lần epochs\n",
    "    # tìm gradient dW gồm dw1 và dw2\n",
    "    # dùng thuật toán optimization cập nhật w1, w2, s1, s2, v1, v2\n",
    "    # append cặp [w1, w2] vào list results\n",
    "    # các bạn lưu ý mỗi lần lặp nhớ lấy t (lần thứ t lặp) và t bất đầu bằng 1\n",
    "    for epoch in range(epochs):\n",
    "        dW = df_w(W)\n",
    "        W, V, S = optimizer(W, dW, lr, V, S, beta1, beta2, epoch + 1)\n",
    "        results.append(W)\n",
    "    ########################################################\n",
    "    return results"
   ]
  },
  {
   "cell_type": "code",
   "execution_count": 5,
   "metadata": {
    "id": "uwBvH3HeEjUL"
   },
   "outputs": [
    {
     "data": {
      "text/plain": [
       "[array([-5., -2.], dtype=float32),\n",
       " array([-4.8      , -1.8000001], dtype=float32),\n",
       " array([-4.600255 , -1.6008246], dtype=float32),\n",
       " array([-4.4009485, -1.4031727], dtype=float32),\n",
       " array([-4.2022777, -1.2078784], dtype=float32),\n",
       " array([-4.0044503, -1.0159276], dtype=float32),\n",
       " array([-3.8076863, -0.8284732], dtype=float32),\n",
       " array([-3.6122174 , -0.64684176], dtype=float32),\n",
       " array([-3.4182863 , -0.47252786], dtype=float32),\n",
       " array([-3.2261477 , -0.30716956], dtype=float32),\n",
       " array([-3.0360663 , -0.15249878], dtype=float32),\n",
       " array([-2.8483174, -0.0102635], dtype=float32),\n",
       " array([-2.6631858 ,  0.11787525], dtype=float32),\n",
       " array([-2.4809644 ,  0.23046133], dtype=float32),\n",
       " array([-2.3019533,  0.3263584], dtype=float32),\n",
       " array([-2.126458  ,  0.40484163], dtype=float32),\n",
       " array([-1.9547879,  0.4656493], dtype=float32),\n",
       " array([-1.7872543,  0.5089877], dtype=float32),\n",
       " array([-1.6241679 ,  0.53549415], dtype=float32),\n",
       " array([-1.4658363,  0.5461712], dtype=float32),\n",
       " array([-1.3125613,  0.5423079], dtype=float32),\n",
       " array([-1.1646359,  0.5254019], dtype=float32),\n",
       " array([-1.022341  ,  0.49709046], dtype=float32),\n",
       " array([-0.88594234,  0.459095  ], dtype=float32),\n",
       " array([-0.7556869 ,  0.41317773], dtype=float32),\n",
       " array([-0.63179994,  0.36110884], dtype=float32),\n",
       " array([-0.51448166,  0.30464044], dtype=float32),\n",
       " array([-0.40390426,  0.24548408], dtype=float32),\n",
       " array([-0.30020922,  0.1852892 ], dtype=float32),\n",
       " array([-0.20350507,  0.1256208 ], dtype=float32),\n",
       " array([-0.11386538,  0.06793538], dtype=float32)]"
      ]
     },
     "execution_count": 5,
     "metadata": {},
     "output_type": "execute_result"
    }
   ],
   "source": [
    "train_p1(Adam, lr=0.2, beta1=0.9, beta2=0.999, epochs=30)"
   ]
  }
 ],
 "metadata": {
  "colab": {
   "provenance": [],
   "toc_visible": true
  },
  "kernelspec": {
   "display_name": "Python (AIO2024)",
   "language": "python",
   "name": "aio2024"
  },
  "language_info": {
   "codemirror_mode": {
    "name": "ipython",
    "version": 3
   },
   "file_extension": ".py",
   "mimetype": "text/x-python",
   "name": "python",
   "nbconvert_exporter": "python",
   "pygments_lexer": "ipython3",
   "version": "3.12.7"
  }
 },
 "nbformat": 4,
 "nbformat_minor": 4
}
