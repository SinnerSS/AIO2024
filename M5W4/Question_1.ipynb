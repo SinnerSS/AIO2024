{
 "cells": [
  {
   "cell_type": "code",
   "execution_count": 1,
   "metadata": {
    "id": "_IAVg99F9N0y"
   },
   "outputs": [],
   "source": [
    "import numpy as np"
   ]
  },
  {
   "cell_type": "code",
   "execution_count": 2,
   "metadata": {
    "id": "uai1hzbWuNaK"
   },
   "outputs": [],
   "source": [
    "def df_w(W):\n",
    "    \"\"\"\n",
    "    Thực hiện tính gradient của dw1 và dw2\n",
    "    Arguments:\n",
    "    W -- np.array [w1, w2]\n",
    "    Returns:\n",
    "    dW -- np.array [dw1, dw2], array chứa giá trị đạo hàm theo w1 và w2\n",
    "    \"\"\"\n",
    "    #################### YOUR CODE HERE ####################\n",
    "    w1, w2 = W\n",
    "    dw1 = 0.2 * w1\n",
    "    dw2 = 4 * w2\n",
    "    dW = np.array([dw1, dw2])\n",
    "    ########################################################\n",
    "\n",
    "    return dW"
   ]
  },
  {
   "cell_type": "code",
   "execution_count": 3,
   "metadata": {
    "id": "634hfieBwwza"
   },
   "outputs": [],
   "source": [
    "def sgd(W, dW, lr):\n",
    "    \"\"\"\n",
    "    Thực hiện thuật tóa Gradient Descent để update w1 và w2\n",
    "    Arguments:\n",
    "    W -- np.array: [w1, w2]\n",
    "    dW -- np.array: [dw1, dw2], array chứa giá trị đạo hàm theo w1 và w2\n",
    "    lr -- float: learning rate\n",
    "    Returns:\n",
    "    W -- np.array: [w1, w2] w1 và w2 sau khi đã update\n",
    "    \"\"\"\n",
    "    #################### YOUR CODE HERE ####################\n",
    "    W = W - lr * dW\n",
    "    ########################################################\n",
    "    return W"
   ]
  },
  {
   "cell_type": "code",
   "execution_count": 4,
   "metadata": {
    "id": "jugR0jsA2-uC"
   },
   "outputs": [],
   "source": [
    "def train_p1(optimizer, lr, epochs):\n",
    "    \"\"\"\n",
    "    Thực hiện tìm điểm minimum của function (1) dựa vào thuật toán\n",
    "    được truyền vào từ optimizer\n",
    "    Arguments:\n",
    "    optimize : function thực hiện thuật toán optimization cụ thể\n",
    "    lr -- float: learning rate\n",
    "    epoch -- int: số lượng lần (epoch) lặp để tìm điểm minimum\n",
    "    Returns:\n",
    "    results -- list: list các cặp điểm [w1, w2] sau mỗi epoch (mỗi lần cập nhật)\n",
    "    \"\"\"\n",
    "\n",
    "    # initial point\n",
    "    W = np.array([-5, -2], dtype=np.float32)\n",
    "    # list of results\n",
    "    results = [W]\n",
    "    #################### YOUR CODE HERE ####################\n",
    "    # Tạo vòng lặp theo số lần epochs\n",
    "    # tìm gradient dW gồm dw1 và dw2\n",
    "    # dùng thuật toán optimization cập nhật w1 và w2\n",
    "    # append cặp [w1, w2] vào list results\n",
    "    for epoch in range(epochs):\n",
    "        dW = df_w(W)\n",
    "        W = optimizer(W, dW, lr)\n",
    "        results.append(W)\n",
    "    ########################################################\n",
    "    return results"
   ]
  },
  {
   "cell_type": "code",
   "execution_count": 5,
   "metadata": {
    "id": "ZAAcmcEl8bQj"
   },
   "outputs": [
    {
     "data": {
      "text/plain": [
       "[array([-5., -2.], dtype=float32),\n",
       " array([-4.6,  1.2], dtype=float32),\n",
       " array([-4.232, -0.72 ], dtype=float32),\n",
       " array([-3.8934398 ,  0.43200004], dtype=float32),\n",
       " array([-3.5819645 , -0.25920004], dtype=float32),\n",
       " array([-3.2954073 ,  0.15552002], dtype=float32),\n",
       " array([-3.0317748 , -0.09331201], dtype=float32),\n",
       " array([-2.7892327 ,  0.05598721], dtype=float32),\n",
       " array([-2.5660942 , -0.03359233], dtype=float32),\n",
       " array([-2.3608067,  0.0201554], dtype=float32),\n",
       " array([-2.1719422 , -0.01209324], dtype=float32),\n",
       " array([-1.9981868 ,  0.00725594], dtype=float32),\n",
       " array([-1.8383319 , -0.00435357], dtype=float32),\n",
       " array([-1.6912653 ,  0.00261214], dtype=float32),\n",
       " array([-1.5559641 , -0.00156728], dtype=float32),\n",
       " array([-1.4314870e+00,  9.4037014e-04], dtype=float32),\n",
       " array([-1.316968e+00, -5.642221e-04], dtype=float32),\n",
       " array([-1.2116106e+00,  3.3853325e-04], dtype=float32),\n",
       " array([-1.1146817e+00, -2.0311994e-04], dtype=float32),\n",
       " array([-1.0255072e+00,  1.2187197e-04], dtype=float32),\n",
       " array([-9.4346666e-01, -7.3123185e-05], dtype=float32),\n",
       " array([-8.6798930e-01,  4.3873915e-05], dtype=float32),\n",
       " array([-7.985501e-01, -2.632435e-05], dtype=float32),\n",
       " array([-7.3466611e-01,  1.5794609e-05], dtype=float32),\n",
       " array([-6.7589283e-01, -9.4767656e-06], dtype=float32),\n",
       " array([-6.218214e-01,  5.686060e-06], dtype=float32),\n",
       " array([-5.7207566e-01, -3.4116365e-06], dtype=float32),\n",
       " array([-5.263096e-01,  2.046982e-06], dtype=float32),\n",
       " array([-4.8420483e-01, -1.2281891e-06], dtype=float32),\n",
       " array([-4.4546843e-01,  7.3691353e-07], dtype=float32),\n",
       " array([-4.0983096e-01, -4.4214812e-07], dtype=float32)]"
      ]
     },
     "execution_count": 5,
     "metadata": {},
     "output_type": "execute_result"
    }
   ],
   "source": [
    "train_p1(sgd, lr=0.4, epochs=30)"
   ]
  }
 ],
 "metadata": {
  "colab": {
   "provenance": [],
   "toc_visible": true
  },
  "kernelspec": {
   "display_name": "Python (AIO2024)",
   "language": "python",
   "name": "aio2024"
  },
  "language_info": {
   "codemirror_mode": {
    "name": "ipython",
    "version": 3
   },
   "file_extension": ".py",
   "mimetype": "text/x-python",
   "name": "python",
   "nbconvert_exporter": "python",
   "pygments_lexer": "ipython3",
   "version": "3.12.7"
  }
 },
 "nbformat": 4,
 "nbformat_minor": 4
}
