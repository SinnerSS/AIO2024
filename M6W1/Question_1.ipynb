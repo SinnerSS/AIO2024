{
 "cells": [
  {
   "cell_type": "code",
   "execution_count": 1,
   "id": "dcb525c9-6327-4500-975c-7be5ef3900ff",
   "metadata": {},
   "outputs": [
    {
     "name": "stdout",
     "output_type": "stream",
     "text": [
      "Downloading http://yann.lecun.com/exdb/mnist/train-images-idx3-ubyte.gz\n",
      "Failed to download (trying next):\n",
      "HTTP Error 403: Forbidden\n",
      "\n",
      "Downloading https://ossci-datasets.s3.amazonaws.com/mnist/train-images-idx3-ubyte.gz\n",
      "Downloading https://ossci-datasets.s3.amazonaws.com/mnist/train-images-idx3-ubyte.gz to ./data/MNIST/raw/train-images-idx3-ubyte.gz\n"
     ]
    },
    {
     "name": "stderr",
     "output_type": "stream",
     "text": [
      "\n",
      "00%|███████████████████████████████████████████████████████████████| 9.91M/9.91M [01:44<00:00, 94.9kB/s]"
     ]
    },
    {
     "name": "stdout",
     "output_type": "stream",
     "text": [
      "Extracting ./data/MNIST/raw/train-images-idx3-ubyte.gz to ./data/MNIST/raw\n",
      "\n",
      "Downloading http://yann.lecun.com/exdb/mnist/train-labels-idx1-ubyte.gz\n",
      "Failed to download (trying next):\n",
      "HTTP Error 403: Forbidden\n",
      "\n",
      "Downloading https://ossci-datasets.s3.amazonaws.com/mnist/train-labels-idx1-ubyte.gz\n",
      "Downloading https://ossci-datasets.s3.amazonaws.com/mnist/train-labels-idx1-ubyte.gz to ./data/MNIST/raw/train-labels-idx1-ubyte.gz\n"
     ]
    },
    {
     "name": "stderr",
     "output_type": "stream",
     "text": [
      "\n",
      "00%|███████████████████████████████████████████████████████████████| 28.9k/28.9k [00:00<00:00, 48.8kB/s]"
     ]
    },
    {
     "name": "stdout",
     "output_type": "stream",
     "text": [
      "Extracting ./data/MNIST/raw/train-labels-idx1-ubyte.gz to ./data/MNIST/raw\n",
      "\n",
      "Downloading http://yann.lecun.com/exdb/mnist/t10k-images-idx3-ubyte.gz\n",
      "Failed to download (trying next):\n",
      "HTTP Error 403: Forbidden\n",
      "\n",
      "Downloading https://ossci-datasets.s3.amazonaws.com/mnist/t10k-images-idx3-ubyte.gz\n",
      "Downloading https://ossci-datasets.s3.amazonaws.com/mnist/t10k-images-idx3-ubyte.gz to ./data/MNIST/raw/t10k-images-idx3-ubyte.gz\n"
     ]
    },
    {
     "name": "stderr",
     "output_type": "stream",
     "text": [
      "\n",
      "00%|████████████████████████████████████████████████████████████████| 1.65M/1.65M [00:15<00:00, 108kB/s]"
     ]
    },
    {
     "name": "stdout",
     "output_type": "stream",
     "text": [
      "Extracting ./data/MNIST/raw/t10k-images-idx3-ubyte.gz to ./data/MNIST/raw\n",
      "\n",
      "Downloading http://yann.lecun.com/exdb/mnist/t10k-labels-idx1-ubyte.gz\n",
      "Failed to download (trying next):\n",
      "HTTP Error 403: Forbidden\n",
      "\n",
      "Downloading https://ossci-datasets.s3.amazonaws.com/mnist/t10k-labels-idx1-ubyte.gz\n",
      "Downloading https://ossci-datasets.s3.amazonaws.com/mnist/t10k-labels-idx1-ubyte.gz to ./data/MNIST/raw/t10k-labels-idx1-ubyte.gz\n"
     ]
    },
    {
     "name": "stderr",
     "output_type": "stream",
     "text": [
      "100%|███████████████████████████████████████████████████████████████| 4.54k/4.54k [00:00<00:00, 17.5MB/s]"
     ]
    },
    {
     "name": "stdout",
     "output_type": "stream",
     "text": [
      "Extracting ./data/MNIST/raw/t10k-labels-idx1-ubyte.gz to ./data/MNIST/raw\n",
      "\n"
     ]
    },
    {
     "name": "stderr",
     "output_type": "stream",
     "text": [
      "\n"
     ]
    }
   ],
   "source": [
    "import os\n",
    "import time\n",
    "import random\n",
    "import numpy as np\n",
    "\n",
    "import torch\n",
    "import torch.nn as nn\n",
    "import torch.optim as optim\n",
    "import torch.nn.functional as F\n",
    "import torch.utils.data as data\n",
    "\n",
    "import torchvision.transforms as transforms\n",
    "import torchvision.datasets as datasets\n",
    "\n",
    "from torchinfo import summary\n",
    "\n",
    "import matplotlib.pyplot as plt\n",
    "from PIL import Image\n",
    "\n",
    "ROOT = './data'\n",
    "train_data = datasets.MNIST(\n",
    "    root=ROOT,\n",
    "    train=True,\n",
    "    download=True\n",
    ")\n",
    "test_data = datasets.MNIST(\n",
    "    root=ROOT,\n",
    "    train=False,\n",
    "    download=True\n",
    ")"
   ]
  },
  {
   "cell_type": "code",
   "execution_count": 2,
   "id": "234e2572-694e-4f7d-a8c1-8803ade4dcff",
   "metadata": {},
   "outputs": [],
   "source": [
    "VALID_RATIO = 0.9\n",
    "\n",
    "n_train_examples = int(len(train_data) * VALID_RATIO)\n",
    "n_valid_examples = len(train_data) - n_train_examples\n",
    "\n",
    "train_data, valid_data = data.random_split(\n",
    "    train_data,\n",
    "    [n_train_examples, n_valid_examples]\n",
    ")\n",
    "\n",
    "mean = train_data.dataset.data.float().mean() / 255\n",
    "std = train_data.dataset.data.float().std() / 255\n",
    "\n",
    "train_transforms = transforms.Compose([\n",
    "    transforms.ToTensor(),\n",
    "    transforms.Normalize(mean=[mean], std=[std])\n",
    "])\n",
    "test_transforms = transforms.Compose([\n",
    "    transforms.ToTensor(),\n",
    "    transforms.Normalize(mean=[mean], std=[std])\n",
    "])\n",
    "\n",
    "train_data.dataset.transform = train_transforms\n",
    "valid_data.dataset.transform = test_transforms\n",
    "\n",
    "\n",
    "BATCH_SIZE = 256\n",
    "\n",
    "train_dataloader = data.DataLoader(\n",
    "    train_data,\n",
    "    shuffle=True,\n",
    "    batch_size=BATCH_SIZE\n",
    ")\n",
    "valid_dataloader = data.DataLoader(\n",
    "    valid_data,\n",
    "    batch_size=BATCH_SIZE\n",
    ")"
   ]
  },
  {
   "cell_type": "code",
   "execution_count": 3,
   "id": "6630c11c-3a9a-4a61-a2be-818ea2160bef",
   "metadata": {},
   "outputs": [],
   "source": [
    "class LeNetClassifier(nn.Module):\n",
    "    def __init__(self, num_classes):\n",
    "        super(LeNetClassifier, self).__init__()\n",
    "        self.conv1 = nn.Conv2d(in_channels=1, out_channels=6, kernel_size=5, padding='same')\n",
    "        self.avgpool1 = nn.AvgPool2d(kernel_size=2)\n",
    "        self.conv2 = nn.Conv2d(in_channels=6, out_channels=16, kernel_size=5)\n",
    "        self.avgpool2 = nn.AvgPool2d(kernel_size=2)\n",
    "        self.flatten =  nn.Flatten()\n",
    "        self.fc1 = nn.Linear(16*5*5, 120)\n",
    "        self.fc2 = nn.Linear(120, 84)\n",
    "        self.fc3 = nn.Linear(84, num_classes)\n",
    "\n",
    "    def forward(self, x):\n",
    "        x = self.conv1(x)\n",
    "        x = self.avgpool1(x)\n",
    "        x = F.relu(x)\n",
    "        x = self.conv2(x)\n",
    "        x = self.avgpool2(x)\n",
    "        x = F.relu(x)\n",
    "        x = self.flatten(x)\n",
    "        x = self.fc1(x)\n",
    "        x = self.fc2(x)\n",
    "        x = self.fc3(x)\n",
    "        return x"
   ]
  },
  {
   "cell_type": "code",
   "execution_count": 4,
   "id": "c44daf8f-11cf-4e8a-90d2-02be3047b015",
   "metadata": {},
   "outputs": [],
   "source": [
    "def train(model, optimizer, criterion, train_dataloader, device, epoch=0, log_interval=50):\n",
    "    model.train()\n",
    "    total_acc, total_count = 0, 0\n",
    "    losses = []\n",
    "    start_time = time.time()\n",
    "\n",
    "    for idx, (inputs, labels) in enumerate(train_dataloader):\n",
    "        inputs = inputs.to(device)\n",
    "        labels = labels.to(device)\n",
    "\n",
    "        optimizer.zero_grad()\n",
    "\n",
    "        predictions = model(inputs)\n",
    "\n",
    "        loss = criterion(predictions, labels)\n",
    "        losses.append(loss.item())\n",
    "\n",
    "        loss.backward()\n",
    "        torch.nn.utils.clip_grad_norm_(model.parameters(), 0.1)\n",
    "        optimizer.step()\n",
    "        total_acc += (predictions.argmax(1) == labels).sum().item()\n",
    "        total_count += labels.size(0)\n",
    "        if idx % log_interval == 0 and idx > 0:\n",
    "            elapsed = time.time() - start_time\n",
    "            print(\n",
    "                \"| Epoch {:3d} | {:5d}/{:5d} batches \"\n",
    "                \"| Accuracy {:8.3f}\".format(\n",
    "                    epoch, idx, len(train_dataloader), total_acc / total_count\n",
    "                )\n",
    "            )\n",
    "            total_acc, total_count = 0, 0\n",
    "            start_time = time.time()\n",
    "\n",
    "    epoch_acc = total_acc / total_count\n",
    "    epoch_loss = sum(losses) / len(losses)\n",
    "    return epoch_acc, epoch_loss"
   ]
  },
  {
   "cell_type": "code",
   "execution_count": 5,
   "id": "a951d227-e99f-4c89-8e0f-fb2c62ee4765",
   "metadata": {},
   "outputs": [],
   "source": [
    "def evaluate(model, criterion, valid_dataloader):\n",
    "    model.eval()\n",
    "    total_acc, total_count = 0, 0\n",
    "    losses = []\n",
    "\n",
    "    with torch.no_grad():\n",
    "        for idx, (inputs, labels) in enumerate(valid_dataloader):\n",
    "            inputs = inputs.to(device)\n",
    "            labels = labels.to(device)\n",
    "\n",
    "            predictions = model(inputs)\n",
    "\n",
    "            loss = criterion(predictions, labels)\n",
    "            losses.append(loss.item())\n",
    "\n",
    "            total_acc += (predictions.argmax(1) == labels).sum().item()\n",
    "            total_count += labels.size(0)\n",
    "\n",
    "    epoch_acc = total_acc / total_count\n",
    "    epoch_loss = sum(losses) / len(losses)\n",
    "    return epoch_acc, epoch_loss"
   ]
  },
  {
   "cell_type": "code",
   "execution_count": 6,
   "id": "366a966e-249a-4d30-a777-9a8f0d4ae1f9",
   "metadata": {},
   "outputs": [
    {
     "name": "stdout",
     "output_type": "stream",
     "text": [
      "| Epoch   1 |    50/  211 batches | Accuracy    0.649\n",
      "| Epoch   1 |   100/  211 batches | Accuracy    0.904\n",
      "| Epoch   1 |   150/  211 batches | Accuracy    0.938\n",
      "| Epoch   1 |   200/  211 batches | Accuracy    0.948\n",
      "-----------------------------------------------------------\n",
      "| End of epoch   1 | Time: 11.91s | Train Accuracy    0.957 | Train Loss    0.466 | Valid Accuracy    0.956 | Valid Loss    0.157 \n",
      "-----------------------------------------------------------\n",
      "| Epoch   2 |    50/  211 batches | Accuracy    0.962\n",
      "| Epoch   2 |   100/  211 batches | Accuracy    0.965\n",
      "| Epoch   2 |   150/  211 batches | Accuracy    0.969\n",
      "| Epoch   2 |   200/  211 batches | Accuracy    0.972\n",
      "-----------------------------------------------------------\n",
      "| End of epoch   2 | Time: 13.42s | Train Accuracy    0.974 | Train Loss    0.108 | Valid Accuracy    0.969 | Valid Loss    0.107 \n",
      "-----------------------------------------------------------\n",
      "| Epoch   3 |    50/  211 batches | Accuracy    0.975\n",
      "| Epoch   3 |   100/  211 batches | Accuracy    0.974\n",
      "| Epoch   3 |   150/  211 batches | Accuracy    0.976\n",
      "| Epoch   3 |   200/  211 batches | Accuracy    0.978\n",
      "-----------------------------------------------------------\n",
      "| End of epoch   3 | Time: 14.63s | Train Accuracy    0.980 | Train Loss    0.081 | Valid Accuracy    0.975 | Valid Loss    0.091 \n",
      "-----------------------------------------------------------\n",
      "| Epoch   4 |    50/  211 batches | Accuracy    0.979\n",
      "| Epoch   4 |   100/  211 batches | Accuracy    0.977\n",
      "| Epoch   4 |   150/  211 batches | Accuracy    0.980\n",
      "| Epoch   4 |   200/  211 batches | Accuracy    0.979\n",
      "-----------------------------------------------------------\n",
      "| End of epoch   4 | Time: 13.80s | Train Accuracy    0.976 | Train Loss    0.069 | Valid Accuracy    0.977 | Valid Loss    0.084 \n",
      "-----------------------------------------------------------\n",
      "| Epoch   5 |    50/  211 batches | Accuracy    0.982\n",
      "| Epoch   5 |   100/  211 batches | Accuracy    0.983\n",
      "| Epoch   5 |   150/  211 batches | Accuracy    0.981\n",
      "| Epoch   5 |   200/  211 batches | Accuracy    0.983\n",
      "-----------------------------------------------------------\n",
      "| End of epoch   5 | Time: 14.22s | Train Accuracy    0.986 | Train Loss    0.058 | Valid Accuracy    0.976 | Valid Loss    0.087 \n",
      "-----------------------------------------------------------\n",
      "| Epoch   6 |    50/  211 batches | Accuracy    0.983\n",
      "| Epoch   6 |   100/  211 batches | Accuracy    0.981\n",
      "| Epoch   6 |   150/  211 batches | Accuracy    0.986\n",
      "| Epoch   6 |   200/  211 batches | Accuracy    0.985\n",
      "-----------------------------------------------------------\n",
      "| End of epoch   6 | Time: 13.39s | Train Accuracy    0.986 | Train Loss    0.051 | Valid Accuracy    0.978 | Valid Loss    0.086 \n",
      "-----------------------------------------------------------\n",
      "| Epoch   7 |    50/  211 batches | Accuracy    0.986\n",
      "| Epoch   7 |   100/  211 batches | Accuracy    0.986\n",
      "| Epoch   7 |   150/  211 batches | Accuracy    0.984\n",
      "| Epoch   7 |   200/  211 batches | Accuracy    0.983\n",
      "-----------------------------------------------------------\n",
      "| End of epoch   7 | Time: 13.72s | Train Accuracy    0.990 | Train Loss    0.048 | Valid Accuracy    0.980 | Valid Loss    0.075 \n",
      "-----------------------------------------------------------\n",
      "| Epoch   8 |    50/  211 batches | Accuracy    0.986\n",
      "| Epoch   8 |   100/  211 batches | Accuracy    0.987\n",
      "| Epoch   8 |   150/  211 batches | Accuracy    0.988\n",
      "| Epoch   8 |   200/  211 batches | Accuracy    0.986\n",
      "-----------------------------------------------------------\n",
      "| End of epoch   8 | Time: 15.29s | Train Accuracy    0.986 | Train Loss    0.043 | Valid Accuracy    0.983 | Valid Loss    0.067 \n",
      "-----------------------------------------------------------\n",
      "| Epoch   9 |    50/  211 batches | Accuracy    0.986\n",
      "| Epoch   9 |   100/  211 batches | Accuracy    0.986\n",
      "| Epoch   9 |   150/  211 batches | Accuracy    0.987\n",
      "| Epoch   9 |   200/  211 batches | Accuracy    0.987\n",
      "-----------------------------------------------------------\n",
      "| End of epoch   9 | Time: 14.13s | Train Accuracy    0.984 | Train Loss    0.042 | Valid Accuracy    0.981 | Valid Loss    0.070 \n",
      "-----------------------------------------------------------\n",
      "| Epoch  10 |    50/  211 batches | Accuracy    0.987\n",
      "| Epoch  10 |   100/  211 batches | Accuracy    0.988\n",
      "| Epoch  10 |   150/  211 batches | Accuracy    0.989\n",
      "| Epoch  10 |   200/  211 batches | Accuracy    0.990\n",
      "-----------------------------------------------------------\n",
      "| End of epoch  10 | Time: 13.23s | Train Accuracy    0.983 | Train Loss    0.038 | Valid Accuracy    0.984 | Valid Loss    0.060 \n",
      "-----------------------------------------------------------\n"
     ]
    }
   ],
   "source": [
    "num_classes = len(train_data.dataset.classes)\n",
    "\n",
    "device = torch.device('cuda' if torch.cuda.is_available() else 'cpu')\n",
    "\n",
    "lenet_model = LeNetClassifier(num_classes)\n",
    "lenet_model.to(device)\n",
    "\n",
    "criterion = torch.nn.CrossEntropyLoss()\n",
    "optimizer = optim.Adam(lenet_model.parameters())\n",
    "\n",
    "num_epochs = 10\n",
    "save_model = './model'\n",
    "\n",
    "train_accs, train_losses = [], []\n",
    "eval_accs, eval_losses = [], []\n",
    "best_loss_eval = 100\n",
    "\n",
    "for epoch in range(1, num_epochs+1):\n",
    "    epoch_start_time = time.time()\n",
    "\n",
    "    train_acc, train_loss = train(lenet_model, optimizer, criterion, train_dataloader, device, epoch)\n",
    "    train_accs.append(train_acc)\n",
    "    train_losses.append(train_loss)\n",
    "\n",
    "    eval_acc, eval_loss = evaluate(lenet_model, criterion, valid_dataloader)\n",
    "    eval_accs.append(eval_acc)\n",
    "    eval_losses.append(eval_loss)\n",
    "\n",
    "    if eval_loss < best_loss_eval:\n",
    "        torch.save(lenet_model.state_dict(), save_model + '/lenet_model.pt')\n",
    "\n",
    "    print(\"-\" * 59)\n",
    "    print(\n",
    "        \"| End of epoch {:3d} | Time: {:5.2f}s | Train Accuracy {:8.3f} | Train Loss {:8.3f} \"\n",
    "        \"| Valid Accuracy {:8.3f} | Valid Loss {:8.3f} \".format(\n",
    "            epoch, time.time() - epoch_start_time, train_acc, train_loss, eval_acc, eval_loss\n",
    "        )\n",
    "    )\n",
    "    print(\"-\" * 59)\n",
    "\n",
    "    lenet_model.load_state_dict(torch.load(save_model + \"/lenet_model.pt\", weights_only=True))\n",
    "    lenet_model.eval()"
   ]
  },
  {
   "cell_type": "code",
   "execution_count": 7,
   "id": "1c460b46-1b71-4e69-be70-0a41694fc5f0",
   "metadata": {},
   "outputs": [
    {
     "data": {
      "text/plain": [
       "(0.9869, 0.036180716283888616)"
      ]
     },
     "execution_count": 7,
     "metadata": {},
     "output_type": "execute_result"
    }
   ],
   "source": [
    "test_data.transform = test_transforms\n",
    "test_dataloader = data.DataLoader(\n",
    "    test_data,\n",
    "    batch_size=BATCH_SIZE\n",
    ")\n",
    "test_acc, test_loss = evaluate(lenet_model, criterion, test_dataloader)\n",
    "test_acc, test_loss"
   ]
  }
 ],
 "metadata": {
  "kernelspec": {
   "display_name": "Python (AIO2024)",
   "language": "python",
   "name": "aio2024"
  },
  "language_info": {
   "codemirror_mode": {
    "name": "ipython",
    "version": 3
   },
   "file_extension": ".py",
   "mimetype": "text/x-python",
   "name": "python",
   "nbconvert_exporter": "python",
   "pygments_lexer": "ipython3",
   "version": "3.12.7"
  }
 },
 "nbformat": 4,
 "nbformat_minor": 5
}
