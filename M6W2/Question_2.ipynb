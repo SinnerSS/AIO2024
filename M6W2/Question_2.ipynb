{
  "cells": [
    {
      "cell_type": "code",
      "execution_count": 1,
      "id": "e81620a3",
      "metadata": {
        "lines_to_next_cell": 0,
        "id": "e81620a3"
      },
      "outputs": [],
      "source": [
        "import os\n",
        "import random\n",
        "import numpy as np\n",
        "\n",
        "import torch\n",
        "import torch.nn as nn\n",
        "from torch.utils.data import Dataset, DataLoader\n",
        "\n",
        "from PIL import Image\n",
        "from sklearn.model_selection import train_test_split"
      ]
    },
    {
      "cell_type": "code",
      "execution_count": 2,
      "id": "7ee5e556",
      "metadata": {
        "lines_to_next_cell": 0,
        "id": "7ee5e556"
      },
      "outputs": [],
      "source": [
        "def set_seed(seed):\n",
        "    random.seed(seed)\n",
        "    np.random.seed(seed)\n",
        "    torch.manual_seed(seed)\n",
        "    torch.cuda.manual_seed(seed)\n",
        "    torch.cuda.manual_seed_all(seed)\n",
        "    torch.backends.cudnn.deterministic = True"
      ]
    },
    {
      "cell_type": "code",
      "execution_count": 3,
      "id": "6914bb6b",
      "metadata": {
        "lines_to_next_cell": 0,
        "id": "6914bb6b"
      },
      "outputs": [],
      "source": [
        "seed = 59\n",
        "set_seed(59)"
      ]
    },
    {
      "cell_type": "code",
      "execution_count": 4,
      "id": "f09b5e11",
      "metadata": {
        "lines_to_next_cell": 0,
        "id": "f09b5e11"
      },
      "outputs": [],
      "source": [
        "ROOT_DIR = \"./data/scenes_classification\"\n",
        "train_dir = os.path.join(ROOT_DIR, 'train')\n",
        "test_dir = os.path.join(ROOT_DIR, 'val')\n",
        "\n",
        "classes = {idx: class_name for idx, class_name in enumerate(sorted(os.listdir(train_dir)))}"
      ]
    },
    {
      "cell_type": "code",
      "execution_count": 5,
      "id": "5a1ac252",
      "metadata": {
        "lines_to_next_cell": 0,
        "id": "5a1ac252"
      },
      "outputs": [],
      "source": [
        "X_train = []\n",
        "y_train = []\n",
        "X_test = []\n",
        "y_test = []\n",
        "\n",
        "for dataset_path in [train_dir, test_dir]:\n",
        "    for idx, class_name in classes.items():\n",
        "        class_dir = os.path.join(dataset_path, class_name)\n",
        "        for file_name in os.listdir(class_dir):\n",
        "            file_path = os.path.join(class_dir, file_name)\n",
        "            if 'train' in dataset_path:\n",
        "                X_train.append(file_path)\n",
        "                y_train.append(idx)\n",
        "            else:\n",
        "                X_test.append(file_path)\n",
        "                y_test.append(idx)"
      ]
    },
    {
      "cell_type": "code",
      "execution_count": 6,
      "id": "b074ebf2",
      "metadata": {
        "lines_to_next_cell": 0,
        "id": "b074ebf2"
      },
      "outputs": [],
      "source": [
        "seed = 0\n",
        "val_size = 0.2\n",
        "is_shuffle = True\n",
        "\n",
        "X_train, X_val, y_train, y_val = train_test_split(\n",
        "    X_train, y_train,\n",
        "    test_size=val_size,\n",
        "    shuffle=is_shuffle\n",
        ")"
      ]
    },
    {
      "cell_type": "code",
      "execution_count": 7,
      "id": "1da564f5",
      "metadata": {
        "lines_to_next_cell": 0,
        "id": "1da564f5"
      },
      "outputs": [],
      "source": [
        "class ScenesDataset(Dataset):\n",
        "    def __init__(self, X, y, transform=None):\n",
        "        self.img_paths = X\n",
        "        self.labels = y\n",
        "        self.transform = transform\n",
        "\n",
        "    def __len__(self):\n",
        "        return len(self.img_paths)\n",
        "\n",
        "    def __getitem__(self, idx):\n",
        "        img = Image.open(self.img_paths[idx]).convert('RGB')\n",
        "\n",
        "        if self.transform:\n",
        "            img = self.transform(img)\n",
        "\n",
        "        return img, self.labels[idx]"
      ]
    },
    {
      "cell_type": "code",
      "execution_count": 8,
      "id": "960ebebd",
      "metadata": {
        "lines_to_next_cell": 0,
        "id": "960ebebd"
      },
      "outputs": [],
      "source": [
        "def transform(img, img_size=(224, 224)):\n",
        "    img = img.resize(img_size)\n",
        "    img = np.array(img)[..., :3]\n",
        "    img = torch.tensor(img).permute(2, 0, 1).float()\n",
        "    normalize_img = img / 255.0\n",
        "\n",
        "    return normalize_img"
      ]
    },
    {
      "cell_type": "code",
      "execution_count": 9,
      "id": "28005d3d",
      "metadata": {
        "lines_to_next_cell": 0,
        "id": "28005d3d"
      },
      "outputs": [],
      "source": [
        "train_dataset = ScenesDataset(X_train, y_train, transform=transform)\n",
        "val_dataset = ScenesDataset(X_val, y_val, transform=transform)\n",
        "test_dataset = ScenesDataset(X_test, y_test, transform=transform)"
      ]
    },
    {
      "cell_type": "code",
      "execution_count": 10,
      "id": "f3f2bd60",
      "metadata": {
        "lines_to_next_cell": 0,
        "id": "f3f2bd60"
      },
      "outputs": [],
      "source": [
        "train_batch_size = 64\n",
        "test_batch_size = 8\n",
        "\n",
        "train_loader = DataLoader(\n",
        "    train_dataset,\n",
        "    batch_size=train_batch_size,\n",
        "    shuffle=True\n",
        ")\n",
        "val_loader = DataLoader(\n",
        "    val_dataset,\n",
        "    batch_size=test_batch_size,\n",
        "    shuffle=False\n",
        ")\n",
        "test_loader = DataLoader(\n",
        "    test_dataset,\n",
        "    batch_size=test_batch_size,\n",
        "    shuffle=False\n",
        ")"
      ]
    },
    {
      "cell_type": "code",
      "execution_count": 11,
      "id": "a5865115",
      "metadata": {
        "lines_to_next_cell": 0,
        "id": "a5865115"
      },
      "outputs": [],
      "source": [
        "class BottleneckBlock(nn.Module):\n",
        "    def __init__(self, in_channels, growth_rate):\n",
        "        super(BottleneckBlock, self).__init__()\n",
        "        self.bn1 = nn.BatchNorm2d(in_channels)\n",
        "        self.conv1 = nn.Conv2d(in_channels, 4 * growth_rate, kernel_size=1, bias=False)\n",
        "        self.bn2 = nn.BatchNorm2d(4 * growth_rate)\n",
        "        self.conv2 = nn.Conv2d(4 * growth_rate, growth_rate, kernel_size=3, padding=1, bias=False)\n",
        "        self.relu = nn.ReLU()\n",
        "\n",
        "    def forward(self, x):\n",
        "        res = x.clone().detach()\n",
        "        x = self.bn1(x)\n",
        "        x = self.relu(x)\n",
        "        x = self.conv1(x)\n",
        "        x = self.bn2(x)\n",
        "        x = self.relu(x)\n",
        "        x = self.conv2(x)\n",
        "        x = torch.cat([res, x], 1)\n",
        "\n",
        "        return x\n",
        "\n",
        "class DenseBlock(nn.Module):\n",
        "    def __init__(self, num_layers, in_channels, growth_rate):\n",
        "        super(DenseBlock, self).__init__()\n",
        "        layers = []\n",
        "        for i in range(num_layers):\n",
        "            layers.append(BottleneckBlock(in_channels + i * growth_rate, growth_rate))\n",
        "        self.block = nn.Sequential(*layers)\n",
        "\n",
        "    def forward(self, x):\n",
        "        return self.block(x)"
      ]
    },
    {
      "cell_type": "code",
      "execution_count": 12,
      "id": "88ed8acd",
      "metadata": {
        "lines_to_next_cell": 0,
        "id": "88ed8acd"
      },
      "outputs": [],
      "source": [
        "class DenseNet(nn.Module):\n",
        "    def __init__(self, num_blocks, growth_rate, num_classes):\n",
        "        super(DenseNet, self).__init__()\n",
        "        self.conv1 = nn.Conv2d(3, 2 * growth_rate, kernel_size=7, padding=3, stride=2, bias=False)\n",
        "        self.bn1 = nn.BatchNorm2d(2 * growth_rate)\n",
        "        self.pool1 = nn.MaxPool2d(kernel_size=3, stride=2, padding=1)\n",
        "\n",
        "        self.dense_blocks = nn.ModuleList()\n",
        "        in_channels = 2 * growth_rate\n",
        "        for i, num_layers in enumerate(num_blocks):\n",
        "            self.dense_blocks.append(DenseBlock(num_layers, in_channels, growth_rate))\n",
        "            in_channels += num_layers * growth_rate\n",
        "            if i != len(num_blocks) - 1:\n",
        "                out_channels = in_channels // 2\n",
        "                self.dense_blocks.append(nn.Sequential(\n",
        "                    nn.BatchNorm2d(in_channels),\n",
        "                    nn.Conv2d(in_channels, out_channels, kernel_size=1, bias=False),\n",
        "                    nn.AvgPool2d(kernel_size=2, stride=2)\n",
        "                ))\n",
        "                in_channels = out_channels\n",
        "\n",
        "        self.bn2 = nn.BatchNorm2d(in_channels)\n",
        "        self.pool2 = nn.AvgPool2d(kernel_size=7)\n",
        "        self.relu = nn.ReLU()\n",
        "        self.fc = nn.Linear(in_channels, num_classes)\n",
        "\n",
        "    def forward(self, x):\n",
        "        x = self.conv1(x)\n",
        "        x = self.bn1(x)\n",
        "        x = self.relu(x)\n",
        "        x = self.pool1(x)\n",
        "        for block in self.dense_blocks:\n",
        "            x = block(x)\n",
        "\n",
        "        x = self.bn2(x)\n",
        "        x = self.relu(x)\n",
        "        x = self.pool2(x)\n",
        "        x = x.view(x.size(0), -1)\n",
        "        x = self.fc(x)\n",
        "\n",
        "        return x"
      ]
    },
    {
      "cell_type": "code",
      "execution_count": 13,
      "id": "daed8e58",
      "metadata": {
        "lines_to_next_cell": 0,
        "id": "daed8e58"
      },
      "outputs": [],
      "source": [
        "n_classes = len(list(classes.keys()))\n",
        "device = 'cuda' if torch.cuda.is_available() else 'cpu'\n",
        "\n",
        "model = DenseNet(\n",
        "    [6, 12, 24, 16],\n",
        "    growth_rate=32,\n",
        "    num_classes=n_classes\n",
        ").to(device)"
      ]
    },
    {
      "cell_type": "code",
      "execution_count": 14,
      "id": "3a1c43a0",
      "metadata": {
        "lines_to_next_cell": 0,
        "id": "3a1c43a0"
      },
      "outputs": [],
      "source": [
        "lr = 1e-2\n",
        "epochs = 15\n",
        "\n",
        "criterion = nn.CrossEntropyLoss()\n",
        "optimizer = torch.optim.SGD(\n",
        "    model.parameters(),\n",
        "    lr=lr\n",
        ")"
      ]
    },
    {
      "cell_type": "code",
      "execution_count": 15,
      "id": "51bf4695",
      "metadata": {
        "lines_to_next_cell": 0,
        "id": "51bf4695"
      },
      "outputs": [],
      "source": [
        "def evaluate(model, dataloader, criterion, device):\n",
        "    model.eval()\n",
        "    correct = 0\n",
        "    total = 0\n",
        "    losses = []\n",
        "    with torch.no_grad():\n",
        "        for inputs, labels in dataloader:\n",
        "            inputs, labels = inputs.to(device), labels.to(device)\n",
        "            outputs = model(inputs)\n",
        "            loss = criterion(outputs, labels)\n",
        "            losses.append(loss.item())\n",
        "            _, predicted = torch.max(outputs.data, dim=1)\n",
        "            total += labels.size(0)\n",
        "            correct += (predicted == labels).sum().item()\n",
        "\n",
        "    loss = sum(losses) / len(losses)\n",
        "    acc = correct / total\n",
        "\n",
        "    return loss, acc"
      ]
    },
    {
      "cell_type": "code",
      "execution_count": 16,
      "id": "7bbdf32e",
      "metadata": {
        "lines_to_next_cell": 0,
        "id": "7bbdf32e"
      },
      "outputs": [],
      "source": [
        "def fit(model, train_loader, val_loader, criterion, optimizer, device, epochs):\n",
        "    train_losses = []\n",
        "    val_losses = []\n",
        "\n",
        "    for epoch in range(epochs):\n",
        "        batch_train_losses = []\n",
        "\n",
        "        model.train()\n",
        "        for idx, (inputs, labels) in enumerate(train_loader):\n",
        "            inputs, labels = inputs.to(device), labels.to(device)\n",
        "\n",
        "            optimizer.zero_grad()\n",
        "            outputs = model(inputs)\n",
        "            loss = criterion(outputs, labels)\n",
        "            loss.backward()\n",
        "            optimizer.step()\n",
        "\n",
        "            batch_train_losses.append(loss.item())\n",
        "\n",
        "        train_loss = sum(batch_train_losses) / len(batch_train_losses)\n",
        "        train_losses.append(train_loss)\n",
        "\n",
        "        val_loss, val_acc = evaluate(model, val_loader, criterion, device)\n",
        "        val_losses.append(val_loss)\n",
        "\n",
        "        print(f'EPOCH {epoch + 1}:\\tTrain loss: {train_loss:.4f}\\tVal loss: {val_loss:.4f}')\n",
        "\n",
        "    return train_losses, val_losses"
      ]
    },
    {
      "cell_type": "code",
      "execution_count": 17,
      "id": "7d5f2c60",
      "metadata": {
        "lines_to_next_cell": 0,
        "colab": {
          "base_uri": "https://localhost:8080/"
        },
        "id": "7d5f2c60",
        "outputId": "a907dbb1-1155-4998-e842-13e4731e323f"
      },
      "outputs": [
        {
          "output_type": "stream",
          "name": "stdout",
          "text": [
            "EPOCH 1:\tTrain loss: 1.4477\tVal loss: 1.2627\n",
            "EPOCH 2:\tTrain loss: 1.2126\tVal loss: 1.1484\n",
            "EPOCH 3:\tTrain loss: 1.1305\tVal loss: 1.0838\n",
            "EPOCH 4:\tTrain loss: 1.0692\tVal loss: 1.0296\n",
            "EPOCH 5:\tTrain loss: 1.0210\tVal loss: 0.9905\n",
            "EPOCH 6:\tTrain loss: 0.9718\tVal loss: 0.9446\n",
            "EPOCH 7:\tTrain loss: 0.9270\tVal loss: 0.9020\n",
            "EPOCH 8:\tTrain loss: 0.8860\tVal loss: 0.8626\n",
            "EPOCH 9:\tTrain loss: 0.8444\tVal loss: 0.8282\n",
            "EPOCH 10:\tTrain loss: 0.8127\tVal loss: 0.8025\n",
            "EPOCH 11:\tTrain loss: 0.7893\tVal loss: 0.7728\n",
            "EPOCH 12:\tTrain loss: 0.7505\tVal loss: 0.7416\n",
            "EPOCH 13:\tTrain loss: 0.7169\tVal loss: 0.7274\n",
            "EPOCH 14:\tTrain loss: 0.6838\tVal loss: 0.7087\n",
            "EPOCH 15:\tTrain loss: 0.6558\tVal loss: 0.6653\n"
          ]
        }
      ],
      "source": [
        "train_losses, val_losses = fit(\n",
        "    model,\n",
        "    train_loader,\n",
        "    val_loader,\n",
        "    criterion,\n",
        "    optimizer,\n",
        "    device,\n",
        "    epochs\n",
        ")"
      ]
    },
    {
      "cell_type": "code",
      "execution_count": 18,
      "id": "87a2350c",
      "metadata": {
        "colab": {
          "base_uri": "https://localhost:8080/"
        },
        "id": "87a2350c",
        "outputId": "80a87582-ea79-4d06-af84-9a66cf3d012a"
      },
      "outputs": [
        {
          "output_type": "stream",
          "name": "stdout",
          "text": [
            "Evaluation in val/test dataset\n",
            "Val accuracy:  0.7680798004987531\n",
            "Test accuracy:  0.7593333333333333\n"
          ]
        }
      ],
      "source": [
        "val_loss, val_acc = evaluate(\n",
        "    model,\n",
        "    val_loader,\n",
        "    criterion,\n",
        "    device\n",
        ")\n",
        "test_loss, test_acc = evaluate(\n",
        "    model,\n",
        "    test_loader,\n",
        "    criterion,\n",
        "    device\n",
        ")\n",
        "\n",
        "print(\"Evaluation in val/test dataset\")\n",
        "print(\"Val accuracy: \", val_acc)\n",
        "print(\"Test accuracy: \", test_acc)"
      ]
    }
  ],
  "metadata": {
    "kernelspec": {
      "display_name": "Python 3",
      "name": "python3"
    },
    "language_info": {
      "codemirror_mode": {
        "name": "ipython"
      },
      "file_extension": ".py",
      "mimetype": "text/x-python",
      "name": "python",
      "nbconvert_exporter": "python",
      "pygments_lexer": "ipython3"
    },
    "colab": {
      "provenance": [],
      "gpuType": "T4"
    },
    "accelerator": "GPU"
  },
  "nbformat": 4,
  "nbformat_minor": 5
}