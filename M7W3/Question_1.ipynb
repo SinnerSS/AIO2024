{
 "cells": [
  {
   "cell_type": "code",
   "execution_count": 1,
   "id": "f33fa232",
   "metadata": {
    "lines_to_next_cell": 0
   },
   "outputs": [
    {
     "data": {
      "text/plain": [
       "Creating new Ultralytics Settings v0.0.6 file ✅ \n",
       "View Ultralytics Settings with 'yolo settings' or at '/home/Sinner/.config/Ultralytics/settings.json'\n",
       "Update Settings with 'yolo settings key=value', i.e. 'yolo settings runs_dir=path/to/dir'. For help see https://docs.ultralytics.com/quickstart/#ultralytics-settings.\n"
      ]
     },
     "metadata": {},
     "output_type": "display_data"
    }
   ],
   "source": [
    "import cv2\n",
    "import numpy as np\n",
    "from tqdm import tqdm\n",
    "from collections import defaultdict\n",
    "\n",
    "from loguru import logger\n",
    "from ultralytics import YOLO"
   ]
  },
  {
   "cell_type": "code",
   "execution_count": 2,
   "id": "0b5cc9c2",
   "metadata": {
    "lines_to_next_cell": 0
   },
   "outputs": [
    {
     "data": {
      "text/plain": [
       "Downloading https://github.com/ultralytics/assets/releases/download/v8.3.0/yolo11l.pt to 'yolo11l.pt'...\n",
       "\n",
       "100%|██████████| 49.0M/49.0M [00:01<00:00, 27.8MB/s]"
      ]
     },
     "metadata": {},
     "output_type": "display_data"
    },
    {
     "data": {
      "text/plain": [
       "\n"
      ]
     },
     "metadata": {},
     "output_type": "display_data"
    }
   ],
   "source": [
    "model = YOLO('yolo11l.pt')\n",
    "\n",
    "video_path = 'samples/vietnam.mp4'\n",
    "cap = cv2.VideoCapture(video_path)"
   ]
  },
  {
   "cell_type": "code",
   "execution_count": 3,
   "id": "26de4ac3",
   "metadata": {
    "lines_to_next_cell": 0
   },
   "outputs": [],
   "source": [
    "width = int(cap.get(cv2.CAP_PROP_FRAME_WIDTH))\n",
    "height = int(cap.get(cv2.CAP_PROP_FRAME_HEIGHT))\n",
    "fps = int(cap.get(cv2.CAP_PROP_FPS))\n",
    "\n",
    "video_name = video_path.split('/')[-1]\n",
    "output_path = f'run/{video_name.split(\".\")[0]}_tracked.mp4'\n",
    "fourcc = cv2.VideoWriter_fourcc(*'mp4v')\n",
    "out = cv2.VideoWriter(output_path, fourcc, fps, (width, height))"
   ]
  },
  {
   "cell_type": "code",
   "execution_count": 4,
   "id": "dc3359ca",
   "metadata": {
    "lines_to_next_cell": 0
   },
   "outputs": [
    {
     "data": {
      "text/plain": [
       "\u001b[31m\u001b[1mrequirements:\u001b[0m Ultralytics requirement ['lap>=0.5.12'] not found, attempting AutoUpdate...\n"
      ]
     },
     "metadata": {},
     "output_type": "display_data"
    },
    {
     "data": {
      "text/plain": [
       "Collecting lap>=0.5.12\n",
       "  Downloading lap-0.5.12-cp311-cp311-manylinux_2_5_x86_64.manylinux1_x86_64.manylinux_2_17_x86_64.manylinux2014_x86_64.whl.metadata (6.2 kB)\n",
       "Requirement already satisfied: numpy>=1.21.6 in /home/Sinner/miniforge3/envs/AIO2024/lib/python3.11/site-packages (from lap>=0.5.12) (1.26.4)\n",
       "Downloading lap-0.5.12-cp311-cp311-manylinux_2_5_x86_64.manylinux1_x86_64.manylinux_2_17_x86_64.manylinux2014_x86_64.whl (1.7 MB)\n",
       "\u001b[?25l   \u001b[38;5;237m━━━━━━━━━━━━━━━━━━━━━━━━━━━━━━━━━━━━━━━━\u001b[0m \u001b[32m0.0/1.7 MB\u001b[0m \u001b[31m?\u001b[0m eta \u001b[36m-:--:--\u001b[0m\r",
       "\u001b[2K   \u001b[38;2;249;38;114m━━━━━━━━━━━━\u001b[0m\u001b[38;5;237m╺\u001b[0m\u001b[38;5;237m━━━━━━━━━━━━━━━━━━━━━━━━━━━\u001b[0m \u001b[32m0.5/1.7 MB\u001b[0m \u001b[31m4.9 MB/s\u001b[0m eta \u001b[36m0:00:01\u001b[0m\r",
       "\u001b[2K   \u001b[38;2;114;156;31m━━━━━━━━━━━━━━━━━━━━━━━━━━━━━━━━━━━━━━━━\u001b[0m \u001b[32m1.7/1.7 MB\u001b[0m \u001b[31m9.7 MB/s\u001b[0m eta \u001b[36m0:00:00\u001b[0m\n",
       "\u001b[?25hInstalling collected packages: lap\n",
       "Successfully installed lap-0.5.12\n",
       "\n"
      ]
     },
     "metadata": {},
     "output_type": "display_data"
    },
    {
     "data": {
      "text/plain": [
       "\u001b[31m\u001b[1mrequirements:\u001b[0m AutoUpdate success ✅ 2.3s, installed 1 package: ['lap>=0.5.12']\n",
       "\u001b[31m\u001b[1mrequirements:\u001b[0m ⚠️ \u001b[1mRestart runtime or rerun command for updates to take effect\u001b[0m\n",
       "\n"
      ]
     },
     "metadata": {},
     "output_type": "display_data"
    },
    {
     "data": {
      "text/plain": [
       "\n"
      ]
     },
     "metadata": {},
     "output_type": "display_data"
    },
    {
     "data": {
      "text/plain": [
       "0: 384x640 19 persons, 6 cars, 26 motorcycles, 2 buss, 2 trucks, 448.2ms\n"
      ]
     },
     "metadata": {},
     "output_type": "display_data"
    },
    {
     "data": {
      "text/plain": [
       "Speed: 2.2ms preprocess, 448.2ms inference, 1.4ms postprocess per image at shape (1, 3, 384, 640)\n"
      ]
     },
     "metadata": {},
     "output_type": "display_data"
    },
    {
     "data": {
      "text/plain": [
       "\n"
      ]
     },
     "metadata": {},
     "output_type": "display_data"
    },
    {
     "data": {
      "text/plain": [
       "0: 384x640 19 persons, 6 cars, 26 motorcycles, 1 bus, 2 trucks, 306.0ms\n"
      ]
     },
     "metadata": {},
     "output_type": "display_data"
    },
    {
     "data": {
      "text/plain": [
       "Speed: 1.6ms preprocess, 306.0ms inference, 0.9ms postprocess per image at shape (1, 3, 384, 640)\n"
      ]
     },
     "metadata": {},
     "output_type": "display_data"
    },
    {
     "data": {
      "text/plain": [
       "\n"
      ]
     },
     "metadata": {},
     "output_type": "display_data"
    },
    {
     "data": {
      "text/plain": [
       "0: 384x640 19 persons, 5 cars, 25 motorcycles, 1 bus, 3 trucks, 331.4ms\n"
      ]
     },
     "metadata": {},
     "output_type": "display_data"
    },
    {
     "data": {
      "text/plain": [
       "Speed: 1.4ms preprocess, 331.4ms inference, 0.8ms postprocess per image at shape (1, 3, 384, 640)\n"
      ]
     },
     "metadata": {},
     "output_type": "display_data"
    },
    {
     "data": {
      "text/plain": [
       "\n"
      ]
     },
     "metadata": {},
     "output_type": "display_data"
    },
    {
     "data": {
      "text/plain": [
       "0: 384x640 19 persons, 5 cars, 25 motorcycles, 1 bus, 4 trucks, 324.0ms\n"
      ]
     },
     "metadata": {},
     "output_type": "display_data"
    },
    {
     "data": {
      "text/plain": [
       "Speed: 1.3ms preprocess, 324.0ms inference, 0.9ms postprocess per image at shape (1, 3, 384, 640)\n"
      ]
     },
     "metadata": {},
     "output_type": "display_data"
    },
    {
     "data": {
      "text/plain": [
       "\n"
      ]
     },
     "metadata": {},
     "output_type": "display_data"
    },
    {
     "data": {
      "text/plain": [
       "0: 384x640 18 persons, 5 cars, 25 motorcycles, 1 bus, 4 trucks, 1 backpack, 315.8ms\n"
      ]
     },
     "metadata": {},
     "output_type": "display_data"
    },
    {
     "data": {
      "text/plain": [
       "Speed: 1.6ms preprocess, 315.8ms inference, 1.4ms postprocess per image at shape (1, 3, 384, 640)\n"
      ]
     },
     "metadata": {},
     "output_type": "display_data"
    },
    {
     "data": {
      "text/plain": [
       "\n"
      ]
     },
     "metadata": {},
     "output_type": "display_data"
    },
    {
     "data": {
      "text/plain": [
       "0: 384x640 18 persons, 5 cars, 25 motorcycles, 1 bus, 4 trucks, 1 backpack, 335.2ms\n"
      ]
     },
     "metadata": {},
     "output_type": "display_data"
    },
    {
     "data": {
      "text/plain": [
       "Speed: 2.1ms preprocess, 335.2ms inference, 0.9ms postprocess per image at shape (1, 3, 384, 640)\n"
      ]
     },
     "metadata": {},
     "output_type": "display_data"
    },
    {
     "data": {
      "text/plain": [
       "\n"
      ]
     },
     "metadata": {},
     "output_type": "display_data"
    },
    {
     "data": {
      "text/plain": [
       "0: 384x640 18 persons, 5 cars, 27 motorcycles, 1 bus, 4 trucks, 1 backpack, 320.8ms\n"
      ]
     },
     "metadata": {},
     "output_type": "display_data"
    },
    {
     "data": {
      "text/plain": [
       "Speed: 1.5ms preprocess, 320.8ms inference, 1.0ms postprocess per image at shape (1, 3, 384, 640)\n"
      ]
     },
     "metadata": {},
     "output_type": "display_data"
    },
    {
     "data": {
      "text/plain": [
       "\n"
      ]
     },
     "metadata": {},
     "output_type": "display_data"
    },
    {
     "data": {
      "text/plain": [
       "0: 384x640 18 persons, 5 cars, 27 motorcycles, 2 buss, 3 trucks, 1 backpack, 318.2ms\n"
      ]
     },
     "metadata": {},
     "output_type": "display_data"
    },
    {
     "data": {
      "text/plain": [
       "Speed: 1.5ms preprocess, 318.2ms inference, 0.9ms postprocess per image at shape (1, 3, 384, 640)\n"
      ]
     },
     "metadata": {},
     "output_type": "display_data"
    },
    {
     "data": {
      "text/plain": [
       "\n"
      ]
     },
     "metadata": {},
     "output_type": "display_data"
    },
    {
     "data": {
      "text/plain": [
       "0: 384x640 18 persons, 6 cars, 27 motorcycles, 2 buss, 3 trucks, 1 backpack, 328.7ms\n"
      ]
     },
     "metadata": {},
     "output_type": "display_data"
    },
    {
     "data": {
      "text/plain": [
       "Speed: 1.6ms preprocess, 328.7ms inference, 0.8ms postprocess per image at shape (1, 3, 384, 640)\n"
      ]
     },
     "metadata": {},
     "output_type": "display_data"
    },
    {
     "data": {
      "text/plain": [
       "\n"
      ]
     },
     "metadata": {},
     "output_type": "display_data"
    },
    {
     "data": {
      "text/plain": [
       "0: 384x640 18 persons, 5 cars, 27 motorcycles, 2 buss, 3 trucks, 1 backpack, 312.6ms\n"
      ]
     },
     "metadata": {},
     "output_type": "display_data"
    },
    {
     "data": {
      "text/plain": [
       "Speed: 1.5ms preprocess, 312.6ms inference, 0.9ms postprocess per image at shape (1, 3, 384, 640)\n"
      ]
     },
     "metadata": {},
     "output_type": "display_data"
    },
    {
     "data": {
      "text/plain": [
       "\n"
      ]
     },
     "metadata": {},
     "output_type": "display_data"
    },
    {
     "data": {
      "text/plain": [
       "0: 384x640 18 persons, 6 cars, 26 motorcycles, 2 buss, 2 trucks, 1 backpack, 326.3ms\n"
      ]
     },
     "metadata": {},
     "output_type": "display_data"
    },
    {
     "data": {
      "text/plain": [
       "Speed: 1.4ms preprocess, 326.3ms inference, 0.9ms postprocess per image at shape (1, 3, 384, 640)\n"
      ]
     },
     "metadata": {},
     "output_type": "display_data"
    },
    {
     "data": {
      "text/plain": [
       "\n"
      ]
     },
     "metadata": {},
     "output_type": "display_data"
    },
    {
     "data": {
      "text/plain": [
       "0: 384x640 18 persons, 7 cars, 26 motorcycles, 3 buss, 2 trucks, 1 backpack, 316.1ms\n"
      ]
     },
     "metadata": {},
     "output_type": "display_data"
    },
    {
     "data": {
      "text/plain": [
       "Speed: 1.3ms preprocess, 316.1ms inference, 0.8ms postprocess per image at shape (1, 3, 384, 640)\n"
      ]
     },
     "metadata": {},
     "output_type": "display_data"
    },
    {
     "data": {
      "text/plain": [
       "\n"
      ]
     },
     "metadata": {},
     "output_type": "display_data"
    },
    {
     "data": {
      "text/plain": [
       "0: 384x640 18 persons, 7 cars, 26 motorcycles, 3 buss, 2 trucks, 1 backpack, 311.4ms\n"
      ]
     },
     "metadata": {},
     "output_type": "display_data"
    },
    {
     "data": {
      "text/plain": [
       "Speed: 1.4ms preprocess, 311.4ms inference, 1.1ms postprocess per image at shape (1, 3, 384, 640)\n"
      ]
     },
     "metadata": {},
     "output_type": "display_data"
    },
    {
     "data": {
      "text/plain": [
       "\n"
      ]
     },
     "metadata": {},
     "output_type": "display_data"
    },
    {
     "data": {
      "text/plain": [
       "0: 384x640 17 persons, 7 cars, 27 motorcycles, 3 buss, 2 trucks, 1 backpack, 328.8ms\n"
      ]
     },
     "metadata": {},
     "output_type": "display_data"
    },
    {
     "data": {
      "text/plain": [
       "Speed: 1.6ms preprocess, 328.8ms inference, 0.9ms postprocess per image at shape (1, 3, 384, 640)\n"
      ]
     },
     "metadata": {},
     "output_type": "display_data"
    },
    {
     "data": {
      "text/plain": [
       "\n"
      ]
     },
     "metadata": {},
     "output_type": "display_data"
    },
    {
     "data": {
      "text/plain": [
       "0: 384x640 17 persons, 7 cars, 27 motorcycles, 3 buss, 2 trucks, 1 backpack, 311.4ms\n"
      ]
     },
     "metadata": {},
     "output_type": "display_data"
    },
    {
     "data": {
      "text/plain": [
       "Speed: 1.6ms preprocess, 311.4ms inference, 0.8ms postprocess per image at shape (1, 3, 384, 640)\n"
      ]
     },
     "metadata": {},
     "output_type": "display_data"
    },
    {
     "data": {
      "text/plain": [
       "\n"
      ]
     },
     "metadata": {},
     "output_type": "display_data"
    },
    {
     "data": {
      "text/plain": [
       "0: 384x640 17 persons, 7 cars, 26 motorcycles, 3 buss, 2 trucks, 1 backpack, 306.8ms\n"
      ]
     },
     "metadata": {},
     "output_type": "display_data"
    },
    {
     "data": {
      "text/plain": [
       "Speed: 1.5ms preprocess, 306.8ms inference, 0.8ms postprocess per image at shape (1, 3, 384, 640)\n"
      ]
     },
     "metadata": {},
     "output_type": "display_data"
    },
    {
     "data": {
      "text/plain": [
       "\n"
      ]
     },
     "metadata": {},
     "output_type": "display_data"
    },
    {
     "data": {
      "text/plain": [
       "0: 384x640 18 persons, 7 cars, 26 motorcycles, 3 buss, 2 trucks, 1 backpack, 332.2ms\n"
      ]
     },
     "metadata": {},
     "output_type": "display_data"
    },
    {
     "data": {
      "text/plain": [
       "Speed: 1.6ms preprocess, 332.2ms inference, 0.8ms postprocess per image at shape (1, 3, 384, 640)\n"
      ]
     },
     "metadata": {},
     "output_type": "display_data"
    },
    {
     "data": {
      "text/plain": [
       "\n"
      ]
     },
     "metadata": {},
     "output_type": "display_data"
    },
    {
     "data": {
      "text/plain": [
       "0: 384x640 18 persons, 7 cars, 26 motorcycles, 3 buss, 2 trucks, 1 backpack, 315.4ms\n"
      ]
     },
     "metadata": {},
     "output_type": "display_data"
    },
    {
     "data": {
      "text/plain": [
       "Speed: 1.4ms preprocess, 315.4ms inference, 0.8ms postprocess per image at shape (1, 3, 384, 640)\n"
      ]
     },
     "metadata": {},
     "output_type": "display_data"
    },
    {
     "data": {
      "text/plain": [
       "\n"
      ]
     },
     "metadata": {},
     "output_type": "display_data"
    },
    {
     "data": {
      "text/plain": [
       "0: 384x640 17 persons, 7 cars, 26 motorcycles, 3 buss, 2 trucks, 1 backpack, 335.1ms\n"
      ]
     },
     "metadata": {},
     "output_type": "display_data"
    },
    {
     "data": {
      "text/plain": [
       "Speed: 1.4ms preprocess, 335.1ms inference, 0.8ms postprocess per image at shape (1, 3, 384, 640)\n"
      ]
     },
     "metadata": {},
     "output_type": "display_data"
    },
    {
     "data": {
      "text/plain": [
       "\n"
      ]
     },
     "metadata": {},
     "output_type": "display_data"
    },
    {
     "data": {
      "text/plain": [
       "0: 384x640 17 persons, 7 cars, 25 motorcycles, 2 buss, 1 truck, 1 backpack, 315.4ms\n"
      ]
     },
     "metadata": {},
     "output_type": "display_data"
    },
    {
     "data": {
      "text/plain": [
       "Speed: 2.4ms preprocess, 315.4ms inference, 0.8ms postprocess per image at shape (1, 3, 384, 640)\n"
      ]
     },
     "metadata": {},
     "output_type": "display_data"
    },
    {
     "data": {
      "text/plain": [
       "\n"
      ]
     },
     "metadata": {},
     "output_type": "display_data"
    },
    {
     "data": {
      "text/plain": [
       "0: 384x640 17 persons, 7 cars, 25 motorcycles, 3 buss, 1 truck, 1 backpack, 310.2ms\n"
      ]
     },
     "metadata": {},
     "output_type": "display_data"
    },
    {
     "data": {
      "text/plain": [
       "Speed: 1.4ms preprocess, 310.2ms inference, 1.2ms postprocess per image at shape (1, 3, 384, 640)\n"
      ]
     },
     "metadata": {},
     "output_type": "display_data"
    },
    {
     "data": {
      "text/plain": [
       "\n"
      ]
     },
     "metadata": {},
     "output_type": "display_data"
    },
    {
     "data": {
      "text/plain": [
       "0: 384x640 17 persons, 7 cars, 26 motorcycles, 3 buss, 1 truck, 1 backpack, 329.4ms\n"
      ]
     },
     "metadata": {},
     "output_type": "display_data"
    },
    {
     "data": {
      "text/plain": [
       "Speed: 1.6ms preprocess, 329.4ms inference, 1.4ms postprocess per image at shape (1, 3, 384, 640)\n"
      ]
     },
     "metadata": {},
     "output_type": "display_data"
    },
    {
     "data": {
      "text/plain": [
       "\n"
      ]
     },
     "metadata": {},
     "output_type": "display_data"
    },
    {
     "data": {
      "text/plain": [
       "0: 384x640 17 persons, 7 cars, 26 motorcycles, 3 buss, 1 truck, 1 backpack, 316.3ms\n"
      ]
     },
     "metadata": {},
     "output_type": "display_data"
    },
    {
     "data": {
      "text/plain": [
       "Speed: 1.5ms preprocess, 316.3ms inference, 0.8ms postprocess per image at shape (1, 3, 384, 640)\n"
      ]
     },
     "metadata": {},
     "output_type": "display_data"
    },
    {
     "data": {
      "text/plain": [
       "\n"
      ]
     },
     "metadata": {},
     "output_type": "display_data"
    },
    {
     "data": {
      "text/plain": [
       "0: 384x640 16 persons, 7 cars, 25 motorcycles, 3 buss, 2 trucks, 1 backpack, 317.1ms\n"
      ]
     },
     "metadata": {},
     "output_type": "display_data"
    },
    {
     "data": {
      "text/plain": [
       "Speed: 1.7ms preprocess, 317.1ms inference, 1.3ms postprocess per image at shape (1, 3, 384, 640)\n"
      ]
     },
     "metadata": {},
     "output_type": "display_data"
    },
    {
     "data": {
      "text/plain": [
       "\n"
      ]
     },
     "metadata": {},
     "output_type": "display_data"
    },
    {
     "data": {
      "text/plain": [
       "0: 384x640 16 persons, 7 cars, 25 motorcycles, 3 buss, 2 trucks, 1 backpack, 323.3ms\n"
      ]
     },
     "metadata": {},
     "output_type": "display_data"
    },
    {
     "data": {
      "text/plain": [
       "Speed: 2.2ms preprocess, 323.3ms inference, 1.0ms postprocess per image at shape (1, 3, 384, 640)\n"
      ]
     },
     "metadata": {},
     "output_type": "display_data"
    },
    {
     "data": {
      "text/plain": [
       "\n"
      ]
     },
     "metadata": {},
     "output_type": "display_data"
    },
    {
     "data": {
      "text/plain": [
       "0: 384x640 16 persons, 7 cars, 25 motorcycles, 3 buss, 1 truck, 1 backpack, 311.0ms\n"
      ]
     },
     "metadata": {},
     "output_type": "display_data"
    },
    {
     "data": {
      "text/plain": [
       "Speed: 1.5ms preprocess, 311.0ms inference, 0.9ms postprocess per image at shape (1, 3, 384, 640)\n"
      ]
     },
     "metadata": {},
     "output_type": "display_data"
    },
    {
     "data": {
      "text/plain": [
       "\n"
      ]
     },
     "metadata": {},
     "output_type": "display_data"
    },
    {
     "data": {
      "text/plain": [
       "0: 384x640 16 persons, 7 cars, 23 motorcycles, 3 buss, 1 truck, 1 backpack, 329.3ms\n"
      ]
     },
     "metadata": {},
     "output_type": "display_data"
    },
    {
     "data": {
      "text/plain": [
       "Speed: 1.4ms preprocess, 329.3ms inference, 0.8ms postprocess per image at shape (1, 3, 384, 640)\n"
      ]
     },
     "metadata": {},
     "output_type": "display_data"
    },
    {
     "data": {
      "text/plain": [
       "\n"
      ]
     },
     "metadata": {},
     "output_type": "display_data"
    },
    {
     "data": {
      "text/plain": [
       "0: 384x640 16 persons, 7 cars, 24 motorcycles, 3 buss, 1 truck, 1 backpack, 316.9ms\n"
      ]
     },
     "metadata": {},
     "output_type": "display_data"
    },
    {
     "data": {
      "text/plain": [
       "Speed: 1.4ms preprocess, 316.9ms inference, 0.8ms postprocess per image at shape (1, 3, 384, 640)\n"
      ]
     },
     "metadata": {},
     "output_type": "display_data"
    },
    {
     "data": {
      "text/plain": [
       "\n"
      ]
     },
     "metadata": {},
     "output_type": "display_data"
    },
    {
     "data": {
      "text/plain": [
       "0: 384x640 16 persons, 7 cars, 24 motorcycles, 3 buss, 2 trucks, 1 backpack, 343.7ms\n"
      ]
     },
     "metadata": {},
     "output_type": "display_data"
    },
    {
     "data": {
      "text/plain": [
       "Speed: 1.6ms preprocess, 343.7ms inference, 1.0ms postprocess per image at shape (1, 3, 384, 640)\n"
      ]
     },
     "metadata": {},
     "output_type": "display_data"
    },
    {
     "data": {
      "text/plain": [
       "\n"
      ]
     },
     "metadata": {},
     "output_type": "display_data"
    },
    {
     "data": {
      "text/plain": [
       "0: 384x640 16 persons, 7 cars, 24 motorcycles, 3 buss, 1 truck, 1 backpack, 413.9ms\n"
      ]
     },
     "metadata": {},
     "output_type": "display_data"
    },
    {
     "data": {
      "text/plain": [
       "Speed: 2.1ms preprocess, 413.9ms inference, 1.0ms postprocess per image at shape (1, 3, 384, 640)\n"
      ]
     },
     "metadata": {},
     "output_type": "display_data"
    },
    {
     "data": {
      "text/plain": [
       "\n"
      ]
     },
     "metadata": {},
     "output_type": "display_data"
    },
    {
     "data": {
      "text/plain": [
       "0: 384x640 17 persons, 7 cars, 24 motorcycles, 3 buss, 1 truck, 1 backpack, 414.6ms\n"
      ]
     },
     "metadata": {},
     "output_type": "display_data"
    },
    {
     "data": {
      "text/plain": [
       "Speed: 2.0ms preprocess, 414.6ms inference, 1.2ms postprocess per image at shape (1, 3, 384, 640)\n"
      ]
     },
     "metadata": {},
     "output_type": "display_data"
    },
    {
     "data": {
      "text/plain": [
       "\n"
      ]
     },
     "metadata": {},
     "output_type": "display_data"
    },
    {
     "data": {
      "text/plain": [
       "0: 384x640 17 persons, 7 cars, 24 motorcycles, 3 buss, 1 truck, 1 backpack, 423.4ms\n"
      ]
     },
     "metadata": {},
     "output_type": "display_data"
    },
    {
     "data": {
      "text/plain": [
       "Speed: 1.9ms preprocess, 423.4ms inference, 1.1ms postprocess per image at shape (1, 3, 384, 640)\n"
      ]
     },
     "metadata": {},
     "output_type": "display_data"
    },
    {
     "data": {
      "text/plain": [
       "\n"
      ]
     },
     "metadata": {},
     "output_type": "display_data"
    },
    {
     "data": {
      "text/plain": [
       "0: 384x640 17 persons, 7 cars, 23 motorcycles, 3 buss, 2 trucks, 1 backpack, 408.5ms\n"
      ]
     },
     "metadata": {},
     "output_type": "display_data"
    },
    {
     "data": {
      "text/plain": [
       "Speed: 2.1ms preprocess, 408.5ms inference, 1.0ms postprocess per image at shape (1, 3, 384, 640)\n"
      ]
     },
     "metadata": {},
     "output_type": "display_data"
    },
    {
     "data": {
      "text/plain": [
       "\n"
      ]
     },
     "metadata": {},
     "output_type": "display_data"
    },
    {
     "data": {
      "text/plain": [
       "0: 384x640 17 persons, 7 cars, 23 motorcycles, 3 buss, 2 trucks, 1 backpack, 439.4ms\n"
      ]
     },
     "metadata": {},
     "output_type": "display_data"
    },
    {
     "data": {
      "text/plain": [
       "Speed: 2.2ms preprocess, 439.4ms inference, 1.3ms postprocess per image at shape (1, 3, 384, 640)\n"
      ]
     },
     "metadata": {},
     "output_type": "display_data"
    },
    {
     "data": {
      "text/plain": [
       "\n"
      ]
     },
     "metadata": {},
     "output_type": "display_data"
    },
    {
     "data": {
      "text/plain": [
       "0: 384x640 17 persons, 7 cars, 24 motorcycles, 3 buss, 2 trucks, 1 backpack, 417.4ms\n"
      ]
     },
     "metadata": {},
     "output_type": "display_data"
    },
    {
     "data": {
      "text/plain": [
       "Speed: 2.3ms preprocess, 417.4ms inference, 1.9ms postprocess per image at shape (1, 3, 384, 640)\n"
      ]
     },
     "metadata": {},
     "output_type": "display_data"
    },
    {
     "data": {
      "text/plain": [
       "\n"
      ]
     },
     "metadata": {},
     "output_type": "display_data"
    },
    {
     "data": {
      "text/plain": [
       "0: 384x640 17 persons, 7 cars, 23 motorcycles, 2 buss, 1 truck, 1 backpack, 429.8ms\n"
      ]
     },
     "metadata": {},
     "output_type": "display_data"
    },
    {
     "data": {
      "text/plain": [
       "Speed: 2.0ms preprocess, 429.8ms inference, 1.1ms postprocess per image at shape (1, 3, 384, 640)\n"
      ]
     },
     "metadata": {},
     "output_type": "display_data"
    },
    {
     "data": {
      "text/plain": [
       "\n"
      ]
     },
     "metadata": {},
     "output_type": "display_data"
    },
    {
     "data": {
      "text/plain": [
       "0: 384x640 17 persons, 7 cars, 23 motorcycles, 2 buss, 3 trucks, 1 backpack, 409.6ms\n"
      ]
     },
     "metadata": {},
     "output_type": "display_data"
    },
    {
     "data": {
      "text/plain": [
       "Speed: 2.0ms preprocess, 409.6ms inference, 1.1ms postprocess per image at shape (1, 3, 384, 640)\n"
      ]
     },
     "metadata": {},
     "output_type": "display_data"
    },
    {
     "data": {
      "text/plain": [
       "\n"
      ]
     },
     "metadata": {},
     "output_type": "display_data"
    },
    {
     "data": {
      "text/plain": [
       "0: 384x640 17 persons, 7 cars, 23 motorcycles, 2 buss, 3 trucks, 1 backpack, 431.8ms\n"
      ]
     },
     "metadata": {},
     "output_type": "display_data"
    },
    {
     "data": {
      "text/plain": [
       "Speed: 2.0ms preprocess, 431.8ms inference, 1.0ms postprocess per image at shape (1, 3, 384, 640)\n"
      ]
     },
     "metadata": {},
     "output_type": "display_data"
    },
    {
     "data": {
      "text/plain": [
       "\n"
      ]
     },
     "metadata": {},
     "output_type": "display_data"
    },
    {
     "data": {
      "text/plain": [
       "0: 384x640 17 persons, 7 cars, 25 motorcycles, 2 buss, 3 trucks, 1 backpack, 409.0ms\n"
      ]
     },
     "metadata": {},
     "output_type": "display_data"
    },
    {
     "data": {
      "text/plain": [
       "Speed: 1.9ms preprocess, 409.0ms inference, 1.0ms postprocess per image at shape (1, 3, 384, 640)\n"
      ]
     },
     "metadata": {},
     "output_type": "display_data"
    },
    {
     "data": {
      "text/plain": [
       "\n"
      ]
     },
     "metadata": {},
     "output_type": "display_data"
    },
    {
     "data": {
      "text/plain": [
       "0: 384x640 17 persons, 7 cars, 25 motorcycles, 2 buss, 2 trucks, 1 backpack, 422.8ms\n"
      ]
     },
     "metadata": {},
     "output_type": "display_data"
    },
    {
     "data": {
      "text/plain": [
       "Speed: 2.2ms preprocess, 422.8ms inference, 1.0ms postprocess per image at shape (1, 3, 384, 640)\n"
      ]
     },
     "metadata": {},
     "output_type": "display_data"
    },
    {
     "data": {
      "text/plain": [
       "\n"
      ]
     },
     "metadata": {},
     "output_type": "display_data"
    },
    {
     "data": {
      "text/plain": [
       "0: 384x640 17 persons, 7 cars, 26 motorcycles, 2 buss, 2 trucks, 1 backpack, 407.7ms\n"
      ]
     },
     "metadata": {},
     "output_type": "display_data"
    },
    {
     "data": {
      "text/plain": [
       "Speed: 2.0ms preprocess, 407.7ms inference, 1.0ms postprocess per image at shape (1, 3, 384, 640)\n"
      ]
     },
     "metadata": {},
     "output_type": "display_data"
    },
    {
     "data": {
      "text/plain": [
       "\n"
      ]
     },
     "metadata": {},
     "output_type": "display_data"
    },
    {
     "data": {
      "text/plain": [
       "0: 384x640 17 persons, 7 cars, 27 motorcycles, 2 buss, 2 trucks, 1 backpack, 414.5ms\n"
      ]
     },
     "metadata": {},
     "output_type": "display_data"
    },
    {
     "data": {
      "text/plain": [
       "Speed: 2.1ms preprocess, 414.5ms inference, 0.9ms postprocess per image at shape (1, 3, 384, 640)\n"
      ]
     },
     "metadata": {},
     "output_type": "display_data"
    },
    {
     "data": {
      "text/plain": [
       "\n"
      ]
     },
     "metadata": {},
     "output_type": "display_data"
    },
    {
     "data": {
      "text/plain": [
       "0: 384x640 16 persons, 7 cars, 25 motorcycles, 2 buss, 2 trucks, 1 backpack, 414.8ms\n"
      ]
     },
     "metadata": {},
     "output_type": "display_data"
    },
    {
     "data": {
      "text/plain": [
       "Speed: 2.3ms preprocess, 414.8ms inference, 1.0ms postprocess per image at shape (1, 3, 384, 640)\n"
      ]
     },
     "metadata": {},
     "output_type": "display_data"
    },
    {
     "data": {
      "text/plain": [
       "\n"
      ]
     },
     "metadata": {},
     "output_type": "display_data"
    },
    {
     "data": {
      "text/plain": [
       "0: 384x640 17 persons, 7 cars, 24 motorcycles, 3 buss, 2 trucks, 1 backpack, 425.2ms\n"
      ]
     },
     "metadata": {},
     "output_type": "display_data"
    },
    {
     "data": {
      "text/plain": [
       "Speed: 2.3ms preprocess, 425.2ms inference, 1.0ms postprocess per image at shape (1, 3, 384, 640)\n"
      ]
     },
     "metadata": {},
     "output_type": "display_data"
    },
    {
     "data": {
      "text/plain": [
       "\n"
      ]
     },
     "metadata": {},
     "output_type": "display_data"
    },
    {
     "data": {
      "text/plain": [
       "0: 384x640 17 persons, 7 cars, 25 motorcycles, 3 buss, 2 trucks, 1 backpack, 410.8ms\n"
      ]
     },
     "metadata": {},
     "output_type": "display_data"
    },
    {
     "data": {
      "text/plain": [
       "Speed: 2.3ms preprocess, 410.8ms inference, 1.1ms postprocess per image at shape (1, 3, 384, 640)\n"
      ]
     },
     "metadata": {},
     "output_type": "display_data"
    },
    {
     "data": {
      "text/plain": [
       "\n"
      ]
     },
     "metadata": {},
     "output_type": "display_data"
    },
    {
     "data": {
      "text/plain": [
       "0: 384x640 17 persons, 7 cars, 25 motorcycles, 3 buss, 2 trucks, 1 backpack, 415.0ms\n"
      ]
     },
     "metadata": {},
     "output_type": "display_data"
    },
    {
     "data": {
      "text/plain": [
       "Speed: 2.1ms preprocess, 415.0ms inference, 1.0ms postprocess per image at shape (1, 3, 384, 640)\n"
      ]
     },
     "metadata": {},
     "output_type": "display_data"
    },
    {
     "data": {
      "text/plain": [
       "\n"
      ]
     },
     "metadata": {},
     "output_type": "display_data"
    },
    {
     "data": {
      "text/plain": [
       "0: 384x640 17 persons, 7 cars, 25 motorcycles, 3 buss, 2 trucks, 1 backpack, 397.9ms\n"
      ]
     },
     "metadata": {},
     "output_type": "display_data"
    },
    {
     "data": {
      "text/plain": [
       "Speed: 2.0ms preprocess, 397.9ms inference, 1.0ms postprocess per image at shape (1, 3, 384, 640)\n"
      ]
     },
     "metadata": {},
     "output_type": "display_data"
    },
    {
     "data": {
      "text/plain": [
       "\n"
      ]
     },
     "metadata": {},
     "output_type": "display_data"
    },
    {
     "data": {
      "text/plain": [
       "0: 384x640 17 persons, 7 cars, 25 motorcycles, 3 buss, 2 trucks, 1 backpack, 419.8ms\n"
      ]
     },
     "metadata": {},
     "output_type": "display_data"
    },
    {
     "data": {
      "text/plain": [
       "Speed: 2.1ms preprocess, 419.8ms inference, 1.0ms postprocess per image at shape (1, 3, 384, 640)\n"
      ]
     },
     "metadata": {},
     "output_type": "display_data"
    },
    {
     "data": {
      "text/plain": [
       "\n"
      ]
     },
     "metadata": {},
     "output_type": "display_data"
    },
    {
     "data": {
      "text/plain": [
       "0: 384x640 17 persons, 7 cars, 25 motorcycles, 3 buss, 2 trucks, 1 backpack, 422.6ms\n"
      ]
     },
     "metadata": {},
     "output_type": "display_data"
    },
    {
     "data": {
      "text/plain": [
       "Speed: 2.2ms preprocess, 422.6ms inference, 1.2ms postprocess per image at shape (1, 3, 384, 640)\n"
      ]
     },
     "metadata": {},
     "output_type": "display_data"
    },
    {
     "data": {
      "text/plain": [
       "\n"
      ]
     },
     "metadata": {},
     "output_type": "display_data"
    },
    {
     "data": {
      "text/plain": [
       "0: 384x640 17 persons, 7 cars, 25 motorcycles, 3 buss, 2 trucks, 1 backpack, 425.6ms\n"
      ]
     },
     "metadata": {},
     "output_type": "display_data"
    },
    {
     "data": {
      "text/plain": [
       "Speed: 3.1ms preprocess, 425.6ms inference, 1.0ms postprocess per image at shape (1, 3, 384, 640)\n"
      ]
     },
     "metadata": {},
     "output_type": "display_data"
    },
    {
     "data": {
      "text/plain": [
       "\n"
      ]
     },
     "metadata": {},
     "output_type": "display_data"
    },
    {
     "data": {
      "text/plain": [
       "0: 384x640 17 persons, 7 cars, 26 motorcycles, 3 buss, 2 trucks, 1 backpack, 412.4ms\n"
      ]
     },
     "metadata": {},
     "output_type": "display_data"
    },
    {
     "data": {
      "text/plain": [
       "Speed: 2.9ms preprocess, 412.4ms inference, 1.1ms postprocess per image at shape (1, 3, 384, 640)\n"
      ]
     },
     "metadata": {},
     "output_type": "display_data"
    },
    {
     "data": {
      "text/plain": [
       "\n"
      ]
     },
     "metadata": {},
     "output_type": "display_data"
    },
    {
     "data": {
      "text/plain": [
       "0: 384x640 18 persons, 7 cars, 26 motorcycles, 3 buss, 2 trucks, 1 backpack, 424.7ms\n"
      ]
     },
     "metadata": {},
     "output_type": "display_data"
    },
    {
     "data": {
      "text/plain": [
       "Speed: 1.8ms preprocess, 424.7ms inference, 1.1ms postprocess per image at shape (1, 3, 384, 640)\n"
      ]
     },
     "metadata": {},
     "output_type": "display_data"
    },
    {
     "data": {
      "text/plain": [
       "\n"
      ]
     },
     "metadata": {},
     "output_type": "display_data"
    },
    {
     "data": {
      "text/plain": [
       "0: 384x640 19 persons, 7 cars, 26 motorcycles, 3 buss, 2 trucks, 1 backpack, 422.3ms\n"
      ]
     },
     "metadata": {},
     "output_type": "display_data"
    },
    {
     "data": {
      "text/plain": [
       "Speed: 2.1ms preprocess, 422.3ms inference, 1.1ms postprocess per image at shape (1, 3, 384, 640)\n"
      ]
     },
     "metadata": {},
     "output_type": "display_data"
    },
    {
     "data": {
      "text/plain": [
       "\n"
      ]
     },
     "metadata": {},
     "output_type": "display_data"
    },
    {
     "data": {
      "text/plain": [
       "0: 384x640 19 persons, 7 cars, 26 motorcycles, 3 buss, 2 trucks, 1 backpack, 428.2ms\n"
      ]
     },
     "metadata": {},
     "output_type": "display_data"
    },
    {
     "data": {
      "text/plain": [
       "Speed: 1.9ms preprocess, 428.2ms inference, 1.2ms postprocess per image at shape (1, 3, 384, 640)\n"
      ]
     },
     "metadata": {},
     "output_type": "display_data"
    },
    {
     "data": {
      "text/plain": [
       "\n"
      ]
     },
     "metadata": {},
     "output_type": "display_data"
    },
    {
     "data": {
      "text/plain": [
       "0: 384x640 19 persons, 7 cars, 27 motorcycles, 3 buss, 2 trucks, 1 backpack, 418.9ms\n"
      ]
     },
     "metadata": {},
     "output_type": "display_data"
    },
    {
     "data": {
      "text/plain": [
       "Speed: 2.2ms preprocess, 418.9ms inference, 1.0ms postprocess per image at shape (1, 3, 384, 640)\n"
      ]
     },
     "metadata": {},
     "output_type": "display_data"
    },
    {
     "data": {
      "text/plain": [
       "\n"
      ]
     },
     "metadata": {},
     "output_type": "display_data"
    },
    {
     "data": {
      "text/plain": [
       "0: 384x640 19 persons, 7 cars, 27 motorcycles, 3 buss, 2 trucks, 1 backpack, 433.7ms\n"
      ]
     },
     "metadata": {},
     "output_type": "display_data"
    },
    {
     "data": {
      "text/plain": [
       "Speed: 2.2ms preprocess, 433.7ms inference, 1.1ms postprocess per image at shape (1, 3, 384, 640)\n"
      ]
     },
     "metadata": {},
     "output_type": "display_data"
    },
    {
     "data": {
      "text/plain": [
       "\n"
      ]
     },
     "metadata": {},
     "output_type": "display_data"
    },
    {
     "data": {
      "text/plain": [
       "0: 384x640 18 persons, 7 cars, 27 motorcycles, 3 buss, 2 trucks, 1 backpack, 409.5ms\n"
      ]
     },
     "metadata": {},
     "output_type": "display_data"
    },
    {
     "data": {
      "text/plain": [
       "Speed: 2.1ms preprocess, 409.5ms inference, 1.0ms postprocess per image at shape (1, 3, 384, 640)\n"
      ]
     },
     "metadata": {},
     "output_type": "display_data"
    },
    {
     "data": {
      "text/plain": [
       "\n"
      ]
     },
     "metadata": {},
     "output_type": "display_data"
    },
    {
     "data": {
      "text/plain": [
       "0: 384x640 18 persons, 6 cars, 28 motorcycles, 3 buss, 2 trucks, 1 backpack, 438.1ms\n"
      ]
     },
     "metadata": {},
     "output_type": "display_data"
    },
    {
     "data": {
      "text/plain": [
       "Speed: 2.0ms preprocess, 438.1ms inference, 1.0ms postprocess per image at shape (1, 3, 384, 640)\n"
      ]
     },
     "metadata": {},
     "output_type": "display_data"
    },
    {
     "data": {
      "text/plain": [
       "\n"
      ]
     },
     "metadata": {},
     "output_type": "display_data"
    },
    {
     "data": {
      "text/plain": [
       "0: 384x640 19 persons, 6 cars, 26 motorcycles, 3 buss, 2 trucks, 1 backpack, 405.4ms\n"
      ]
     },
     "metadata": {},
     "output_type": "display_data"
    },
    {
     "data": {
      "text/plain": [
       "Speed: 2.1ms preprocess, 405.4ms inference, 1.0ms postprocess per image at shape (1, 3, 384, 640)\n"
      ]
     },
     "metadata": {},
     "output_type": "display_data"
    },
    {
     "data": {
      "text/plain": [
       "\n"
      ]
     },
     "metadata": {},
     "output_type": "display_data"
    },
    {
     "data": {
      "text/plain": [
       "0: 384x640 19 persons, 6 cars, 26 motorcycles, 3 buss, 2 trucks, 1 backpack, 417.2ms\n"
      ]
     },
     "metadata": {},
     "output_type": "display_data"
    },
    {
     "data": {
      "text/plain": [
       "Speed: 1.8ms preprocess, 417.2ms inference, 1.0ms postprocess per image at shape (1, 3, 384, 640)\n"
      ]
     },
     "metadata": {},
     "output_type": "display_data"
    },
    {
     "data": {
      "text/plain": [
       "\n"
      ]
     },
     "metadata": {},
     "output_type": "display_data"
    },
    {
     "data": {
      "text/plain": [
       "0: 384x640 19 persons, 7 cars, 28 motorcycles, 4 buss, 2 trucks, 1 backpack, 402.4ms\n"
      ]
     },
     "metadata": {},
     "output_type": "display_data"
    },
    {
     "data": {
      "text/plain": [
       "Speed: 2.1ms preprocess, 402.4ms inference, 1.1ms postprocess per image at shape (1, 3, 384, 640)\n"
      ]
     },
     "metadata": {},
     "output_type": "display_data"
    },
    {
     "data": {
      "text/plain": [
       "\n"
      ]
     },
     "metadata": {},
     "output_type": "display_data"
    },
    {
     "data": {
      "text/plain": [
       "0: 384x640 18 persons, 8 cars, 27 motorcycles, 4 buss, 1 truck, 1 backpack, 427.3ms\n"
      ]
     },
     "metadata": {},
     "output_type": "display_data"
    },
    {
     "data": {
      "text/plain": [
       "Speed: 1.9ms preprocess, 427.3ms inference, 1.0ms postprocess per image at shape (1, 3, 384, 640)\n"
      ]
     },
     "metadata": {},
     "output_type": "display_data"
    },
    {
     "data": {
      "text/plain": [
       "\n"
      ]
     },
     "metadata": {},
     "output_type": "display_data"
    },
    {
     "data": {
      "text/plain": [
       "0: 384x640 18 persons, 7 cars, 26 motorcycles, 4 buss, 2 trucks, 1 backpack, 401.7ms\n"
      ]
     },
     "metadata": {},
     "output_type": "display_data"
    },
    {
     "data": {
      "text/plain": [
       "Speed: 2.0ms preprocess, 401.7ms inference, 1.0ms postprocess per image at shape (1, 3, 384, 640)\n"
      ]
     },
     "metadata": {},
     "output_type": "display_data"
    },
    {
     "data": {
      "text/plain": [
       "\n"
      ]
     },
     "metadata": {},
     "output_type": "display_data"
    },
    {
     "data": {
      "text/plain": [
       "0: 384x640 18 persons, 7 cars, 26 motorcycles, 4 buss, 2 trucks, 1 backpack, 424.0ms\n"
      ]
     },
     "metadata": {},
     "output_type": "display_data"
    },
    {
     "data": {
      "text/plain": [
       "Speed: 2.0ms preprocess, 424.0ms inference, 1.0ms postprocess per image at shape (1, 3, 384, 640)\n"
      ]
     },
     "metadata": {},
     "output_type": "display_data"
    },
    {
     "data": {
      "text/plain": [
       "\n"
      ]
     },
     "metadata": {},
     "output_type": "display_data"
    },
    {
     "data": {
      "text/plain": [
       "0: 384x640 18 persons, 8 cars, 25 motorcycles, 3 buss, 1 backpack, 404.6ms\n"
      ]
     },
     "metadata": {},
     "output_type": "display_data"
    },
    {
     "data": {
      "text/plain": [
       "Speed: 1.7ms preprocess, 404.6ms inference, 1.9ms postprocess per image at shape (1, 3, 384, 640)\n"
      ]
     },
     "metadata": {},
     "output_type": "display_data"
    },
    {
     "data": {
      "text/plain": [
       "\n"
      ]
     },
     "metadata": {},
     "output_type": "display_data"
    },
    {
     "data": {
      "text/plain": [
       "0: 384x640 18 persons, 8 cars, 26 motorcycles, 3 buss, 1 backpack, 419.0ms\n"
      ]
     },
     "metadata": {},
     "output_type": "display_data"
    },
    {
     "data": {
      "text/plain": [
       "Speed: 2.0ms preprocess, 419.0ms inference, 1.0ms postprocess per image at shape (1, 3, 384, 640)\n"
      ]
     },
     "metadata": {},
     "output_type": "display_data"
    },
    {
     "data": {
      "text/plain": [
       "\n"
      ]
     },
     "metadata": {},
     "output_type": "display_data"
    },
    {
     "data": {
      "text/plain": [
       "0: 384x640 19 persons, 7 cars, 26 motorcycles, 3 buss, 1 truck, 1 backpack, 423.1ms\n"
      ]
     },
     "metadata": {},
     "output_type": "display_data"
    },
    {
     "data": {
      "text/plain": [
       "Speed: 2.0ms preprocess, 423.1ms inference, 1.2ms postprocess per image at shape (1, 3, 384, 640)\n"
      ]
     },
     "metadata": {},
     "output_type": "display_data"
    },
    {
     "data": {
      "text/plain": [
       "\n"
      ]
     },
     "metadata": {},
     "output_type": "display_data"
    },
    {
     "data": {
      "text/plain": [
       "0: 384x640 19 persons, 7 cars, 25 motorcycles, 3 buss, 1 truck, 1 backpack, 440.5ms\n"
      ]
     },
     "metadata": {},
     "output_type": "display_data"
    },
    {
     "data": {
      "text/plain": [
       "Speed: 2.7ms preprocess, 440.5ms inference, 1.0ms postprocess per image at shape (1, 3, 384, 640)\n"
      ]
     },
     "metadata": {},
     "output_type": "display_data"
    },
    {
     "data": {
      "text/plain": [
       "\n"
      ]
     },
     "metadata": {},
     "output_type": "display_data"
    },
    {
     "data": {
      "text/plain": [
       "0: 384x640 18 persons, 7 cars, 24 motorcycles, 2 buss, 1 truck, 1 backpack, 445.6ms\n"
      ]
     },
     "metadata": {},
     "output_type": "display_data"
    },
    {
     "data": {
      "text/plain": [
       "Speed: 3.0ms preprocess, 445.6ms inference, 1.0ms postprocess per image at shape (1, 3, 384, 640)\n"
      ]
     },
     "metadata": {},
     "output_type": "display_data"
    },
    {
     "data": {
      "text/plain": [
       "\n"
      ]
     },
     "metadata": {},
     "output_type": "display_data"
    },
    {
     "data": {
      "text/plain": [
       "0: 384x640 18 persons, 7 cars, 24 motorcycles, 2 buss, 1 truck, 1 backpack, 440.7ms\n"
      ]
     },
     "metadata": {},
     "output_type": "display_data"
    },
    {
     "data": {
      "text/plain": [
       "Speed: 2.4ms preprocess, 440.7ms inference, 1.0ms postprocess per image at shape (1, 3, 384, 640)\n"
      ]
     },
     "metadata": {},
     "output_type": "display_data"
    },
    {
     "data": {
      "text/plain": [
       "\n"
      ]
     },
     "metadata": {},
     "output_type": "display_data"
    },
    {
     "data": {
      "text/plain": [
       "0: 384x640 18 persons, 7 cars, 24 motorcycles, 2 buss, 1 truck, 1 backpack, 413.7ms\n"
      ]
     },
     "metadata": {},
     "output_type": "display_data"
    },
    {
     "data": {
      "text/plain": [
       "Speed: 2.1ms preprocess, 413.7ms inference, 1.0ms postprocess per image at shape (1, 3, 384, 640)\n"
      ]
     },
     "metadata": {},
     "output_type": "display_data"
    },
    {
     "data": {
      "text/plain": [
       "\n"
      ]
     },
     "metadata": {},
     "output_type": "display_data"
    },
    {
     "data": {
      "text/plain": [
       "0: 384x640 18 persons, 7 cars, 23 motorcycles, 2 buss, 2 trucks, 1 backpack, 429.1ms\n"
      ]
     },
     "metadata": {},
     "output_type": "display_data"
    },
    {
     "data": {
      "text/plain": [
       "Speed: 2.0ms preprocess, 429.1ms inference, 1.0ms postprocess per image at shape (1, 3, 384, 640)\n"
      ]
     },
     "metadata": {},
     "output_type": "display_data"
    },
    {
     "data": {
      "text/plain": [
       "\n"
      ]
     },
     "metadata": {},
     "output_type": "display_data"
    },
    {
     "data": {
      "text/plain": [
       "0: 384x640 18 persons, 7 cars, 22 motorcycles, 2 buss, 2 trucks, 1 backpack, 407.5ms\n"
      ]
     },
     "metadata": {},
     "output_type": "display_data"
    },
    {
     "data": {
      "text/plain": [
       "Speed: 2.0ms preprocess, 407.5ms inference, 1.0ms postprocess per image at shape (1, 3, 384, 640)\n"
      ]
     },
     "metadata": {},
     "output_type": "display_data"
    },
    {
     "data": {
      "text/plain": [
       "\n"
      ]
     },
     "metadata": {},
     "output_type": "display_data"
    },
    {
     "data": {
      "text/plain": [
       "0: 384x640 18 persons, 6 cars, 22 motorcycles, 2 buss, 2 trucks, 1 backpack, 413.7ms\n"
      ]
     },
     "metadata": {},
     "output_type": "display_data"
    },
    {
     "data": {
      "text/plain": [
       "Speed: 1.8ms preprocess, 413.7ms inference, 1.0ms postprocess per image at shape (1, 3, 384, 640)\n"
      ]
     },
     "metadata": {},
     "output_type": "display_data"
    },
    {
     "data": {
      "text/plain": [
       "\n"
      ]
     },
     "metadata": {},
     "output_type": "display_data"
    },
    {
     "data": {
      "text/plain": [
       "0: 384x640 18 persons, 6 cars, 22 motorcycles, 2 buss, 2 trucks, 1 backpack, 408.8ms\n"
      ]
     },
     "metadata": {},
     "output_type": "display_data"
    },
    {
     "data": {
      "text/plain": [
       "Speed: 1.9ms preprocess, 408.8ms inference, 1.0ms postprocess per image at shape (1, 3, 384, 640)\n"
      ]
     },
     "metadata": {},
     "output_type": "display_data"
    },
    {
     "data": {
      "text/plain": [
       "\n"
      ]
     },
     "metadata": {},
     "output_type": "display_data"
    },
    {
     "data": {
      "text/plain": [
       "0: 384x640 19 persons, 6 cars, 21 motorcycles, 2 buss, 1 truck, 1 backpack, 421.3ms\n"
      ]
     },
     "metadata": {},
     "output_type": "display_data"
    },
    {
     "data": {
      "text/plain": [
       "Speed: 2.0ms preprocess, 421.3ms inference, 1.0ms postprocess per image at shape (1, 3, 384, 640)\n"
      ]
     },
     "metadata": {},
     "output_type": "display_data"
    },
    {
     "data": {
      "text/plain": [
       "\n"
      ]
     },
     "metadata": {},
     "output_type": "display_data"
    },
    {
     "data": {
      "text/plain": [
       "0: 384x640 19 persons, 6 cars, 21 motorcycles, 2 buss, 1 truck, 1 backpack, 403.0ms\n"
      ]
     },
     "metadata": {},
     "output_type": "display_data"
    },
    {
     "data": {
      "text/plain": [
       "Speed: 2.1ms preprocess, 403.0ms inference, 1.0ms postprocess per image at shape (1, 3, 384, 640)\n"
      ]
     },
     "metadata": {},
     "output_type": "display_data"
    },
    {
     "data": {
      "text/plain": [
       "\n"
      ]
     },
     "metadata": {},
     "output_type": "display_data"
    },
    {
     "data": {
      "text/plain": [
       "0: 384x640 19 persons, 6 cars, 22 motorcycles, 3 buss, 1 truck, 1 backpack, 429.6ms\n"
      ]
     },
     "metadata": {},
     "output_type": "display_data"
    },
    {
     "data": {
      "text/plain": [
       "Speed: 2.5ms preprocess, 429.6ms inference, 1.0ms postprocess per image at shape (1, 3, 384, 640)\n"
      ]
     },
     "metadata": {},
     "output_type": "display_data"
    },
    {
     "data": {
      "text/plain": [
       "\n"
      ]
     },
     "metadata": {},
     "output_type": "display_data"
    },
    {
     "data": {
      "text/plain": [
       "0: 384x640 18 persons, 6 cars, 22 motorcycles, 3 buss, 1 truck, 1 backpack, 407.1ms\n"
      ]
     },
     "metadata": {},
     "output_type": "display_data"
    },
    {
     "data": {
      "text/plain": [
       "Speed: 1.9ms preprocess, 407.1ms inference, 1.5ms postprocess per image at shape (1, 3, 384, 640)\n"
      ]
     },
     "metadata": {},
     "output_type": "display_data"
    },
    {
     "data": {
      "text/plain": [
       "\n"
      ]
     },
     "metadata": {},
     "output_type": "display_data"
    },
    {
     "data": {
      "text/plain": [
       "0: 384x640 19 persons, 6 cars, 21 motorcycles, 3 buss, 2 trucks, 1 backpack, 413.2ms\n"
      ]
     },
     "metadata": {},
     "output_type": "display_data"
    },
    {
     "data": {
      "text/plain": [
       "Speed: 2.0ms preprocess, 413.2ms inference, 1.0ms postprocess per image at shape (1, 3, 384, 640)\n"
      ]
     },
     "metadata": {},
     "output_type": "display_data"
    },
    {
     "data": {
      "text/plain": [
       "\n"
      ]
     },
     "metadata": {},
     "output_type": "display_data"
    },
    {
     "data": {
      "text/plain": [
       "0: 384x640 19 persons, 6 cars, 21 motorcycles, 3 buss, 2 trucks, 1 backpack, 414.7ms\n"
      ]
     },
     "metadata": {},
     "output_type": "display_data"
    },
    {
     "data": {
      "text/plain": [
       "Speed: 1.9ms preprocess, 414.7ms inference, 1.0ms postprocess per image at shape (1, 3, 384, 640)\n"
      ]
     },
     "metadata": {},
     "output_type": "display_data"
    },
    {
     "data": {
      "text/plain": [
       "\n"
      ]
     },
     "metadata": {},
     "output_type": "display_data"
    },
    {
     "data": {
      "text/plain": [
       "0: 384x640 19 persons, 6 cars, 21 motorcycles, 3 buss, 2 trucks, 1 backpack, 429.4ms\n"
      ]
     },
     "metadata": {},
     "output_type": "display_data"
    },
    {
     "data": {
      "text/plain": [
       "Speed: 2.1ms preprocess, 429.4ms inference, 1.2ms postprocess per image at shape (1, 3, 384, 640)\n"
      ]
     },
     "metadata": {},
     "output_type": "display_data"
    },
    {
     "data": {
      "text/plain": [
       "\n"
      ]
     },
     "metadata": {},
     "output_type": "display_data"
    },
    {
     "data": {
      "text/plain": [
       "0: 384x640 19 persons, 6 cars, 21 motorcycles, 3 buss, 2 trucks, 1 backpack, 431.0ms\n"
      ]
     },
     "metadata": {},
     "output_type": "display_data"
    },
    {
     "data": {
      "text/plain": [
       "Speed: 2.0ms preprocess, 431.0ms inference, 1.7ms postprocess per image at shape (1, 3, 384, 640)\n"
      ]
     },
     "metadata": {},
     "output_type": "display_data"
    },
    {
     "data": {
      "text/plain": [
       "\n"
      ]
     },
     "metadata": {},
     "output_type": "display_data"
    },
    {
     "data": {
      "text/plain": [
       "0: 384x640 19 persons, 6 cars, 22 motorcycles, 3 buss, 2 trucks, 1 backpack, 421.5ms\n"
      ]
     },
     "metadata": {},
     "output_type": "display_data"
    },
    {
     "data": {
      "text/plain": [
       "Speed: 2.1ms preprocess, 421.5ms inference, 1.0ms postprocess per image at shape (1, 3, 384, 640)\n"
      ]
     },
     "metadata": {},
     "output_type": "display_data"
    },
    {
     "data": {
      "text/plain": [
       "\n"
      ]
     },
     "metadata": {},
     "output_type": "display_data"
    },
    {
     "data": {
      "text/plain": [
       "0: 384x640 19 persons, 6 cars, 22 motorcycles, 3 buss, 2 trucks, 1 backpack, 408.4ms\n"
      ]
     },
     "metadata": {},
     "output_type": "display_data"
    },
    {
     "data": {
      "text/plain": [
       "Speed: 1.9ms preprocess, 408.4ms inference, 1.0ms postprocess per image at shape (1, 3, 384, 640)\n"
      ]
     },
     "metadata": {},
     "output_type": "display_data"
    },
    {
     "data": {
      "text/plain": [
       "\n"
      ]
     },
     "metadata": {},
     "output_type": "display_data"
    },
    {
     "data": {
      "text/plain": [
       "0: 384x640 19 persons, 6 cars, 22 motorcycles, 3 buss, 2 trucks, 1 backpack, 427.9ms\n"
      ]
     },
     "metadata": {},
     "output_type": "display_data"
    },
    {
     "data": {
      "text/plain": [
       "Speed: 1.8ms preprocess, 427.9ms inference, 1.0ms postprocess per image at shape (1, 3, 384, 640)\n"
      ]
     },
     "metadata": {},
     "output_type": "display_data"
    },
    {
     "data": {
      "text/plain": [
       "\n"
      ]
     },
     "metadata": {},
     "output_type": "display_data"
    },
    {
     "data": {
      "text/plain": [
       "0: 384x640 20 persons, 6 cars, 22 motorcycles, 3 buss, 1 truck, 1 traffic light, 1 backpack, 405.8ms\n"
      ]
     },
     "metadata": {},
     "output_type": "display_data"
    },
    {
     "data": {
      "text/plain": [
       "Speed: 2.1ms preprocess, 405.8ms inference, 1.0ms postprocess per image at shape (1, 3, 384, 640)\n"
      ]
     },
     "metadata": {},
     "output_type": "display_data"
    },
    {
     "data": {
      "text/plain": [
       "\n"
      ]
     },
     "metadata": {},
     "output_type": "display_data"
    },
    {
     "data": {
      "text/plain": [
       "0: 384x640 19 persons, 6 cars, 22 motorcycles, 3 buss, 1 truck, 1 traffic light, 1 backpack, 418.8ms\n"
      ]
     },
     "metadata": {},
     "output_type": "display_data"
    },
    {
     "data": {
      "text/plain": [
       "Speed: 2.0ms preprocess, 418.8ms inference, 1.0ms postprocess per image at shape (1, 3, 384, 640)\n"
      ]
     },
     "metadata": {},
     "output_type": "display_data"
    },
    {
     "data": {
      "text/plain": [
       "\n"
      ]
     },
     "metadata": {},
     "output_type": "display_data"
    },
    {
     "data": {
      "text/plain": [
       "0: 384x640 19 persons, 6 cars, 22 motorcycles, 2 buss, 1 truck, 1 traffic light, 1 backpack, 395.5ms\n"
      ]
     },
     "metadata": {},
     "output_type": "display_data"
    },
    {
     "data": {
      "text/plain": [
       "Speed: 1.9ms preprocess, 395.5ms inference, 1.0ms postprocess per image at shape (1, 3, 384, 640)\n"
      ]
     },
     "metadata": {},
     "output_type": "display_data"
    },
    {
     "data": {
      "text/plain": [
       "\n"
      ]
     },
     "metadata": {},
     "output_type": "display_data"
    },
    {
     "data": {
      "text/plain": [
       "0: 384x640 19 persons, 7 cars, 22 motorcycles, 2 buss, 1 traffic light, 1 backpack, 415.1ms\n"
      ]
     },
     "metadata": {},
     "output_type": "display_data"
    },
    {
     "data": {
      "text/plain": [
       "Speed: 2.0ms preprocess, 415.1ms inference, 1.0ms postprocess per image at shape (1, 3, 384, 640)\n"
      ]
     },
     "metadata": {},
     "output_type": "display_data"
    },
    {
     "data": {
      "text/plain": [
       "\n"
      ]
     },
     "metadata": {},
     "output_type": "display_data"
    },
    {
     "data": {
      "text/plain": [
       "0: 384x640 20 persons, 7 cars, 22 motorcycles, 2 buss, 1 traffic light, 1 backpack, 418.3ms\n"
      ]
     },
     "metadata": {},
     "output_type": "display_data"
    },
    {
     "data": {
      "text/plain": [
       "Speed: 2.1ms preprocess, 418.3ms inference, 1.0ms postprocess per image at shape (1, 3, 384, 640)\n"
      ]
     },
     "metadata": {},
     "output_type": "display_data"
    },
    {
     "data": {
      "text/plain": [
       "\n"
      ]
     },
     "metadata": {},
     "output_type": "display_data"
    },
    {
     "data": {
      "text/plain": [
       "0: 384x640 21 persons, 7 cars, 22 motorcycles, 2 buss, 1 traffic light, 1 backpack, 422.8ms\n"
      ]
     },
     "metadata": {},
     "output_type": "display_data"
    },
    {
     "data": {
      "text/plain": [
       "Speed: 2.2ms preprocess, 422.8ms inference, 1.1ms postprocess per image at shape (1, 3, 384, 640)\n"
      ]
     },
     "metadata": {},
     "output_type": "display_data"
    },
    {
     "data": {
      "text/plain": [
       "\n"
      ]
     },
     "metadata": {},
     "output_type": "display_data"
    },
    {
     "data": {
      "text/plain": [
       "0: 384x640 20 persons, 7 cars, 22 motorcycles, 2 buss, 1 truck, 1 traffic light, 1 backpack, 394.3ms\n"
      ]
     },
     "metadata": {},
     "output_type": "display_data"
    },
    {
     "data": {
      "text/plain": [
       "Speed: 2.0ms preprocess, 394.3ms inference, 1.4ms postprocess per image at shape (1, 3, 384, 640)\n"
      ]
     },
     "metadata": {},
     "output_type": "display_data"
    },
    {
     "data": {
      "text/plain": [
       "\n"
      ]
     },
     "metadata": {},
     "output_type": "display_data"
    },
    {
     "data": {
      "text/plain": [
       "0: 384x640 21 persons, 7 cars, 21 motorcycles, 2 buss, 1 truck, 1 traffic light, 1 backpack, 414.6ms\n"
      ]
     },
     "metadata": {},
     "output_type": "display_data"
    },
    {
     "data": {
      "text/plain": [
       "Speed: 2.0ms preprocess, 414.6ms inference, 1.2ms postprocess per image at shape (1, 3, 384, 640)\n"
      ]
     },
     "metadata": {},
     "output_type": "display_data"
    },
    {
     "data": {
      "text/plain": [
       "\n"
      ]
     },
     "metadata": {},
     "output_type": "display_data"
    },
    {
     "data": {
      "text/plain": [
       "0: 384x640 21 persons, 7 cars, 22 motorcycles, 2 buss, 1 truck, 1 traffic light, 1 backpack, 404.6ms\n"
      ]
     },
     "metadata": {},
     "output_type": "display_data"
    },
    {
     "data": {
      "text/plain": [
       "Speed: 3.0ms preprocess, 404.6ms inference, 1.0ms postprocess per image at shape (1, 3, 384, 640)\n"
      ]
     },
     "metadata": {},
     "output_type": "display_data"
    },
    {
     "data": {
      "text/plain": [
       "\n"
      ]
     },
     "metadata": {},
     "output_type": "display_data"
    },
    {
     "data": {
      "text/plain": [
       "0: 384x640 20 persons, 7 cars, 23 motorcycles, 2 buss, 1 truck, 1 traffic light, 1 backpack, 413.8ms\n"
      ]
     },
     "metadata": {},
     "output_type": "display_data"
    },
    {
     "data": {
      "text/plain": [
       "Speed: 1.8ms preprocess, 413.8ms inference, 1.1ms postprocess per image at shape (1, 3, 384, 640)\n"
      ]
     },
     "metadata": {},
     "output_type": "display_data"
    },
    {
     "data": {
      "text/plain": [
       "\n"
      ]
     },
     "metadata": {},
     "output_type": "display_data"
    },
    {
     "data": {
      "text/plain": [
       "0: 384x640 21 persons, 7 cars, 21 motorcycles, 3 buss, 1 truck, 1 traffic light, 1 backpack, 407.9ms\n"
      ]
     },
     "metadata": {},
     "output_type": "display_data"
    },
    {
     "data": {
      "text/plain": [
       "Speed: 2.2ms preprocess, 407.9ms inference, 1.0ms postprocess per image at shape (1, 3, 384, 640)\n"
      ]
     },
     "metadata": {},
     "output_type": "display_data"
    },
    {
     "data": {
      "text/plain": [
       "\n"
      ]
     },
     "metadata": {},
     "output_type": "display_data"
    },
    {
     "data": {
      "text/plain": [
       "0: 384x640 21 persons, 7 cars, 21 motorcycles, 3 buss, 1 truck, 1 traffic light, 1 backpack, 416.3ms\n"
      ]
     },
     "metadata": {},
     "output_type": "display_data"
    },
    {
     "data": {
      "text/plain": [
       "Speed: 3.0ms preprocess, 416.3ms inference, 1.1ms postprocess per image at shape (1, 3, 384, 640)\n"
      ]
     },
     "metadata": {},
     "output_type": "display_data"
    },
    {
     "data": {
      "text/plain": [
       "\n"
      ]
     },
     "metadata": {},
     "output_type": "display_data"
    },
    {
     "data": {
      "text/plain": [
       "0: 384x640 21 persons, 7 cars, 21 motorcycles, 3 buss, 1 truck, 1 traffic light, 1 backpack, 410.1ms\n"
      ]
     },
     "metadata": {},
     "output_type": "display_data"
    },
    {
     "data": {
      "text/plain": [
       "Speed: 2.2ms preprocess, 410.1ms inference, 1.1ms postprocess per image at shape (1, 3, 384, 640)\n"
      ]
     },
     "metadata": {},
     "output_type": "display_data"
    },
    {
     "data": {
      "text/plain": [
       "\n"
      ]
     },
     "metadata": {},
     "output_type": "display_data"
    },
    {
     "data": {
      "text/plain": [
       "0: 384x640 21 persons, 7 cars, 22 motorcycles, 3 buss, 1 truck, 1 traffic light, 1 backpack, 420.7ms\n"
      ]
     },
     "metadata": {},
     "output_type": "display_data"
    },
    {
     "data": {
      "text/plain": [
       "Speed: 1.9ms preprocess, 420.7ms inference, 1.0ms postprocess per image at shape (1, 3, 384, 640)\n"
      ]
     },
     "metadata": {},
     "output_type": "display_data"
    },
    {
     "data": {
      "text/plain": [
       "\n"
      ]
     },
     "metadata": {},
     "output_type": "display_data"
    },
    {
     "data": {
      "text/plain": [
       "0: 384x640 21 persons, 7 cars, 22 motorcycles, 3 buss, 1 truck, 1 traffic light, 1 backpack, 411.5ms\n"
      ]
     },
     "metadata": {},
     "output_type": "display_data"
    },
    {
     "data": {
      "text/plain": [
       "Speed: 2.7ms preprocess, 411.5ms inference, 1.7ms postprocess per image at shape (1, 3, 384, 640)\n"
      ]
     },
     "metadata": {},
     "output_type": "display_data"
    },
    {
     "data": {
      "text/plain": [
       "\n"
      ]
     },
     "metadata": {},
     "output_type": "display_data"
    },
    {
     "data": {
      "text/plain": [
       "0: 384x640 21 persons, 7 cars, 21 motorcycles, 3 buss, 1 truck, 1 traffic light, 1 backpack, 420.4ms\n"
      ]
     },
     "metadata": {},
     "output_type": "display_data"
    },
    {
     "data": {
      "text/plain": [
       "Speed: 2.5ms preprocess, 420.4ms inference, 1.1ms postprocess per image at shape (1, 3, 384, 640)\n"
      ]
     },
     "metadata": {},
     "output_type": "display_data"
    },
    {
     "data": {
      "text/plain": [
       "\n"
      ]
     },
     "metadata": {},
     "output_type": "display_data"
    },
    {
     "data": {
      "text/plain": [
       "0: 384x640 21 persons, 7 cars, 23 motorcycles, 3 buss, 1 truck, 1 traffic light, 1 backpack, 431.1ms\n"
      ]
     },
     "metadata": {},
     "output_type": "display_data"
    },
    {
     "data": {
      "text/plain": [
       "Speed: 2.2ms preprocess, 431.1ms inference, 1.0ms postprocess per image at shape (1, 3, 384, 640)\n"
      ]
     },
     "metadata": {},
     "output_type": "display_data"
    },
    {
     "data": {
      "text/plain": [
       "\n"
      ]
     },
     "metadata": {},
     "output_type": "display_data"
    },
    {
     "data": {
      "text/plain": [
       "0: 384x640 20 persons, 7 cars, 23 motorcycles, 3 buss, 1 truck, 2 traffic lights, 1 backpack, 418.2ms\n"
      ]
     },
     "metadata": {},
     "output_type": "display_data"
    },
    {
     "data": {
      "text/plain": [
       "Speed: 2.1ms preprocess, 418.2ms inference, 1.1ms postprocess per image at shape (1, 3, 384, 640)\n"
      ]
     },
     "metadata": {},
     "output_type": "display_data"
    },
    {
     "data": {
      "text/plain": [
       "\n"
      ]
     },
     "metadata": {},
     "output_type": "display_data"
    },
    {
     "data": {
      "text/plain": [
       "0: 384x640 20 persons, 7 cars, 24 motorcycles, 3 buss, 1 truck, 2 traffic lights, 1 backpack, 400.2ms\n"
      ]
     },
     "metadata": {},
     "output_type": "display_data"
    },
    {
     "data": {
      "text/plain": [
       "Speed: 1.9ms preprocess, 400.2ms inference, 1.0ms postprocess per image at shape (1, 3, 384, 640)\n"
      ]
     },
     "metadata": {},
     "output_type": "display_data"
    },
    {
     "data": {
      "text/plain": [
       "\n"
      ]
     },
     "metadata": {},
     "output_type": "display_data"
    },
    {
     "data": {
      "text/plain": [
       "0: 384x640 19 persons, 7 cars, 24 motorcycles, 2 buss, 1 truck, 2 traffic lights, 1 backpack, 425.3ms\n"
      ]
     },
     "metadata": {},
     "output_type": "display_data"
    },
    {
     "data": {
      "text/plain": [
       "Speed: 2.0ms preprocess, 425.3ms inference, 1.1ms postprocess per image at shape (1, 3, 384, 640)\n"
      ]
     },
     "metadata": {},
     "output_type": "display_data"
    },
    {
     "data": {
      "text/plain": [
       "\n"
      ]
     },
     "metadata": {},
     "output_type": "display_data"
    },
    {
     "data": {
      "text/plain": [
       "0: 384x640 20 persons, 7 cars, 23 motorcycles, 2 buss, 1 truck, 2 traffic lights, 1 backpack, 399.4ms\n"
      ]
     },
     "metadata": {},
     "output_type": "display_data"
    },
    {
     "data": {
      "text/plain": [
       "Speed: 2.1ms preprocess, 399.4ms inference, 1.0ms postprocess per image at shape (1, 3, 384, 640)\n"
      ]
     },
     "metadata": {},
     "output_type": "display_data"
    },
    {
     "data": {
      "text/plain": [
       "\n"
      ]
     },
     "metadata": {},
     "output_type": "display_data"
    },
    {
     "data": {
      "text/plain": [
       "0: 384x640 18 persons, 7 cars, 24 motorcycles, 2 buss, 1 truck, 2 traffic lights, 1 backpack, 414.3ms\n"
      ]
     },
     "metadata": {},
     "output_type": "display_data"
    },
    {
     "data": {
      "text/plain": [
       "Speed: 1.9ms preprocess, 414.3ms inference, 1.0ms postprocess per image at shape (1, 3, 384, 640)\n"
      ]
     },
     "metadata": {},
     "output_type": "display_data"
    },
    {
     "data": {
      "text/plain": [
       "\n"
      ]
     },
     "metadata": {},
     "output_type": "display_data"
    },
    {
     "data": {
      "text/plain": [
       "0: 384x640 19 persons, 7 cars, 23 motorcycles, 2 buss, 1 truck, 2 traffic lights, 1 backpack, 404.3ms\n"
      ]
     },
     "metadata": {},
     "output_type": "display_data"
    },
    {
     "data": {
      "text/plain": [
       "Speed: 2.0ms preprocess, 404.3ms inference, 1.0ms postprocess per image at shape (1, 3, 384, 640)\n"
      ]
     },
     "metadata": {},
     "output_type": "display_data"
    },
    {
     "data": {
      "text/plain": [
       "\n"
      ]
     },
     "metadata": {},
     "output_type": "display_data"
    },
    {
     "data": {
      "text/plain": [
       "0: 384x640 19 persons, 7 cars, 22 motorcycles, 2 buss, 1 truck, 2 traffic lights, 1 backpack, 417.6ms\n"
      ]
     },
     "metadata": {},
     "output_type": "display_data"
    },
    {
     "data": {
      "text/plain": [
       "Speed: 2.0ms preprocess, 417.6ms inference, 1.1ms postprocess per image at shape (1, 3, 384, 640)\n"
      ]
     },
     "metadata": {},
     "output_type": "display_data"
    },
    {
     "data": {
      "text/plain": [
       "\n"
      ]
     },
     "metadata": {},
     "output_type": "display_data"
    },
    {
     "data": {
      "text/plain": [
       "0: 384x640 20 persons, 7 cars, 21 motorcycles, 2 buss, 1 truck, 2 traffic lights, 1 backpack, 399.8ms\n"
      ]
     },
     "metadata": {},
     "output_type": "display_data"
    },
    {
     "data": {
      "text/plain": [
       "Speed: 2.1ms preprocess, 399.8ms inference, 1.0ms postprocess per image at shape (1, 3, 384, 640)\n"
      ]
     },
     "metadata": {},
     "output_type": "display_data"
    },
    {
     "data": {
      "text/plain": [
       "\n"
      ]
     },
     "metadata": {},
     "output_type": "display_data"
    },
    {
     "data": {
      "text/plain": [
       "0: 384x640 19 persons, 7 cars, 22 motorcycles, 2 buss, 1 truck, 2 traffic lights, 1 backpack, 420.1ms\n"
      ]
     },
     "metadata": {},
     "output_type": "display_data"
    },
    {
     "data": {
      "text/plain": [
       "Speed: 2.1ms preprocess, 420.1ms inference, 1.1ms postprocess per image at shape (1, 3, 384, 640)\n"
      ]
     },
     "metadata": {},
     "output_type": "display_data"
    },
    {
     "data": {
      "text/plain": [
       "\n"
      ]
     },
     "metadata": {},
     "output_type": "display_data"
    },
    {
     "data": {
      "text/plain": [
       "0: 384x640 20 persons, 7 cars, 22 motorcycles, 2 buss, 1 truck, 2 traffic lights, 1 backpack, 394.6ms\n"
      ]
     },
     "metadata": {},
     "output_type": "display_data"
    },
    {
     "data": {
      "text/plain": [
       "Speed: 2.0ms preprocess, 394.6ms inference, 1.0ms postprocess per image at shape (1, 3, 384, 640)\n"
      ]
     },
     "metadata": {},
     "output_type": "display_data"
    },
    {
     "data": {
      "text/plain": [
       "\n"
      ]
     },
     "metadata": {},
     "output_type": "display_data"
    },
    {
     "data": {
      "text/plain": [
       "0: 384x640 20 persons, 7 cars, 22 motorcycles, 2 buss, 1 truck, 2 traffic lights, 1 backpack, 404.9ms\n"
      ]
     },
     "metadata": {},
     "output_type": "display_data"
    },
    {
     "data": {
      "text/plain": [
       "Speed: 1.7ms preprocess, 404.9ms inference, 1.1ms postprocess per image at shape (1, 3, 384, 640)\n"
      ]
     },
     "metadata": {},
     "output_type": "display_data"
    },
    {
     "data": {
      "text/plain": [
       "\n"
      ]
     },
     "metadata": {},
     "output_type": "display_data"
    },
    {
     "data": {
      "text/plain": [
       "0: 384x640 20 persons, 7 cars, 22 motorcycles, 2 buss, 1 truck, 2 traffic lights, 1 backpack, 413.0ms\n"
      ]
     },
     "metadata": {},
     "output_type": "display_data"
    },
    {
     "data": {
      "text/plain": [
       "Speed: 10.8ms preprocess, 413.0ms inference, 1.4ms postprocess per image at shape (1, 3, 384, 640)\n"
      ]
     },
     "metadata": {},
     "output_type": "display_data"
    },
    {
     "data": {
      "text/plain": [
       "\n"
      ]
     },
     "metadata": {},
     "output_type": "display_data"
    },
    {
     "data": {
      "text/plain": [
       "0: 384x640 20 persons, 7 cars, 22 motorcycles, 2 buss, 1 truck, 2 traffic lights, 1 backpack, 401.5ms\n"
      ]
     },
     "metadata": {},
     "output_type": "display_data"
    },
    {
     "data": {
      "text/plain": [
       "Speed: 1.9ms preprocess, 401.5ms inference, 1.2ms postprocess per image at shape (1, 3, 384, 640)\n"
      ]
     },
     "metadata": {},
     "output_type": "display_data"
    },
    {
     "data": {
      "text/plain": [
       "\n"
      ]
     },
     "metadata": {},
     "output_type": "display_data"
    },
    {
     "data": {
      "text/plain": [
       "0: 384x640 20 persons, 7 cars, 23 motorcycles, 1 bus, 2 traffic lights, 1 backpack, 410.5ms\n"
      ]
     },
     "metadata": {},
     "output_type": "display_data"
    },
    {
     "data": {
      "text/plain": [
       "Speed: 2.7ms preprocess, 410.5ms inference, 1.1ms postprocess per image at shape (1, 3, 384, 640)\n"
      ]
     },
     "metadata": {},
     "output_type": "display_data"
    },
    {
     "data": {
      "text/plain": [
       "\n"
      ]
     },
     "metadata": {},
     "output_type": "display_data"
    },
    {
     "data": {
      "text/plain": [
       "0: 384x640 20 persons, 7 cars, 22 motorcycles, 1 bus, 1 truck, 2 traffic lights, 1 backpack, 406.5ms\n"
      ]
     },
     "metadata": {},
     "output_type": "display_data"
    },
    {
     "data": {
      "text/plain": [
       "Speed: 1.8ms preprocess, 406.5ms inference, 1.0ms postprocess per image at shape (1, 3, 384, 640)\n"
      ]
     },
     "metadata": {},
     "output_type": "display_data"
    },
    {
     "data": {
      "text/plain": [
       "\n"
      ]
     },
     "metadata": {},
     "output_type": "display_data"
    },
    {
     "data": {
      "text/plain": [
       "0: 384x640 19 persons, 7 cars, 22 motorcycles, 1 bus, 1 truck, 2 traffic lights, 1 backpack, 444.0ms\n"
      ]
     },
     "metadata": {},
     "output_type": "display_data"
    },
    {
     "data": {
      "text/plain": [
       "Speed: 1.9ms preprocess, 444.0ms inference, 1.1ms postprocess per image at shape (1, 3, 384, 640)\n"
      ]
     },
     "metadata": {},
     "output_type": "display_data"
    },
    {
     "data": {
      "text/plain": [
       "\n"
      ]
     },
     "metadata": {},
     "output_type": "display_data"
    },
    {
     "data": {
      "text/plain": [
       "0: 384x640 19 persons, 7 cars, 22 motorcycles, 1 bus, 1 truck, 2 traffic lights, 1 backpack, 411.4ms\n"
      ]
     },
     "metadata": {},
     "output_type": "display_data"
    },
    {
     "data": {
      "text/plain": [
       "Speed: 2.3ms preprocess, 411.4ms inference, 1.8ms postprocess per image at shape (1, 3, 384, 640)\n"
      ]
     },
     "metadata": {},
     "output_type": "display_data"
    },
    {
     "data": {
      "text/plain": [
       "\n"
      ]
     },
     "metadata": {},
     "output_type": "display_data"
    },
    {
     "data": {
      "text/plain": [
       "0: 384x640 19 persons, 7 cars, 22 motorcycles, 1 bus, 1 truck, 2 traffic lights, 1 backpack, 431.9ms\n"
      ]
     },
     "metadata": {},
     "output_type": "display_data"
    },
    {
     "data": {
      "text/plain": [
       "Speed: 3.1ms preprocess, 431.9ms inference, 1.1ms postprocess per image at shape (1, 3, 384, 640)\n"
      ]
     },
     "metadata": {},
     "output_type": "display_data"
    },
    {
     "data": {
      "text/plain": [
       "\n"
      ]
     },
     "metadata": {},
     "output_type": "display_data"
    },
    {
     "data": {
      "text/plain": [
       "0: 384x640 19 persons, 7 cars, 22 motorcycles, 1 bus, 1 truck, 2 traffic lights, 1 backpack, 403.6ms\n"
      ]
     },
     "metadata": {},
     "output_type": "display_data"
    },
    {
     "data": {
      "text/plain": [
       "Speed: 3.1ms preprocess, 403.6ms inference, 1.2ms postprocess per image at shape (1, 3, 384, 640)\n"
      ]
     },
     "metadata": {},
     "output_type": "display_data"
    },
    {
     "data": {
      "text/plain": [
       "\n"
      ]
     },
     "metadata": {},
     "output_type": "display_data"
    },
    {
     "data": {
      "text/plain": [
       "0: 384x640 19 persons, 7 cars, 23 motorcycles, 1 bus, 1 truck, 2 traffic lights, 1 backpack, 428.7ms\n"
      ]
     },
     "metadata": {},
     "output_type": "display_data"
    },
    {
     "data": {
      "text/plain": [
       "Speed: 2.0ms preprocess, 428.7ms inference, 1.1ms postprocess per image at shape (1, 3, 384, 640)\n"
      ]
     },
     "metadata": {},
     "output_type": "display_data"
    },
    {
     "data": {
      "text/plain": [
       "\n"
      ]
     },
     "metadata": {},
     "output_type": "display_data"
    },
    {
     "data": {
      "text/plain": [
       "0: 384x640 19 persons, 7 cars, 24 motorcycles, 1 bus, 1 truck, 2 traffic lights, 1 backpack, 401.0ms\n"
      ]
     },
     "metadata": {},
     "output_type": "display_data"
    },
    {
     "data": {
      "text/plain": [
       "Speed: 2.0ms preprocess, 401.0ms inference, 1.0ms postprocess per image at shape (1, 3, 384, 640)\n"
      ]
     },
     "metadata": {},
     "output_type": "display_data"
    },
    {
     "data": {
      "text/plain": [
       "\n"
      ]
     },
     "metadata": {},
     "output_type": "display_data"
    },
    {
     "data": {
      "text/plain": [
       "0: 384x640 20 persons, 7 cars, 23 motorcycles, 1 bus, 1 truck, 2 traffic lights, 1 backpack, 418.5ms\n"
      ]
     },
     "metadata": {},
     "output_type": "display_data"
    },
    {
     "data": {
      "text/plain": [
       "Speed: 2.1ms preprocess, 418.5ms inference, 1.0ms postprocess per image at shape (1, 3, 384, 640)\n"
      ]
     },
     "metadata": {},
     "output_type": "display_data"
    },
    {
     "data": {
      "text/plain": [
       "\n"
      ]
     },
     "metadata": {},
     "output_type": "display_data"
    },
    {
     "data": {
      "text/plain": [
       "0: 384x640 21 persons, 7 cars, 23 motorcycles, 2 buss, 1 truck, 2 traffic lights, 1 backpack, 406.4ms\n"
      ]
     },
     "metadata": {},
     "output_type": "display_data"
    },
    {
     "data": {
      "text/plain": [
       "Speed: 1.7ms preprocess, 406.4ms inference, 1.0ms postprocess per image at shape (1, 3, 384, 640)\n"
      ]
     },
     "metadata": {},
     "output_type": "display_data"
    },
    {
     "data": {
      "text/plain": [
       "\n"
      ]
     },
     "metadata": {},
     "output_type": "display_data"
    },
    {
     "data": {
      "text/plain": [
       "0: 384x640 22 persons, 7 cars, 22 motorcycles, 2 buss, 1 truck, 2 traffic lights, 1 backpack, 418.2ms\n"
      ]
     },
     "metadata": {},
     "output_type": "display_data"
    },
    {
     "data": {
      "text/plain": [
       "Speed: 2.2ms preprocess, 418.2ms inference, 1.0ms postprocess per image at shape (1, 3, 384, 640)\n"
      ]
     },
     "metadata": {},
     "output_type": "display_data"
    },
    {
     "data": {
      "text/plain": [
       "\n"
      ]
     },
     "metadata": {},
     "output_type": "display_data"
    },
    {
     "data": {
      "text/plain": [
       "0: 384x640 19 persons, 7 cars, 24 motorcycles, 2 buss, 1 truck, 1 traffic light, 1 backpack, 406.2ms\n"
      ]
     },
     "metadata": {},
     "output_type": "display_data"
    },
    {
     "data": {
      "text/plain": [
       "Speed: 2.9ms preprocess, 406.2ms inference, 1.0ms postprocess per image at shape (1, 3, 384, 640)\n"
      ]
     },
     "metadata": {},
     "output_type": "display_data"
    },
    {
     "data": {
      "text/plain": [
       "\n"
      ]
     },
     "metadata": {},
     "output_type": "display_data"
    },
    {
     "data": {
      "text/plain": [
       "0: 384x640 20 persons, 7 cars, 23 motorcycles, 1 bus, 1 truck, 1 traffic light, 1 backpack, 441.1ms\n"
      ]
     },
     "metadata": {},
     "output_type": "display_data"
    },
    {
     "data": {
      "text/plain": [
       "Speed: 2.2ms preprocess, 441.1ms inference, 1.9ms postprocess per image at shape (1, 3, 384, 640)\n"
      ]
     },
     "metadata": {},
     "output_type": "display_data"
    },
    {
     "data": {
      "text/plain": [
       "\n"
      ]
     },
     "metadata": {},
     "output_type": "display_data"
    },
    {
     "data": {
      "text/plain": [
       "0: 384x640 19 persons, 7 cars, 23 motorcycles, 1 bus, 1 truck, 1 traffic light, 1 backpack, 403.0ms\n"
      ]
     },
     "metadata": {},
     "output_type": "display_data"
    },
    {
     "data": {
      "text/plain": [
       "Speed: 1.7ms preprocess, 403.0ms inference, 1.2ms postprocess per image at shape (1, 3, 384, 640)\n"
      ]
     },
     "metadata": {},
     "output_type": "display_data"
    },
    {
     "data": {
      "text/plain": [
       "\n"
      ]
     },
     "metadata": {},
     "output_type": "display_data"
    },
    {
     "data": {
      "text/plain": [
       "0: 384x640 20 persons, 7 cars, 23 motorcycles, 1 bus, 1 truck, 1 traffic light, 1 backpack, 410.5ms\n"
      ]
     },
     "metadata": {},
     "output_type": "display_data"
    },
    {
     "data": {
      "text/plain": [
       "Speed: 2.3ms preprocess, 410.5ms inference, 1.2ms postprocess per image at shape (1, 3, 384, 640)\n"
      ]
     },
     "metadata": {},
     "output_type": "display_data"
    },
    {
     "data": {
      "text/plain": [
       "\n"
      ]
     },
     "metadata": {},
     "output_type": "display_data"
    },
    {
     "data": {
      "text/plain": [
       "0: 384x640 19 persons, 7 cars, 23 motorcycles, 1 bus, 1 truck, 1 traffic light, 1 backpack, 419.8ms\n"
      ]
     },
     "metadata": {},
     "output_type": "display_data"
    },
    {
     "data": {
      "text/plain": [
       "Speed: 2.1ms preprocess, 419.8ms inference, 1.0ms postprocess per image at shape (1, 3, 384, 640)\n"
      ]
     },
     "metadata": {},
     "output_type": "display_data"
    },
    {
     "data": {
      "text/plain": [
       "\n"
      ]
     },
     "metadata": {},
     "output_type": "display_data"
    },
    {
     "data": {
      "text/plain": [
       "0: 384x640 19 persons, 7 cars, 25 motorcycles, 1 bus, 1 truck, 1 traffic light, 1 backpack, 427.9ms\n"
      ]
     },
     "metadata": {},
     "output_type": "display_data"
    },
    {
     "data": {
      "text/plain": [
       "Speed: 2.2ms preprocess, 427.9ms inference, 1.0ms postprocess per image at shape (1, 3, 384, 640)\n"
      ]
     },
     "metadata": {},
     "output_type": "display_data"
    },
    {
     "data": {
      "text/plain": [
       "\n"
      ]
     },
     "metadata": {},
     "output_type": "display_data"
    },
    {
     "data": {
      "text/plain": [
       "0: 384x640 19 persons, 7 cars, 25 motorcycles, 1 bus, 1 truck, 1 traffic light, 1 backpack, 406.1ms\n"
      ]
     },
     "metadata": {},
     "output_type": "display_data"
    },
    {
     "data": {
      "text/plain": [
       "Speed: 2.1ms preprocess, 406.1ms inference, 1.1ms postprocess per image at shape (1, 3, 384, 640)\n"
      ]
     },
     "metadata": {},
     "output_type": "display_data"
    },
    {
     "data": {
      "text/plain": [
       "\n"
      ]
     },
     "metadata": {},
     "output_type": "display_data"
    },
    {
     "data": {
      "text/plain": [
       "0: 384x640 19 persons, 7 cars, 27 motorcycles, 1 bus, 1 truck, 1 traffic light, 1 backpack, 411.4ms\n"
      ]
     },
     "metadata": {},
     "output_type": "display_data"
    },
    {
     "data": {
      "text/plain": [
       "Speed: 2.1ms preprocess, 411.4ms inference, 1.1ms postprocess per image at shape (1, 3, 384, 640)\n"
      ]
     },
     "metadata": {},
     "output_type": "display_data"
    },
    {
     "data": {
      "text/plain": [
       "\n"
      ]
     },
     "metadata": {},
     "output_type": "display_data"
    },
    {
     "data": {
      "text/plain": [
       "0: 384x640 19 persons, 7 cars, 26 motorcycles, 1 bus, 1 truck, 1 traffic light, 1 backpack, 401.8ms\n"
      ]
     },
     "metadata": {},
     "output_type": "display_data"
    },
    {
     "data": {
      "text/plain": [
       "Speed: 2.0ms preprocess, 401.8ms inference, 1.1ms postprocess per image at shape (1, 3, 384, 640)\n"
      ]
     },
     "metadata": {},
     "output_type": "display_data"
    },
    {
     "data": {
      "text/plain": [
       "\n"
      ]
     },
     "metadata": {},
     "output_type": "display_data"
    },
    {
     "data": {
      "text/plain": [
       "0: 384x640 19 persons, 7 cars, 26 motorcycles, 1 bus, 1 truck, 1 traffic light, 1 backpack, 422.1ms\n"
      ]
     },
     "metadata": {},
     "output_type": "display_data"
    },
    {
     "data": {
      "text/plain": [
       "Speed: 1.9ms preprocess, 422.1ms inference, 1.0ms postprocess per image at shape (1, 3, 384, 640)\n"
      ]
     },
     "metadata": {},
     "output_type": "display_data"
    },
    {
     "data": {
      "text/plain": [
       "\n"
      ]
     },
     "metadata": {},
     "output_type": "display_data"
    },
    {
     "data": {
      "text/plain": [
       "0: 384x640 19 persons, 7 cars, 25 motorcycles, 1 bus, 1 truck, 1 traffic light, 1 backpack, 404.8ms\n"
      ]
     },
     "metadata": {},
     "output_type": "display_data"
    },
    {
     "data": {
      "text/plain": [
       "Speed: 2.1ms preprocess, 404.8ms inference, 1.0ms postprocess per image at shape (1, 3, 384, 640)\n"
      ]
     },
     "metadata": {},
     "output_type": "display_data"
    },
    {
     "data": {
      "text/plain": [
       "\n"
      ]
     },
     "metadata": {},
     "output_type": "display_data"
    },
    {
     "data": {
      "text/plain": [
       "0: 384x640 20 persons, 7 cars, 25 motorcycles, 1 bus, 1 truck, 1 traffic light, 1 backpack, 419.8ms\n"
      ]
     },
     "metadata": {},
     "output_type": "display_data"
    },
    {
     "data": {
      "text/plain": [
       "Speed: 2.0ms preprocess, 419.8ms inference, 1.0ms postprocess per image at shape (1, 3, 384, 640)\n"
      ]
     },
     "metadata": {},
     "output_type": "display_data"
    },
    {
     "data": {
      "text/plain": [
       "\n"
      ]
     },
     "metadata": {},
     "output_type": "display_data"
    },
    {
     "data": {
      "text/plain": [
       "0: 384x640 21 persons, 7 cars, 25 motorcycles, 1 bus, 1 truck, 1 traffic light, 1 backpack, 408.7ms\n"
      ]
     },
     "metadata": {},
     "output_type": "display_data"
    },
    {
     "data": {
      "text/plain": [
       "Speed: 2.1ms preprocess, 408.7ms inference, 1.1ms postprocess per image at shape (1, 3, 384, 640)\n"
      ]
     },
     "metadata": {},
     "output_type": "display_data"
    },
    {
     "data": {
      "text/plain": [
       "\n"
      ]
     },
     "metadata": {},
     "output_type": "display_data"
    },
    {
     "data": {
      "text/plain": [
       "0: 384x640 20 persons, 7 cars, 25 motorcycles, 1 bus, 1 truck, 1 traffic light, 1 backpack, 410.2ms\n"
      ]
     },
     "metadata": {},
     "output_type": "display_data"
    },
    {
     "data": {
      "text/plain": [
       "Speed: 1.8ms preprocess, 410.2ms inference, 1.1ms postprocess per image at shape (1, 3, 384, 640)\n"
      ]
     },
     "metadata": {},
     "output_type": "display_data"
    },
    {
     "data": {
      "text/plain": [
       "\n"
      ]
     },
     "metadata": {},
     "output_type": "display_data"
    },
    {
     "data": {
      "text/plain": [
       "0: 384x640 20 persons, 7 cars, 25 motorcycles, 1 bus, 1 truck, 1 traffic light, 1 backpack, 403.0ms\n"
      ]
     },
     "metadata": {},
     "output_type": "display_data"
    },
    {
     "data": {
      "text/plain": [
       "Speed: 1.9ms preprocess, 403.0ms inference, 1.0ms postprocess per image at shape (1, 3, 384, 640)\n"
      ]
     },
     "metadata": {},
     "output_type": "display_data"
    },
    {
     "data": {
      "text/plain": [
       "\n"
      ]
     },
     "metadata": {},
     "output_type": "display_data"
    },
    {
     "data": {
      "text/plain": [
       "0: 384x640 21 persons, 7 cars, 24 motorcycles, 1 bus, 1 truck, 1 traffic light, 1 backpack, 433.3ms\n"
      ]
     },
     "metadata": {},
     "output_type": "display_data"
    },
    {
     "data": {
      "text/plain": [
       "Speed: 2.0ms preprocess, 433.3ms inference, 1.1ms postprocess per image at shape (1, 3, 384, 640)\n"
      ]
     },
     "metadata": {},
     "output_type": "display_data"
    },
    {
     "data": {
      "text/plain": [
       "\n"
      ]
     },
     "metadata": {},
     "output_type": "display_data"
    },
    {
     "data": {
      "text/plain": [
       "0: 384x640 21 persons, 7 cars, 26 motorcycles, 2 buss, 1 truck, 2 traffic lights, 1 backpack, 406.6ms\n"
      ]
     },
     "metadata": {},
     "output_type": "display_data"
    },
    {
     "data": {
      "text/plain": [
       "Speed: 1.9ms preprocess, 406.6ms inference, 1.3ms postprocess per image at shape (1, 3, 384, 640)\n"
      ]
     },
     "metadata": {},
     "output_type": "display_data"
    },
    {
     "data": {
      "text/plain": [
       "\n"
      ]
     },
     "metadata": {},
     "output_type": "display_data"
    },
    {
     "data": {
      "text/plain": [
       "0: 384x640 21 persons, 7 cars, 25 motorcycles, 2 buss, 1 truck, 2 traffic lights, 1 backpack, 409.1ms\n"
      ]
     },
     "metadata": {},
     "output_type": "display_data"
    },
    {
     "data": {
      "text/plain": [
       "Speed: 1.9ms preprocess, 409.1ms inference, 1.1ms postprocess per image at shape (1, 3, 384, 640)\n"
      ]
     },
     "metadata": {},
     "output_type": "display_data"
    },
    {
     "data": {
      "text/plain": [
       "\n"
      ]
     },
     "metadata": {},
     "output_type": "display_data"
    },
    {
     "data": {
      "text/plain": [
       "0: 384x640 21 persons, 7 cars, 24 motorcycles, 2 buss, 1 truck, 2 traffic lights, 1 backpack, 407.3ms\n"
      ]
     },
     "metadata": {},
     "output_type": "display_data"
    },
    {
     "data": {
      "text/plain": [
       "Speed: 1.8ms preprocess, 407.3ms inference, 1.1ms postprocess per image at shape (1, 3, 384, 640)\n"
      ]
     },
     "metadata": {},
     "output_type": "display_data"
    },
    {
     "data": {
      "text/plain": [
       "\n"
      ]
     },
     "metadata": {},
     "output_type": "display_data"
    },
    {
     "data": {
      "text/plain": [
       "0: 384x640 21 persons, 7 cars, 26 motorcycles, 2 buss, 1 truck, 2 traffic lights, 1 backpack, 416.8ms\n"
      ]
     },
     "metadata": {},
     "output_type": "display_data"
    },
    {
     "data": {
      "text/plain": [
       "Speed: 2.1ms preprocess, 416.8ms inference, 1.1ms postprocess per image at shape (1, 3, 384, 640)\n"
      ]
     },
     "metadata": {},
     "output_type": "display_data"
    },
    {
     "data": {
      "text/plain": [
       "\n"
      ]
     },
     "metadata": {},
     "output_type": "display_data"
    },
    {
     "data": {
      "text/plain": [
       "0: 384x640 21 persons, 7 cars, 26 motorcycles, 1 bus, 1 truck, 2 traffic lights, 1 backpack, 409.2ms\n"
      ]
     },
     "metadata": {},
     "output_type": "display_data"
    },
    {
     "data": {
      "text/plain": [
       "Speed: 2.2ms preprocess, 409.2ms inference, 1.1ms postprocess per image at shape (1, 3, 384, 640)\n"
      ]
     },
     "metadata": {},
     "output_type": "display_data"
    },
    {
     "data": {
      "text/plain": [
       "\n"
      ]
     },
     "metadata": {},
     "output_type": "display_data"
    },
    {
     "data": {
      "text/plain": [
       "0: 384x640 21 persons, 7 cars, 26 motorcycles, 1 bus, 1 truck, 2 traffic lights, 1 backpack, 419.9ms\n"
      ]
     },
     "metadata": {},
     "output_type": "display_data"
    },
    {
     "data": {
      "text/plain": [
       "Speed: 1.9ms preprocess, 419.9ms inference, 1.1ms postprocess per image at shape (1, 3, 384, 640)\n"
      ]
     },
     "metadata": {},
     "output_type": "display_data"
    },
    {
     "data": {
      "text/plain": [
       "\n"
      ]
     },
     "metadata": {},
     "output_type": "display_data"
    },
    {
     "data": {
      "text/plain": [
       "0: 384x640 21 persons, 6 cars, 27 motorcycles, 1 bus, 2 trucks, 2 traffic lights, 1 backpack, 390.6ms\n"
      ]
     },
     "metadata": {},
     "output_type": "display_data"
    },
    {
     "data": {
      "text/plain": [
       "Speed: 2.9ms preprocess, 390.6ms inference, 1.0ms postprocess per image at shape (1, 3, 384, 640)\n"
      ]
     },
     "metadata": {},
     "output_type": "display_data"
    },
    {
     "data": {
      "text/plain": [
       "\n"
      ]
     },
     "metadata": {},
     "output_type": "display_data"
    },
    {
     "data": {
      "text/plain": [
       "0: 384x640 21 persons, 6 cars, 27 motorcycles, 1 bus, 2 trucks, 2 traffic lights, 1 backpack, 423.8ms\n"
      ]
     },
     "metadata": {},
     "output_type": "display_data"
    },
    {
     "data": {
      "text/plain": [
       "Speed: 2.1ms preprocess, 423.8ms inference, 1.2ms postprocess per image at shape (1, 3, 384, 640)\n"
      ]
     },
     "metadata": {},
     "output_type": "display_data"
    },
    {
     "data": {
      "text/plain": [
       "\n"
      ]
     },
     "metadata": {},
     "output_type": "display_data"
    },
    {
     "data": {
      "text/plain": [
       "0: 384x640 21 persons, 6 cars, 26 motorcycles, 1 bus, 2 trucks, 1 traffic light, 1 backpack, 409.3ms\n"
      ]
     },
     "metadata": {},
     "output_type": "display_data"
    },
    {
     "data": {
      "text/plain": [
       "Speed: 2.0ms preprocess, 409.3ms inference, 1.6ms postprocess per image at shape (1, 3, 384, 640)\n"
      ]
     },
     "metadata": {},
     "output_type": "display_data"
    },
    {
     "data": {
      "text/plain": [
       "\n"
      ]
     },
     "metadata": {},
     "output_type": "display_data"
    },
    {
     "data": {
      "text/plain": [
       "0: 384x640 21 persons, 1 bicycle, 6 cars, 26 motorcycles, 1 bus, 2 trucks, 1 traffic light, 1 backpack, 411.4ms\n"
      ]
     },
     "metadata": {},
     "output_type": "display_data"
    },
    {
     "data": {
      "text/plain": [
       "Speed: 2.2ms preprocess, 411.4ms inference, 1.1ms postprocess per image at shape (1, 3, 384, 640)\n"
      ]
     },
     "metadata": {},
     "output_type": "display_data"
    },
    {
     "data": {
      "text/plain": [
       "\n"
      ]
     },
     "metadata": {},
     "output_type": "display_data"
    },
    {
     "data": {
      "text/plain": [
       "0: 384x640 21 persons, 1 bicycle, 6 cars, 27 motorcycles, 1 bus, 3 trucks, 1 traffic light, 1 backpack, 397.1ms\n"
      ]
     },
     "metadata": {},
     "output_type": "display_data"
    },
    {
     "data": {
      "text/plain": [
       "Speed: 2.2ms preprocess, 397.1ms inference, 1.1ms postprocess per image at shape (1, 3, 384, 640)\n"
      ]
     },
     "metadata": {},
     "output_type": "display_data"
    },
    {
     "data": {
      "text/plain": [
       "\n"
      ]
     },
     "metadata": {},
     "output_type": "display_data"
    },
    {
     "data": {
      "text/plain": [
       "0: 384x640 21 persons, 1 bicycle, 7 cars, 27 motorcycles, 1 truck, 1 traffic light, 1 backpack, 418.8ms\n"
      ]
     },
     "metadata": {},
     "output_type": "display_data"
    },
    {
     "data": {
      "text/plain": [
       "Speed: 2.2ms preprocess, 418.8ms inference, 1.0ms postprocess per image at shape (1, 3, 384, 640)\n"
      ]
     },
     "metadata": {},
     "output_type": "display_data"
    },
    {
     "data": {
      "text/plain": [
       "\n"
      ]
     },
     "metadata": {},
     "output_type": "display_data"
    },
    {
     "data": {
      "text/plain": [
       "0: 384x640 22 persons, 1 bicycle, 7 cars, 27 motorcycles, 1 bus, 1 truck, 1 traffic light, 1 backpack, 401.5ms\n"
      ]
     },
     "metadata": {},
     "output_type": "display_data"
    },
    {
     "data": {
      "text/plain": [
       "Speed: 2.1ms preprocess, 401.5ms inference, 1.0ms postprocess per image at shape (1, 3, 384, 640)\n"
      ]
     },
     "metadata": {},
     "output_type": "display_data"
    },
    {
     "data": {
      "text/plain": [
       "\n"
      ]
     },
     "metadata": {},
     "output_type": "display_data"
    },
    {
     "data": {
      "text/plain": [
       "0: 384x640 22 persons, 1 bicycle, 7 cars, 27 motorcycles, 1 bus, 1 truck, 1 traffic light, 1 backpack, 411.1ms\n"
      ]
     },
     "metadata": {},
     "output_type": "display_data"
    },
    {
     "data": {
      "text/plain": [
       "Speed: 2.0ms preprocess, 411.1ms inference, 1.0ms postprocess per image at shape (1, 3, 384, 640)\n"
      ]
     },
     "metadata": {},
     "output_type": "display_data"
    },
    {
     "data": {
      "text/plain": [
       "\n"
      ]
     },
     "metadata": {},
     "output_type": "display_data"
    },
    {
     "data": {
      "text/plain": [
       "0: 384x640 22 persons, 7 cars, 27 motorcycles, 1 bus, 1 truck, 1 traffic light, 1 backpack, 407.3ms\n"
      ]
     },
     "metadata": {},
     "output_type": "display_data"
    },
    {
     "data": {
      "text/plain": [
       "Speed: 1.8ms preprocess, 407.3ms inference, 0.9ms postprocess per image at shape (1, 3, 384, 640)\n"
      ]
     },
     "metadata": {},
     "output_type": "display_data"
    },
    {
     "data": {
      "text/plain": [
       "\n"
      ]
     },
     "metadata": {},
     "output_type": "display_data"
    },
    {
     "data": {
      "text/plain": [
       "0: 384x640 22 persons, 6 cars, 26 motorcycles, 1 bus, 2 trucks, 1 traffic light, 1 backpack, 416.7ms\n"
      ]
     },
     "metadata": {},
     "output_type": "display_data"
    },
    {
     "data": {
      "text/plain": [
       "Speed: 1.8ms preprocess, 416.7ms inference, 1.3ms postprocess per image at shape (1, 3, 384, 640)\n"
      ]
     },
     "metadata": {},
     "output_type": "display_data"
    },
    {
     "data": {
      "text/plain": [
       "\n"
      ]
     },
     "metadata": {},
     "output_type": "display_data"
    },
    {
     "data": {
      "text/plain": [
       "0: 384x640 21 persons, 1 bicycle, 6 cars, 25 motorcycles, 1 bus, 2 trucks, 1 traffic light, 1 backpack, 409.4ms\n"
      ]
     },
     "metadata": {},
     "output_type": "display_data"
    },
    {
     "data": {
      "text/plain": [
       "Speed: 2.0ms preprocess, 409.4ms inference, 1.2ms postprocess per image at shape (1, 3, 384, 640)\n"
      ]
     },
     "metadata": {},
     "output_type": "display_data"
    },
    {
     "data": {
      "text/plain": [
       "\n"
      ]
     },
     "metadata": {},
     "output_type": "display_data"
    },
    {
     "data": {
      "text/plain": [
       "0: 384x640 21 persons, 1 bicycle, 6 cars, 24 motorcycles, 1 bus, 2 trucks, 1 traffic light, 1 backpack, 416.0ms\n"
      ]
     },
     "metadata": {},
     "output_type": "display_data"
    },
    {
     "data": {
      "text/plain": [
       "Speed: 2.2ms preprocess, 416.0ms inference, 1.0ms postprocess per image at shape (1, 3, 384, 640)\n"
      ]
     },
     "metadata": {},
     "output_type": "display_data"
    },
    {
     "data": {
      "text/plain": [
       "\n"
      ]
     },
     "metadata": {},
     "output_type": "display_data"
    },
    {
     "data": {
      "text/plain": [
       "0: 384x640 21 persons, 1 bicycle, 6 cars, 24 motorcycles, 1 bus, 2 trucks, 1 traffic light, 1 backpack, 392.3ms\n"
      ]
     },
     "metadata": {},
     "output_type": "display_data"
    },
    {
     "data": {
      "text/plain": [
       "Speed: 2.2ms preprocess, 392.3ms inference, 1.0ms postprocess per image at shape (1, 3, 384, 640)\n"
      ]
     },
     "metadata": {},
     "output_type": "display_data"
    },
    {
     "data": {
      "text/plain": [
       "\n"
      ]
     },
     "metadata": {},
     "output_type": "display_data"
    },
    {
     "data": {
      "text/plain": [
       "0: 384x640 20 persons, 1 bicycle, 6 cars, 25 motorcycles, 1 bus, 2 trucks, 1 traffic light, 1 backpack, 427.1ms\n"
      ]
     },
     "metadata": {},
     "output_type": "display_data"
    },
    {
     "data": {
      "text/plain": [
       "Speed: 2.2ms preprocess, 427.1ms inference, 1.1ms postprocess per image at shape (1, 3, 384, 640)\n"
      ]
     },
     "metadata": {},
     "output_type": "display_data"
    },
    {
     "data": {
      "text/plain": [
       "\n"
      ]
     },
     "metadata": {},
     "output_type": "display_data"
    },
    {
     "data": {
      "text/plain": [
       "0: 384x640 20 persons, 1 bicycle, 6 cars, 23 motorcycles, 1 bus, 2 trucks, 1 traffic light, 1 backpack, 402.0ms\n"
      ]
     },
     "metadata": {},
     "output_type": "display_data"
    },
    {
     "data": {
      "text/plain": [
       "Speed: 1.8ms preprocess, 402.0ms inference, 0.9ms postprocess per image at shape (1, 3, 384, 640)\n"
      ]
     },
     "metadata": {},
     "output_type": "display_data"
    },
    {
     "data": {
      "text/plain": [
       "\n"
      ]
     },
     "metadata": {},
     "output_type": "display_data"
    },
    {
     "data": {
      "text/plain": [
       "0: 384x640 19 persons, 1 bicycle, 6 cars, 23 motorcycles, 1 bus, 2 trucks, 1 traffic light, 1 backpack, 414.9ms\n"
      ]
     },
     "metadata": {},
     "output_type": "display_data"
    },
    {
     "data": {
      "text/plain": [
       "Speed: 2.0ms preprocess, 414.9ms inference, 1.0ms postprocess per image at shape (1, 3, 384, 640)\n"
      ]
     },
     "metadata": {},
     "output_type": "display_data"
    },
    {
     "data": {
      "text/plain": [
       "\n"
      ]
     },
     "metadata": {},
     "output_type": "display_data"
    },
    {
     "data": {
      "text/plain": [
       "0: 384x640 19 persons, 1 bicycle, 6 cars, 24 motorcycles, 1 bus, 2 trucks, 1 traffic light, 1 backpack, 405.4ms\n"
      ]
     },
     "metadata": {},
     "output_type": "display_data"
    },
    {
     "data": {
      "text/plain": [
       "Speed: 2.2ms preprocess, 405.4ms inference, 1.0ms postprocess per image at shape (1, 3, 384, 640)\n"
      ]
     },
     "metadata": {},
     "output_type": "display_data"
    },
    {
     "data": {
      "text/plain": [
       "\n"
      ]
     },
     "metadata": {},
     "output_type": "display_data"
    },
    {
     "data": {
      "text/plain": [
       "0: 384x640 19 persons, 1 bicycle, 6 cars, 25 motorcycles, 1 bus, 2 trucks, 1 traffic light, 1 backpack, 418.1ms\n"
      ]
     },
     "metadata": {},
     "output_type": "display_data"
    },
    {
     "data": {
      "text/plain": [
       "Speed: 2.1ms preprocess, 418.1ms inference, 0.9ms postprocess per image at shape (1, 3, 384, 640)\n"
      ]
     },
     "metadata": {},
     "output_type": "display_data"
    },
    {
     "data": {
      "text/plain": [
       "\n"
      ]
     },
     "metadata": {},
     "output_type": "display_data"
    },
    {
     "data": {
      "text/plain": [
       "0: 384x640 20 persons, 1 bicycle, 6 cars, 25 motorcycles, 2 buss, 2 trucks, 1 traffic light, 1 backpack, 401.0ms\n"
      ]
     },
     "metadata": {},
     "output_type": "display_data"
    },
    {
     "data": {
      "text/plain": [
       "Speed: 2.1ms preprocess, 401.0ms inference, 1.0ms postprocess per image at shape (1, 3, 384, 640)\n"
      ]
     },
     "metadata": {},
     "output_type": "display_data"
    },
    {
     "data": {
      "text/plain": [
       "\n"
      ]
     },
     "metadata": {},
     "output_type": "display_data"
    },
    {
     "data": {
      "text/plain": [
       "0: 384x640 20 persons, 1 bicycle, 6 cars, 25 motorcycles, 1 bus, 1 truck, 1 traffic light, 1 backpack, 413.7ms\n"
      ]
     },
     "metadata": {},
     "output_type": "display_data"
    },
    {
     "data": {
      "text/plain": [
       "Speed: 1.9ms preprocess, 413.7ms inference, 1.1ms postprocess per image at shape (1, 3, 384, 640)\n"
      ]
     },
     "metadata": {},
     "output_type": "display_data"
    },
    {
     "data": {
      "text/plain": [
       "\n"
      ]
     },
     "metadata": {},
     "output_type": "display_data"
    },
    {
     "data": {
      "text/plain": [
       "0: 384x640 20 persons, 1 bicycle, 6 cars, 24 motorcycles, 1 bus, 2 trucks, 1 traffic light, 401.9ms\n"
      ]
     },
     "metadata": {},
     "output_type": "display_data"
    },
    {
     "data": {
      "text/plain": [
       "Speed: 2.2ms preprocess, 401.9ms inference, 1.0ms postprocess per image at shape (1, 3, 384, 640)\n"
      ]
     },
     "metadata": {},
     "output_type": "display_data"
    },
    {
     "data": {
      "text/plain": [
       "\n"
      ]
     },
     "metadata": {},
     "output_type": "display_data"
    },
    {
     "data": {
      "text/plain": [
       "0: 384x640 20 persons, 1 bicycle, 7 cars, 24 motorcycles, 1 bus, 1 truck, 423.5ms\n"
      ]
     },
     "metadata": {},
     "output_type": "display_data"
    },
    {
     "data": {
      "text/plain": [
       "Speed: 1.9ms preprocess, 423.5ms inference, 1.1ms postprocess per image at shape (1, 3, 384, 640)\n"
      ]
     },
     "metadata": {},
     "output_type": "display_data"
    },
    {
     "data": {
      "text/plain": [
       "\n"
      ]
     },
     "metadata": {},
     "output_type": "display_data"
    },
    {
     "data": {
      "text/plain": [
       "0: 384x640 20 persons, 7 cars, 26 motorcycles, 1 bus, 1 truck, 390.5ms\n"
      ]
     },
     "metadata": {},
     "output_type": "display_data"
    },
    {
     "data": {
      "text/plain": [
       "Speed: 1.8ms preprocess, 390.5ms inference, 1.0ms postprocess per image at shape (1, 3, 384, 640)\n"
      ]
     },
     "metadata": {},
     "output_type": "display_data"
    },
    {
     "data": {
      "text/plain": [
       "\n"
      ]
     },
     "metadata": {},
     "output_type": "display_data"
    },
    {
     "data": {
      "text/plain": [
       "0: 384x640 20 persons, 7 cars, 26 motorcycles, 1 bus, 1 truck, 415.5ms\n"
      ]
     },
     "metadata": {},
     "output_type": "display_data"
    },
    {
     "data": {
      "text/plain": [
       "Speed: 1.9ms preprocess, 415.5ms inference, 1.1ms postprocess per image at shape (1, 3, 384, 640)\n"
      ]
     },
     "metadata": {},
     "output_type": "display_data"
    },
    {
     "data": {
      "text/plain": [
       "\n"
      ]
     },
     "metadata": {},
     "output_type": "display_data"
    },
    {
     "data": {
      "text/plain": [
       "0: 384x640 20 persons, 1 bicycle, 7 cars, 26 motorcycles, 1 bus, 1 truck, 1 backpack, 399.2ms\n"
      ]
     },
     "metadata": {},
     "output_type": "display_data"
    },
    {
     "data": {
      "text/plain": [
       "Speed: 1.9ms preprocess, 399.2ms inference, 1.8ms postprocess per image at shape (1, 3, 384, 640)\n"
      ]
     },
     "metadata": {},
     "output_type": "display_data"
    },
    {
     "data": {
      "text/plain": [
       "\n"
      ]
     },
     "metadata": {},
     "output_type": "display_data"
    },
    {
     "data": {
      "text/plain": [
       "0: 384x640 20 persons, 1 bicycle, 7 cars, 28 motorcycles, 1 bus, 1 truck, 1 backpack, 422.8ms\n"
      ]
     },
     "metadata": {},
     "output_type": "display_data"
    },
    {
     "data": {
      "text/plain": [
       "Speed: 2.7ms preprocess, 422.8ms inference, 1.1ms postprocess per image at shape (1, 3, 384, 640)\n"
      ]
     },
     "metadata": {},
     "output_type": "display_data"
    },
    {
     "data": {
      "text/plain": [
       "\n"
      ]
     },
     "metadata": {},
     "output_type": "display_data"
    },
    {
     "data": {
      "text/plain": [
       "0: 384x640 20 persons, 6 cars, 28 motorcycles, 1 bus, 2 trucks, 1 backpack, 394.5ms\n"
      ]
     },
     "metadata": {},
     "output_type": "display_data"
    },
    {
     "data": {
      "text/plain": [
       "Speed: 1.9ms preprocess, 394.5ms inference, 1.0ms postprocess per image at shape (1, 3, 384, 640)\n"
      ]
     },
     "metadata": {},
     "output_type": "display_data"
    },
    {
     "data": {
      "text/plain": [
       "\n"
      ]
     },
     "metadata": {},
     "output_type": "display_data"
    },
    {
     "data": {
      "text/plain": [
       "0: 384x640 20 persons, 1 bicycle, 6 cars, 27 motorcycles, 2 buss, 2 trucks, 1 backpack, 427.0ms\n"
      ]
     },
     "metadata": {},
     "output_type": "display_data"
    },
    {
     "data": {
      "text/plain": [
       "Speed: 2.1ms preprocess, 427.0ms inference, 1.0ms postprocess per image at shape (1, 3, 384, 640)\n"
      ]
     },
     "metadata": {},
     "output_type": "display_data"
    },
    {
     "data": {
      "text/plain": [
       "\n"
      ]
     },
     "metadata": {},
     "output_type": "display_data"
    },
    {
     "data": {
      "text/plain": [
       "0: 384x640 20 persons, 1 bicycle, 7 cars, 29 motorcycles, 1 bus, 1 truck, 1 backpack, 393.7ms\n"
      ]
     },
     "metadata": {},
     "output_type": "display_data"
    },
    {
     "data": {
      "text/plain": [
       "Speed: 1.9ms preprocess, 393.7ms inference, 1.2ms postprocess per image at shape (1, 3, 384, 640)\n"
      ]
     },
     "metadata": {},
     "output_type": "display_data"
    },
    {
     "data": {
      "text/plain": [
       "\n"
      ]
     },
     "metadata": {},
     "output_type": "display_data"
    },
    {
     "data": {
      "text/plain": [
       "0: 384x640 20 persons, 1 bicycle, 7 cars, 29 motorcycles, 1 bus, 1 truck, 1 backpack, 398.4ms\n"
      ]
     },
     "metadata": {},
     "output_type": "display_data"
    },
    {
     "data": {
      "text/plain": [
       "Speed: 2.0ms preprocess, 398.4ms inference, 1.2ms postprocess per image at shape (1, 3, 384, 640)\n"
      ]
     },
     "metadata": {},
     "output_type": "display_data"
    },
    {
     "data": {
      "text/plain": [
       "\n"
      ]
     },
     "metadata": {},
     "output_type": "display_data"
    },
    {
     "data": {
      "text/plain": [
       "0: 384x640 20 persons, 1 bicycle, 7 cars, 29 motorcycles, 1 bus, 1 truck, 1 backpack, 400.7ms\n"
      ]
     },
     "metadata": {},
     "output_type": "display_data"
    },
    {
     "data": {
      "text/plain": [
       "Speed: 10.4ms preprocess, 400.7ms inference, 1.0ms postprocess per image at shape (1, 3, 384, 640)\n"
      ]
     },
     "metadata": {},
     "output_type": "display_data"
    },
    {
     "data": {
      "text/plain": [
       "\n"
      ]
     },
     "metadata": {},
     "output_type": "display_data"
    },
    {
     "data": {
      "text/plain": [
       "0: 384x640 20 persons, 1 bicycle, 7 cars, 30 motorcycles, 1 bus, 1 truck, 1 backpack, 400.8ms\n"
      ]
     },
     "metadata": {},
     "output_type": "display_data"
    },
    {
     "data": {
      "text/plain": [
       "Speed: 1.9ms preprocess, 400.8ms inference, 1.0ms postprocess per image at shape (1, 3, 384, 640)\n"
      ]
     },
     "metadata": {},
     "output_type": "display_data"
    },
    {
     "data": {
      "text/plain": [
       "\n"
      ]
     },
     "metadata": {},
     "output_type": "display_data"
    },
    {
     "data": {
      "text/plain": [
       "0: 384x640 20 persons, 1 bicycle, 7 cars, 30 motorcycles, 1 bus, 1 truck, 1 backpack, 425.9ms\n"
      ]
     },
     "metadata": {},
     "output_type": "display_data"
    },
    {
     "data": {
      "text/plain": [
       "Speed: 2.5ms preprocess, 425.9ms inference, 1.1ms postprocess per image at shape (1, 3, 384, 640)\n"
      ]
     },
     "metadata": {},
     "output_type": "display_data"
    },
    {
     "data": {
      "text/plain": [
       "\n"
      ]
     },
     "metadata": {},
     "output_type": "display_data"
    },
    {
     "data": {
      "text/plain": [
       "0: 384x640 19 persons, 1 bicycle, 7 cars, 30 motorcycles, 1 bus, 1 truck, 1 backpack, 412.7ms\n"
      ]
     },
     "metadata": {},
     "output_type": "display_data"
    },
    {
     "data": {
      "text/plain": [
       "Speed: 2.1ms preprocess, 412.7ms inference, 1.0ms postprocess per image at shape (1, 3, 384, 640)\n"
      ]
     },
     "metadata": {},
     "output_type": "display_data"
    },
    {
     "data": {
      "text/plain": [
       "\n"
      ]
     },
     "metadata": {},
     "output_type": "display_data"
    },
    {
     "data": {
      "text/plain": [
       "0: 384x640 19 persons, 1 bicycle, 7 cars, 30 motorcycles, 1 bus, 1 truck, 1 backpack, 405.7ms\n"
      ]
     },
     "metadata": {},
     "output_type": "display_data"
    },
    {
     "data": {
      "text/plain": [
       "Speed: 2.1ms preprocess, 405.7ms inference, 1.1ms postprocess per image at shape (1, 3, 384, 640)\n"
      ]
     },
     "metadata": {},
     "output_type": "display_data"
    },
    {
     "data": {
      "text/plain": [
       "\n"
      ]
     },
     "metadata": {},
     "output_type": "display_data"
    },
    {
     "data": {
      "text/plain": [
       "0: 384x640 20 persons, 1 bicycle, 7 cars, 29 motorcycles, 1 bus, 1 truck, 1 backpack, 400.4ms\n"
      ]
     },
     "metadata": {},
     "output_type": "display_data"
    },
    {
     "data": {
      "text/plain": [
       "Speed: 2.1ms preprocess, 400.4ms inference, 1.1ms postprocess per image at shape (1, 3, 384, 640)\n"
      ]
     },
     "metadata": {},
     "output_type": "display_data"
    },
    {
     "data": {
      "text/plain": [
       "\n"
      ]
     },
     "metadata": {},
     "output_type": "display_data"
    },
    {
     "data": {
      "text/plain": [
       "0: 384x640 19 persons, 1 bicycle, 7 cars, 28 motorcycles, 1 bus, 1 truck, 2 backpacks, 404.8ms\n"
      ]
     },
     "metadata": {},
     "output_type": "display_data"
    },
    {
     "data": {
      "text/plain": [
       "Speed: 2.2ms preprocess, 404.8ms inference, 1.0ms postprocess per image at shape (1, 3, 384, 640)\n"
      ]
     },
     "metadata": {},
     "output_type": "display_data"
    },
    {
     "data": {
      "text/plain": [
       "\n"
      ]
     },
     "metadata": {},
     "output_type": "display_data"
    },
    {
     "data": {
      "text/plain": [
       "0: 384x640 20 persons, 1 bicycle, 7 cars, 28 motorcycles, 1 bus, 1 truck, 1 backpack, 400.2ms\n"
      ]
     },
     "metadata": {},
     "output_type": "display_data"
    },
    {
     "data": {
      "text/plain": [
       "Speed: 2.1ms preprocess, 400.2ms inference, 1.3ms postprocess per image at shape (1, 3, 384, 640)\n"
      ]
     },
     "metadata": {},
     "output_type": "display_data"
    },
    {
     "data": {
      "text/plain": [
       "\n"
      ]
     },
     "metadata": {},
     "output_type": "display_data"
    },
    {
     "data": {
      "text/plain": [
       "0: 384x640 19 persons, 1 bicycle, 7 cars, 28 motorcycles, 1 bus, 1 truck, 1 backpack, 406.9ms\n"
      ]
     },
     "metadata": {},
     "output_type": "display_data"
    },
    {
     "data": {
      "text/plain": [
       "Speed: 2.6ms preprocess, 406.9ms inference, 1.1ms postprocess per image at shape (1, 3, 384, 640)\n"
      ]
     },
     "metadata": {},
     "output_type": "display_data"
    },
    {
     "data": {
      "text/plain": [
       "\n"
      ]
     },
     "metadata": {},
     "output_type": "display_data"
    },
    {
     "data": {
      "text/plain": [
       "0: 384x640 19 persons, 1 bicycle, 7 cars, 28 motorcycles, 1 bus, 1 truck, 1 backpack, 409.9ms\n"
      ]
     },
     "metadata": {},
     "output_type": "display_data"
    },
    {
     "data": {
      "text/plain": [
       "Speed: 2.0ms preprocess, 409.9ms inference, 1.1ms postprocess per image at shape (1, 3, 384, 640)\n"
      ]
     },
     "metadata": {},
     "output_type": "display_data"
    },
    {
     "data": {
      "text/plain": [
       "\n"
      ]
     },
     "metadata": {},
     "output_type": "display_data"
    },
    {
     "data": {
      "text/plain": [
       "0: 384x640 19 persons, 1 bicycle, 7 cars, 27 motorcycles, 1 bus, 1 truck, 1 backpack, 404.1ms\n"
      ]
     },
     "metadata": {},
     "output_type": "display_data"
    },
    {
     "data": {
      "text/plain": [
       "Speed: 3.4ms preprocess, 404.1ms inference, 1.1ms postprocess per image at shape (1, 3, 384, 640)\n"
      ]
     },
     "metadata": {},
     "output_type": "display_data"
    },
    {
     "data": {
      "text/plain": [
       "\n"
      ]
     },
     "metadata": {},
     "output_type": "display_data"
    },
    {
     "data": {
      "text/plain": [
       "0: 384x640 19 persons, 1 bicycle, 7 cars, 26 motorcycles, 1 bus, 1 truck, 1 backpack, 432.3ms\n"
      ]
     },
     "metadata": {},
     "output_type": "display_data"
    },
    {
     "data": {
      "text/plain": [
       "Speed: 2.0ms preprocess, 432.3ms inference, 1.1ms postprocess per image at shape (1, 3, 384, 640)\n"
      ]
     },
     "metadata": {},
     "output_type": "display_data"
    },
    {
     "data": {
      "text/plain": [
       "\n"
      ]
     },
     "metadata": {},
     "output_type": "display_data"
    },
    {
     "data": {
      "text/plain": [
       "0: 384x640 19 persons, 1 bicycle, 7 cars, 26 motorcycles, 1 bus, 1 truck, 1 backpack, 423.0ms\n"
      ]
     },
     "metadata": {},
     "output_type": "display_data"
    },
    {
     "data": {
      "text/plain": [
       "Speed: 2.1ms preprocess, 423.0ms inference, 1.1ms postprocess per image at shape (1, 3, 384, 640)\n"
      ]
     },
     "metadata": {},
     "output_type": "display_data"
    },
    {
     "data": {
      "text/plain": [
       "\n"
      ]
     },
     "metadata": {},
     "output_type": "display_data"
    },
    {
     "data": {
      "text/plain": [
       "0: 384x640 20 persons, 1 bicycle, 7 cars, 27 motorcycles, 1 bus, 1 truck, 1 backpack, 413.6ms\n"
      ]
     },
     "metadata": {},
     "output_type": "display_data"
    },
    {
     "data": {
      "text/plain": [
       "Speed: 1.8ms preprocess, 413.6ms inference, 1.1ms postprocess per image at shape (1, 3, 384, 640)\n"
      ]
     },
     "metadata": {},
     "output_type": "display_data"
    },
    {
     "data": {
      "text/plain": [
       "\n"
      ]
     },
     "metadata": {},
     "output_type": "display_data"
    },
    {
     "data": {
      "text/plain": [
       "0: 384x640 20 persons, 1 bicycle, 7 cars, 28 motorcycles, 1 bus, 1 truck, 1 traffic light, 1 backpack, 408.2ms\n"
      ]
     },
     "metadata": {},
     "output_type": "display_data"
    },
    {
     "data": {
      "text/plain": [
       "Speed: 2.4ms preprocess, 408.2ms inference, 1.0ms postprocess per image at shape (1, 3, 384, 640)\n"
      ]
     },
     "metadata": {},
     "output_type": "display_data"
    },
    {
     "data": {
      "text/plain": [
       "\n"
      ]
     },
     "metadata": {},
     "output_type": "display_data"
    },
    {
     "data": {
      "text/plain": [
       "0: 384x640 19 persons, 1 bicycle, 7 cars, 28 motorcycles, 1 bus, 1 truck, 1 traffic light, 1 backpack, 410.5ms\n"
      ]
     },
     "metadata": {},
     "output_type": "display_data"
    },
    {
     "data": {
      "text/plain": [
       "Speed: 2.0ms preprocess, 410.5ms inference, 1.1ms postprocess per image at shape (1, 3, 384, 640)\n"
      ]
     },
     "metadata": {},
     "output_type": "display_data"
    },
    {
     "data": {
      "text/plain": [
       "\n"
      ]
     },
     "metadata": {},
     "output_type": "display_data"
    },
    {
     "data": {
      "text/plain": [
       "0: 384x640 19 persons, 1 bicycle, 7 cars, 28 motorcycles, 1 bus, 1 truck, 1 traffic light, 1 backpack, 413.7ms\n"
      ]
     },
     "metadata": {},
     "output_type": "display_data"
    },
    {
     "data": {
      "text/plain": [
       "Speed: 2.1ms preprocess, 413.7ms inference, 1.1ms postprocess per image at shape (1, 3, 384, 640)\n"
      ]
     },
     "metadata": {},
     "output_type": "display_data"
    },
    {
     "data": {
      "text/plain": [
       "\n"
      ]
     },
     "metadata": {},
     "output_type": "display_data"
    },
    {
     "data": {
      "text/plain": [
       "0: 384x640 20 persons, 1 bicycle, 7 cars, 27 motorcycles, 1 bus, 1 truck, 2 traffic lights, 1 backpack, 411.1ms\n"
      ]
     },
     "metadata": {},
     "output_type": "display_data"
    },
    {
     "data": {
      "text/plain": [
       "Speed: 2.1ms preprocess, 411.1ms inference, 1.2ms postprocess per image at shape (1, 3, 384, 640)\n"
      ]
     },
     "metadata": {},
     "output_type": "display_data"
    },
    {
     "data": {
      "text/plain": [
       "\n"
      ]
     },
     "metadata": {},
     "output_type": "display_data"
    },
    {
     "data": {
      "text/plain": [
       "0: 384x640 20 persons, 7 cars, 28 motorcycles, 1 bus, 1 truck, 2 traffic lights, 1 backpack, 415.3ms\n"
      ]
     },
     "metadata": {},
     "output_type": "display_data"
    },
    {
     "data": {
      "text/plain": [
       "Speed: 2.0ms preprocess, 415.3ms inference, 1.1ms postprocess per image at shape (1, 3, 384, 640)\n"
      ]
     },
     "metadata": {},
     "output_type": "display_data"
    },
    {
     "data": {
      "text/plain": [
       "\n"
      ]
     },
     "metadata": {},
     "output_type": "display_data"
    },
    {
     "data": {
      "text/plain": [
       "0: 384x640 20 persons, 1 bicycle, 7 cars, 27 motorcycles, 1 bus, 1 truck, 2 traffic lights, 1 backpack, 404.5ms\n"
      ]
     },
     "metadata": {},
     "output_type": "display_data"
    },
    {
     "data": {
      "text/plain": [
       "Speed: 2.0ms preprocess, 404.5ms inference, 1.1ms postprocess per image at shape (1, 3, 384, 640)\n"
      ]
     },
     "metadata": {},
     "output_type": "display_data"
    },
    {
     "data": {
      "text/plain": [
       "\n"
      ]
     },
     "metadata": {},
     "output_type": "display_data"
    },
    {
     "data": {
      "text/plain": [
       "0: 384x640 20 persons, 1 bicycle, 7 cars, 26 motorcycles, 1 bus, 1 truck, 2 traffic lights, 412.9ms\n"
      ]
     },
     "metadata": {},
     "output_type": "display_data"
    },
    {
     "data": {
      "text/plain": [
       "Speed: 2.0ms preprocess, 412.9ms inference, 1.2ms postprocess per image at shape (1, 3, 384, 640)\n"
      ]
     },
     "metadata": {},
     "output_type": "display_data"
    },
    {
     "data": {
      "text/plain": [
       "\n"
      ]
     },
     "metadata": {},
     "output_type": "display_data"
    },
    {
     "data": {
      "text/plain": [
       "0: 384x640 20 persons, 7 cars, 28 motorcycles, 1 bus, 1 truck, 2 traffic lights, 407.4ms\n"
      ]
     },
     "metadata": {},
     "output_type": "display_data"
    },
    {
     "data": {
      "text/plain": [
       "Speed: 2.2ms preprocess, 407.4ms inference, 1.1ms postprocess per image at shape (1, 3, 384, 640)\n"
      ]
     },
     "metadata": {},
     "output_type": "display_data"
    },
    {
     "data": {
      "text/plain": [
       "\n"
      ]
     },
     "metadata": {},
     "output_type": "display_data"
    },
    {
     "data": {
      "text/plain": [
       "0: 384x640 19 persons, 1 bicycle, 7 cars, 27 motorcycles, 1 bus, 1 truck, 2 traffic lights, 414.9ms\n"
      ]
     },
     "metadata": {},
     "output_type": "display_data"
    },
    {
     "data": {
      "text/plain": [
       "Speed: 1.8ms preprocess, 414.9ms inference, 1.1ms postprocess per image at shape (1, 3, 384, 640)\n"
      ]
     },
     "metadata": {},
     "output_type": "display_data"
    },
    {
     "data": {
      "text/plain": [
       "\n"
      ]
     },
     "metadata": {},
     "output_type": "display_data"
    },
    {
     "data": {
      "text/plain": [
       "0: 384x640 20 persons, 7 cars, 27 motorcycles, 1 bus, 1 truck, 2 traffic lights, 1 backpack, 406.8ms\n"
      ]
     },
     "metadata": {},
     "output_type": "display_data"
    },
    {
     "data": {
      "text/plain": [
       "Speed: 1.8ms preprocess, 406.8ms inference, 1.1ms postprocess per image at shape (1, 3, 384, 640)\n"
      ]
     },
     "metadata": {},
     "output_type": "display_data"
    },
    {
     "data": {
      "text/plain": [
       "\n"
      ]
     },
     "metadata": {},
     "output_type": "display_data"
    },
    {
     "data": {
      "text/plain": [
       "0: 384x640 20 persons, 1 bicycle, 7 cars, 25 motorcycles, 1 bus, 1 truck, 2 traffic lights, 1 backpack, 450.7ms\n"
      ]
     },
     "metadata": {},
     "output_type": "display_data"
    },
    {
     "data": {
      "text/plain": [
       "Speed: 2.0ms preprocess, 450.7ms inference, 1.1ms postprocess per image at shape (1, 3, 384, 640)\n"
      ]
     },
     "metadata": {},
     "output_type": "display_data"
    },
    {
     "data": {
      "text/plain": [
       "\n"
      ]
     },
     "metadata": {},
     "output_type": "display_data"
    },
    {
     "data": {
      "text/plain": [
       "0: 384x640 20 persons, 1 bicycle, 7 cars, 24 motorcycles, 1 bus, 1 truck, 2 traffic lights, 1 backpack, 430.0ms\n"
      ]
     },
     "metadata": {},
     "output_type": "display_data"
    },
    {
     "data": {
      "text/plain": [
       "Speed: 2.2ms preprocess, 430.0ms inference, 1.1ms postprocess per image at shape (1, 3, 384, 640)\n"
      ]
     },
     "metadata": {},
     "output_type": "display_data"
    },
    {
     "data": {
      "text/plain": [
       "\n"
      ]
     },
     "metadata": {},
     "output_type": "display_data"
    },
    {
     "data": {
      "text/plain": [
       "0: 384x640 19 persons, 7 cars, 24 motorcycles, 1 bus, 1 truck, 2 traffic lights, 1 backpack, 423.2ms\n"
      ]
     },
     "metadata": {},
     "output_type": "display_data"
    },
    {
     "data": {
      "text/plain": [
       "Speed: 2.2ms preprocess, 423.2ms inference, 1.2ms postprocess per image at shape (1, 3, 384, 640)\n"
      ]
     },
     "metadata": {},
     "output_type": "display_data"
    },
    {
     "data": {
      "text/plain": [
       "\n"
      ]
     },
     "metadata": {},
     "output_type": "display_data"
    },
    {
     "data": {
      "text/plain": [
       "0: 384x640 20 persons, 7 cars, 24 motorcycles, 1 bus, 1 truck, 2 traffic lights, 1 backpack, 414.8ms\n"
      ]
     },
     "metadata": {},
     "output_type": "display_data"
    },
    {
     "data": {
      "text/plain": [
       "Speed: 2.1ms preprocess, 414.8ms inference, 1.2ms postprocess per image at shape (1, 3, 384, 640)\n"
      ]
     },
     "metadata": {},
     "output_type": "display_data"
    },
    {
     "data": {
      "text/plain": [
       "\n"
      ]
     },
     "metadata": {},
     "output_type": "display_data"
    },
    {
     "data": {
      "text/plain": [
       "0: 384x640 20 persons, 7 cars, 24 motorcycles, 1 bus, 1 truck, 2 traffic lights, 1 backpack, 402.8ms\n"
      ]
     },
     "metadata": {},
     "output_type": "display_data"
    },
    {
     "data": {
      "text/plain": [
       "Speed: 2.2ms preprocess, 402.8ms inference, 1.0ms postprocess per image at shape (1, 3, 384, 640)\n"
      ]
     },
     "metadata": {},
     "output_type": "display_data"
    },
    {
     "data": {
      "text/plain": [
       "\n"
      ]
     },
     "metadata": {},
     "output_type": "display_data"
    },
    {
     "data": {
      "text/plain": [
       "0: 384x640 20 persons, 7 cars, 23 motorcycles, 1 bus, 1 truck, 2 traffic lights, 1 backpack, 401.3ms\n"
      ]
     },
     "metadata": {},
     "output_type": "display_data"
    },
    {
     "data": {
      "text/plain": [
       "Speed: 2.0ms preprocess, 401.3ms inference, 1.1ms postprocess per image at shape (1, 3, 384, 640)\n"
      ]
     },
     "metadata": {},
     "output_type": "display_data"
    },
    {
     "data": {
      "text/plain": [
       "\n"
      ]
     },
     "metadata": {},
     "output_type": "display_data"
    },
    {
     "data": {
      "text/plain": [
       "0: 384x640 20 persons, 7 cars, 23 motorcycles, 1 bus, 1 truck, 2 traffic lights, 1 backpack, 403.4ms\n"
      ]
     },
     "metadata": {},
     "output_type": "display_data"
    },
    {
     "data": {
      "text/plain": [
       "Speed: 2.2ms preprocess, 403.4ms inference, 1.3ms postprocess per image at shape (1, 3, 384, 640)\n"
      ]
     },
     "metadata": {},
     "output_type": "display_data"
    },
    {
     "data": {
      "text/plain": [
       "\n"
      ]
     },
     "metadata": {},
     "output_type": "display_data"
    },
    {
     "data": {
      "text/plain": [
       "0: 384x640 20 persons, 7 cars, 24 motorcycles, 1 bus, 1 truck, 2 traffic lights, 1 backpack, 418.3ms\n"
      ]
     },
     "metadata": {},
     "output_type": "display_data"
    },
    {
     "data": {
      "text/plain": [
       "Speed: 2.1ms preprocess, 418.3ms inference, 1.1ms postprocess per image at shape (1, 3, 384, 640)\n"
      ]
     },
     "metadata": {},
     "output_type": "display_data"
    },
    {
     "data": {
      "text/plain": [
       "\n"
      ]
     },
     "metadata": {},
     "output_type": "display_data"
    },
    {
     "data": {
      "text/plain": [
       "0: 384x640 20 persons, 7 cars, 24 motorcycles, 1 bus, 1 truck, 2 traffic lights, 1 backpack, 415.1ms\n"
      ]
     },
     "metadata": {},
     "output_type": "display_data"
    },
    {
     "data": {
      "text/plain": [
       "Speed: 1.8ms preprocess, 415.1ms inference, 1.1ms postprocess per image at shape (1, 3, 384, 640)\n"
      ]
     },
     "metadata": {},
     "output_type": "display_data"
    },
    {
     "data": {
      "text/plain": [
       "\n"
      ]
     },
     "metadata": {},
     "output_type": "display_data"
    },
    {
     "data": {
      "text/plain": [
       "0: 384x640 19 persons, 7 cars, 26 motorcycles, 1 bus, 1 truck, 2 traffic lights, 1 backpack, 410.1ms\n"
      ]
     },
     "metadata": {},
     "output_type": "display_data"
    },
    {
     "data": {
      "text/plain": [
       "Speed: 2.0ms preprocess, 410.1ms inference, 1.7ms postprocess per image at shape (1, 3, 384, 640)\n"
      ]
     },
     "metadata": {},
     "output_type": "display_data"
    },
    {
     "data": {
      "text/plain": [
       "\n"
      ]
     },
     "metadata": {},
     "output_type": "display_data"
    },
    {
     "data": {
      "text/plain": [
       "0: 384x640 19 persons, 7 cars, 24 motorcycles, 1 bus, 1 truck, 2 traffic lights, 1 backpack, 414.9ms\n"
      ]
     },
     "metadata": {},
     "output_type": "display_data"
    },
    {
     "data": {
      "text/plain": [
       "Speed: 2.1ms preprocess, 414.9ms inference, 1.0ms postprocess per image at shape (1, 3, 384, 640)\n"
      ]
     },
     "metadata": {},
     "output_type": "display_data"
    },
    {
     "data": {
      "text/plain": [
       "\n"
      ]
     },
     "metadata": {},
     "output_type": "display_data"
    },
    {
     "data": {
      "text/plain": [
       "0: 384x640 19 persons, 7 cars, 26 motorcycles, 1 bus, 1 truck, 3 traffic lights, 1 backpack, 408.1ms\n"
      ]
     },
     "metadata": {},
     "output_type": "display_data"
    },
    {
     "data": {
      "text/plain": [
       "Speed: 2.1ms preprocess, 408.1ms inference, 1.1ms postprocess per image at shape (1, 3, 384, 640)\n"
      ]
     },
     "metadata": {},
     "output_type": "display_data"
    },
    {
     "data": {
      "text/plain": [
       "\n"
      ]
     },
     "metadata": {},
     "output_type": "display_data"
    },
    {
     "data": {
      "text/plain": [
       "0: 384x640 19 persons, 1 bicycle, 7 cars, 25 motorcycles, 1 bus, 1 truck, 3 traffic lights, 1 backpack, 410.9ms\n"
      ]
     },
     "metadata": {},
     "output_type": "display_data"
    },
    {
     "data": {
      "text/plain": [
       "Speed: 2.1ms preprocess, 410.9ms inference, 1.1ms postprocess per image at shape (1, 3, 384, 640)\n"
      ]
     },
     "metadata": {},
     "output_type": "display_data"
    },
    {
     "data": {
      "text/plain": [
       "\n"
      ]
     },
     "metadata": {},
     "output_type": "display_data"
    },
    {
     "data": {
      "text/plain": [
       "0: 384x640 19 persons, 1 bicycle, 7 cars, 25 motorcycles, 1 bus, 1 truck, 3 traffic lights, 1 backpack, 400.4ms\n"
      ]
     },
     "metadata": {},
     "output_type": "display_data"
    },
    {
     "data": {
      "text/plain": [
       "Speed: 1.9ms preprocess, 400.4ms inference, 1.1ms postprocess per image at shape (1, 3, 384, 640)\n"
      ]
     },
     "metadata": {},
     "output_type": "display_data"
    },
    {
     "data": {
      "text/plain": [
       "\n"
      ]
     },
     "metadata": {},
     "output_type": "display_data"
    },
    {
     "data": {
      "text/plain": [
       "0: 384x640 19 persons, 1 bicycle, 7 cars, 26 motorcycles, 1 bus, 1 truck, 3 traffic lights, 1 backpack, 411.8ms\n"
      ]
     },
     "metadata": {},
     "output_type": "display_data"
    },
    {
     "data": {
      "text/plain": [
       "Speed: 2.1ms preprocess, 411.8ms inference, 1.1ms postprocess per image at shape (1, 3, 384, 640)\n"
      ]
     },
     "metadata": {},
     "output_type": "display_data"
    },
    {
     "data": {
      "text/plain": [
       "\n"
      ]
     },
     "metadata": {},
     "output_type": "display_data"
    },
    {
     "data": {
      "text/plain": [
       "0: 384x640 19 persons, 1 bicycle, 7 cars, 27 motorcycles, 1 bus, 1 truck, 3 traffic lights, 1 backpack, 412.6ms\n"
      ]
     },
     "metadata": {},
     "output_type": "display_data"
    },
    {
     "data": {
      "text/plain": [
       "Speed: 3.1ms preprocess, 412.6ms inference, 1.1ms postprocess per image at shape (1, 3, 384, 640)\n"
      ]
     },
     "metadata": {},
     "output_type": "display_data"
    },
    {
     "data": {
      "text/plain": [
       "\n"
      ]
     },
     "metadata": {},
     "output_type": "display_data"
    },
    {
     "data": {
      "text/plain": [
       "0: 384x640 20 persons, 1 bicycle, 7 cars, 26 motorcycles, 1 bus, 1 truck, 3 traffic lights, 1 backpack, 416.3ms\n"
      ]
     },
     "metadata": {},
     "output_type": "display_data"
    },
    {
     "data": {
      "text/plain": [
       "Speed: 2.0ms preprocess, 416.3ms inference, 1.1ms postprocess per image at shape (1, 3, 384, 640)\n"
      ]
     },
     "metadata": {},
     "output_type": "display_data"
    },
    {
     "data": {
      "text/plain": [
       "\n"
      ]
     },
     "metadata": {},
     "output_type": "display_data"
    },
    {
     "data": {
      "text/plain": [
       "0: 384x640 20 persons, 1 bicycle, 7 cars, 26 motorcycles, 1 bus, 1 truck, 3 traffic lights, 1 backpack, 401.9ms\n"
      ]
     },
     "metadata": {},
     "output_type": "display_data"
    },
    {
     "data": {
      "text/plain": [
       "Speed: 1.9ms preprocess, 401.9ms inference, 1.2ms postprocess per image at shape (1, 3, 384, 640)\n"
      ]
     },
     "metadata": {},
     "output_type": "display_data"
    },
    {
     "data": {
      "text/plain": [
       "\n"
      ]
     },
     "metadata": {},
     "output_type": "display_data"
    },
    {
     "data": {
      "text/plain": [
       "0: 384x640 20 persons, 1 bicycle, 7 cars, 25 motorcycles, 1 bus, 1 truck, 3 traffic lights, 1 backpack, 425.4ms\n"
      ]
     },
     "metadata": {},
     "output_type": "display_data"
    },
    {
     "data": {
      "text/plain": [
       "Speed: 2.2ms preprocess, 425.4ms inference, 1.1ms postprocess per image at shape (1, 3, 384, 640)\n"
      ]
     },
     "metadata": {},
     "output_type": "display_data"
    },
    {
     "data": {
      "text/plain": [
       "\n"
      ]
     },
     "metadata": {},
     "output_type": "display_data"
    },
    {
     "data": {
      "text/plain": [
       "0: 384x640 20 persons, 1 bicycle, 7 cars, 26 motorcycles, 1 bus, 1 truck, 2 traffic lights, 1 backpack, 399.3ms\n"
      ]
     },
     "metadata": {},
     "output_type": "display_data"
    },
    {
     "data": {
      "text/plain": [
       "Speed: 2.2ms preprocess, 399.3ms inference, 1.1ms postprocess per image at shape (1, 3, 384, 640)\n"
      ]
     },
     "metadata": {},
     "output_type": "display_data"
    },
    {
     "data": {
      "text/plain": [
       "\n"
      ]
     },
     "metadata": {},
     "output_type": "display_data"
    },
    {
     "data": {
      "text/plain": [
       "0: 384x640 20 persons, 1 bicycle, 7 cars, 26 motorcycles, 1 bus, 1 truck, 2 traffic lights, 1 backpack, 416.7ms\n"
      ]
     },
     "metadata": {},
     "output_type": "display_data"
    },
    {
     "data": {
      "text/plain": [
       "Speed: 2.1ms preprocess, 416.7ms inference, 1.1ms postprocess per image at shape (1, 3, 384, 640)\n"
      ]
     },
     "metadata": {},
     "output_type": "display_data"
    },
    {
     "data": {
      "text/plain": [
       "\n"
      ]
     },
     "metadata": {},
     "output_type": "display_data"
    },
    {
     "data": {
      "text/plain": [
       "0: 384x640 20 persons, 1 bicycle, 7 cars, 27 motorcycles, 1 bus, 1 truck, 2 traffic lights, 1 backpack, 414.1ms\n"
      ]
     },
     "metadata": {},
     "output_type": "display_data"
    },
    {
     "data": {
      "text/plain": [
       "Speed: 2.0ms preprocess, 414.1ms inference, 1.3ms postprocess per image at shape (1, 3, 384, 640)\n"
      ]
     },
     "metadata": {},
     "output_type": "display_data"
    },
    {
     "data": {
      "text/plain": [
       "\n"
      ]
     },
     "metadata": {},
     "output_type": "display_data"
    },
    {
     "data": {
      "text/plain": [
       "0: 384x640 21 persons, 1 bicycle, 7 cars, 27 motorcycles, 1 bus, 1 truck, 2 traffic lights, 1 backpack, 424.8ms\n"
      ]
     },
     "metadata": {},
     "output_type": "display_data"
    },
    {
     "data": {
      "text/plain": [
       "Speed: 2.0ms preprocess, 424.8ms inference, 1.1ms postprocess per image at shape (1, 3, 384, 640)\n"
      ]
     },
     "metadata": {},
     "output_type": "display_data"
    },
    {
     "data": {
      "text/plain": [
       "\n"
      ]
     },
     "metadata": {},
     "output_type": "display_data"
    },
    {
     "data": {
      "text/plain": [
       "0: 384x640 21 persons, 1 bicycle, 7 cars, 27 motorcycles, 1 bus, 1 truck, 2 traffic lights, 1 backpack, 395.7ms\n"
      ]
     },
     "metadata": {},
     "output_type": "display_data"
    },
    {
     "data": {
      "text/plain": [
       "Speed: 2.0ms preprocess, 395.7ms inference, 1.0ms postprocess per image at shape (1, 3, 384, 640)\n"
      ]
     },
     "metadata": {},
     "output_type": "display_data"
    },
    {
     "data": {
      "text/plain": [
       "\n"
      ]
     },
     "metadata": {},
     "output_type": "display_data"
    },
    {
     "data": {
      "text/plain": [
       "0: 384x640 21 persons, 1 bicycle, 8 cars, 27 motorcycles, 1 bus, 1 truck, 2 traffic lights, 1 backpack, 420.9ms\n"
      ]
     },
     "metadata": {},
     "output_type": "display_data"
    },
    {
     "data": {
      "text/plain": [
       "Speed: 2.1ms preprocess, 420.9ms inference, 1.1ms postprocess per image at shape (1, 3, 384, 640)\n"
      ]
     },
     "metadata": {},
     "output_type": "display_data"
    },
    {
     "data": {
      "text/plain": [
       "\n"
      ]
     },
     "metadata": {},
     "output_type": "display_data"
    },
    {
     "data": {
      "text/plain": [
       "0: 384x640 21 persons, 1 bicycle, 8 cars, 26 motorcycles, 1 bus, 1 truck, 2 traffic lights, 1 backpack, 406.5ms\n"
      ]
     },
     "metadata": {},
     "output_type": "display_data"
    },
    {
     "data": {
      "text/plain": [
       "Speed: 2.2ms preprocess, 406.5ms inference, 1.1ms postprocess per image at shape (1, 3, 384, 640)\n"
      ]
     },
     "metadata": {},
     "output_type": "display_data"
    },
    {
     "data": {
      "text/plain": [
       "\n"
      ]
     },
     "metadata": {},
     "output_type": "display_data"
    },
    {
     "data": {
      "text/plain": [
       "0: 384x640 21 persons, 1 bicycle, 8 cars, 25 motorcycles, 1 bus, 1 truck, 2 traffic lights, 1 backpack, 417.0ms\n"
      ]
     },
     "metadata": {},
     "output_type": "display_data"
    },
    {
     "data": {
      "text/plain": [
       "Speed: 2.1ms preprocess, 417.0ms inference, 1.1ms postprocess per image at shape (1, 3, 384, 640)\n"
      ]
     },
     "metadata": {},
     "output_type": "display_data"
    },
    {
     "data": {
      "text/plain": [
       "\n"
      ]
     },
     "metadata": {},
     "output_type": "display_data"
    },
    {
     "data": {
      "text/plain": [
       "0: 384x640 21 persons, 1 bicycle, 8 cars, 26 motorcycles, 1 bus, 1 truck, 2 traffic lights, 1 backpack, 396.1ms\n"
      ]
     },
     "metadata": {},
     "output_type": "display_data"
    },
    {
     "data": {
      "text/plain": [
       "Speed: 2.0ms preprocess, 396.1ms inference, 1.2ms postprocess per image at shape (1, 3, 384, 640)\n"
      ]
     },
     "metadata": {},
     "output_type": "display_data"
    },
    {
     "data": {
      "text/plain": [
       "\n"
      ]
     },
     "metadata": {},
     "output_type": "display_data"
    },
    {
     "data": {
      "text/plain": [
       "0: 384x640 21 persons, 1 bicycle, 8 cars, 26 motorcycles, 1 bus, 1 truck, 2 traffic lights, 1 backpack, 412.7ms\n"
      ]
     },
     "metadata": {},
     "output_type": "display_data"
    },
    {
     "data": {
      "text/plain": [
       "Speed: 2.9ms preprocess, 412.7ms inference, 1.1ms postprocess per image at shape (1, 3, 384, 640)\n"
      ]
     },
     "metadata": {},
     "output_type": "display_data"
    },
    {
     "data": {
      "text/plain": [
       "\n"
      ]
     },
     "metadata": {},
     "output_type": "display_data"
    },
    {
     "data": {
      "text/plain": [
       "0: 384x640 21 persons, 8 cars, 27 motorcycles, 1 bus, 1 truck, 2 traffic lights, 1 backpack, 411.6ms\n"
      ]
     },
     "metadata": {},
     "output_type": "display_data"
    },
    {
     "data": {
      "text/plain": [
       "Speed: 2.0ms preprocess, 411.6ms inference, 1.2ms postprocess per image at shape (1, 3, 384, 640)\n"
      ]
     },
     "metadata": {},
     "output_type": "display_data"
    },
    {
     "data": {
      "text/plain": [
       "\n"
      ]
     },
     "metadata": {},
     "output_type": "display_data"
    },
    {
     "data": {
      "text/plain": [
       "0: 384x640 21 persons, 8 cars, 27 motorcycles, 1 bus, 1 truck, 2 traffic lights, 1 backpack, 411.9ms\n"
      ]
     },
     "metadata": {},
     "output_type": "display_data"
    },
    {
     "data": {
      "text/plain": [
       "Speed: 2.0ms preprocess, 411.9ms inference, 1.2ms postprocess per image at shape (1, 3, 384, 640)\n"
      ]
     },
     "metadata": {},
     "output_type": "display_data"
    },
    {
     "data": {
      "text/plain": [
       "\n"
      ]
     },
     "metadata": {},
     "output_type": "display_data"
    },
    {
     "data": {
      "text/plain": [
       "0: 384x640 22 persons, 8 cars, 26 motorcycles, 1 bus, 1 truck, 2 traffic lights, 1 backpack, 407.3ms\n"
      ]
     },
     "metadata": {},
     "output_type": "display_data"
    },
    {
     "data": {
      "text/plain": [
       "Speed: 2.0ms preprocess, 407.3ms inference, 1.0ms postprocess per image at shape (1, 3, 384, 640)\n"
      ]
     },
     "metadata": {},
     "output_type": "display_data"
    },
    {
     "data": {
      "text/plain": [
       "\n"
      ]
     },
     "metadata": {},
     "output_type": "display_data"
    },
    {
     "data": {
      "text/plain": [
       "0: 384x640 22 persons, 8 cars, 26 motorcycles, 1 bus, 1 truck, 2 traffic lights, 1 backpack, 432.1ms\n"
      ]
     },
     "metadata": {},
     "output_type": "display_data"
    },
    {
     "data": {
      "text/plain": [
       "Speed: 3.0ms preprocess, 432.1ms inference, 1.6ms postprocess per image at shape (1, 3, 384, 640)\n"
      ]
     },
     "metadata": {},
     "output_type": "display_data"
    },
    {
     "data": {
      "text/plain": [
       "\n"
      ]
     },
     "metadata": {},
     "output_type": "display_data"
    },
    {
     "data": {
      "text/plain": [
       "0: 384x640 21 persons, 1 bicycle, 8 cars, 25 motorcycles, 1 bus, 1 truck, 2 traffic lights, 1 backpack, 405.1ms\n"
      ]
     },
     "metadata": {},
     "output_type": "display_data"
    },
    {
     "data": {
      "text/plain": [
       "Speed: 1.9ms preprocess, 405.1ms inference, 1.1ms postprocess per image at shape (1, 3, 384, 640)\n"
      ]
     },
     "metadata": {},
     "output_type": "display_data"
    },
    {
     "data": {
      "text/plain": [
       "\n"
      ]
     },
     "metadata": {},
     "output_type": "display_data"
    },
    {
     "data": {
      "text/plain": [
       "0: 384x640 20 persons, 1 bicycle, 8 cars, 26 motorcycles, 1 bus, 1 truck, 2 traffic lights, 1 backpack, 418.6ms\n"
      ]
     },
     "metadata": {},
     "output_type": "display_data"
    },
    {
     "data": {
      "text/plain": [
       "Speed: 2.3ms preprocess, 418.6ms inference, 1.2ms postprocess per image at shape (1, 3, 384, 640)\n"
      ]
     },
     "metadata": {},
     "output_type": "display_data"
    },
    {
     "data": {
      "text/plain": [
       "\n"
      ]
     },
     "metadata": {},
     "output_type": "display_data"
    },
    {
     "data": {
      "text/plain": [
       "0: 384x640 20 persons, 1 bicycle, 8 cars, 26 motorcycles, 1 bus, 1 truck, 2 traffic lights, 1 backpack, 404.6ms\n"
      ]
     },
     "metadata": {},
     "output_type": "display_data"
    },
    {
     "data": {
      "text/plain": [
       "Speed: 1.9ms preprocess, 404.6ms inference, 1.1ms postprocess per image at shape (1, 3, 384, 640)\n"
      ]
     },
     "metadata": {},
     "output_type": "display_data"
    },
    {
     "data": {
      "text/plain": [
       "\n"
      ]
     },
     "metadata": {},
     "output_type": "display_data"
    },
    {
     "data": {
      "text/plain": [
       "0: 384x640 20 persons, 1 bicycle, 8 cars, 28 motorcycles, 1 bus, 1 truck, 2 traffic lights, 423.7ms\n"
      ]
     },
     "metadata": {},
     "output_type": "display_data"
    },
    {
     "data": {
      "text/plain": [
       "Speed: 2.2ms preprocess, 423.7ms inference, 1.1ms postprocess per image at shape (1, 3, 384, 640)\n"
      ]
     },
     "metadata": {},
     "output_type": "display_data"
    },
    {
     "data": {
      "text/plain": [
       "\n"
      ]
     },
     "metadata": {},
     "output_type": "display_data"
    },
    {
     "data": {
      "text/plain": [
       "0: 384x640 21 persons, 8 cars, 26 motorcycles, 1 bus, 1 truck, 2 traffic lights, 398.1ms\n"
      ]
     },
     "metadata": {},
     "output_type": "display_data"
    },
    {
     "data": {
      "text/plain": [
       "Speed: 2.2ms preprocess, 398.1ms inference, 1.0ms postprocess per image at shape (1, 3, 384, 640)\n"
      ]
     },
     "metadata": {},
     "output_type": "display_data"
    },
    {
     "data": {
      "text/plain": [
       "\n"
      ]
     },
     "metadata": {},
     "output_type": "display_data"
    },
    {
     "data": {
      "text/plain": [
       "0: 384x640 21 persons, 1 bicycle, 8 cars, 26 motorcycles, 1 bus, 1 truck, 2 traffic lights, 416.3ms\n"
      ]
     },
     "metadata": {},
     "output_type": "display_data"
    },
    {
     "data": {
      "text/plain": [
       "Speed: 2.4ms preprocess, 416.3ms inference, 1.0ms postprocess per image at shape (1, 3, 384, 640)\n"
      ]
     },
     "metadata": {},
     "output_type": "display_data"
    },
    {
     "data": {
      "text/plain": [
       "\n"
      ]
     },
     "metadata": {},
     "output_type": "display_data"
    },
    {
     "data": {
      "text/plain": [
       "0: 384x640 21 persons, 1 bicycle, 8 cars, 26 motorcycles, 1 bus, 1 truck, 2 traffic lights, 1 backpack, 411.6ms\n"
      ]
     },
     "metadata": {},
     "output_type": "display_data"
    },
    {
     "data": {
      "text/plain": [
       "Speed: 2.1ms preprocess, 411.6ms inference, 1.0ms postprocess per image at shape (1, 3, 384, 640)\n"
      ]
     },
     "metadata": {},
     "output_type": "display_data"
    },
    {
     "data": {
      "text/plain": [
       "\n"
      ]
     },
     "metadata": {},
     "output_type": "display_data"
    },
    {
     "data": {
      "text/plain": [
       "0: 384x640 20 persons, 8 cars, 27 motorcycles, 1 bus, 1 truck, 2 traffic lights, 410.0ms\n"
      ]
     },
     "metadata": {},
     "output_type": "display_data"
    },
    {
     "data": {
      "text/plain": [
       "Speed: 2.0ms preprocess, 410.0ms inference, 1.0ms postprocess per image at shape (1, 3, 384, 640)\n"
      ]
     },
     "metadata": {},
     "output_type": "display_data"
    },
    {
     "data": {
      "text/plain": [
       "\n"
      ]
     },
     "metadata": {},
     "output_type": "display_data"
    },
    {
     "data": {
      "text/plain": [
       "0: 384x640 19 persons, 1 bicycle, 8 cars, 25 motorcycles, 1 bus, 1 truck, 2 traffic lights, 403.0ms\n"
      ]
     },
     "metadata": {},
     "output_type": "display_data"
    },
    {
     "data": {
      "text/plain": [
       "Speed: 2.1ms preprocess, 403.0ms inference, 1.1ms postprocess per image at shape (1, 3, 384, 640)\n"
      ]
     },
     "metadata": {},
     "output_type": "display_data"
    },
    {
     "data": {
      "text/plain": [
       "\n"
      ]
     },
     "metadata": {},
     "output_type": "display_data"
    },
    {
     "data": {
      "text/plain": [
       "0: 384x640 19 persons, 1 bicycle, 8 cars, 24 motorcycles, 1 bus, 1 truck, 2 traffic lights, 424.6ms\n"
      ]
     },
     "metadata": {},
     "output_type": "display_data"
    },
    {
     "data": {
      "text/plain": [
       "Speed: 2.3ms preprocess, 424.6ms inference, 1.0ms postprocess per image at shape (1, 3, 384, 640)\n"
      ]
     },
     "metadata": {},
     "output_type": "display_data"
    },
    {
     "data": {
      "text/plain": [
       "\n"
      ]
     },
     "metadata": {},
     "output_type": "display_data"
    },
    {
     "data": {
      "text/plain": [
       "0: 384x640 19 persons, 1 bicycle, 8 cars, 26 motorcycles, 1 bus, 1 truck, 2 traffic lights, 411.6ms\n"
      ]
     },
     "metadata": {},
     "output_type": "display_data"
    },
    {
     "data": {
      "text/plain": [
       "Speed: 1.9ms preprocess, 411.6ms inference, 1.0ms postprocess per image at shape (1, 3, 384, 640)\n"
      ]
     },
     "metadata": {},
     "output_type": "display_data"
    },
    {
     "data": {
      "text/plain": [
       "\n"
      ]
     },
     "metadata": {},
     "output_type": "display_data"
    },
    {
     "data": {
      "text/plain": [
       "0: 384x640 20 persons, 1 bicycle, 8 cars, 25 motorcycles, 1 bus, 1 truck, 2 traffic lights, 422.5ms\n"
      ]
     },
     "metadata": {},
     "output_type": "display_data"
    },
    {
     "data": {
      "text/plain": [
       "Speed: 2.1ms preprocess, 422.5ms inference, 1.2ms postprocess per image at shape (1, 3, 384, 640)\n"
      ]
     },
     "metadata": {},
     "output_type": "display_data"
    },
    {
     "data": {
      "text/plain": [
       "\n"
      ]
     },
     "metadata": {},
     "output_type": "display_data"
    },
    {
     "data": {
      "text/plain": [
       "0: 384x640 20 persons, 8 cars, 26 motorcycles, 1 bus, 1 truck, 2 traffic lights, 410.5ms\n"
      ]
     },
     "metadata": {},
     "output_type": "display_data"
    },
    {
     "data": {
      "text/plain": [
       "Speed: 2.0ms preprocess, 410.5ms inference, 1.0ms postprocess per image at shape (1, 3, 384, 640)\n"
      ]
     },
     "metadata": {},
     "output_type": "display_data"
    },
    {
     "data": {
      "text/plain": [
       "\n"
      ]
     },
     "metadata": {},
     "output_type": "display_data"
    },
    {
     "data": {
      "text/plain": [
       "0: 384x640 19 persons, 1 bicycle, 8 cars, 24 motorcycles, 1 bus, 1 truck, 2 traffic lights, 417.8ms\n"
      ]
     },
     "metadata": {},
     "output_type": "display_data"
    },
    {
     "data": {
      "text/plain": [
       "Speed: 1.9ms preprocess, 417.8ms inference, 1.2ms postprocess per image at shape (1, 3, 384, 640)\n"
      ]
     },
     "metadata": {},
     "output_type": "display_data"
    },
    {
     "data": {
      "text/plain": [
       "\n"
      ]
     },
     "metadata": {},
     "output_type": "display_data"
    },
    {
     "data": {
      "text/plain": [
       "0: 384x640 19 persons, 1 bicycle, 8 cars, 26 motorcycles, 2 buss, 1 truck, 2 traffic lights, 403.5ms\n"
      ]
     },
     "metadata": {},
     "output_type": "display_data"
    },
    {
     "data": {
      "text/plain": [
       "Speed: 2.7ms preprocess, 403.5ms inference, 1.1ms postprocess per image at shape (1, 3, 384, 640)\n"
      ]
     },
     "metadata": {},
     "output_type": "display_data"
    },
    {
     "data": {
      "text/plain": [
       "\n"
      ]
     },
     "metadata": {},
     "output_type": "display_data"
    },
    {
     "data": {
      "text/plain": [
       "0: 384x640 19 persons, 1 bicycle, 8 cars, 24 motorcycles, 2 buss, 1 truck, 2 traffic lights, 418.4ms\n"
      ]
     },
     "metadata": {},
     "output_type": "display_data"
    },
    {
     "data": {
      "text/plain": [
       "Speed: 3.1ms preprocess, 418.4ms inference, 1.0ms postprocess per image at shape (1, 3, 384, 640)\n"
      ]
     },
     "metadata": {},
     "output_type": "display_data"
    },
    {
     "data": {
      "text/plain": [
       "\n"
      ]
     },
     "metadata": {},
     "output_type": "display_data"
    },
    {
     "data": {
      "text/plain": [
       "0: 384x640 19 persons, 1 bicycle, 8 cars, 24 motorcycles, 2 buss, 1 truck, 2 traffic lights, 403.8ms\n"
      ]
     },
     "metadata": {},
     "output_type": "display_data"
    },
    {
     "data": {
      "text/plain": [
       "Speed: 1.9ms preprocess, 403.8ms inference, 1.1ms postprocess per image at shape (1, 3, 384, 640)\n"
      ]
     },
     "metadata": {},
     "output_type": "display_data"
    },
    {
     "data": {
      "text/plain": [
       "\n"
      ]
     },
     "metadata": {},
     "output_type": "display_data"
    },
    {
     "data": {
      "text/plain": [
       "0: 384x640 19 persons, 1 bicycle, 8 cars, 24 motorcycles, 2 buss, 1 truck, 2 traffic lights, 420.9ms\n"
      ]
     },
     "metadata": {},
     "output_type": "display_data"
    },
    {
     "data": {
      "text/plain": [
       "Speed: 2.1ms preprocess, 420.9ms inference, 1.0ms postprocess per image at shape (1, 3, 384, 640)\n"
      ]
     },
     "metadata": {},
     "output_type": "display_data"
    },
    {
     "data": {
      "text/plain": [
       "\n"
      ]
     },
     "metadata": {},
     "output_type": "display_data"
    },
    {
     "data": {
      "text/plain": [
       "0: 384x640 19 persons, 1 bicycle, 8 cars, 26 motorcycles, 2 buss, 1 truck, 2 traffic lights, 1 backpack, 400.8ms\n"
      ]
     },
     "metadata": {},
     "output_type": "display_data"
    },
    {
     "data": {
      "text/plain": [
       "Speed: 3.1ms preprocess, 400.8ms inference, 1.1ms postprocess per image at shape (1, 3, 384, 640)\n"
      ]
     },
     "metadata": {},
     "output_type": "display_data"
    },
    {
     "data": {
      "text/plain": [
       "\n"
      ]
     },
     "metadata": {},
     "output_type": "display_data"
    },
    {
     "data": {
      "text/plain": [
       "0: 384x640 19 persons, 1 bicycle, 8 cars, 27 motorcycles, 2 buss, 1 truck, 2 traffic lights, 1 backpack, 430.4ms\n"
      ]
     },
     "metadata": {},
     "output_type": "display_data"
    },
    {
     "data": {
      "text/plain": [
       "Speed: 2.0ms preprocess, 430.4ms inference, 1.1ms postprocess per image at shape (1, 3, 384, 640)\n"
      ]
     },
     "metadata": {},
     "output_type": "display_data"
    },
    {
     "data": {
      "text/plain": [
       "\n"
      ]
     },
     "metadata": {},
     "output_type": "display_data"
    },
    {
     "data": {
      "text/plain": [
       "0: 384x640 19 persons, 1 bicycle, 8 cars, 27 motorcycles, 2 buss, 1 truck, 2 traffic lights, 1 backpack, 418.3ms\n"
      ]
     },
     "metadata": {},
     "output_type": "display_data"
    },
    {
     "data": {
      "text/plain": [
       "Speed: 2.8ms preprocess, 418.3ms inference, 1.8ms postprocess per image at shape (1, 3, 384, 640)\n"
      ]
     },
     "metadata": {},
     "output_type": "display_data"
    },
    {
     "data": {
      "text/plain": [
       "\n"
      ]
     },
     "metadata": {},
     "output_type": "display_data"
    },
    {
     "data": {
      "text/plain": [
       "0: 384x640 19 persons, 1 bicycle, 8 cars, 28 motorcycles, 2 buss, 1 truck, 2 traffic lights, 1 backpack, 418.3ms\n"
      ]
     },
     "metadata": {},
     "output_type": "display_data"
    },
    {
     "data": {
      "text/plain": [
       "Speed: 2.2ms preprocess, 418.3ms inference, 1.7ms postprocess per image at shape (1, 3, 384, 640)\n"
      ]
     },
     "metadata": {},
     "output_type": "display_data"
    },
    {
     "data": {
      "text/plain": [
       "\n"
      ]
     },
     "metadata": {},
     "output_type": "display_data"
    },
    {
     "data": {
      "text/plain": [
       "0: 384x640 18 persons, 1 bicycle, 8 cars, 28 motorcycles, 1 bus, 1 truck, 2 traffic lights, 1 backpack, 410.8ms\n"
      ]
     },
     "metadata": {},
     "output_type": "display_data"
    },
    {
     "data": {
      "text/plain": [
       "Speed: 2.1ms preprocess, 410.8ms inference, 1.1ms postprocess per image at shape (1, 3, 384, 640)\n"
      ]
     },
     "metadata": {},
     "output_type": "display_data"
    },
    {
     "data": {
      "text/plain": [
       "\n"
      ]
     },
     "metadata": {},
     "output_type": "display_data"
    },
    {
     "data": {
      "text/plain": [
       "0: 384x640 18 persons, 1 bicycle, 8 cars, 28 motorcycles, 1 bus, 1 truck, 2 traffic lights, 1 backpack, 413.9ms\n"
      ]
     },
     "metadata": {},
     "output_type": "display_data"
    },
    {
     "data": {
      "text/plain": [
       "Speed: 2.0ms preprocess, 413.9ms inference, 1.0ms postprocess per image at shape (1, 3, 384, 640)\n"
      ]
     },
     "metadata": {},
     "output_type": "display_data"
    },
    {
     "data": {
      "text/plain": [
       "\n"
      ]
     },
     "metadata": {},
     "output_type": "display_data"
    },
    {
     "data": {
      "text/plain": [
       "0: 384x640 18 persons, 1 bicycle, 8 cars, 27 motorcycles, 1 bus, 1 truck, 3 traffic lights, 1 backpack, 406.8ms\n"
      ]
     },
     "metadata": {},
     "output_type": "display_data"
    },
    {
     "data": {
      "text/plain": [
       "Speed: 2.0ms preprocess, 406.8ms inference, 1.1ms postprocess per image at shape (1, 3, 384, 640)\n"
      ]
     },
     "metadata": {},
     "output_type": "display_data"
    },
    {
     "data": {
      "text/plain": [
       "\n"
      ]
     },
     "metadata": {},
     "output_type": "display_data"
    },
    {
     "data": {
      "text/plain": [
       "0: 384x640 17 persons, 1 bicycle, 8 cars, 26 motorcycles, 1 bus, 1 truck, 2 traffic lights, 1 backpack, 408.9ms\n"
      ]
     },
     "metadata": {},
     "output_type": "display_data"
    },
    {
     "data": {
      "text/plain": [
       "Speed: 2.0ms preprocess, 408.9ms inference, 1.0ms postprocess per image at shape (1, 3, 384, 640)\n"
      ]
     },
     "metadata": {},
     "output_type": "display_data"
    },
    {
     "data": {
      "text/plain": [
       "\n"
      ]
     },
     "metadata": {},
     "output_type": "display_data"
    },
    {
     "data": {
      "text/plain": [
       "0: 384x640 18 persons, 1 bicycle, 8 cars, 26 motorcycles, 1 bus, 1 truck, 2 traffic lights, 1 backpack, 403.6ms\n"
      ]
     },
     "metadata": {},
     "output_type": "display_data"
    },
    {
     "data": {
      "text/plain": [
       "Speed: 2.0ms preprocess, 403.6ms inference, 1.0ms postprocess per image at shape (1, 3, 384, 640)\n"
      ]
     },
     "metadata": {},
     "output_type": "display_data"
    },
    {
     "data": {
      "text/plain": [
       "\n"
      ]
     },
     "metadata": {},
     "output_type": "display_data"
    },
    {
     "data": {
      "text/plain": [
       "0: 384x640 18 persons, 1 bicycle, 8 cars, 26 motorcycles, 1 bus, 1 truck, 2 traffic lights, 1 backpack, 418.3ms\n"
      ]
     },
     "metadata": {},
     "output_type": "display_data"
    },
    {
     "data": {
      "text/plain": [
       "Speed: 2.1ms preprocess, 418.3ms inference, 1.0ms postprocess per image at shape (1, 3, 384, 640)\n"
      ]
     },
     "metadata": {},
     "output_type": "display_data"
    },
    {
     "data": {
      "text/plain": [
       "\n"
      ]
     },
     "metadata": {},
     "output_type": "display_data"
    },
    {
     "data": {
      "text/plain": [
       "0: 384x640 18 persons, 1 bicycle, 8 cars, 25 motorcycles, 1 bus, 1 truck, 2 traffic lights, 1 backpack, 401.0ms\n"
      ]
     },
     "metadata": {},
     "output_type": "display_data"
    },
    {
     "data": {
      "text/plain": [
       "Speed: 1.9ms preprocess, 401.0ms inference, 1.4ms postprocess per image at shape (1, 3, 384, 640)\n"
      ]
     },
     "metadata": {},
     "output_type": "display_data"
    },
    {
     "data": {
      "text/plain": [
       "\n"
      ]
     },
     "metadata": {},
     "output_type": "display_data"
    },
    {
     "data": {
      "text/plain": [
       "0: 384x640 18 persons, 1 bicycle, 9 cars, 25 motorcycles, 1 bus, 1 truck, 2 traffic lights, 1 backpack, 419.6ms\n"
      ]
     },
     "metadata": {},
     "output_type": "display_data"
    },
    {
     "data": {
      "text/plain": [
       "Speed: 2.2ms preprocess, 419.6ms inference, 1.0ms postprocess per image at shape (1, 3, 384, 640)\n"
      ]
     },
     "metadata": {},
     "output_type": "display_data"
    },
    {
     "data": {
      "text/plain": [
       "\n"
      ]
     },
     "metadata": {},
     "output_type": "display_data"
    },
    {
     "data": {
      "text/plain": [
       "0: 384x640 18 persons, 1 bicycle, 9 cars, 25 motorcycles, 1 bus, 1 truck, 2 traffic lights, 1 backpack, 418.4ms\n"
      ]
     },
     "metadata": {},
     "output_type": "display_data"
    },
    {
     "data": {
      "text/plain": [
       "Speed: 1.8ms preprocess, 418.4ms inference, 1.0ms postprocess per image at shape (1, 3, 384, 640)\n"
      ]
     },
     "metadata": {},
     "output_type": "display_data"
    },
    {
     "data": {
      "text/plain": [
       "\n"
      ]
     },
     "metadata": {},
     "output_type": "display_data"
    },
    {
     "data": {
      "text/plain": [
       "0: 384x640 18 persons, 1 bicycle, 9 cars, 25 motorcycles, 1 bus, 1 truck, 2 traffic lights, 1 backpack, 417.0ms\n"
      ]
     },
     "metadata": {},
     "output_type": "display_data"
    },
    {
     "data": {
      "text/plain": [
       "Speed: 2.2ms preprocess, 417.0ms inference, 1.0ms postprocess per image at shape (1, 3, 384, 640)\n"
      ]
     },
     "metadata": {},
     "output_type": "display_data"
    },
    {
     "data": {
      "text/plain": [
       "\n"
      ]
     },
     "metadata": {},
     "output_type": "display_data"
    },
    {
     "data": {
      "text/plain": [
       "0: 384x640 18 persons, 1 bicycle, 9 cars, 26 motorcycles, 1 bus, 1 truck, 2 traffic lights, 1 backpack, 396.3ms\n"
      ]
     },
     "metadata": {},
     "output_type": "display_data"
    },
    {
     "data": {
      "text/plain": [
       "Speed: 2.1ms preprocess, 396.3ms inference, 1.3ms postprocess per image at shape (1, 3, 384, 640)\n"
      ]
     },
     "metadata": {},
     "output_type": "display_data"
    },
    {
     "data": {
      "text/plain": [
       "\n"
      ]
     },
     "metadata": {},
     "output_type": "display_data"
    },
    {
     "data": {
      "text/plain": [
       "0: 384x640 18 persons, 1 bicycle, 9 cars, 25 motorcycles, 1 bus, 1 truck, 2 traffic lights, 1 backpack, 414.9ms\n"
      ]
     },
     "metadata": {},
     "output_type": "display_data"
    },
    {
     "data": {
      "text/plain": [
       "Speed: 3.0ms preprocess, 414.9ms inference, 1.0ms postprocess per image at shape (1, 3, 384, 640)\n"
      ]
     },
     "metadata": {},
     "output_type": "display_data"
    },
    {
     "data": {
      "text/plain": [
       "\n"
      ]
     },
     "metadata": {},
     "output_type": "display_data"
    },
    {
     "data": {
      "text/plain": [
       "0: 384x640 17 persons, 1 bicycle, 10 cars, 25 motorcycles, 1 bus, 1 truck, 2 traffic lights, 1 backpack, 410.2ms\n"
      ]
     },
     "metadata": {},
     "output_type": "display_data"
    },
    {
     "data": {
      "text/plain": [
       "Speed: 1.8ms preprocess, 410.2ms inference, 1.2ms postprocess per image at shape (1, 3, 384, 640)\n"
      ]
     },
     "metadata": {},
     "output_type": "display_data"
    },
    {
     "data": {
      "text/plain": [
       "\n"
      ]
     },
     "metadata": {},
     "output_type": "display_data"
    },
    {
     "data": {
      "text/plain": [
       "0: 384x640 18 persons, 10 cars, 26 motorcycles, 1 bus, 1 truck, 2 traffic lights, 416.5ms\n"
      ]
     },
     "metadata": {},
     "output_type": "display_data"
    },
    {
     "data": {
      "text/plain": [
       "Speed: 2.2ms preprocess, 416.5ms inference, 1.0ms postprocess per image at shape (1, 3, 384, 640)\n"
      ]
     },
     "metadata": {},
     "output_type": "display_data"
    },
    {
     "data": {
      "text/plain": [
       "\n"
      ]
     },
     "metadata": {},
     "output_type": "display_data"
    },
    {
     "data": {
      "text/plain": [
       "0: 384x640 18 persons, 9 cars, 26 motorcycles, 1 bus, 1 truck, 2 traffic lights, 414.3ms\n"
      ]
     },
     "metadata": {},
     "output_type": "display_data"
    },
    {
     "data": {
      "text/plain": [
       "Speed: 2.2ms preprocess, 414.3ms inference, 1.1ms postprocess per image at shape (1, 3, 384, 640)\n"
      ]
     },
     "metadata": {},
     "output_type": "display_data"
    },
    {
     "data": {
      "text/plain": [
       "\n"
      ]
     },
     "metadata": {},
     "output_type": "display_data"
    },
    {
     "data": {
      "text/plain": [
       "0: 384x640 17 persons, 9 cars, 26 motorcycles, 1 bus, 1 truck, 2 traffic lights, 418.5ms\n"
      ]
     },
     "metadata": {},
     "output_type": "display_data"
    },
    {
     "data": {
      "text/plain": [
       "Speed: 2.9ms preprocess, 418.5ms inference, 1.0ms postprocess per image at shape (1, 3, 384, 640)\n"
      ]
     },
     "metadata": {},
     "output_type": "display_data"
    },
    {
     "data": {
      "text/plain": [
       "\n"
      ]
     },
     "metadata": {},
     "output_type": "display_data"
    },
    {
     "data": {
      "text/plain": [
       "0: 384x640 17 persons, 9 cars, 26 motorcycles, 1 bus, 1 truck, 2 traffic lights, 402.1ms\n"
      ]
     },
     "metadata": {},
     "output_type": "display_data"
    },
    {
     "data": {
      "text/plain": [
       "Speed: 2.0ms preprocess, 402.1ms inference, 1.0ms postprocess per image at shape (1, 3, 384, 640)\n"
      ]
     },
     "metadata": {},
     "output_type": "display_data"
    },
    {
     "data": {
      "text/plain": [
       "\n"
      ]
     },
     "metadata": {},
     "output_type": "display_data"
    },
    {
     "data": {
      "text/plain": [
       "0: 384x640 16 persons, 9 cars, 26 motorcycles, 1 bus, 1 truck, 2 traffic lights, 428.4ms\n"
      ]
     },
     "metadata": {},
     "output_type": "display_data"
    },
    {
     "data": {
      "text/plain": [
       "Speed: 2.2ms preprocess, 428.4ms inference, 1.0ms postprocess per image at shape (1, 3, 384, 640)\n"
      ]
     },
     "metadata": {},
     "output_type": "display_data"
    },
    {
     "data": {
      "text/plain": [
       "\n"
      ]
     },
     "metadata": {},
     "output_type": "display_data"
    },
    {
     "data": {
      "text/plain": [
       "0: 384x640 16 persons, 9 cars, 25 motorcycles, 1 bus, 1 truck, 2 traffic lights, 1 backpack, 411.9ms\n"
      ]
     },
     "metadata": {},
     "output_type": "display_data"
    },
    {
     "data": {
      "text/plain": [
       "Speed: 2.1ms preprocess, 411.9ms inference, 1.1ms postprocess per image at shape (1, 3, 384, 640)\n"
      ]
     },
     "metadata": {},
     "output_type": "display_data"
    },
    {
     "data": {
      "text/plain": [
       "\n"
      ]
     },
     "metadata": {},
     "output_type": "display_data"
    },
    {
     "data": {
      "text/plain": [
       "0: 384x640 16 persons, 9 cars, 25 motorcycles, 1 bus, 1 truck, 2 traffic lights, 1 backpack, 425.7ms\n"
      ]
     },
     "metadata": {},
     "output_type": "display_data"
    },
    {
     "data": {
      "text/plain": [
       "Speed: 2.2ms preprocess, 425.7ms inference, 1.2ms postprocess per image at shape (1, 3, 384, 640)\n"
      ]
     },
     "metadata": {},
     "output_type": "display_data"
    },
    {
     "data": {
      "text/plain": [
       "\n"
      ]
     },
     "metadata": {},
     "output_type": "display_data"
    },
    {
     "data": {
      "text/plain": [
       "0: 384x640 16 persons, 9 cars, 25 motorcycles, 1 bus, 1 truck, 2 traffic lights, 1 backpack, 408.6ms\n"
      ]
     },
     "metadata": {},
     "output_type": "display_data"
    },
    {
     "data": {
      "text/plain": [
       "Speed: 2.1ms preprocess, 408.6ms inference, 1.1ms postprocess per image at shape (1, 3, 384, 640)\n"
      ]
     },
     "metadata": {},
     "output_type": "display_data"
    },
    {
     "data": {
      "text/plain": [
       "\n"
      ]
     },
     "metadata": {},
     "output_type": "display_data"
    },
    {
     "data": {
      "text/plain": [
       "0: 384x640 15 persons, 9 cars, 26 motorcycles, 1 bus, 1 truck, 2 traffic lights, 1 backpack, 414.7ms\n"
      ]
     },
     "metadata": {},
     "output_type": "display_data"
    },
    {
     "data": {
      "text/plain": [
       "Speed: 2.0ms preprocess, 414.7ms inference, 1.0ms postprocess per image at shape (1, 3, 384, 640)\n"
      ]
     },
     "metadata": {},
     "output_type": "display_data"
    },
    {
     "data": {
      "text/plain": [
       "\n"
      ]
     },
     "metadata": {},
     "output_type": "display_data"
    },
    {
     "data": {
      "text/plain": [
       "0: 384x640 14 persons, 9 cars, 26 motorcycles, 1 bus, 1 truck, 2 traffic lights, 1 backpack, 407.2ms\n"
      ]
     },
     "metadata": {},
     "output_type": "display_data"
    },
    {
     "data": {
      "text/plain": [
       "Speed: 1.9ms preprocess, 407.2ms inference, 1.0ms postprocess per image at shape (1, 3, 384, 640)\n"
      ]
     },
     "metadata": {},
     "output_type": "display_data"
    },
    {
     "data": {
      "text/plain": [
       "\n"
      ]
     },
     "metadata": {},
     "output_type": "display_data"
    },
    {
     "data": {
      "text/plain": [
       "0: 384x640 14 persons, 9 cars, 26 motorcycles, 1 bus, 1 truck, 2 traffic lights, 1 backpack, 416.8ms\n"
      ]
     },
     "metadata": {},
     "output_type": "display_data"
    },
    {
     "data": {
      "text/plain": [
       "Speed: 1.9ms preprocess, 416.8ms inference, 1.0ms postprocess per image at shape (1, 3, 384, 640)\n"
      ]
     },
     "metadata": {},
     "output_type": "display_data"
    },
    {
     "data": {
      "text/plain": [
       "\n"
      ]
     },
     "metadata": {},
     "output_type": "display_data"
    },
    {
     "data": {
      "text/plain": [
       "0: 384x640 15 persons, 9 cars, 26 motorcycles, 1 bus, 1 truck, 2 traffic lights, 405.1ms\n"
      ]
     },
     "metadata": {},
     "output_type": "display_data"
    },
    {
     "data": {
      "text/plain": [
       "Speed: 1.9ms preprocess, 405.1ms inference, 1.0ms postprocess per image at shape (1, 3, 384, 640)\n"
      ]
     },
     "metadata": {},
     "output_type": "display_data"
    },
    {
     "data": {
      "text/plain": [
       "\n"
      ]
     },
     "metadata": {},
     "output_type": "display_data"
    },
    {
     "data": {
      "text/plain": [
       "0: 384x640 15 persons, 9 cars, 25 motorcycles, 1 bus, 1 truck, 2 traffic lights, 422.0ms\n"
      ]
     },
     "metadata": {},
     "output_type": "display_data"
    },
    {
     "data": {
      "text/plain": [
       "Speed: 1.9ms preprocess, 422.0ms inference, 1.0ms postprocess per image at shape (1, 3, 384, 640)\n"
      ]
     },
     "metadata": {},
     "output_type": "display_data"
    },
    {
     "data": {
      "text/plain": [
       "\n"
      ]
     },
     "metadata": {},
     "output_type": "display_data"
    },
    {
     "data": {
      "text/plain": [
       "0: 384x640 15 persons, 9 cars, 25 motorcycles, 1 bus, 1 truck, 2 traffic lights, 407.3ms\n"
      ]
     },
     "metadata": {},
     "output_type": "display_data"
    },
    {
     "data": {
      "text/plain": [
       "Speed: 1.9ms preprocess, 407.3ms inference, 1.1ms postprocess per image at shape (1, 3, 384, 640)\n"
      ]
     },
     "metadata": {},
     "output_type": "display_data"
    },
    {
     "data": {
      "text/plain": [
       "\n"
      ]
     },
     "metadata": {},
     "output_type": "display_data"
    },
    {
     "data": {
      "text/plain": [
       "0: 384x640 15 persons, 9 cars, 25 motorcycles, 1 bus, 1 truck, 2 traffic lights, 430.7ms\n"
      ]
     },
     "metadata": {},
     "output_type": "display_data"
    },
    {
     "data": {
      "text/plain": [
       "Speed: 2.0ms preprocess, 430.7ms inference, 1.0ms postprocess per image at shape (1, 3, 384, 640)\n"
      ]
     },
     "metadata": {},
     "output_type": "display_data"
    },
    {
     "data": {
      "text/plain": [
       "\n"
      ]
     },
     "metadata": {},
     "output_type": "display_data"
    },
    {
     "data": {
      "text/plain": [
       "0: 384x640 15 persons, 1 bicycle, 9 cars, 23 motorcycles, 1 bus, 1 truck, 2 traffic lights, 401.9ms\n"
      ]
     },
     "metadata": {},
     "output_type": "display_data"
    },
    {
     "data": {
      "text/plain": [
       "Speed: 1.7ms preprocess, 401.9ms inference, 1.0ms postprocess per image at shape (1, 3, 384, 640)\n"
      ]
     },
     "metadata": {},
     "output_type": "display_data"
    },
    {
     "data": {
      "text/plain": [
       "\n"
      ]
     },
     "metadata": {},
     "output_type": "display_data"
    },
    {
     "data": {
      "text/plain": [
       "0: 384x640 15 persons, 1 bicycle, 9 cars, 23 motorcycles, 1 bus, 1 truck, 2 traffic lights, 436.8ms\n"
      ]
     },
     "metadata": {},
     "output_type": "display_data"
    },
    {
     "data": {
      "text/plain": [
       "Speed: 1.9ms preprocess, 436.8ms inference, 1.0ms postprocess per image at shape (1, 3, 384, 640)\n"
      ]
     },
     "metadata": {},
     "output_type": "display_data"
    },
    {
     "data": {
      "text/plain": [
       "\n"
      ]
     },
     "metadata": {},
     "output_type": "display_data"
    },
    {
     "data": {
      "text/plain": [
       "0: 384x640 15 persons, 1 bicycle, 9 cars, 23 motorcycles, 1 bus, 1 truck, 2 traffic lights, 404.7ms\n"
      ]
     },
     "metadata": {},
     "output_type": "display_data"
    },
    {
     "data": {
      "text/plain": [
       "Speed: 1.8ms preprocess, 404.7ms inference, 1.0ms postprocess per image at shape (1, 3, 384, 640)\n"
      ]
     },
     "metadata": {},
     "output_type": "display_data"
    },
    {
     "data": {
      "text/plain": [
       "\n"
      ]
     },
     "metadata": {},
     "output_type": "display_data"
    },
    {
     "data": {
      "text/plain": [
       "0: 384x640 14 persons, 1 bicycle, 9 cars, 22 motorcycles, 1 bus, 1 truck, 2 traffic lights, 417.6ms\n"
      ]
     },
     "metadata": {},
     "output_type": "display_data"
    },
    {
     "data": {
      "text/plain": [
       "Speed: 1.9ms preprocess, 417.6ms inference, 1.0ms postprocess per image at shape (1, 3, 384, 640)\n"
      ]
     },
     "metadata": {},
     "output_type": "display_data"
    },
    {
     "data": {
      "text/plain": [
       "\n"
      ]
     },
     "metadata": {},
     "output_type": "display_data"
    },
    {
     "data": {
      "text/plain": [
       "0: 384x640 14 persons, 1 bicycle, 9 cars, 22 motorcycles, 1 bus, 1 truck, 2 traffic lights, 409.7ms\n"
      ]
     },
     "metadata": {},
     "output_type": "display_data"
    },
    {
     "data": {
      "text/plain": [
       "Speed: 2.1ms preprocess, 409.7ms inference, 1.0ms postprocess per image at shape (1, 3, 384, 640)\n"
      ]
     },
     "metadata": {},
     "output_type": "display_data"
    },
    {
     "data": {
      "text/plain": [
       "\n"
      ]
     },
     "metadata": {},
     "output_type": "display_data"
    },
    {
     "data": {
      "text/plain": [
       "0: 384x640 14 persons, 1 bicycle, 9 cars, 22 motorcycles, 1 bus, 1 truck, 2 traffic lights, 421.2ms\n"
      ]
     },
     "metadata": {},
     "output_type": "display_data"
    },
    {
     "data": {
      "text/plain": [
       "Speed: 3.1ms preprocess, 421.2ms inference, 1.0ms postprocess per image at shape (1, 3, 384, 640)\n"
      ]
     },
     "metadata": {},
     "output_type": "display_data"
    },
    {
     "data": {
      "text/plain": [
       "\n"
      ]
     },
     "metadata": {},
     "output_type": "display_data"
    },
    {
     "data": {
      "text/plain": [
       "0: 384x640 14 persons, 1 bicycle, 9 cars, 22 motorcycles, 1 bus, 1 truck, 2 traffic lights, 412.3ms\n"
      ]
     },
     "metadata": {},
     "output_type": "display_data"
    },
    {
     "data": {
      "text/plain": [
       "Speed: 2.1ms preprocess, 412.3ms inference, 1.1ms postprocess per image at shape (1, 3, 384, 640)\n"
      ]
     },
     "metadata": {},
     "output_type": "display_data"
    },
    {
     "data": {
      "text/plain": [
       "\n"
      ]
     },
     "metadata": {},
     "output_type": "display_data"
    },
    {
     "data": {
      "text/plain": [
       "0: 384x640 14 persons, 1 bicycle, 9 cars, 22 motorcycles, 1 bus, 1 truck, 2 traffic lights, 433.5ms\n"
      ]
     },
     "metadata": {},
     "output_type": "display_data"
    },
    {
     "data": {
      "text/plain": [
       "Speed: 1.8ms preprocess, 433.5ms inference, 0.9ms postprocess per image at shape (1, 3, 384, 640)\n"
      ]
     },
     "metadata": {},
     "output_type": "display_data"
    },
    {
     "data": {
      "text/plain": [
       "\n"
      ]
     },
     "metadata": {},
     "output_type": "display_data"
    },
    {
     "data": {
      "text/plain": [
       "0: 384x640 14 persons, 1 bicycle, 9 cars, 21 motorcycles, 1 bus, 1 truck, 2 traffic lights, 397.9ms\n"
      ]
     },
     "metadata": {},
     "output_type": "display_data"
    },
    {
     "data": {
      "text/plain": [
       "Speed: 1.9ms preprocess, 397.9ms inference, 1.0ms postprocess per image at shape (1, 3, 384, 640)\n"
      ]
     },
     "metadata": {},
     "output_type": "display_data"
    },
    {
     "data": {
      "text/plain": [
       "\n"
      ]
     },
     "metadata": {},
     "output_type": "display_data"
    },
    {
     "data": {
      "text/plain": [
       "0: 384x640 14 persons, 1 bicycle, 9 cars, 22 motorcycles, 1 bus, 1 truck, 2 traffic lights, 428.5ms\n"
      ]
     },
     "metadata": {},
     "output_type": "display_data"
    },
    {
     "data": {
      "text/plain": [
       "Speed: 1.8ms preprocess, 428.5ms inference, 1.0ms postprocess per image at shape (1, 3, 384, 640)\n"
      ]
     },
     "metadata": {},
     "output_type": "display_data"
    },
    {
     "data": {
      "text/plain": [
       "\n"
      ]
     },
     "metadata": {},
     "output_type": "display_data"
    },
    {
     "data": {
      "text/plain": [
       "0: 384x640 14 persons, 1 bicycle, 9 cars, 21 motorcycles, 1 bus, 1 truck, 2 traffic lights, 407.9ms\n"
      ]
     },
     "metadata": {},
     "output_type": "display_data"
    },
    {
     "data": {
      "text/plain": [
       "Speed: 2.0ms preprocess, 407.9ms inference, 1.0ms postprocess per image at shape (1, 3, 384, 640)\n"
      ]
     },
     "metadata": {},
     "output_type": "display_data"
    },
    {
     "data": {
      "text/plain": [
       "\n"
      ]
     },
     "metadata": {},
     "output_type": "display_data"
    },
    {
     "data": {
      "text/plain": [
       "0: 384x640 14 persons, 1 bicycle, 9 cars, 20 motorcycles, 1 bus, 1 truck, 2 traffic lights, 425.8ms\n"
      ]
     },
     "metadata": {},
     "output_type": "display_data"
    },
    {
     "data": {
      "text/plain": [
       "Speed: 2.0ms preprocess, 425.8ms inference, 1.0ms postprocess per image at shape (1, 3, 384, 640)\n"
      ]
     },
     "metadata": {},
     "output_type": "display_data"
    },
    {
     "data": {
      "text/plain": [
       "\n"
      ]
     },
     "metadata": {},
     "output_type": "display_data"
    },
    {
     "data": {
      "text/plain": [
       "0: 384x640 14 persons, 1 bicycle, 9 cars, 20 motorcycles, 1 bus, 1 truck, 2 traffic lights, 397.7ms\n"
      ]
     },
     "metadata": {},
     "output_type": "display_data"
    },
    {
     "data": {
      "text/plain": [
       "Speed: 2.0ms preprocess, 397.7ms inference, 2.7ms postprocess per image at shape (1, 3, 384, 640)\n"
      ]
     },
     "metadata": {},
     "output_type": "display_data"
    },
    {
     "data": {
      "text/plain": [
       "\n"
      ]
     },
     "metadata": {},
     "output_type": "display_data"
    },
    {
     "data": {
      "text/plain": [
       "0: 384x640 14 persons, 1 bicycle, 9 cars, 21 motorcycles, 1 bus, 1 truck, 2 traffic lights, 426.5ms\n"
      ]
     },
     "metadata": {},
     "output_type": "display_data"
    },
    {
     "data": {
      "text/plain": [
       "Speed: 2.0ms preprocess, 426.5ms inference, 0.9ms postprocess per image at shape (1, 3, 384, 640)\n"
      ]
     },
     "metadata": {},
     "output_type": "display_data"
    },
    {
     "data": {
      "text/plain": [
       "\n"
      ]
     },
     "metadata": {},
     "output_type": "display_data"
    },
    {
     "data": {
      "text/plain": [
       "0: 384x640 14 persons, 1 bicycle, 9 cars, 21 motorcycles, 1 bus, 1 truck, 2 traffic lights, 401.9ms\n"
      ]
     },
     "metadata": {},
     "output_type": "display_data"
    },
    {
     "data": {
      "text/plain": [
       "Speed: 2.1ms preprocess, 401.9ms inference, 1.0ms postprocess per image at shape (1, 3, 384, 640)\n"
      ]
     },
     "metadata": {},
     "output_type": "display_data"
    },
    {
     "data": {
      "text/plain": [
       "\n"
      ]
     },
     "metadata": {},
     "output_type": "display_data"
    },
    {
     "data": {
      "text/plain": [
       "0: 384x640 14 persons, 1 bicycle, 9 cars, 21 motorcycles, 1 bus, 1 truck, 2 traffic lights, 415.8ms\n"
      ]
     },
     "metadata": {},
     "output_type": "display_data"
    },
    {
     "data": {
      "text/plain": [
       "Speed: 2.2ms preprocess, 415.8ms inference, 1.0ms postprocess per image at shape (1, 3, 384, 640)\n"
      ]
     },
     "metadata": {},
     "output_type": "display_data"
    },
    {
     "data": {
      "text/plain": [
       "\n"
      ]
     },
     "metadata": {},
     "output_type": "display_data"
    },
    {
     "data": {
      "text/plain": [
       "0: 384x640 14 persons, 1 bicycle, 9 cars, 21 motorcycles, 1 bus, 1 truck, 2 traffic lights, 405.5ms\n"
      ]
     },
     "metadata": {},
     "output_type": "display_data"
    },
    {
     "data": {
      "text/plain": [
       "Speed: 1.8ms preprocess, 405.5ms inference, 1.0ms postprocess per image at shape (1, 3, 384, 640)\n"
      ]
     },
     "metadata": {},
     "output_type": "display_data"
    },
    {
     "data": {
      "text/plain": [
       "\n"
      ]
     },
     "metadata": {},
     "output_type": "display_data"
    },
    {
     "data": {
      "text/plain": [
       "0: 384x640 15 persons, 1 bicycle, 9 cars, 21 motorcycles, 1 bus, 1 truck, 2 traffic lights, 430.1ms\n"
      ]
     },
     "metadata": {},
     "output_type": "display_data"
    },
    {
     "data": {
      "text/plain": [
       "Speed: 2.0ms preprocess, 430.1ms inference, 1.1ms postprocess per image at shape (1, 3, 384, 640)\n"
      ]
     },
     "metadata": {},
     "output_type": "display_data"
    },
    {
     "data": {
      "text/plain": [
       "\n"
      ]
     },
     "metadata": {},
     "output_type": "display_data"
    },
    {
     "data": {
      "text/plain": [
       "0: 384x640 15 persons, 1 bicycle, 8 cars, 20 motorcycles, 1 bus, 2 trucks, 2 traffic lights, 403.3ms\n"
      ]
     },
     "metadata": {},
     "output_type": "display_data"
    },
    {
     "data": {
      "text/plain": [
       "Speed: 2.1ms preprocess, 403.3ms inference, 1.0ms postprocess per image at shape (1, 3, 384, 640)\n"
      ]
     },
     "metadata": {},
     "output_type": "display_data"
    },
    {
     "data": {
      "text/plain": [
       "\n"
      ]
     },
     "metadata": {},
     "output_type": "display_data"
    },
    {
     "data": {
      "text/plain": [
       "0: 384x640 15 persons, 1 bicycle, 9 cars, 19 motorcycles, 1 bus, 1 truck, 2 traffic lights, 408.7ms\n"
      ]
     },
     "metadata": {},
     "output_type": "display_data"
    },
    {
     "data": {
      "text/plain": [
       "Speed: 2.1ms preprocess, 408.7ms inference, 1.0ms postprocess per image at shape (1, 3, 384, 640)\n"
      ]
     },
     "metadata": {},
     "output_type": "display_data"
    },
    {
     "data": {
      "text/plain": [
       "\n"
      ]
     },
     "metadata": {},
     "output_type": "display_data"
    },
    {
     "data": {
      "text/plain": [
       "0: 384x640 15 persons, 1 bicycle, 9 cars, 19 motorcycles, 1 bus, 1 truck, 2 traffic lights, 399.5ms\n"
      ]
     },
     "metadata": {},
     "output_type": "display_data"
    },
    {
     "data": {
      "text/plain": [
       "Speed: 10.0ms preprocess, 399.5ms inference, 1.2ms postprocess per image at shape (1, 3, 384, 640)\n"
      ]
     },
     "metadata": {},
     "output_type": "display_data"
    },
    {
     "data": {
      "text/plain": [
       "\n"
      ]
     },
     "metadata": {},
     "output_type": "display_data"
    },
    {
     "data": {
      "text/plain": [
       "0: 384x640 14 persons, 9 cars, 19 motorcycles, 1 bus, 1 truck, 2 traffic lights, 404.4ms\n"
      ]
     },
     "metadata": {},
     "output_type": "display_data"
    },
    {
     "data": {
      "text/plain": [
       "Speed: 2.2ms preprocess, 404.4ms inference, 1.1ms postprocess per image at shape (1, 3, 384, 640)\n"
      ]
     },
     "metadata": {},
     "output_type": "display_data"
    },
    {
     "data": {
      "text/plain": [
       "\n"
      ]
     },
     "metadata": {},
     "output_type": "display_data"
    },
    {
     "data": {
      "text/plain": [
       "0: 384x640 14 persons, 9 cars, 17 motorcycles, 1 bus, 1 truck, 2 traffic lights, 412.1ms\n"
      ]
     },
     "metadata": {},
     "output_type": "display_data"
    },
    {
     "data": {
      "text/plain": [
       "Speed: 1.9ms preprocess, 412.1ms inference, 1.0ms postprocess per image at shape (1, 3, 384, 640)\n"
      ]
     },
     "metadata": {},
     "output_type": "display_data"
    },
    {
     "data": {
      "text/plain": [
       "\n"
      ]
     },
     "metadata": {},
     "output_type": "display_data"
    },
    {
     "data": {
      "text/plain": [
       "0: 384x640 14 persons, 1 bicycle, 9 cars, 17 motorcycles, 1 bus, 1 truck, 2 traffic lights, 435.5ms\n"
      ]
     },
     "metadata": {},
     "output_type": "display_data"
    },
    {
     "data": {
      "text/plain": [
       "Speed: 2.6ms preprocess, 435.5ms inference, 1.0ms postprocess per image at shape (1, 3, 384, 640)\n"
      ]
     },
     "metadata": {},
     "output_type": "display_data"
    },
    {
     "data": {
      "text/plain": [
       "\n"
      ]
     },
     "metadata": {},
     "output_type": "display_data"
    },
    {
     "data": {
      "text/plain": [
       "0: 384x640 14 persons, 1 bicycle, 9 cars, 16 motorcycles, 1 bus, 1 truck, 2 traffic lights, 444.9ms\n"
      ]
     },
     "metadata": {},
     "output_type": "display_data"
    },
    {
     "data": {
      "text/plain": [
       "Speed: 2.1ms preprocess, 444.9ms inference, 1.1ms postprocess per image at shape (1, 3, 384, 640)\n"
      ]
     },
     "metadata": {},
     "output_type": "display_data"
    },
    {
     "data": {
      "text/plain": [
       "\n"
      ]
     },
     "metadata": {},
     "output_type": "display_data"
    },
    {
     "data": {
      "text/plain": [
       "0: 384x640 14 persons, 1 bicycle, 8 cars, 17 motorcycles, 1 bus, 2 trucks, 1 traffic light, 444.0ms\n"
      ]
     },
     "metadata": {},
     "output_type": "display_data"
    },
    {
     "data": {
      "text/plain": [
       "Speed: 3.1ms preprocess, 444.0ms inference, 1.1ms postprocess per image at shape (1, 3, 384, 640)\n"
      ]
     },
     "metadata": {},
     "output_type": "display_data"
    },
    {
     "data": {
      "text/plain": [
       "\n"
      ]
     },
     "metadata": {},
     "output_type": "display_data"
    },
    {
     "data": {
      "text/plain": [
       "0: 384x640 14 persons, 1 bicycle, 8 cars, 18 motorcycles, 1 bus, 2 trucks, 1 traffic light, 443.1ms\n"
      ]
     },
     "metadata": {},
     "output_type": "display_data"
    },
    {
     "data": {
      "text/plain": [
       "Speed: 11.4ms preprocess, 443.1ms inference, 1.0ms postprocess per image at shape (1, 3, 384, 640)\n"
      ]
     },
     "metadata": {},
     "output_type": "display_data"
    },
    {
     "data": {
      "text/plain": [
       "\n"
      ]
     },
     "metadata": {},
     "output_type": "display_data"
    },
    {
     "data": {
      "text/plain": [
       "0: 384x640 14 persons, 1 bicycle, 8 cars, 18 motorcycles, 1 bus, 2 trucks, 1 traffic light, 444.0ms\n"
      ]
     },
     "metadata": {},
     "output_type": "display_data"
    },
    {
     "data": {
      "text/plain": [
       "Speed: 3.0ms preprocess, 444.0ms inference, 1.0ms postprocess per image at shape (1, 3, 384, 640)\n"
      ]
     },
     "metadata": {},
     "output_type": "display_data"
    },
    {
     "data": {
      "text/plain": [
       "\n"
      ]
     },
     "metadata": {},
     "output_type": "display_data"
    },
    {
     "data": {
      "text/plain": [
       "0: 384x640 15 persons, 1 bicycle, 8 cars, 18 motorcycles, 1 bus, 2 trucks, 1 traffic light, 441.6ms\n"
      ]
     },
     "metadata": {},
     "output_type": "display_data"
    },
    {
     "data": {
      "text/plain": [
       "Speed: 10.9ms preprocess, 441.6ms inference, 0.9ms postprocess per image at shape (1, 3, 384, 640)\n"
      ]
     },
     "metadata": {},
     "output_type": "display_data"
    },
    {
     "data": {
      "text/plain": [
       "\n"
      ]
     },
     "metadata": {},
     "output_type": "display_data"
    },
    {
     "data": {
      "text/plain": [
       "0: 384x640 16 persons, 1 bicycle, 8 cars, 18 motorcycles, 1 bus, 2 trucks, 1 traffic light, 433.4ms\n"
      ]
     },
     "metadata": {},
     "output_type": "display_data"
    },
    {
     "data": {
      "text/plain": [
       "Speed: 2.0ms preprocess, 433.4ms inference, 0.9ms postprocess per image at shape (1, 3, 384, 640)\n"
      ]
     },
     "metadata": {},
     "output_type": "display_data"
    },
    {
     "data": {
      "text/plain": [
       "\n"
      ]
     },
     "metadata": {},
     "output_type": "display_data"
    },
    {
     "data": {
      "text/plain": [
       "0: 384x640 16 persons, 1 bicycle, 8 cars, 18 motorcycles, 1 bus, 2 trucks, 1 traffic light, 438.4ms\n"
      ]
     },
     "metadata": {},
     "output_type": "display_data"
    },
    {
     "data": {
      "text/plain": [
       "Speed: 10.8ms preprocess, 438.4ms inference, 1.0ms postprocess per image at shape (1, 3, 384, 640)\n"
      ]
     },
     "metadata": {},
     "output_type": "display_data"
    },
    {
     "data": {
      "text/plain": [
       "\n"
      ]
     },
     "metadata": {},
     "output_type": "display_data"
    },
    {
     "data": {
      "text/plain": [
       "0: 384x640 16 persons, 1 bicycle, 8 cars, 18 motorcycles, 1 bus, 2 trucks, 1 traffic light, 439.9ms\n"
      ]
     },
     "metadata": {},
     "output_type": "display_data"
    },
    {
     "data": {
      "text/plain": [
       "Speed: 2.3ms preprocess, 439.9ms inference, 0.9ms postprocess per image at shape (1, 3, 384, 640)\n"
      ]
     },
     "metadata": {},
     "output_type": "display_data"
    },
    {
     "data": {
      "text/plain": [
       "\n"
      ]
     },
     "metadata": {},
     "output_type": "display_data"
    },
    {
     "data": {
      "text/plain": [
       "0: 384x640 16 persons, 1 bicycle, 8 cars, 18 motorcycles, 1 bus, 1 truck, 1 traffic light, 443.4ms\n"
      ]
     },
     "metadata": {},
     "output_type": "display_data"
    },
    {
     "data": {
      "text/plain": [
       "Speed: 10.9ms preprocess, 443.4ms inference, 0.9ms postprocess per image at shape (1, 3, 384, 640)\n"
      ]
     },
     "metadata": {},
     "output_type": "display_data"
    },
    {
     "data": {
      "text/plain": [
       "\n"
      ]
     },
     "metadata": {},
     "output_type": "display_data"
    },
    {
     "data": {
      "text/plain": [
       "0: 384x640 16 persons, 1 bicycle, 7 cars, 18 motorcycles, 1 bus, 2 trucks, 1 traffic light, 450.3ms\n"
      ]
     },
     "metadata": {},
     "output_type": "display_data"
    },
    {
     "data": {
      "text/plain": [
       "Speed: 2.3ms preprocess, 450.3ms inference, 1.0ms postprocess per image at shape (1, 3, 384, 640)\n"
      ]
     },
     "metadata": {},
     "output_type": "display_data"
    },
    {
     "data": {
      "text/plain": [
       "\n"
      ]
     },
     "metadata": {},
     "output_type": "display_data"
    },
    {
     "data": {
      "text/plain": [
       "0: 384x640 16 persons, 1 bicycle, 8 cars, 17 motorcycles, 1 bus, 1 truck, 1 traffic light, 416.6ms\n"
      ]
     },
     "metadata": {},
     "output_type": "display_data"
    },
    {
     "data": {
      "text/plain": [
       "Speed: 10.5ms preprocess, 416.6ms inference, 0.9ms postprocess per image at shape (1, 3, 384, 640)\n"
      ]
     },
     "metadata": {},
     "output_type": "display_data"
    },
    {
     "data": {
      "text/plain": [
       "\n"
      ]
     },
     "metadata": {},
     "output_type": "display_data"
    },
    {
     "data": {
      "text/plain": [
       "0: 384x640 16 persons, 1 bicycle, 8 cars, 17 motorcycles, 1 bus, 1 truck, 1 traffic light, 406.6ms\n"
      ]
     },
     "metadata": {},
     "output_type": "display_data"
    },
    {
     "data": {
      "text/plain": [
       "Speed: 1.9ms preprocess, 406.6ms inference, 0.9ms postprocess per image at shape (1, 3, 384, 640)\n"
      ]
     },
     "metadata": {},
     "output_type": "display_data"
    },
    {
     "data": {
      "text/plain": [
       "\n"
      ]
     },
     "metadata": {},
     "output_type": "display_data"
    },
    {
     "data": {
      "text/plain": [
       "0: 384x640 16 persons, 1 bicycle, 8 cars, 18 motorcycles, 1 bus, 1 truck, 1 traffic light, 409.4ms\n"
      ]
     },
     "metadata": {},
     "output_type": "display_data"
    },
    {
     "data": {
      "text/plain": [
       "Speed: 1.9ms preprocess, 409.4ms inference, 1.2ms postprocess per image at shape (1, 3, 384, 640)\n"
      ]
     },
     "metadata": {},
     "output_type": "display_data"
    },
    {
     "data": {
      "text/plain": [
       "\n"
      ]
     },
     "metadata": {},
     "output_type": "display_data"
    },
    {
     "data": {
      "text/plain": [
       "0: 384x640 16 persons, 1 bicycle, 9 cars, 19 motorcycles, 1 bus, 1 truck, 1 traffic light, 412.3ms\n"
      ]
     },
     "metadata": {},
     "output_type": "display_data"
    },
    {
     "data": {
      "text/plain": [
       "Speed: 2.0ms preprocess, 412.3ms inference, 0.9ms postprocess per image at shape (1, 3, 384, 640)\n"
      ]
     },
     "metadata": {},
     "output_type": "display_data"
    },
    {
     "data": {
      "text/plain": [
       "\n"
      ]
     },
     "metadata": {},
     "output_type": "display_data"
    },
    {
     "data": {
      "text/plain": [
       "0: 384x640 17 persons, 1 bicycle, 9 cars, 19 motorcycles, 1 bus, 1 truck, 1 traffic light, 426.3ms\n"
      ]
     },
     "metadata": {},
     "output_type": "display_data"
    },
    {
     "data": {
      "text/plain": [
       "Speed: 2.1ms preprocess, 426.3ms inference, 0.9ms postprocess per image at shape (1, 3, 384, 640)\n"
      ]
     },
     "metadata": {},
     "output_type": "display_data"
    },
    {
     "data": {
      "text/plain": [
       "\n"
      ]
     },
     "metadata": {},
     "output_type": "display_data"
    },
    {
     "data": {
      "text/plain": [
       "0: 384x640 16 persons, 1 bicycle, 8 cars, 19 motorcycles, 1 bus, 2 trucks, 1 traffic light, 414.6ms\n"
      ]
     },
     "metadata": {},
     "output_type": "display_data"
    },
    {
     "data": {
      "text/plain": [
       "Speed: 2.1ms preprocess, 414.6ms inference, 1.0ms postprocess per image at shape (1, 3, 384, 640)\n"
      ]
     },
     "metadata": {},
     "output_type": "display_data"
    },
    {
     "data": {
      "text/plain": [
       "\n"
      ]
     },
     "metadata": {},
     "output_type": "display_data"
    },
    {
     "data": {
      "text/plain": [
       "0: 384x640 17 persons, 1 bicycle, 9 cars, 17 motorcycles, 1 bus, 1 truck, 1 traffic light, 427.3ms\n"
      ]
     },
     "metadata": {},
     "output_type": "display_data"
    },
    {
     "data": {
      "text/plain": [
       "Speed: 1.8ms preprocess, 427.3ms inference, 0.9ms postprocess per image at shape (1, 3, 384, 640)\n"
      ]
     },
     "metadata": {},
     "output_type": "display_data"
    },
    {
     "data": {
      "text/plain": [
       "\n"
      ]
     },
     "metadata": {},
     "output_type": "display_data"
    },
    {
     "data": {
      "text/plain": [
       "0: 384x640 16 persons, 1 bicycle, 9 cars, 17 motorcycles, 1 bus, 1 truck, 1 traffic light, 411.4ms\n"
      ]
     },
     "metadata": {},
     "output_type": "display_data"
    },
    {
     "data": {
      "text/plain": [
       "Speed: 2.0ms preprocess, 411.4ms inference, 0.9ms postprocess per image at shape (1, 3, 384, 640)\n"
      ]
     },
     "metadata": {},
     "output_type": "display_data"
    },
    {
     "data": {
      "text/plain": [
       "\n"
      ]
     },
     "metadata": {},
     "output_type": "display_data"
    },
    {
     "data": {
      "text/plain": [
       "0: 384x640 16 persons, 1 bicycle, 9 cars, 18 motorcycles, 1 bus, 1 truck, 1 traffic light, 418.3ms\n"
      ]
     },
     "metadata": {},
     "output_type": "display_data"
    },
    {
     "data": {
      "text/plain": [
       "Speed: 1.9ms preprocess, 418.3ms inference, 1.0ms postprocess per image at shape (1, 3, 384, 640)\n"
      ]
     },
     "metadata": {},
     "output_type": "display_data"
    },
    {
     "data": {
      "text/plain": [
       "\n"
      ]
     },
     "metadata": {},
     "output_type": "display_data"
    },
    {
     "data": {
      "text/plain": [
       "0: 384x640 16 persons, 1 bicycle, 9 cars, 19 motorcycles, 1 bus, 1 truck, 1 traffic light, 420.7ms\n"
      ]
     },
     "metadata": {},
     "output_type": "display_data"
    },
    {
     "data": {
      "text/plain": [
       "Speed: 2.1ms preprocess, 420.7ms inference, 1.0ms postprocess per image at shape (1, 3, 384, 640)\n"
      ]
     },
     "metadata": {},
     "output_type": "display_data"
    },
    {
     "data": {
      "text/plain": [
       "\n"
      ]
     },
     "metadata": {},
     "output_type": "display_data"
    },
    {
     "data": {
      "text/plain": [
       "0: 384x640 16 persons, 1 bicycle, 9 cars, 17 motorcycles, 1 bus, 1 truck, 1 traffic light, 423.6ms\n"
      ]
     },
     "metadata": {},
     "output_type": "display_data"
    },
    {
     "data": {
      "text/plain": [
       "Speed: 2.1ms preprocess, 423.6ms inference, 1.0ms postprocess per image at shape (1, 3, 384, 640)\n"
      ]
     },
     "metadata": {},
     "output_type": "display_data"
    },
    {
     "data": {
      "text/plain": [
       "\n"
      ]
     },
     "metadata": {},
     "output_type": "display_data"
    },
    {
     "data": {
      "text/plain": [
       "0: 384x640 16 persons, 1 bicycle, 9 cars, 18 motorcycles, 1 bus, 1 truck, 1 traffic light, 415.7ms\n"
      ]
     },
     "metadata": {},
     "output_type": "display_data"
    },
    {
     "data": {
      "text/plain": [
       "Speed: 2.1ms preprocess, 415.7ms inference, 1.5ms postprocess per image at shape (1, 3, 384, 640)\n"
      ]
     },
     "metadata": {},
     "output_type": "display_data"
    },
    {
     "data": {
      "text/plain": [
       "\n"
      ]
     },
     "metadata": {},
     "output_type": "display_data"
    },
    {
     "data": {
      "text/plain": [
       "0: 384x640 15 persons, 1 bicycle, 9 cars, 20 motorcycles, 1 bus, 1 truck, 1 traffic light, 421.1ms\n"
      ]
     },
     "metadata": {},
     "output_type": "display_data"
    },
    {
     "data": {
      "text/plain": [
       "Speed: 2.1ms preprocess, 421.1ms inference, 1.7ms postprocess per image at shape (1, 3, 384, 640)\n"
      ]
     },
     "metadata": {},
     "output_type": "display_data"
    },
    {
     "data": {
      "text/plain": [
       "\n"
      ]
     },
     "metadata": {},
     "output_type": "display_data"
    },
    {
     "data": {
      "text/plain": [
       "0: 384x640 16 persons, 1 bicycle, 9 cars, 20 motorcycles, 1 bus, 1 truck, 1 traffic light, 400.7ms\n"
      ]
     },
     "metadata": {},
     "output_type": "display_data"
    },
    {
     "data": {
      "text/plain": [
       "Speed: 2.2ms preprocess, 400.7ms inference, 0.9ms postprocess per image at shape (1, 3, 384, 640)\n"
      ]
     },
     "metadata": {},
     "output_type": "display_data"
    },
    {
     "data": {
      "text/plain": [
       "\n"
      ]
     },
     "metadata": {},
     "output_type": "display_data"
    },
    {
     "data": {
      "text/plain": [
       "0: 384x640 15 persons, 1 bicycle, 9 cars, 20 motorcycles, 1 bus, 1 truck, 1 traffic light, 423.2ms\n"
      ]
     },
     "metadata": {},
     "output_type": "display_data"
    },
    {
     "data": {
      "text/plain": [
       "Speed: 2.0ms preprocess, 423.2ms inference, 1.0ms postprocess per image at shape (1, 3, 384, 640)\n"
      ]
     },
     "metadata": {},
     "output_type": "display_data"
    },
    {
     "data": {
      "text/plain": [
       "\n"
      ]
     },
     "metadata": {},
     "output_type": "display_data"
    },
    {
     "data": {
      "text/plain": [
       "0: 384x640 16 persons, 1 bicycle, 9 cars, 19 motorcycles, 1 bus, 1 truck, 1 traffic light, 408.7ms\n"
      ]
     },
     "metadata": {},
     "output_type": "display_data"
    },
    {
     "data": {
      "text/plain": [
       "Speed: 2.1ms preprocess, 408.7ms inference, 1.2ms postprocess per image at shape (1, 3, 384, 640)\n"
      ]
     },
     "metadata": {},
     "output_type": "display_data"
    },
    {
     "data": {
      "text/plain": [
       "\n"
      ]
     },
     "metadata": {},
     "output_type": "display_data"
    },
    {
     "data": {
      "text/plain": [
       "0: 384x640 16 persons, 1 bicycle, 9 cars, 19 motorcycles, 1 bus, 1 truck, 1 traffic light, 419.3ms\n"
      ]
     },
     "metadata": {},
     "output_type": "display_data"
    },
    {
     "data": {
      "text/plain": [
       "Speed: 2.9ms preprocess, 419.3ms inference, 1.6ms postprocess per image at shape (1, 3, 384, 640)\n"
      ]
     },
     "metadata": {},
     "output_type": "display_data"
    },
    {
     "data": {
      "text/plain": [
       "\n"
      ]
     },
     "metadata": {},
     "output_type": "display_data"
    },
    {
     "data": {
      "text/plain": [
       "0: 384x640 16 persons, 1 bicycle, 9 cars, 20 motorcycles, 1 bus, 1 truck, 1 traffic light, 406.0ms\n"
      ]
     },
     "metadata": {},
     "output_type": "display_data"
    },
    {
     "data": {
      "text/plain": [
       "Speed: 2.0ms preprocess, 406.0ms inference, 1.0ms postprocess per image at shape (1, 3, 384, 640)\n"
      ]
     },
     "metadata": {},
     "output_type": "display_data"
    },
    {
     "data": {
      "text/plain": [
       "\n"
      ]
     },
     "metadata": {},
     "output_type": "display_data"
    },
    {
     "data": {
      "text/plain": [
       "0: 384x640 17 persons, 1 bicycle, 9 cars, 20 motorcycles, 1 bus, 1 truck, 2 traffic lights, 424.9ms\n"
      ]
     },
     "metadata": {},
     "output_type": "display_data"
    },
    {
     "data": {
      "text/plain": [
       "Speed: 2.1ms preprocess, 424.9ms inference, 0.9ms postprocess per image at shape (1, 3, 384, 640)\n"
      ]
     },
     "metadata": {},
     "output_type": "display_data"
    },
    {
     "data": {
      "text/plain": [
       "\n"
      ]
     },
     "metadata": {},
     "output_type": "display_data"
    },
    {
     "data": {
      "text/plain": [
       "0: 384x640 17 persons, 1 bicycle, 9 cars, 20 motorcycles, 1 bus, 1 truck, 2 traffic lights, 418.9ms\n"
      ]
     },
     "metadata": {},
     "output_type": "display_data"
    },
    {
     "data": {
      "text/plain": [
       "Speed: 2.4ms preprocess, 418.9ms inference, 1.2ms postprocess per image at shape (1, 3, 384, 640)\n"
      ]
     },
     "metadata": {},
     "output_type": "display_data"
    },
    {
     "data": {
      "text/plain": [
       "\n"
      ]
     },
     "metadata": {},
     "output_type": "display_data"
    },
    {
     "data": {
      "text/plain": [
       "0: 384x640 17 persons, 9 cars, 21 motorcycles, 1 bus, 1 truck, 2 traffic lights, 410.6ms\n"
      ]
     },
     "metadata": {},
     "output_type": "display_data"
    },
    {
     "data": {
      "text/plain": [
       "Speed: 2.3ms preprocess, 410.6ms inference, 1.1ms postprocess per image at shape (1, 3, 384, 640)\n"
      ]
     },
     "metadata": {},
     "output_type": "display_data"
    },
    {
     "data": {
      "text/plain": [
       "\n"
      ]
     },
     "metadata": {},
     "output_type": "display_data"
    },
    {
     "data": {
      "text/plain": [
       "0: 384x640 17 persons, 9 cars, 19 motorcycles, 1 bus, 1 truck, 2 traffic lights, 414.9ms\n"
      ]
     },
     "metadata": {},
     "output_type": "display_data"
    },
    {
     "data": {
      "text/plain": [
       "Speed: 2.0ms preprocess, 414.9ms inference, 1.0ms postprocess per image at shape (1, 3, 384, 640)\n"
      ]
     },
     "metadata": {},
     "output_type": "display_data"
    },
    {
     "data": {
      "text/plain": [
       "\n"
      ]
     },
     "metadata": {},
     "output_type": "display_data"
    },
    {
     "data": {
      "text/plain": [
       "0: 384x640 17 persons, 9 cars, 18 motorcycles, 1 bus, 1 truck, 2 traffic lights, 409.2ms\n"
      ]
     },
     "metadata": {},
     "output_type": "display_data"
    },
    {
     "data": {
      "text/plain": [
       "Speed: 1.9ms preprocess, 409.2ms inference, 1.0ms postprocess per image at shape (1, 3, 384, 640)\n"
      ]
     },
     "metadata": {},
     "output_type": "display_data"
    },
    {
     "data": {
      "text/plain": [
       "\n"
      ]
     },
     "metadata": {},
     "output_type": "display_data"
    },
    {
     "data": {
      "text/plain": [
       "0: 384x640 16 persons, 8 cars, 19 motorcycles, 1 bus, 2 trucks, 2 traffic lights, 410.6ms\n"
      ]
     },
     "metadata": {},
     "output_type": "display_data"
    },
    {
     "data": {
      "text/plain": [
       "Speed: 2.0ms preprocess, 410.6ms inference, 0.9ms postprocess per image at shape (1, 3, 384, 640)\n"
      ]
     },
     "metadata": {},
     "output_type": "display_data"
    },
    {
     "data": {
      "text/plain": [
       "\n"
      ]
     },
     "metadata": {},
     "output_type": "display_data"
    },
    {
     "data": {
      "text/plain": [
       "0: 384x640 16 persons, 1 bicycle, 8 cars, 19 motorcycles, 1 bus, 2 trucks, 2 traffic lights, 416.9ms\n"
      ]
     },
     "metadata": {},
     "output_type": "display_data"
    },
    {
     "data": {
      "text/plain": [
       "Speed: 2.0ms preprocess, 416.9ms inference, 1.1ms postprocess per image at shape (1, 3, 384, 640)\n"
      ]
     },
     "metadata": {},
     "output_type": "display_data"
    },
    {
     "data": {
      "text/plain": [
       "\n"
      ]
     },
     "metadata": {},
     "output_type": "display_data"
    },
    {
     "data": {
      "text/plain": [
       "0: 384x640 17 persons, 1 bicycle, 8 cars, 18 motorcycles, 1 bus, 2 trucks, 2 traffic lights, 416.2ms\n"
      ]
     },
     "metadata": {},
     "output_type": "display_data"
    },
    {
     "data": {
      "text/plain": [
       "Speed: 2.0ms preprocess, 416.2ms inference, 1.7ms postprocess per image at shape (1, 3, 384, 640)\n"
      ]
     },
     "metadata": {},
     "output_type": "display_data"
    },
    {
     "data": {
      "text/plain": [
       "\n"
      ]
     },
     "metadata": {},
     "output_type": "display_data"
    },
    {
     "data": {
      "text/plain": [
       "0: 384x640 18 persons, 1 bicycle, 9 cars, 18 motorcycles, 1 bus, 1 truck, 2 traffic lights, 418.1ms\n"
      ]
     },
     "metadata": {},
     "output_type": "display_data"
    },
    {
     "data": {
      "text/plain": [
       "Speed: 2.0ms preprocess, 418.1ms inference, 1.0ms postprocess per image at shape (1, 3, 384, 640)\n"
      ]
     },
     "metadata": {},
     "output_type": "display_data"
    },
    {
     "data": {
      "text/plain": [
       "\n"
      ]
     },
     "metadata": {},
     "output_type": "display_data"
    },
    {
     "data": {
      "text/plain": [
       "0: 384x640 17 persons, 1 bicycle, 9 cars, 19 motorcycles, 1 bus, 1 truck, 2 traffic lights, 406.4ms\n"
      ]
     },
     "metadata": {},
     "output_type": "display_data"
    },
    {
     "data": {
      "text/plain": [
       "Speed: 1.9ms preprocess, 406.4ms inference, 1.2ms postprocess per image at shape (1, 3, 384, 640)\n"
      ]
     },
     "metadata": {},
     "output_type": "display_data"
    },
    {
     "data": {
      "text/plain": [
       "\n"
      ]
     },
     "metadata": {},
     "output_type": "display_data"
    },
    {
     "data": {
      "text/plain": [
       "0: 384x640 17 persons, 1 bicycle, 9 cars, 19 motorcycles, 1 bus, 1 truck, 2 traffic lights, 419.8ms\n"
      ]
     },
     "metadata": {},
     "output_type": "display_data"
    },
    {
     "data": {
      "text/plain": [
       "Speed: 2.0ms preprocess, 419.8ms inference, 1.2ms postprocess per image at shape (1, 3, 384, 640)\n"
      ]
     },
     "metadata": {},
     "output_type": "display_data"
    },
    {
     "data": {
      "text/plain": [
       "\n"
      ]
     },
     "metadata": {},
     "output_type": "display_data"
    },
    {
     "data": {
      "text/plain": [
       "0: 384x640 17 persons, 1 bicycle, 9 cars, 18 motorcycles, 1 bus, 1 truck, 2 traffic lights, 441.9ms\n"
      ]
     },
     "metadata": {},
     "output_type": "display_data"
    },
    {
     "data": {
      "text/plain": [
       "Speed: 2.0ms preprocess, 441.9ms inference, 1.0ms postprocess per image at shape (1, 3, 384, 640)\n"
      ]
     },
     "metadata": {},
     "output_type": "display_data"
    },
    {
     "data": {
      "text/plain": [
       "\n"
      ]
     },
     "metadata": {},
     "output_type": "display_data"
    },
    {
     "data": {
      "text/plain": [
       "0: 384x640 17 persons, 9 cars, 17 motorcycles, 1 bus, 1 truck, 3 traffic lights, 455.3ms\n"
      ]
     },
     "metadata": {},
     "output_type": "display_data"
    },
    {
     "data": {
      "text/plain": [
       "Speed: 2.0ms preprocess, 455.3ms inference, 1.1ms postprocess per image at shape (1, 3, 384, 640)\n"
      ]
     },
     "metadata": {},
     "output_type": "display_data"
    },
    {
     "data": {
      "text/plain": [
       "\n"
      ]
     },
     "metadata": {},
     "output_type": "display_data"
    },
    {
     "data": {
      "text/plain": [
       "0: 384x640 17 persons, 9 cars, 18 motorcycles, 1 bus, 1 truck, 3 traffic lights, 445.1ms\n"
      ]
     },
     "metadata": {},
     "output_type": "display_data"
    },
    {
     "data": {
      "text/plain": [
       "Speed: 2.2ms preprocess, 445.1ms inference, 1.7ms postprocess per image at shape (1, 3, 384, 640)\n"
      ]
     },
     "metadata": {},
     "output_type": "display_data"
    },
    {
     "data": {
      "text/plain": [
       "\n"
      ]
     },
     "metadata": {},
     "output_type": "display_data"
    },
    {
     "data": {
      "text/plain": [
       "0: 384x640 17 persons, 9 cars, 19 motorcycles, 1 bus, 1 truck, 1 traffic light, 435.4ms\n"
      ]
     },
     "metadata": {},
     "output_type": "display_data"
    },
    {
     "data": {
      "text/plain": [
       "Speed: 2.3ms preprocess, 435.4ms inference, 1.2ms postprocess per image at shape (1, 3, 384, 640)\n"
      ]
     },
     "metadata": {},
     "output_type": "display_data"
    },
    {
     "data": {
      "text/plain": [
       "\n"
      ]
     },
     "metadata": {},
     "output_type": "display_data"
    },
    {
     "data": {
      "text/plain": [
       "0: 384x640 16 persons, 9 cars, 19 motorcycles, 1 bus, 1 truck, 1 traffic light, 411.5ms\n"
      ]
     },
     "metadata": {},
     "output_type": "display_data"
    },
    {
     "data": {
      "text/plain": [
       "Speed: 1.9ms preprocess, 411.5ms inference, 0.9ms postprocess per image at shape (1, 3, 384, 640)\n"
      ]
     },
     "metadata": {},
     "output_type": "display_data"
    },
    {
     "data": {
      "text/plain": [
       "\n"
      ]
     },
     "metadata": {},
     "output_type": "display_data"
    },
    {
     "data": {
      "text/plain": [
       "0: 384x640 17 persons, 9 cars, 19 motorcycles, 1 bus, 1 truck, 1 traffic light, 412.0ms\n"
      ]
     },
     "metadata": {},
     "output_type": "display_data"
    },
    {
     "data": {
      "text/plain": [
       "Speed: 2.8ms preprocess, 412.0ms inference, 0.9ms postprocess per image at shape (1, 3, 384, 640)\n"
      ]
     },
     "metadata": {},
     "output_type": "display_data"
    },
    {
     "data": {
      "text/plain": [
       "\n"
      ]
     },
     "metadata": {},
     "output_type": "display_data"
    },
    {
     "data": {
      "text/plain": [
       "0: 384x640 18 persons, 9 cars, 19 motorcycles, 1 bus, 1 truck, 1 traffic light, 410.5ms\n"
      ]
     },
     "metadata": {},
     "output_type": "display_data"
    },
    {
     "data": {
      "text/plain": [
       "Speed: 1.9ms preprocess, 410.5ms inference, 0.9ms postprocess per image at shape (1, 3, 384, 640)\n"
      ]
     },
     "metadata": {},
     "output_type": "display_data"
    },
    {
     "data": {
      "text/plain": [
       "\n"
      ]
     },
     "metadata": {},
     "output_type": "display_data"
    },
    {
     "data": {
      "text/plain": [
       "0: 384x640 17 persons, 9 cars, 21 motorcycles, 1 bus, 1 truck, 1 traffic light, 407.4ms\n"
      ]
     },
     "metadata": {},
     "output_type": "display_data"
    },
    {
     "data": {
      "text/plain": [
       "Speed: 2.0ms preprocess, 407.4ms inference, 1.0ms postprocess per image at shape (1, 3, 384, 640)\n"
      ]
     },
     "metadata": {},
     "output_type": "display_data"
    },
    {
     "data": {
      "text/plain": [
       "\n"
      ]
     },
     "metadata": {},
     "output_type": "display_data"
    },
    {
     "data": {
      "text/plain": [
       "0: 384x640 18 persons, 9 cars, 20 motorcycles, 1 bus, 1 truck, 1 traffic light, 410.6ms\n"
      ]
     },
     "metadata": {},
     "output_type": "display_data"
    },
    {
     "data": {
      "text/plain": [
       "Speed: 2.2ms preprocess, 410.6ms inference, 1.0ms postprocess per image at shape (1, 3, 384, 640)\n"
      ]
     },
     "metadata": {},
     "output_type": "display_data"
    },
    {
     "data": {
      "text/plain": [
       "\n"
      ]
     },
     "metadata": {},
     "output_type": "display_data"
    },
    {
     "data": {
      "text/plain": [
       "0: 384x640 17 persons, 9 cars, 20 motorcycles, 1 bus, 1 truck, 1 traffic light, 420.6ms\n"
      ]
     },
     "metadata": {},
     "output_type": "display_data"
    },
    {
     "data": {
      "text/plain": [
       "Speed: 2.0ms preprocess, 420.6ms inference, 1.3ms postprocess per image at shape (1, 3, 384, 640)\n"
      ]
     },
     "metadata": {},
     "output_type": "display_data"
    },
    {
     "data": {
      "text/plain": [
       "\n"
      ]
     },
     "metadata": {},
     "output_type": "display_data"
    },
    {
     "data": {
      "text/plain": [
       "0: 384x640 17 persons, 9 cars, 20 motorcycles, 1 bus, 1 truck, 1 traffic light, 408.1ms\n"
      ]
     },
     "metadata": {},
     "output_type": "display_data"
    },
    {
     "data": {
      "text/plain": [
       "Speed: 2.1ms preprocess, 408.1ms inference, 1.0ms postprocess per image at shape (1, 3, 384, 640)\n"
      ]
     },
     "metadata": {},
     "output_type": "display_data"
    },
    {
     "data": {
      "text/plain": [
       "\n"
      ]
     },
     "metadata": {},
     "output_type": "display_data"
    },
    {
     "data": {
      "text/plain": [
       "0: 384x640 17 persons, 9 cars, 20 motorcycles, 1 bus, 1 truck, 1 traffic light, 414.8ms\n"
      ]
     },
     "metadata": {},
     "output_type": "display_data"
    },
    {
     "data": {
      "text/plain": [
       "Speed: 3.0ms preprocess, 414.8ms inference, 1.1ms postprocess per image at shape (1, 3, 384, 640)\n"
      ]
     },
     "metadata": {},
     "output_type": "display_data"
    },
    {
     "data": {
      "text/plain": [
       "\n"
      ]
     },
     "metadata": {},
     "output_type": "display_data"
    },
    {
     "data": {
      "text/plain": [
       "0: 384x640 18 persons, 9 cars, 19 motorcycles, 1 bus, 1 truck, 1 traffic light, 416.2ms\n"
      ]
     },
     "metadata": {},
     "output_type": "display_data"
    },
    {
     "data": {
      "text/plain": [
       "Speed: 2.2ms preprocess, 416.2ms inference, 1.1ms postprocess per image at shape (1, 3, 384, 640)\n"
      ]
     },
     "metadata": {},
     "output_type": "display_data"
    },
    {
     "data": {
      "text/plain": [
       "\n"
      ]
     },
     "metadata": {},
     "output_type": "display_data"
    },
    {
     "data": {
      "text/plain": [
       "0: 384x640 18 persons, 9 cars, 19 motorcycles, 1 bus, 1 truck, 1 traffic light, 420.2ms\n"
      ]
     },
     "metadata": {},
     "output_type": "display_data"
    },
    {
     "data": {
      "text/plain": [
       "Speed: 2.2ms preprocess, 420.2ms inference, 1.0ms postprocess per image at shape (1, 3, 384, 640)\n"
      ]
     },
     "metadata": {},
     "output_type": "display_data"
    },
    {
     "data": {
      "text/plain": [
       "\n"
      ]
     },
     "metadata": {},
     "output_type": "display_data"
    },
    {
     "data": {
      "text/plain": [
       "0: 384x640 18 persons, 8 cars, 20 motorcycles, 1 bus, 1 truck, 1 traffic light, 422.5ms\n"
      ]
     },
     "metadata": {},
     "output_type": "display_data"
    },
    {
     "data": {
      "text/plain": [
       "Speed: 2.0ms preprocess, 422.5ms inference, 1.0ms postprocess per image at shape (1, 3, 384, 640)\n"
      ]
     },
     "metadata": {},
     "output_type": "display_data"
    },
    {
     "data": {
      "text/plain": [
       "\n"
      ]
     },
     "metadata": {},
     "output_type": "display_data"
    },
    {
     "data": {
      "text/plain": [
       "0: 384x640 17 persons, 8 cars, 20 motorcycles, 1 bus, 1 truck, 1 traffic light, 419.1ms\n"
      ]
     },
     "metadata": {},
     "output_type": "display_data"
    },
    {
     "data": {
      "text/plain": [
       "Speed: 2.0ms preprocess, 419.1ms inference, 0.9ms postprocess per image at shape (1, 3, 384, 640)\n"
      ]
     },
     "metadata": {},
     "output_type": "display_data"
    },
    {
     "data": {
      "text/plain": [
       "\n"
      ]
     },
     "metadata": {},
     "output_type": "display_data"
    },
    {
     "data": {
      "text/plain": [
       "0: 384x640 18 persons, 8 cars, 19 motorcycles, 1 bus, 1 truck, 1 traffic light, 416.2ms\n"
      ]
     },
     "metadata": {},
     "output_type": "display_data"
    },
    {
     "data": {
      "text/plain": [
       "Speed: 1.9ms preprocess, 416.2ms inference, 1.0ms postprocess per image at shape (1, 3, 384, 640)\n"
      ]
     },
     "metadata": {},
     "output_type": "display_data"
    },
    {
     "data": {
      "text/plain": [
       "\n"
      ]
     },
     "metadata": {},
     "output_type": "display_data"
    },
    {
     "data": {
      "text/plain": [
       "0: 384x640 18 persons, 8 cars, 19 motorcycles, 1 bus, 1 truck, 1 traffic light, 417.7ms\n"
      ]
     },
     "metadata": {},
     "output_type": "display_data"
    },
    {
     "data": {
      "text/plain": [
       "Speed: 1.9ms preprocess, 417.7ms inference, 1.1ms postprocess per image at shape (1, 3, 384, 640)\n"
      ]
     },
     "metadata": {},
     "output_type": "display_data"
    },
    {
     "data": {
      "text/plain": [
       "\n"
      ]
     },
     "metadata": {},
     "output_type": "display_data"
    },
    {
     "data": {
      "text/plain": [
       "0: 384x640 18 persons, 1 bicycle, 8 cars, 19 motorcycles, 1 bus, 1 truck, 1 traffic light, 415.1ms\n"
      ]
     },
     "metadata": {},
     "output_type": "display_data"
    },
    {
     "data": {
      "text/plain": [
       "Speed: 1.9ms preprocess, 415.1ms inference, 1.0ms postprocess per image at shape (1, 3, 384, 640)\n"
      ]
     },
     "metadata": {},
     "output_type": "display_data"
    },
    {
     "data": {
      "text/plain": [
       "\n"
      ]
     },
     "metadata": {},
     "output_type": "display_data"
    },
    {
     "data": {
      "text/plain": [
       "0: 384x640 19 persons, 1 bicycle, 8 cars, 19 motorcycles, 1 bus, 1 truck, 1 traffic light, 416.4ms\n"
      ]
     },
     "metadata": {},
     "output_type": "display_data"
    },
    {
     "data": {
      "text/plain": [
       "Speed: 3.0ms preprocess, 416.4ms inference, 1.0ms postprocess per image at shape (1, 3, 384, 640)\n"
      ]
     },
     "metadata": {},
     "output_type": "display_data"
    },
    {
     "data": {
      "text/plain": [
       "\n"
      ]
     },
     "metadata": {},
     "output_type": "display_data"
    },
    {
     "data": {
      "text/plain": [
       "0: 384x640 19 persons, 1 bicycle, 8 cars, 19 motorcycles, 1 bus, 1 truck, 412.6ms\n"
      ]
     },
     "metadata": {},
     "output_type": "display_data"
    },
    {
     "data": {
      "text/plain": [
       "Speed: 1.9ms preprocess, 412.6ms inference, 1.0ms postprocess per image at shape (1, 3, 384, 640)\n"
      ]
     },
     "metadata": {},
     "output_type": "display_data"
    },
    {
     "data": {
      "text/plain": [
       "\n"
      ]
     },
     "metadata": {},
     "output_type": "display_data"
    },
    {
     "data": {
      "text/plain": [
       "0: 384x640 19 persons, 1 bicycle, 8 cars, 18 motorcycles, 1 bus, 1 truck, 413.7ms\n"
      ]
     },
     "metadata": {},
     "output_type": "display_data"
    },
    {
     "data": {
      "text/plain": [
       "Speed: 2.1ms preprocess, 413.7ms inference, 1.0ms postprocess per image at shape (1, 3, 384, 640)\n"
      ]
     },
     "metadata": {},
     "output_type": "display_data"
    },
    {
     "data": {
      "text/plain": [
       "\n"
      ]
     },
     "metadata": {},
     "output_type": "display_data"
    },
    {
     "data": {
      "text/plain": [
       "0: 384x640 19 persons, 1 bicycle, 8 cars, 18 motorcycles, 1 bus, 1 truck, 423.9ms\n"
      ]
     },
     "metadata": {},
     "output_type": "display_data"
    },
    {
     "data": {
      "text/plain": [
       "Speed: 2.8ms preprocess, 423.9ms inference, 1.0ms postprocess per image at shape (1, 3, 384, 640)\n"
      ]
     },
     "metadata": {},
     "output_type": "display_data"
    },
    {
     "data": {
      "text/plain": [
       "\n"
      ]
     },
     "metadata": {},
     "output_type": "display_data"
    },
    {
     "data": {
      "text/plain": [
       "0: 384x640 20 persons, 1 bicycle, 8 cars, 20 motorcycles, 1 bus, 1 truck, 412.7ms\n"
      ]
     },
     "metadata": {},
     "output_type": "display_data"
    },
    {
     "data": {
      "text/plain": [
       "Speed: 2.1ms preprocess, 412.7ms inference, 1.1ms postprocess per image at shape (1, 3, 384, 640)\n"
      ]
     },
     "metadata": {},
     "output_type": "display_data"
    },
    {
     "data": {
      "text/plain": [
       "\n"
      ]
     },
     "metadata": {},
     "output_type": "display_data"
    },
    {
     "data": {
      "text/plain": [
       "0: 384x640 20 persons, 1 bicycle, 8 cars, 19 motorcycles, 1 bus, 2 trucks, 413.0ms\n"
      ]
     },
     "metadata": {},
     "output_type": "display_data"
    },
    {
     "data": {
      "text/plain": [
       "Speed: 1.9ms preprocess, 413.0ms inference, 1.0ms postprocess per image at shape (1, 3, 384, 640)\n"
      ]
     },
     "metadata": {},
     "output_type": "display_data"
    },
    {
     "data": {
      "text/plain": [
       "\n"
      ]
     },
     "metadata": {},
     "output_type": "display_data"
    },
    {
     "data": {
      "text/plain": [
       "0: 384x640 20 persons, 1 bicycle, 8 cars, 20 motorcycles, 1 truck, 417.8ms\n"
      ]
     },
     "metadata": {},
     "output_type": "display_data"
    },
    {
     "data": {
      "text/plain": [
       "Speed: 2.1ms preprocess, 417.8ms inference, 1.1ms postprocess per image at shape (1, 3, 384, 640)\n"
      ]
     },
     "metadata": {},
     "output_type": "display_data"
    },
    {
     "data": {
      "text/plain": [
       "\n"
      ]
     },
     "metadata": {},
     "output_type": "display_data"
    },
    {
     "data": {
      "text/plain": [
       "0: 384x640 20 persons, 1 bicycle, 8 cars, 19 motorcycles, 1 bus, 1 truck, 415.7ms\n"
      ]
     },
     "metadata": {},
     "output_type": "display_data"
    },
    {
     "data": {
      "text/plain": [
       "Speed: 2.1ms preprocess, 415.7ms inference, 1.0ms postprocess per image at shape (1, 3, 384, 640)\n"
      ]
     },
     "metadata": {},
     "output_type": "display_data"
    },
    {
     "data": {
      "text/plain": [
       "\n"
      ]
     },
     "metadata": {},
     "output_type": "display_data"
    },
    {
     "data": {
      "text/plain": [
       "0: 384x640 19 persons, 1 bicycle, 8 cars, 20 motorcycles, 1 bus, 1 truck, 411.8ms\n"
      ]
     },
     "metadata": {},
     "output_type": "display_data"
    },
    {
     "data": {
      "text/plain": [
       "Speed: 1.8ms preprocess, 411.8ms inference, 1.0ms postprocess per image at shape (1, 3, 384, 640)\n"
      ]
     },
     "metadata": {},
     "output_type": "display_data"
    },
    {
     "data": {
      "text/plain": [
       "\n"
      ]
     },
     "metadata": {},
     "output_type": "display_data"
    },
    {
     "data": {
      "text/plain": [
       "0: 384x640 19 persons, 1 bicycle, 8 cars, 19 motorcycles, 1 bus, 1 truck, 1 traffic light, 411.7ms\n"
      ]
     },
     "metadata": {},
     "output_type": "display_data"
    },
    {
     "data": {
      "text/plain": [
       "Speed: 2.0ms preprocess, 411.7ms inference, 1.1ms postprocess per image at shape (1, 3, 384, 640)\n"
      ]
     },
     "metadata": {},
     "output_type": "display_data"
    },
    {
     "data": {
      "text/plain": [
       "\n"
      ]
     },
     "metadata": {},
     "output_type": "display_data"
    },
    {
     "data": {
      "text/plain": [
       "0: 384x640 19 persons, 1 bicycle, 8 cars, 19 motorcycles, 1 bus, 2 trucks, 1 traffic light, 418.0ms\n"
      ]
     },
     "metadata": {},
     "output_type": "display_data"
    },
    {
     "data": {
      "text/plain": [
       "Speed: 1.9ms preprocess, 418.0ms inference, 1.0ms postprocess per image at shape (1, 3, 384, 640)\n"
      ]
     },
     "metadata": {},
     "output_type": "display_data"
    },
    {
     "data": {
      "text/plain": [
       "\n"
      ]
     },
     "metadata": {},
     "output_type": "display_data"
    },
    {
     "data": {
      "text/plain": [
       "0: 384x640 19 persons, 8 cars, 20 motorcycles, 1 bus, 1 truck, 1 traffic light, 421.7ms\n"
      ]
     },
     "metadata": {},
     "output_type": "display_data"
    },
    {
     "data": {
      "text/plain": [
       "Speed: 1.9ms preprocess, 421.7ms inference, 1.0ms postprocess per image at shape (1, 3, 384, 640)\n"
      ]
     },
     "metadata": {},
     "output_type": "display_data"
    },
    {
     "data": {
      "text/plain": [
       "\n"
      ]
     },
     "metadata": {},
     "output_type": "display_data"
    },
    {
     "data": {
      "text/plain": [
       "0: 384x640 19 persons, 8 cars, 20 motorcycles, 1 bus, 1 truck, 1 traffic light, 435.8ms\n"
      ]
     },
     "metadata": {},
     "output_type": "display_data"
    },
    {
     "data": {
      "text/plain": [
       "Speed: 2.0ms preprocess, 435.8ms inference, 1.2ms postprocess per image at shape (1, 3, 384, 640)\n"
      ]
     },
     "metadata": {},
     "output_type": "display_data"
    },
    {
     "data": {
      "text/plain": [
       "\n"
      ]
     },
     "metadata": {},
     "output_type": "display_data"
    },
    {
     "data": {
      "text/plain": [
       "0: 384x640 18 persons, 1 bicycle, 8 cars, 20 motorcycles, 1 bus, 1 truck, 1 traffic light, 420.8ms\n"
      ]
     },
     "metadata": {},
     "output_type": "display_data"
    },
    {
     "data": {
      "text/plain": [
       "Speed: 2.0ms preprocess, 420.8ms inference, 0.9ms postprocess per image at shape (1, 3, 384, 640)\n"
      ]
     },
     "metadata": {},
     "output_type": "display_data"
    },
    {
     "data": {
      "text/plain": [
       "\n"
      ]
     },
     "metadata": {},
     "output_type": "display_data"
    },
    {
     "data": {
      "text/plain": [
       "0: 384x640 17 persons, 1 bicycle, 8 cars, 19 motorcycles, 1 bus, 1 truck, 1 traffic light, 427.4ms\n"
      ]
     },
     "metadata": {},
     "output_type": "display_data"
    },
    {
     "data": {
      "text/plain": [
       "Speed: 1.9ms preprocess, 427.4ms inference, 1.0ms postprocess per image at shape (1, 3, 384, 640)\n"
      ]
     },
     "metadata": {},
     "output_type": "display_data"
    },
    {
     "data": {
      "text/plain": [
       "\n"
      ]
     },
     "metadata": {},
     "output_type": "display_data"
    },
    {
     "data": {
      "text/plain": [
       "0: 384x640 17 persons, 1 bicycle, 8 cars, 21 motorcycles, 1 bus, 1 truck, 1 traffic light, 415.3ms\n"
      ]
     },
     "metadata": {},
     "output_type": "display_data"
    },
    {
     "data": {
      "text/plain": [
       "Speed: 2.3ms preprocess, 415.3ms inference, 1.1ms postprocess per image at shape (1, 3, 384, 640)\n"
      ]
     },
     "metadata": {},
     "output_type": "display_data"
    },
    {
     "data": {
      "text/plain": [
       "\n"
      ]
     },
     "metadata": {},
     "output_type": "display_data"
    },
    {
     "data": {
      "text/plain": [
       "0: 384x640 19 persons, 1 bicycle, 9 cars, 19 motorcycles, 1 bus, 1 truck, 1 traffic light, 413.9ms\n"
      ]
     },
     "metadata": {},
     "output_type": "display_data"
    },
    {
     "data": {
      "text/plain": [
       "Speed: 2.2ms preprocess, 413.9ms inference, 0.9ms postprocess per image at shape (1, 3, 384, 640)\n"
      ]
     },
     "metadata": {},
     "output_type": "display_data"
    },
    {
     "data": {
      "text/plain": [
       "\n"
      ]
     },
     "metadata": {},
     "output_type": "display_data"
    },
    {
     "data": {
      "text/plain": [
       "0: 384x640 19 persons, 1 bicycle, 9 cars, 21 motorcycles, 1 bus, 1 truck, 1 traffic light, 422.6ms\n"
      ]
     },
     "metadata": {},
     "output_type": "display_data"
    },
    {
     "data": {
      "text/plain": [
       "Speed: 2.2ms preprocess, 422.6ms inference, 1.1ms postprocess per image at shape (1, 3, 384, 640)\n"
      ]
     },
     "metadata": {},
     "output_type": "display_data"
    },
    {
     "data": {
      "text/plain": [
       "\n"
      ]
     },
     "metadata": {},
     "output_type": "display_data"
    },
    {
     "data": {
      "text/plain": [
       "0: 384x640 19 persons, 1 bicycle, 9 cars, 21 motorcycles, 1 bus, 1 truck, 1 traffic light, 425.0ms\n"
      ]
     },
     "metadata": {},
     "output_type": "display_data"
    },
    {
     "data": {
      "text/plain": [
       "Speed: 2.8ms preprocess, 425.0ms inference, 1.0ms postprocess per image at shape (1, 3, 384, 640)\n"
      ]
     },
     "metadata": {},
     "output_type": "display_data"
    },
    {
     "data": {
      "text/plain": [
       "\n"
      ]
     },
     "metadata": {},
     "output_type": "display_data"
    },
    {
     "data": {
      "text/plain": [
       "0: 384x640 19 persons, 1 bicycle, 8 cars, 20 motorcycles, 1 bus, 2 trucks, 1 traffic light, 414.5ms\n"
      ]
     },
     "metadata": {},
     "output_type": "display_data"
    },
    {
     "data": {
      "text/plain": [
       "Speed: 2.1ms preprocess, 414.5ms inference, 1.2ms postprocess per image at shape (1, 3, 384, 640)\n"
      ]
     },
     "metadata": {},
     "output_type": "display_data"
    },
    {
     "data": {
      "text/plain": [
       "\n"
      ]
     },
     "metadata": {},
     "output_type": "display_data"
    },
    {
     "data": {
      "text/plain": [
       "0: 384x640 19 persons, 1 bicycle, 9 cars, 20 motorcycles, 1 bus, 1 truck, 1 traffic light, 418.1ms\n"
      ]
     },
     "metadata": {},
     "output_type": "display_data"
    },
    {
     "data": {
      "text/plain": [
       "Speed: 2.0ms preprocess, 418.1ms inference, 1.1ms postprocess per image at shape (1, 3, 384, 640)\n"
      ]
     },
     "metadata": {},
     "output_type": "display_data"
    },
    {
     "data": {
      "text/plain": [
       "\n"
      ]
     },
     "metadata": {},
     "output_type": "display_data"
    },
    {
     "data": {
      "text/plain": [
       "0: 384x640 19 persons, 1 bicycle, 9 cars, 20 motorcycles, 1 bus, 1 truck, 1 traffic light, 403.9ms\n"
      ]
     },
     "metadata": {},
     "output_type": "display_data"
    },
    {
     "data": {
      "text/plain": [
       "Speed: 2.2ms preprocess, 403.9ms inference, 1.0ms postprocess per image at shape (1, 3, 384, 640)\n"
      ]
     },
     "metadata": {},
     "output_type": "display_data"
    },
    {
     "data": {
      "text/plain": [
       "\n"
      ]
     },
     "metadata": {},
     "output_type": "display_data"
    },
    {
     "data": {
      "text/plain": [
       "0: 384x640 19 persons, 1 bicycle, 9 cars, 21 motorcycles, 1 bus, 1 truck, 1 traffic light, 428.1ms\n"
      ]
     },
     "metadata": {},
     "output_type": "display_data"
    },
    {
     "data": {
      "text/plain": [
       "Speed: 1.8ms preprocess, 428.1ms inference, 1.1ms postprocess per image at shape (1, 3, 384, 640)\n"
      ]
     },
     "metadata": {},
     "output_type": "display_data"
    },
    {
     "data": {
      "text/plain": [
       "\n"
      ]
     },
     "metadata": {},
     "output_type": "display_data"
    },
    {
     "data": {
      "text/plain": [
       "0: 384x640 19 persons, 1 bicycle, 9 cars, 19 motorcycles, 1 bus, 1 truck, 1 traffic light, 408.5ms\n"
      ]
     },
     "metadata": {},
     "output_type": "display_data"
    },
    {
     "data": {
      "text/plain": [
       "Speed: 1.9ms preprocess, 408.5ms inference, 1.0ms postprocess per image at shape (1, 3, 384, 640)\n"
      ]
     },
     "metadata": {},
     "output_type": "display_data"
    },
    {
     "data": {
      "text/plain": [
       "\n"
      ]
     },
     "metadata": {},
     "output_type": "display_data"
    },
    {
     "data": {
      "text/plain": [
       "0: 384x640 18 persons, 1 bicycle, 9 cars, 20 motorcycles, 1 bus, 1 truck, 1 traffic light, 426.5ms\n"
      ]
     },
     "metadata": {},
     "output_type": "display_data"
    },
    {
     "data": {
      "text/plain": [
       "Speed: 2.0ms preprocess, 426.5ms inference, 1.2ms postprocess per image at shape (1, 3, 384, 640)\n"
      ]
     },
     "metadata": {},
     "output_type": "display_data"
    },
    {
     "data": {
      "text/plain": [
       "\n"
      ]
     },
     "metadata": {},
     "output_type": "display_data"
    },
    {
     "data": {
      "text/plain": [
       "0: 384x640 18 persons, 1 bicycle, 9 cars, 20 motorcycles, 1 bus, 1 truck, 1 traffic light, 397.1ms\n"
      ]
     },
     "metadata": {},
     "output_type": "display_data"
    },
    {
     "data": {
      "text/plain": [
       "Speed: 2.1ms preprocess, 397.1ms inference, 1.0ms postprocess per image at shape (1, 3, 384, 640)\n"
      ]
     },
     "metadata": {},
     "output_type": "display_data"
    },
    {
     "data": {
      "text/plain": [
       "\n"
      ]
     },
     "metadata": {},
     "output_type": "display_data"
    },
    {
     "data": {
      "text/plain": [
       "0: 384x640 18 persons, 1 bicycle, 9 cars, 20 motorcycles, 1 bus, 1 truck, 1 traffic light, 417.9ms\n"
      ]
     },
     "metadata": {},
     "output_type": "display_data"
    },
    {
     "data": {
      "text/plain": [
       "Speed: 1.9ms preprocess, 417.9ms inference, 1.3ms postprocess per image at shape (1, 3, 384, 640)\n"
      ]
     },
     "metadata": {},
     "output_type": "display_data"
    },
    {
     "data": {
      "text/plain": [
       "\n"
      ]
     },
     "metadata": {},
     "output_type": "display_data"
    },
    {
     "data": {
      "text/plain": [
       "0: 384x640 18 persons, 8 cars, 21 motorcycles, 1 bus, 2 trucks, 1 traffic light, 417.7ms\n"
      ]
     },
     "metadata": {},
     "output_type": "display_data"
    },
    {
     "data": {
      "text/plain": [
       "Speed: 2.3ms preprocess, 417.7ms inference, 1.0ms postprocess per image at shape (1, 3, 384, 640)\n"
      ]
     },
     "metadata": {},
     "output_type": "display_data"
    },
    {
     "data": {
      "text/plain": [
       "\n"
      ]
     },
     "metadata": {},
     "output_type": "display_data"
    },
    {
     "data": {
      "text/plain": [
       "0: 384x640 17 persons, 9 cars, 20 motorcycles, 1 bus, 1 truck, 1 traffic light, 425.8ms\n"
      ]
     },
     "metadata": {},
     "output_type": "display_data"
    },
    {
     "data": {
      "text/plain": [
       "Speed: 2.0ms preprocess, 425.8ms inference, 1.0ms postprocess per image at shape (1, 3, 384, 640)\n"
      ]
     },
     "metadata": {},
     "output_type": "display_data"
    },
    {
     "data": {
      "text/plain": [
       "\n"
      ]
     },
     "metadata": {},
     "output_type": "display_data"
    },
    {
     "data": {
      "text/plain": [
       "0: 384x640 18 persons, 9 cars, 21 motorcycles, 1 bus, 1 truck, 1 traffic light, 410.8ms\n"
      ]
     },
     "metadata": {},
     "output_type": "display_data"
    },
    {
     "data": {
      "text/plain": [
       "Speed: 2.4ms preprocess, 410.8ms inference, 1.0ms postprocess per image at shape (1, 3, 384, 640)\n"
      ]
     },
     "metadata": {},
     "output_type": "display_data"
    },
    {
     "data": {
      "text/plain": [
       "\n"
      ]
     },
     "metadata": {},
     "output_type": "display_data"
    },
    {
     "data": {
      "text/plain": [
       "0: 384x640 17 persons, 9 cars, 24 motorcycles, 1 bus, 1 truck, 1 traffic light, 431.8ms\n"
      ]
     },
     "metadata": {},
     "output_type": "display_data"
    },
    {
     "data": {
      "text/plain": [
       "Speed: 1.8ms preprocess, 431.8ms inference, 1.0ms postprocess per image at shape (1, 3, 384, 640)\n"
      ]
     },
     "metadata": {},
     "output_type": "display_data"
    },
    {
     "data": {
      "text/plain": [
       "\n"
      ]
     },
     "metadata": {},
     "output_type": "display_data"
    },
    {
     "data": {
      "text/plain": [
       "0: 384x640 17 persons, 9 cars, 24 motorcycles, 1 bus, 1 truck, 1 traffic light, 414.5ms\n"
      ]
     },
     "metadata": {},
     "output_type": "display_data"
    },
    {
     "data": {
      "text/plain": [
       "Speed: 2.1ms preprocess, 414.5ms inference, 1.1ms postprocess per image at shape (1, 3, 384, 640)\n"
      ]
     },
     "metadata": {},
     "output_type": "display_data"
    },
    {
     "data": {
      "text/plain": [
       "\n"
      ]
     },
     "metadata": {},
     "output_type": "display_data"
    },
    {
     "data": {
      "text/plain": [
       "0: 384x640 17 persons, 8 cars, 22 motorcycles, 1 bus, 2 trucks, 1 traffic light, 418.7ms\n"
      ]
     },
     "metadata": {},
     "output_type": "display_data"
    },
    {
     "data": {
      "text/plain": [
       "Speed: 3.3ms preprocess, 418.7ms inference, 1.1ms postprocess per image at shape (1, 3, 384, 640)\n"
      ]
     },
     "metadata": {},
     "output_type": "display_data"
    },
    {
     "data": {
      "text/plain": [
       "\n"
      ]
     },
     "metadata": {},
     "output_type": "display_data"
    },
    {
     "data": {
      "text/plain": [
       "0: 384x640 16 persons, 9 cars, 22 motorcycles, 1 bus, 1 truck, 2 traffic lights, 406.8ms\n"
      ]
     },
     "metadata": {},
     "output_type": "display_data"
    },
    {
     "data": {
      "text/plain": [
       "Speed: 2.2ms preprocess, 406.8ms inference, 1.2ms postprocess per image at shape (1, 3, 384, 640)\n"
      ]
     },
     "metadata": {},
     "output_type": "display_data"
    },
    {
     "data": {
      "text/plain": [
       "\n"
      ]
     },
     "metadata": {},
     "output_type": "display_data"
    },
    {
     "data": {
      "text/plain": [
       "0: 384x640 16 persons, 8 cars, 21 motorcycles, 1 bus, 1 truck, 2 traffic lights, 422.8ms\n"
      ]
     },
     "metadata": {},
     "output_type": "display_data"
    },
    {
     "data": {
      "text/plain": [
       "Speed: 1.9ms preprocess, 422.8ms inference, 1.0ms postprocess per image at shape (1, 3, 384, 640)\n"
      ]
     },
     "metadata": {},
     "output_type": "display_data"
    },
    {
     "data": {
      "text/plain": [
       "\n"
      ]
     },
     "metadata": {},
     "output_type": "display_data"
    },
    {
     "data": {
      "text/plain": [
       "0: 384x640 16 persons, 1 bicycle, 9 cars, 20 motorcycles, 1 bus, 1 truck, 2 traffic lights, 421.3ms\n"
      ]
     },
     "metadata": {},
     "output_type": "display_data"
    },
    {
     "data": {
      "text/plain": [
       "Speed: 1.9ms preprocess, 421.3ms inference, 1.0ms postprocess per image at shape (1, 3, 384, 640)\n"
      ]
     },
     "metadata": {},
     "output_type": "display_data"
    },
    {
     "data": {
      "text/plain": [
       "\n"
      ]
     },
     "metadata": {},
     "output_type": "display_data"
    },
    {
     "data": {
      "text/plain": [
       "0: 384x640 16 persons, 1 bicycle, 9 cars, 21 motorcycles, 1 bus, 1 truck, 2 traffic lights, 422.4ms\n"
      ]
     },
     "metadata": {},
     "output_type": "display_data"
    },
    {
     "data": {
      "text/plain": [
       "Speed: 2.2ms preprocess, 422.4ms inference, 1.2ms postprocess per image at shape (1, 3, 384, 640)\n"
      ]
     },
     "metadata": {},
     "output_type": "display_data"
    },
    {
     "data": {
      "text/plain": [
       "\n"
      ]
     },
     "metadata": {},
     "output_type": "display_data"
    },
    {
     "data": {
      "text/plain": [
       "0: 384x640 16 persons, 1 bicycle, 9 cars, 21 motorcycles, 1 bus, 1 truck, 2 traffic lights, 414.9ms\n"
      ]
     },
     "metadata": {},
     "output_type": "display_data"
    },
    {
     "data": {
      "text/plain": [
       "Speed: 2.0ms preprocess, 414.9ms inference, 1.5ms postprocess per image at shape (1, 3, 384, 640)\n"
      ]
     },
     "metadata": {},
     "output_type": "display_data"
    },
    {
     "data": {
      "text/plain": [
       "\n"
      ]
     },
     "metadata": {},
     "output_type": "display_data"
    },
    {
     "data": {
      "text/plain": [
       "0: 384x640 16 persons, 1 bicycle, 9 cars, 21 motorcycles, 1 bus, 1 truck, 2 traffic lights, 422.7ms\n"
      ]
     },
     "metadata": {},
     "output_type": "display_data"
    },
    {
     "data": {
      "text/plain": [
       "Speed: 2.1ms preprocess, 422.7ms inference, 1.8ms postprocess per image at shape (1, 3, 384, 640)\n"
      ]
     },
     "metadata": {},
     "output_type": "display_data"
    },
    {
     "data": {
      "text/plain": [
       "\n"
      ]
     },
     "metadata": {},
     "output_type": "display_data"
    },
    {
     "data": {
      "text/plain": [
       "0: 384x640 15 persons, 1 bicycle, 9 cars, 21 motorcycles, 1 bus, 1 truck, 2 traffic lights, 414.8ms\n"
      ]
     },
     "metadata": {},
     "output_type": "display_data"
    },
    {
     "data": {
      "text/plain": [
       "Speed: 2.1ms preprocess, 414.8ms inference, 1.1ms postprocess per image at shape (1, 3, 384, 640)\n"
      ]
     },
     "metadata": {},
     "output_type": "display_data"
    },
    {
     "data": {
      "text/plain": [
       "\n"
      ]
     },
     "metadata": {},
     "output_type": "display_data"
    },
    {
     "data": {
      "text/plain": [
       "0: 384x640 16 persons, 1 bicycle, 9 cars, 23 motorcycles, 1 bus, 1 truck, 2 traffic lights, 426.0ms\n"
      ]
     },
     "metadata": {},
     "output_type": "display_data"
    },
    {
     "data": {
      "text/plain": [
       "Speed: 2.1ms preprocess, 426.0ms inference, 1.0ms postprocess per image at shape (1, 3, 384, 640)\n"
      ]
     },
     "metadata": {},
     "output_type": "display_data"
    },
    {
     "data": {
      "text/plain": [
       "\n"
      ]
     },
     "metadata": {},
     "output_type": "display_data"
    },
    {
     "data": {
      "text/plain": [
       "0: 384x640 15 persons, 1 bicycle, 9 cars, 24 motorcycles, 1 bus, 1 truck, 1 traffic light, 410.0ms\n"
      ]
     },
     "metadata": {},
     "output_type": "display_data"
    },
    {
     "data": {
      "text/plain": [
       "Speed: 2.0ms preprocess, 410.0ms inference, 1.0ms postprocess per image at shape (1, 3, 384, 640)\n"
      ]
     },
     "metadata": {},
     "output_type": "display_data"
    },
    {
     "data": {
      "text/plain": [
       "\n"
      ]
     },
     "metadata": {},
     "output_type": "display_data"
    },
    {
     "data": {
      "text/plain": [
       "0: 384x640 15 persons, 1 bicycle, 9 cars, 23 motorcycles, 1 bus, 1 truck, 1 traffic light, 430.2ms\n"
      ]
     },
     "metadata": {},
     "output_type": "display_data"
    },
    {
     "data": {
      "text/plain": [
       "Speed: 2.3ms preprocess, 430.2ms inference, 1.7ms postprocess per image at shape (1, 3, 384, 640)\n"
      ]
     },
     "metadata": {},
     "output_type": "display_data"
    },
    {
     "data": {
      "text/plain": [
       "\n"
      ]
     },
     "metadata": {},
     "output_type": "display_data"
    },
    {
     "data": {
      "text/plain": [
       "0: 384x640 16 persons, 1 bicycle, 9 cars, 20 motorcycles, 1 bus, 1 truck, 1 traffic light, 420.2ms\n"
      ]
     },
     "metadata": {},
     "output_type": "display_data"
    },
    {
     "data": {
      "text/plain": [
       "Speed: 2.1ms preprocess, 420.2ms inference, 1.0ms postprocess per image at shape (1, 3, 384, 640)\n"
      ]
     },
     "metadata": {},
     "output_type": "display_data"
    },
    {
     "data": {
      "text/plain": [
       "\n"
      ]
     },
     "metadata": {},
     "output_type": "display_data"
    },
    {
     "data": {
      "text/plain": [
       "0: 384x640 16 persons, 1 bicycle, 9 cars, 20 motorcycles, 1 bus, 2 trucks, 1 traffic light, 421.9ms\n"
      ]
     },
     "metadata": {},
     "output_type": "display_data"
    },
    {
     "data": {
      "text/plain": [
       "Speed: 1.9ms preprocess, 421.9ms inference, 1.0ms postprocess per image at shape (1, 3, 384, 640)\n"
      ]
     },
     "metadata": {},
     "output_type": "display_data"
    },
    {
     "data": {
      "text/plain": [
       "\n"
      ]
     },
     "metadata": {},
     "output_type": "display_data"
    },
    {
     "data": {
      "text/plain": [
       "0: 384x640 17 persons, 1 bicycle, 9 cars, 20 motorcycles, 1 bus, 2 trucks, 408.3ms\n"
      ]
     },
     "metadata": {},
     "output_type": "display_data"
    },
    {
     "data": {
      "text/plain": [
       "Speed: 2.0ms preprocess, 408.3ms inference, 1.0ms postprocess per image at shape (1, 3, 384, 640)\n"
      ]
     },
     "metadata": {},
     "output_type": "display_data"
    },
    {
     "data": {
      "text/plain": [
       "\n"
      ]
     },
     "metadata": {},
     "output_type": "display_data"
    },
    {
     "data": {
      "text/plain": [
       "0: 384x640 17 persons, 1 bicycle, 9 cars, 20 motorcycles, 1 bus, 2 trucks, 423.2ms\n"
      ]
     },
     "metadata": {},
     "output_type": "display_data"
    },
    {
     "data": {
      "text/plain": [
       "Speed: 1.9ms preprocess, 423.2ms inference, 1.0ms postprocess per image at shape (1, 3, 384, 640)\n"
      ]
     },
     "metadata": {},
     "output_type": "display_data"
    },
    {
     "data": {
      "text/plain": [
       "\n"
      ]
     },
     "metadata": {},
     "output_type": "display_data"
    },
    {
     "data": {
      "text/plain": [
       "0: 384x640 16 persons, 1 bicycle, 9 cars, 20 motorcycles, 1 bus, 2 trucks, 397.5ms\n"
      ]
     },
     "metadata": {},
     "output_type": "display_data"
    },
    {
     "data": {
      "text/plain": [
       "Speed: 2.0ms preprocess, 397.5ms inference, 1.1ms postprocess per image at shape (1, 3, 384, 640)\n"
      ]
     },
     "metadata": {},
     "output_type": "display_data"
    },
    {
     "data": {
      "text/plain": [
       "\n"
      ]
     },
     "metadata": {},
     "output_type": "display_data"
    },
    {
     "data": {
      "text/plain": [
       "0: 384x640 17 persons, 1 bicycle, 9 cars, 21 motorcycles, 1 bus, 1 truck, 429.3ms\n"
      ]
     },
     "metadata": {},
     "output_type": "display_data"
    },
    {
     "data": {
      "text/plain": [
       "Speed: 2.2ms preprocess, 429.3ms inference, 1.0ms postprocess per image at shape (1, 3, 384, 640)\n"
      ]
     },
     "metadata": {},
     "output_type": "display_data"
    },
    {
     "data": {
      "text/plain": [
       "\n"
      ]
     },
     "metadata": {},
     "output_type": "display_data"
    },
    {
     "data": {
      "text/plain": [
       "0: 384x640 17 persons, 9 cars, 22 motorcycles, 1 bus, 1 truck, 404.4ms\n"
      ]
     },
     "metadata": {},
     "output_type": "display_data"
    },
    {
     "data": {
      "text/plain": [
       "Speed: 1.9ms preprocess, 404.4ms inference, 1.0ms postprocess per image at shape (1, 3, 384, 640)\n"
      ]
     },
     "metadata": {},
     "output_type": "display_data"
    },
    {
     "data": {
      "text/plain": [
       "\n"
      ]
     },
     "metadata": {},
     "output_type": "display_data"
    },
    {
     "data": {
      "text/plain": [
       "0: 384x640 19 persons, 8 cars, 20 motorcycles, 1 bus, 2 trucks, 425.4ms\n"
      ]
     },
     "metadata": {},
     "output_type": "display_data"
    },
    {
     "data": {
      "text/plain": [
       "Speed: 2.0ms preprocess, 425.4ms inference, 1.1ms postprocess per image at shape (1, 3, 384, 640)\n"
      ]
     },
     "metadata": {},
     "output_type": "display_data"
    },
    {
     "data": {
      "text/plain": [
       "\n"
      ]
     },
     "metadata": {},
     "output_type": "display_data"
    },
    {
     "data": {
      "text/plain": [
       "0: 384x640 19 persons, 9 cars, 21 motorcycles, 1 bus, 1 truck, 411.2ms\n"
      ]
     },
     "metadata": {},
     "output_type": "display_data"
    },
    {
     "data": {
      "text/plain": [
       "Speed: 2.1ms preprocess, 411.2ms inference, 1.1ms postprocess per image at shape (1, 3, 384, 640)\n"
      ]
     },
     "metadata": {},
     "output_type": "display_data"
    },
    {
     "data": {
      "text/plain": [
       "\n"
      ]
     },
     "metadata": {},
     "output_type": "display_data"
    },
    {
     "data": {
      "text/plain": [
       "0: 384x640 18 persons, 9 cars, 21 motorcycles, 1 bus, 1 truck, 421.7ms\n"
      ]
     },
     "metadata": {},
     "output_type": "display_data"
    },
    {
     "data": {
      "text/plain": [
       "Speed: 2.1ms preprocess, 421.7ms inference, 1.0ms postprocess per image at shape (1, 3, 384, 640)\n"
      ]
     },
     "metadata": {},
     "output_type": "display_data"
    },
    {
     "data": {
      "text/plain": [
       "\n"
      ]
     },
     "metadata": {},
     "output_type": "display_data"
    },
    {
     "data": {
      "text/plain": [
       "0: 384x640 18 persons, 9 cars, 21 motorcycles, 1 bus, 1 truck, 414.1ms\n"
      ]
     },
     "metadata": {},
     "output_type": "display_data"
    },
    {
     "data": {
      "text/plain": [
       "Speed: 2.5ms preprocess, 414.1ms inference, 1.1ms postprocess per image at shape (1, 3, 384, 640)\n"
      ]
     },
     "metadata": {},
     "output_type": "display_data"
    },
    {
     "data": {
      "text/plain": [
       "\n"
      ]
     },
     "metadata": {},
     "output_type": "display_data"
    },
    {
     "data": {
      "text/plain": [
       "0: 384x640 18 persons, 9 cars, 21 motorcycles, 1 bus, 1 truck, 425.7ms\n"
      ]
     },
     "metadata": {},
     "output_type": "display_data"
    },
    {
     "data": {
      "text/plain": [
       "Speed: 1.8ms preprocess, 425.7ms inference, 1.0ms postprocess per image at shape (1, 3, 384, 640)\n"
      ]
     },
     "metadata": {},
     "output_type": "display_data"
    },
    {
     "data": {
      "text/plain": [
       "\n"
      ]
     },
     "metadata": {},
     "output_type": "display_data"
    },
    {
     "data": {
      "text/plain": [
       "0: 384x640 18 persons, 9 cars, 21 motorcycles, 1 bus, 1 truck, 400.3ms\n"
      ]
     },
     "metadata": {},
     "output_type": "display_data"
    },
    {
     "data": {
      "text/plain": [
       "Speed: 2.0ms preprocess, 400.3ms inference, 1.1ms postprocess per image at shape (1, 3, 384, 640)\n"
      ]
     },
     "metadata": {},
     "output_type": "display_data"
    },
    {
     "data": {
      "text/plain": [
       "\n"
      ]
     },
     "metadata": {},
     "output_type": "display_data"
    },
    {
     "data": {
      "text/plain": [
       "0: 384x640 18 persons, 9 cars, 21 motorcycles, 1 bus, 1 truck, 428.9ms\n"
      ]
     },
     "metadata": {},
     "output_type": "display_data"
    },
    {
     "data": {
      "text/plain": [
       "Speed: 1.9ms preprocess, 428.9ms inference, 1.6ms postprocess per image at shape (1, 3, 384, 640)\n"
      ]
     },
     "metadata": {},
     "output_type": "display_data"
    },
    {
     "data": {
      "text/plain": [
       "\n"
      ]
     },
     "metadata": {},
     "output_type": "display_data"
    },
    {
     "data": {
      "text/plain": [
       "0: 384x640 18 persons, 9 cars, 21 motorcycles, 1 bus, 1 truck, 405.0ms\n"
      ]
     },
     "metadata": {},
     "output_type": "display_data"
    },
    {
     "data": {
      "text/plain": [
       "Speed: 2.1ms preprocess, 405.0ms inference, 1.0ms postprocess per image at shape (1, 3, 384, 640)\n"
      ]
     },
     "metadata": {},
     "output_type": "display_data"
    },
    {
     "data": {
      "text/plain": [
       "\n"
      ]
     },
     "metadata": {},
     "output_type": "display_data"
    },
    {
     "data": {
      "text/plain": [
       "0: 384x640 18 persons, 9 cars, 21 motorcycles, 1 bus, 1 truck, 418.7ms\n"
      ]
     },
     "metadata": {},
     "output_type": "display_data"
    },
    {
     "data": {
      "text/plain": [
       "Speed: 3.0ms preprocess, 418.7ms inference, 1.0ms postprocess per image at shape (1, 3, 384, 640)\n"
      ]
     },
     "metadata": {},
     "output_type": "display_data"
    },
    {
     "data": {
      "text/plain": [
       "\n"
      ]
     },
     "metadata": {},
     "output_type": "display_data"
    },
    {
     "data": {
      "text/plain": [
       "0: 384x640 18 persons, 9 cars, 21 motorcycles, 1 bus, 1 truck, 414.2ms\n"
      ]
     },
     "metadata": {},
     "output_type": "display_data"
    },
    {
     "data": {
      "text/plain": [
       "Speed: 1.9ms preprocess, 414.2ms inference, 1.0ms postprocess per image at shape (1, 3, 384, 640)\n"
      ]
     },
     "metadata": {},
     "output_type": "display_data"
    },
    {
     "data": {
      "text/plain": [
       "\n"
      ]
     },
     "metadata": {},
     "output_type": "display_data"
    },
    {
     "data": {
      "text/plain": [
       "0: 384x640 17 persons, 9 cars, 23 motorcycles, 1 bus, 1 truck, 422.6ms\n"
      ]
     },
     "metadata": {},
     "output_type": "display_data"
    },
    {
     "data": {
      "text/plain": [
       "Speed: 2.0ms preprocess, 422.6ms inference, 1.0ms postprocess per image at shape (1, 3, 384, 640)\n"
      ]
     },
     "metadata": {},
     "output_type": "display_data"
    },
    {
     "data": {
      "text/plain": [
       "\n"
      ]
     },
     "metadata": {},
     "output_type": "display_data"
    },
    {
     "data": {
      "text/plain": [
       "0: 384x640 18 persons, 9 cars, 23 motorcycles, 1 bus, 1 truck, 415.9ms\n"
      ]
     },
     "metadata": {},
     "output_type": "display_data"
    },
    {
     "data": {
      "text/plain": [
       "Speed: 2.2ms preprocess, 415.9ms inference, 1.0ms postprocess per image at shape (1, 3, 384, 640)\n"
      ]
     },
     "metadata": {},
     "output_type": "display_data"
    },
    {
     "data": {
      "text/plain": [
       "\n"
      ]
     },
     "metadata": {},
     "output_type": "display_data"
    },
    {
     "data": {
      "text/plain": [
       "0: 384x640 18 persons, 9 cars, 22 motorcycles, 1 bus, 1 truck, 461.4ms\n"
      ]
     },
     "metadata": {},
     "output_type": "display_data"
    },
    {
     "data": {
      "text/plain": [
       "Speed: 1.9ms preprocess, 461.4ms inference, 1.0ms postprocess per image at shape (1, 3, 384, 640)\n"
      ]
     },
     "metadata": {},
     "output_type": "display_data"
    },
    {
     "data": {
      "text/plain": [
       "\n"
      ]
     },
     "metadata": {},
     "output_type": "display_data"
    },
    {
     "data": {
      "text/plain": [
       "0: 384x640 18 persons, 9 cars, 22 motorcycles, 1 bus, 1 truck, 425.4ms\n"
      ]
     },
     "metadata": {},
     "output_type": "display_data"
    },
    {
     "data": {
      "text/plain": [
       "Speed: 3.2ms preprocess, 425.4ms inference, 1.0ms postprocess per image at shape (1, 3, 384, 640)\n"
      ]
     },
     "metadata": {},
     "output_type": "display_data"
    },
    {
     "data": {
      "text/plain": [
       "\n"
      ]
     },
     "metadata": {},
     "output_type": "display_data"
    },
    {
     "data": {
      "text/plain": [
       "0: 384x640 19 persons, 9 cars, 22 motorcycles, 1 bus, 1 truck, 427.5ms\n"
      ]
     },
     "metadata": {},
     "output_type": "display_data"
    },
    {
     "data": {
      "text/plain": [
       "Speed: 2.1ms preprocess, 427.5ms inference, 1.1ms postprocess per image at shape (1, 3, 384, 640)\n"
      ]
     },
     "metadata": {},
     "output_type": "display_data"
    },
    {
     "data": {
      "text/plain": [
       "\n"
      ]
     },
     "metadata": {},
     "output_type": "display_data"
    },
    {
     "data": {
      "text/plain": [
       "0: 384x640 18 persons, 9 cars, 23 motorcycles, 1 bus, 1 truck, 410.0ms\n"
      ]
     },
     "metadata": {},
     "output_type": "display_data"
    },
    {
     "data": {
      "text/plain": [
       "Speed: 2.1ms preprocess, 410.0ms inference, 1.0ms postprocess per image at shape (1, 3, 384, 640)\n"
      ]
     },
     "metadata": {},
     "output_type": "display_data"
    },
    {
     "data": {
      "text/plain": [
       "\n"
      ]
     },
     "metadata": {},
     "output_type": "display_data"
    },
    {
     "data": {
      "text/plain": [
       "0: 384x640 18 persons, 9 cars, 23 motorcycles, 1 bus, 1 truck, 428.0ms\n"
      ]
     },
     "metadata": {},
     "output_type": "display_data"
    },
    {
     "data": {
      "text/plain": [
       "Speed: 2.5ms preprocess, 428.0ms inference, 1.1ms postprocess per image at shape (1, 3, 384, 640)\n"
      ]
     },
     "metadata": {},
     "output_type": "display_data"
    },
    {
     "data": {
      "text/plain": [
       "\n"
      ]
     },
     "metadata": {},
     "output_type": "display_data"
    },
    {
     "data": {
      "text/plain": [
       "0: 384x640 18 persons, 9 cars, 23 motorcycles, 1 bus, 1 truck, 410.0ms\n"
      ]
     },
     "metadata": {},
     "output_type": "display_data"
    },
    {
     "data": {
      "text/plain": [
       "Speed: 2.0ms preprocess, 410.0ms inference, 2.0ms postprocess per image at shape (1, 3, 384, 640)\n"
      ]
     },
     "metadata": {},
     "output_type": "display_data"
    },
    {
     "data": {
      "text/plain": [
       "\n"
      ]
     },
     "metadata": {},
     "output_type": "display_data"
    },
    {
     "data": {
      "text/plain": [
       "0: 384x640 18 persons, 8 cars, 26 motorcycles, 1 bus, 2 trucks, 426.7ms\n"
      ]
     },
     "metadata": {},
     "output_type": "display_data"
    },
    {
     "data": {
      "text/plain": [
       "Speed: 2.0ms preprocess, 426.7ms inference, 1.1ms postprocess per image at shape (1, 3, 384, 640)\n"
      ]
     },
     "metadata": {},
     "output_type": "display_data"
    },
    {
     "data": {
      "text/plain": [
       "\n"
      ]
     },
     "metadata": {},
     "output_type": "display_data"
    },
    {
     "data": {
      "text/plain": [
       "0: 384x640 18 persons, 8 cars, 29 motorcycles, 1 bus, 2 trucks, 411.9ms\n"
      ]
     },
     "metadata": {},
     "output_type": "display_data"
    },
    {
     "data": {
      "text/plain": [
       "Speed: 1.8ms preprocess, 411.9ms inference, 1.8ms postprocess per image at shape (1, 3, 384, 640)\n"
      ]
     },
     "metadata": {},
     "output_type": "display_data"
    },
    {
     "data": {
      "text/plain": [
       "\n"
      ]
     },
     "metadata": {},
     "output_type": "display_data"
    },
    {
     "data": {
      "text/plain": [
       "0: 384x640 18 persons, 8 cars, 30 motorcycles, 1 bus, 2 trucks, 420.7ms\n"
      ]
     },
     "metadata": {},
     "output_type": "display_data"
    },
    {
     "data": {
      "text/plain": [
       "Speed: 2.0ms preprocess, 420.7ms inference, 1.1ms postprocess per image at shape (1, 3, 384, 640)\n"
      ]
     },
     "metadata": {},
     "output_type": "display_data"
    },
    {
     "data": {
      "text/plain": [
       "\n"
      ]
     },
     "metadata": {},
     "output_type": "display_data"
    },
    {
     "data": {
      "text/plain": [
       "0: 384x640 19 persons, 9 cars, 28 motorcycles, 1 bus, 1 truck, 414.2ms\n"
      ]
     },
     "metadata": {},
     "output_type": "display_data"
    },
    {
     "data": {
      "text/plain": [
       "Speed: 2.8ms preprocess, 414.2ms inference, 1.0ms postprocess per image at shape (1, 3, 384, 640)\n"
      ]
     },
     "metadata": {},
     "output_type": "display_data"
    },
    {
     "data": {
      "text/plain": [
       "\n"
      ]
     },
     "metadata": {},
     "output_type": "display_data"
    },
    {
     "data": {
      "text/plain": [
       "0: 384x640 19 persons, 9 cars, 28 motorcycles, 1 bus, 1 truck, 424.9ms\n"
      ]
     },
     "metadata": {},
     "output_type": "display_data"
    },
    {
     "data": {
      "text/plain": [
       "Speed: 2.1ms preprocess, 424.9ms inference, 1.8ms postprocess per image at shape (1, 3, 384, 640)\n"
      ]
     },
     "metadata": {},
     "output_type": "display_data"
    },
    {
     "data": {
      "text/plain": [
       "\n"
      ]
     },
     "metadata": {},
     "output_type": "display_data"
    },
    {
     "data": {
      "text/plain": [
       "0: 384x640 19 persons, 9 cars, 27 motorcycles, 1 bus, 1 truck, 404.7ms\n"
      ]
     },
     "metadata": {},
     "output_type": "display_data"
    },
    {
     "data": {
      "text/plain": [
       "Speed: 2.1ms preprocess, 404.7ms inference, 1.6ms postprocess per image at shape (1, 3, 384, 640)\n"
      ]
     },
     "metadata": {},
     "output_type": "display_data"
    },
    {
     "data": {
      "text/plain": [
       "\n"
      ]
     },
     "metadata": {},
     "output_type": "display_data"
    },
    {
     "data": {
      "text/plain": [
       "0: 384x640 19 persons, 9 cars, 27 motorcycles, 1 bus, 1 truck, 428.0ms\n"
      ]
     },
     "metadata": {},
     "output_type": "display_data"
    },
    {
     "data": {
      "text/plain": [
       "Speed: 1.8ms preprocess, 428.0ms inference, 1.0ms postprocess per image at shape (1, 3, 384, 640)\n"
      ]
     },
     "metadata": {},
     "output_type": "display_data"
    },
    {
     "data": {
      "text/plain": [
       "\n"
      ]
     },
     "metadata": {},
     "output_type": "display_data"
    },
    {
     "data": {
      "text/plain": [
       "0: 384x640 18 persons, 9 cars, 28 motorcycles, 1 bus, 1 truck, 416.0ms\n"
      ]
     },
     "metadata": {},
     "output_type": "display_data"
    },
    {
     "data": {
      "text/plain": [
       "Speed: 2.1ms preprocess, 416.0ms inference, 1.1ms postprocess per image at shape (1, 3, 384, 640)\n"
      ]
     },
     "metadata": {},
     "output_type": "display_data"
    },
    {
     "data": {
      "text/plain": [
       "\n"
      ]
     },
     "metadata": {},
     "output_type": "display_data"
    },
    {
     "data": {
      "text/plain": [
       "0: 384x640 16 persons, 9 cars, 27 motorcycles, 1 bus, 1 truck, 422.3ms\n"
      ]
     },
     "metadata": {},
     "output_type": "display_data"
    },
    {
     "data": {
      "text/plain": [
       "Speed: 1.8ms preprocess, 422.3ms inference, 1.0ms postprocess per image at shape (1, 3, 384, 640)\n"
      ]
     },
     "metadata": {},
     "output_type": "display_data"
    },
    {
     "data": {
      "text/plain": [
       "\n"
      ]
     },
     "metadata": {},
     "output_type": "display_data"
    },
    {
     "data": {
      "text/plain": [
       "0: 384x640 17 persons, 9 cars, 28 motorcycles, 1 bus, 1 truck, 417.0ms\n"
      ]
     },
     "metadata": {},
     "output_type": "display_data"
    },
    {
     "data": {
      "text/plain": [
       "Speed: 2.4ms preprocess, 417.0ms inference, 1.4ms postprocess per image at shape (1, 3, 384, 640)\n"
      ]
     },
     "metadata": {},
     "output_type": "display_data"
    },
    {
     "data": {
      "text/plain": [
       "\n"
      ]
     },
     "metadata": {},
     "output_type": "display_data"
    },
    {
     "data": {
      "text/plain": [
       "0: 384x640 17 persons, 9 cars, 28 motorcycles, 1 bus, 1 truck, 422.0ms\n"
      ]
     },
     "metadata": {},
     "output_type": "display_data"
    },
    {
     "data": {
      "text/plain": [
       "Speed: 2.1ms preprocess, 422.0ms inference, 1.0ms postprocess per image at shape (1, 3, 384, 640)\n"
      ]
     },
     "metadata": {},
     "output_type": "display_data"
    },
    {
     "data": {
      "text/plain": [
       "\n"
      ]
     },
     "metadata": {},
     "output_type": "display_data"
    },
    {
     "data": {
      "text/plain": [
       "0: 384x640 17 persons, 9 cars, 29 motorcycles, 1 bus, 1 truck, 401.6ms\n"
      ]
     },
     "metadata": {},
     "output_type": "display_data"
    },
    {
     "data": {
      "text/plain": [
       "Speed: 1.9ms preprocess, 401.6ms inference, 1.1ms postprocess per image at shape (1, 3, 384, 640)\n"
      ]
     },
     "metadata": {},
     "output_type": "display_data"
    },
    {
     "data": {
      "text/plain": [
       "\n"
      ]
     },
     "metadata": {},
     "output_type": "display_data"
    },
    {
     "data": {
      "text/plain": [
       "0: 384x640 18 persons, 9 cars, 27 motorcycles, 1 bus, 1 truck, 420.6ms\n"
      ]
     },
     "metadata": {},
     "output_type": "display_data"
    },
    {
     "data": {
      "text/plain": [
       "Speed: 2.0ms preprocess, 420.6ms inference, 1.1ms postprocess per image at shape (1, 3, 384, 640)\n"
      ]
     },
     "metadata": {},
     "output_type": "display_data"
    },
    {
     "data": {
      "text/plain": [
       "\n"
      ]
     },
     "metadata": {},
     "output_type": "display_data"
    },
    {
     "data": {
      "text/plain": [
       "0: 384x640 19 persons, 9 cars, 28 motorcycles, 1 bus, 1 truck, 418.6ms\n"
      ]
     },
     "metadata": {},
     "output_type": "display_data"
    },
    {
     "data": {
      "text/plain": [
       "Speed: 1.9ms preprocess, 418.6ms inference, 1.9ms postprocess per image at shape (1, 3, 384, 640)\n"
      ]
     },
     "metadata": {},
     "output_type": "display_data"
    },
    {
     "data": {
      "text/plain": [
       "\n"
      ]
     },
     "metadata": {},
     "output_type": "display_data"
    },
    {
     "data": {
      "text/plain": [
       "0: 384x640 19 persons, 9 cars, 28 motorcycles, 1 bus, 2 trucks, 418.5ms\n"
      ]
     },
     "metadata": {},
     "output_type": "display_data"
    },
    {
     "data": {
      "text/plain": [
       "Speed: 1.8ms preprocess, 418.5ms inference, 1.1ms postprocess per image at shape (1, 3, 384, 640)\n"
      ]
     },
     "metadata": {},
     "output_type": "display_data"
    },
    {
     "data": {
      "text/plain": [
       "\n"
      ]
     },
     "metadata": {},
     "output_type": "display_data"
    },
    {
     "data": {
      "text/plain": [
       "0: 384x640 20 persons, 8 cars, 27 motorcycles, 1 bus, 2 trucks, 427.5ms\n"
      ]
     },
     "metadata": {},
     "output_type": "display_data"
    },
    {
     "data": {
      "text/plain": [
       "Speed: 1.9ms preprocess, 427.5ms inference, 1.1ms postprocess per image at shape (1, 3, 384, 640)\n"
      ]
     },
     "metadata": {},
     "output_type": "display_data"
    },
    {
     "data": {
      "text/plain": [
       "\n"
      ]
     },
     "metadata": {},
     "output_type": "display_data"
    },
    {
     "data": {
      "text/plain": [
       "0: 384x640 19 persons, 8 cars, 28 motorcycles, 1 bus, 2 trucks, 425.4ms\n"
      ]
     },
     "metadata": {},
     "output_type": "display_data"
    },
    {
     "data": {
      "text/plain": [
       "Speed: 2.1ms preprocess, 425.4ms inference, 1.1ms postprocess per image at shape (1, 3, 384, 640)\n"
      ]
     },
     "metadata": {},
     "output_type": "display_data"
    },
    {
     "data": {
      "text/plain": [
       "\n"
      ]
     },
     "metadata": {},
     "output_type": "display_data"
    },
    {
     "data": {
      "text/plain": [
       "0: 384x640 19 persons, 8 cars, 28 motorcycles, 1 bus, 2 trucks, 404.8ms\n"
      ]
     },
     "metadata": {},
     "output_type": "display_data"
    },
    {
     "data": {
      "text/plain": [
       "Speed: 2.0ms preprocess, 404.8ms inference, 1.0ms postprocess per image at shape (1, 3, 384, 640)\n"
      ]
     },
     "metadata": {},
     "output_type": "display_data"
    },
    {
     "data": {
      "text/plain": [
       "\n"
      ]
     },
     "metadata": {},
     "output_type": "display_data"
    },
    {
     "data": {
      "text/plain": [
       "0: 384x640 19 persons, 8 cars, 27 motorcycles, 1 bus, 2 trucks, 1 backpack, 412.6ms\n"
      ]
     },
     "metadata": {},
     "output_type": "display_data"
    },
    {
     "data": {
      "text/plain": [
       "Speed: 2.0ms preprocess, 412.6ms inference, 1.1ms postprocess per image at shape (1, 3, 384, 640)\n"
      ]
     },
     "metadata": {},
     "output_type": "display_data"
    },
    {
     "data": {
      "text/plain": [
       "\n"
      ]
     },
     "metadata": {},
     "output_type": "display_data"
    },
    {
     "data": {
      "text/plain": [
       "0: 384x640 19 persons, 8 cars, 29 motorcycles, 1 bus, 2 trucks, 1 backpack, 407.8ms\n"
      ]
     },
     "metadata": {},
     "output_type": "display_data"
    },
    {
     "data": {
      "text/plain": [
       "Speed: 2.0ms preprocess, 407.8ms inference, 1.2ms postprocess per image at shape (1, 3, 384, 640)\n"
      ]
     },
     "metadata": {},
     "output_type": "display_data"
    },
    {
     "data": {
      "text/plain": [
       "\n"
      ]
     },
     "metadata": {},
     "output_type": "display_data"
    },
    {
     "data": {
      "text/plain": [
       "0: 384x640 20 persons, 8 cars, 28 motorcycles, 1 bus, 2 trucks, 1 backpack, 424.1ms\n"
      ]
     },
     "metadata": {},
     "output_type": "display_data"
    },
    {
     "data": {
      "text/plain": [
       "Speed: 1.9ms preprocess, 424.1ms inference, 1.1ms postprocess per image at shape (1, 3, 384, 640)\n"
      ]
     },
     "metadata": {},
     "output_type": "display_data"
    },
    {
     "data": {
      "text/plain": [
       "\n"
      ]
     },
     "metadata": {},
     "output_type": "display_data"
    },
    {
     "data": {
      "text/plain": [
       "0: 384x640 20 persons, 9 cars, 29 motorcycles, 1 bus, 2 trucks, 1 backpack, 396.9ms\n"
      ]
     },
     "metadata": {},
     "output_type": "display_data"
    },
    {
     "data": {
      "text/plain": [
       "Speed: 1.9ms preprocess, 396.9ms inference, 1.1ms postprocess per image at shape (1, 3, 384, 640)\n"
      ]
     },
     "metadata": {},
     "output_type": "display_data"
    },
    {
     "data": {
      "text/plain": [
       "\n"
      ]
     },
     "metadata": {},
     "output_type": "display_data"
    },
    {
     "data": {
      "text/plain": [
       "0: 384x640 20 persons, 9 cars, 29 motorcycles, 1 bus, 2 trucks, 1 backpack, 420.9ms\n"
      ]
     },
     "metadata": {},
     "output_type": "display_data"
    },
    {
     "data": {
      "text/plain": [
       "Speed: 1.8ms preprocess, 420.9ms inference, 1.1ms postprocess per image at shape (1, 3, 384, 640)\n"
      ]
     },
     "metadata": {},
     "output_type": "display_data"
    },
    {
     "data": {
      "text/plain": [
       "\n"
      ]
     },
     "metadata": {},
     "output_type": "display_data"
    },
    {
     "data": {
      "text/plain": [
       "0: 384x640 20 persons, 9 cars, 28 motorcycles, 1 bus, 2 trucks, 1 backpack, 411.8ms\n"
      ]
     },
     "metadata": {},
     "output_type": "display_data"
    },
    {
     "data": {
      "text/plain": [
       "Speed: 2.9ms preprocess, 411.8ms inference, 1.2ms postprocess per image at shape (1, 3, 384, 640)\n"
      ]
     },
     "metadata": {},
     "output_type": "display_data"
    },
    {
     "data": {
      "text/plain": [
       "\n"
      ]
     },
     "metadata": {},
     "output_type": "display_data"
    },
    {
     "data": {
      "text/plain": [
       "0: 384x640 20 persons, 9 cars, 28 motorcycles, 1 bus, 2 trucks, 1 backpack, 409.1ms\n"
      ]
     },
     "metadata": {},
     "output_type": "display_data"
    },
    {
     "data": {
      "text/plain": [
       "Speed: 1.9ms preprocess, 409.1ms inference, 1.0ms postprocess per image at shape (1, 3, 384, 640)\n"
      ]
     },
     "metadata": {},
     "output_type": "display_data"
    },
    {
     "data": {
      "text/plain": [
       "\n"
      ]
     },
     "metadata": {},
     "output_type": "display_data"
    },
    {
     "data": {
      "text/plain": [
       "0: 384x640 20 persons, 9 cars, 28 motorcycles, 1 bus, 3 trucks, 1 backpack, 400.2ms\n"
      ]
     },
     "metadata": {},
     "output_type": "display_data"
    },
    {
     "data": {
      "text/plain": [
       "Speed: 2.2ms preprocess, 400.2ms inference, 1.0ms postprocess per image at shape (1, 3, 384, 640)\n"
      ]
     },
     "metadata": {},
     "output_type": "display_data"
    },
    {
     "data": {
      "text/plain": [
       "\n"
      ]
     },
     "metadata": {},
     "output_type": "display_data"
    },
    {
     "data": {
      "text/plain": [
       "0: 384x640 20 persons, 9 cars, 29 motorcycles, 1 bus, 3 trucks, 1 backpack, 418.1ms\n"
      ]
     },
     "metadata": {},
     "output_type": "display_data"
    },
    {
     "data": {
      "text/plain": [
       "Speed: 2.0ms preprocess, 418.1ms inference, 1.1ms postprocess per image at shape (1, 3, 384, 640)\n"
      ]
     },
     "metadata": {},
     "output_type": "display_data"
    },
    {
     "data": {
      "text/plain": [
       "\n"
      ]
     },
     "metadata": {},
     "output_type": "display_data"
    },
    {
     "data": {
      "text/plain": [
       "0: 384x640 21 persons, 8 cars, 31 motorcycles, 1 bus, 3 trucks, 1 backpack, 393.7ms\n"
      ]
     },
     "metadata": {},
     "output_type": "display_data"
    },
    {
     "data": {
      "text/plain": [
       "Speed: 3.0ms preprocess, 393.7ms inference, 1.0ms postprocess per image at shape (1, 3, 384, 640)\n"
      ]
     },
     "metadata": {},
     "output_type": "display_data"
    },
    {
     "data": {
      "text/plain": [
       "\n"
      ]
     },
     "metadata": {},
     "output_type": "display_data"
    },
    {
     "data": {
      "text/plain": [
       "0: 384x640 21 persons, 8 cars, 31 motorcycles, 1 bus, 3 trucks, 1 backpack, 414.6ms\n"
      ]
     },
     "metadata": {},
     "output_type": "display_data"
    },
    {
     "data": {
      "text/plain": [
       "Speed: 2.7ms preprocess, 414.6ms inference, 1.1ms postprocess per image at shape (1, 3, 384, 640)\n"
      ]
     },
     "metadata": {},
     "output_type": "display_data"
    },
    {
     "data": {
      "text/plain": [
       "\n"
      ]
     },
     "metadata": {},
     "output_type": "display_data"
    },
    {
     "data": {
      "text/plain": [
       "0: 384x640 22 persons, 8 cars, 29 motorcycles, 1 bus, 2 trucks, 1 backpack, 410.7ms\n"
      ]
     },
     "metadata": {},
     "output_type": "display_data"
    },
    {
     "data": {
      "text/plain": [
       "Speed: 1.8ms preprocess, 410.7ms inference, 1.1ms postprocess per image at shape (1, 3, 384, 640)\n"
      ]
     },
     "metadata": {},
     "output_type": "display_data"
    },
    {
     "data": {
      "text/plain": [
       "\n"
      ]
     },
     "metadata": {},
     "output_type": "display_data"
    },
    {
     "data": {
      "text/plain": [
       "0: 384x640 22 persons, 8 cars, 28 motorcycles, 1 bus, 2 trucks, 1 backpack, 418.1ms\n"
      ]
     },
     "metadata": {},
     "output_type": "display_data"
    },
    {
     "data": {
      "text/plain": [
       "Speed: 1.9ms preprocess, 418.1ms inference, 1.1ms postprocess per image at shape (1, 3, 384, 640)\n"
      ]
     },
     "metadata": {},
     "output_type": "display_data"
    },
    {
     "data": {
      "text/plain": [
       "\n"
      ]
     },
     "metadata": {},
     "output_type": "display_data"
    },
    {
     "data": {
      "text/plain": [
       "0: 384x640 22 persons, 8 cars, 29 motorcycles, 1 bus, 2 trucks, 1 backpack, 400.7ms\n"
      ]
     },
     "metadata": {},
     "output_type": "display_data"
    },
    {
     "data": {
      "text/plain": [
       "Speed: 1.8ms preprocess, 400.7ms inference, 1.1ms postprocess per image at shape (1, 3, 384, 640)\n"
      ]
     },
     "metadata": {},
     "output_type": "display_data"
    },
    {
     "data": {
      "text/plain": [
       "\n"
      ]
     },
     "metadata": {},
     "output_type": "display_data"
    },
    {
     "data": {
      "text/plain": [
       "0: 384x640 21 persons, 8 cars, 31 motorcycles, 1 bus, 2 trucks, 1 backpack, 420.8ms\n"
      ]
     },
     "metadata": {},
     "output_type": "display_data"
    },
    {
     "data": {
      "text/plain": [
       "Speed: 1.8ms preprocess, 420.8ms inference, 1.1ms postprocess per image at shape (1, 3, 384, 640)\n"
      ]
     },
     "metadata": {},
     "output_type": "display_data"
    },
    {
     "data": {
      "text/plain": [
       "\n"
      ]
     },
     "metadata": {},
     "output_type": "display_data"
    },
    {
     "data": {
      "text/plain": [
       "0: 384x640 23 persons, 8 cars, 30 motorcycles, 1 bus, 2 trucks, 1 backpack, 396.9ms\n"
      ]
     },
     "metadata": {},
     "output_type": "display_data"
    },
    {
     "data": {
      "text/plain": [
       "Speed: 1.9ms preprocess, 396.9ms inference, 1.2ms postprocess per image at shape (1, 3, 384, 640)\n"
      ]
     },
     "metadata": {},
     "output_type": "display_data"
    },
    {
     "data": {
      "text/plain": [
       "\n"
      ]
     },
     "metadata": {},
     "output_type": "display_data"
    },
    {
     "data": {
      "text/plain": [
       "0: 384x640 23 persons, 8 cars, 29 motorcycles, 1 bus, 3 trucks, 1 backpack, 423.1ms\n"
      ]
     },
     "metadata": {},
     "output_type": "display_data"
    },
    {
     "data": {
      "text/plain": [
       "Speed: 2.1ms preprocess, 423.1ms inference, 1.0ms postprocess per image at shape (1, 3, 384, 640)\n"
      ]
     },
     "metadata": {},
     "output_type": "display_data"
    },
    {
     "data": {
      "text/plain": [
       "\n"
      ]
     },
     "metadata": {},
     "output_type": "display_data"
    },
    {
     "data": {
      "text/plain": [
       "0: 384x640 22 persons, 8 cars, 30 motorcycles, 1 bus, 3 trucks, 1 backpack, 402.7ms\n"
      ]
     },
     "metadata": {},
     "output_type": "display_data"
    },
    {
     "data": {
      "text/plain": [
       "Speed: 1.9ms preprocess, 402.7ms inference, 1.1ms postprocess per image at shape (1, 3, 384, 640)\n"
      ]
     },
     "metadata": {},
     "output_type": "display_data"
    },
    {
     "data": {
      "text/plain": [
       "\n"
      ]
     },
     "metadata": {},
     "output_type": "display_data"
    },
    {
     "data": {
      "text/plain": [
       "0: 384x640 21 persons, 8 cars, 31 motorcycles, 1 bus, 3 trucks, 1 backpack, 407.4ms\n"
      ]
     },
     "metadata": {},
     "output_type": "display_data"
    },
    {
     "data": {
      "text/plain": [
       "Speed: 2.0ms preprocess, 407.4ms inference, 1.1ms postprocess per image at shape (1, 3, 384, 640)\n"
      ]
     },
     "metadata": {},
     "output_type": "display_data"
    },
    {
     "data": {
      "text/plain": [
       "\n"
      ]
     },
     "metadata": {},
     "output_type": "display_data"
    },
    {
     "data": {
      "text/plain": [
       "0: 384x640 21 persons, 8 cars, 29 motorcycles, 1 bus, 3 trucks, 1 backpack, 415.7ms\n"
      ]
     },
     "metadata": {},
     "output_type": "display_data"
    },
    {
     "data": {
      "text/plain": [
       "Speed: 2.2ms preprocess, 415.7ms inference, 1.8ms postprocess per image at shape (1, 3, 384, 640)\n"
      ]
     },
     "metadata": {},
     "output_type": "display_data"
    },
    {
     "data": {
      "text/plain": [
       "\n"
      ]
     },
     "metadata": {},
     "output_type": "display_data"
    },
    {
     "data": {
      "text/plain": [
       "0: 384x640 23 persons, 8 cars, 28 motorcycles, 1 bus, 3 trucks, 1 backpack, 416.1ms\n"
      ]
     },
     "metadata": {},
     "output_type": "display_data"
    },
    {
     "data": {
      "text/plain": [
       "Speed: 1.8ms preprocess, 416.1ms inference, 1.1ms postprocess per image at shape (1, 3, 384, 640)\n"
      ]
     },
     "metadata": {},
     "output_type": "display_data"
    },
    {
     "data": {
      "text/plain": [
       "\n"
      ]
     },
     "metadata": {},
     "output_type": "display_data"
    },
    {
     "data": {
      "text/plain": [
       "0: 384x640 23 persons, 8 cars, 27 motorcycles, 1 bus, 3 trucks, 1 backpack, 400.9ms\n"
      ]
     },
     "metadata": {},
     "output_type": "display_data"
    },
    {
     "data": {
      "text/plain": [
       "Speed: 1.9ms preprocess, 400.9ms inference, 1.1ms postprocess per image at shape (1, 3, 384, 640)\n"
      ]
     },
     "metadata": {},
     "output_type": "display_data"
    },
    {
     "data": {
      "text/plain": [
       "\n"
      ]
     },
     "metadata": {},
     "output_type": "display_data"
    },
    {
     "data": {
      "text/plain": [
       "0: 384x640 23 persons, 8 cars, 29 motorcycles, 1 bus, 3 trucks, 1 backpack, 432.3ms\n"
      ]
     },
     "metadata": {},
     "output_type": "display_data"
    },
    {
     "data": {
      "text/plain": [
       "Speed: 1.9ms preprocess, 432.3ms inference, 1.1ms postprocess per image at shape (1, 3, 384, 640)\n"
      ]
     },
     "metadata": {},
     "output_type": "display_data"
    },
    {
     "data": {
      "text/plain": [
       "\n"
      ]
     },
     "metadata": {},
     "output_type": "display_data"
    },
    {
     "data": {
      "text/plain": [
       "0: 384x640 23 persons, 8 cars, 29 motorcycles, 1 bus, 3 trucks, 1 backpack, 405.4ms\n"
      ]
     },
     "metadata": {},
     "output_type": "display_data"
    },
    {
     "data": {
      "text/plain": [
       "Speed: 1.9ms preprocess, 405.4ms inference, 1.0ms postprocess per image at shape (1, 3, 384, 640)\n"
      ]
     },
     "metadata": {},
     "output_type": "display_data"
    },
    {
     "data": {
      "text/plain": [
       "\n"
      ]
     },
     "metadata": {},
     "output_type": "display_data"
    },
    {
     "data": {
      "text/plain": [
       "0: 384x640 23 persons, 8 cars, 29 motorcycles, 1 bus, 3 trucks, 1 backpack, 417.4ms\n"
      ]
     },
     "metadata": {},
     "output_type": "display_data"
    },
    {
     "data": {
      "text/plain": [
       "Speed: 2.0ms preprocess, 417.4ms inference, 1.1ms postprocess per image at shape (1, 3, 384, 640)\n"
      ]
     },
     "metadata": {},
     "output_type": "display_data"
    },
    {
     "data": {
      "text/plain": [
       "\n"
      ]
     },
     "metadata": {},
     "output_type": "display_data"
    },
    {
     "data": {
      "text/plain": [
       "0: 384x640 23 persons, 8 cars, 27 motorcycles, 1 bus, 2 trucks, 1 backpack, 393.4ms\n"
      ]
     },
     "metadata": {},
     "output_type": "display_data"
    },
    {
     "data": {
      "text/plain": [
       "Speed: 2.0ms preprocess, 393.4ms inference, 1.0ms postprocess per image at shape (1, 3, 384, 640)\n"
      ]
     },
     "metadata": {},
     "output_type": "display_data"
    },
    {
     "data": {
      "text/plain": [
       "\n"
      ]
     },
     "metadata": {},
     "output_type": "display_data"
    },
    {
     "data": {
      "text/plain": [
       "0: 384x640 22 persons, 8 cars, 27 motorcycles, 1 bus, 2 trucks, 1 backpack, 415.9ms\n"
      ]
     },
     "metadata": {},
     "output_type": "display_data"
    },
    {
     "data": {
      "text/plain": [
       "Speed: 1.9ms preprocess, 415.9ms inference, 1.0ms postprocess per image at shape (1, 3, 384, 640)\n"
      ]
     },
     "metadata": {},
     "output_type": "display_data"
    },
    {
     "data": {
      "text/plain": [
       "\n"
      ]
     },
     "metadata": {},
     "output_type": "display_data"
    },
    {
     "data": {
      "text/plain": [
       "0: 384x640 22 persons, 8 cars, 27 motorcycles, 1 bus, 2 trucks, 1 backpack, 401.3ms\n"
      ]
     },
     "metadata": {},
     "output_type": "display_data"
    },
    {
     "data": {
      "text/plain": [
       "Speed: 2.0ms preprocess, 401.3ms inference, 1.0ms postprocess per image at shape (1, 3, 384, 640)\n"
      ]
     },
     "metadata": {},
     "output_type": "display_data"
    },
    {
     "data": {
      "text/plain": [
       "\n"
      ]
     },
     "metadata": {},
     "output_type": "display_data"
    },
    {
     "data": {
      "text/plain": [
       "0: 384x640 21 persons, 8 cars, 26 motorcycles, 1 bus, 2 trucks, 1 backpack, 422.4ms\n"
      ]
     },
     "metadata": {},
     "output_type": "display_data"
    },
    {
     "data": {
      "text/plain": [
       "Speed: 2.6ms preprocess, 422.4ms inference, 1.0ms postprocess per image at shape (1, 3, 384, 640)\n"
      ]
     },
     "metadata": {},
     "output_type": "display_data"
    },
    {
     "data": {
      "text/plain": [
       "\n"
      ]
     },
     "metadata": {},
     "output_type": "display_data"
    },
    {
     "data": {
      "text/plain": [
       "0: 384x640 20 persons, 7 cars, 26 motorcycles, 1 bus, 1 truck, 1 backpack, 406.3ms\n"
      ]
     },
     "metadata": {},
     "output_type": "display_data"
    },
    {
     "data": {
      "text/plain": [
       "Speed: 2.1ms preprocess, 406.3ms inference, 1.0ms postprocess per image at shape (1, 3, 384, 640)\n"
      ]
     },
     "metadata": {},
     "output_type": "display_data"
    },
    {
     "data": {
      "text/plain": [
       "\n"
      ]
     },
     "metadata": {},
     "output_type": "display_data"
    },
    {
     "data": {
      "text/plain": [
       "0: 384x640 20 persons, 8 cars, 26 motorcycles, 1 bus, 2 trucks, 1 backpack, 417.7ms\n"
      ]
     },
     "metadata": {},
     "output_type": "display_data"
    },
    {
     "data": {
      "text/plain": [
       "Speed: 2.0ms preprocess, 417.7ms inference, 1.1ms postprocess per image at shape (1, 3, 384, 640)\n"
      ]
     },
     "metadata": {},
     "output_type": "display_data"
    },
    {
     "data": {
      "text/plain": [
       "\n"
      ]
     },
     "metadata": {},
     "output_type": "display_data"
    },
    {
     "data": {
      "text/plain": [
       "0: 384x640 20 persons, 8 cars, 26 motorcycles, 1 bus, 2 trucks, 1 backpack, 410.9ms\n"
      ]
     },
     "metadata": {},
     "output_type": "display_data"
    },
    {
     "data": {
      "text/plain": [
       "Speed: 2.1ms preprocess, 410.9ms inference, 1.0ms postprocess per image at shape (1, 3, 384, 640)\n"
      ]
     },
     "metadata": {},
     "output_type": "display_data"
    },
    {
     "data": {
      "text/plain": [
       "\n"
      ]
     },
     "metadata": {},
     "output_type": "display_data"
    },
    {
     "data": {
      "text/plain": [
       "0: 384x640 20 persons, 8 cars, 25 motorcycles, 1 bus, 2 trucks, 1 backpack, 420.9ms\n"
      ]
     },
     "metadata": {},
     "output_type": "display_data"
    },
    {
     "data": {
      "text/plain": [
       "Speed: 2.1ms preprocess, 420.9ms inference, 1.1ms postprocess per image at shape (1, 3, 384, 640)\n"
      ]
     },
     "metadata": {},
     "output_type": "display_data"
    },
    {
     "data": {
      "text/plain": [
       "\n"
      ]
     },
     "metadata": {},
     "output_type": "display_data"
    },
    {
     "data": {
      "text/plain": [
       "0: 384x640 20 persons, 8 cars, 25 motorcycles, 1 bus, 2 trucks, 1 backpack, 405.4ms\n"
      ]
     },
     "metadata": {},
     "output_type": "display_data"
    },
    {
     "data": {
      "text/plain": [
       "Speed: 2.1ms preprocess, 405.4ms inference, 1.0ms postprocess per image at shape (1, 3, 384, 640)\n"
      ]
     },
     "metadata": {},
     "output_type": "display_data"
    },
    {
     "data": {
      "text/plain": [
       "\n"
      ]
     },
     "metadata": {},
     "output_type": "display_data"
    },
    {
     "data": {
      "text/plain": [
       "0: 384x640 20 persons, 8 cars, 26 motorcycles, 1 bus, 1 truck, 1 backpack, 429.2ms\n"
      ]
     },
     "metadata": {},
     "output_type": "display_data"
    },
    {
     "data": {
      "text/plain": [
       "Speed: 2.1ms preprocess, 429.2ms inference, 1.0ms postprocess per image at shape (1, 3, 384, 640)\n"
      ]
     },
     "metadata": {},
     "output_type": "display_data"
    },
    {
     "data": {
      "text/plain": [
       "\n"
      ]
     },
     "metadata": {},
     "output_type": "display_data"
    },
    {
     "data": {
      "text/plain": [
       "0: 384x640 19 persons, 8 cars, 26 motorcycles, 1 bus, 1 truck, 1 backpack, 420.8ms\n"
      ]
     },
     "metadata": {},
     "output_type": "display_data"
    },
    {
     "data": {
      "text/plain": [
       "Speed: 2.3ms preprocess, 420.8ms inference, 1.1ms postprocess per image at shape (1, 3, 384, 640)\n"
      ]
     },
     "metadata": {},
     "output_type": "display_data"
    },
    {
     "data": {
      "text/plain": [
       "\n"
      ]
     },
     "metadata": {},
     "output_type": "display_data"
    },
    {
     "data": {
      "text/plain": [
       "0: 384x640 19 persons, 8 cars, 25 motorcycles, 1 bus, 1 truck, 1 backpack, 414.6ms\n"
      ]
     },
     "metadata": {},
     "output_type": "display_data"
    },
    {
     "data": {
      "text/plain": [
       "Speed: 2.1ms preprocess, 414.6ms inference, 1.1ms postprocess per image at shape (1, 3, 384, 640)\n"
      ]
     },
     "metadata": {},
     "output_type": "display_data"
    },
    {
     "data": {
      "text/plain": [
       "\n"
      ]
     },
     "metadata": {},
     "output_type": "display_data"
    },
    {
     "data": {
      "text/plain": [
       "0: 384x640 18 persons, 8 cars, 27 motorcycles, 1 bus, 1 truck, 1 backpack, 411.4ms\n"
      ]
     },
     "metadata": {},
     "output_type": "display_data"
    },
    {
     "data": {
      "text/plain": [
       "Speed: 2.8ms preprocess, 411.4ms inference, 1.3ms postprocess per image at shape (1, 3, 384, 640)\n"
      ]
     },
     "metadata": {},
     "output_type": "display_data"
    },
    {
     "data": {
      "text/plain": [
       "\n"
      ]
     },
     "metadata": {},
     "output_type": "display_data"
    },
    {
     "data": {
      "text/plain": [
       "0: 384x640 18 persons, 8 cars, 26 motorcycles, 1 bus, 2 trucks, 1 backpack, 425.8ms\n"
      ]
     },
     "metadata": {},
     "output_type": "display_data"
    },
    {
     "data": {
      "text/plain": [
       "Speed: 2.3ms preprocess, 425.8ms inference, 1.0ms postprocess per image at shape (1, 3, 384, 640)\n"
      ]
     },
     "metadata": {},
     "output_type": "display_data"
    },
    {
     "data": {
      "text/plain": [
       "\n"
      ]
     },
     "metadata": {},
     "output_type": "display_data"
    },
    {
     "data": {
      "text/plain": [
       "0: 384x640 18 persons, 7 cars, 26 motorcycles, 1 bus, 3 trucks, 1 backpack, 401.6ms\n"
      ]
     },
     "metadata": {},
     "output_type": "display_data"
    },
    {
     "data": {
      "text/plain": [
       "Speed: 2.4ms preprocess, 401.6ms inference, 1.1ms postprocess per image at shape (1, 3, 384, 640)\n"
      ]
     },
     "metadata": {},
     "output_type": "display_data"
    },
    {
     "data": {
      "text/plain": [
       "\n"
      ]
     },
     "metadata": {},
     "output_type": "display_data"
    },
    {
     "data": {
      "text/plain": [
       "0: 384x640 18 persons, 7 cars, 27 motorcycles, 1 bus, 3 trucks, 1 backpack, 414.2ms\n"
      ]
     },
     "metadata": {},
     "output_type": "display_data"
    },
    {
     "data": {
      "text/plain": [
       "Speed: 1.9ms preprocess, 414.2ms inference, 1.0ms postprocess per image at shape (1, 3, 384, 640)\n"
      ]
     },
     "metadata": {},
     "output_type": "display_data"
    },
    {
     "data": {
      "text/plain": [
       "\n"
      ]
     },
     "metadata": {},
     "output_type": "display_data"
    },
    {
     "data": {
      "text/plain": [
       "0: 384x640 19 persons, 8 cars, 24 motorcycles, 1 bus, 2 trucks, 1 backpack, 403.4ms\n"
      ]
     },
     "metadata": {},
     "output_type": "display_data"
    },
    {
     "data": {
      "text/plain": [
       "Speed: 1.9ms preprocess, 403.4ms inference, 1.0ms postprocess per image at shape (1, 3, 384, 640)\n"
      ]
     },
     "metadata": {},
     "output_type": "display_data"
    },
    {
     "data": {
      "text/plain": [
       "\n"
      ]
     },
     "metadata": {},
     "output_type": "display_data"
    },
    {
     "data": {
      "text/plain": [
       "0: 384x640 18 persons, 8 cars, 24 motorcycles, 1 bus, 2 trucks, 1 backpack, 419.9ms\n"
      ]
     },
     "metadata": {},
     "output_type": "display_data"
    },
    {
     "data": {
      "text/plain": [
       "Speed: 2.0ms preprocess, 419.9ms inference, 1.0ms postprocess per image at shape (1, 3, 384, 640)\n"
      ]
     },
     "metadata": {},
     "output_type": "display_data"
    },
    {
     "data": {
      "text/plain": [
       "\n"
      ]
     },
     "metadata": {},
     "output_type": "display_data"
    },
    {
     "data": {
      "text/plain": [
       "0: 384x640 18 persons, 8 cars, 24 motorcycles, 1 bus, 3 trucks, 1 backpack, 406.7ms\n"
      ]
     },
     "metadata": {},
     "output_type": "display_data"
    },
    {
     "data": {
      "text/plain": [
       "Speed: 2.0ms preprocess, 406.7ms inference, 1.2ms postprocess per image at shape (1, 3, 384, 640)\n"
      ]
     },
     "metadata": {},
     "output_type": "display_data"
    },
    {
     "data": {
      "text/plain": [
       "\n"
      ]
     },
     "metadata": {},
     "output_type": "display_data"
    },
    {
     "data": {
      "text/plain": [
       "0: 384x640 18 persons, 7 cars, 24 motorcycles, 1 bus, 4 trucks, 415.6ms\n"
      ]
     },
     "metadata": {},
     "output_type": "display_data"
    },
    {
     "data": {
      "text/plain": [
       "Speed: 2.2ms preprocess, 415.6ms inference, 1.1ms postprocess per image at shape (1, 3, 384, 640)\n"
      ]
     },
     "metadata": {},
     "output_type": "display_data"
    },
    {
     "data": {
      "text/plain": [
       "\n"
      ]
     },
     "metadata": {},
     "output_type": "display_data"
    },
    {
     "data": {
      "text/plain": [
       "0: 384x640 18 persons, 7 cars, 23 motorcycles, 1 bus, 4 trucks, 401.7ms\n"
      ]
     },
     "metadata": {},
     "output_type": "display_data"
    },
    {
     "data": {
      "text/plain": [
       "Speed: 1.8ms preprocess, 401.7ms inference, 1.1ms postprocess per image at shape (1, 3, 384, 640)\n"
      ]
     },
     "metadata": {},
     "output_type": "display_data"
    },
    {
     "data": {
      "text/plain": [
       "\n"
      ]
     },
     "metadata": {},
     "output_type": "display_data"
    },
    {
     "data": {
      "text/plain": [
       "0: 384x640 18 persons, 7 cars, 25 motorcycles, 1 bus, 3 trucks, 420.5ms\n"
      ]
     },
     "metadata": {},
     "output_type": "display_data"
    },
    {
     "data": {
      "text/plain": [
       "Speed: 1.9ms preprocess, 420.5ms inference, 1.3ms postprocess per image at shape (1, 3, 384, 640)\n"
      ]
     },
     "metadata": {},
     "output_type": "display_data"
    },
    {
     "data": {
      "text/plain": [
       "\n"
      ]
     },
     "metadata": {},
     "output_type": "display_data"
    },
    {
     "data": {
      "text/plain": [
       "0: 384x640 18 persons, 8 cars, 25 motorcycles, 1 bus, 2 trucks, 402.6ms\n"
      ]
     },
     "metadata": {},
     "output_type": "display_data"
    },
    {
     "data": {
      "text/plain": [
       "Speed: 2.9ms preprocess, 402.6ms inference, 1.1ms postprocess per image at shape (1, 3, 384, 640)\n"
      ]
     },
     "metadata": {},
     "output_type": "display_data"
    },
    {
     "data": {
      "text/plain": [
       "\n"
      ]
     },
     "metadata": {},
     "output_type": "display_data"
    },
    {
     "data": {
      "text/plain": [
       "0: 384x640 18 persons, 8 cars, 24 motorcycles, 1 bus, 2 trucks, 414.8ms\n"
      ]
     },
     "metadata": {},
     "output_type": "display_data"
    },
    {
     "data": {
      "text/plain": [
       "Speed: 2.0ms preprocess, 414.8ms inference, 1.1ms postprocess per image at shape (1, 3, 384, 640)\n"
      ]
     },
     "metadata": {},
     "output_type": "display_data"
    },
    {
     "data": {
      "text/plain": [
       "\n"
      ]
     },
     "metadata": {},
     "output_type": "display_data"
    },
    {
     "data": {
      "text/plain": [
       "0: 384x640 18 persons, 7 cars, 23 motorcycles, 1 bus, 3 trucks, 413.1ms\n"
      ]
     },
     "metadata": {},
     "output_type": "display_data"
    },
    {
     "data": {
      "text/plain": [
       "Speed: 2.1ms preprocess, 413.1ms inference, 1.1ms postprocess per image at shape (1, 3, 384, 640)\n"
      ]
     },
     "metadata": {},
     "output_type": "display_data"
    },
    {
     "data": {
      "text/plain": [
       "\n"
      ]
     },
     "metadata": {},
     "output_type": "display_data"
    },
    {
     "data": {
      "text/plain": [
       "0: 384x640 18 persons, 6 cars, 24 motorcycles, 1 bus, 4 trucks, 420.6ms\n"
      ]
     },
     "metadata": {},
     "output_type": "display_data"
    },
    {
     "data": {
      "text/plain": [
       "Speed: 2.1ms preprocess, 420.6ms inference, 1.8ms postprocess per image at shape (1, 3, 384, 640)\n"
      ]
     },
     "metadata": {},
     "output_type": "display_data"
    },
    {
     "data": {
      "text/plain": [
       "\n"
      ]
     },
     "metadata": {},
     "output_type": "display_data"
    },
    {
     "data": {
      "text/plain": [
       "0: 384x640 18 persons, 7 cars, 25 motorcycles, 1 bus, 3 trucks, 410.2ms\n"
      ]
     },
     "metadata": {},
     "output_type": "display_data"
    },
    {
     "data": {
      "text/plain": [
       "Speed: 2.1ms preprocess, 410.2ms inference, 1.1ms postprocess per image at shape (1, 3, 384, 640)\n"
      ]
     },
     "metadata": {},
     "output_type": "display_data"
    },
    {
     "data": {
      "text/plain": [
       "\n"
      ]
     },
     "metadata": {},
     "output_type": "display_data"
    },
    {
     "data": {
      "text/plain": [
       "0: 384x640 18 persons, 7 cars, 26 motorcycles, 1 bus, 3 trucks, 415.1ms\n"
      ]
     },
     "metadata": {},
     "output_type": "display_data"
    },
    {
     "data": {
      "text/plain": [
       "Speed: 2.2ms preprocess, 415.1ms inference, 1.1ms postprocess per image at shape (1, 3, 384, 640)\n"
      ]
     },
     "metadata": {},
     "output_type": "display_data"
    },
    {
     "data": {
      "text/plain": [
       "\n"
      ]
     },
     "metadata": {},
     "output_type": "display_data"
    },
    {
     "data": {
      "text/plain": [
       "0: 384x640 18 persons, 7 cars, 26 motorcycles, 1 bus, 3 trucks, 400.8ms\n"
      ]
     },
     "metadata": {},
     "output_type": "display_data"
    },
    {
     "data": {
      "text/plain": [
       "Speed: 2.1ms preprocess, 400.8ms inference, 1.1ms postprocess per image at shape (1, 3, 384, 640)\n"
      ]
     },
     "metadata": {},
     "output_type": "display_data"
    },
    {
     "data": {
      "text/plain": [
       "\n"
      ]
     },
     "metadata": {},
     "output_type": "display_data"
    },
    {
     "data": {
      "text/plain": [
       "0: 384x640 18 persons, 7 cars, 27 motorcycles, 1 bus, 3 trucks, 407.6ms\n"
      ]
     },
     "metadata": {},
     "output_type": "display_data"
    },
    {
     "data": {
      "text/plain": [
       "Speed: 2.0ms preprocess, 407.6ms inference, 1.1ms postprocess per image at shape (1, 3, 384, 640)\n"
      ]
     },
     "metadata": {},
     "output_type": "display_data"
    },
    {
     "data": {
      "text/plain": [
       "\n"
      ]
     },
     "metadata": {},
     "output_type": "display_data"
    },
    {
     "data": {
      "text/plain": [
       "0: 384x640 18 persons, 7 cars, 28 motorcycles, 1 bus, 3 trucks, 407.0ms\n"
      ]
     },
     "metadata": {},
     "output_type": "display_data"
    },
    {
     "data": {
      "text/plain": [
       "Speed: 1.8ms preprocess, 407.0ms inference, 1.1ms postprocess per image at shape (1, 3, 384, 640)\n"
      ]
     },
     "metadata": {},
     "output_type": "display_data"
    },
    {
     "data": {
      "text/plain": [
       "\n"
      ]
     },
     "metadata": {},
     "output_type": "display_data"
    },
    {
     "data": {
      "text/plain": [
       "0: 384x640 18 persons, 7 cars, 28 motorcycles, 1 bus, 3 trucks, 418.2ms\n"
      ]
     },
     "metadata": {},
     "output_type": "display_data"
    },
    {
     "data": {
      "text/plain": [
       "Speed: 1.9ms preprocess, 418.2ms inference, 1.1ms postprocess per image at shape (1, 3, 384, 640)\n"
      ]
     },
     "metadata": {},
     "output_type": "display_data"
    },
    {
     "data": {
      "text/plain": [
       "\n"
      ]
     },
     "metadata": {},
     "output_type": "display_data"
    },
    {
     "data": {
      "text/plain": [
       "0: 384x640 17 persons, 8 cars, 28 motorcycles, 1 bus, 2 trucks, 410.0ms\n"
      ]
     },
     "metadata": {},
     "output_type": "display_data"
    },
    {
     "data": {
      "text/plain": [
       "Speed: 2.1ms preprocess, 410.0ms inference, 1.1ms postprocess per image at shape (1, 3, 384, 640)\n"
      ]
     },
     "metadata": {},
     "output_type": "display_data"
    },
    {
     "data": {
      "text/plain": [
       "\n"
      ]
     },
     "metadata": {},
     "output_type": "display_data"
    },
    {
     "data": {
      "text/plain": [
       "0: 384x640 17 persons, 8 cars, 28 motorcycles, 1 bus, 2 trucks, 425.2ms\n"
      ]
     },
     "metadata": {},
     "output_type": "display_data"
    },
    {
     "data": {
      "text/plain": [
       "Speed: 2.1ms preprocess, 425.2ms inference, 1.5ms postprocess per image at shape (1, 3, 384, 640)\n"
      ]
     },
     "metadata": {},
     "output_type": "display_data"
    },
    {
     "data": {
      "text/plain": [
       "\n"
      ]
     },
     "metadata": {},
     "output_type": "display_data"
    },
    {
     "data": {
      "text/plain": [
       "0: 384x640 17 persons, 7 cars, 28 motorcycles, 1 bus, 3 trucks, 404.2ms\n"
      ]
     },
     "metadata": {},
     "output_type": "display_data"
    },
    {
     "data": {
      "text/plain": [
       "Speed: 2.2ms preprocess, 404.2ms inference, 1.1ms postprocess per image at shape (1, 3, 384, 640)\n"
      ]
     },
     "metadata": {},
     "output_type": "display_data"
    },
    {
     "data": {
      "text/plain": [
       "\n"
      ]
     },
     "metadata": {},
     "output_type": "display_data"
    },
    {
     "data": {
      "text/plain": [
       "0: 384x640 18 persons, 7 cars, 26 motorcycles, 1 bus, 3 trucks, 1 backpack, 427.2ms\n"
      ]
     },
     "metadata": {},
     "output_type": "display_data"
    },
    {
     "data": {
      "text/plain": [
       "Speed: 1.9ms preprocess, 427.2ms inference, 1.1ms postprocess per image at shape (1, 3, 384, 640)\n"
      ]
     },
     "metadata": {},
     "output_type": "display_data"
    },
    {
     "data": {
      "text/plain": [
       "\n"
      ]
     },
     "metadata": {},
     "output_type": "display_data"
    },
    {
     "data": {
      "text/plain": [
       "0: 384x640 18 persons, 8 cars, 27 motorcycles, 1 bus, 2 trucks, 1 backpack, 426.6ms\n"
      ]
     },
     "metadata": {},
     "output_type": "display_data"
    },
    {
     "data": {
      "text/plain": [
       "Speed: 1.9ms preprocess, 426.6ms inference, 1.1ms postprocess per image at shape (1, 3, 384, 640)\n"
      ]
     },
     "metadata": {},
     "output_type": "display_data"
    },
    {
     "data": {
      "text/plain": [
       "\n"
      ]
     },
     "metadata": {},
     "output_type": "display_data"
    },
    {
     "data": {
      "text/plain": [
       "0: 384x640 18 persons, 7 cars, 27 motorcycles, 1 bus, 3 trucks, 1 backpack, 428.0ms\n"
      ]
     },
     "metadata": {},
     "output_type": "display_data"
    },
    {
     "data": {
      "text/plain": [
       "Speed: 1.9ms preprocess, 428.0ms inference, 1.0ms postprocess per image at shape (1, 3, 384, 640)\n"
      ]
     },
     "metadata": {},
     "output_type": "display_data"
    },
    {
     "data": {
      "text/plain": [
       "\n"
      ]
     },
     "metadata": {},
     "output_type": "display_data"
    },
    {
     "data": {
      "text/plain": [
       "0: 384x640 18 persons, 7 cars, 27 motorcycles, 1 bus, 3 trucks, 1 backpack, 403.6ms\n"
      ]
     },
     "metadata": {},
     "output_type": "display_data"
    },
    {
     "data": {
      "text/plain": [
       "Speed: 1.9ms preprocess, 403.6ms inference, 1.1ms postprocess per image at shape (1, 3, 384, 640)\n"
      ]
     },
     "metadata": {},
     "output_type": "display_data"
    },
    {
     "data": {
      "text/plain": [
       "\n"
      ]
     },
     "metadata": {},
     "output_type": "display_data"
    },
    {
     "data": {
      "text/plain": [
       "0: 384x640 18 persons, 7 cars, 27 motorcycles, 1 bus, 3 trucks, 1 backpack, 408.1ms\n"
      ]
     },
     "metadata": {},
     "output_type": "display_data"
    },
    {
     "data": {
      "text/plain": [
       "Speed: 1.9ms preprocess, 408.1ms inference, 1.1ms postprocess per image at shape (1, 3, 384, 640)\n"
      ]
     },
     "metadata": {},
     "output_type": "display_data"
    },
    {
     "data": {
      "text/plain": [
       "\n"
      ]
     },
     "metadata": {},
     "output_type": "display_data"
    },
    {
     "data": {
      "text/plain": [
       "0: 384x640 18 persons, 7 cars, 27 motorcycles, 1 bus, 3 trucks, 1 backpack, 400.3ms\n"
      ]
     },
     "metadata": {},
     "output_type": "display_data"
    },
    {
     "data": {
      "text/plain": [
       "Speed: 1.9ms preprocess, 400.3ms inference, 1.0ms postprocess per image at shape (1, 3, 384, 640)\n"
      ]
     },
     "metadata": {},
     "output_type": "display_data"
    },
    {
     "data": {
      "text/plain": [
       "\n"
      ]
     },
     "metadata": {},
     "output_type": "display_data"
    },
    {
     "data": {
      "text/plain": [
       "0: 384x640 18 persons, 7 cars, 27 motorcycles, 1 bus, 3 trucks, 2 backpacks, 411.7ms\n"
      ]
     },
     "metadata": {},
     "output_type": "display_data"
    },
    {
     "data": {
      "text/plain": [
       "Speed: 2.0ms preprocess, 411.7ms inference, 1.1ms postprocess per image at shape (1, 3, 384, 640)\n"
      ]
     },
     "metadata": {},
     "output_type": "display_data"
    },
    {
     "data": {
      "text/plain": [
       "\n"
      ]
     },
     "metadata": {},
     "output_type": "display_data"
    },
    {
     "data": {
      "text/plain": [
       "0: 384x640 18 persons, 8 cars, 27 motorcycles, 1 bus, 2 trucks, 2 backpacks, 410.2ms\n"
      ]
     },
     "metadata": {},
     "output_type": "display_data"
    },
    {
     "data": {
      "text/plain": [
       "Speed: 2.2ms preprocess, 410.2ms inference, 1.5ms postprocess per image at shape (1, 3, 384, 640)\n"
      ]
     },
     "metadata": {},
     "output_type": "display_data"
    },
    {
     "data": {
      "text/plain": [
       "\n"
      ]
     },
     "metadata": {},
     "output_type": "display_data"
    },
    {
     "data": {
      "text/plain": [
       "0: 384x640 17 persons, 8 cars, 27 motorcycles, 1 bus, 2 trucks, 2 backpacks, 417.0ms\n"
      ]
     },
     "metadata": {},
     "output_type": "display_data"
    },
    {
     "data": {
      "text/plain": [
       "Speed: 2.3ms preprocess, 417.0ms inference, 1.1ms postprocess per image at shape (1, 3, 384, 640)\n"
      ]
     },
     "metadata": {},
     "output_type": "display_data"
    },
    {
     "data": {
      "text/plain": [
       "\n"
      ]
     },
     "metadata": {},
     "output_type": "display_data"
    },
    {
     "data": {
      "text/plain": [
       "0: 384x640 18 persons, 8 cars, 27 motorcycles, 1 bus, 3 trucks, 1 backpack, 397.1ms\n"
      ]
     },
     "metadata": {},
     "output_type": "display_data"
    },
    {
     "data": {
      "text/plain": [
       "Speed: 2.1ms preprocess, 397.1ms inference, 1.2ms postprocess per image at shape (1, 3, 384, 640)\n"
      ]
     },
     "metadata": {},
     "output_type": "display_data"
    },
    {
     "data": {
      "text/plain": [
       "\n"
      ]
     },
     "metadata": {},
     "output_type": "display_data"
    },
    {
     "data": {
      "text/plain": [
       "0: 384x640 18 persons, 7 cars, 27 motorcycles, 1 bus, 4 trucks, 1 backpack, 423.2ms\n"
      ]
     },
     "metadata": {},
     "output_type": "display_data"
    },
    {
     "data": {
      "text/plain": [
       "Speed: 2.1ms preprocess, 423.2ms inference, 1.1ms postprocess per image at shape (1, 3, 384, 640)\n"
      ]
     },
     "metadata": {},
     "output_type": "display_data"
    },
    {
     "data": {
      "text/plain": [
       "\n"
      ]
     },
     "metadata": {},
     "output_type": "display_data"
    },
    {
     "data": {
      "text/plain": [
       "0: 384x640 17 persons, 8 cars, 27 motorcycles, 1 bus, 3 trucks, 1 backpack, 397.2ms\n"
      ]
     },
     "metadata": {},
     "output_type": "display_data"
    },
    {
     "data": {
      "text/plain": [
       "Speed: 2.8ms preprocess, 397.2ms inference, 1.1ms postprocess per image at shape (1, 3, 384, 640)\n"
      ]
     },
     "metadata": {},
     "output_type": "display_data"
    },
    {
     "data": {
      "text/plain": [
       "\n"
      ]
     },
     "metadata": {},
     "output_type": "display_data"
    },
    {
     "data": {
      "text/plain": [
       "0: 384x640 17 persons, 8 cars, 25 motorcycles, 1 bus, 2 trucks, 1 backpack, 426.6ms\n"
      ]
     },
     "metadata": {},
     "output_type": "display_data"
    },
    {
     "data": {
      "text/plain": [
       "Speed: 2.1ms preprocess, 426.6ms inference, 1.1ms postprocess per image at shape (1, 3, 384, 640)\n"
      ]
     },
     "metadata": {},
     "output_type": "display_data"
    },
    {
     "data": {
      "text/plain": [
       "\n"
      ]
     },
     "metadata": {},
     "output_type": "display_data"
    },
    {
     "data": {
      "text/plain": [
       "0: 384x640 17 persons, 8 cars, 25 motorcycles, 1 bus, 2 trucks, 1 backpack, 392.6ms\n"
      ]
     },
     "metadata": {},
     "output_type": "display_data"
    },
    {
     "data": {
      "text/plain": [
       "Speed: 2.0ms preprocess, 392.6ms inference, 1.0ms postprocess per image at shape (1, 3, 384, 640)\n"
      ]
     },
     "metadata": {},
     "output_type": "display_data"
    },
    {
     "data": {
      "text/plain": [
       "\n"
      ]
     },
     "metadata": {},
     "output_type": "display_data"
    },
    {
     "data": {
      "text/plain": [
       "0: 384x640 17 persons, 8 cars, 26 motorcycles, 1 bus, 2 trucks, 1 backpack, 424.0ms\n"
      ]
     },
     "metadata": {},
     "output_type": "display_data"
    },
    {
     "data": {
      "text/plain": [
       "Speed: 2.1ms preprocess, 424.0ms inference, 1.2ms postprocess per image at shape (1, 3, 384, 640)\n"
      ]
     },
     "metadata": {},
     "output_type": "display_data"
    },
    {
     "data": {
      "text/plain": [
       "\n"
      ]
     },
     "metadata": {},
     "output_type": "display_data"
    },
    {
     "data": {
      "text/plain": [
       "0: 384x640 17 persons, 8 cars, 26 motorcycles, 1 bus, 1 truck, 1 backpack, 404.2ms\n"
      ]
     },
     "metadata": {},
     "output_type": "display_data"
    },
    {
     "data": {
      "text/plain": [
       "Speed: 2.0ms preprocess, 404.2ms inference, 1.3ms postprocess per image at shape (1, 3, 384, 640)\n"
      ]
     },
     "metadata": {},
     "output_type": "display_data"
    },
    {
     "data": {
      "text/plain": [
       "\n"
      ]
     },
     "metadata": {},
     "output_type": "display_data"
    },
    {
     "data": {
      "text/plain": [
       "0: 384x640 17 persons, 8 cars, 27 motorcycles, 1 bus, 1 truck, 1 backpack, 442.4ms\n"
      ]
     },
     "metadata": {},
     "output_type": "display_data"
    },
    {
     "data": {
      "text/plain": [
       "Speed: 3.2ms preprocess, 442.4ms inference, 1.2ms postprocess per image at shape (1, 3, 384, 640)\n"
      ]
     },
     "metadata": {},
     "output_type": "display_data"
    },
    {
     "data": {
      "text/plain": [
       "\n"
      ]
     },
     "metadata": {},
     "output_type": "display_data"
    },
    {
     "data": {
      "text/plain": [
       "0: 384x640 17 persons, 8 cars, 28 motorcycles, 1 bus, 1 truck, 1 backpack, 432.3ms\n"
      ]
     },
     "metadata": {},
     "output_type": "display_data"
    },
    {
     "data": {
      "text/plain": [
       "Speed: 2.3ms preprocess, 432.3ms inference, 1.1ms postprocess per image at shape (1, 3, 384, 640)\n"
      ]
     },
     "metadata": {},
     "output_type": "display_data"
    },
    {
     "data": {
      "text/plain": [
       "\n"
      ]
     },
     "metadata": {},
     "output_type": "display_data"
    },
    {
     "data": {
      "text/plain": [
       "0: 384x640 17 persons, 8 cars, 27 motorcycles, 1 bus, 1 truck, 1 backpack, 424.9ms\n"
      ]
     },
     "metadata": {},
     "output_type": "display_data"
    },
    {
     "data": {
      "text/plain": [
       "Speed: 2.0ms preprocess, 424.9ms inference, 1.0ms postprocess per image at shape (1, 3, 384, 640)\n"
      ]
     },
     "metadata": {},
     "output_type": "display_data"
    },
    {
     "data": {
      "text/plain": [
       "\n"
      ]
     },
     "metadata": {},
     "output_type": "display_data"
    },
    {
     "data": {
      "text/plain": [
       "0: 384x640 17 persons, 8 cars, 27 motorcycles, 1 bus, 1 truck, 1 backpack, 398.1ms\n"
      ]
     },
     "metadata": {},
     "output_type": "display_data"
    },
    {
     "data": {
      "text/plain": [
       "Speed: 1.9ms preprocess, 398.1ms inference, 1.0ms postprocess per image at shape (1, 3, 384, 640)\n"
      ]
     },
     "metadata": {},
     "output_type": "display_data"
    },
    {
     "data": {
      "text/plain": [
       "\n"
      ]
     },
     "metadata": {},
     "output_type": "display_data"
    },
    {
     "data": {
      "text/plain": [
       "0: 384x640 17 persons, 8 cars, 27 motorcycles, 1 bus, 1 truck, 1 backpack, 408.4ms\n"
      ]
     },
     "metadata": {},
     "output_type": "display_data"
    },
    {
     "data": {
      "text/plain": [
       "Speed: 2.1ms preprocess, 408.4ms inference, 1.1ms postprocess per image at shape (1, 3, 384, 640)\n"
      ]
     },
     "metadata": {},
     "output_type": "display_data"
    },
    {
     "data": {
      "text/plain": [
       "\n"
      ]
     },
     "metadata": {},
     "output_type": "display_data"
    },
    {
     "data": {
      "text/plain": [
       "0: 384x640 17 persons, 8 cars, 28 motorcycles, 1 bus, 1 truck, 1 backpack, 413.7ms\n"
      ]
     },
     "metadata": {},
     "output_type": "display_data"
    },
    {
     "data": {
      "text/plain": [
       "Speed: 2.0ms preprocess, 413.7ms inference, 1.3ms postprocess per image at shape (1, 3, 384, 640)\n"
      ]
     },
     "metadata": {},
     "output_type": "display_data"
    },
    {
     "data": {
      "text/plain": [
       "\n"
      ]
     },
     "metadata": {},
     "output_type": "display_data"
    },
    {
     "data": {
      "text/plain": [
       "0: 384x640 17 persons, 8 cars, 29 motorcycles, 1 bus, 1 truck, 1 backpack, 441.1ms\n"
      ]
     },
     "metadata": {},
     "output_type": "display_data"
    },
    {
     "data": {
      "text/plain": [
       "Speed: 1.9ms preprocess, 441.1ms inference, 1.1ms postprocess per image at shape (1, 3, 384, 640)\n"
      ]
     },
     "metadata": {},
     "output_type": "display_data"
    },
    {
     "data": {
      "text/plain": [
       "\n"
      ]
     },
     "metadata": {},
     "output_type": "display_data"
    },
    {
     "data": {
      "text/plain": [
       "0: 384x640 17 persons, 8 cars, 29 motorcycles, 1 bus, 1 truck, 1 backpack, 415.2ms\n"
      ]
     },
     "metadata": {},
     "output_type": "display_data"
    },
    {
     "data": {
      "text/plain": [
       "Speed: 2.2ms preprocess, 415.2ms inference, 1.3ms postprocess per image at shape (1, 3, 384, 640)\n"
      ]
     },
     "metadata": {},
     "output_type": "display_data"
    },
    {
     "data": {
      "text/plain": [
       "\n"
      ]
     },
     "metadata": {},
     "output_type": "display_data"
    },
    {
     "data": {
      "text/plain": [
       "0: 384x640 17 persons, 8 cars, 30 motorcycles, 1 bus, 1 truck, 1 backpack, 425.0ms\n"
      ]
     },
     "metadata": {},
     "output_type": "display_data"
    },
    {
     "data": {
      "text/plain": [
       "Speed: 1.9ms preprocess, 425.0ms inference, 1.1ms postprocess per image at shape (1, 3, 384, 640)\n"
      ]
     },
     "metadata": {},
     "output_type": "display_data"
    },
    {
     "data": {
      "text/plain": [
       "\n"
      ]
     },
     "metadata": {},
     "output_type": "display_data"
    },
    {
     "data": {
      "text/plain": [
       "0: 384x640 19 persons, 8 cars, 30 motorcycles, 1 bus, 1 truck, 1 backpack, 406.1ms\n"
      ]
     },
     "metadata": {},
     "output_type": "display_data"
    },
    {
     "data": {
      "text/plain": [
       "Speed: 2.2ms preprocess, 406.1ms inference, 1.0ms postprocess per image at shape (1, 3, 384, 640)\n"
      ]
     },
     "metadata": {},
     "output_type": "display_data"
    },
    {
     "data": {
      "text/plain": [
       "\n"
      ]
     },
     "metadata": {},
     "output_type": "display_data"
    },
    {
     "data": {
      "text/plain": [
       "0: 384x640 19 persons, 8 cars, 30 motorcycles, 1 bus, 1 truck, 1 backpack, 416.7ms\n"
      ]
     },
     "metadata": {},
     "output_type": "display_data"
    },
    {
     "data": {
      "text/plain": [
       "Speed: 2.0ms preprocess, 416.7ms inference, 1.1ms postprocess per image at shape (1, 3, 384, 640)\n"
      ]
     },
     "metadata": {},
     "output_type": "display_data"
    },
    {
     "data": {
      "text/plain": [
       "\n"
      ]
     },
     "metadata": {},
     "output_type": "display_data"
    },
    {
     "data": {
      "text/plain": [
       "0: 384x640 19 persons, 9 cars, 30 motorcycles, 1 bus, 1 truck, 1 backpack, 400.5ms\n"
      ]
     },
     "metadata": {},
     "output_type": "display_data"
    },
    {
     "data": {
      "text/plain": [
       "Speed: 2.1ms preprocess, 400.5ms inference, 1.1ms postprocess per image at shape (1, 3, 384, 640)\n"
      ]
     },
     "metadata": {},
     "output_type": "display_data"
    },
    {
     "data": {
      "text/plain": [
       "\n"
      ]
     },
     "metadata": {},
     "output_type": "display_data"
    },
    {
     "data": {
      "text/plain": [
       "0: 384x640 18 persons, 9 cars, 29 motorcycles, 1 bus, 1 truck, 1 backpack, 426.5ms\n"
      ]
     },
     "metadata": {},
     "output_type": "display_data"
    },
    {
     "data": {
      "text/plain": [
       "Speed: 2.2ms preprocess, 426.5ms inference, 1.1ms postprocess per image at shape (1, 3, 384, 640)\n"
      ]
     },
     "metadata": {},
     "output_type": "display_data"
    },
    {
     "data": {
      "text/plain": [
       "\n"
      ]
     },
     "metadata": {},
     "output_type": "display_data"
    },
    {
     "data": {
      "text/plain": [
       "0: 384x640 18 persons, 9 cars, 28 motorcycles, 1 bus, 1 truck, 1 backpack, 404.8ms\n"
      ]
     },
     "metadata": {},
     "output_type": "display_data"
    },
    {
     "data": {
      "text/plain": [
       "Speed: 2.0ms preprocess, 404.8ms inference, 1.1ms postprocess per image at shape (1, 3, 384, 640)\n"
      ]
     },
     "metadata": {},
     "output_type": "display_data"
    },
    {
     "data": {
      "text/plain": [
       "\n"
      ]
     },
     "metadata": {},
     "output_type": "display_data"
    },
    {
     "data": {
      "text/plain": [
       "0: 384x640 18 persons, 9 cars, 30 motorcycles, 1 bus, 1 truck, 1 backpack, 413.3ms\n"
      ]
     },
     "metadata": {},
     "output_type": "display_data"
    },
    {
     "data": {
      "text/plain": [
       "Speed: 2.0ms preprocess, 413.3ms inference, 1.1ms postprocess per image at shape (1, 3, 384, 640)\n"
      ]
     },
     "metadata": {},
     "output_type": "display_data"
    },
    {
     "data": {
      "text/plain": [
       "\n"
      ]
     },
     "metadata": {},
     "output_type": "display_data"
    },
    {
     "data": {
      "text/plain": [
       "0: 384x640 18 persons, 9 cars, 29 motorcycles, 1 bus, 1 truck, 1 backpack, 403.0ms\n"
      ]
     },
     "metadata": {},
     "output_type": "display_data"
    },
    {
     "data": {
      "text/plain": [
       "Speed: 1.9ms preprocess, 403.0ms inference, 1.2ms postprocess per image at shape (1, 3, 384, 640)\n"
      ]
     },
     "metadata": {},
     "output_type": "display_data"
    },
    {
     "data": {
      "text/plain": [
       "\n"
      ]
     },
     "metadata": {},
     "output_type": "display_data"
    },
    {
     "data": {
      "text/plain": [
       "0: 384x640 18 persons, 8 cars, 29 motorcycles, 1 bus, 2 trucks, 1 backpack, 422.8ms\n"
      ]
     },
     "metadata": {},
     "output_type": "display_data"
    },
    {
     "data": {
      "text/plain": [
       "Speed: 2.1ms preprocess, 422.8ms inference, 1.1ms postprocess per image at shape (1, 3, 384, 640)\n"
      ]
     },
     "metadata": {},
     "output_type": "display_data"
    },
    {
     "data": {
      "text/plain": [
       "\n"
      ]
     },
     "metadata": {},
     "output_type": "display_data"
    },
    {
     "data": {
      "text/plain": [
       "0: 384x640 18 persons, 8 cars, 28 motorcycles, 1 bus, 3 trucks, 1 backpack, 405.4ms\n"
      ]
     },
     "metadata": {},
     "output_type": "display_data"
    },
    {
     "data": {
      "text/plain": [
       "Speed: 2.1ms preprocess, 405.4ms inference, 1.1ms postprocess per image at shape (1, 3, 384, 640)\n"
      ]
     },
     "metadata": {},
     "output_type": "display_data"
    },
    {
     "data": {
      "text/plain": [
       "\n"
      ]
     },
     "metadata": {},
     "output_type": "display_data"
    },
    {
     "data": {
      "text/plain": [
       "0: 384x640 18 persons, 8 cars, 28 motorcycles, 1 bus, 3 trucks, 1 backpack, 419.3ms\n"
      ]
     },
     "metadata": {},
     "output_type": "display_data"
    },
    {
     "data": {
      "text/plain": [
       "Speed: 1.8ms preprocess, 419.3ms inference, 1.1ms postprocess per image at shape (1, 3, 384, 640)\n"
      ]
     },
     "metadata": {},
     "output_type": "display_data"
    },
    {
     "data": {
      "text/plain": [
       "\n"
      ]
     },
     "metadata": {},
     "output_type": "display_data"
    },
    {
     "data": {
      "text/plain": [
       "0: 384x640 18 persons, 8 cars, 27 motorcycles, 1 bus, 3 trucks, 1 backpack, 406.2ms\n"
      ]
     },
     "metadata": {},
     "output_type": "display_data"
    },
    {
     "data": {
      "text/plain": [
       "Speed: 2.2ms preprocess, 406.2ms inference, 1.1ms postprocess per image at shape (1, 3, 384, 640)\n"
      ]
     },
     "metadata": {},
     "output_type": "display_data"
    },
    {
     "data": {
      "text/plain": [
       "\n"
      ]
     },
     "metadata": {},
     "output_type": "display_data"
    },
    {
     "data": {
      "text/plain": [
       "0: 384x640 18 persons, 8 cars, 27 motorcycles, 1 bus, 3 trucks, 432.5ms\n"
      ]
     },
     "metadata": {},
     "output_type": "display_data"
    },
    {
     "data": {
      "text/plain": [
       "Speed: 1.9ms preprocess, 432.5ms inference, 1.2ms postprocess per image at shape (1, 3, 384, 640)\n"
      ]
     },
     "metadata": {},
     "output_type": "display_data"
    },
    {
     "data": {
      "text/plain": [
       "\n"
      ]
     },
     "metadata": {},
     "output_type": "display_data"
    },
    {
     "data": {
      "text/plain": [
       "0: 384x640 18 persons, 8 cars, 27 motorcycles, 1 bus, 3 trucks, 403.4ms\n"
      ]
     },
     "metadata": {},
     "output_type": "display_data"
    },
    {
     "data": {
      "text/plain": [
       "Speed: 3.5ms preprocess, 403.4ms inference, 1.0ms postprocess per image at shape (1, 3, 384, 640)\n"
      ]
     },
     "metadata": {},
     "output_type": "display_data"
    },
    {
     "data": {
      "text/plain": [
       "\n"
      ]
     },
     "metadata": {},
     "output_type": "display_data"
    },
    {
     "data": {
      "text/plain": [
       "0: 384x640 18 persons, 8 cars, 27 motorcycles, 1 bus, 4 trucks, 1 backpack, 432.1ms\n"
      ]
     },
     "metadata": {},
     "output_type": "display_data"
    },
    {
     "data": {
      "text/plain": [
       "Speed: 2.1ms preprocess, 432.1ms inference, 1.2ms postprocess per image at shape (1, 3, 384, 640)\n"
      ]
     },
     "metadata": {},
     "output_type": "display_data"
    },
    {
     "data": {
      "text/plain": [
       "\n"
      ]
     },
     "metadata": {},
     "output_type": "display_data"
    },
    {
     "data": {
      "text/plain": [
       "0: 384x640 18 persons, 8 cars, 28 motorcycles, 1 bus, 4 trucks, 1 backpack, 406.6ms\n"
      ]
     },
     "metadata": {},
     "output_type": "display_data"
    },
    {
     "data": {
      "text/plain": [
       "Speed: 2.2ms preprocess, 406.6ms inference, 1.1ms postprocess per image at shape (1, 3, 384, 640)\n"
      ]
     },
     "metadata": {},
     "output_type": "display_data"
    },
    {
     "data": {
      "text/plain": [
       "\n"
      ]
     },
     "metadata": {},
     "output_type": "display_data"
    },
    {
     "data": {
      "text/plain": [
       "0: 384x640 19 persons, 7 cars, 28 motorcycles, 1 bus, 5 trucks, 1 backpack, 426.5ms\n"
      ]
     },
     "metadata": {},
     "output_type": "display_data"
    },
    {
     "data": {
      "text/plain": [
       "Speed: 2.1ms preprocess, 426.5ms inference, 1.0ms postprocess per image at shape (1, 3, 384, 640)\n"
      ]
     },
     "metadata": {},
     "output_type": "display_data"
    },
    {
     "data": {
      "text/plain": [
       "\n"
      ]
     },
     "metadata": {},
     "output_type": "display_data"
    },
    {
     "data": {
      "text/plain": [
       "0: 384x640 19 persons, 7 cars, 28 motorcycles, 1 bus, 5 trucks, 1 backpack, 384.3ms\n"
      ]
     },
     "metadata": {},
     "output_type": "display_data"
    },
    {
     "data": {
      "text/plain": [
       "Speed: 1.9ms preprocess, 384.3ms inference, 1.0ms postprocess per image at shape (1, 3, 384, 640)\n"
      ]
     },
     "metadata": {},
     "output_type": "display_data"
    },
    {
     "data": {
      "text/plain": [
       "\n"
      ]
     },
     "metadata": {},
     "output_type": "display_data"
    },
    {
     "data": {
      "text/plain": [
       "0: 384x640 19 persons, 7 cars, 27 motorcycles, 1 bus, 5 trucks, 1 backpack, 402.0ms\n"
      ]
     },
     "metadata": {},
     "output_type": "display_data"
    },
    {
     "data": {
      "text/plain": [
       "Speed: 2.2ms preprocess, 402.0ms inference, 1.0ms postprocess per image at shape (1, 3, 384, 640)\n"
      ]
     },
     "metadata": {},
     "output_type": "display_data"
    },
    {
     "data": {
      "text/plain": [
       "\n"
      ]
     },
     "metadata": {},
     "output_type": "display_data"
    },
    {
     "data": {
      "text/plain": [
       "0: 384x640 19 persons, 8 cars, 26 motorcycles, 1 bus, 4 trucks, 1 backpack, 389.6ms\n"
      ]
     },
     "metadata": {},
     "output_type": "display_data"
    },
    {
     "data": {
      "text/plain": [
       "Speed: 2.0ms preprocess, 389.6ms inference, 1.0ms postprocess per image at shape (1, 3, 384, 640)\n"
      ]
     },
     "metadata": {},
     "output_type": "display_data"
    },
    {
     "data": {
      "text/plain": [
       "\n"
      ]
     },
     "metadata": {},
     "output_type": "display_data"
    },
    {
     "data": {
      "text/plain": [
       "0: 384x640 19 persons, 7 cars, 25 motorcycles, 1 bus, 3 trucks, 1 backpack, 410.4ms\n"
      ]
     },
     "metadata": {},
     "output_type": "display_data"
    },
    {
     "data": {
      "text/plain": [
       "Speed: 2.1ms preprocess, 410.4ms inference, 1.0ms postprocess per image at shape (1, 3, 384, 640)\n"
      ]
     },
     "metadata": {},
     "output_type": "display_data"
    },
    {
     "data": {
      "text/plain": [
       "\n"
      ]
     },
     "metadata": {},
     "output_type": "display_data"
    },
    {
     "data": {
      "text/plain": [
       "0: 384x640 19 persons, 8 cars, 26 motorcycles, 1 bus, 3 trucks, 1 backpack, 397.1ms\n"
      ]
     },
     "metadata": {},
     "output_type": "display_data"
    },
    {
     "data": {
      "text/plain": [
       "Speed: 2.1ms preprocess, 397.1ms inference, 1.0ms postprocess per image at shape (1, 3, 384, 640)\n"
      ]
     },
     "metadata": {},
     "output_type": "display_data"
    },
    {
     "data": {
      "text/plain": [
       "\n"
      ]
     },
     "metadata": {},
     "output_type": "display_data"
    },
    {
     "data": {
      "text/plain": [
       "0: 384x640 19 persons, 8 cars, 26 motorcycles, 1 bus, 3 trucks, 1 backpack, 422.1ms\n"
      ]
     },
     "metadata": {},
     "output_type": "display_data"
    },
    {
     "data": {
      "text/plain": [
       "Speed: 2.2ms preprocess, 422.1ms inference, 1.7ms postprocess per image at shape (1, 3, 384, 640)\n"
      ]
     },
     "metadata": {},
     "output_type": "display_data"
    },
    {
     "data": {
      "text/plain": [
       "\n"
      ]
     },
     "metadata": {},
     "output_type": "display_data"
    },
    {
     "data": {
      "text/plain": [
       "0: 384x640 19 persons, 8 cars, 26 motorcycles, 1 bus, 3 trucks, 1 backpack, 400.9ms\n"
      ]
     },
     "metadata": {},
     "output_type": "display_data"
    },
    {
     "data": {
      "text/plain": [
       "Speed: 2.3ms preprocess, 400.9ms inference, 1.2ms postprocess per image at shape (1, 3, 384, 640)\n"
      ]
     },
     "metadata": {},
     "output_type": "display_data"
    },
    {
     "data": {
      "text/plain": [
       "\n"
      ]
     },
     "metadata": {},
     "output_type": "display_data"
    },
    {
     "data": {
      "text/plain": [
       "0: 384x640 19 persons, 8 cars, 27 motorcycles, 1 bus, 3 trucks, 1 backpack, 422.7ms\n"
      ]
     },
     "metadata": {},
     "output_type": "display_data"
    },
    {
     "data": {
      "text/plain": [
       "Speed: 2.9ms preprocess, 422.7ms inference, 1.0ms postprocess per image at shape (1, 3, 384, 640)\n"
      ]
     },
     "metadata": {},
     "output_type": "display_data"
    },
    {
     "data": {
      "text/plain": [
       "\n"
      ]
     },
     "metadata": {},
     "output_type": "display_data"
    },
    {
     "data": {
      "text/plain": [
       "0: 384x640 19 persons, 8 cars, 27 motorcycles, 1 bus, 3 trucks, 1 backpack, 401.7ms\n"
      ]
     },
     "metadata": {},
     "output_type": "display_data"
    },
    {
     "data": {
      "text/plain": [
       "Speed: 2.3ms preprocess, 401.7ms inference, 1.0ms postprocess per image at shape (1, 3, 384, 640)\n"
      ]
     },
     "metadata": {},
     "output_type": "display_data"
    },
    {
     "data": {
      "text/plain": [
       "\n"
      ]
     },
     "metadata": {},
     "output_type": "display_data"
    },
    {
     "data": {
      "text/plain": [
       "0: 384x640 20 persons, 8 cars, 27 motorcycles, 1 bus, 3 trucks, 1 backpack, 436.8ms\n"
      ]
     },
     "metadata": {},
     "output_type": "display_data"
    },
    {
     "data": {
      "text/plain": [
       "Speed: 2.1ms preprocess, 436.8ms inference, 1.2ms postprocess per image at shape (1, 3, 384, 640)\n"
      ]
     },
     "metadata": {},
     "output_type": "display_data"
    },
    {
     "data": {
      "text/plain": [
       "\n"
      ]
     },
     "metadata": {},
     "output_type": "display_data"
    },
    {
     "data": {
      "text/plain": [
       "0: 384x640 20 persons, 8 cars, 28 motorcycles, 1 bus, 4 trucks, 1 backpack, 405.4ms\n"
      ]
     },
     "metadata": {},
     "output_type": "display_data"
    },
    {
     "data": {
      "text/plain": [
       "Speed: 2.8ms preprocess, 405.4ms inference, 1.1ms postprocess per image at shape (1, 3, 384, 640)\n"
      ]
     },
     "metadata": {},
     "output_type": "display_data"
    },
    {
     "data": {
      "text/plain": [
       "\n"
      ]
     },
     "metadata": {},
     "output_type": "display_data"
    },
    {
     "data": {
      "text/plain": [
       "0: 384x640 20 persons, 8 cars, 27 motorcycles, 1 bus, 4 trucks, 1 backpack, 429.0ms\n"
      ]
     },
     "metadata": {},
     "output_type": "display_data"
    },
    {
     "data": {
      "text/plain": [
       "Speed: 2.1ms preprocess, 429.0ms inference, 1.2ms postprocess per image at shape (1, 3, 384, 640)\n"
      ]
     },
     "metadata": {},
     "output_type": "display_data"
    },
    {
     "data": {
      "text/plain": [
       "\n"
      ]
     },
     "metadata": {},
     "output_type": "display_data"
    },
    {
     "data": {
      "text/plain": [
       "0: 384x640 19 persons, 8 cars, 28 motorcycles, 1 bus, 4 trucks, 1 backpack, 414.8ms\n"
      ]
     },
     "metadata": {},
     "output_type": "display_data"
    },
    {
     "data": {
      "text/plain": [
       "Speed: 2.4ms preprocess, 414.8ms inference, 1.0ms postprocess per image at shape (1, 3, 384, 640)\n"
      ]
     },
     "metadata": {},
     "output_type": "display_data"
    },
    {
     "data": {
      "text/plain": [
       "\n"
      ]
     },
     "metadata": {},
     "output_type": "display_data"
    },
    {
     "data": {
      "text/plain": [
       "0: 384x640 19 persons, 8 cars, 28 motorcycles, 1 bus, 4 trucks, 1 backpack, 434.8ms\n"
      ]
     },
     "metadata": {},
     "output_type": "display_data"
    },
    {
     "data": {
      "text/plain": [
       "Speed: 2.2ms preprocess, 434.8ms inference, 1.1ms postprocess per image at shape (1, 3, 384, 640)\n"
      ]
     },
     "metadata": {},
     "output_type": "display_data"
    },
    {
     "data": {
      "text/plain": [
       "\n"
      ]
     },
     "metadata": {},
     "output_type": "display_data"
    },
    {
     "data": {
      "text/plain": [
       "0: 384x640 19 persons, 7 cars, 28 motorcycles, 1 bus, 4 trucks, 1 backpack, 403.5ms\n"
      ]
     },
     "metadata": {},
     "output_type": "display_data"
    },
    {
     "data": {
      "text/plain": [
       "Speed: 2.3ms preprocess, 403.5ms inference, 1.1ms postprocess per image at shape (1, 3, 384, 640)\n"
      ]
     },
     "metadata": {},
     "output_type": "display_data"
    },
    {
     "data": {
      "text/plain": [
       "\n"
      ]
     },
     "metadata": {},
     "output_type": "display_data"
    },
    {
     "data": {
      "text/plain": [
       "0: 384x640 19 persons, 7 cars, 28 motorcycles, 1 bus, 4 trucks, 1 backpack, 412.4ms\n"
      ]
     },
     "metadata": {},
     "output_type": "display_data"
    },
    {
     "data": {
      "text/plain": [
       "Speed: 1.9ms preprocess, 412.4ms inference, 1.0ms postprocess per image at shape (1, 3, 384, 640)\n"
      ]
     },
     "metadata": {},
     "output_type": "display_data"
    },
    {
     "data": {
      "text/plain": [
       "\n"
      ]
     },
     "metadata": {},
     "output_type": "display_data"
    },
    {
     "data": {
      "text/plain": [
       "0: 384x640 19 persons, 7 cars, 28 motorcycles, 1 bus, 4 trucks, 1 backpack, 417.8ms\n"
      ]
     },
     "metadata": {},
     "output_type": "display_data"
    },
    {
     "data": {
      "text/plain": [
       "Speed: 2.1ms preprocess, 417.8ms inference, 1.2ms postprocess per image at shape (1, 3, 384, 640)\n"
      ]
     },
     "metadata": {},
     "output_type": "display_data"
    },
    {
     "data": {
      "text/plain": [
       "\n"
      ]
     },
     "metadata": {},
     "output_type": "display_data"
    },
    {
     "data": {
      "text/plain": [
       "0: 384x640 19 persons, 7 cars, 28 motorcycles, 3 trucks, 1 backpack, 421.9ms\n"
      ]
     },
     "metadata": {},
     "output_type": "display_data"
    },
    {
     "data": {
      "text/plain": [
       "Speed: 2.0ms preprocess, 421.9ms inference, 1.1ms postprocess per image at shape (1, 3, 384, 640)\n"
      ]
     },
     "metadata": {},
     "output_type": "display_data"
    },
    {
     "data": {
      "text/plain": [
       "\n"
      ]
     },
     "metadata": {},
     "output_type": "display_data"
    },
    {
     "data": {
      "text/plain": [
       "0: 384x640 19 persons, 7 cars, 29 motorcycles, 1 bus, 3 trucks, 1 backpack, 400.3ms\n"
      ]
     },
     "metadata": {},
     "output_type": "display_data"
    },
    {
     "data": {
      "text/plain": [
       "Speed: 1.9ms preprocess, 400.3ms inference, 1.1ms postprocess per image at shape (1, 3, 384, 640)\n"
      ]
     },
     "metadata": {},
     "output_type": "display_data"
    },
    {
     "data": {
      "text/plain": [
       "\n"
      ]
     },
     "metadata": {},
     "output_type": "display_data"
    },
    {
     "data": {
      "text/plain": [
       "0: 384x640 19 persons, 7 cars, 30 motorcycles, 1 bus, 3 trucks, 1 backpack, 419.3ms\n"
      ]
     },
     "metadata": {},
     "output_type": "display_data"
    },
    {
     "data": {
      "text/plain": [
       "Speed: 2.1ms preprocess, 419.3ms inference, 1.1ms postprocess per image at shape (1, 3, 384, 640)\n"
      ]
     },
     "metadata": {},
     "output_type": "display_data"
    },
    {
     "data": {
      "text/plain": [
       "\n"
      ]
     },
     "metadata": {},
     "output_type": "display_data"
    },
    {
     "data": {
      "text/plain": [
       "0: 384x640 19 persons, 7 cars, 28 motorcycles, 1 bus, 3 trucks, 1 backpack, 410.0ms\n"
      ]
     },
     "metadata": {},
     "output_type": "display_data"
    },
    {
     "data": {
      "text/plain": [
       "Speed: 2.1ms preprocess, 410.0ms inference, 1.1ms postprocess per image at shape (1, 3, 384, 640)\n"
      ]
     },
     "metadata": {},
     "output_type": "display_data"
    },
    {
     "data": {
      "text/plain": [
       "\n"
      ]
     },
     "metadata": {},
     "output_type": "display_data"
    },
    {
     "data": {
      "text/plain": [
       "0: 384x640 19 persons, 7 cars, 30 motorcycles, 1 bus, 3 trucks, 1 backpack, 431.1ms\n"
      ]
     },
     "metadata": {},
     "output_type": "display_data"
    },
    {
     "data": {
      "text/plain": [
       "Speed: 2.5ms preprocess, 431.1ms inference, 1.0ms postprocess per image at shape (1, 3, 384, 640)\n"
      ]
     },
     "metadata": {},
     "output_type": "display_data"
    },
    {
     "data": {
      "text/plain": [
       "\n"
      ]
     },
     "metadata": {},
     "output_type": "display_data"
    },
    {
     "data": {
      "text/plain": [
       "0: 384x640 19 persons, 7 cars, 28 motorcycles, 1 bus, 3 trucks, 1 backpack, 414.6ms\n"
      ]
     },
     "metadata": {},
     "output_type": "display_data"
    },
    {
     "data": {
      "text/plain": [
       "Speed: 2.0ms preprocess, 414.6ms inference, 1.0ms postprocess per image at shape (1, 3, 384, 640)\n"
      ]
     },
     "metadata": {},
     "output_type": "display_data"
    },
    {
     "data": {
      "text/plain": [
       "\n"
      ]
     },
     "metadata": {},
     "output_type": "display_data"
    },
    {
     "data": {
      "text/plain": [
       "0: 384x640 19 persons, 7 cars, 29 motorcycles, 1 bus, 3 trucks, 1 backpack, 429.9ms\n"
      ]
     },
     "metadata": {},
     "output_type": "display_data"
    },
    {
     "data": {
      "text/plain": [
       "Speed: 2.1ms preprocess, 429.9ms inference, 2.1ms postprocess per image at shape (1, 3, 384, 640)\n"
      ]
     },
     "metadata": {},
     "output_type": "display_data"
    },
    {
     "data": {
      "text/plain": [
       "\n"
      ]
     },
     "metadata": {},
     "output_type": "display_data"
    },
    {
     "data": {
      "text/plain": [
       "0: 384x640 19 persons, 7 cars, 29 motorcycles, 1 bus, 3 trucks, 1 backpack, 399.5ms\n"
      ]
     },
     "metadata": {},
     "output_type": "display_data"
    },
    {
     "data": {
      "text/plain": [
       "Speed: 1.9ms preprocess, 399.5ms inference, 1.0ms postprocess per image at shape (1, 3, 384, 640)\n"
      ]
     },
     "metadata": {},
     "output_type": "display_data"
    },
    {
     "data": {
      "text/plain": [
       "\n"
      ]
     },
     "metadata": {},
     "output_type": "display_data"
    },
    {
     "data": {
      "text/plain": [
       "0: 384x640 19 persons, 6 cars, 29 motorcycles, 1 bus, 2 trucks, 1 backpack, 419.9ms\n"
      ]
     },
     "metadata": {},
     "output_type": "display_data"
    },
    {
     "data": {
      "text/plain": [
       "Speed: 2.3ms preprocess, 419.9ms inference, 1.1ms postprocess per image at shape (1, 3, 384, 640)\n"
      ]
     },
     "metadata": {},
     "output_type": "display_data"
    },
    {
     "data": {
      "text/plain": [
       "\n"
      ]
     },
     "metadata": {},
     "output_type": "display_data"
    },
    {
     "data": {
      "text/plain": [
       "0: 384x640 18 persons, 6 cars, 29 motorcycles, 1 bus, 3 trucks, 1 backpack, 401.7ms\n"
      ]
     },
     "metadata": {},
     "output_type": "display_data"
    },
    {
     "data": {
      "text/plain": [
       "Speed: 2.4ms preprocess, 401.7ms inference, 1.1ms postprocess per image at shape (1, 3, 384, 640)\n"
      ]
     },
     "metadata": {},
     "output_type": "display_data"
    },
    {
     "data": {
      "text/plain": [
       "\n"
      ]
     },
     "metadata": {},
     "output_type": "display_data"
    },
    {
     "data": {
      "text/plain": [
       "0: 384x640 18 persons, 6 cars, 29 motorcycles, 1 bus, 3 trucks, 1 backpack, 422.1ms\n"
      ]
     },
     "metadata": {},
     "output_type": "display_data"
    },
    {
     "data": {
      "text/plain": [
       "Speed: 1.9ms preprocess, 422.1ms inference, 1.1ms postprocess per image at shape (1, 3, 384, 640)\n"
      ]
     },
     "metadata": {},
     "output_type": "display_data"
    },
    {
     "data": {
      "text/plain": [
       "\n"
      ]
     },
     "metadata": {},
     "output_type": "display_data"
    },
    {
     "data": {
      "text/plain": [
       "0: 384x640 18 persons, 7 cars, 28 motorcycles, 1 bus, 3 trucks, 1 backpack, 409.7ms\n"
      ]
     },
     "metadata": {},
     "output_type": "display_data"
    },
    {
     "data": {
      "text/plain": [
       "Speed: 2.6ms preprocess, 409.7ms inference, 1.1ms postprocess per image at shape (1, 3, 384, 640)\n"
      ]
     },
     "metadata": {},
     "output_type": "display_data"
    },
    {
     "data": {
      "text/plain": [
       "\n"
      ]
     },
     "metadata": {},
     "output_type": "display_data"
    },
    {
     "data": {
      "text/plain": [
       "0: 384x640 18 persons, 6 cars, 28 motorcycles, 1 bus, 2 trucks, 1 backpack, 422.5ms\n"
      ]
     },
     "metadata": {},
     "output_type": "display_data"
    },
    {
     "data": {
      "text/plain": [
       "Speed: 1.9ms preprocess, 422.5ms inference, 1.0ms postprocess per image at shape (1, 3, 384, 640)\n"
      ]
     },
     "metadata": {},
     "output_type": "display_data"
    },
    {
     "data": {
      "text/plain": [
       "\n"
      ]
     },
     "metadata": {},
     "output_type": "display_data"
    },
    {
     "data": {
      "text/plain": [
       "0: 384x640 18 persons, 6 cars, 28 motorcycles, 1 bus, 3 trucks, 1 backpack, 403.5ms\n"
      ]
     },
     "metadata": {},
     "output_type": "display_data"
    },
    {
     "data": {
      "text/plain": [
       "Speed: 2.0ms preprocess, 403.5ms inference, 1.0ms postprocess per image at shape (1, 3, 384, 640)\n"
      ]
     },
     "metadata": {},
     "output_type": "display_data"
    },
    {
     "data": {
      "text/plain": [
       "\n"
      ]
     },
     "metadata": {},
     "output_type": "display_data"
    },
    {
     "data": {
      "text/plain": [
       "0: 384x640 19 persons, 7 cars, 29 motorcycles, 1 bus, 3 trucks, 1 backpack, 424.9ms\n"
      ]
     },
     "metadata": {},
     "output_type": "display_data"
    },
    {
     "data": {
      "text/plain": [
       "Speed: 2.3ms preprocess, 424.9ms inference, 1.2ms postprocess per image at shape (1, 3, 384, 640)\n"
      ]
     },
     "metadata": {},
     "output_type": "display_data"
    },
    {
     "data": {
      "text/plain": [
       "\n"
      ]
     },
     "metadata": {},
     "output_type": "display_data"
    },
    {
     "data": {
      "text/plain": [
       "0: 384x640 19 persons, 6 cars, 28 motorcycles, 1 bus, 3 trucks, 1 backpack, 406.3ms\n"
      ]
     },
     "metadata": {},
     "output_type": "display_data"
    },
    {
     "data": {
      "text/plain": [
       "Speed: 2.1ms preprocess, 406.3ms inference, 1.0ms postprocess per image at shape (1, 3, 384, 640)\n"
      ]
     },
     "metadata": {},
     "output_type": "display_data"
    },
    {
     "data": {
      "text/plain": [
       "\n"
      ]
     },
     "metadata": {},
     "output_type": "display_data"
    },
    {
     "data": {
      "text/plain": [
       "0: 384x640 19 persons, 6 cars, 28 motorcycles, 1 bus, 3 trucks, 1 backpack, 417.5ms\n"
      ]
     },
     "metadata": {},
     "output_type": "display_data"
    },
    {
     "data": {
      "text/plain": [
       "Speed: 2.2ms preprocess, 417.5ms inference, 1.0ms postprocess per image at shape (1, 3, 384, 640)\n"
      ]
     },
     "metadata": {},
     "output_type": "display_data"
    },
    {
     "data": {
      "text/plain": [
       "\n"
      ]
     },
     "metadata": {},
     "output_type": "display_data"
    },
    {
     "data": {
      "text/plain": [
       "0: 384x640 18 persons, 7 cars, 29 motorcycles, 1 bus, 3 trucks, 1 backpack, 401.8ms\n"
      ]
     },
     "metadata": {},
     "output_type": "display_data"
    },
    {
     "data": {
      "text/plain": [
       "Speed: 1.9ms preprocess, 401.8ms inference, 1.2ms postprocess per image at shape (1, 3, 384, 640)\n"
      ]
     },
     "metadata": {},
     "output_type": "display_data"
    },
    {
     "data": {
      "text/plain": [
       "\n"
      ]
     },
     "metadata": {},
     "output_type": "display_data"
    },
    {
     "data": {
      "text/plain": [
       "0: 384x640 18 persons, 7 cars, 29 motorcycles, 1 bus, 3 trucks, 1 backpack, 428.9ms\n"
      ]
     },
     "metadata": {},
     "output_type": "display_data"
    },
    {
     "data": {
      "text/plain": [
       "Speed: 2.1ms preprocess, 428.9ms inference, 1.6ms postprocess per image at shape (1, 3, 384, 640)\n"
      ]
     },
     "metadata": {},
     "output_type": "display_data"
    },
    {
     "data": {
      "text/plain": [
       "\n"
      ]
     },
     "metadata": {},
     "output_type": "display_data"
    },
    {
     "data": {
      "text/plain": [
       "0: 384x640 18 persons, 7 cars, 29 motorcycles, 1 bus, 3 trucks, 1 backpack, 400.2ms\n"
      ]
     },
     "metadata": {},
     "output_type": "display_data"
    },
    {
     "data": {
      "text/plain": [
       "Speed: 2.0ms preprocess, 400.2ms inference, 1.1ms postprocess per image at shape (1, 3, 384, 640)\n"
      ]
     },
     "metadata": {},
     "output_type": "display_data"
    },
    {
     "data": {
      "text/plain": [
       "\n"
      ]
     },
     "metadata": {},
     "output_type": "display_data"
    },
    {
     "data": {
      "text/plain": [
       "0: 384x640 18 persons, 7 cars, 29 motorcycles, 1 bus, 3 trucks, 1 backpack, 424.2ms\n"
      ]
     },
     "metadata": {},
     "output_type": "display_data"
    },
    {
     "data": {
      "text/plain": [
       "Speed: 1.9ms preprocess, 424.2ms inference, 1.0ms postprocess per image at shape (1, 3, 384, 640)\n"
      ]
     },
     "metadata": {},
     "output_type": "display_data"
    },
    {
     "data": {
      "text/plain": [
       "\n"
      ]
     },
     "metadata": {},
     "output_type": "display_data"
    },
    {
     "data": {
      "text/plain": [
       "0: 384x640 18 persons, 7 cars, 30 motorcycles, 1 bus, 3 trucks, 1 backpack, 402.2ms\n"
      ]
     },
     "metadata": {},
     "output_type": "display_data"
    },
    {
     "data": {
      "text/plain": [
       "Speed: 2.9ms preprocess, 402.2ms inference, 1.1ms postprocess per image at shape (1, 3, 384, 640)\n"
      ]
     },
     "metadata": {},
     "output_type": "display_data"
    },
    {
     "data": {
      "text/plain": [
       "\n"
      ]
     },
     "metadata": {},
     "output_type": "display_data"
    },
    {
     "data": {
      "text/plain": [
       "0: 384x640 18 persons, 7 cars, 28 motorcycles, 1 bus, 3 trucks, 1 backpack, 418.0ms\n"
      ]
     },
     "metadata": {},
     "output_type": "display_data"
    },
    {
     "data": {
      "text/plain": [
       "Speed: 2.2ms preprocess, 418.0ms inference, 1.0ms postprocess per image at shape (1, 3, 384, 640)\n"
      ]
     },
     "metadata": {},
     "output_type": "display_data"
    },
    {
     "data": {
      "text/plain": [
       "\n"
      ]
     },
     "metadata": {},
     "output_type": "display_data"
    },
    {
     "data": {
      "text/plain": [
       "0: 384x640 18 persons, 8 cars, 29 motorcycles, 1 bus, 3 trucks, 1 backpack, 405.3ms\n"
      ]
     },
     "metadata": {},
     "output_type": "display_data"
    },
    {
     "data": {
      "text/plain": [
       "Speed: 2.0ms preprocess, 405.3ms inference, 1.0ms postprocess per image at shape (1, 3, 384, 640)\n"
      ]
     },
     "metadata": {},
     "output_type": "display_data"
    },
    {
     "data": {
      "text/plain": [
       "\n"
      ]
     },
     "metadata": {},
     "output_type": "display_data"
    },
    {
     "data": {
      "text/plain": [
       "0: 384x640 19 persons, 8 cars, 27 motorcycles, 1 bus, 3 trucks, 1 backpack, 436.6ms\n"
      ]
     },
     "metadata": {},
     "output_type": "display_data"
    },
    {
     "data": {
      "text/plain": [
       "Speed: 2.0ms preprocess, 436.6ms inference, 0.7ms postprocess per image at shape (1, 3, 384, 640)\n"
      ]
     },
     "metadata": {},
     "output_type": "display_data"
    },
    {
     "data": {
      "text/plain": [
       "\n"
      ]
     },
     "metadata": {},
     "output_type": "display_data"
    },
    {
     "data": {
      "text/plain": [
       "0: 384x640 19 persons, 8 cars, 27 motorcycles, 1 bus, 3 trucks, 1 backpack, 444.4ms\n"
      ]
     },
     "metadata": {},
     "output_type": "display_data"
    },
    {
     "data": {
      "text/plain": [
       "Speed: 1.4ms preprocess, 444.4ms inference, 1.0ms postprocess per image at shape (1, 3, 384, 640)\n"
      ]
     },
     "metadata": {},
     "output_type": "display_data"
    },
    {
     "data": {
      "text/plain": [
       "\n"
      ]
     },
     "metadata": {},
     "output_type": "display_data"
    },
    {
     "data": {
      "text/plain": [
       "0: 384x640 19 persons, 8 cars, 26 motorcycles, 1 bus, 3 trucks, 1 backpack, 444.8ms\n"
      ]
     },
     "metadata": {},
     "output_type": "display_data"
    },
    {
     "data": {
      "text/plain": [
       "Speed: 2.2ms preprocess, 444.8ms inference, 1.1ms postprocess per image at shape (1, 3, 384, 640)\n"
      ]
     },
     "metadata": {},
     "output_type": "display_data"
    },
    {
     "data": {
      "text/plain": [
       "\n"
      ]
     },
     "metadata": {},
     "output_type": "display_data"
    },
    {
     "data": {
      "text/plain": [
       "0: 384x640 18 persons, 8 cars, 26 motorcycles, 1 bus, 3 trucks, 1 backpack, 441.2ms\n"
      ]
     },
     "metadata": {},
     "output_type": "display_data"
    },
    {
     "data": {
      "text/plain": [
       "Speed: 2.6ms preprocess, 441.2ms inference, 1.7ms postprocess per image at shape (1, 3, 384, 640)\n"
      ]
     },
     "metadata": {},
     "output_type": "display_data"
    },
    {
     "data": {
      "text/plain": [
       "\n"
      ]
     },
     "metadata": {},
     "output_type": "display_data"
    },
    {
     "data": {
      "text/plain": [
       "0: 384x640 18 persons, 8 cars, 26 motorcycles, 1 bus, 3 trucks, 1 backpack, 433.2ms\n"
      ]
     },
     "metadata": {},
     "output_type": "display_data"
    },
    {
     "data": {
      "text/plain": [
       "Speed: 2.8ms preprocess, 433.2ms inference, 1.1ms postprocess per image at shape (1, 3, 384, 640)\n"
      ]
     },
     "metadata": {},
     "output_type": "display_data"
    },
    {
     "data": {
      "text/plain": [
       "\n"
      ]
     },
     "metadata": {},
     "output_type": "display_data"
    },
    {
     "data": {
      "text/plain": [
       "0: 384x640 18 persons, 7 cars, 26 motorcycles, 1 bus, 2 trucks, 1 backpack, 393.2ms\n"
      ]
     },
     "metadata": {},
     "output_type": "display_data"
    },
    {
     "data": {
      "text/plain": [
       "Speed: 1.9ms preprocess, 393.2ms inference, 1.0ms postprocess per image at shape (1, 3, 384, 640)\n"
      ]
     },
     "metadata": {},
     "output_type": "display_data"
    },
    {
     "data": {
      "text/plain": [
       "\n"
      ]
     },
     "metadata": {},
     "output_type": "display_data"
    },
    {
     "data": {
      "text/plain": [
       "0: 384x640 18 persons, 8 cars, 28 motorcycles, 1 bus, 2 trucks, 1 backpack, 431.2ms\n"
      ]
     },
     "metadata": {},
     "output_type": "display_data"
    },
    {
     "data": {
      "text/plain": [
       "Speed: 2.9ms preprocess, 431.2ms inference, 1.1ms postprocess per image at shape (1, 3, 384, 640)\n"
      ]
     },
     "metadata": {},
     "output_type": "display_data"
    },
    {
     "data": {
      "text/plain": [
       "\n"
      ]
     },
     "metadata": {},
     "output_type": "display_data"
    },
    {
     "data": {
      "text/plain": [
       "0: 384x640 17 persons, 8 cars, 29 motorcycles, 1 bus, 2 trucks, 1 backpack, 411.3ms\n"
      ]
     },
     "metadata": {},
     "output_type": "display_data"
    },
    {
     "data": {
      "text/plain": [
       "Speed: 2.4ms preprocess, 411.3ms inference, 1.2ms postprocess per image at shape (1, 3, 384, 640)\n"
      ]
     },
     "metadata": {},
     "output_type": "display_data"
    },
    {
     "data": {
      "text/plain": [
       "\n"
      ]
     },
     "metadata": {},
     "output_type": "display_data"
    },
    {
     "data": {
      "text/plain": [
       "0: 384x640 18 persons, 8 cars, 29 motorcycles, 1 bus, 2 trucks, 1 backpack, 432.0ms\n"
      ]
     },
     "metadata": {},
     "output_type": "display_data"
    },
    {
     "data": {
      "text/plain": [
       "Speed: 2.2ms preprocess, 432.0ms inference, 1.1ms postprocess per image at shape (1, 3, 384, 640)\n"
      ]
     },
     "metadata": {},
     "output_type": "display_data"
    },
    {
     "data": {
      "text/plain": [
       "\n"
      ]
     },
     "metadata": {},
     "output_type": "display_data"
    },
    {
     "data": {
      "text/plain": [
       "0: 384x640 17 persons, 8 cars, 29 motorcycles, 1 bus, 3 trucks, 1 backpack, 404.3ms\n"
      ]
     },
     "metadata": {},
     "output_type": "display_data"
    },
    {
     "data": {
      "text/plain": [
       "Speed: 2.0ms preprocess, 404.3ms inference, 1.0ms postprocess per image at shape (1, 3, 384, 640)\n"
      ]
     },
     "metadata": {},
     "output_type": "display_data"
    },
    {
     "data": {
      "text/plain": [
       "\n"
      ]
     },
     "metadata": {},
     "output_type": "display_data"
    },
    {
     "data": {
      "text/plain": [
       "0: 384x640 18 persons, 8 cars, 26 motorcycles, 1 bus, 3 trucks, 1 backpack, 429.9ms\n"
      ]
     },
     "metadata": {},
     "output_type": "display_data"
    },
    {
     "data": {
      "text/plain": [
       "Speed: 2.1ms preprocess, 429.9ms inference, 1.0ms postprocess per image at shape (1, 3, 384, 640)\n"
      ]
     },
     "metadata": {},
     "output_type": "display_data"
    },
    {
     "data": {
      "text/plain": [
       "\n"
      ]
     },
     "metadata": {},
     "output_type": "display_data"
    },
    {
     "data": {
      "text/plain": [
       "0: 384x640 16 persons, 7 cars, 26 motorcycles, 1 bus, 2 trucks, 1 backpack, 405.0ms\n"
      ]
     },
     "metadata": {},
     "output_type": "display_data"
    },
    {
     "data": {
      "text/plain": [
       "Speed: 2.0ms preprocess, 405.0ms inference, 1.0ms postprocess per image at shape (1, 3, 384, 640)\n"
      ]
     },
     "metadata": {},
     "output_type": "display_data"
    },
    {
     "data": {
      "text/plain": [
       "\n"
      ]
     },
     "metadata": {},
     "output_type": "display_data"
    },
    {
     "data": {
      "text/plain": [
       "0: 384x640 16 persons, 7 cars, 27 motorcycles, 1 bus, 3 trucks, 1 backpack, 427.1ms\n"
      ]
     },
     "metadata": {},
     "output_type": "display_data"
    },
    {
     "data": {
      "text/plain": [
       "Speed: 1.9ms preprocess, 427.1ms inference, 1.0ms postprocess per image at shape (1, 3, 384, 640)\n"
      ]
     },
     "metadata": {},
     "output_type": "display_data"
    },
    {
     "data": {
      "text/plain": [
       "\n"
      ]
     },
     "metadata": {},
     "output_type": "display_data"
    },
    {
     "data": {
      "text/plain": [
       "0: 384x640 16 persons, 7 cars, 27 motorcycles, 1 bus, 3 trucks, 1 backpack, 404.0ms\n"
      ]
     },
     "metadata": {},
     "output_type": "display_data"
    },
    {
     "data": {
      "text/plain": [
       "Speed: 2.3ms preprocess, 404.0ms inference, 1.0ms postprocess per image at shape (1, 3, 384, 640)\n"
      ]
     },
     "metadata": {},
     "output_type": "display_data"
    },
    {
     "data": {
      "text/plain": [
       "\n"
      ]
     },
     "metadata": {},
     "output_type": "display_data"
    },
    {
     "data": {
      "text/plain": [
       "0: 384x640 16 persons, 7 cars, 27 motorcycles, 1 bus, 4 trucks, 1 backpack, 427.5ms\n"
      ]
     },
     "metadata": {},
     "output_type": "display_data"
    },
    {
     "data": {
      "text/plain": [
       "Speed: 1.9ms preprocess, 427.5ms inference, 1.1ms postprocess per image at shape (1, 3, 384, 640)\n"
      ]
     },
     "metadata": {},
     "output_type": "display_data"
    },
    {
     "data": {
      "text/plain": [
       "\n"
      ]
     },
     "metadata": {},
     "output_type": "display_data"
    },
    {
     "data": {
      "text/plain": [
       "0: 384x640 17 persons, 7 cars, 25 motorcycles, 1 bus, 3 trucks, 403.4ms\n"
      ]
     },
     "metadata": {},
     "output_type": "display_data"
    },
    {
     "data": {
      "text/plain": [
       "Speed: 2.9ms preprocess, 403.4ms inference, 1.0ms postprocess per image at shape (1, 3, 384, 640)\n"
      ]
     },
     "metadata": {},
     "output_type": "display_data"
    },
    {
     "data": {
      "text/plain": [
       "\n"
      ]
     },
     "metadata": {},
     "output_type": "display_data"
    },
    {
     "data": {
      "text/plain": [
       "0: 384x640 16 persons, 7 cars, 27 motorcycles, 1 bus, 3 trucks, 1 backpack, 425.5ms\n"
      ]
     },
     "metadata": {},
     "output_type": "display_data"
    },
    {
     "data": {
      "text/plain": [
       "Speed: 1.9ms preprocess, 425.5ms inference, 1.0ms postprocess per image at shape (1, 3, 384, 640)\n"
      ]
     },
     "metadata": {},
     "output_type": "display_data"
    },
    {
     "data": {
      "text/plain": [
       "\n"
      ]
     },
     "metadata": {},
     "output_type": "display_data"
    },
    {
     "data": {
      "text/plain": [
       "0: 384x640 16 persons, 6 cars, 28 motorcycles, 1 bus, 2 trucks, 1 backpack, 402.3ms\n"
      ]
     },
     "metadata": {},
     "output_type": "display_data"
    },
    {
     "data": {
      "text/plain": [
       "Speed: 2.0ms preprocess, 402.3ms inference, 1.2ms postprocess per image at shape (1, 3, 384, 640)\n"
      ]
     },
     "metadata": {},
     "output_type": "display_data"
    },
    {
     "data": {
      "text/plain": [
       "\n"
      ]
     },
     "metadata": {},
     "output_type": "display_data"
    },
    {
     "data": {
      "text/plain": [
       "0: 384x640 17 persons, 7 cars, 27 motorcycles, 1 bus, 2 trucks, 1 backpack, 425.0ms\n"
      ]
     },
     "metadata": {},
     "output_type": "display_data"
    },
    {
     "data": {
      "text/plain": [
       "Speed: 2.3ms preprocess, 425.0ms inference, 0.9ms postprocess per image at shape (1, 3, 384, 640)\n"
      ]
     },
     "metadata": {},
     "output_type": "display_data"
    },
    {
     "data": {
      "text/plain": [
       "\n"
      ]
     },
     "metadata": {},
     "output_type": "display_data"
    },
    {
     "data": {
      "text/plain": [
       "0: 384x640 17 persons, 7 cars, 26 motorcycles, 1 bus, 2 trucks, 389.3ms\n"
      ]
     },
     "metadata": {},
     "output_type": "display_data"
    },
    {
     "data": {
      "text/plain": [
       "Speed: 2.1ms preprocess, 389.3ms inference, 1.0ms postprocess per image at shape (1, 3, 384, 640)\n"
      ]
     },
     "metadata": {},
     "output_type": "display_data"
    },
    {
     "data": {
      "text/plain": [
       "\n"
      ]
     },
     "metadata": {},
     "output_type": "display_data"
    },
    {
     "data": {
      "text/plain": [
       "0: 384x640 17 persons, 6 cars, 27 motorcycles, 1 bus, 2 trucks, 433.2ms\n"
      ]
     },
     "metadata": {},
     "output_type": "display_data"
    },
    {
     "data": {
      "text/plain": [
       "Speed: 1.9ms preprocess, 433.2ms inference, 1.1ms postprocess per image at shape (1, 3, 384, 640)\n"
      ]
     },
     "metadata": {},
     "output_type": "display_data"
    },
    {
     "data": {
      "text/plain": [
       "\n"
      ]
     },
     "metadata": {},
     "output_type": "display_data"
    },
    {
     "data": {
      "text/plain": [
       "0: 384x640 16 persons, 6 cars, 27 motorcycles, 1 bus, 2 trucks, 396.9ms\n"
      ]
     },
     "metadata": {},
     "output_type": "display_data"
    },
    {
     "data": {
      "text/plain": [
       "Speed: 2.1ms preprocess, 396.9ms inference, 1.0ms postprocess per image at shape (1, 3, 384, 640)\n"
      ]
     },
     "metadata": {},
     "output_type": "display_data"
    },
    {
     "data": {
      "text/plain": [
       "\n"
      ]
     },
     "metadata": {},
     "output_type": "display_data"
    },
    {
     "data": {
      "text/plain": [
       "0: 384x640 16 persons, 6 cars, 26 motorcycles, 1 bus, 3 trucks, 396.4ms\n"
      ]
     },
     "metadata": {},
     "output_type": "display_data"
    },
    {
     "data": {
      "text/plain": [
       "Speed: 1.8ms preprocess, 396.4ms inference, 1.0ms postprocess per image at shape (1, 3, 384, 640)\n"
      ]
     },
     "metadata": {},
     "output_type": "display_data"
    },
    {
     "data": {
      "text/plain": [
       "\n"
      ]
     },
     "metadata": {},
     "output_type": "display_data"
    },
    {
     "data": {
      "text/plain": [
       "0: 384x640 16 persons, 6 cars, 28 motorcycles, 1 bus, 3 trucks, 1 backpack, 393.3ms\n"
      ]
     },
     "metadata": {},
     "output_type": "display_data"
    },
    {
     "data": {
      "text/plain": [
       "Speed: 2.1ms preprocess, 393.3ms inference, 1.0ms postprocess per image at shape (1, 3, 384, 640)\n"
      ]
     },
     "metadata": {},
     "output_type": "display_data"
    },
    {
     "data": {
      "text/plain": [
       "\n"
      ]
     },
     "metadata": {},
     "output_type": "display_data"
    },
    {
     "data": {
      "text/plain": [
       "0: 384x640 16 persons, 6 cars, 28 motorcycles, 1 bus, 3 trucks, 1 backpack, 414.0ms\n"
      ]
     },
     "metadata": {},
     "output_type": "display_data"
    },
    {
     "data": {
      "text/plain": [
       "Speed: 2.1ms preprocess, 414.0ms inference, 1.0ms postprocess per image at shape (1, 3, 384, 640)\n"
      ]
     },
     "metadata": {},
     "output_type": "display_data"
    },
    {
     "data": {
      "text/plain": [
       "\n"
      ]
     },
     "metadata": {},
     "output_type": "display_data"
    },
    {
     "data": {
      "text/plain": [
       "0: 384x640 16 persons, 6 cars, 29 motorcycles, 1 bus, 3 trucks, 1 backpack, 393.5ms\n"
      ]
     },
     "metadata": {},
     "output_type": "display_data"
    },
    {
     "data": {
      "text/plain": [
       "Speed: 1.9ms preprocess, 393.5ms inference, 1.2ms postprocess per image at shape (1, 3, 384, 640)\n"
      ]
     },
     "metadata": {},
     "output_type": "display_data"
    },
    {
     "data": {
      "text/plain": [
       "\n"
      ]
     },
     "metadata": {},
     "output_type": "display_data"
    },
    {
     "data": {
      "text/plain": [
       "0: 384x640 16 persons, 7 cars, 29 motorcycles, 1 bus, 3 trucks, 1 backpack, 406.0ms\n"
      ]
     },
     "metadata": {},
     "output_type": "display_data"
    },
    {
     "data": {
      "text/plain": [
       "Speed: 2.2ms preprocess, 406.0ms inference, 1.0ms postprocess per image at shape (1, 3, 384, 640)\n"
      ]
     },
     "metadata": {},
     "output_type": "display_data"
    },
    {
     "data": {
      "text/plain": [
       "\n"
      ]
     },
     "metadata": {},
     "output_type": "display_data"
    },
    {
     "data": {
      "text/plain": [
       "0: 384x640 16 persons, 7 cars, 28 motorcycles, 1 bus, 3 trucks, 1 backpack, 411.1ms\n"
      ]
     },
     "metadata": {},
     "output_type": "display_data"
    },
    {
     "data": {
      "text/plain": [
       "Speed: 2.1ms preprocess, 411.1ms inference, 1.0ms postprocess per image at shape (1, 3, 384, 640)\n"
      ]
     },
     "metadata": {},
     "output_type": "display_data"
    },
    {
     "data": {
      "text/plain": [
       "\n"
      ]
     },
     "metadata": {},
     "output_type": "display_data"
    },
    {
     "data": {
      "text/plain": [
       "0: 384x640 15 persons, 7 cars, 30 motorcycles, 1 bus, 3 trucks, 1 backpack, 431.3ms\n"
      ]
     },
     "metadata": {},
     "output_type": "display_data"
    },
    {
     "data": {
      "text/plain": [
       "Speed: 2.0ms preprocess, 431.3ms inference, 1.1ms postprocess per image at shape (1, 3, 384, 640)\n"
      ]
     },
     "metadata": {},
     "output_type": "display_data"
    },
    {
     "data": {
      "text/plain": [
       "\n"
      ]
     },
     "metadata": {},
     "output_type": "display_data"
    },
    {
     "data": {
      "text/plain": [
       "0: 384x640 16 persons, 7 cars, 28 motorcycles, 1 bus, 2 trucks, 1 backpack, 397.4ms\n"
      ]
     },
     "metadata": {},
     "output_type": "display_data"
    },
    {
     "data": {
      "text/plain": [
       "Speed: 2.2ms preprocess, 397.4ms inference, 1.0ms postprocess per image at shape (1, 3, 384, 640)\n"
      ]
     },
     "metadata": {},
     "output_type": "display_data"
    },
    {
     "data": {
      "text/plain": [
       "\n"
      ]
     },
     "metadata": {},
     "output_type": "display_data"
    },
    {
     "data": {
      "text/plain": [
       "0: 384x640 16 persons, 7 cars, 28 motorcycles, 1 bus, 2 trucks, 1 backpack, 419.7ms\n"
      ]
     },
     "metadata": {},
     "output_type": "display_data"
    },
    {
     "data": {
      "text/plain": [
       "Speed: 2.1ms preprocess, 419.7ms inference, 1.0ms postprocess per image at shape (1, 3, 384, 640)\n"
      ]
     },
     "metadata": {},
     "output_type": "display_data"
    },
    {
     "data": {
      "text/plain": [
       "\n"
      ]
     },
     "metadata": {},
     "output_type": "display_data"
    },
    {
     "data": {
      "text/plain": [
       "0: 384x640 15 persons, 7 cars, 29 motorcycles, 1 bus, 2 trucks, 1 backpack, 396.7ms\n"
      ]
     },
     "metadata": {},
     "output_type": "display_data"
    },
    {
     "data": {
      "text/plain": [
       "Speed: 2.2ms preprocess, 396.7ms inference, 1.0ms postprocess per image at shape (1, 3, 384, 640)\n"
      ]
     },
     "metadata": {},
     "output_type": "display_data"
    },
    {
     "data": {
      "text/plain": [
       "\n"
      ]
     },
     "metadata": {},
     "output_type": "display_data"
    },
    {
     "data": {
      "text/plain": [
       "0: 384x640 17 persons, 7 cars, 28 motorcycles, 1 bus, 2 trucks, 1 backpack, 420.6ms\n"
      ]
     },
     "metadata": {},
     "output_type": "display_data"
    },
    {
     "data": {
      "text/plain": [
       "Speed: 2.9ms preprocess, 420.6ms inference, 1.0ms postprocess per image at shape (1, 3, 384, 640)\n"
      ]
     },
     "metadata": {},
     "output_type": "display_data"
    },
    {
     "data": {
      "text/plain": [
       "\n"
      ]
     },
     "metadata": {},
     "output_type": "display_data"
    },
    {
     "data": {
      "text/plain": [
       "0: 384x640 18 persons, 6 cars, 27 motorcycles, 1 bus, 3 trucks, 1 backpack, 399.0ms\n"
      ]
     },
     "metadata": {},
     "output_type": "display_data"
    },
    {
     "data": {
      "text/plain": [
       "Speed: 2.2ms preprocess, 399.0ms inference, 1.0ms postprocess per image at shape (1, 3, 384, 640)\n"
      ]
     },
     "metadata": {},
     "output_type": "display_data"
    },
    {
     "data": {
      "text/plain": [
       "\n"
      ]
     },
     "metadata": {},
     "output_type": "display_data"
    },
    {
     "data": {
      "text/plain": [
       "0: 384x640 18 persons, 7 cars, 27 motorcycles, 1 bus, 2 trucks, 1 backpack, 420.3ms\n"
      ]
     },
     "metadata": {},
     "output_type": "display_data"
    },
    {
     "data": {
      "text/plain": [
       "Speed: 2.1ms preprocess, 420.3ms inference, 1.0ms postprocess per image at shape (1, 3, 384, 640)\n"
      ]
     },
     "metadata": {},
     "output_type": "display_data"
    },
    {
     "data": {
      "text/plain": [
       "\n"
      ]
     },
     "metadata": {},
     "output_type": "display_data"
    },
    {
     "data": {
      "text/plain": [
       "0: 384x640 18 persons, 6 cars, 27 motorcycles, 1 bus, 2 trucks, 1 backpack, 401.6ms\n"
      ]
     },
     "metadata": {},
     "output_type": "display_data"
    },
    {
     "data": {
      "text/plain": [
       "Speed: 2.9ms preprocess, 401.6ms inference, 1.8ms postprocess per image at shape (1, 3, 384, 640)\n"
      ]
     },
     "metadata": {},
     "output_type": "display_data"
    },
    {
     "data": {
      "text/plain": [
       "\n"
      ]
     },
     "metadata": {},
     "output_type": "display_data"
    },
    {
     "data": {
      "text/plain": [
       "0: 384x640 18 persons, 5 cars, 27 motorcycles, 1 bus, 4 trucks, 1 backpack, 413.5ms\n"
      ]
     },
     "metadata": {},
     "output_type": "display_data"
    },
    {
     "data": {
      "text/plain": [
       "Speed: 2.5ms preprocess, 413.5ms inference, 1.0ms postprocess per image at shape (1, 3, 384, 640)\n"
      ]
     },
     "metadata": {},
     "output_type": "display_data"
    },
    {
     "data": {
      "text/plain": [
       "\n"
      ]
     },
     "metadata": {},
     "output_type": "display_data"
    },
    {
     "data": {
      "text/plain": [
       "0: 384x640 17 persons, 6 cars, 27 motorcycles, 1 bus, 3 trucks, 1 backpack, 398.1ms\n"
      ]
     },
     "metadata": {},
     "output_type": "display_data"
    },
    {
     "data": {
      "text/plain": [
       "Speed: 2.1ms preprocess, 398.1ms inference, 1.0ms postprocess per image at shape (1, 3, 384, 640)\n"
      ]
     },
     "metadata": {},
     "output_type": "display_data"
    },
    {
     "data": {
      "text/plain": [
       "\n"
      ]
     },
     "metadata": {},
     "output_type": "display_data"
    },
    {
     "data": {
      "text/plain": [
       "0: 384x640 18 persons, 7 cars, 27 motorcycles, 1 bus, 3 trucks, 1 backpack, 415.8ms\n"
      ]
     },
     "metadata": {},
     "output_type": "display_data"
    },
    {
     "data": {
      "text/plain": [
       "Speed: 2.1ms preprocess, 415.8ms inference, 1.4ms postprocess per image at shape (1, 3, 384, 640)\n"
      ]
     },
     "metadata": {},
     "output_type": "display_data"
    },
    {
     "data": {
      "text/plain": [
       "\n"
      ]
     },
     "metadata": {},
     "output_type": "display_data"
    },
    {
     "data": {
      "text/plain": [
       "0: 384x640 18 persons, 7 cars, 27 motorcycles, 1 bus, 3 trucks, 1 backpack, 393.8ms\n"
      ]
     },
     "metadata": {},
     "output_type": "display_data"
    },
    {
     "data": {
      "text/plain": [
       "Speed: 2.0ms preprocess, 393.8ms inference, 1.1ms postprocess per image at shape (1, 3, 384, 640)\n"
      ]
     },
     "metadata": {},
     "output_type": "display_data"
    },
    {
     "data": {
      "text/plain": [
       "\n"
      ]
     },
     "metadata": {},
     "output_type": "display_data"
    },
    {
     "data": {
      "text/plain": [
       "0: 384x640 17 persons, 7 cars, 27 motorcycles, 1 bus, 3 trucks, 1 backpack, 412.9ms\n"
      ]
     },
     "metadata": {},
     "output_type": "display_data"
    },
    {
     "data": {
      "text/plain": [
       "Speed: 2.0ms preprocess, 412.9ms inference, 1.0ms postprocess per image at shape (1, 3, 384, 640)\n"
      ]
     },
     "metadata": {},
     "output_type": "display_data"
    },
    {
     "data": {
      "text/plain": [
       "\n"
      ]
     },
     "metadata": {},
     "output_type": "display_data"
    },
    {
     "data": {
      "text/plain": [
       "0: 384x640 18 persons, 7 cars, 27 motorcycles, 1 bus, 3 trucks, 1 backpack, 411.0ms\n"
      ]
     },
     "metadata": {},
     "output_type": "display_data"
    },
    {
     "data": {
      "text/plain": [
       "Speed: 2.2ms preprocess, 411.0ms inference, 1.1ms postprocess per image at shape (1, 3, 384, 640)\n"
      ]
     },
     "metadata": {},
     "output_type": "display_data"
    },
    {
     "data": {
      "text/plain": [
       "\n"
      ]
     },
     "metadata": {},
     "output_type": "display_data"
    },
    {
     "data": {
      "text/plain": [
       "0: 384x640 18 persons, 7 cars, 26 motorcycles, 1 bus, 3 trucks, 1 backpack, 416.1ms\n"
      ]
     },
     "metadata": {},
     "output_type": "display_data"
    },
    {
     "data": {
      "text/plain": [
       "Speed: 2.2ms preprocess, 416.1ms inference, 1.1ms postprocess per image at shape (1, 3, 384, 640)\n"
      ]
     },
     "metadata": {},
     "output_type": "display_data"
    },
    {
     "data": {
      "text/plain": [
       "\n"
      ]
     },
     "metadata": {},
     "output_type": "display_data"
    },
    {
     "data": {
      "text/plain": [
       "0: 384x640 18 persons, 7 cars, 26 motorcycles, 1 bus, 3 trucks, 1 backpack, 407.7ms\n"
      ]
     },
     "metadata": {},
     "output_type": "display_data"
    },
    {
     "data": {
      "text/plain": [
       "Speed: 2.1ms preprocess, 407.7ms inference, 1.0ms postprocess per image at shape (1, 3, 384, 640)\n"
      ]
     },
     "metadata": {},
     "output_type": "display_data"
    },
    {
     "data": {
      "text/plain": [
       "\n"
      ]
     },
     "metadata": {},
     "output_type": "display_data"
    },
    {
     "data": {
      "text/plain": [
       "0: 384x640 18 persons, 5 cars, 24 motorcycles, 1 bus, 3 trucks, 1 backpack, 415.6ms\n"
      ]
     },
     "metadata": {},
     "output_type": "display_data"
    },
    {
     "data": {
      "text/plain": [
       "Speed: 3.0ms preprocess, 415.6ms inference, 1.7ms postprocess per image at shape (1, 3, 384, 640)\n"
      ]
     },
     "metadata": {},
     "output_type": "display_data"
    },
    {
     "data": {
      "text/plain": [
       "\n"
      ]
     },
     "metadata": {},
     "output_type": "display_data"
    },
    {
     "data": {
      "text/plain": [
       "0: 384x640 18 persons, 5 cars, 27 motorcycles, 1 bus, 4 trucks, 1 backpack, 400.5ms\n"
      ]
     },
     "metadata": {},
     "output_type": "display_data"
    },
    {
     "data": {
      "text/plain": [
       "Speed: 2.3ms preprocess, 400.5ms inference, 1.0ms postprocess per image at shape (1, 3, 384, 640)\n"
      ]
     },
     "metadata": {},
     "output_type": "display_data"
    },
    {
     "data": {
      "text/plain": [
       "\n"
      ]
     },
     "metadata": {},
     "output_type": "display_data"
    },
    {
     "data": {
      "text/plain": [
       "0: 384x640 18 persons, 4 cars, 28 motorcycles, 1 bus, 5 trucks, 1 backpack, 394.8ms\n"
      ]
     },
     "metadata": {},
     "output_type": "display_data"
    },
    {
     "data": {
      "text/plain": [
       "Speed: 2.8ms preprocess, 394.8ms inference, 1.0ms postprocess per image at shape (1, 3, 384, 640)\n"
      ]
     },
     "metadata": {},
     "output_type": "display_data"
    },
    {
     "data": {
      "text/plain": [
       "\n"
      ]
     },
     "metadata": {},
     "output_type": "display_data"
    },
    {
     "data": {
      "text/plain": [
       "0: 384x640 18 persons, 5 cars, 27 motorcycles, 1 bus, 4 trucks, 1 backpack, 403.0ms\n"
      ]
     },
     "metadata": {},
     "output_type": "display_data"
    },
    {
     "data": {
      "text/plain": [
       "Speed: 11.8ms preprocess, 403.0ms inference, 1.0ms postprocess per image at shape (1, 3, 384, 640)\n"
      ]
     },
     "metadata": {},
     "output_type": "display_data"
    },
    {
     "data": {
      "text/plain": [
       "\n"
      ]
     },
     "metadata": {},
     "output_type": "display_data"
    },
    {
     "data": {
      "text/plain": [
       "0: 384x640 18 persons, 6 cars, 27 motorcycles, 1 bus, 4 trucks, 1 backpack, 392.2ms\n"
      ]
     },
     "metadata": {},
     "output_type": "display_data"
    },
    {
     "data": {
      "text/plain": [
       "Speed: 2.0ms preprocess, 392.2ms inference, 1.0ms postprocess per image at shape (1, 3, 384, 640)\n"
      ]
     },
     "metadata": {},
     "output_type": "display_data"
    },
    {
     "data": {
      "text/plain": [
       "\n"
      ]
     },
     "metadata": {},
     "output_type": "display_data"
    },
    {
     "data": {
      "text/plain": [
       "0: 384x640 18 persons, 6 cars, 26 motorcycles, 1 bus, 4 trucks, 1 backpack, 400.9ms\n"
      ]
     },
     "metadata": {},
     "output_type": "display_data"
    },
    {
     "data": {
      "text/plain": [
       "Speed: 1.9ms preprocess, 400.9ms inference, 1.0ms postprocess per image at shape (1, 3, 384, 640)\n"
      ]
     },
     "metadata": {},
     "output_type": "display_data"
    },
    {
     "data": {
      "text/plain": [
       "\n"
      ]
     },
     "metadata": {},
     "output_type": "display_data"
    },
    {
     "data": {
      "text/plain": [
       "0: 384x640 18 persons, 5 cars, 26 motorcycles, 1 bus, 5 trucks, 1 backpack, 387.8ms\n"
      ]
     },
     "metadata": {},
     "output_type": "display_data"
    },
    {
     "data": {
      "text/plain": [
       "Speed: 1.9ms preprocess, 387.8ms inference, 1.0ms postprocess per image at shape (1, 3, 384, 640)\n"
      ]
     },
     "metadata": {},
     "output_type": "display_data"
    },
    {
     "data": {
      "text/plain": [
       "\n"
      ]
     },
     "metadata": {},
     "output_type": "display_data"
    },
    {
     "data": {
      "text/plain": [
       "0: 384x640 19 persons, 5 cars, 26 motorcycles, 1 bus, 5 trucks, 1 backpack, 408.0ms\n"
      ]
     },
     "metadata": {},
     "output_type": "display_data"
    },
    {
     "data": {
      "text/plain": [
       "Speed: 2.0ms preprocess, 408.0ms inference, 0.9ms postprocess per image at shape (1, 3, 384, 640)\n"
      ]
     },
     "metadata": {},
     "output_type": "display_data"
    },
    {
     "data": {
      "text/plain": [
       "\n"
      ]
     },
     "metadata": {},
     "output_type": "display_data"
    },
    {
     "data": {
      "text/plain": [
       "0: 384x640 19 persons, 6 cars, 28 motorcycles, 1 bus, 3 trucks, 1 backpack, 393.9ms\n"
      ]
     },
     "metadata": {},
     "output_type": "display_data"
    },
    {
     "data": {
      "text/plain": [
       "Speed: 2.1ms preprocess, 393.9ms inference, 1.0ms postprocess per image at shape (1, 3, 384, 640)\n"
      ]
     },
     "metadata": {},
     "output_type": "display_data"
    },
    {
     "data": {
      "text/plain": [
       "\n"
      ]
     },
     "metadata": {},
     "output_type": "display_data"
    },
    {
     "data": {
      "text/plain": [
       "0: 384x640 19 persons, 7 cars, 28 motorcycles, 1 bus, 2 trucks, 1 backpack, 401.3ms\n"
      ]
     },
     "metadata": {},
     "output_type": "display_data"
    },
    {
     "data": {
      "text/plain": [
       "Speed: 1.8ms preprocess, 401.3ms inference, 0.9ms postprocess per image at shape (1, 3, 384, 640)\n"
      ]
     },
     "metadata": {},
     "output_type": "display_data"
    },
    {
     "data": {
      "text/plain": [
       "\n"
      ]
     },
     "metadata": {},
     "output_type": "display_data"
    },
    {
     "data": {
      "text/plain": [
       "0: 384x640 19 persons, 6 cars, 29 motorcycles, 1 bus, 2 trucks, 1 backpack, 384.4ms\n"
      ]
     },
     "metadata": {},
     "output_type": "display_data"
    },
    {
     "data": {
      "text/plain": [
       "Speed: 2.1ms preprocess, 384.4ms inference, 1.0ms postprocess per image at shape (1, 3, 384, 640)\n"
      ]
     },
     "metadata": {},
     "output_type": "display_data"
    },
    {
     "data": {
      "text/plain": [
       "\n"
      ]
     },
     "metadata": {},
     "output_type": "display_data"
    },
    {
     "data": {
      "text/plain": [
       "0: 384x640 19 persons, 6 cars, 28 motorcycles, 1 bus, 2 trucks, 1 backpack, 412.2ms\n"
      ]
     },
     "metadata": {},
     "output_type": "display_data"
    },
    {
     "data": {
      "text/plain": [
       "Speed: 1.9ms preprocess, 412.2ms inference, 1.0ms postprocess per image at shape (1, 3, 384, 640)\n"
      ]
     },
     "metadata": {},
     "output_type": "display_data"
    },
    {
     "data": {
      "text/plain": [
       "\n"
      ]
     },
     "metadata": {},
     "output_type": "display_data"
    },
    {
     "data": {
      "text/plain": [
       "0: 384x640 19 persons, 6 cars, 26 motorcycles, 1 bus, 3 trucks, 1 backpack, 398.5ms\n"
      ]
     },
     "metadata": {},
     "output_type": "display_data"
    },
    {
     "data": {
      "text/plain": [
       "Speed: 2.0ms preprocess, 398.5ms inference, 1.0ms postprocess per image at shape (1, 3, 384, 640)\n"
      ]
     },
     "metadata": {},
     "output_type": "display_data"
    },
    {
     "data": {
      "text/plain": [
       "\n"
      ]
     },
     "metadata": {},
     "output_type": "display_data"
    },
    {
     "data": {
      "text/plain": [
       "0: 384x640 19 persons, 6 cars, 26 motorcycles, 1 bus, 3 trucks, 1 backpack, 405.3ms\n"
      ]
     },
     "metadata": {},
     "output_type": "display_data"
    },
    {
     "data": {
      "text/plain": [
       "Speed: 2.0ms preprocess, 405.3ms inference, 1.0ms postprocess per image at shape (1, 3, 384, 640)\n"
      ]
     },
     "metadata": {},
     "output_type": "display_data"
    },
    {
     "data": {
      "text/plain": [
       "\n"
      ]
     },
     "metadata": {},
     "output_type": "display_data"
    },
    {
     "data": {
      "text/plain": [
       "0: 384x640 19 persons, 6 cars, 26 motorcycles, 1 bus, 3 trucks, 388.3ms\n"
      ]
     },
     "metadata": {},
     "output_type": "display_data"
    },
    {
     "data": {
      "text/plain": [
       "Speed: 2.2ms preprocess, 388.3ms inference, 1.0ms postprocess per image at shape (1, 3, 384, 640)\n"
      ]
     },
     "metadata": {},
     "output_type": "display_data"
    },
    {
     "data": {
      "text/plain": [
       "\n"
      ]
     },
     "metadata": {},
     "output_type": "display_data"
    },
    {
     "data": {
      "text/plain": [
       "0: 384x640 19 persons, 6 cars, 26 motorcycles, 1 bus, 3 trucks, 407.9ms\n"
      ]
     },
     "metadata": {},
     "output_type": "display_data"
    },
    {
     "data": {
      "text/plain": [
       "Speed: 2.1ms preprocess, 407.9ms inference, 1.0ms postprocess per image at shape (1, 3, 384, 640)\n"
      ]
     },
     "metadata": {},
     "output_type": "display_data"
    },
    {
     "data": {
      "text/plain": [
       "\n"
      ]
     },
     "metadata": {},
     "output_type": "display_data"
    },
    {
     "data": {
      "text/plain": [
       "0: 384x640 18 persons, 6 cars, 27 motorcycles, 1 bus, 3 trucks, 392.0ms\n"
      ]
     },
     "metadata": {},
     "output_type": "display_data"
    },
    {
     "data": {
      "text/plain": [
       "Speed: 3.0ms preprocess, 392.0ms inference, 1.0ms postprocess per image at shape (1, 3, 384, 640)\n"
      ]
     },
     "metadata": {},
     "output_type": "display_data"
    },
    {
     "data": {
      "text/plain": [
       "\n"
      ]
     },
     "metadata": {},
     "output_type": "display_data"
    },
    {
     "data": {
      "text/plain": [
       "0: 384x640 18 persons, 6 cars, 27 motorcycles, 1 bus, 3 trucks, 409.7ms\n"
      ]
     },
     "metadata": {},
     "output_type": "display_data"
    },
    {
     "data": {
      "text/plain": [
       "Speed: 2.0ms preprocess, 409.7ms inference, 1.0ms postprocess per image at shape (1, 3, 384, 640)\n"
      ]
     },
     "metadata": {},
     "output_type": "display_data"
    },
    {
     "data": {
      "text/plain": [
       "\n"
      ]
     },
     "metadata": {},
     "output_type": "display_data"
    },
    {
     "data": {
      "text/plain": [
       "0: 384x640 18 persons, 6 cars, 29 motorcycles, 1 bus, 3 trucks, 396.5ms\n"
      ]
     },
     "metadata": {},
     "output_type": "display_data"
    },
    {
     "data": {
      "text/plain": [
       "Speed: 3.1ms preprocess, 396.5ms inference, 2.0ms postprocess per image at shape (1, 3, 384, 640)\n"
      ]
     },
     "metadata": {},
     "output_type": "display_data"
    },
    {
     "data": {
      "text/plain": [
       "\n"
      ]
     },
     "metadata": {},
     "output_type": "display_data"
    },
    {
     "data": {
      "text/plain": [
       "0: 384x640 18 persons, 6 cars, 28 motorcycles, 1 bus, 3 trucks, 426.1ms\n"
      ]
     },
     "metadata": {},
     "output_type": "display_data"
    },
    {
     "data": {
      "text/plain": [
       "Speed: 2.0ms preprocess, 426.1ms inference, 1.0ms postprocess per image at shape (1, 3, 384, 640)\n"
      ]
     },
     "metadata": {},
     "output_type": "display_data"
    },
    {
     "data": {
      "text/plain": [
       "\n"
      ]
     },
     "metadata": {},
     "output_type": "display_data"
    },
    {
     "data": {
      "text/plain": [
       "0: 384x640 18 persons, 6 cars, 29 motorcycles, 1 bus, 3 trucks, 429.9ms\n"
      ]
     },
     "metadata": {},
     "output_type": "display_data"
    },
    {
     "data": {
      "text/plain": [
       "Speed: 2.2ms preprocess, 429.9ms inference, 1.0ms postprocess per image at shape (1, 3, 384, 640)\n"
      ]
     },
     "metadata": {},
     "output_type": "display_data"
    },
    {
     "data": {
      "text/plain": [
       "\n"
      ]
     },
     "metadata": {},
     "output_type": "display_data"
    },
    {
     "data": {
      "text/plain": [
       "0: 384x640 18 persons, 6 cars, 29 motorcycles, 1 bus, 3 trucks, 430.9ms\n"
      ]
     },
     "metadata": {},
     "output_type": "display_data"
    },
    {
     "data": {
      "text/plain": [
       "Speed: 2.3ms preprocess, 430.9ms inference, 1.0ms postprocess per image at shape (1, 3, 384, 640)\n"
      ]
     },
     "metadata": {},
     "output_type": "display_data"
    },
    {
     "data": {
      "text/plain": [
       "\n"
      ]
     },
     "metadata": {},
     "output_type": "display_data"
    },
    {
     "data": {
      "text/plain": [
       "0: 384x640 18 persons, 6 cars, 27 motorcycles, 1 bus, 4 trucks, 415.2ms\n"
      ]
     },
     "metadata": {},
     "output_type": "display_data"
    },
    {
     "data": {
      "text/plain": [
       "Speed: 2.4ms preprocess, 415.2ms inference, 1.0ms postprocess per image at shape (1, 3, 384, 640)\n"
      ]
     },
     "metadata": {},
     "output_type": "display_data"
    },
    {
     "data": {
      "text/plain": [
       "\n"
      ]
     },
     "metadata": {},
     "output_type": "display_data"
    },
    {
     "data": {
      "text/plain": [
       "0: 384x640 17 persons, 6 cars, 27 motorcycles, 1 bus, 4 trucks, 425.6ms\n"
      ]
     },
     "metadata": {},
     "output_type": "display_data"
    },
    {
     "data": {
      "text/plain": [
       "Speed: 3.1ms preprocess, 425.6ms inference, 1.0ms postprocess per image at shape (1, 3, 384, 640)\n"
      ]
     },
     "metadata": {},
     "output_type": "display_data"
    },
    {
     "data": {
      "text/plain": [
       "\n"
      ]
     },
     "metadata": {},
     "output_type": "display_data"
    },
    {
     "data": {
      "text/plain": [
       "0: 384x640 17 persons, 6 cars, 28 motorcycles, 1 bus, 4 trucks, 408.6ms\n"
      ]
     },
     "metadata": {},
     "output_type": "display_data"
    },
    {
     "data": {
      "text/plain": [
       "Speed: 2.0ms preprocess, 408.6ms inference, 1.0ms postprocess per image at shape (1, 3, 384, 640)\n"
      ]
     },
     "metadata": {},
     "output_type": "display_data"
    },
    {
     "data": {
      "text/plain": [
       "\n"
      ]
     },
     "metadata": {},
     "output_type": "display_data"
    },
    {
     "data": {
      "text/plain": [
       "0: 384x640 17 persons, 6 cars, 29 motorcycles, 1 bus, 4 trucks, 1 potted plant, 418.6ms\n"
      ]
     },
     "metadata": {},
     "output_type": "display_data"
    },
    {
     "data": {
      "text/plain": [
       "Speed: 3.0ms preprocess, 418.6ms inference, 1.0ms postprocess per image at shape (1, 3, 384, 640)\n"
      ]
     },
     "metadata": {},
     "output_type": "display_data"
    },
    {
     "data": {
      "text/plain": [
       "\n"
      ]
     },
     "metadata": {},
     "output_type": "display_data"
    },
    {
     "data": {
      "text/plain": [
       "0: 384x640 16 persons, 6 cars, 28 motorcycles, 1 bus, 4 trucks, 1 potted plant, 408.6ms\n"
      ]
     },
     "metadata": {},
     "output_type": "display_data"
    },
    {
     "data": {
      "text/plain": [
       "Speed: 2.0ms preprocess, 408.6ms inference, 1.0ms postprocess per image at shape (1, 3, 384, 640)\n"
      ]
     },
     "metadata": {},
     "output_type": "display_data"
    },
    {
     "data": {
      "text/plain": [
       "\n"
      ]
     },
     "metadata": {},
     "output_type": "display_data"
    },
    {
     "data": {
      "text/plain": [
       "0: 384x640 16 persons, 6 cars, 27 motorcycles, 1 bus, 4 trucks, 1 potted plant, 421.5ms\n"
      ]
     },
     "metadata": {},
     "output_type": "display_data"
    },
    {
     "data": {
      "text/plain": [
       "Speed: 2.3ms preprocess, 421.5ms inference, 1.0ms postprocess per image at shape (1, 3, 384, 640)\n"
      ]
     },
     "metadata": {},
     "output_type": "display_data"
    },
    {
     "data": {
      "text/plain": [
       "\n"
      ]
     },
     "metadata": {},
     "output_type": "display_data"
    },
    {
     "data": {
      "text/plain": [
       "0: 384x640 16 persons, 6 cars, 28 motorcycles, 1 bus, 4 trucks, 1 potted plant, 418.2ms\n"
      ]
     },
     "metadata": {},
     "output_type": "display_data"
    },
    {
     "data": {
      "text/plain": [
       "Speed: 1.9ms preprocess, 418.2ms inference, 1.0ms postprocess per image at shape (1, 3, 384, 640)\n"
      ]
     },
     "metadata": {},
     "output_type": "display_data"
    },
    {
     "data": {
      "text/plain": [
       "\n"
      ]
     },
     "metadata": {},
     "output_type": "display_data"
    },
    {
     "data": {
      "text/plain": [
       "0: 384x640 16 persons, 6 cars, 30 motorcycles, 1 bus, 4 trucks, 1 potted plant, 434.5ms\n"
      ]
     },
     "metadata": {},
     "output_type": "display_data"
    },
    {
     "data": {
      "text/plain": [
       "Speed: 1.9ms preprocess, 434.5ms inference, 1.0ms postprocess per image at shape (1, 3, 384, 640)\n"
      ]
     },
     "metadata": {},
     "output_type": "display_data"
    },
    {
     "data": {
      "text/plain": [
       "\n"
      ]
     },
     "metadata": {},
     "output_type": "display_data"
    },
    {
     "data": {
      "text/plain": [
       "0: 384x640 16 persons, 6 cars, 29 motorcycles, 1 bus, 4 trucks, 1 potted plant, 410.2ms\n"
      ]
     },
     "metadata": {},
     "output_type": "display_data"
    },
    {
     "data": {
      "text/plain": [
       "Speed: 2.2ms preprocess, 410.2ms inference, 1.0ms postprocess per image at shape (1, 3, 384, 640)\n"
      ]
     },
     "metadata": {},
     "output_type": "display_data"
    },
    {
     "data": {
      "text/plain": [
       "\n"
      ]
     },
     "metadata": {},
     "output_type": "display_data"
    },
    {
     "data": {
      "text/plain": [
       "0: 384x640 16 persons, 7 cars, 30 motorcycles, 1 bus, 4 trucks, 1 potted plant, 427.8ms\n"
      ]
     },
     "metadata": {},
     "output_type": "display_data"
    },
    {
     "data": {
      "text/plain": [
       "Speed: 2.0ms preprocess, 427.8ms inference, 1.0ms postprocess per image at shape (1, 3, 384, 640)\n"
      ]
     },
     "metadata": {},
     "output_type": "display_data"
    },
    {
     "data": {
      "text/plain": [
       "\n"
      ]
     },
     "metadata": {},
     "output_type": "display_data"
    },
    {
     "data": {
      "text/plain": [
       "0: 384x640 16 persons, 7 cars, 28 motorcycles, 1 bus, 4 trucks, 1 backpack, 1 potted plant, 405.2ms\n"
      ]
     },
     "metadata": {},
     "output_type": "display_data"
    },
    {
     "data": {
      "text/plain": [
       "Speed: 2.9ms preprocess, 405.2ms inference, 1.0ms postprocess per image at shape (1, 3, 384, 640)\n"
      ]
     },
     "metadata": {},
     "output_type": "display_data"
    },
    {
     "data": {
      "text/plain": [
       "\n"
      ]
     },
     "metadata": {},
     "output_type": "display_data"
    },
    {
     "data": {
      "text/plain": [
       "0: 384x640 16 persons, 7 cars, 28 motorcycles, 1 bus, 4 trucks, 1 backpack, 1 potted plant, 423.3ms\n"
      ]
     },
     "metadata": {},
     "output_type": "display_data"
    },
    {
     "data": {
      "text/plain": [
       "Speed: 2.1ms preprocess, 423.3ms inference, 1.3ms postprocess per image at shape (1, 3, 384, 640)\n"
      ]
     },
     "metadata": {},
     "output_type": "display_data"
    },
    {
     "data": {
      "text/plain": [
       "\n"
      ]
     },
     "metadata": {},
     "output_type": "display_data"
    },
    {
     "data": {
      "text/plain": [
       "0: 384x640 15 persons, 7 cars, 29 motorcycles, 1 bus, 4 trucks, 2 backpacks, 1 potted plant, 395.7ms\n"
      ]
     },
     "metadata": {},
     "output_type": "display_data"
    },
    {
     "data": {
      "text/plain": [
       "Speed: 2.2ms preprocess, 395.7ms inference, 1.0ms postprocess per image at shape (1, 3, 384, 640)\n"
      ]
     },
     "metadata": {},
     "output_type": "display_data"
    },
    {
     "data": {
      "text/plain": [
       "\n"
      ]
     },
     "metadata": {},
     "output_type": "display_data"
    },
    {
     "data": {
      "text/plain": [
       "0: 384x640 16 persons, 7 cars, 28 motorcycles, 1 bus, 4 trucks, 1 backpack, 1 potted plant, 405.3ms\n"
      ]
     },
     "metadata": {},
     "output_type": "display_data"
    },
    {
     "data": {
      "text/plain": [
       "Speed: 2.1ms preprocess, 405.3ms inference, 1.0ms postprocess per image at shape (1, 3, 384, 640)\n"
      ]
     },
     "metadata": {},
     "output_type": "display_data"
    },
    {
     "data": {
      "text/plain": [
       "\n"
      ]
     },
     "metadata": {},
     "output_type": "display_data"
    },
    {
     "data": {
      "text/plain": [
       "0: 384x640 14 persons, 7 cars, 28 motorcycles, 1 bus, 4 trucks, 2 backpacks, 1 potted plant, 393.2ms\n"
      ]
     },
     "metadata": {},
     "output_type": "display_data"
    },
    {
     "data": {
      "text/plain": [
       "Speed: 2.0ms preprocess, 393.2ms inference, 1.0ms postprocess per image at shape (1, 3, 384, 640)\n"
      ]
     },
     "metadata": {},
     "output_type": "display_data"
    },
    {
     "data": {
      "text/plain": [
       "\n"
      ]
     },
     "metadata": {},
     "output_type": "display_data"
    },
    {
     "data": {
      "text/plain": [
       "0: 384x640 14 persons, 7 cars, 28 motorcycles, 1 bus, 3 trucks, 2 backpacks, 1 potted plant, 423.2ms\n"
      ]
     },
     "metadata": {},
     "output_type": "display_data"
    },
    {
     "data": {
      "text/plain": [
       "Speed: 1.9ms preprocess, 423.2ms inference, 0.9ms postprocess per image at shape (1, 3, 384, 640)\n"
      ]
     },
     "metadata": {},
     "output_type": "display_data"
    },
    {
     "data": {
      "text/plain": [
       "\n"
      ]
     },
     "metadata": {},
     "output_type": "display_data"
    },
    {
     "data": {
      "text/plain": [
       "0: 384x640 15 persons, 7 cars, 28 motorcycles, 1 bus, 3 trucks, 1 potted plant, 388.3ms\n"
      ]
     },
     "metadata": {},
     "output_type": "display_data"
    },
    {
     "data": {
      "text/plain": [
       "Speed: 2.3ms preprocess, 388.3ms inference, 1.4ms postprocess per image at shape (1, 3, 384, 640)\n"
      ]
     },
     "metadata": {},
     "output_type": "display_data"
    },
    {
     "data": {
      "text/plain": [
       "\n"
      ]
     },
     "metadata": {},
     "output_type": "display_data"
    },
    {
     "data": {
      "text/plain": [
       "0: 384x640 15 persons, 6 cars, 28 motorcycles, 1 bus, 3 trucks, 1 potted plant, 408.2ms\n"
      ]
     },
     "metadata": {},
     "output_type": "display_data"
    },
    {
     "data": {
      "text/plain": [
       "Speed: 2.0ms preprocess, 408.2ms inference, 1.0ms postprocess per image at shape (1, 3, 384, 640)\n"
      ]
     },
     "metadata": {},
     "output_type": "display_data"
    },
    {
     "data": {
      "text/plain": [
       "\n"
      ]
     },
     "metadata": {},
     "output_type": "display_data"
    },
    {
     "data": {
      "text/plain": [
       "0: 384x640 16 persons, 6 cars, 29 motorcycles, 1 bus, 3 trucks, 1 potted plant, 390.5ms\n"
      ]
     },
     "metadata": {},
     "output_type": "display_data"
    },
    {
     "data": {
      "text/plain": [
       "Speed: 3.0ms preprocess, 390.5ms inference, 1.0ms postprocess per image at shape (1, 3, 384, 640)\n"
      ]
     },
     "metadata": {},
     "output_type": "display_data"
    },
    {
     "data": {
      "text/plain": [
       "\n"
      ]
     },
     "metadata": {},
     "output_type": "display_data"
    },
    {
     "data": {
      "text/plain": [
       "0: 384x640 17 persons, 7 cars, 29 motorcycles, 1 bus, 3 trucks, 1 potted plant, 409.8ms\n"
      ]
     },
     "metadata": {},
     "output_type": "display_data"
    },
    {
     "data": {
      "text/plain": [
       "Speed: 2.0ms preprocess, 409.8ms inference, 1.0ms postprocess per image at shape (1, 3, 384, 640)\n"
      ]
     },
     "metadata": {},
     "output_type": "display_data"
    },
    {
     "data": {
      "text/plain": [
       "\n"
      ]
     },
     "metadata": {},
     "output_type": "display_data"
    },
    {
     "data": {
      "text/plain": [
       "0: 384x640 17 persons, 7 cars, 30 motorcycles, 1 bus, 4 trucks, 1 potted plant, 394.1ms\n"
      ]
     },
     "metadata": {},
     "output_type": "display_data"
    },
    {
     "data": {
      "text/plain": [
       "Speed: 1.9ms preprocess, 394.1ms inference, 1.0ms postprocess per image at shape (1, 3, 384, 640)\n"
      ]
     },
     "metadata": {},
     "output_type": "display_data"
    },
    {
     "data": {
      "text/plain": [
       "\n"
      ]
     },
     "metadata": {},
     "output_type": "display_data"
    },
    {
     "data": {
      "text/plain": [
       "0: 384x640 18 persons, 7 cars, 29 motorcycles, 1 bus, 4 trucks, 1 potted plant, 413.4ms\n"
      ]
     },
     "metadata": {},
     "output_type": "display_data"
    },
    {
     "data": {
      "text/plain": [
       "Speed: 1.9ms preprocess, 413.4ms inference, 1.0ms postprocess per image at shape (1, 3, 384, 640)\n"
      ]
     },
     "metadata": {},
     "output_type": "display_data"
    },
    {
     "data": {
      "text/plain": [
       "\n"
      ]
     },
     "metadata": {},
     "output_type": "display_data"
    },
    {
     "data": {
      "text/plain": [
       "0: 384x640 18 persons, 7 cars, 29 motorcycles, 1 bus, 4 trucks, 1 potted plant, 405.0ms\n"
      ]
     },
     "metadata": {},
     "output_type": "display_data"
    },
    {
     "data": {
      "text/plain": [
       "Speed: 1.9ms preprocess, 405.0ms inference, 1.0ms postprocess per image at shape (1, 3, 384, 640)\n"
      ]
     },
     "metadata": {},
     "output_type": "display_data"
    },
    {
     "data": {
      "text/plain": [
       "\n"
      ]
     },
     "metadata": {},
     "output_type": "display_data"
    },
    {
     "data": {
      "text/plain": [
       "0: 384x640 19 persons, 7 cars, 27 motorcycles, 1 bus, 4 trucks, 1 potted plant, 412.4ms\n"
      ]
     },
     "metadata": {},
     "output_type": "display_data"
    },
    {
     "data": {
      "text/plain": [
       "Speed: 2.0ms preprocess, 412.4ms inference, 1.0ms postprocess per image at shape (1, 3, 384, 640)\n"
      ]
     },
     "metadata": {},
     "output_type": "display_data"
    },
    {
     "data": {
      "text/plain": [
       "\n"
      ]
     },
     "metadata": {},
     "output_type": "display_data"
    },
    {
     "data": {
      "text/plain": [
       "0: 384x640 18 persons, 7 cars, 25 motorcycles, 1 bus, 4 trucks, 1 potted plant, 400.5ms\n"
      ]
     },
     "metadata": {},
     "output_type": "display_data"
    },
    {
     "data": {
      "text/plain": [
       "Speed: 2.3ms preprocess, 400.5ms inference, 1.0ms postprocess per image at shape (1, 3, 384, 640)\n"
      ]
     },
     "metadata": {},
     "output_type": "display_data"
    },
    {
     "data": {
      "text/plain": [
       "\n"
      ]
     },
     "metadata": {},
     "output_type": "display_data"
    },
    {
     "data": {
      "text/plain": [
       "0: 384x640 18 persons, 7 cars, 25 motorcycles, 1 bus, 4 trucks, 1 potted plant, 409.8ms\n"
      ]
     },
     "metadata": {},
     "output_type": "display_data"
    },
    {
     "data": {
      "text/plain": [
       "Speed: 2.1ms preprocess, 409.8ms inference, 1.0ms postprocess per image at shape (1, 3, 384, 640)\n"
      ]
     },
     "metadata": {},
     "output_type": "display_data"
    },
    {
     "data": {
      "text/plain": [
       "\n"
      ]
     },
     "metadata": {},
     "output_type": "display_data"
    },
    {
     "data": {
      "text/plain": [
       "0: 384x640 17 persons, 7 cars, 24 motorcycles, 1 bus, 4 trucks, 1 potted plant, 401.6ms\n"
      ]
     },
     "metadata": {},
     "output_type": "display_data"
    },
    {
     "data": {
      "text/plain": [
       "Speed: 2.0ms preprocess, 401.6ms inference, 1.6ms postprocess per image at shape (1, 3, 384, 640)\n"
      ]
     },
     "metadata": {},
     "output_type": "display_data"
    },
    {
     "data": {
      "text/plain": [
       "\n"
      ]
     },
     "metadata": {},
     "output_type": "display_data"
    },
    {
     "data": {
      "text/plain": [
       "0: 384x640 17 persons, 7 cars, 26 motorcycles, 1 bus, 4 trucks, 1 potted plant, 417.4ms\n"
      ]
     },
     "metadata": {},
     "output_type": "display_data"
    },
    {
     "data": {
      "text/plain": [
       "Speed: 2.2ms preprocess, 417.4ms inference, 1.1ms postprocess per image at shape (1, 3, 384, 640)\n"
      ]
     },
     "metadata": {},
     "output_type": "display_data"
    },
    {
     "data": {
      "text/plain": [
       "\n"
      ]
     },
     "metadata": {},
     "output_type": "display_data"
    },
    {
     "data": {
      "text/plain": [
       "0: 384x640 16 persons, 7 cars, 28 motorcycles, 1 bus, 4 trucks, 1 potted plant, 404.0ms\n"
      ]
     },
     "metadata": {},
     "output_type": "display_data"
    },
    {
     "data": {
      "text/plain": [
       "Speed: 2.4ms preprocess, 404.0ms inference, 1.0ms postprocess per image at shape (1, 3, 384, 640)\n"
      ]
     },
     "metadata": {},
     "output_type": "display_data"
    },
    {
     "data": {
      "text/plain": [
       "\n"
      ]
     },
     "metadata": {},
     "output_type": "display_data"
    },
    {
     "data": {
      "text/plain": [
       "0: 384x640 16 persons, 7 cars, 26 motorcycles, 1 bus, 4 trucks, 1 potted plant, 415.9ms\n"
      ]
     },
     "metadata": {},
     "output_type": "display_data"
    },
    {
     "data": {
      "text/plain": [
       "Speed: 3.1ms preprocess, 415.9ms inference, 1.1ms postprocess per image at shape (1, 3, 384, 640)\n"
      ]
     },
     "metadata": {},
     "output_type": "display_data"
    },
    {
     "data": {
      "text/plain": [
       "\n"
      ]
     },
     "metadata": {},
     "output_type": "display_data"
    },
    {
     "data": {
      "text/plain": [
       "0: 384x640 16 persons, 7 cars, 29 motorcycles, 1 bus, 4 trucks, 1 potted plant, 402.8ms\n"
      ]
     },
     "metadata": {},
     "output_type": "display_data"
    },
    {
     "data": {
      "text/plain": [
       "Speed: 1.9ms preprocess, 402.8ms inference, 1.0ms postprocess per image at shape (1, 3, 384, 640)\n"
      ]
     },
     "metadata": {},
     "output_type": "display_data"
    },
    {
     "data": {
      "text/plain": [
       "\n"
      ]
     },
     "metadata": {},
     "output_type": "display_data"
    },
    {
     "data": {
      "text/plain": [
       "0: 384x640 16 persons, 7 cars, 28 motorcycles, 1 bus, 4 trucks, 1 potted plant, 404.1ms\n"
      ]
     },
     "metadata": {},
     "output_type": "display_data"
    },
    {
     "data": {
      "text/plain": [
       "Speed: 2.4ms preprocess, 404.1ms inference, 1.1ms postprocess per image at shape (1, 3, 384, 640)\n"
      ]
     },
     "metadata": {},
     "output_type": "display_data"
    },
    {
     "data": {
      "text/plain": [
       "\n"
      ]
     },
     "metadata": {},
     "output_type": "display_data"
    },
    {
     "data": {
      "text/plain": [
       "0: 384x640 16 persons, 7 cars, 28 motorcycles, 1 bus, 4 trucks, 1 potted plant, 410.8ms\n"
      ]
     },
     "metadata": {},
     "output_type": "display_data"
    },
    {
     "data": {
      "text/plain": [
       "Speed: 11.7ms preprocess, 410.8ms inference, 1.0ms postprocess per image at shape (1, 3, 384, 640)\n"
      ]
     },
     "metadata": {},
     "output_type": "display_data"
    },
    {
     "data": {
      "text/plain": [
       "\n"
      ]
     },
     "metadata": {},
     "output_type": "display_data"
    },
    {
     "data": {
      "text/plain": [
       "0: 384x640 15 persons, 7 cars, 27 motorcycles, 1 bus, 4 trucks, 1 potted plant, 400.4ms\n"
      ]
     },
     "metadata": {},
     "output_type": "display_data"
    },
    {
     "data": {
      "text/plain": [
       "Speed: 2.3ms preprocess, 400.4ms inference, 1.0ms postprocess per image at shape (1, 3, 384, 640)\n"
      ]
     },
     "metadata": {},
     "output_type": "display_data"
    },
    {
     "data": {
      "text/plain": [
       "\n"
      ]
     },
     "metadata": {},
     "output_type": "display_data"
    },
    {
     "data": {
      "text/plain": [
       "0: 384x640 15 persons, 8 cars, 28 motorcycles, 1 bus, 3 trucks, 1 potted plant, 403.4ms\n"
      ]
     },
     "metadata": {},
     "output_type": "display_data"
    },
    {
     "data": {
      "text/plain": [
       "Speed: 2.2ms preprocess, 403.4ms inference, 1.0ms postprocess per image at shape (1, 3, 384, 640)\n"
      ]
     },
     "metadata": {},
     "output_type": "display_data"
    },
    {
     "data": {
      "text/plain": [
       "\n"
      ]
     },
     "metadata": {},
     "output_type": "display_data"
    },
    {
     "data": {
      "text/plain": [
       "0: 384x640 16 persons, 8 cars, 24 motorcycles, 1 bus, 2 trucks, 1 potted plant, 400.4ms\n"
      ]
     },
     "metadata": {},
     "output_type": "display_data"
    },
    {
     "data": {
      "text/plain": [
       "Speed: 2.5ms preprocess, 400.4ms inference, 1.0ms postprocess per image at shape (1, 3, 384, 640)\n"
      ]
     },
     "metadata": {},
     "output_type": "display_data"
    },
    {
     "data": {
      "text/plain": [
       "\n"
      ]
     },
     "metadata": {},
     "output_type": "display_data"
    },
    {
     "data": {
      "text/plain": [
       "0: 384x640 16 persons, 8 cars, 26 motorcycles, 1 bus, 2 trucks, 1 potted plant, 414.6ms\n"
      ]
     },
     "metadata": {},
     "output_type": "display_data"
    },
    {
     "data": {
      "text/plain": [
       "Speed: 2.3ms preprocess, 414.6ms inference, 1.0ms postprocess per image at shape (1, 3, 384, 640)\n"
      ]
     },
     "metadata": {},
     "output_type": "display_data"
    },
    {
     "data": {
      "text/plain": [
       "\n"
      ]
     },
     "metadata": {},
     "output_type": "display_data"
    },
    {
     "data": {
      "text/plain": [
       "0: 384x640 16 persons, 8 cars, 24 motorcycles, 1 bus, 2 trucks, 1 potted plant, 410.7ms\n"
      ]
     },
     "metadata": {},
     "output_type": "display_data"
    },
    {
     "data": {
      "text/plain": [
       "Speed: 1.9ms preprocess, 410.7ms inference, 1.1ms postprocess per image at shape (1, 3, 384, 640)\n"
      ]
     },
     "metadata": {},
     "output_type": "display_data"
    },
    {
     "data": {
      "text/plain": [
       "\n"
      ]
     },
     "metadata": {},
     "output_type": "display_data"
    },
    {
     "data": {
      "text/plain": [
       "0: 384x640 16 persons, 8 cars, 24 motorcycles, 1 bus, 2 trucks, 1 potted plant, 425.7ms\n"
      ]
     },
     "metadata": {},
     "output_type": "display_data"
    },
    {
     "data": {
      "text/plain": [
       "Speed: 2.0ms preprocess, 425.7ms inference, 1.7ms postprocess per image at shape (1, 3, 384, 640)\n"
      ]
     },
     "metadata": {},
     "output_type": "display_data"
    },
    {
     "data": {
      "text/plain": [
       "\n"
      ]
     },
     "metadata": {},
     "output_type": "display_data"
    },
    {
     "data": {
      "text/plain": [
       "0: 384x640 16 persons, 8 cars, 24 motorcycles, 1 bus, 2 trucks, 1 potted plant, 407.8ms\n"
      ]
     },
     "metadata": {},
     "output_type": "display_data"
    },
    {
     "data": {
      "text/plain": [
       "Speed: 1.9ms preprocess, 407.8ms inference, 1.2ms postprocess per image at shape (1, 3, 384, 640)\n"
      ]
     },
     "metadata": {},
     "output_type": "display_data"
    },
    {
     "data": {
      "text/plain": [
       "\n"
      ]
     },
     "metadata": {},
     "output_type": "display_data"
    },
    {
     "data": {
      "text/plain": [
       "0: 384x640 16 persons, 8 cars, 25 motorcycles, 1 bus, 2 trucks, 1 potted plant, 409.0ms\n"
      ]
     },
     "metadata": {},
     "output_type": "display_data"
    },
    {
     "data": {
      "text/plain": [
       "Speed: 1.9ms preprocess, 409.0ms inference, 1.0ms postprocess per image at shape (1, 3, 384, 640)\n"
      ]
     },
     "metadata": {},
     "output_type": "display_data"
    },
    {
     "data": {
      "text/plain": [
       "\n"
      ]
     },
     "metadata": {},
     "output_type": "display_data"
    },
    {
     "data": {
      "text/plain": [
       "0: 384x640 16 persons, 7 cars, 25 motorcycles, 1 bus, 5 trucks, 1 potted plant, 409.8ms\n"
      ]
     },
     "metadata": {},
     "output_type": "display_data"
    },
    {
     "data": {
      "text/plain": [
       "Speed: 2.1ms preprocess, 409.8ms inference, 1.0ms postprocess per image at shape (1, 3, 384, 640)\n"
      ]
     },
     "metadata": {},
     "output_type": "display_data"
    },
    {
     "data": {
      "text/plain": [
       "\n"
      ]
     },
     "metadata": {},
     "output_type": "display_data"
    },
    {
     "data": {
      "text/plain": [
       "0: 384x640 16 persons, 7 cars, 24 motorcycles, 1 bus, 5 trucks, 1 potted plant, 412.0ms\n"
      ]
     },
     "metadata": {},
     "output_type": "display_data"
    },
    {
     "data": {
      "text/plain": [
       "Speed: 1.9ms preprocess, 412.0ms inference, 1.1ms postprocess per image at shape (1, 3, 384, 640)\n"
      ]
     },
     "metadata": {},
     "output_type": "display_data"
    },
    {
     "data": {
      "text/plain": [
       "\n"
      ]
     },
     "metadata": {},
     "output_type": "display_data"
    },
    {
     "data": {
      "text/plain": [
       "0: 384x640 16 persons, 7 cars, 24 motorcycles, 1 bus, 6 trucks, 1 potted plant, 402.2ms\n"
      ]
     },
     "metadata": {},
     "output_type": "display_data"
    },
    {
     "data": {
      "text/plain": [
       "Speed: 2.1ms preprocess, 402.2ms inference, 1.0ms postprocess per image at shape (1, 3, 384, 640)\n"
      ]
     },
     "metadata": {},
     "output_type": "display_data"
    },
    {
     "data": {
      "text/plain": [
       "\n"
      ]
     },
     "metadata": {},
     "output_type": "display_data"
    },
    {
     "data": {
      "text/plain": [
       "0: 384x640 17 persons, 7 cars, 23 motorcycles, 1 bus, 6 trucks, 1 potted plant, 405.8ms\n"
      ]
     },
     "metadata": {},
     "output_type": "display_data"
    },
    {
     "data": {
      "text/plain": [
       "Speed: 2.0ms preprocess, 405.8ms inference, 1.3ms postprocess per image at shape (1, 3, 384, 640)\n"
      ]
     },
     "metadata": {},
     "output_type": "display_data"
    },
    {
     "data": {
      "text/plain": [
       "\n"
      ]
     },
     "metadata": {},
     "output_type": "display_data"
    },
    {
     "data": {
      "text/plain": [
       "0: 384x640 17 persons, 7 cars, 23 motorcycles, 1 bus, 6 trucks, 1 potted plant, 406.1ms\n"
      ]
     },
     "metadata": {},
     "output_type": "display_data"
    },
    {
     "data": {
      "text/plain": [
       "Speed: 2.0ms preprocess, 406.1ms inference, 1.0ms postprocess per image at shape (1, 3, 384, 640)\n"
      ]
     },
     "metadata": {},
     "output_type": "display_data"
    },
    {
     "data": {
      "text/plain": [
       "\n"
      ]
     },
     "metadata": {},
     "output_type": "display_data"
    },
    {
     "data": {
      "text/plain": [
       "0: 384x640 17 persons, 7 cars, 23 motorcycles, 1 bus, 6 trucks, 1 potted plant, 411.1ms\n"
      ]
     },
     "metadata": {},
     "output_type": "display_data"
    },
    {
     "data": {
      "text/plain": [
       "Speed: 2.9ms preprocess, 411.1ms inference, 1.0ms postprocess per image at shape (1, 3, 384, 640)\n"
      ]
     },
     "metadata": {},
     "output_type": "display_data"
    },
    {
     "data": {
      "text/plain": [
       "\n"
      ]
     },
     "metadata": {},
     "output_type": "display_data"
    },
    {
     "data": {
      "text/plain": [
       "0: 384x640 17 persons, 8 cars, 23 motorcycles, 1 bus, 5 trucks, 1 potted plant, 394.2ms\n"
      ]
     },
     "metadata": {},
     "output_type": "display_data"
    },
    {
     "data": {
      "text/plain": [
       "Speed: 2.2ms preprocess, 394.2ms inference, 2.0ms postprocess per image at shape (1, 3, 384, 640)\n"
      ]
     },
     "metadata": {},
     "output_type": "display_data"
    },
    {
     "data": {
      "text/plain": [
       "\n"
      ]
     },
     "metadata": {},
     "output_type": "display_data"
    },
    {
     "data": {
      "text/plain": [
       "0: 384x640 17 persons, 8 cars, 24 motorcycles, 1 bus, 5 trucks, 1 potted plant, 422.4ms\n"
      ]
     },
     "metadata": {},
     "output_type": "display_data"
    },
    {
     "data": {
      "text/plain": [
       "Speed: 1.4ms preprocess, 422.4ms inference, 0.9ms postprocess per image at shape (1, 3, 384, 640)\n"
      ]
     },
     "metadata": {},
     "output_type": "display_data"
    },
    {
     "data": {
      "text/plain": [
       "\n"
      ]
     },
     "metadata": {},
     "output_type": "display_data"
    },
    {
     "data": {
      "text/plain": [
       "0: 384x640 17 persons, 8 cars, 24 motorcycles, 4 trucks, 1 potted plant, 421.9ms\n"
      ]
     },
     "metadata": {},
     "output_type": "display_data"
    },
    {
     "data": {
      "text/plain": [
       "Speed: 2.0ms preprocess, 421.9ms inference, 1.1ms postprocess per image at shape (1, 3, 384, 640)\n"
      ]
     },
     "metadata": {},
     "output_type": "display_data"
    },
    {
     "data": {
      "text/plain": [
       "\n"
      ]
     },
     "metadata": {},
     "output_type": "display_data"
    },
    {
     "data": {
      "text/plain": [
       "0: 384x640 18 persons, 8 cars, 24 motorcycles, 1 bus, 4 trucks, 1 potted plant, 437.6ms\n"
      ]
     },
     "metadata": {},
     "output_type": "display_data"
    },
    {
     "data": {
      "text/plain": [
       "Speed: 2.0ms preprocess, 437.6ms inference, 1.0ms postprocess per image at shape (1, 3, 384, 640)\n"
      ]
     },
     "metadata": {},
     "output_type": "display_data"
    },
    {
     "data": {
      "text/plain": [
       "\n"
      ]
     },
     "metadata": {},
     "output_type": "display_data"
    },
    {
     "data": {
      "text/plain": [
       "0: 384x640 18 persons, 8 cars, 24 motorcycles, 1 bus, 3 trucks, 1 potted plant, 423.5ms\n"
      ]
     },
     "metadata": {},
     "output_type": "display_data"
    },
    {
     "data": {
      "text/plain": [
       "Speed: 2.1ms preprocess, 423.5ms inference, 1.1ms postprocess per image at shape (1, 3, 384, 640)\n"
      ]
     },
     "metadata": {},
     "output_type": "display_data"
    },
    {
     "data": {
      "text/plain": [
       "\n"
      ]
     },
     "metadata": {},
     "output_type": "display_data"
    },
    {
     "data": {
      "text/plain": [
       "0: 384x640 18 persons, 7 cars, 23 motorcycles, 1 bus, 4 trucks, 1 potted plant, 435.2ms\n"
      ]
     },
     "metadata": {},
     "output_type": "display_data"
    },
    {
     "data": {
      "text/plain": [
       "Speed: 2.0ms preprocess, 435.2ms inference, 1.0ms postprocess per image at shape (1, 3, 384, 640)\n"
      ]
     },
     "metadata": {},
     "output_type": "display_data"
    },
    {
     "data": {
      "text/plain": [
       "\n"
      ]
     },
     "metadata": {},
     "output_type": "display_data"
    },
    {
     "data": {
      "text/plain": [
       "0: 384x640 18 persons, 8 cars, 24 motorcycles, 1 bus, 4 trucks, 1 potted plant, 430.2ms\n"
      ]
     },
     "metadata": {},
     "output_type": "display_data"
    },
    {
     "data": {
      "text/plain": [
       "Speed: 1.9ms preprocess, 430.2ms inference, 1.0ms postprocess per image at shape (1, 3, 384, 640)\n"
      ]
     },
     "metadata": {},
     "output_type": "display_data"
    },
    {
     "data": {
      "text/plain": [
       "\n"
      ]
     },
     "metadata": {},
     "output_type": "display_data"
    },
    {
     "data": {
      "text/plain": [
       "0: 384x640 18 persons, 8 cars, 24 motorcycles, 1 bus, 4 trucks, 1 potted plant, 431.7ms\n"
      ]
     },
     "metadata": {},
     "output_type": "display_data"
    },
    {
     "data": {
      "text/plain": [
       "Speed: 2.1ms preprocess, 431.7ms inference, 1.0ms postprocess per image at shape (1, 3, 384, 640)\n"
      ]
     },
     "metadata": {},
     "output_type": "display_data"
    },
    {
     "data": {
      "text/plain": [
       "\n"
      ]
     },
     "metadata": {},
     "output_type": "display_data"
    },
    {
     "data": {
      "text/plain": [
       "0: 384x640 18 persons, 8 cars, 24 motorcycles, 1 bus, 4 trucks, 1 potted plant, 411.3ms\n"
      ]
     },
     "metadata": {},
     "output_type": "display_data"
    },
    {
     "data": {
      "text/plain": [
       "Speed: 2.0ms preprocess, 411.3ms inference, 1.0ms postprocess per image at shape (1, 3, 384, 640)\n"
      ]
     },
     "metadata": {},
     "output_type": "display_data"
    },
    {
     "data": {
      "text/plain": [
       "\n"
      ]
     },
     "metadata": {},
     "output_type": "display_data"
    },
    {
     "data": {
      "text/plain": [
       "0: 384x640 19 persons, 6 cars, 25 motorcycles, 1 bus, 4 trucks, 1 potted plant, 408.3ms\n"
      ]
     },
     "metadata": {},
     "output_type": "display_data"
    },
    {
     "data": {
      "text/plain": [
       "Speed: 2.4ms preprocess, 408.3ms inference, 1.2ms postprocess per image at shape (1, 3, 384, 640)\n"
      ]
     },
     "metadata": {},
     "output_type": "display_data"
    },
    {
     "data": {
      "text/plain": [
       "\n"
      ]
     },
     "metadata": {},
     "output_type": "display_data"
    },
    {
     "data": {
      "text/plain": [
       "0: 384x640 19 persons, 7 cars, 24 motorcycles, 1 bus, 4 trucks, 1 potted plant, 413.1ms\n"
      ]
     },
     "metadata": {},
     "output_type": "display_data"
    },
    {
     "data": {
      "text/plain": [
       "Speed: 2.1ms preprocess, 413.1ms inference, 1.4ms postprocess per image at shape (1, 3, 384, 640)\n"
      ]
     },
     "metadata": {},
     "output_type": "display_data"
    },
    {
     "data": {
      "text/plain": [
       "\n"
      ]
     },
     "metadata": {},
     "output_type": "display_data"
    },
    {
     "data": {
      "text/plain": [
       "0: 384x640 18 persons, 7 cars, 23 motorcycles, 1 bus, 4 trucks, 1 potted plant, 429.4ms\n"
      ]
     },
     "metadata": {},
     "output_type": "display_data"
    },
    {
     "data": {
      "text/plain": [
       "Speed: 1.9ms preprocess, 429.4ms inference, 1.0ms postprocess per image at shape (1, 3, 384, 640)\n"
      ]
     },
     "metadata": {},
     "output_type": "display_data"
    },
    {
     "data": {
      "text/plain": [
       "\n"
      ]
     },
     "metadata": {},
     "output_type": "display_data"
    },
    {
     "data": {
      "text/plain": [
       "0: 384x640 19 persons, 7 cars, 23 motorcycles, 1 bus, 4 trucks, 1 potted plant, 403.9ms\n"
      ]
     },
     "metadata": {},
     "output_type": "display_data"
    },
    {
     "data": {
      "text/plain": [
       "Speed: 1.9ms preprocess, 403.9ms inference, 1.0ms postprocess per image at shape (1, 3, 384, 640)\n"
      ]
     },
     "metadata": {},
     "output_type": "display_data"
    },
    {
     "data": {
      "text/plain": [
       "\n"
      ]
     },
     "metadata": {},
     "output_type": "display_data"
    },
    {
     "data": {
      "text/plain": [
       "0: 384x640 19 persons, 7 cars, 23 motorcycles, 1 bus, 4 trucks, 1 potted plant, 425.5ms\n"
      ]
     },
     "metadata": {},
     "output_type": "display_data"
    },
    {
     "data": {
      "text/plain": [
       "Speed: 2.0ms preprocess, 425.5ms inference, 1.0ms postprocess per image at shape (1, 3, 384, 640)\n"
      ]
     },
     "metadata": {},
     "output_type": "display_data"
    },
    {
     "data": {
      "text/plain": [
       "\n"
      ]
     },
     "metadata": {},
     "output_type": "display_data"
    },
    {
     "data": {
      "text/plain": [
       "0: 384x640 19 persons, 6 cars, 23 motorcycles, 1 bus, 5 trucks, 1 potted plant, 421.3ms\n"
      ]
     },
     "metadata": {},
     "output_type": "display_data"
    },
    {
     "data": {
      "text/plain": [
       "Speed: 2.0ms preprocess, 421.3ms inference, 1.7ms postprocess per image at shape (1, 3, 384, 640)\n"
      ]
     },
     "metadata": {},
     "output_type": "display_data"
    },
    {
     "data": {
      "text/plain": [
       "\n"
      ]
     },
     "metadata": {},
     "output_type": "display_data"
    },
    {
     "data": {
      "text/plain": [
       "0: 384x640 18 persons, 6 cars, 24 motorcycles, 1 bus, 5 trucks, 1 potted plant, 410.3ms\n"
      ]
     },
     "metadata": {},
     "output_type": "display_data"
    },
    {
     "data": {
      "text/plain": [
       "Speed: 2.3ms preprocess, 410.3ms inference, 1.0ms postprocess per image at shape (1, 3, 384, 640)\n"
      ]
     },
     "metadata": {},
     "output_type": "display_data"
    },
    {
     "data": {
      "text/plain": [
       "\n"
      ]
     },
     "metadata": {},
     "output_type": "display_data"
    },
    {
     "data": {
      "text/plain": [
       "0: 384x640 18 persons, 7 cars, 24 motorcycles, 1 bus, 4 trucks, 1 potted plant, 399.9ms\n"
      ]
     },
     "metadata": {},
     "output_type": "display_data"
    },
    {
     "data": {
      "text/plain": [
       "Speed: 2.2ms preprocess, 399.9ms inference, 1.0ms postprocess per image at shape (1, 3, 384, 640)\n"
      ]
     },
     "metadata": {},
     "output_type": "display_data"
    },
    {
     "data": {
      "text/plain": [
       "\n"
      ]
     },
     "metadata": {},
     "output_type": "display_data"
    },
    {
     "data": {
      "text/plain": [
       "0: 384x640 18 persons, 7 cars, 25 motorcycles, 2 buss, 3 trucks, 1 potted plant, 408.3ms\n"
      ]
     },
     "metadata": {},
     "output_type": "display_data"
    },
    {
     "data": {
      "text/plain": [
       "Speed: 2.1ms preprocess, 408.3ms inference, 1.8ms postprocess per image at shape (1, 3, 384, 640)\n"
      ]
     },
     "metadata": {},
     "output_type": "display_data"
    },
    {
     "data": {
      "text/plain": [
       "\n"
      ]
     },
     "metadata": {},
     "output_type": "display_data"
    },
    {
     "data": {
      "text/plain": [
       "0: 384x640 18 persons, 7 cars, 24 motorcycles, 1 bus, 5 trucks, 1 potted plant, 408.8ms\n"
      ]
     },
     "metadata": {},
     "output_type": "display_data"
    },
    {
     "data": {
      "text/plain": [
       "Speed: 2.2ms preprocess, 408.8ms inference, 1.0ms postprocess per image at shape (1, 3, 384, 640)\n"
      ]
     },
     "metadata": {},
     "output_type": "display_data"
    },
    {
     "data": {
      "text/plain": [
       "\n"
      ]
     },
     "metadata": {},
     "output_type": "display_data"
    },
    {
     "data": {
      "text/plain": [
       "0: 384x640 18 persons, 7 cars, 24 motorcycles, 1 bus, 5 trucks, 1 potted plant, 417.4ms\n"
      ]
     },
     "metadata": {},
     "output_type": "display_data"
    },
    {
     "data": {
      "text/plain": [
       "Speed: 2.1ms preprocess, 417.4ms inference, 0.9ms postprocess per image at shape (1, 3, 384, 640)\n"
      ]
     },
     "metadata": {},
     "output_type": "display_data"
    },
    {
     "data": {
      "text/plain": [
       "\n"
      ]
     },
     "metadata": {},
     "output_type": "display_data"
    },
    {
     "data": {
      "text/plain": [
       "0: 384x640 18 persons, 7 cars, 23 motorcycles, 1 bus, 5 trucks, 1 potted plant, 404.0ms\n"
      ]
     },
     "metadata": {},
     "output_type": "display_data"
    },
    {
     "data": {
      "text/plain": [
       "Speed: 2.0ms preprocess, 404.0ms inference, 1.0ms postprocess per image at shape (1, 3, 384, 640)\n"
      ]
     },
     "metadata": {},
     "output_type": "display_data"
    },
    {
     "data": {
      "text/plain": [
       "\n"
      ]
     },
     "metadata": {},
     "output_type": "display_data"
    },
    {
     "data": {
      "text/plain": [
       "0: 384x640 18 persons, 7 cars, 23 motorcycles, 1 bus, 5 trucks, 1 potted plant, 406.4ms\n"
      ]
     },
     "metadata": {},
     "output_type": "display_data"
    },
    {
     "data": {
      "text/plain": [
       "Speed: 2.0ms preprocess, 406.4ms inference, 0.9ms postprocess per image at shape (1, 3, 384, 640)\n"
      ]
     },
     "metadata": {},
     "output_type": "display_data"
    },
    {
     "data": {
      "text/plain": [
       "\n"
      ]
     },
     "metadata": {},
     "output_type": "display_data"
    },
    {
     "data": {
      "text/plain": [
       "0: 384x640 18 persons, 7 cars, 23 motorcycles, 1 bus, 5 trucks, 1 potted plant, 412.3ms\n"
      ]
     },
     "metadata": {},
     "output_type": "display_data"
    },
    {
     "data": {
      "text/plain": [
       "Speed: 1.9ms preprocess, 412.3ms inference, 0.9ms postprocess per image at shape (1, 3, 384, 640)\n"
      ]
     },
     "metadata": {},
     "output_type": "display_data"
    },
    {
     "data": {
      "text/plain": [
       "\n"
      ]
     },
     "metadata": {},
     "output_type": "display_data"
    },
    {
     "data": {
      "text/plain": [
       "0: 384x640 18 persons, 7 cars, 23 motorcycles, 1 bus, 5 trucks, 1 potted plant, 411.2ms\n"
      ]
     },
     "metadata": {},
     "output_type": "display_data"
    },
    {
     "data": {
      "text/plain": [
       "Speed: 2.3ms preprocess, 411.2ms inference, 0.9ms postprocess per image at shape (1, 3, 384, 640)\n"
      ]
     },
     "metadata": {},
     "output_type": "display_data"
    },
    {
     "data": {
      "text/plain": [
       "\n"
      ]
     },
     "metadata": {},
     "output_type": "display_data"
    },
    {
     "data": {
      "text/plain": [
       "0: 384x640 18 persons, 6 cars, 22 motorcycles, 1 bus, 6 trucks, 1 potted plant, 407.1ms\n"
      ]
     },
     "metadata": {},
     "output_type": "display_data"
    },
    {
     "data": {
      "text/plain": [
       "Speed: 2.7ms preprocess, 407.1ms inference, 1.0ms postprocess per image at shape (1, 3, 384, 640)\n"
      ]
     },
     "metadata": {},
     "output_type": "display_data"
    },
    {
     "data": {
      "text/plain": [
       "\n"
      ]
     },
     "metadata": {},
     "output_type": "display_data"
    },
    {
     "data": {
      "text/plain": [
       "0: 384x640 17 persons, 7 cars, 23 motorcycles, 1 bus, 5 trucks, 1 potted plant, 415.9ms\n"
      ]
     },
     "metadata": {},
     "output_type": "display_data"
    },
    {
     "data": {
      "text/plain": [
       "Speed: 1.9ms preprocess, 415.9ms inference, 1.0ms postprocess per image at shape (1, 3, 384, 640)\n"
      ]
     },
     "metadata": {},
     "output_type": "display_data"
    },
    {
     "data": {
      "text/plain": [
       "\n"
      ]
     },
     "metadata": {},
     "output_type": "display_data"
    },
    {
     "data": {
      "text/plain": [
       "0: 384x640 17 persons, 7 cars, 23 motorcycles, 1 bus, 4 trucks, 1 potted plant, 403.8ms\n"
      ]
     },
     "metadata": {},
     "output_type": "display_data"
    },
    {
     "data": {
      "text/plain": [
       "Speed: 2.0ms preprocess, 403.8ms inference, 1.0ms postprocess per image at shape (1, 3, 384, 640)\n"
      ]
     },
     "metadata": {},
     "output_type": "display_data"
    },
    {
     "data": {
      "text/plain": [
       "\n"
      ]
     },
     "metadata": {},
     "output_type": "display_data"
    },
    {
     "data": {
      "text/plain": [
       "0: 384x640 17 persons, 8 cars, 23 motorcycles, 1 bus, 3 trucks, 1 potted plant, 420.1ms\n"
      ]
     },
     "metadata": {},
     "output_type": "display_data"
    },
    {
     "data": {
      "text/plain": [
       "Speed: 1.9ms preprocess, 420.1ms inference, 1.0ms postprocess per image at shape (1, 3, 384, 640)\n"
      ]
     },
     "metadata": {},
     "output_type": "display_data"
    },
    {
     "data": {
      "text/plain": [
       "\n"
      ]
     },
     "metadata": {},
     "output_type": "display_data"
    },
    {
     "data": {
      "text/plain": [
       "0: 384x640 16 persons, 8 cars, 24 motorcycles, 1 bus, 3 trucks, 1 potted plant, 405.2ms\n"
      ]
     },
     "metadata": {},
     "output_type": "display_data"
    },
    {
     "data": {
      "text/plain": [
       "Speed: 1.9ms preprocess, 405.2ms inference, 1.1ms postprocess per image at shape (1, 3, 384, 640)\n"
      ]
     },
     "metadata": {},
     "output_type": "display_data"
    },
    {
     "data": {
      "text/plain": [
       "\n"
      ]
     },
     "metadata": {},
     "output_type": "display_data"
    },
    {
     "data": {
      "text/plain": [
       "0: 384x640 16 persons, 8 cars, 23 motorcycles, 1 bus, 3 trucks, 1 potted plant, 404.8ms\n"
      ]
     },
     "metadata": {},
     "output_type": "display_data"
    },
    {
     "data": {
      "text/plain": [
       "Speed: 2.1ms preprocess, 404.8ms inference, 0.9ms postprocess per image at shape (1, 3, 384, 640)\n"
      ]
     },
     "metadata": {},
     "output_type": "display_data"
    },
    {
     "data": {
      "text/plain": [
       "\n"
      ]
     },
     "metadata": {},
     "output_type": "display_data"
    },
    {
     "data": {
      "text/plain": [
       "0: 384x640 16 persons, 8 cars, 23 motorcycles, 1 bus, 3 trucks, 1 potted plant, 398.6ms\n"
      ]
     },
     "metadata": {},
     "output_type": "display_data"
    },
    {
     "data": {
      "text/plain": [
       "Speed: 1.8ms preprocess, 398.6ms inference, 1.0ms postprocess per image at shape (1, 3, 384, 640)\n"
      ]
     },
     "metadata": {},
     "output_type": "display_data"
    },
    {
     "data": {
      "text/plain": [
       "\n"
      ]
     },
     "metadata": {},
     "output_type": "display_data"
    },
    {
     "data": {
      "text/plain": [
       "0: 384x640 16 persons, 8 cars, 23 motorcycles, 1 bus, 3 trucks, 1 potted plant, 426.2ms\n"
      ]
     },
     "metadata": {},
     "output_type": "display_data"
    },
    {
     "data": {
      "text/plain": [
       "Speed: 2.0ms preprocess, 426.2ms inference, 0.9ms postprocess per image at shape (1, 3, 384, 640)\n"
      ]
     },
     "metadata": {},
     "output_type": "display_data"
    },
    {
     "data": {
      "text/plain": [
       "\n"
      ]
     },
     "metadata": {},
     "output_type": "display_data"
    },
    {
     "data": {
      "text/plain": [
       "0: 384x640 16 persons, 6 cars, 23 motorcycles, 1 bus, 3 trucks, 1 potted plant, 402.7ms\n"
      ]
     },
     "metadata": {},
     "output_type": "display_data"
    },
    {
     "data": {
      "text/plain": [
       "Speed: 1.9ms preprocess, 402.7ms inference, 0.9ms postprocess per image at shape (1, 3, 384, 640)\n"
      ]
     },
     "metadata": {},
     "output_type": "display_data"
    },
    {
     "data": {
      "text/plain": [
       "\n"
      ]
     },
     "metadata": {},
     "output_type": "display_data"
    },
    {
     "data": {
      "text/plain": [
       "0: 384x640 16 persons, 7 cars, 22 motorcycles, 1 bus, 2 trucks, 1 potted plant, 414.8ms\n"
      ]
     },
     "metadata": {},
     "output_type": "display_data"
    },
    {
     "data": {
      "text/plain": [
       "Speed: 2.1ms preprocess, 414.8ms inference, 0.9ms postprocess per image at shape (1, 3, 384, 640)\n"
      ]
     },
     "metadata": {},
     "output_type": "display_data"
    },
    {
     "data": {
      "text/plain": [
       "\n"
      ]
     },
     "metadata": {},
     "output_type": "display_data"
    },
    {
     "data": {
      "text/plain": [
       "0: 384x640 16 persons, 6 cars, 23 motorcycles, 1 bus, 3 trucks, 1 potted plant, 403.1ms\n"
      ]
     },
     "metadata": {},
     "output_type": "display_data"
    },
    {
     "data": {
      "text/plain": [
       "Speed: 2.0ms preprocess, 403.1ms inference, 0.9ms postprocess per image at shape (1, 3, 384, 640)\n"
      ]
     },
     "metadata": {},
     "output_type": "display_data"
    },
    {
     "data": {
      "text/plain": [
       "\n"
      ]
     },
     "metadata": {},
     "output_type": "display_data"
    },
    {
     "data": {
      "text/plain": [
       "0: 384x640 16 persons, 6 cars, 25 motorcycles, 1 bus, 2 trucks, 1 potted plant, 416.4ms\n"
      ]
     },
     "metadata": {},
     "output_type": "display_data"
    },
    {
     "data": {
      "text/plain": [
       "Speed: 1.9ms preprocess, 416.4ms inference, 0.9ms postprocess per image at shape (1, 3, 384, 640)\n"
      ]
     },
     "metadata": {},
     "output_type": "display_data"
    },
    {
     "data": {
      "text/plain": [
       "\n"
      ]
     },
     "metadata": {},
     "output_type": "display_data"
    },
    {
     "data": {
      "text/plain": [
       "0: 384x640 17 persons, 6 cars, 22 motorcycles, 1 bus, 2 trucks, 1 potted plant, 388.6ms\n"
      ]
     },
     "metadata": {},
     "output_type": "display_data"
    },
    {
     "data": {
      "text/plain": [
       "Speed: 1.8ms preprocess, 388.6ms inference, 1.0ms postprocess per image at shape (1, 3, 384, 640)\n"
      ]
     },
     "metadata": {},
     "output_type": "display_data"
    },
    {
     "data": {
      "text/plain": [
       "\n"
      ]
     },
     "metadata": {},
     "output_type": "display_data"
    },
    {
     "data": {
      "text/plain": [
       "0: 384x640 18 persons, 7 cars, 21 motorcycles, 1 bus, 2 trucks, 1 potted plant, 422.7ms\n"
      ]
     },
     "metadata": {},
     "output_type": "display_data"
    },
    {
     "data": {
      "text/plain": [
       "Speed: 1.9ms preprocess, 422.7ms inference, 1.4ms postprocess per image at shape (1, 3, 384, 640)\n"
      ]
     },
     "metadata": {},
     "output_type": "display_data"
    },
    {
     "data": {
      "text/plain": [
       "\n"
      ]
     },
     "metadata": {},
     "output_type": "display_data"
    },
    {
     "data": {
      "text/plain": [
       "0: 384x640 19 persons, 7 cars, 22 motorcycles, 1 bus, 3 trucks, 1 potted plant, 399.9ms\n"
      ]
     },
     "metadata": {},
     "output_type": "display_data"
    },
    {
     "data": {
      "text/plain": [
       "Speed: 1.9ms preprocess, 399.9ms inference, 0.9ms postprocess per image at shape (1, 3, 384, 640)\n"
      ]
     },
     "metadata": {},
     "output_type": "display_data"
    },
    {
     "data": {
      "text/plain": [
       "\n"
      ]
     },
     "metadata": {},
     "output_type": "display_data"
    },
    {
     "data": {
      "text/plain": [
       "0: 384x640 19 persons, 7 cars, 22 motorcycles, 1 bus, 3 trucks, 1 potted plant, 410.7ms\n"
      ]
     },
     "metadata": {},
     "output_type": "display_data"
    },
    {
     "data": {
      "text/plain": [
       "Speed: 2.3ms preprocess, 410.7ms inference, 0.9ms postprocess per image at shape (1, 3, 384, 640)\n"
      ]
     },
     "metadata": {},
     "output_type": "display_data"
    },
    {
     "data": {
      "text/plain": [
       "\n"
      ]
     },
     "metadata": {},
     "output_type": "display_data"
    },
    {
     "data": {
      "text/plain": [
       "0: 384x640 21 persons, 7 cars, 22 motorcycles, 2 buss, 2 trucks, 1 potted plant, 396.9ms\n"
      ]
     },
     "metadata": {},
     "output_type": "display_data"
    },
    {
     "data": {
      "text/plain": [
       "Speed: 2.2ms preprocess, 396.9ms inference, 0.9ms postprocess per image at shape (1, 3, 384, 640)\n"
      ]
     },
     "metadata": {},
     "output_type": "display_data"
    },
    {
     "data": {
      "text/plain": [
       "\n"
      ]
     },
     "metadata": {},
     "output_type": "display_data"
    },
    {
     "data": {
      "text/plain": [
       "0: 384x640 21 persons, 7 cars, 22 motorcycles, 1 bus, 2 trucks, 1 potted plant, 407.0ms\n"
      ]
     },
     "metadata": {},
     "output_type": "display_data"
    },
    {
     "data": {
      "text/plain": [
       "Speed: 1.9ms preprocess, 407.0ms inference, 1.1ms postprocess per image at shape (1, 3, 384, 640)\n"
      ]
     },
     "metadata": {},
     "output_type": "display_data"
    },
    {
     "data": {
      "text/plain": [
       "\n"
      ]
     },
     "metadata": {},
     "output_type": "display_data"
    },
    {
     "data": {
      "text/plain": [
       "0: 384x640 21 persons, 7 cars, 22 motorcycles, 1 bus, 2 trucks, 1 potted plant, 391.5ms\n"
      ]
     },
     "metadata": {},
     "output_type": "display_data"
    },
    {
     "data": {
      "text/plain": [
       "Speed: 2.2ms preprocess, 391.5ms inference, 0.9ms postprocess per image at shape (1, 3, 384, 640)\n"
      ]
     },
     "metadata": {},
     "output_type": "display_data"
    },
    {
     "data": {
      "text/plain": [
       "\n"
      ]
     },
     "metadata": {},
     "output_type": "display_data"
    },
    {
     "data": {
      "text/plain": [
       "0: 384x640 21 persons, 7 cars, 22 motorcycles, 1 bus, 3 trucks, 1 potted plant, 414.3ms\n"
      ]
     },
     "metadata": {},
     "output_type": "display_data"
    },
    {
     "data": {
      "text/plain": [
       "Speed: 2.1ms preprocess, 414.3ms inference, 0.9ms postprocess per image at shape (1, 3, 384, 640)\n"
      ]
     },
     "metadata": {},
     "output_type": "display_data"
    },
    {
     "data": {
      "text/plain": [
       "\n"
      ]
     },
     "metadata": {},
     "output_type": "display_data"
    },
    {
     "data": {
      "text/plain": [
       "0: 384x640 20 persons, 7 cars, 24 motorcycles, 1 bus, 3 trucks, 1 potted plant, 403.1ms\n"
      ]
     },
     "metadata": {},
     "output_type": "display_data"
    },
    {
     "data": {
      "text/plain": [
       "Speed: 2.3ms preprocess, 403.1ms inference, 1.0ms postprocess per image at shape (1, 3, 384, 640)\n"
      ]
     },
     "metadata": {},
     "output_type": "display_data"
    },
    {
     "data": {
      "text/plain": [
       "\n"
      ]
     },
     "metadata": {},
     "output_type": "display_data"
    },
    {
     "data": {
      "text/plain": [
       "0: 384x640 20 persons, 7 cars, 24 motorcycles, 1 bus, 3 trucks, 1 potted plant, 412.6ms\n"
      ]
     },
     "metadata": {},
     "output_type": "display_data"
    },
    {
     "data": {
      "text/plain": [
       "Speed: 2.2ms preprocess, 412.6ms inference, 1.0ms postprocess per image at shape (1, 3, 384, 640)\n"
      ]
     },
     "metadata": {},
     "output_type": "display_data"
    },
    {
     "data": {
      "text/plain": [
       "\n"
      ]
     },
     "metadata": {},
     "output_type": "display_data"
    },
    {
     "data": {
      "text/plain": [
       "0: 384x640 20 persons, 6 cars, 24 motorcycles, 1 bus, 2 trucks, 1 potted plant, 388.4ms\n"
      ]
     },
     "metadata": {},
     "output_type": "display_data"
    },
    {
     "data": {
      "text/plain": [
       "Speed: 10.1ms preprocess, 388.4ms inference, 1.1ms postprocess per image at shape (1, 3, 384, 640)\n"
      ]
     },
     "metadata": {},
     "output_type": "display_data"
    },
    {
     "data": {
      "text/plain": [
       "\n"
      ]
     },
     "metadata": {},
     "output_type": "display_data"
    },
    {
     "data": {
      "text/plain": [
       "0: 384x640 20 persons, 6 cars, 25 motorcycles, 1 bus, 3 trucks, 1 potted plant, 395.4ms\n"
      ]
     },
     "metadata": {},
     "output_type": "display_data"
    },
    {
     "data": {
      "text/plain": [
       "Speed: 1.9ms preprocess, 395.4ms inference, 1.0ms postprocess per image at shape (1, 3, 384, 640)\n"
      ]
     },
     "metadata": {},
     "output_type": "display_data"
    },
    {
     "data": {
      "text/plain": [
       "\n"
      ]
     },
     "metadata": {},
     "output_type": "display_data"
    },
    {
     "data": {
      "text/plain": [
       "0: 384x640 19 persons, 6 cars, 25 motorcycles, 1 bus, 3 trucks, 1 potted plant, 403.4ms\n"
      ]
     },
     "metadata": {},
     "output_type": "display_data"
    },
    {
     "data": {
      "text/plain": [
       "Speed: 2.1ms preprocess, 403.4ms inference, 0.9ms postprocess per image at shape (1, 3, 384, 640)\n"
      ]
     },
     "metadata": {},
     "output_type": "display_data"
    },
    {
     "data": {
      "text/plain": [
       "\n"
      ]
     },
     "metadata": {},
     "output_type": "display_data"
    },
    {
     "data": {
      "text/plain": [
       "0: 384x640 20 persons, 6 cars, 25 motorcycles, 1 bus, 3 trucks, 1 potted plant, 401.5ms\n"
      ]
     },
     "metadata": {},
     "output_type": "display_data"
    },
    {
     "data": {
      "text/plain": [
       "Speed: 2.0ms preprocess, 401.5ms inference, 1.0ms postprocess per image at shape (1, 3, 384, 640)\n"
      ]
     },
     "metadata": {},
     "output_type": "display_data"
    },
    {
     "data": {
      "text/plain": [
       "\n"
      ]
     },
     "metadata": {},
     "output_type": "display_data"
    },
    {
     "data": {
      "text/plain": [
       "0: 384x640 21 persons, 7 cars, 24 motorcycles, 1 bus, 3 trucks, 1 potted plant, 400.0ms\n"
      ]
     },
     "metadata": {},
     "output_type": "display_data"
    },
    {
     "data": {
      "text/plain": [
       "Speed: 1.9ms preprocess, 400.0ms inference, 1.3ms postprocess per image at shape (1, 3, 384, 640)\n"
      ]
     },
     "metadata": {},
     "output_type": "display_data"
    },
    {
     "data": {
      "text/plain": [
       "\n"
      ]
     },
     "metadata": {},
     "output_type": "display_data"
    },
    {
     "data": {
      "text/plain": [
       "0: 384x640 21 persons, 6 cars, 24 motorcycles, 1 bus, 2 trucks, 1 potted plant, 402.1ms\n"
      ]
     },
     "metadata": {},
     "output_type": "display_data"
    },
    {
     "data": {
      "text/plain": [
       "Speed: 2.2ms preprocess, 402.1ms inference, 1.0ms postprocess per image at shape (1, 3, 384, 640)\n"
      ]
     },
     "metadata": {},
     "output_type": "display_data"
    },
    {
     "data": {
      "text/plain": [
       "\n"
      ]
     },
     "metadata": {},
     "output_type": "display_data"
    },
    {
     "data": {
      "text/plain": [
       "0: 384x640 21 persons, 6 cars, 23 motorcycles, 1 bus, 3 trucks, 1 potted plant, 408.4ms\n"
      ]
     },
     "metadata": {},
     "output_type": "display_data"
    },
    {
     "data": {
      "text/plain": [
       "Speed: 2.1ms preprocess, 408.4ms inference, 1.0ms postprocess per image at shape (1, 3, 384, 640)\n"
      ]
     },
     "metadata": {},
     "output_type": "display_data"
    },
    {
     "data": {
      "text/plain": [
       "\n"
      ]
     },
     "metadata": {},
     "output_type": "display_data"
    },
    {
     "data": {
      "text/plain": [
       "0: 384x640 21 persons, 8 cars, 23 motorcycles, 1 bus, 3 trucks, 1 potted plant, 403.5ms\n"
      ]
     },
     "metadata": {},
     "output_type": "display_data"
    },
    {
     "data": {
      "text/plain": [
       "Speed: 2.0ms preprocess, 403.5ms inference, 1.2ms postprocess per image at shape (1, 3, 384, 640)\n"
      ]
     },
     "metadata": {},
     "output_type": "display_data"
    },
    {
     "data": {
      "text/plain": [
       "\n"
      ]
     },
     "metadata": {},
     "output_type": "display_data"
    },
    {
     "data": {
      "text/plain": [
       "0: 384x640 21 persons, 8 cars, 22 motorcycles, 1 bus, 2 trucks, 1 potted plant, 400.7ms\n"
      ]
     },
     "metadata": {},
     "output_type": "display_data"
    },
    {
     "data": {
      "text/plain": [
       "Speed: 2.1ms preprocess, 400.7ms inference, 1.0ms postprocess per image at shape (1, 3, 384, 640)\n"
      ]
     },
     "metadata": {},
     "output_type": "display_data"
    },
    {
     "data": {
      "text/plain": [
       "\n"
      ]
     },
     "metadata": {},
     "output_type": "display_data"
    },
    {
     "data": {
      "text/plain": [
       "0: 384x640 21 persons, 6 cars, 22 motorcycles, 1 bus, 2 trucks, 1 potted plant, 406.0ms\n"
      ]
     },
     "metadata": {},
     "output_type": "display_data"
    },
    {
     "data": {
      "text/plain": [
       "Speed: 2.2ms preprocess, 406.0ms inference, 1.0ms postprocess per image at shape (1, 3, 384, 640)\n"
      ]
     },
     "metadata": {},
     "output_type": "display_data"
    },
    {
     "data": {
      "text/plain": [
       "\n"
      ]
     },
     "metadata": {},
     "output_type": "display_data"
    },
    {
     "data": {
      "text/plain": [
       "0: 384x640 21 persons, 6 cars, 21 motorcycles, 1 bus, 2 trucks, 1 potted plant, 399.3ms\n"
      ]
     },
     "metadata": {},
     "output_type": "display_data"
    },
    {
     "data": {
      "text/plain": [
       "Speed: 2.0ms preprocess, 399.3ms inference, 1.0ms postprocess per image at shape (1, 3, 384, 640)\n"
      ]
     },
     "metadata": {},
     "output_type": "display_data"
    },
    {
     "data": {
      "text/plain": [
       "\n"
      ]
     },
     "metadata": {},
     "output_type": "display_data"
    },
    {
     "data": {
      "text/plain": [
       "0: 384x640 21 persons, 6 cars, 21 motorcycles, 1 bus, 2 trucks, 1 potted plant, 398.9ms\n"
      ]
     },
     "metadata": {},
     "output_type": "display_data"
    },
    {
     "data": {
      "text/plain": [
       "Speed: 2.0ms preprocess, 398.9ms inference, 1.1ms postprocess per image at shape (1, 3, 384, 640)\n"
      ]
     },
     "metadata": {},
     "output_type": "display_data"
    },
    {
     "data": {
      "text/plain": [
       "\n"
      ]
     },
     "metadata": {},
     "output_type": "display_data"
    },
    {
     "data": {
      "text/plain": [
       "0: 384x640 21 persons, 7 cars, 21 motorcycles, 1 bus, 2 trucks, 1 potted plant, 415.4ms\n"
      ]
     },
     "metadata": {},
     "output_type": "display_data"
    },
    {
     "data": {
      "text/plain": [
       "Speed: 2.1ms preprocess, 415.4ms inference, 1.0ms postprocess per image at shape (1, 3, 384, 640)\n"
      ]
     },
     "metadata": {},
     "output_type": "display_data"
    },
    {
     "data": {
      "text/plain": [
       "\n"
      ]
     },
     "metadata": {},
     "output_type": "display_data"
    },
    {
     "data": {
      "text/plain": [
       "0: 384x640 20 persons, 8 cars, 22 motorcycles, 1 bus, 2 trucks, 1 potted plant, 406.9ms\n"
      ]
     },
     "metadata": {},
     "output_type": "display_data"
    },
    {
     "data": {
      "text/plain": [
       "Speed: 2.1ms preprocess, 406.9ms inference, 1.0ms postprocess per image at shape (1, 3, 384, 640)\n"
      ]
     },
     "metadata": {},
     "output_type": "display_data"
    },
    {
     "data": {
      "text/plain": [
       "\n"
      ]
     },
     "metadata": {},
     "output_type": "display_data"
    },
    {
     "data": {
      "text/plain": [
       "0: 384x640 20 persons, 7 cars, 22 motorcycles, 1 bus, 2 trucks, 1 potted plant, 407.6ms\n"
      ]
     },
     "metadata": {},
     "output_type": "display_data"
    },
    {
     "data": {
      "text/plain": [
       "Speed: 2.0ms preprocess, 407.6ms inference, 1.3ms postprocess per image at shape (1, 3, 384, 640)\n"
      ]
     },
     "metadata": {},
     "output_type": "display_data"
    },
    {
     "data": {
      "text/plain": [
       "\n"
      ]
     },
     "metadata": {},
     "output_type": "display_data"
    },
    {
     "data": {
      "text/plain": [
       "0: 384x640 20 persons, 7 cars, 23 motorcycles, 1 bus, 2 trucks, 1 potted plant, 407.2ms\n"
      ]
     },
     "metadata": {},
     "output_type": "display_data"
    },
    {
     "data": {
      "text/plain": [
       "Speed: 1.8ms preprocess, 407.2ms inference, 1.1ms postprocess per image at shape (1, 3, 384, 640)\n"
      ]
     },
     "metadata": {},
     "output_type": "display_data"
    },
    {
     "data": {
      "text/plain": [
       "\n"
      ]
     },
     "metadata": {},
     "output_type": "display_data"
    },
    {
     "data": {
      "text/plain": [
       "0: 384x640 20 persons, 7 cars, 24 motorcycles, 1 bus, 2 trucks, 1 potted plant, 405.6ms\n"
      ]
     },
     "metadata": {},
     "output_type": "display_data"
    },
    {
     "data": {
      "text/plain": [
       "Speed: 2.0ms preprocess, 405.6ms inference, 1.1ms postprocess per image at shape (1, 3, 384, 640)\n"
      ]
     },
     "metadata": {},
     "output_type": "display_data"
    },
    {
     "data": {
      "text/plain": [
       "\n"
      ]
     },
     "metadata": {},
     "output_type": "display_data"
    },
    {
     "data": {
      "text/plain": [
       "0: 384x640 20 persons, 7 cars, 23 motorcycles, 1 bus, 2 trucks, 1 potted plant, 414.3ms\n"
      ]
     },
     "metadata": {},
     "output_type": "display_data"
    },
    {
     "data": {
      "text/plain": [
       "Speed: 1.9ms preprocess, 414.3ms inference, 1.0ms postprocess per image at shape (1, 3, 384, 640)\n"
      ]
     },
     "metadata": {},
     "output_type": "display_data"
    },
    {
     "data": {
      "text/plain": [
       "\n"
      ]
     },
     "metadata": {},
     "output_type": "display_data"
    },
    {
     "data": {
      "text/plain": [
       "0: 384x640 20 persons, 7 cars, 22 motorcycles, 1 bus, 2 trucks, 1 potted plant, 408.2ms\n"
      ]
     },
     "metadata": {},
     "output_type": "display_data"
    },
    {
     "data": {
      "text/plain": [
       "Speed: 1.9ms preprocess, 408.2ms inference, 1.0ms postprocess per image at shape (1, 3, 384, 640)\n"
      ]
     },
     "metadata": {},
     "output_type": "display_data"
    },
    {
     "data": {
      "text/plain": [
       "\n"
      ]
     },
     "metadata": {},
     "output_type": "display_data"
    },
    {
     "data": {
      "text/plain": [
       "0: 384x640 20 persons, 7 cars, 22 motorcycles, 1 bus, 2 trucks, 1 potted plant, 412.1ms\n"
      ]
     },
     "metadata": {},
     "output_type": "display_data"
    },
    {
     "data": {
      "text/plain": [
       "Speed: 2.1ms preprocess, 412.1ms inference, 1.0ms postprocess per image at shape (1, 3, 384, 640)\n"
      ]
     },
     "metadata": {},
     "output_type": "display_data"
    },
    {
     "data": {
      "text/plain": [
       "\n"
      ]
     },
     "metadata": {},
     "output_type": "display_data"
    },
    {
     "data": {
      "text/plain": [
       "0: 384x640 20 persons, 7 cars, 22 motorcycles, 1 bus, 2 trucks, 1 potted plant, 417.7ms\n"
      ]
     },
     "metadata": {},
     "output_type": "display_data"
    },
    {
     "data": {
      "text/plain": [
       "Speed: 2.2ms preprocess, 417.7ms inference, 1.0ms postprocess per image at shape (1, 3, 384, 640)\n"
      ]
     },
     "metadata": {},
     "output_type": "display_data"
    },
    {
     "data": {
      "text/plain": [
       "\n"
      ]
     },
     "metadata": {},
     "output_type": "display_data"
    },
    {
     "data": {
      "text/plain": [
       "0: 384x640 18 persons, 7 cars, 22 motorcycles, 1 bus, 2 trucks, 1 potted plant, 408.0ms\n"
      ]
     },
     "metadata": {},
     "output_type": "display_data"
    },
    {
     "data": {
      "text/plain": [
       "Speed: 1.9ms preprocess, 408.0ms inference, 1.0ms postprocess per image at shape (1, 3, 384, 640)\n"
      ]
     },
     "metadata": {},
     "output_type": "display_data"
    },
    {
     "data": {
      "text/plain": [
       "\n"
      ]
     },
     "metadata": {},
     "output_type": "display_data"
    },
    {
     "data": {
      "text/plain": [
       "0: 384x640 17 persons, 7 cars, 22 motorcycles, 1 bus, 2 trucks, 1 potted plant, 413.0ms\n"
      ]
     },
     "metadata": {},
     "output_type": "display_data"
    },
    {
     "data": {
      "text/plain": [
       "Speed: 2.0ms preprocess, 413.0ms inference, 1.0ms postprocess per image at shape (1, 3, 384, 640)\n"
      ]
     },
     "metadata": {},
     "output_type": "display_data"
    },
    {
     "data": {
      "text/plain": [
       "\n"
      ]
     },
     "metadata": {},
     "output_type": "display_data"
    },
    {
     "data": {
      "text/plain": [
       "0: 384x640 19 persons, 7 cars, 21 motorcycles, 1 bus, 2 trucks, 1 potted plant, 408.3ms\n"
      ]
     },
     "metadata": {},
     "output_type": "display_data"
    },
    {
     "data": {
      "text/plain": [
       "Speed: 1.8ms preprocess, 408.3ms inference, 1.0ms postprocess per image at shape (1, 3, 384, 640)\n"
      ]
     },
     "metadata": {},
     "output_type": "display_data"
    },
    {
     "data": {
      "text/plain": [
       "\n"
      ]
     },
     "metadata": {},
     "output_type": "display_data"
    },
    {
     "data": {
      "text/plain": [
       "0: 384x640 19 persons, 7 cars, 21 motorcycles, 1 bus, 2 trucks, 1 potted plant, 414.9ms\n"
      ]
     },
     "metadata": {},
     "output_type": "display_data"
    },
    {
     "data": {
      "text/plain": [
       "Speed: 2.2ms preprocess, 414.9ms inference, 0.9ms postprocess per image at shape (1, 3, 384, 640)\n"
      ]
     },
     "metadata": {},
     "output_type": "display_data"
    },
    {
     "data": {
      "text/plain": [
       "Video has been saved to run/vietnam_tracked.mp4\n"
      ]
     },
     "metadata": {},
     "output_type": "display_data"
    }
   ],
   "source": [
    "track_history = defaultdict(lambda: [])\n",
    "\n",
    "while cap.isOpened():\n",
    "    sucess, frame = cap.read()\n",
    "\n",
    "    if sucess:\n",
    "        results = model.track(frame, persist=True, show=False)\n",
    "\n",
    "        boxes = results[0].boxes.xywh.cpu()\n",
    "        try:\n",
    "            track_ids = results.boxes.id\n",
    "            if track_ids is not None:\n",
    "                track_ids = track_ids.int().cpu().tolist()\n",
    "            else:\n",
    "                track_ids = []\n",
    "        except AttributeError:\n",
    "            track_ids = []\n",
    "\n",
    "        annotated_frame = results[0].plot()\n",
    "\n",
    "        if track_ids:\n",
    "            for box, track_id in zip(boxes, track_ids):\n",
    "                x, y, w, h = box\n",
    "                track = track_history[track_id]\n",
    "                track.append((float(x), float(y)))\n",
    "\n",
    "                if len(track) > 120:\n",
    "                    track.pop(0)\n",
    "\n",
    "                points = np.hstack(track).astype(np.int32).reshape((-1, 1, 2))\n",
    "                cv2.polyline(\n",
    "                    annotated_frame,\n",
    "                    [points],\n",
    "                    isClosed=False,\n",
    "                    color=(230, 230, 230),\n",
    "                    thickness=4\n",
    "                )\n",
    "        out.write(annotated_frame)\n",
    "    else:\n",
    "        break\n",
    "\n",
    "cap.release()\n",
    "out.release()\n",
    "print(f'Video has been saved to {output_path}')"
   ]
  },
  {
   "cell_type": "code",
   "execution_count": 5,
   "id": "8a4cc5e8",
   "metadata": {
    "lines_to_next_cell": 0
   },
   "outputs": [],
   "source": [
    "def load_config():\n",
    "    return {\n",
    "        'model_path': 'yolo11x.pt',\n",
    "        'track_history_length': 120,\n",
    "        'batch_size': 64,\n",
    "        'line_thickness': 4,\n",
    "        'track_color': (230, 230, 230)\n",
    "    }\n",
    "\n",
    "def initialize_video(video_path):\n",
    "    cap = cv2.VideoCapture(video_path)\n",
    "    width = int(cap.get(cv2.CAP_PROP_FRAME_WIDTH))\n",
    "    height = int(cap.get(cv2.CAP_PROP_FRAME_HEIGHT))\n",
    "    fps = int(cap.get(cv2.CAP_PROP_FPS))\n",
    "\n",
    "    video_name = video_path.split('/')[-1]\n",
    "    output_path = f'run/{video_name.split(\".\")[0]}_tracked.mp4'\n",
    "    fourcc = cv2.VideoWriter_fourcc(*'mp4v')\n",
    "    out = cv2.VideoWriter(output_path, fourcc, fps, (width, height))\n",
    "\n",
    "    return cap, out, output_path    "
   ]
  },
  {
   "cell_type": "code",
   "execution_count": 6,
   "id": "b46d2f2b",
   "metadata": {
    "lines_to_next_cell": 0
   },
   "outputs": [],
   "source": [
    "def update_track_history(track_history, last_seen, track_ids, frame_count, batch_size, frame_idx, history_length):\n",
    "    current_tracks = set(track_ids)\n",
    "    for track_id in list(track_history.keys()):\n",
    "        if track_id in current_tracks:\n",
    "            last_seen[track_id] = frame_count - (batch_size - frame_idx - 1)\n",
    "        elif frame_count - last_seen[track_id] > history_length:\n",
    "            del track_history[track_id]\n",
    "            del last_seen[track_id]"
   ]
  },
  {
   "cell_type": "code",
   "execution_count": 7,
   "id": "e7052315",
   "metadata": {
    "lines_to_next_cell": 0
   },
   "outputs": [],
   "source": [
    "def draw_tracks(frame, boxes, track_ids, track_history, config):\n",
    "    if not track_ids:\n",
    "        return frame\n",
    "\n",
    "    for box, track_id in zip(boxes, track_ids):\n",
    "        x, y, w, h = box    \n",
    "        track = track_history[track_id]\n",
    "        track.append((float(x), float(y)))\n",
    "        if len(track) > config['track_history_length']:\n",
    "            track.pop(0)\n",
    "\n",
    "        points = np.hstack(track).astype(np.int32).reshape((-1, 1, 2))\n",
    "        cv2.polylines(\n",
    "            frame,\n",
    "            [points],\n",
    "            isClosed=False,\n",
    "            color=config['track_color'],\n",
    "            thickness=config['line_thickness']\n",
    "        )\n",
    "\n",
    "    return frame"
   ]
  },
  {
   "cell_type": "code",
   "execution_count": 8,
   "id": "6e85abc3",
   "metadata": {
    "lines_to_next_cell": 0
   },
   "outputs": [],
   "source": [
    "def process_batch(model, batch_frames, track_history, last_seen, frame_count, config):\n",
    "    results = model.track(\n",
    "        batch_frames,\n",
    "        persist=True,\n",
    "        tracker='botsort.yaml',\n",
    "        show=False,\n",
    "        verbose=False,\n",
    "        iou=0.5\n",
    "    )\n",
    "\n",
    "    processed_frames = []\n",
    "    for frame_idx, result in enumerate(results):\n",
    "        boxes = result.boxes.xywh.cpu()\n",
    "        track_ids = (result.boxes.id.int().cpu().tolist() if result.boxes.id is not None else [])\n",
    "\n",
    "        update_track_history(\n",
    "            track_history,\n",
    "            last_seen,\n",
    "            track_ids,\n",
    "            frame_count,\n",
    "            len(batch_frames),\n",
    "            frame_idx,\n",
    "            config['track_history_length']\n",
    "        )\n",
    "\n",
    "        annotated_frame = result.plot(font_size=4, line_width=2)\n",
    "        annotated_frame = draw_tracks(annotated_frame, boxes, track_ids, track_history, config)\n",
    "        processed_frames.append(annotated_frame)\n",
    "\n",
    "    return processed_frames"
   ]
  },
  {
   "cell_type": "code",
   "execution_count": 9,
   "id": "39c1affc",
   "metadata": {
    "lines_to_next_cell": 0
   },
   "outputs": [],
   "source": [
    "def main(video_path):\n",
    "    CONFIG = load_config()\n",
    "    model = YOLO(CONFIG.get('model_path', 'yolo11x.pt'))\n",
    "\n",
    "    cap, out, output_path = initialize_video(video_path)\n",
    "    track_history = defaultdict(lambda: [])\n",
    "    last_seen = defaultdict(int)\n",
    "    total_frames = int(cap.get(cv2.CAP_PROP_FRAME_COUNT))\n",
    "\n",
    "    with tqdm(total=total_frames, desc='Processing frames', colour='green') as pbar:\n",
    "        frame_count = 0\n",
    "        batch_frames = []\n",
    "\n",
    "        while cap.isOpened():\n",
    "            success, frame = cap.read()\n",
    "            if not success:\n",
    "                break\n",
    "        \n",
    "            frame_count += 1\n",
    "            batch_frames.append(frame)\n",
    "\n",
    "            if len(batch_frames) == CONFIG[\"batch_size\"] or frame_count == total_frames:\n",
    "                try:\n",
    "                    processed_frames = process_batch(\n",
    "                        model,\n",
    "                        batch_frames,\n",
    "                        track_history,\n",
    "                        last_seen,\n",
    "                        frame_count,\n",
    "                        CONFIG\n",
    "                    )\n",
    "                    for frame in processed_frames:\n",
    "                        out.write(frame)\n",
    "                        pbar.update(1)\n",
    "                    batch_frames = []\n",
    "                except Exception as e:\n",
    "                    logger.error(f'Error when handling frames {frame_count - len(batch_frames) + 1} to {frame_count}: {str(e)}')\n",
    "                    batch_frames = []\n",
    "                    continue\n",
    "    try:\n",
    "        cap.release()\n",
    "        out.release()\n",
    "        cv2.destroyAllWindows()\n",
    "        logger.info(f'{output_path}')\n",
    "    except Exception as e:\n",
    "        logger.error(f'{str(e)}')"
   ]
  },
  {
   "cell_type": "code",
   "execution_count": 10,
   "id": "77c4c613",
   "metadata": {},
   "outputs": [
    {
     "data": {
      "text/plain": [
       "Downloading https://github.com/ultralytics/assets/releases/download/v8.3.0/yolo11x.pt to 'yolo11x.pt'...\n",
       "\n",
       "100%|██████████| 109M/109M [00:03<00:00, 30.9MB/s]"
      ]
     },
     "metadata": {},
     "output_type": "display_data"
    },
    {
     "data": {
      "text/plain": [
       "\n"
      ]
     },
     "metadata": {},
     "output_type": "display_data"
    },
    {
     "ename": "TypeError",
     "evalue": "unsupported format string passed to builtin_function_or_method.__format__",
     "output_type": "error",
     "traceback": [
      "\u001b[0;31m---------------------------------------------------------------------------\u001b[0m",
      "\u001b[0;31mTypeError\u001b[0m                                 Traceback (most recent call last)",
      "Cell \u001b[0;32mIn[10], line 1\u001b[0m\n\u001b[0;32m----> 1\u001b[0m \u001b[43mmain\u001b[49m\u001b[43m(\u001b[49m\u001b[38;5;124;43m'\u001b[39;49m\u001b[38;5;124;43msamples/thai.mp4\u001b[39;49m\u001b[38;5;124;43m'\u001b[39;49m\u001b[43m)\u001b[49m\n",
      "Cell \u001b[0;32mIn[9], line 5\u001b[0m, in \u001b[0;36mmain\u001b[0;34m(video_path)\u001b[0m\n\u001b[1;32m      2\u001b[0m CONFIG \u001b[38;5;241m=\u001b[39m load_config()\n\u001b[1;32m      3\u001b[0m model \u001b[38;5;241m=\u001b[39m YOLO(CONFIG\u001b[38;5;241m.\u001b[39mget(\u001b[38;5;124m'\u001b[39m\u001b[38;5;124mmodel_path\u001b[39m\u001b[38;5;124m'\u001b[39m, \u001b[38;5;124m'\u001b[39m\u001b[38;5;124myolo11x.pt\u001b[39m\u001b[38;5;124m'\u001b[39m))\n\u001b[0;32m----> 5\u001b[0m cap, out, output_path \u001b[38;5;241m=\u001b[39m \u001b[43minitialize_video\u001b[49m\u001b[43m(\u001b[49m\u001b[43mvideo_path\u001b[49m\u001b[43m)\u001b[49m\n\u001b[1;32m      6\u001b[0m track_history \u001b[38;5;241m=\u001b[39m defaultdict(\u001b[38;5;28;01mlambda\u001b[39;00m: [])\n\u001b[1;32m      7\u001b[0m last_seen \u001b[38;5;241m=\u001b[39m defaultdict(\u001b[38;5;28mint\u001b[39m)\n",
      "Cell \u001b[0;32mIn[5], line 17\u001b[0m, in \u001b[0;36minitialize_video\u001b[0;34m(video_path)\u001b[0m\n\u001b[1;32m     14\u001b[0m fps \u001b[38;5;241m=\u001b[39m \u001b[38;5;28mint\u001b[39m(cap\u001b[38;5;241m.\u001b[39mget(cv2\u001b[38;5;241m.\u001b[39mCAP_PROP_FPS))\n\u001b[1;32m     16\u001b[0m video_name \u001b[38;5;241m=\u001b[39m video_path\u001b[38;5;241m.\u001b[39msplit(\u001b[38;5;124m'\u001b[39m\u001b[38;5;124m/\u001b[39m\u001b[38;5;124m'\u001b[39m)[\u001b[38;5;241m-\u001b[39m\u001b[38;5;241m1\u001b[39m]\n\u001b[0;32m---> 17\u001b[0m output_path \u001b[38;5;241m=\u001b[39m \u001b[38;5;124mf\u001b[39m\u001b[38;5;124m'\u001b[39m\u001b[38;5;124mrun/\u001b[39m\u001b[38;5;132;01m{\u001b[39;00mvideo_name\u001b[38;5;241m.\u001b[39msplit\u001b[38;5;132;01m:\u001b[39;00m\u001b[38;5;124m(\u001b[39m\u001b[38;5;124m\"\u001b[39m\u001b[38;5;124m.\u001b[39m\u001b[38;5;124m\"\u001b[39m\u001b[38;5;124m)[0]\u001b[39m\u001b[38;5;132;01m}\u001b[39;00m\u001b[38;5;124m_tracked.mp4\u001b[39m\u001b[38;5;124m'\u001b[39m\n\u001b[1;32m     18\u001b[0m fourcc \u001b[38;5;241m=\u001b[39m cv2\u001b[38;5;241m.\u001b[39mVideoWriter_fourcc(\u001b[38;5;241m*\u001b[39m\u001b[38;5;124m'\u001b[39m\u001b[38;5;124mmp4v\u001b[39m\u001b[38;5;124m'\u001b[39m)\n\u001b[1;32m     19\u001b[0m out \u001b[38;5;241m=\u001b[39m cv2\u001b[38;5;241m.\u001b[39mVideoWriter(output_path, fourcc, fps, (width, height))\n",
      "\u001b[0;31mTypeError\u001b[0m: unsupported format string passed to builtin_function_or_method.__format__"
     ]
    }
   ],
   "source": [
    "main('samples/thai.mp4')"
   ]
  }
 ],
 "metadata": {
  "kernelspec": {
   "display_name": "Python 3",
   "language": "python",
   "name": "python3"
  },
  "language_info": {
   "codemirror_mode": {
    "name": "ipython"
   },
   "file_extension": ".py",
   "mimetype": "text/x-python",
   "name": "python",
   "nbconvert_exporter": "python",
   "pygments_lexer": "ipython3"
  }
 },
 "nbformat": 4,
 "nbformat_minor": 5
}
