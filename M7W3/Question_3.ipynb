{
 "cells": [
  {
   "cell_type": "code",
   "execution_count": 1,
   "id": "3373ed99",
   "metadata": {
    "lines_to_next_cell": 0
   },
   "outputs": [],
   "source": [
    "import cv2\n",
    "import uuid\n",
    "from pathlib import Path\n",
    "\n",
    "from ultralytics import YOLOWorld\n",
    "from ultralytics.engine.results import Boxes"
   ]
  },
  {
   "cell_type": "code",
   "execution_count": 2,
   "id": "e700ec9c",
   "metadata": {
    "lines_to_next_cell": 0
   },
   "outputs": [],
   "source": [
    "def save_detection_results(results: Boxes) -> list[str]:\n",
    "    saved_paths = []\n",
    "\n",
    "    for i, result in enumerate(results):\n",
    "        if len(result.boxes) > 0:\n",
    "            annotated_image = result.plot()\n",
    "\n",
    "            output_path = f\"./run/img_{uuid.uuid4()}.jpg\"\n",
    "\n",
    "            cv2.imwrite(output_path, annotated_image)\n",
    "\n",
    "            saved_path = Path(output_path).resolve()\n",
    "            print(f\"Image saved to {saved_path}\")\n",
    "            saved_paths.append(str(saved_path))\n",
    "\n",
    "    return saved_paths"
   ]
  },
  {
   "cell_type": "code",
   "execution_count": 3,
   "id": "bdfe8202",
   "metadata": {
    "lines_to_next_cell": 0
   },
   "outputs": [
    {
     "data": {
      "text/plain": [
       "Downloading https://github.com/ultralytics/assets/releases/download/v8.3.0/yolov8s-world.pt to 'yolov8s-world.pt'...\n",
       "\n",
       "100%|██████████| 25.9M/25.9M [00:01<00:00, 19.6MB/s]"
      ]
     },
     "metadata": {},
     "output_type": "display_data"
    },
    {
     "data": {
      "text/plain": [
       "\n"
      ]
     },
     "metadata": {},
     "output_type": "display_data"
    }
   ],
   "source": [
    "model = YOLOWorld('yolov8s-world.pt')"
   ]
  },
  {
   "cell_type": "code",
   "execution_count": 4,
   "id": "42246a0e",
   "metadata": {
    "lines_to_next_cell": 0
   },
   "outputs": [
    {
     "data": {
      "text/plain": [
       "\u001b[31m\u001b[1mrequirements:\u001b[0m Ultralytics requirement ['git+https://github.com/ultralytics/CLIP.git'] not found, attempting AutoUpdate...\n"
      ]
     },
     "metadata": {},
     "output_type": "display_data"
    },
    {
     "data": {
      "text/plain": [
       "  Running command git clone --filter=blob:none --quiet https://github.com/ultralytics/CLIP.git /tmp/pip-req-build-p0f5e8ud\n",
       "  /usr/lib/git-core/git-remote-https: /home/Sinner/miniforge3/envs/AIO2024/lib/libcurl.so.4: no version information available (required by /usr/lib/git-core/git-remote-https)\n"
      ]
     },
     "metadata": {},
     "output_type": "display_data"
    },
    {
     "data": {
      "text/plain": [
       "  /usr/lib/git-core/git-remote-https: /home/Sinner/miniforge3/envs/AIO2024/lib/libcurl.so.4: no version information available (required by /usr/lib/git-core/git-remote-https)\n"
      ]
     },
     "metadata": {},
     "output_type": "display_data"
    },
    {
     "data": {
      "text/plain": [
       "Collecting git+https://github.com/ultralytics/CLIP.git\n",
       "  Cloning https://github.com/ultralytics/CLIP.git to /tmp/pip-req-build-p0f5e8ud\n",
       "  Resolved https://github.com/ultralytics/CLIP.git to commit 092b5fee65f85fc0020920af395b162366d4bc16\n",
       "  Preparing metadata (setup.py): started\n",
       "  Preparing metadata (setup.py): finished with status 'done'\n",
       "Collecting ftfy (from clip==1.0)\n",
       "  Downloading ftfy-6.3.1-py3-none-any.whl.metadata (7.3 kB)\n",
       "Requirement already satisfied: regex in /home/Sinner/miniforge3/envs/AIO2024/lib/python3.11/site-packages (from clip==1.0) (2024.11.6)\n",
       "Requirement already satisfied: tqdm in /home/Sinner/miniforge3/envs/AIO2024/lib/python3.11/site-packages (from clip==1.0) (4.67.1)\n",
       "Requirement already satisfied: torch in /home/Sinner/miniforge3/envs/AIO2024/lib/python3.11/site-packages (from clip==1.0) (2.5.1.post107)\n",
       "Requirement already satisfied: torchvision in /home/Sinner/miniforge3/envs/AIO2024/lib/python3.11/site-packages (from clip==1.0) (0.20.1)\n",
       "Requirement already satisfied: wcwidth in /home/Sinner/miniforge3/envs/AIO2024/lib/python3.11/site-packages (from ftfy->clip==1.0) (0.2.13)\n",
       "Requirement already satisfied: filelock in /home/Sinner/miniforge3/envs/AIO2024/lib/python3.11/site-packages (from torch->clip==1.0) (3.16.1)\n",
       "Requirement already satisfied: typing-extensions>=4.8.0 in /home/Sinner/miniforge3/envs/AIO2024/lib/python3.11/site-packages (from torch->clip==1.0) (4.12.2)\n",
       "Requirement already satisfied: sympy!=1.13.2,>=1.13.1 in /home/Sinner/miniforge3/envs/AIO2024/lib/python3.11/site-packages (from torch->clip==1.0) (1.13.3)\n",
       "Requirement already satisfied: networkx in /home/Sinner/miniforge3/envs/AIO2024/lib/python3.11/site-packages (from torch->clip==1.0) (3.4.2)\n",
       "Requirement already satisfied: jinja2 in /home/Sinner/miniforge3/envs/AIO2024/lib/python3.11/site-packages (from torch->clip==1.0) (3.1.5)\n",
       "Requirement already satisfied: fsspec in /home/Sinner/miniforge3/envs/AIO2024/lib/python3.11/site-packages (from torch->clip==1.0) (2024.9.0)\n",
       "Requirement already satisfied: numpy in /home/Sinner/miniforge3/envs/AIO2024/lib/python3.11/site-packages (from torchvision->clip==1.0) (1.26.4)\n",
       "Requirement already satisfied: pillow!=8.3.*,>=5.3.0 in /home/Sinner/miniforge3/envs/AIO2024/lib/python3.11/site-packages (from torchvision->clip==1.0) (11.1.0)\n",
       "Requirement already satisfied: mpmath<1.4,>=1.1.0 in /home/Sinner/miniforge3/envs/AIO2024/lib/python3.11/site-packages (from sympy!=1.13.2,>=1.13.1->torch->clip==1.0) (1.3.0)\n",
       "Requirement already satisfied: MarkupSafe>=2.0 in /home/Sinner/miniforge3/envs/AIO2024/lib/python3.11/site-packages (from jinja2->torch->clip==1.0) (3.0.2)\n",
       "Downloading ftfy-6.3.1-py3-none-any.whl (44 kB)\n",
       "Building wheels for collected packages: clip\n",
       "  Building wheel for clip (setup.py): started\n",
       "  Building wheel for clip (setup.py): finished with status 'done'\n",
       "  Created wheel for clip: filename=clip-1.0-py3-none-any.whl size=1382443 sha256=b808691db0c0f3b697c36b7828cb2205097c1cf2e5d3522018916b341d7ba5c7\n",
       "  Stored in directory: /tmp/pip-ephem-wheel-cache-7quiem63/wheels/04/89/1d/c5712518ddb082b177c25dd0e1119b6a1c45ea1ab4e7fcd8a6\n",
       "Successfully built clip\n",
       "Installing collected packages: ftfy, clip\n",
       "Successfully installed clip-1.0 ftfy-6.3.1\n",
       "\n"
      ]
     },
     "metadata": {},
     "output_type": "display_data"
    },
    {
     "data": {
      "text/plain": [
       "\u001b[31m\u001b[1mrequirements:\u001b[0m AutoUpdate success ✅ 5.6s, installed 1 package: ['git+https://github.com/ultralytics/CLIP.git']\n",
       "\u001b[31m\u001b[1mrequirements:\u001b[0m ⚠️ \u001b[1mRestart runtime or rerun command for updates to take effect\u001b[0m\n",
       "\n",
       "\n",
       "100%|███████████████████████████████████████| 338M/338M [00:41<00:00, 8.50MiB/s]"
      ]
     },
     "metadata": {},
     "output_type": "display_data"
    },
    {
     "data": {
      "text/plain": [
       "\n"
      ]
     },
     "metadata": {},
     "output_type": "display_data"
    }
   ],
   "source": [
    "model.set_classes(['bus'])"
   ]
  },
  {
   "cell_type": "code",
   "execution_count": 5,
   "id": "debf71fd",
   "metadata": {
    "lines_to_next_cell": 0
   },
   "outputs": [
    {
     "data": {
      "text/plain": [
       "\n"
      ]
     },
     "metadata": {},
     "output_type": "display_data"
    },
    {
     "data": {
      "text/plain": [
       "image 1/1 /home/Sinner/Github/AIO2024/M7W3/samples/bus.jpg: 640x480 1 bus, 180.2ms\n"
      ]
     },
     "metadata": {},
     "output_type": "display_data"
    },
    {
     "data": {
      "text/plain": [
       "Speed: 1.6ms preprocess, 180.2ms inference, 0.5ms postprocess per image at shape (1, 3, 640, 480)\n"
      ]
     },
     "metadata": {},
     "output_type": "display_data"
    }
   ],
   "source": [
    "results: Boxes = model.predict('samples/bus.jpg')"
   ]
  },
  {
   "cell_type": "code",
   "execution_count": 6,
   "id": "4813042b",
   "metadata": {},
   "outputs": [
    {
     "data": {
      "text/plain": [
       "Image saved to /home/Sinner/Github/AIO2024/M7W3/run/img_4a185c0a-c9dc-41e3-b30b-c474609f8da1.jpg\n"
      ]
     },
     "metadata": {},
     "output_type": "display_data"
    },
    {
     "data": {
      "text/plain": [
       "['/home/Sinner/Github/AIO2024/M7W3/run/img_4a185c0a-c9dc-41e3-b30b-c474609f8da1.jpg']"
      ]
     },
     "metadata": {},
     "output_type": "display_data"
    }
   ],
   "source": [
    "save_detection_results(results)"
   ]
  }
 ],
 "metadata": {
  "kernelspec": {
   "display_name": "Python 3",
   "language": "python",
   "name": "python3"
  },
  "language_info": {
   "codemirror_mode": {
    "name": "ipython"
   },
   "file_extension": ".py",
   "mimetype": "text/x-python",
   "name": "python",
   "nbconvert_exporter": "python",
   "pygments_lexer": "ipython3"
  }
 },
 "nbformat": 4,
 "nbformat_minor": 5
}
