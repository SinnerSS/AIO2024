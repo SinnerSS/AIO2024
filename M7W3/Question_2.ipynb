{
 "cells": [
  {
   "cell_type": "code",
   "execution_count": 1,
   "id": "3678ea95",
   "metadata": {
    "lines_to_next_cell": 0
   },
   "outputs": [],
   "source": [
    "import cv2\n",
    "from ultralytics import solutions"
   ]
  },
  {
   "cell_type": "code",
   "execution_count": 2,
   "id": "1b530765",
   "metadata": {
    "lines_to_next_cell": 0
   },
   "outputs": [],
   "source": [
    "cap = cv2.VideoCapture('samples/highway.mp4')\n",
    "assert cap.isOpened(), 'Error reading video file'\n",
    "w, h, fps = (\n",
    "    int(cap.get(x))\n",
    "    for x in (cv2.CAP_PROP_FRAME_WIDTH, cv2.CAP_PROP_FRAME_HEIGHT, cv2.CAP_PROP_FPS)\n",
    ")\n",
    "\n",
    "region_points = [\n",
    "    (430, 700),\n",
    "    (1600, 700),\n",
    "    (1600, 1080),\n",
    "    (430, 1080)\n",
    "]"
   ]
  },
  {
   "cell_type": "code",
   "execution_count": 3,
   "id": "5ec14ee1",
   "metadata": {
    "lines_to_next_cell": 0
   },
   "outputs": [],
   "source": [
    "video_writer = cv2.VideoWriter('run/highway_counted.mp4', cv2.VideoWriter_fourcc(*'mp4v'), fps, (w, h))"
   ]
  },
  {
   "cell_type": "code",
   "execution_count": 4,
   "id": "99437c6a",
   "metadata": {
    "lines_to_next_cell": 0
   },
   "outputs": [
    {
     "data": {
      "text/plain": [
       "\u001b[31m\u001b[1mrequirements:\u001b[0m Ultralytics requirement ['shapely>=2.0.0'] not found, attempting AutoUpdate...\n"
      ]
     },
     "metadata": {},
     "output_type": "display_data"
    },
    {
     "data": {
      "text/plain": [
       "Collecting shapely>=2.0.0\n",
       "  Downloading shapely-2.0.7-cp311-cp311-manylinux_2_17_x86_64.manylinux2014_x86_64.whl.metadata (6.8 kB)\n",
       "Requirement already satisfied: numpy<3,>=1.14 in /home/Sinner/miniforge3/envs/AIO2024/lib/python3.11/site-packages (from shapely>=2.0.0) (1.26.4)\n",
       "Downloading shapely-2.0.7-cp311-cp311-manylinux_2_17_x86_64.manylinux2014_x86_64.whl (2.5 MB)\n",
       "\u001b[?25l   \u001b[38;5;237m━━━━━━━━━━━━━━━━━━━━━━━━━━━━━━━━━━━━━━━━\u001b[0m \u001b[32m0.0/2.5 MB\u001b[0m \u001b[31m?\u001b[0m eta \u001b[36m-:--:--\u001b[0m\r",
       "\u001b[2K   \u001b[38;2;249;38;114m━━━━━━━━\u001b[0m\u001b[38;5;237m╺\u001b[0m\u001b[38;5;237m━━━━━━━━━━━━━━━━━━━━━━━━━━━━━━━\u001b[0m \u001b[32m0.5/2.5 MB\u001b[0m \u001b[31m5.0 MB/s\u001b[0m eta \u001b[36m0:00:01\u001b[0m\r",
       "\u001b[2K   \u001b[38;2;114;156;31m━━━━━━━━━━━━━━━━━━━━━━━━━━━━━━━━━━━━━━━━\u001b[0m \u001b[32m2.5/2.5 MB\u001b[0m \u001b[31m12.1 MB/s\u001b[0m eta \u001b[36m0:00:00\u001b[0m\n",
       "\u001b[?25hInstalling collected packages: shapely\n",
       "Successfully installed shapely-2.0.7\n",
       "\n"
      ]
     },
     "metadata": {},
     "output_type": "display_data"
    },
    {
     "data": {
      "text/plain": [
       "\u001b[31m\u001b[1mrequirements:\u001b[0m AutoUpdate success ✅ 2.0s, installed 1 package: ['shapely>=2.0.0']\n",
       "\u001b[31m\u001b[1mrequirements:\u001b[0m ⚠️ \u001b[1mRestart runtime or rerun command for updates to take effect\u001b[0m\n",
       "\n"
      ]
     },
     "metadata": {},
     "output_type": "display_data"
    },
    {
     "data": {
      "text/plain": [
       "Ultralytics Solutions: ✅ {'region': [(430, 700), (1600, 700), (1600, 1080), (430, 1080)], 'show_in': True, 'show_out': True, 'colormap': None, 'up_angle': 145.0, 'down_angle': 90, 'kpts': [6, 8, 10], 'analytics_type': 'line', 'json_file': None, 'records': 5, 'show': False, 'model': 'yolo11x.pt'}\n"
      ]
     },
     "metadata": {},
     "output_type": "display_data"
    },
    {
     "data": {
      "text/plain": [
       "qt.qpa.plugin: Could not find the Qt platform plugin \"wayland\" in \"\"\n"
      ]
     },
     "metadata": {},
     "output_type": "display_data"
    }
   ],
   "source": [
    "counter = solutions.ObjectCounter(\n",
    "    show=False,\n",
    "    region=region_points,\n",
    "    model='yolo11x.pt'\n",
    ")"
   ]
  },
  {
   "cell_type": "code",
   "execution_count": 5,
   "id": "f5e53fe8",
   "metadata": {},
   "outputs": [
    {
     "data": {
      "text/plain": [
       "\n"
      ]
     },
     "metadata": {},
     "output_type": "display_data"
    },
    {
     "data": {
      "text/plain": [
       "0: 384x640 19 cars, 2 buss, 7 trucks, 6 traffic lights, 1045.2ms\n"
      ]
     },
     "metadata": {},
     "output_type": "display_data"
    },
    {
     "data": {
      "text/plain": [
       "Speed: 10.6ms preprocess, 1045.2ms inference, 8.7ms postprocess per image at shape (1, 3, 384, 640)\n"
      ]
     },
     "metadata": {},
     "output_type": "display_data"
    },
    {
     "data": {
      "text/plain": [
       "\n"
      ]
     },
     "metadata": {},
     "output_type": "display_data"
    },
    {
     "data": {
      "text/plain": [
       "0: 384x640 19 cars, 2 buss, 6 trucks, 6 traffic lights, 1146.1ms\n"
      ]
     },
     "metadata": {},
     "output_type": "display_data"
    },
    {
     "data": {
      "text/plain": [
       "Speed: 3.5ms preprocess, 1146.1ms inference, 1.4ms postprocess per image at shape (1, 3, 384, 640)\n"
      ]
     },
     "metadata": {},
     "output_type": "display_data"
    },
    {
     "data": {
      "text/plain": [
       "\n"
      ]
     },
     "metadata": {},
     "output_type": "display_data"
    },
    {
     "data": {
      "text/plain": [
       "0: 384x640 17 cars, 2 buss, 6 trucks, 6 traffic lights, 1162.8ms\n"
      ]
     },
     "metadata": {},
     "output_type": "display_data"
    },
    {
     "data": {
      "text/plain": [
       "Speed: 4.6ms preprocess, 1162.8ms inference, 1.7ms postprocess per image at shape (1, 3, 384, 640)\n"
      ]
     },
     "metadata": {},
     "output_type": "display_data"
    },
    {
     "data": {
      "text/plain": [
       "\n"
      ]
     },
     "metadata": {},
     "output_type": "display_data"
    },
    {
     "data": {
      "text/plain": [
       "0: 384x640 17 cars, 2 buss, 5 trucks, 6 traffic lights, 1068.1ms\n"
      ]
     },
     "metadata": {},
     "output_type": "display_data"
    },
    {
     "data": {
      "text/plain": [
       "Speed: 3.2ms preprocess, 1068.1ms inference, 1.3ms postprocess per image at shape (1, 3, 384, 640)\n"
      ]
     },
     "metadata": {},
     "output_type": "display_data"
    },
    {
     "data": {
      "text/plain": [
       "\n"
      ]
     },
     "metadata": {},
     "output_type": "display_data"
    },
    {
     "data": {
      "text/plain": [
       "0: 384x640 17 cars, 2 buss, 5 trucks, 6 traffic lights, 976.8ms\n"
      ]
     },
     "metadata": {},
     "output_type": "display_data"
    },
    {
     "data": {
      "text/plain": [
       "Speed: 3.0ms preprocess, 976.8ms inference, 1.3ms postprocess per image at shape (1, 3, 384, 640)\n"
      ]
     },
     "metadata": {},
     "output_type": "display_data"
    },
    {
     "data": {
      "text/plain": [
       "\n"
      ]
     },
     "metadata": {},
     "output_type": "display_data"
    },
    {
     "data": {
      "text/plain": [
       "0: 384x640 18 cars, 2 buss, 6 trucks, 6 traffic lights, 948.0ms\n"
      ]
     },
     "metadata": {},
     "output_type": "display_data"
    },
    {
     "data": {
      "text/plain": [
       "Speed: 3.9ms preprocess, 948.0ms inference, 1.0ms postprocess per image at shape (1, 3, 384, 640)\n"
      ]
     },
     "metadata": {},
     "output_type": "display_data"
    },
    {
     "data": {
      "text/plain": [
       "\n"
      ]
     },
     "metadata": {},
     "output_type": "display_data"
    },
    {
     "data": {
      "text/plain": [
       "0: 384x640 19 cars, 3 buss, 4 trucks, 5 traffic lights, 988.8ms\n"
      ]
     },
     "metadata": {},
     "output_type": "display_data"
    },
    {
     "data": {
      "text/plain": [
       "Speed: 2.4ms preprocess, 988.8ms inference, 1.0ms postprocess per image at shape (1, 3, 384, 640)\n"
      ]
     },
     "metadata": {},
     "output_type": "display_data"
    },
    {
     "data": {
      "text/plain": [
       "\n"
      ]
     },
     "metadata": {},
     "output_type": "display_data"
    },
    {
     "data": {
      "text/plain": [
       "0: 384x640 19 cars, 3 buss, 6 trucks, 6 traffic lights, 905.7ms\n"
      ]
     },
     "metadata": {},
     "output_type": "display_data"
    },
    {
     "data": {
      "text/plain": [
       "Speed: 2.2ms preprocess, 905.7ms inference, 1.1ms postprocess per image at shape (1, 3, 384, 640)\n"
      ]
     },
     "metadata": {},
     "output_type": "display_data"
    },
    {
     "data": {
      "text/plain": [
       "\n"
      ]
     },
     "metadata": {},
     "output_type": "display_data"
    },
    {
     "data": {
      "text/plain": [
       "0: 384x640 19 cars, 1 bus, 5 trucks, 5 traffic lights, 933.9ms\n"
      ]
     },
     "metadata": {},
     "output_type": "display_data"
    },
    {
     "data": {
      "text/plain": [
       "Speed: 2.6ms preprocess, 933.9ms inference, 0.9ms postprocess per image at shape (1, 3, 384, 640)\n"
      ]
     },
     "metadata": {},
     "output_type": "display_data"
    },
    {
     "data": {
      "text/plain": [
       "\n"
      ]
     },
     "metadata": {},
     "output_type": "display_data"
    },
    {
     "data": {
      "text/plain": [
       "0: 384x640 19 cars, 2 buss, 5 trucks, 5 traffic lights, 924.6ms\n"
      ]
     },
     "metadata": {},
     "output_type": "display_data"
    },
    {
     "data": {
      "text/plain": [
       "Speed: 2.0ms preprocess, 924.6ms inference, 0.9ms postprocess per image at shape (1, 3, 384, 640)\n"
      ]
     },
     "metadata": {},
     "output_type": "display_data"
    },
    {
     "data": {
      "text/plain": [
       "\n"
      ]
     },
     "metadata": {},
     "output_type": "display_data"
    },
    {
     "data": {
      "text/plain": [
       "0: 384x640 20 cars, 2 buss, 6 trucks, 5 traffic lights, 891.8ms\n"
      ]
     },
     "metadata": {},
     "output_type": "display_data"
    },
    {
     "data": {
      "text/plain": [
       "Speed: 2.3ms preprocess, 891.8ms inference, 1.0ms postprocess per image at shape (1, 3, 384, 640)\n"
      ]
     },
     "metadata": {},
     "output_type": "display_data"
    },
    {
     "data": {
      "text/plain": [
       "\n"
      ]
     },
     "metadata": {},
     "output_type": "display_data"
    },
    {
     "data": {
      "text/plain": [
       "0: 384x640 20 cars, 2 buss, 5 trucks, 5 traffic lights, 923.9ms\n"
      ]
     },
     "metadata": {},
     "output_type": "display_data"
    },
    {
     "data": {
      "text/plain": [
       "Speed: 2.8ms preprocess, 923.9ms inference, 1.4ms postprocess per image at shape (1, 3, 384, 640)\n"
      ]
     },
     "metadata": {},
     "output_type": "display_data"
    },
    {
     "data": {
      "text/plain": [
       "\n"
      ]
     },
     "metadata": {},
     "output_type": "display_data"
    },
    {
     "data": {
      "text/plain": [
       "0: 384x640 18 cars, 2 buss, 7 trucks, 5 traffic lights, 911.5ms\n"
      ]
     },
     "metadata": {},
     "output_type": "display_data"
    },
    {
     "data": {
      "text/plain": [
       "Speed: 3.4ms preprocess, 911.5ms inference, 0.9ms postprocess per image at shape (1, 3, 384, 640)\n"
      ]
     },
     "metadata": {},
     "output_type": "display_data"
    },
    {
     "data": {
      "text/plain": [
       "\n"
      ]
     },
     "metadata": {},
     "output_type": "display_data"
    },
    {
     "data": {
      "text/plain": [
       "0: 384x640 19 cars, 2 buss, 6 trucks, 5 traffic lights, 920.2ms\n"
      ]
     },
     "metadata": {},
     "output_type": "display_data"
    },
    {
     "data": {
      "text/plain": [
       "Speed: 3.8ms preprocess, 920.2ms inference, 1.4ms postprocess per image at shape (1, 3, 384, 640)\n"
      ]
     },
     "metadata": {},
     "output_type": "display_data"
    },
    {
     "data": {
      "text/plain": [
       "\n"
      ]
     },
     "metadata": {},
     "output_type": "display_data"
    },
    {
     "data": {
      "text/plain": [
       "0: 384x640 17 cars, 2 buss, 6 trucks, 5 traffic lights, 911.6ms\n"
      ]
     },
     "metadata": {},
     "output_type": "display_data"
    },
    {
     "data": {
      "text/plain": [
       "Speed: 2.5ms preprocess, 911.6ms inference, 0.9ms postprocess per image at shape (1, 3, 384, 640)\n"
      ]
     },
     "metadata": {},
     "output_type": "display_data"
    },
    {
     "data": {
      "text/plain": [
       "\n"
      ]
     },
     "metadata": {},
     "output_type": "display_data"
    },
    {
     "data": {
      "text/plain": [
       "0: 384x640 17 cars, 2 buss, 8 trucks, 5 traffic lights, 914.5ms\n"
      ]
     },
     "metadata": {},
     "output_type": "display_data"
    },
    {
     "data": {
      "text/plain": [
       "Speed: 2.0ms preprocess, 914.5ms inference, 1.0ms postprocess per image at shape (1, 3, 384, 640)\n"
      ]
     },
     "metadata": {},
     "output_type": "display_data"
    },
    {
     "data": {
      "text/plain": [
       "\n"
      ]
     },
     "metadata": {},
     "output_type": "display_data"
    },
    {
     "data": {
      "text/plain": [
       "0: 384x640 17 cars, 2 buss, 7 trucks, 5 traffic lights, 896.8ms\n"
      ]
     },
     "metadata": {},
     "output_type": "display_data"
    },
    {
     "data": {
      "text/plain": [
       "Speed: 3.2ms preprocess, 896.8ms inference, 1.0ms postprocess per image at shape (1, 3, 384, 640)\n"
      ]
     },
     "metadata": {},
     "output_type": "display_data"
    },
    {
     "data": {
      "text/plain": [
       "\n"
      ]
     },
     "metadata": {},
     "output_type": "display_data"
    },
    {
     "data": {
      "text/plain": [
       "0: 384x640 18 cars, 2 buss, 7 trucks, 5 traffic lights, 910.9ms\n"
      ]
     },
     "metadata": {},
     "output_type": "display_data"
    },
    {
     "data": {
      "text/plain": [
       "Speed: 2.5ms preprocess, 910.9ms inference, 1.3ms postprocess per image at shape (1, 3, 384, 640)\n"
      ]
     },
     "metadata": {},
     "output_type": "display_data"
    },
    {
     "data": {
      "text/plain": [
       "\n"
      ]
     },
     "metadata": {},
     "output_type": "display_data"
    },
    {
     "data": {
      "text/plain": [
       "0: 384x640 18 cars, 2 buss, 7 trucks, 5 traffic lights, 903.7ms\n"
      ]
     },
     "metadata": {},
     "output_type": "display_data"
    },
    {
     "data": {
      "text/plain": [
       "Speed: 3.2ms preprocess, 903.7ms inference, 1.0ms postprocess per image at shape (1, 3, 384, 640)\n"
      ]
     },
     "metadata": {},
     "output_type": "display_data"
    },
    {
     "data": {
      "text/plain": [
       "\n"
      ]
     },
     "metadata": {},
     "output_type": "display_data"
    },
    {
     "data": {
      "text/plain": [
       "0: 384x640 19 cars, 2 buss, 7 trucks, 5 traffic lights, 896.6ms\n"
      ]
     },
     "metadata": {},
     "output_type": "display_data"
    },
    {
     "data": {
      "text/plain": [
       "Speed: 2.1ms preprocess, 896.6ms inference, 1.0ms postprocess per image at shape (1, 3, 384, 640)\n"
      ]
     },
     "metadata": {},
     "output_type": "display_data"
    },
    {
     "data": {
      "text/plain": [
       "\n"
      ]
     },
     "metadata": {},
     "output_type": "display_data"
    },
    {
     "data": {
      "text/plain": [
       "0: 384x640 19 cars, 2 buss, 7 trucks, 5 traffic lights, 911.8ms\n"
      ]
     },
     "metadata": {},
     "output_type": "display_data"
    },
    {
     "data": {
      "text/plain": [
       "Speed: 2.2ms preprocess, 911.8ms inference, 1.0ms postprocess per image at shape (1, 3, 384, 640)\n"
      ]
     },
     "metadata": {},
     "output_type": "display_data"
    },
    {
     "data": {
      "text/plain": [
       "\n"
      ]
     },
     "metadata": {},
     "output_type": "display_data"
    },
    {
     "data": {
      "text/plain": [
       "0: 384x640 21 cars, 2 buss, 7 trucks, 5 traffic lights, 886.4ms\n"
      ]
     },
     "metadata": {},
     "output_type": "display_data"
    },
    {
     "data": {
      "text/plain": [
       "Speed: 3.7ms preprocess, 886.4ms inference, 0.9ms postprocess per image at shape (1, 3, 384, 640)\n"
      ]
     },
     "metadata": {},
     "output_type": "display_data"
    },
    {
     "data": {
      "text/plain": [
       "\n"
      ]
     },
     "metadata": {},
     "output_type": "display_data"
    },
    {
     "data": {
      "text/plain": [
       "0: 384x640 20 cars, 2 buss, 6 trucks, 5 traffic lights, 912.5ms\n"
      ]
     },
     "metadata": {},
     "output_type": "display_data"
    },
    {
     "data": {
      "text/plain": [
       "Speed: 2.4ms preprocess, 912.5ms inference, 1.0ms postprocess per image at shape (1, 3, 384, 640)\n"
      ]
     },
     "metadata": {},
     "output_type": "display_data"
    },
    {
     "data": {
      "text/plain": [
       "\n"
      ]
     },
     "metadata": {},
     "output_type": "display_data"
    },
    {
     "data": {
      "text/plain": [
       "0: 384x640 20 cars, 2 buss, 8 trucks, 6 traffic lights, 878.1ms\n"
      ]
     },
     "metadata": {},
     "output_type": "display_data"
    },
    {
     "data": {
      "text/plain": [
       "Speed: 2.3ms preprocess, 878.1ms inference, 1.0ms postprocess per image at shape (1, 3, 384, 640)\n"
      ]
     },
     "metadata": {},
     "output_type": "display_data"
    },
    {
     "data": {
      "text/plain": [
       "\n"
      ]
     },
     "metadata": {},
     "output_type": "display_data"
    },
    {
     "data": {
      "text/plain": [
       "0: 384x640 23 cars, 2 buss, 7 trucks, 6 traffic lights, 881.2ms\n"
      ]
     },
     "metadata": {},
     "output_type": "display_data"
    },
    {
     "data": {
      "text/plain": [
       "Speed: 2.1ms preprocess, 881.2ms inference, 1.1ms postprocess per image at shape (1, 3, 384, 640)\n"
      ]
     },
     "metadata": {},
     "output_type": "display_data"
    },
    {
     "data": {
      "text/plain": [
       "\n"
      ]
     },
     "metadata": {},
     "output_type": "display_data"
    },
    {
     "data": {
      "text/plain": [
       "0: 384x640 20 cars, 2 buss, 7 trucks, 6 traffic lights, 925.8ms\n"
      ]
     },
     "metadata": {},
     "output_type": "display_data"
    },
    {
     "data": {
      "text/plain": [
       "Speed: 3.5ms preprocess, 925.8ms inference, 1.7ms postprocess per image at shape (1, 3, 384, 640)\n"
      ]
     },
     "metadata": {},
     "output_type": "display_data"
    },
    {
     "data": {
      "text/plain": [
       "\n"
      ]
     },
     "metadata": {},
     "output_type": "display_data"
    },
    {
     "data": {
      "text/plain": [
       "0: 384x640 21 cars, 2 buss, 7 trucks, 6 traffic lights, 904.2ms\n"
      ]
     },
     "metadata": {},
     "output_type": "display_data"
    },
    {
     "data": {
      "text/plain": [
       "Speed: 3.6ms preprocess, 904.2ms inference, 1.2ms postprocess per image at shape (1, 3, 384, 640)\n"
      ]
     },
     "metadata": {},
     "output_type": "display_data"
    },
    {
     "data": {
      "text/plain": [
       "\n"
      ]
     },
     "metadata": {},
     "output_type": "display_data"
    },
    {
     "data": {
      "text/plain": [
       "0: 384x640 20 cars, 2 buss, 8 trucks, 6 traffic lights, 909.8ms\n"
      ]
     },
     "metadata": {},
     "output_type": "display_data"
    },
    {
     "data": {
      "text/plain": [
       "Speed: 2.5ms preprocess, 909.8ms inference, 1.6ms postprocess per image at shape (1, 3, 384, 640)\n"
      ]
     },
     "metadata": {},
     "output_type": "display_data"
    },
    {
     "data": {
      "text/plain": [
       "\n"
      ]
     },
     "metadata": {},
     "output_type": "display_data"
    },
    {
     "data": {
      "text/plain": [
       "0: 384x640 21 cars, 3 buss, 6 trucks, 6 traffic lights, 914.1ms\n"
      ]
     },
     "metadata": {},
     "output_type": "display_data"
    },
    {
     "data": {
      "text/plain": [
       "Speed: 3.4ms preprocess, 914.1ms inference, 1.2ms postprocess per image at shape (1, 3, 384, 640)\n"
      ]
     },
     "metadata": {},
     "output_type": "display_data"
    },
    {
     "data": {
      "text/plain": [
       "\n"
      ]
     },
     "metadata": {},
     "output_type": "display_data"
    },
    {
     "data": {
      "text/plain": [
       "0: 384x640 22 cars, 3 buss, 7 trucks, 6 traffic lights, 918.6ms\n"
      ]
     },
     "metadata": {},
     "output_type": "display_data"
    },
    {
     "data": {
      "text/plain": [
       "Speed: 2.7ms preprocess, 918.6ms inference, 1.1ms postprocess per image at shape (1, 3, 384, 640)\n"
      ]
     },
     "metadata": {},
     "output_type": "display_data"
    },
    {
     "data": {
      "text/plain": [
       "\n"
      ]
     },
     "metadata": {},
     "output_type": "display_data"
    },
    {
     "data": {
      "text/plain": [
       "0: 384x640 21 cars, 1 bus, 6 trucks, 5 traffic lights, 879.0ms\n"
      ]
     },
     "metadata": {},
     "output_type": "display_data"
    },
    {
     "data": {
      "text/plain": [
       "Speed: 4.3ms preprocess, 879.0ms inference, 0.8ms postprocess per image at shape (1, 3, 384, 640)\n"
      ]
     },
     "metadata": {},
     "output_type": "display_data"
    },
    {
     "data": {
      "text/plain": [
       "\n"
      ]
     },
     "metadata": {},
     "output_type": "display_data"
    },
    {
     "data": {
      "text/plain": [
       "0: 384x640 20 cars, 2 buss, 8 trucks, 5 traffic lights, 911.9ms\n"
      ]
     },
     "metadata": {},
     "output_type": "display_data"
    },
    {
     "data": {
      "text/plain": [
       "Speed: 2.2ms preprocess, 911.9ms inference, 0.9ms postprocess per image at shape (1, 3, 384, 640)\n"
      ]
     },
     "metadata": {},
     "output_type": "display_data"
    },
    {
     "data": {
      "text/plain": [
       "\n"
      ]
     },
     "metadata": {},
     "output_type": "display_data"
    },
    {
     "data": {
      "text/plain": [
       "0: 384x640 19 cars, 2 buss, 9 trucks, 5 traffic lights, 888.0ms\n"
      ]
     },
     "metadata": {},
     "output_type": "display_data"
    },
    {
     "data": {
      "text/plain": [
       "Speed: 2.1ms preprocess, 888.0ms inference, 0.9ms postprocess per image at shape (1, 3, 384, 640)\n"
      ]
     },
     "metadata": {},
     "output_type": "display_data"
    },
    {
     "data": {
      "text/plain": [
       "\n"
      ]
     },
     "metadata": {},
     "output_type": "display_data"
    },
    {
     "data": {
      "text/plain": [
       "0: 384x640 20 cars, 2 buss, 9 trucks, 5 traffic lights, 891.4ms\n"
      ]
     },
     "metadata": {},
     "output_type": "display_data"
    },
    {
     "data": {
      "text/plain": [
       "Speed: 2.2ms preprocess, 891.4ms inference, 1.6ms postprocess per image at shape (1, 3, 384, 640)\n"
      ]
     },
     "metadata": {},
     "output_type": "display_data"
    },
    {
     "data": {
      "text/plain": [
       "\n"
      ]
     },
     "metadata": {},
     "output_type": "display_data"
    },
    {
     "data": {
      "text/plain": [
       "0: 384x640 19 cars, 2 buss, 9 trucks, 5 traffic lights, 877.4ms\n"
      ]
     },
     "metadata": {},
     "output_type": "display_data"
    },
    {
     "data": {
      "text/plain": [
       "Speed: 11.7ms preprocess, 877.4ms inference, 1.7ms postprocess per image at shape (1, 3, 384, 640)\n"
      ]
     },
     "metadata": {},
     "output_type": "display_data"
    },
    {
     "data": {
      "text/plain": [
       "\n"
      ]
     },
     "metadata": {},
     "output_type": "display_data"
    },
    {
     "data": {
      "text/plain": [
       "0: 384x640 20 cars, 2 buss, 8 trucks, 5 traffic lights, 901.9ms\n"
      ]
     },
     "metadata": {},
     "output_type": "display_data"
    },
    {
     "data": {
      "text/plain": [
       "Speed: 2.5ms preprocess, 901.9ms inference, 0.8ms postprocess per image at shape (1, 3, 384, 640)\n"
      ]
     },
     "metadata": {},
     "output_type": "display_data"
    },
    {
     "data": {
      "text/plain": [
       "\n"
      ]
     },
     "metadata": {},
     "output_type": "display_data"
    },
    {
     "data": {
      "text/plain": [
       "0: 384x640 19 cars, 2 buss, 8 trucks, 5 traffic lights, 912.6ms\n"
      ]
     },
     "metadata": {},
     "output_type": "display_data"
    },
    {
     "data": {
      "text/plain": [
       "Speed: 2.2ms preprocess, 912.6ms inference, 1.0ms postprocess per image at shape (1, 3, 384, 640)\n"
      ]
     },
     "metadata": {},
     "output_type": "display_data"
    },
    {
     "data": {
      "text/plain": [
       "\n"
      ]
     },
     "metadata": {},
     "output_type": "display_data"
    },
    {
     "data": {
      "text/plain": [
       "0: 384x640 19 cars, 2 buss, 9 trucks, 5 traffic lights, 877.8ms\n"
      ]
     },
     "metadata": {},
     "output_type": "display_data"
    },
    {
     "data": {
      "text/plain": [
       "Speed: 2.2ms preprocess, 877.8ms inference, 1.5ms postprocess per image at shape (1, 3, 384, 640)\n"
      ]
     },
     "metadata": {},
     "output_type": "display_data"
    },
    {
     "data": {
      "text/plain": [
       "\n"
      ]
     },
     "metadata": {},
     "output_type": "display_data"
    },
    {
     "data": {
      "text/plain": [
       "0: 384x640 20 cars, 2 buss, 8 trucks, 5 traffic lights, 901.2ms\n"
      ]
     },
     "metadata": {},
     "output_type": "display_data"
    },
    {
     "data": {
      "text/plain": [
       "Speed: 2.3ms preprocess, 901.2ms inference, 0.9ms postprocess per image at shape (1, 3, 384, 640)\n"
      ]
     },
     "metadata": {},
     "output_type": "display_data"
    },
    {
     "data": {
      "text/plain": [
       "\n"
      ]
     },
     "metadata": {},
     "output_type": "display_data"
    },
    {
     "data": {
      "text/plain": [
       "0: 384x640 17 cars, 2 buss, 8 trucks, 5 traffic lights, 903.2ms\n"
      ]
     },
     "metadata": {},
     "output_type": "display_data"
    },
    {
     "data": {
      "text/plain": [
       "Speed: 2.1ms preprocess, 903.2ms inference, 1.1ms postprocess per image at shape (1, 3, 384, 640)\n"
      ]
     },
     "metadata": {},
     "output_type": "display_data"
    },
    {
     "data": {
      "text/plain": [
       "\n"
      ]
     },
     "metadata": {},
     "output_type": "display_data"
    },
    {
     "data": {
      "text/plain": [
       "0: 384x640 16 cars, 2 buss, 8 trucks, 5 traffic lights, 893.2ms\n"
      ]
     },
     "metadata": {},
     "output_type": "display_data"
    },
    {
     "data": {
      "text/plain": [
       "Speed: 2.4ms preprocess, 893.2ms inference, 1.0ms postprocess per image at shape (1, 3, 384, 640)\n"
      ]
     },
     "metadata": {},
     "output_type": "display_data"
    },
    {
     "data": {
      "text/plain": [
       "\n"
      ]
     },
     "metadata": {},
     "output_type": "display_data"
    },
    {
     "data": {
      "text/plain": [
       "0: 384x640 16 cars, 2 buss, 9 trucks, 5 traffic lights, 916.7ms\n"
      ]
     },
     "metadata": {},
     "output_type": "display_data"
    },
    {
     "data": {
      "text/plain": [
       "Speed: 2.6ms preprocess, 916.7ms inference, 1.5ms postprocess per image at shape (1, 3, 384, 640)\n"
      ]
     },
     "metadata": {},
     "output_type": "display_data"
    },
    {
     "data": {
      "text/plain": [
       "\n"
      ]
     },
     "metadata": {},
     "output_type": "display_data"
    },
    {
     "data": {
      "text/plain": [
       "0: 384x640 16 cars, 2 buss, 9 trucks, 5 traffic lights, 913.3ms\n"
      ]
     },
     "metadata": {},
     "output_type": "display_data"
    },
    {
     "data": {
      "text/plain": [
       "Speed: 2.4ms preprocess, 913.3ms inference, 1.7ms postprocess per image at shape (1, 3, 384, 640)\n"
      ]
     },
     "metadata": {},
     "output_type": "display_data"
    },
    {
     "data": {
      "text/plain": [
       "\n"
      ]
     },
     "metadata": {},
     "output_type": "display_data"
    },
    {
     "data": {
      "text/plain": [
       "0: 384x640 17 cars, 2 buss, 8 trucks, 5 traffic lights, 898.6ms\n"
      ]
     },
     "metadata": {},
     "output_type": "display_data"
    },
    {
     "data": {
      "text/plain": [
       "Speed: 2.1ms preprocess, 898.6ms inference, 0.8ms postprocess per image at shape (1, 3, 384, 640)\n"
      ]
     },
     "metadata": {},
     "output_type": "display_data"
    },
    {
     "data": {
      "text/plain": [
       "\n"
      ]
     },
     "metadata": {},
     "output_type": "display_data"
    },
    {
     "data": {
      "text/plain": [
       "0: 384x640 17 cars, 2 buss, 7 trucks, 5 traffic lights, 929.1ms\n"
      ]
     },
     "metadata": {},
     "output_type": "display_data"
    },
    {
     "data": {
      "text/plain": [
       "Speed: 1.9ms preprocess, 929.1ms inference, 1.6ms postprocess per image at shape (1, 3, 384, 640)\n"
      ]
     },
     "metadata": {},
     "output_type": "display_data"
    },
    {
     "data": {
      "text/plain": [
       "\n"
      ]
     },
     "metadata": {},
     "output_type": "display_data"
    },
    {
     "data": {
      "text/plain": [
       "0: 384x640 19 cars, 2 buss, 6 trucks, 5 traffic lights, 893.3ms\n"
      ]
     },
     "metadata": {},
     "output_type": "display_data"
    },
    {
     "data": {
      "text/plain": [
       "Speed: 3.1ms preprocess, 893.3ms inference, 1.1ms postprocess per image at shape (1, 3, 384, 640)\n"
      ]
     },
     "metadata": {},
     "output_type": "display_data"
    },
    {
     "data": {
      "text/plain": [
       "\n"
      ]
     },
     "metadata": {},
     "output_type": "display_data"
    },
    {
     "data": {
      "text/plain": [
       "0: 384x640 18 cars, 2 buss, 7 trucks, 4 traffic lights, 1 stop sign, 888.6ms\n"
      ]
     },
     "metadata": {},
     "output_type": "display_data"
    },
    {
     "data": {
      "text/plain": [
       "Speed: 2.1ms preprocess, 888.6ms inference, 1.2ms postprocess per image at shape (1, 3, 384, 640)\n"
      ]
     },
     "metadata": {},
     "output_type": "display_data"
    },
    {
     "data": {
      "text/plain": [
       "\n"
      ]
     },
     "metadata": {},
     "output_type": "display_data"
    },
    {
     "data": {
      "text/plain": [
       "0: 384x640 18 cars, 2 buss, 7 trucks, 4 traffic lights, 1 stop sign, 892.8ms\n"
      ]
     },
     "metadata": {},
     "output_type": "display_data"
    },
    {
     "data": {
      "text/plain": [
       "Speed: 4.5ms preprocess, 892.8ms inference, 0.9ms postprocess per image at shape (1, 3, 384, 640)\n"
      ]
     },
     "metadata": {},
     "output_type": "display_data"
    },
    {
     "data": {
      "text/plain": [
       "\n"
      ]
     },
     "metadata": {},
     "output_type": "display_data"
    },
    {
     "data": {
      "text/plain": [
       "0: 384x640 17 cars, 2 buss, 7 trucks, 4 traffic lights, 1 stop sign, 899.3ms\n"
      ]
     },
     "metadata": {},
     "output_type": "display_data"
    },
    {
     "data": {
      "text/plain": [
       "Speed: 2.0ms preprocess, 899.3ms inference, 0.9ms postprocess per image at shape (1, 3, 384, 640)\n"
      ]
     },
     "metadata": {},
     "output_type": "display_data"
    },
    {
     "data": {
      "text/plain": [
       "\n"
      ]
     },
     "metadata": {},
     "output_type": "display_data"
    },
    {
     "data": {
      "text/plain": [
       "0: 384x640 17 cars, 2 buss, 7 trucks, 4 traffic lights, 881.7ms\n"
      ]
     },
     "metadata": {},
     "output_type": "display_data"
    },
    {
     "data": {
      "text/plain": [
       "Speed: 1.9ms preprocess, 881.7ms inference, 0.9ms postprocess per image at shape (1, 3, 384, 640)\n"
      ]
     },
     "metadata": {},
     "output_type": "display_data"
    },
    {
     "data": {
      "text/plain": [
       "\n"
      ]
     },
     "metadata": {},
     "output_type": "display_data"
    },
    {
     "data": {
      "text/plain": [
       "0: 384x640 17 cars, 2 buss, 7 trucks, 4 traffic lights, 902.1ms\n"
      ]
     },
     "metadata": {},
     "output_type": "display_data"
    },
    {
     "data": {
      "text/plain": [
       "Speed: 2.4ms preprocess, 902.1ms inference, 1.1ms postprocess per image at shape (1, 3, 384, 640)\n"
      ]
     },
     "metadata": {},
     "output_type": "display_data"
    },
    {
     "data": {
      "text/plain": [
       "\n"
      ]
     },
     "metadata": {},
     "output_type": "display_data"
    },
    {
     "data": {
      "text/plain": [
       "0: 384x640 18 cars, 2 buss, 6 trucks, 4 traffic lights, 904.0ms\n"
      ]
     },
     "metadata": {},
     "output_type": "display_data"
    },
    {
     "data": {
      "text/plain": [
       "Speed: 2.2ms preprocess, 904.0ms inference, 1.1ms postprocess per image at shape (1, 3, 384, 640)\n"
      ]
     },
     "metadata": {},
     "output_type": "display_data"
    },
    {
     "data": {
      "text/plain": [
       "\n"
      ]
     },
     "metadata": {},
     "output_type": "display_data"
    },
    {
     "data": {
      "text/plain": [
       "0: 384x640 17 cars, 2 buss, 7 trucks, 4 traffic lights, 925.9ms\n"
      ]
     },
     "metadata": {},
     "output_type": "display_data"
    },
    {
     "data": {
      "text/plain": [
       "Speed: 2.4ms preprocess, 925.9ms inference, 1.2ms postprocess per image at shape (1, 3, 384, 640)\n"
      ]
     },
     "metadata": {},
     "output_type": "display_data"
    },
    {
     "data": {
      "text/plain": [
       "\n"
      ]
     },
     "metadata": {},
     "output_type": "display_data"
    },
    {
     "data": {
      "text/plain": [
       "0: 384x640 18 cars, 2 buss, 7 trucks, 4 traffic lights, 925.7ms\n"
      ]
     },
     "metadata": {},
     "output_type": "display_data"
    },
    {
     "data": {
      "text/plain": [
       "Speed: 2.1ms preprocess, 925.7ms inference, 0.9ms postprocess per image at shape (1, 3, 384, 640)\n"
      ]
     },
     "metadata": {},
     "output_type": "display_data"
    },
    {
     "data": {
      "text/plain": [
       "\n"
      ]
     },
     "metadata": {},
     "output_type": "display_data"
    },
    {
     "data": {
      "text/plain": [
       "0: 384x640 19 cars, 2 buss, 5 trucks, 4 traffic lights, 921.6ms\n"
      ]
     },
     "metadata": {},
     "output_type": "display_data"
    },
    {
     "data": {
      "text/plain": [
       "Speed: 2.3ms preprocess, 921.6ms inference, 1.7ms postprocess per image at shape (1, 3, 384, 640)\n"
      ]
     },
     "metadata": {},
     "output_type": "display_data"
    },
    {
     "data": {
      "text/plain": [
       "\n"
      ]
     },
     "metadata": {},
     "output_type": "display_data"
    },
    {
     "data": {
      "text/plain": [
       "0: 384x640 14 cars, 2 buss, 7 trucks, 4 traffic lights, 908.4ms\n"
      ]
     },
     "metadata": {},
     "output_type": "display_data"
    },
    {
     "data": {
      "text/plain": [
       "Speed: 2.3ms preprocess, 908.4ms inference, 2.0ms postprocess per image at shape (1, 3, 384, 640)\n"
      ]
     },
     "metadata": {},
     "output_type": "display_data"
    },
    {
     "data": {
      "text/plain": [
       "\n"
      ]
     },
     "metadata": {},
     "output_type": "display_data"
    },
    {
     "data": {
      "text/plain": [
       "0: 384x640 15 cars, 2 buss, 5 trucks, 5 traffic lights, 918.6ms\n"
      ]
     },
     "metadata": {},
     "output_type": "display_data"
    },
    {
     "data": {
      "text/plain": [
       "Speed: 2.9ms preprocess, 918.6ms inference, 1.0ms postprocess per image at shape (1, 3, 384, 640)\n"
      ]
     },
     "metadata": {},
     "output_type": "display_data"
    },
    {
     "data": {
      "text/plain": [
       "\n"
      ]
     },
     "metadata": {},
     "output_type": "display_data"
    },
    {
     "data": {
      "text/plain": [
       "0: 384x640 17 cars, 2 buss, 5 trucks, 4 traffic lights, 933.3ms\n"
      ]
     },
     "metadata": {},
     "output_type": "display_data"
    },
    {
     "data": {
      "text/plain": [
       "Speed: 2.6ms preprocess, 933.3ms inference, 1.1ms postprocess per image at shape (1, 3, 384, 640)\n"
      ]
     },
     "metadata": {},
     "output_type": "display_data"
    },
    {
     "data": {
      "text/plain": [
       "\n"
      ]
     },
     "metadata": {},
     "output_type": "display_data"
    },
    {
     "data": {
      "text/plain": [
       "0: 384x640 17 cars, 1 bus, 5 trucks, 5 traffic lights, 893.0ms\n"
      ]
     },
     "metadata": {},
     "output_type": "display_data"
    },
    {
     "data": {
      "text/plain": [
       "Speed: 2.1ms preprocess, 893.0ms inference, 1.1ms postprocess per image at shape (1, 3, 384, 640)\n"
      ]
     },
     "metadata": {},
     "output_type": "display_data"
    },
    {
     "data": {
      "text/plain": [
       "\n"
      ]
     },
     "metadata": {},
     "output_type": "display_data"
    },
    {
     "data": {
      "text/plain": [
       "0: 384x640 18 cars, 2 buss, 6 trucks, 4 traffic lights, 888.5ms\n"
      ]
     },
     "metadata": {},
     "output_type": "display_data"
    },
    {
     "data": {
      "text/plain": [
       "Speed: 2.5ms preprocess, 888.5ms inference, 1.6ms postprocess per image at shape (1, 3, 384, 640)\n"
      ]
     },
     "metadata": {},
     "output_type": "display_data"
    },
    {
     "data": {
      "text/plain": [
       "\n"
      ]
     },
     "metadata": {},
     "output_type": "display_data"
    },
    {
     "data": {
      "text/plain": [
       "0: 384x640 18 cars, 1 bus, 5 trucks, 4 traffic lights, 899.5ms\n"
      ]
     },
     "metadata": {},
     "output_type": "display_data"
    },
    {
     "data": {
      "text/plain": [
       "Speed: 2.2ms preprocess, 899.5ms inference, 1.5ms postprocess per image at shape (1, 3, 384, 640)\n"
      ]
     },
     "metadata": {},
     "output_type": "display_data"
    },
    {
     "data": {
      "text/plain": [
       "\n"
      ]
     },
     "metadata": {},
     "output_type": "display_data"
    },
    {
     "data": {
      "text/plain": [
       "0: 384x640 17 cars, 2 buss, 6 trucks, 4 traffic lights, 897.0ms\n"
      ]
     },
     "metadata": {},
     "output_type": "display_data"
    },
    {
     "data": {
      "text/plain": [
       "Speed: 3.9ms preprocess, 897.0ms inference, 1.7ms postprocess per image at shape (1, 3, 384, 640)\n"
      ]
     },
     "metadata": {},
     "output_type": "display_data"
    },
    {
     "data": {
      "text/plain": [
       "\n"
      ]
     },
     "metadata": {},
     "output_type": "display_data"
    },
    {
     "data": {
      "text/plain": [
       "0: 384x640 17 cars, 2 buss, 6 trucks, 4 traffic lights, 884.2ms\n"
      ]
     },
     "metadata": {},
     "output_type": "display_data"
    },
    {
     "data": {
      "text/plain": [
       "Speed: 2.2ms preprocess, 884.2ms inference, 1.1ms postprocess per image at shape (1, 3, 384, 640)\n"
      ]
     },
     "metadata": {},
     "output_type": "display_data"
    },
    {
     "data": {
      "text/plain": [
       "\n"
      ]
     },
     "metadata": {},
     "output_type": "display_data"
    },
    {
     "data": {
      "text/plain": [
       "0: 384x640 15 cars, 2 buss, 7 trucks, 4 traffic lights, 916.6ms\n"
      ]
     },
     "metadata": {},
     "output_type": "display_data"
    },
    {
     "data": {
      "text/plain": [
       "Speed: 2.6ms preprocess, 916.6ms inference, 2.1ms postprocess per image at shape (1, 3, 384, 640)\n"
      ]
     },
     "metadata": {},
     "output_type": "display_data"
    },
    {
     "data": {
      "text/plain": [
       "\n"
      ]
     },
     "metadata": {},
     "output_type": "display_data"
    },
    {
     "data": {
      "text/plain": [
       "0: 384x640 15 cars, 2 buss, 7 trucks, 5 traffic lights, 888.4ms\n"
      ]
     },
     "metadata": {},
     "output_type": "display_data"
    },
    {
     "data": {
      "text/plain": [
       "Speed: 3.0ms preprocess, 888.4ms inference, 0.9ms postprocess per image at shape (1, 3, 384, 640)\n"
      ]
     },
     "metadata": {},
     "output_type": "display_data"
    },
    {
     "data": {
      "text/plain": [
       "\n"
      ]
     },
     "metadata": {},
     "output_type": "display_data"
    },
    {
     "data": {
      "text/plain": [
       "0: 384x640 16 cars, 3 buss, 5 trucks, 4 traffic lights, 877.6ms\n"
      ]
     },
     "metadata": {},
     "output_type": "display_data"
    },
    {
     "data": {
      "text/plain": [
       "Speed: 9.4ms preprocess, 877.6ms inference, 1.0ms postprocess per image at shape (1, 3, 384, 640)\n"
      ]
     },
     "metadata": {},
     "output_type": "display_data"
    },
    {
     "data": {
      "text/plain": [
       "\n"
      ]
     },
     "metadata": {},
     "output_type": "display_data"
    },
    {
     "data": {
      "text/plain": [
       "0: 384x640 19 cars, 3 buss, 6 trucks, 5 traffic lights, 900.9ms\n"
      ]
     },
     "metadata": {},
     "output_type": "display_data"
    },
    {
     "data": {
      "text/plain": [
       "Speed: 2.1ms preprocess, 900.9ms inference, 0.9ms postprocess per image at shape (1, 3, 384, 640)\n"
      ]
     },
     "metadata": {},
     "output_type": "display_data"
    },
    {
     "data": {
      "text/plain": [
       "\n"
      ]
     },
     "metadata": {},
     "output_type": "display_data"
    },
    {
     "data": {
      "text/plain": [
       "0: 384x640 19 cars, 3 buss, 5 trucks, 5 traffic lights, 905.2ms\n"
      ]
     },
     "metadata": {},
     "output_type": "display_data"
    },
    {
     "data": {
      "text/plain": [
       "Speed: 2.1ms preprocess, 905.2ms inference, 0.9ms postprocess per image at shape (1, 3, 384, 640)\n"
      ]
     },
     "metadata": {},
     "output_type": "display_data"
    },
    {
     "data": {
      "text/plain": [
       "\n"
      ]
     },
     "metadata": {},
     "output_type": "display_data"
    },
    {
     "data": {
      "text/plain": [
       "0: 384x640 17 cars, 4 buss, 4 trucks, 5 traffic lights, 899.6ms\n"
      ]
     },
     "metadata": {},
     "output_type": "display_data"
    },
    {
     "data": {
      "text/plain": [
       "Speed: 2.1ms preprocess, 899.6ms inference, 1.8ms postprocess per image at shape (1, 3, 384, 640)\n"
      ]
     },
     "metadata": {},
     "output_type": "display_data"
    },
    {
     "data": {
      "text/plain": [
       "\n"
      ]
     },
     "metadata": {},
     "output_type": "display_data"
    },
    {
     "data": {
      "text/plain": [
       "0: 384x640 16 cars, 2 buss, 4 trucks, 5 traffic lights, 915.2ms\n"
      ]
     },
     "metadata": {},
     "output_type": "display_data"
    },
    {
     "data": {
      "text/plain": [
       "Speed: 3.6ms preprocess, 915.2ms inference, 1.3ms postprocess per image at shape (1, 3, 384, 640)\n"
      ]
     },
     "metadata": {},
     "output_type": "display_data"
    },
    {
     "data": {
      "text/plain": [
       "\n"
      ]
     },
     "metadata": {},
     "output_type": "display_data"
    },
    {
     "data": {
      "text/plain": [
       "0: 384x640 18 cars, 2 buss, 4 trucks, 4 traffic lights, 905.4ms\n"
      ]
     },
     "metadata": {},
     "output_type": "display_data"
    },
    {
     "data": {
      "text/plain": [
       "Speed: 2.7ms preprocess, 905.4ms inference, 1.2ms postprocess per image at shape (1, 3, 384, 640)\n"
      ]
     },
     "metadata": {},
     "output_type": "display_data"
    },
    {
     "data": {
      "text/plain": [
       "\n"
      ]
     },
     "metadata": {},
     "output_type": "display_data"
    },
    {
     "data": {
      "text/plain": [
       "0: 384x640 18 cars, 2 buss, 4 trucks, 4 traffic lights, 877.0ms\n"
      ]
     },
     "metadata": {},
     "output_type": "display_data"
    },
    {
     "data": {
      "text/plain": [
       "Speed: 2.6ms preprocess, 877.0ms inference, 1.1ms postprocess per image at shape (1, 3, 384, 640)\n"
      ]
     },
     "metadata": {},
     "output_type": "display_data"
    },
    {
     "data": {
      "text/plain": [
       "\n"
      ]
     },
     "metadata": {},
     "output_type": "display_data"
    },
    {
     "data": {
      "text/plain": [
       "0: 384x640 17 cars, 2 buss, 5 trucks, 4 traffic lights, 907.1ms\n"
      ]
     },
     "metadata": {},
     "output_type": "display_data"
    },
    {
     "data": {
      "text/plain": [
       "Speed: 2.7ms preprocess, 907.1ms inference, 1.2ms postprocess per image at shape (1, 3, 384, 640)\n"
      ]
     },
     "metadata": {},
     "output_type": "display_data"
    },
    {
     "data": {
      "text/plain": [
       "\n"
      ]
     },
     "metadata": {},
     "output_type": "display_data"
    },
    {
     "data": {
      "text/plain": [
       "0: 384x640 15 cars, 2 buss, 5 trucks, 4 traffic lights, 913.4ms\n"
      ]
     },
     "metadata": {},
     "output_type": "display_data"
    },
    {
     "data": {
      "text/plain": [
       "Speed: 3.2ms preprocess, 913.4ms inference, 0.9ms postprocess per image at shape (1, 3, 384, 640)\n"
      ]
     },
     "metadata": {},
     "output_type": "display_data"
    },
    {
     "data": {
      "text/plain": [
       "\n"
      ]
     },
     "metadata": {},
     "output_type": "display_data"
    },
    {
     "data": {
      "text/plain": [
       "0: 384x640 16 cars, 2 buss, 5 trucks, 4 traffic lights, 892.3ms\n"
      ]
     },
     "metadata": {},
     "output_type": "display_data"
    },
    {
     "data": {
      "text/plain": [
       "Speed: 2.3ms preprocess, 892.3ms inference, 0.9ms postprocess per image at shape (1, 3, 384, 640)\n"
      ]
     },
     "metadata": {},
     "output_type": "display_data"
    },
    {
     "data": {
      "text/plain": [
       "\n"
      ]
     },
     "metadata": {},
     "output_type": "display_data"
    },
    {
     "data": {
      "text/plain": [
       "0: 384x640 14 cars, 2 buss, 5 trucks, 5 traffic lights, 907.4ms\n"
      ]
     },
     "metadata": {},
     "output_type": "display_data"
    },
    {
     "data": {
      "text/plain": [
       "Speed: 2.2ms preprocess, 907.4ms inference, 1.5ms postprocess per image at shape (1, 3, 384, 640)\n"
      ]
     },
     "metadata": {},
     "output_type": "display_data"
    },
    {
     "data": {
      "text/plain": [
       "\n"
      ]
     },
     "metadata": {},
     "output_type": "display_data"
    },
    {
     "data": {
      "text/plain": [
       "0: 384x640 15 cars, 2 buss, 4 trucks, 5 traffic lights, 894.9ms\n"
      ]
     },
     "metadata": {},
     "output_type": "display_data"
    },
    {
     "data": {
      "text/plain": [
       "Speed: 2.3ms preprocess, 894.9ms inference, 1.0ms postprocess per image at shape (1, 3, 384, 640)\n"
      ]
     },
     "metadata": {},
     "output_type": "display_data"
    },
    {
     "data": {
      "text/plain": [
       "\n"
      ]
     },
     "metadata": {},
     "output_type": "display_data"
    },
    {
     "data": {
      "text/plain": [
       "0: 384x640 15 cars, 2 buss, 5 trucks, 5 traffic lights, 890.4ms\n"
      ]
     },
     "metadata": {},
     "output_type": "display_data"
    },
    {
     "data": {
      "text/plain": [
       "Speed: 2.4ms preprocess, 890.4ms inference, 1.0ms postprocess per image at shape (1, 3, 384, 640)\n"
      ]
     },
     "metadata": {},
     "output_type": "display_data"
    },
    {
     "data": {
      "text/plain": [
       "\n"
      ]
     },
     "metadata": {},
     "output_type": "display_data"
    },
    {
     "data": {
      "text/plain": [
       "0: 384x640 15 cars, 2 buss, 5 trucks, 6 traffic lights, 895.6ms\n"
      ]
     },
     "metadata": {},
     "output_type": "display_data"
    },
    {
     "data": {
      "text/plain": [
       "Speed: 2.3ms preprocess, 895.6ms inference, 1.6ms postprocess per image at shape (1, 3, 384, 640)\n"
      ]
     },
     "metadata": {},
     "output_type": "display_data"
    },
    {
     "data": {
      "text/plain": [
       "\n"
      ]
     },
     "metadata": {},
     "output_type": "display_data"
    },
    {
     "data": {
      "text/plain": [
       "0: 384x640 13 cars, 2 buss, 6 trucks, 6 traffic lights, 915.7ms\n"
      ]
     },
     "metadata": {},
     "output_type": "display_data"
    },
    {
     "data": {
      "text/plain": [
       "Speed: 3.5ms preprocess, 915.7ms inference, 0.9ms postprocess per image at shape (1, 3, 384, 640)\n"
      ]
     },
     "metadata": {},
     "output_type": "display_data"
    },
    {
     "data": {
      "text/plain": [
       "\n"
      ]
     },
     "metadata": {},
     "output_type": "display_data"
    },
    {
     "data": {
      "text/plain": [
       "0: 384x640 12 cars, 2 buss, 6 trucks, 5 traffic lights, 892.8ms\n"
      ]
     },
     "metadata": {},
     "output_type": "display_data"
    },
    {
     "data": {
      "text/plain": [
       "Speed: 3.5ms preprocess, 892.8ms inference, 1.2ms postprocess per image at shape (1, 3, 384, 640)\n"
      ]
     },
     "metadata": {},
     "output_type": "display_data"
    },
    {
     "data": {
      "text/plain": [
       "\n"
      ]
     },
     "metadata": {},
     "output_type": "display_data"
    },
    {
     "data": {
      "text/plain": [
       "0: 384x640 11 cars, 2 buss, 6 trucks, 5 traffic lights, 897.6ms\n"
      ]
     },
     "metadata": {},
     "output_type": "display_data"
    },
    {
     "data": {
      "text/plain": [
       "Speed: 2.0ms preprocess, 897.6ms inference, 1.2ms postprocess per image at shape (1, 3, 384, 640)\n"
      ]
     },
     "metadata": {},
     "output_type": "display_data"
    },
    {
     "data": {
      "text/plain": [
       "\n"
      ]
     },
     "metadata": {},
     "output_type": "display_data"
    },
    {
     "data": {
      "text/plain": [
       "0: 384x640 12 cars, 2 buss, 5 trucks, 5 traffic lights, 902.3ms\n"
      ]
     },
     "metadata": {},
     "output_type": "display_data"
    },
    {
     "data": {
      "text/plain": [
       "Speed: 2.2ms preprocess, 902.3ms inference, 0.8ms postprocess per image at shape (1, 3, 384, 640)\n"
      ]
     },
     "metadata": {},
     "output_type": "display_data"
    },
    {
     "data": {
      "text/plain": [
       "\n"
      ]
     },
     "metadata": {},
     "output_type": "display_data"
    },
    {
     "data": {
      "text/plain": [
       "0: 384x640 16 cars, 2 buss, 4 trucks, 5 traffic lights, 921.8ms\n"
      ]
     },
     "metadata": {},
     "output_type": "display_data"
    },
    {
     "data": {
      "text/plain": [
       "Speed: 2.3ms preprocess, 921.8ms inference, 0.8ms postprocess per image at shape (1, 3, 384, 640)\n"
      ]
     },
     "metadata": {},
     "output_type": "display_data"
    },
    {
     "data": {
      "text/plain": [
       "\n"
      ]
     },
     "metadata": {},
     "output_type": "display_data"
    },
    {
     "data": {
      "text/plain": [
       "0: 384x640 13 cars, 2 buss, 6 trucks, 5 traffic lights, 924.2ms\n"
      ]
     },
     "metadata": {},
     "output_type": "display_data"
    },
    {
     "data": {
      "text/plain": [
       "Speed: 2.3ms preprocess, 924.2ms inference, 0.9ms postprocess per image at shape (1, 3, 384, 640)\n"
      ]
     },
     "metadata": {},
     "output_type": "display_data"
    },
    {
     "data": {
      "text/plain": [
       "\n"
      ]
     },
     "metadata": {},
     "output_type": "display_data"
    },
    {
     "data": {
      "text/plain": [
       "0: 384x640 14 cars, 2 buss, 4 trucks, 5 traffic lights, 926.7ms\n"
      ]
     },
     "metadata": {},
     "output_type": "display_data"
    },
    {
     "data": {
      "text/plain": [
       "Speed: 3.1ms preprocess, 926.7ms inference, 1.1ms postprocess per image at shape (1, 3, 384, 640)\n"
      ]
     },
     "metadata": {},
     "output_type": "display_data"
    },
    {
     "data": {
      "text/plain": [
       "\n"
      ]
     },
     "metadata": {},
     "output_type": "display_data"
    },
    {
     "data": {
      "text/plain": [
       "0: 384x640 13 cars, 2 buss, 4 trucks, 4 traffic lights, 917.9ms\n"
      ]
     },
     "metadata": {},
     "output_type": "display_data"
    },
    {
     "data": {
      "text/plain": [
       "Speed: 2.6ms preprocess, 917.9ms inference, 1.4ms postprocess per image at shape (1, 3, 384, 640)\n"
      ]
     },
     "metadata": {},
     "output_type": "display_data"
    },
    {
     "data": {
      "text/plain": [
       "\n"
      ]
     },
     "metadata": {},
     "output_type": "display_data"
    },
    {
     "data": {
      "text/plain": [
       "0: 384x640 11 cars, 2 buss, 6 trucks, 4 traffic lights, 880.1ms\n"
      ]
     },
     "metadata": {},
     "output_type": "display_data"
    },
    {
     "data": {
      "text/plain": [
       "Speed: 3.3ms preprocess, 880.1ms inference, 0.8ms postprocess per image at shape (1, 3, 384, 640)\n"
      ]
     },
     "metadata": {},
     "output_type": "display_data"
    },
    {
     "data": {
      "text/plain": [
       "\n"
      ]
     },
     "metadata": {},
     "output_type": "display_data"
    },
    {
     "data": {
      "text/plain": [
       "0: 384x640 11 cars, 2 buss, 6 trucks, 3 traffic lights, 903.3ms\n"
      ]
     },
     "metadata": {},
     "output_type": "display_data"
    },
    {
     "data": {
      "text/plain": [
       "Speed: 2.1ms preprocess, 903.3ms inference, 1.2ms postprocess per image at shape (1, 3, 384, 640)\n"
      ]
     },
     "metadata": {},
     "output_type": "display_data"
    },
    {
     "data": {
      "text/plain": [
       "\n"
      ]
     },
     "metadata": {},
     "output_type": "display_data"
    },
    {
     "data": {
      "text/plain": [
       "0: 384x640 13 cars, 2 buss, 5 trucks, 3 traffic lights, 909.7ms\n"
      ]
     },
     "metadata": {},
     "output_type": "display_data"
    },
    {
     "data": {
      "text/plain": [
       "Speed: 2.6ms preprocess, 909.7ms inference, 0.9ms postprocess per image at shape (1, 3, 384, 640)\n"
      ]
     },
     "metadata": {},
     "output_type": "display_data"
    },
    {
     "data": {
      "text/plain": [
       "\n"
      ]
     },
     "metadata": {},
     "output_type": "display_data"
    },
    {
     "data": {
      "text/plain": [
       "0: 384x640 12 cars, 1 bus, 5 trucks, 3 traffic lights, 886.8ms\n"
      ]
     },
     "metadata": {},
     "output_type": "display_data"
    },
    {
     "data": {
      "text/plain": [
       "Speed: 2.2ms preprocess, 886.8ms inference, 1.0ms postprocess per image at shape (1, 3, 384, 640)\n"
      ]
     },
     "metadata": {},
     "output_type": "display_data"
    },
    {
     "data": {
      "text/plain": [
       "\n"
      ]
     },
     "metadata": {},
     "output_type": "display_data"
    },
    {
     "data": {
      "text/plain": [
       "0: 384x640 14 cars, 1 bus, 7 trucks, 3 traffic lights, 911.5ms\n"
      ]
     },
     "metadata": {},
     "output_type": "display_data"
    },
    {
     "data": {
      "text/plain": [
       "Speed: 2.3ms preprocess, 911.5ms inference, 1.0ms postprocess per image at shape (1, 3, 384, 640)\n"
      ]
     },
     "metadata": {},
     "output_type": "display_data"
    },
    {
     "data": {
      "text/plain": [
       "\n"
      ]
     },
     "metadata": {},
     "output_type": "display_data"
    },
    {
     "data": {
      "text/plain": [
       "0: 384x640 13 cars, 1 bus, 8 trucks, 3 traffic lights, 956.4ms\n"
      ]
     },
     "metadata": {},
     "output_type": "display_data"
    },
    {
     "data": {
      "text/plain": [
       "Speed: 3.7ms preprocess, 956.4ms inference, 1.6ms postprocess per image at shape (1, 3, 384, 640)\n"
      ]
     },
     "metadata": {},
     "output_type": "display_data"
    },
    {
     "data": {
      "text/plain": [
       "\n"
      ]
     },
     "metadata": {},
     "output_type": "display_data"
    },
    {
     "data": {
      "text/plain": [
       "0: 384x640 14 cars, 1 bus, 7 trucks, 3 traffic lights, 919.6ms\n"
      ]
     },
     "metadata": {},
     "output_type": "display_data"
    },
    {
     "data": {
      "text/plain": [
       "Speed: 3.0ms preprocess, 919.6ms inference, 0.9ms postprocess per image at shape (1, 3, 384, 640)\n"
      ]
     },
     "metadata": {},
     "output_type": "display_data"
    },
    {
     "data": {
      "text/plain": [
       "\n"
      ]
     },
     "metadata": {},
     "output_type": "display_data"
    },
    {
     "data": {
      "text/plain": [
       "0: 384x640 14 cars, 1 bus, 7 trucks, 3 traffic lights, 896.4ms\n"
      ]
     },
     "metadata": {},
     "output_type": "display_data"
    },
    {
     "data": {
      "text/plain": [
       "Speed: 2.2ms preprocess, 896.4ms inference, 0.9ms postprocess per image at shape (1, 3, 384, 640)\n"
      ]
     },
     "metadata": {},
     "output_type": "display_data"
    },
    {
     "data": {
      "text/plain": [
       "\n"
      ]
     },
     "metadata": {},
     "output_type": "display_data"
    },
    {
     "data": {
      "text/plain": [
       "0: 384x640 16 cars, 1 bus, 8 trucks, 3 traffic lights, 922.7ms\n"
      ]
     },
     "metadata": {},
     "output_type": "display_data"
    },
    {
     "data": {
      "text/plain": [
       "Speed: 2.0ms preprocess, 922.7ms inference, 0.9ms postprocess per image at shape (1, 3, 384, 640)\n"
      ]
     },
     "metadata": {},
     "output_type": "display_data"
    },
    {
     "data": {
      "text/plain": [
       "\n"
      ]
     },
     "metadata": {},
     "output_type": "display_data"
    },
    {
     "data": {
      "text/plain": [
       "0: 384x640 17 cars, 1 bus, 7 trucks, 3 traffic lights, 913.6ms\n"
      ]
     },
     "metadata": {},
     "output_type": "display_data"
    },
    {
     "data": {
      "text/plain": [
       "Speed: 2.1ms preprocess, 913.6ms inference, 2.2ms postprocess per image at shape (1, 3, 384, 640)\n"
      ]
     },
     "metadata": {},
     "output_type": "display_data"
    },
    {
     "data": {
      "text/plain": [
       "\n"
      ]
     },
     "metadata": {},
     "output_type": "display_data"
    },
    {
     "data": {
      "text/plain": [
       "0: 384x640 16 cars, 1 bus, 7 trucks, 3 traffic lights, 913.9ms\n"
      ]
     },
     "metadata": {},
     "output_type": "display_data"
    },
    {
     "data": {
      "text/plain": [
       "Speed: 2.3ms preprocess, 913.9ms inference, 1.3ms postprocess per image at shape (1, 3, 384, 640)\n"
      ]
     },
     "metadata": {},
     "output_type": "display_data"
    },
    {
     "data": {
      "text/plain": [
       "\n"
      ]
     },
     "metadata": {},
     "output_type": "display_data"
    },
    {
     "data": {
      "text/plain": [
       "0: 384x640 16 cars, 1 bus, 7 trucks, 3 traffic lights, 942.2ms\n"
      ]
     },
     "metadata": {},
     "output_type": "display_data"
    },
    {
     "data": {
      "text/plain": [
       "Speed: 2.2ms preprocess, 942.2ms inference, 0.9ms postprocess per image at shape (1, 3, 384, 640)\n"
      ]
     },
     "metadata": {},
     "output_type": "display_data"
    },
    {
     "data": {
      "text/plain": [
       "\n"
      ]
     },
     "metadata": {},
     "output_type": "display_data"
    },
    {
     "data": {
      "text/plain": [
       "0: 384x640 16 cars, 1 bus, 8 trucks, 3 traffic lights, 903.2ms\n"
      ]
     },
     "metadata": {},
     "output_type": "display_data"
    },
    {
     "data": {
      "text/plain": [
       "Speed: 2.5ms preprocess, 903.2ms inference, 1.1ms postprocess per image at shape (1, 3, 384, 640)\n"
      ]
     },
     "metadata": {},
     "output_type": "display_data"
    },
    {
     "data": {
      "text/plain": [
       "\n"
      ]
     },
     "metadata": {},
     "output_type": "display_data"
    },
    {
     "data": {
      "text/plain": [
       "0: 384x640 17 cars, 1 bus, 7 trucks, 3 traffic lights, 885.8ms\n"
      ]
     },
     "metadata": {},
     "output_type": "display_data"
    },
    {
     "data": {
      "text/plain": [
       "Speed: 2.8ms preprocess, 885.8ms inference, 0.9ms postprocess per image at shape (1, 3, 384, 640)\n"
      ]
     },
     "metadata": {},
     "output_type": "display_data"
    },
    {
     "data": {
      "text/plain": [
       "\n"
      ]
     },
     "metadata": {},
     "output_type": "display_data"
    },
    {
     "data": {
      "text/plain": [
       "0: 384x640 17 cars, 1 bus, 8 trucks, 3 traffic lights, 885.6ms\n"
      ]
     },
     "metadata": {},
     "output_type": "display_data"
    },
    {
     "data": {
      "text/plain": [
       "Speed: 10.0ms preprocess, 885.6ms inference, 1.2ms postprocess per image at shape (1, 3, 384, 640)\n"
      ]
     },
     "metadata": {},
     "output_type": "display_data"
    },
    {
     "data": {
      "text/plain": [
       "\n"
      ]
     },
     "metadata": {},
     "output_type": "display_data"
    },
    {
     "data": {
      "text/plain": [
       "0: 384x640 16 cars, 1 bus, 7 trucks, 3 traffic lights, 909.1ms\n"
      ]
     },
     "metadata": {},
     "output_type": "display_data"
    },
    {
     "data": {
      "text/plain": [
       "Speed: 2.4ms preprocess, 909.1ms inference, 0.9ms postprocess per image at shape (1, 3, 384, 640)\n"
      ]
     },
     "metadata": {},
     "output_type": "display_data"
    },
    {
     "data": {
      "text/plain": [
       "\n"
      ]
     },
     "metadata": {},
     "output_type": "display_data"
    },
    {
     "data": {
      "text/plain": [
       "0: 384x640 13 cars, 1 bus, 7 trucks, 3 traffic lights, 902.0ms\n"
      ]
     },
     "metadata": {},
     "output_type": "display_data"
    },
    {
     "data": {
      "text/plain": [
       "Speed: 2.2ms preprocess, 902.0ms inference, 0.9ms postprocess per image at shape (1, 3, 384, 640)\n"
      ]
     },
     "metadata": {},
     "output_type": "display_data"
    },
    {
     "data": {
      "text/plain": [
       "\n"
      ]
     },
     "metadata": {},
     "output_type": "display_data"
    },
    {
     "data": {
      "text/plain": [
       "0: 384x640 13 cars, 1 bus, 8 trucks, 3 traffic lights, 900.9ms\n"
      ]
     },
     "metadata": {},
     "output_type": "display_data"
    },
    {
     "data": {
      "text/plain": [
       "Speed: 2.4ms preprocess, 900.9ms inference, 1.7ms postprocess per image at shape (1, 3, 384, 640)\n"
      ]
     },
     "metadata": {},
     "output_type": "display_data"
    },
    {
     "data": {
      "text/plain": [
       "\n"
      ]
     },
     "metadata": {},
     "output_type": "display_data"
    },
    {
     "data": {
      "text/plain": [
       "0: 384x640 14 cars, 1 bus, 7 trucks, 3 traffic lights, 894.2ms\n"
      ]
     },
     "metadata": {},
     "output_type": "display_data"
    },
    {
     "data": {
      "text/plain": [
       "Speed: 3.9ms preprocess, 894.2ms inference, 0.9ms postprocess per image at shape (1, 3, 384, 640)\n"
      ]
     },
     "metadata": {},
     "output_type": "display_data"
    },
    {
     "data": {
      "text/plain": [
       "\n"
      ]
     },
     "metadata": {},
     "output_type": "display_data"
    },
    {
     "data": {
      "text/plain": [
       "0: 384x640 14 cars, 1 bus, 8 trucks, 3 traffic lights, 900.4ms\n"
      ]
     },
     "metadata": {},
     "output_type": "display_data"
    },
    {
     "data": {
      "text/plain": [
       "Speed: 2.1ms preprocess, 900.4ms inference, 0.9ms postprocess per image at shape (1, 3, 384, 640)\n"
      ]
     },
     "metadata": {},
     "output_type": "display_data"
    },
    {
     "data": {
      "text/plain": [
       "\n"
      ]
     },
     "metadata": {},
     "output_type": "display_data"
    },
    {
     "data": {
      "text/plain": [
       "0: 384x640 14 cars, 1 bus, 7 trucks, 3 traffic lights, 896.2ms\n"
      ]
     },
     "metadata": {},
     "output_type": "display_data"
    },
    {
     "data": {
      "text/plain": [
       "Speed: 2.2ms preprocess, 896.2ms inference, 0.9ms postprocess per image at shape (1, 3, 384, 640)\n"
      ]
     },
     "metadata": {},
     "output_type": "display_data"
    },
    {
     "data": {
      "text/plain": [
       "\n"
      ]
     },
     "metadata": {},
     "output_type": "display_data"
    },
    {
     "data": {
      "text/plain": [
       "0: 384x640 14 cars, 1 bus, 8 trucks, 3 traffic lights, 886.0ms\n"
      ]
     },
     "metadata": {},
     "output_type": "display_data"
    },
    {
     "data": {
      "text/plain": [
       "Speed: 3.3ms preprocess, 886.0ms inference, 0.9ms postprocess per image at shape (1, 3, 384, 640)\n"
      ]
     },
     "metadata": {},
     "output_type": "display_data"
    },
    {
     "data": {
      "text/plain": [
       "\n"
      ]
     },
     "metadata": {},
     "output_type": "display_data"
    },
    {
     "data": {
      "text/plain": [
       "0: 384x640 14 cars, 1 bus, 7 trucks, 3 traffic lights, 900.3ms\n"
      ]
     },
     "metadata": {},
     "output_type": "display_data"
    },
    {
     "data": {
      "text/plain": [
       "Speed: 2.3ms preprocess, 900.3ms inference, 1.0ms postprocess per image at shape (1, 3, 384, 640)\n"
      ]
     },
     "metadata": {},
     "output_type": "display_data"
    },
    {
     "data": {
      "text/plain": [
       "\n"
      ]
     },
     "metadata": {},
     "output_type": "display_data"
    },
    {
     "data": {
      "text/plain": [
       "0: 384x640 14 cars, 1 bus, 7 trucks, 3 traffic lights, 905.8ms\n"
      ]
     },
     "metadata": {},
     "output_type": "display_data"
    },
    {
     "data": {
      "text/plain": [
       "Speed: 2.8ms preprocess, 905.8ms inference, 0.9ms postprocess per image at shape (1, 3, 384, 640)\n"
      ]
     },
     "metadata": {},
     "output_type": "display_data"
    },
    {
     "data": {
      "text/plain": [
       "\n"
      ]
     },
     "metadata": {},
     "output_type": "display_data"
    },
    {
     "data": {
      "text/plain": [
       "0: 384x640 12 cars, 7 trucks, 3 traffic lights, 893.4ms\n"
      ]
     },
     "metadata": {},
     "output_type": "display_data"
    },
    {
     "data": {
      "text/plain": [
       "Speed: 3.4ms preprocess, 893.4ms inference, 0.9ms postprocess per image at shape (1, 3, 384, 640)\n"
      ]
     },
     "metadata": {},
     "output_type": "display_data"
    },
    {
     "data": {
      "text/plain": [
       "\n"
      ]
     },
     "metadata": {},
     "output_type": "display_data"
    },
    {
     "data": {
      "text/plain": [
       "0: 384x640 14 cars, 7 trucks, 3 traffic lights, 895.7ms\n"
      ]
     },
     "metadata": {},
     "output_type": "display_data"
    },
    {
     "data": {
      "text/plain": [
       "Speed: 2.8ms preprocess, 895.7ms inference, 1.6ms postprocess per image at shape (1, 3, 384, 640)\n"
      ]
     },
     "metadata": {},
     "output_type": "display_data"
    },
    {
     "data": {
      "text/plain": [
       "\n"
      ]
     },
     "metadata": {},
     "output_type": "display_data"
    },
    {
     "data": {
      "text/plain": [
       "0: 384x640 12 cars, 7 trucks, 3 traffic lights, 886.6ms\n"
      ]
     },
     "metadata": {},
     "output_type": "display_data"
    },
    {
     "data": {
      "text/plain": [
       "Speed: 2.5ms preprocess, 886.6ms inference, 1.0ms postprocess per image at shape (1, 3, 384, 640)\n"
      ]
     },
     "metadata": {},
     "output_type": "display_data"
    },
    {
     "data": {
      "text/plain": [
       "\n"
      ]
     },
     "metadata": {},
     "output_type": "display_data"
    },
    {
     "data": {
      "text/plain": [
       "0: 384x640 14 cars, 6 trucks, 3 traffic lights, 895.4ms\n"
      ]
     },
     "metadata": {},
     "output_type": "display_data"
    },
    {
     "data": {
      "text/plain": [
       "Speed: 2.3ms preprocess, 895.4ms inference, 1.3ms postprocess per image at shape (1, 3, 384, 640)\n"
      ]
     },
     "metadata": {},
     "output_type": "display_data"
    },
    {
     "data": {
      "text/plain": [
       "\n"
      ]
     },
     "metadata": {},
     "output_type": "display_data"
    },
    {
     "data": {
      "text/plain": [
       "0: 384x640 13 cars, 5 trucks, 3 traffic lights, 902.4ms\n"
      ]
     },
     "metadata": {},
     "output_type": "display_data"
    },
    {
     "data": {
      "text/plain": [
       "Speed: 3.8ms preprocess, 902.4ms inference, 0.9ms postprocess per image at shape (1, 3, 384, 640)\n"
      ]
     },
     "metadata": {},
     "output_type": "display_data"
    },
    {
     "data": {
      "text/plain": [
       "\n"
      ]
     },
     "metadata": {},
     "output_type": "display_data"
    },
    {
     "data": {
      "text/plain": [
       "0: 384x640 13 cars, 6 trucks, 3 traffic lights, 912.2ms\n"
      ]
     },
     "metadata": {},
     "output_type": "display_data"
    },
    {
     "data": {
      "text/plain": [
       "Speed: 2.2ms preprocess, 912.2ms inference, 0.8ms postprocess per image at shape (1, 3, 384, 640)\n"
      ]
     },
     "metadata": {},
     "output_type": "display_data"
    },
    {
     "data": {
      "text/plain": [
       "\n"
      ]
     },
     "metadata": {},
     "output_type": "display_data"
    },
    {
     "data": {
      "text/plain": [
       "0: 384x640 13 cars, 5 trucks, 3 traffic lights, 899.5ms\n"
      ]
     },
     "metadata": {},
     "output_type": "display_data"
    },
    {
     "data": {
      "text/plain": [
       "Speed: 2.4ms preprocess, 899.5ms inference, 0.9ms postprocess per image at shape (1, 3, 384, 640)\n"
      ]
     },
     "metadata": {},
     "output_type": "display_data"
    },
    {
     "data": {
      "text/plain": [
       "\n"
      ]
     },
     "metadata": {},
     "output_type": "display_data"
    },
    {
     "data": {
      "text/plain": [
       "0: 384x640 13 cars, 8 trucks, 3 traffic lights, 903.1ms\n"
      ]
     },
     "metadata": {},
     "output_type": "display_data"
    },
    {
     "data": {
      "text/plain": [
       "Speed: 2.3ms preprocess, 903.1ms inference, 0.9ms postprocess per image at shape (1, 3, 384, 640)\n"
      ]
     },
     "metadata": {},
     "output_type": "display_data"
    },
    {
     "data": {
      "text/plain": [
       "\n"
      ]
     },
     "metadata": {},
     "output_type": "display_data"
    },
    {
     "data": {
      "text/plain": [
       "0: 384x640 13 cars, 8 trucks, 3 traffic lights, 902.6ms\n"
      ]
     },
     "metadata": {},
     "output_type": "display_data"
    },
    {
     "data": {
      "text/plain": [
       "Speed: 2.1ms preprocess, 902.6ms inference, 0.9ms postprocess per image at shape (1, 3, 384, 640)\n"
      ]
     },
     "metadata": {},
     "output_type": "display_data"
    },
    {
     "data": {
      "text/plain": [
       "\n"
      ]
     },
     "metadata": {},
     "output_type": "display_data"
    },
    {
     "data": {
      "text/plain": [
       "0: 384x640 13 cars, 1 bus, 7 trucks, 3 traffic lights, 896.0ms\n"
      ]
     },
     "metadata": {},
     "output_type": "display_data"
    },
    {
     "data": {
      "text/plain": [
       "Speed: 2.1ms preprocess, 896.0ms inference, 1.1ms postprocess per image at shape (1, 3, 384, 640)\n"
      ]
     },
     "metadata": {},
     "output_type": "display_data"
    },
    {
     "data": {
      "text/plain": [
       "\n"
      ]
     },
     "metadata": {},
     "output_type": "display_data"
    },
    {
     "data": {
      "text/plain": [
       "0: 384x640 14 cars, 7 trucks, 3 traffic lights, 905.6ms\n"
      ]
     },
     "metadata": {},
     "output_type": "display_data"
    },
    {
     "data": {
      "text/plain": [
       "Speed: 2.4ms preprocess, 905.6ms inference, 0.9ms postprocess per image at shape (1, 3, 384, 640)\n"
      ]
     },
     "metadata": {},
     "output_type": "display_data"
    },
    {
     "data": {
      "text/plain": [
       "\n"
      ]
     },
     "metadata": {},
     "output_type": "display_data"
    },
    {
     "data": {
      "text/plain": [
       "0: 384x640 15 cars, 8 trucks, 3 traffic lights, 898.0ms\n"
      ]
     },
     "metadata": {},
     "output_type": "display_data"
    },
    {
     "data": {
      "text/plain": [
       "Speed: 2.1ms preprocess, 898.0ms inference, 1.0ms postprocess per image at shape (1, 3, 384, 640)\n"
      ]
     },
     "metadata": {},
     "output_type": "display_data"
    },
    {
     "data": {
      "text/plain": [
       "\n"
      ]
     },
     "metadata": {},
     "output_type": "display_data"
    },
    {
     "data": {
      "text/plain": [
       "0: 384x640 14 cars, 7 trucks, 3 traffic lights, 920.6ms\n"
      ]
     },
     "metadata": {},
     "output_type": "display_data"
    },
    {
     "data": {
      "text/plain": [
       "Speed: 3.2ms preprocess, 920.6ms inference, 1.8ms postprocess per image at shape (1, 3, 384, 640)\n"
      ]
     },
     "metadata": {},
     "output_type": "display_data"
    },
    {
     "data": {
      "text/plain": [
       "\n"
      ]
     },
     "metadata": {},
     "output_type": "display_data"
    },
    {
     "data": {
      "text/plain": [
       "0: 384x640 17 cars, 6 trucks, 3 traffic lights, 896.5ms\n"
      ]
     },
     "metadata": {},
     "output_type": "display_data"
    },
    {
     "data": {
      "text/plain": [
       "Speed: 2.5ms preprocess, 896.5ms inference, 1.4ms postprocess per image at shape (1, 3, 384, 640)\n"
      ]
     },
     "metadata": {},
     "output_type": "display_data"
    },
    {
     "data": {
      "text/plain": [
       "\n"
      ]
     },
     "metadata": {},
     "output_type": "display_data"
    },
    {
     "data": {
      "text/plain": [
       "0: 384x640 16 cars, 5 trucks, 3 traffic lights, 889.6ms\n"
      ]
     },
     "metadata": {},
     "output_type": "display_data"
    },
    {
     "data": {
      "text/plain": [
       "Speed: 2.2ms preprocess, 889.6ms inference, 0.9ms postprocess per image at shape (1, 3, 384, 640)\n"
      ]
     },
     "metadata": {},
     "output_type": "display_data"
    },
    {
     "data": {
      "text/plain": [
       "\n"
      ]
     },
     "metadata": {},
     "output_type": "display_data"
    },
    {
     "data": {
      "text/plain": [
       "0: 384x640 16 cars, 4 trucks, 3 traffic lights, 878.5ms\n"
      ]
     },
     "metadata": {},
     "output_type": "display_data"
    },
    {
     "data": {
      "text/plain": [
       "Speed: 1.9ms preprocess, 878.5ms inference, 0.9ms postprocess per image at shape (1, 3, 384, 640)\n"
      ]
     },
     "metadata": {},
     "output_type": "display_data"
    },
    {
     "data": {
      "text/plain": [
       "\n"
      ]
     },
     "metadata": {},
     "output_type": "display_data"
    },
    {
     "data": {
      "text/plain": [
       "0: 384x640 14 cars, 4 trucks, 3 traffic lights, 896.2ms\n"
      ]
     },
     "metadata": {},
     "output_type": "display_data"
    },
    {
     "data": {
      "text/plain": [
       "Speed: 11.5ms preprocess, 896.2ms inference, 0.9ms postprocess per image at shape (1, 3, 384, 640)\n"
      ]
     },
     "metadata": {},
     "output_type": "display_data"
    },
    {
     "data": {
      "text/plain": [
       "\n"
      ]
     },
     "metadata": {},
     "output_type": "display_data"
    },
    {
     "data": {
      "text/plain": [
       "0: 384x640 15 cars, 3 trucks, 3 traffic lights, 903.9ms\n"
      ]
     },
     "metadata": {},
     "output_type": "display_data"
    },
    {
     "data": {
      "text/plain": [
       "Speed: 2.1ms preprocess, 903.9ms inference, 0.9ms postprocess per image at shape (1, 3, 384, 640)\n"
      ]
     },
     "metadata": {},
     "output_type": "display_data"
    },
    {
     "data": {
      "text/plain": [
       "\n"
      ]
     },
     "metadata": {},
     "output_type": "display_data"
    },
    {
     "data": {
      "text/plain": [
       "0: 384x640 15 cars, 4 trucks, 3 traffic lights, 909.7ms\n"
      ]
     },
     "metadata": {},
     "output_type": "display_data"
    },
    {
     "data": {
      "text/plain": [
       "Speed: 2.2ms preprocess, 909.7ms inference, 1.0ms postprocess per image at shape (1, 3, 384, 640)\n"
      ]
     },
     "metadata": {},
     "output_type": "display_data"
    },
    {
     "data": {
      "text/plain": [
       "\n"
      ]
     },
     "metadata": {},
     "output_type": "display_data"
    },
    {
     "data": {
      "text/plain": [
       "0: 384x640 14 cars, 6 trucks, 3 traffic lights, 877.3ms\n"
      ]
     },
     "metadata": {},
     "output_type": "display_data"
    },
    {
     "data": {
      "text/plain": [
       "Speed: 2.9ms preprocess, 877.3ms inference, 0.9ms postprocess per image at shape (1, 3, 384, 640)\n"
      ]
     },
     "metadata": {},
     "output_type": "display_data"
    },
    {
     "data": {
      "text/plain": [
       "\n"
      ]
     },
     "metadata": {},
     "output_type": "display_data"
    },
    {
     "data": {
      "text/plain": [
       "0: 384x640 16 cars, 5 trucks, 3 traffic lights, 917.1ms\n"
      ]
     },
     "metadata": {},
     "output_type": "display_data"
    },
    {
     "data": {
      "text/plain": [
       "Speed: 2.4ms preprocess, 917.1ms inference, 0.9ms postprocess per image at shape (1, 3, 384, 640)\n"
      ]
     },
     "metadata": {},
     "output_type": "display_data"
    },
    {
     "data": {
      "text/plain": [
       "\n"
      ]
     },
     "metadata": {},
     "output_type": "display_data"
    },
    {
     "data": {
      "text/plain": [
       "0: 384x640 16 cars, 4 trucks, 3 traffic lights, 905.3ms\n"
      ]
     },
     "metadata": {},
     "output_type": "display_data"
    },
    {
     "data": {
      "text/plain": [
       "Speed: 2.3ms preprocess, 905.3ms inference, 0.9ms postprocess per image at shape (1, 3, 384, 640)\n"
      ]
     },
     "metadata": {},
     "output_type": "display_data"
    },
    {
     "data": {
      "text/plain": [
       "\n"
      ]
     },
     "metadata": {},
     "output_type": "display_data"
    },
    {
     "data": {
      "text/plain": [
       "0: 384x640 16 cars, 5 trucks, 3 traffic lights, 907.9ms\n"
      ]
     },
     "metadata": {},
     "output_type": "display_data"
    },
    {
     "data": {
      "text/plain": [
       "Speed: 2.4ms preprocess, 907.9ms inference, 1.1ms postprocess per image at shape (1, 3, 384, 640)\n"
      ]
     },
     "metadata": {},
     "output_type": "display_data"
    },
    {
     "data": {
      "text/plain": [
       "\n"
      ]
     },
     "metadata": {},
     "output_type": "display_data"
    },
    {
     "data": {
      "text/plain": [
       "0: 384x640 15 cars, 5 trucks, 3 traffic lights, 902.6ms\n"
      ]
     },
     "metadata": {},
     "output_type": "display_data"
    },
    {
     "data": {
      "text/plain": [
       "Speed: 2.9ms preprocess, 902.6ms inference, 1.0ms postprocess per image at shape (1, 3, 384, 640)\n"
      ]
     },
     "metadata": {},
     "output_type": "display_data"
    },
    {
     "data": {
      "text/plain": [
       "\n"
      ]
     },
     "metadata": {},
     "output_type": "display_data"
    },
    {
     "data": {
      "text/plain": [
       "0: 384x640 16 cars, 4 trucks, 3 traffic lights, 891.5ms\n"
      ]
     },
     "metadata": {},
     "output_type": "display_data"
    },
    {
     "data": {
      "text/plain": [
       "Speed: 2.3ms preprocess, 891.5ms inference, 1.6ms postprocess per image at shape (1, 3, 384, 640)\n"
      ]
     },
     "metadata": {},
     "output_type": "display_data"
    },
    {
     "data": {
      "text/plain": [
       "\n"
      ]
     },
     "metadata": {},
     "output_type": "display_data"
    },
    {
     "data": {
      "text/plain": [
       "0: 384x640 19 cars, 3 trucks, 3 traffic lights, 911.9ms\n"
      ]
     },
     "metadata": {},
     "output_type": "display_data"
    },
    {
     "data": {
      "text/plain": [
       "Speed: 4.2ms preprocess, 911.9ms inference, 3.1ms postprocess per image at shape (1, 3, 384, 640)\n"
      ]
     },
     "metadata": {},
     "output_type": "display_data"
    },
    {
     "data": {
      "text/plain": [
       "\n"
      ]
     },
     "metadata": {},
     "output_type": "display_data"
    },
    {
     "data": {
      "text/plain": [
       "0: 384x640 19 cars, 4 trucks, 3 traffic lights, 894.4ms\n"
      ]
     },
     "metadata": {},
     "output_type": "display_data"
    },
    {
     "data": {
      "text/plain": [
       "Speed: 3.9ms preprocess, 894.4ms inference, 0.9ms postprocess per image at shape (1, 3, 384, 640)\n"
      ]
     },
     "metadata": {},
     "output_type": "display_data"
    },
    {
     "data": {
      "text/plain": [
       "\n"
      ]
     },
     "metadata": {},
     "output_type": "display_data"
    },
    {
     "data": {
      "text/plain": [
       "0: 384x640 19 cars, 4 trucks, 3 traffic lights, 902.9ms\n"
      ]
     },
     "metadata": {},
     "output_type": "display_data"
    },
    {
     "data": {
      "text/plain": [
       "Speed: 2.0ms preprocess, 902.9ms inference, 1.1ms postprocess per image at shape (1, 3, 384, 640)\n"
      ]
     },
     "metadata": {},
     "output_type": "display_data"
    },
    {
     "data": {
      "text/plain": [
       "\n"
      ]
     },
     "metadata": {},
     "output_type": "display_data"
    },
    {
     "data": {
      "text/plain": [
       "0: 384x640 16 cars, 5 trucks, 3 traffic lights, 886.2ms\n"
      ]
     },
     "metadata": {},
     "output_type": "display_data"
    },
    {
     "data": {
      "text/plain": [
       "Speed: 2.3ms preprocess, 886.2ms inference, 0.9ms postprocess per image at shape (1, 3, 384, 640)\n"
      ]
     },
     "metadata": {},
     "output_type": "display_data"
    },
    {
     "data": {
      "text/plain": [
       "\n"
      ]
     },
     "metadata": {},
     "output_type": "display_data"
    },
    {
     "data": {
      "text/plain": [
       "0: 384x640 17 cars, 5 trucks, 3 traffic lights, 872.0ms\n"
      ]
     },
     "metadata": {},
     "output_type": "display_data"
    },
    {
     "data": {
      "text/plain": [
       "Speed: 2.3ms preprocess, 872.0ms inference, 0.9ms postprocess per image at shape (1, 3, 384, 640)\n"
      ]
     },
     "metadata": {},
     "output_type": "display_data"
    },
    {
     "data": {
      "text/plain": [
       "\n"
      ]
     },
     "metadata": {},
     "output_type": "display_data"
    },
    {
     "data": {
      "text/plain": [
       "0: 384x640 17 cars, 3 trucks, 3 traffic lights, 893.4ms\n"
      ]
     },
     "metadata": {},
     "output_type": "display_data"
    },
    {
     "data": {
      "text/plain": [
       "Speed: 2.1ms preprocess, 893.4ms inference, 1.4ms postprocess per image at shape (1, 3, 384, 640)\n"
      ]
     },
     "metadata": {},
     "output_type": "display_data"
    },
    {
     "data": {
      "text/plain": [
       "\n"
      ]
     },
     "metadata": {},
     "output_type": "display_data"
    },
    {
     "data": {
      "text/plain": [
       "0: 384x640 16 cars, 5 trucks, 3 traffic lights, 902.2ms\n"
      ]
     },
     "metadata": {},
     "output_type": "display_data"
    },
    {
     "data": {
      "text/plain": [
       "Speed: 2.3ms preprocess, 902.2ms inference, 1.4ms postprocess per image at shape (1, 3, 384, 640)\n"
      ]
     },
     "metadata": {},
     "output_type": "display_data"
    },
    {
     "data": {
      "text/plain": [
       "\n"
      ]
     },
     "metadata": {},
     "output_type": "display_data"
    },
    {
     "data": {
      "text/plain": [
       "0: 384x640 17 cars, 5 trucks, 3 traffic lights, 898.7ms\n"
      ]
     },
     "metadata": {},
     "output_type": "display_data"
    },
    {
     "data": {
      "text/plain": [
       "Speed: 2.5ms preprocess, 898.7ms inference, 1.0ms postprocess per image at shape (1, 3, 384, 640)\n"
      ]
     },
     "metadata": {},
     "output_type": "display_data"
    },
    {
     "data": {
      "text/plain": [
       "\n"
      ]
     },
     "metadata": {},
     "output_type": "display_data"
    },
    {
     "data": {
      "text/plain": [
       "0: 384x640 17 cars, 5 trucks, 3 traffic lights, 889.6ms\n"
      ]
     },
     "metadata": {},
     "output_type": "display_data"
    },
    {
     "data": {
      "text/plain": [
       "Speed: 2.3ms preprocess, 889.6ms inference, 0.9ms postprocess per image at shape (1, 3, 384, 640)\n"
      ]
     },
     "metadata": {},
     "output_type": "display_data"
    },
    {
     "data": {
      "text/plain": [
       "\n"
      ]
     },
     "metadata": {},
     "output_type": "display_data"
    },
    {
     "data": {
      "text/plain": [
       "0: 384x640 17 cars, 5 trucks, 3 traffic lights, 911.7ms\n"
      ]
     },
     "metadata": {},
     "output_type": "display_data"
    },
    {
     "data": {
      "text/plain": [
       "Speed: 2.1ms preprocess, 911.7ms inference, 1.0ms postprocess per image at shape (1, 3, 384, 640)\n"
      ]
     },
     "metadata": {},
     "output_type": "display_data"
    },
    {
     "data": {
      "text/plain": [
       "\n"
      ]
     },
     "metadata": {},
     "output_type": "display_data"
    },
    {
     "data": {
      "text/plain": [
       "0: 384x640 17 cars, 4 trucks, 3 traffic lights, 920.5ms\n"
      ]
     },
     "metadata": {},
     "output_type": "display_data"
    },
    {
     "data": {
      "text/plain": [
       "Speed: 2.6ms preprocess, 920.5ms inference, 1.1ms postprocess per image at shape (1, 3, 384, 640)\n"
      ]
     },
     "metadata": {},
     "output_type": "display_data"
    },
    {
     "data": {
      "text/plain": [
       "\n"
      ]
     },
     "metadata": {},
     "output_type": "display_data"
    },
    {
     "data": {
      "text/plain": [
       "0: 384x640 16 cars, 4 trucks, 3 traffic lights, 925.7ms\n"
      ]
     },
     "metadata": {},
     "output_type": "display_data"
    },
    {
     "data": {
      "text/plain": [
       "Speed: 3.1ms preprocess, 925.7ms inference, 1.1ms postprocess per image at shape (1, 3, 384, 640)\n"
      ]
     },
     "metadata": {},
     "output_type": "display_data"
    },
    {
     "data": {
      "text/plain": [
       "\n"
      ]
     },
     "metadata": {},
     "output_type": "display_data"
    },
    {
     "data": {
      "text/plain": [
       "0: 384x640 14 cars, 4 trucks, 2 traffic lights, 886.4ms\n"
      ]
     },
     "metadata": {},
     "output_type": "display_data"
    },
    {
     "data": {
      "text/plain": [
       "Speed: 2.5ms preprocess, 886.4ms inference, 1.2ms postprocess per image at shape (1, 3, 384, 640)\n"
      ]
     },
     "metadata": {},
     "output_type": "display_data"
    },
    {
     "data": {
      "text/plain": [
       "\n"
      ]
     },
     "metadata": {},
     "output_type": "display_data"
    },
    {
     "data": {
      "text/plain": [
       "0: 384x640 12 cars, 7 trucks, 2 traffic lights, 927.4ms\n"
      ]
     },
     "metadata": {},
     "output_type": "display_data"
    },
    {
     "data": {
      "text/plain": [
       "Speed: 2.1ms preprocess, 927.4ms inference, 0.9ms postprocess per image at shape (1, 3, 384, 640)\n"
      ]
     },
     "metadata": {},
     "output_type": "display_data"
    },
    {
     "data": {
      "text/plain": [
       "\n"
      ]
     },
     "metadata": {},
     "output_type": "display_data"
    },
    {
     "data": {
      "text/plain": [
       "0: 384x640 16 cars, 5 trucks, 3 traffic lights, 891.9ms\n"
      ]
     },
     "metadata": {},
     "output_type": "display_data"
    },
    {
     "data": {
      "text/plain": [
       "Speed: 2.1ms preprocess, 891.9ms inference, 1.8ms postprocess per image at shape (1, 3, 384, 640)\n"
      ]
     },
     "metadata": {},
     "output_type": "display_data"
    },
    {
     "data": {
      "text/plain": [
       "\n"
      ]
     },
     "metadata": {},
     "output_type": "display_data"
    },
    {
     "data": {
      "text/plain": [
       "0: 384x640 17 cars, 4 trucks, 3 traffic lights, 960.4ms\n"
      ]
     },
     "metadata": {},
     "output_type": "display_data"
    },
    {
     "data": {
      "text/plain": [
       "Speed: 3.2ms preprocess, 960.4ms inference, 1.0ms postprocess per image at shape (1, 3, 384, 640)\n"
      ]
     },
     "metadata": {},
     "output_type": "display_data"
    },
    {
     "data": {
      "text/plain": [
       "\n"
      ]
     },
     "metadata": {},
     "output_type": "display_data"
    },
    {
     "data": {
      "text/plain": [
       "0: 384x640 16 cars, 5 trucks, 3 traffic lights, 913.1ms\n"
      ]
     },
     "metadata": {},
     "output_type": "display_data"
    },
    {
     "data": {
      "text/plain": [
       "Speed: 2.8ms preprocess, 913.1ms inference, 1.0ms postprocess per image at shape (1, 3, 384, 640)\n"
      ]
     },
     "metadata": {},
     "output_type": "display_data"
    },
    {
     "data": {
      "text/plain": [
       "\n"
      ]
     },
     "metadata": {},
     "output_type": "display_data"
    },
    {
     "data": {
      "text/plain": [
       "0: 384x640 15 cars, 4 trucks, 3 traffic lights, 918.9ms\n"
      ]
     },
     "metadata": {},
     "output_type": "display_data"
    },
    {
     "data": {
      "text/plain": [
       "Speed: 2.4ms preprocess, 918.9ms inference, 1.8ms postprocess per image at shape (1, 3, 384, 640)\n"
      ]
     },
     "metadata": {},
     "output_type": "display_data"
    },
    {
     "data": {
      "text/plain": [
       "\n"
      ]
     },
     "metadata": {},
     "output_type": "display_data"
    },
    {
     "data": {
      "text/plain": [
       "0: 384x640 17 cars, 5 trucks, 3 traffic lights, 904.3ms\n"
      ]
     },
     "metadata": {},
     "output_type": "display_data"
    },
    {
     "data": {
      "text/plain": [
       "Speed: 3.3ms preprocess, 904.3ms inference, 1.6ms postprocess per image at shape (1, 3, 384, 640)\n"
      ]
     },
     "metadata": {},
     "output_type": "display_data"
    },
    {
     "data": {
      "text/plain": [
       "\n"
      ]
     },
     "metadata": {},
     "output_type": "display_data"
    },
    {
     "data": {
      "text/plain": [
       "0: 384x640 16 cars, 5 trucks, 3 traffic lights, 922.9ms\n"
      ]
     },
     "metadata": {},
     "output_type": "display_data"
    },
    {
     "data": {
      "text/plain": [
       "Speed: 2.8ms preprocess, 922.9ms inference, 1.4ms postprocess per image at shape (1, 3, 384, 640)\n"
      ]
     },
     "metadata": {},
     "output_type": "display_data"
    },
    {
     "data": {
      "text/plain": [
       "\n"
      ]
     },
     "metadata": {},
     "output_type": "display_data"
    },
    {
     "data": {
      "text/plain": [
       "0: 384x640 16 cars, 6 trucks, 3 traffic lights, 907.8ms\n"
      ]
     },
     "metadata": {},
     "output_type": "display_data"
    },
    {
     "data": {
      "text/plain": [
       "Speed: 2.5ms preprocess, 907.8ms inference, 0.9ms postprocess per image at shape (1, 3, 384, 640)\n"
      ]
     },
     "metadata": {},
     "output_type": "display_data"
    },
    {
     "data": {
      "text/plain": [
       "\n"
      ]
     },
     "metadata": {},
     "output_type": "display_data"
    },
    {
     "data": {
      "text/plain": [
       "0: 384x640 18 cars, 5 trucks, 3 traffic lights, 909.9ms\n"
      ]
     },
     "metadata": {},
     "output_type": "display_data"
    },
    {
     "data": {
      "text/plain": [
       "Speed: 12.4ms preprocess, 909.9ms inference, 1.2ms postprocess per image at shape (1, 3, 384, 640)\n"
      ]
     },
     "metadata": {},
     "output_type": "display_data"
    },
    {
     "data": {
      "text/plain": [
       "\n"
      ]
     },
     "metadata": {},
     "output_type": "display_data"
    },
    {
     "data": {
      "text/plain": [
       "0: 384x640 13 cars, 7 trucks, 3 traffic lights, 900.8ms\n"
      ]
     },
     "metadata": {},
     "output_type": "display_data"
    },
    {
     "data": {
      "text/plain": [
       "Speed: 3.4ms preprocess, 900.8ms inference, 0.8ms postprocess per image at shape (1, 3, 384, 640)\n"
      ]
     },
     "metadata": {},
     "output_type": "display_data"
    },
    {
     "data": {
      "text/plain": [
       "\n"
      ]
     },
     "metadata": {},
     "output_type": "display_data"
    },
    {
     "data": {
      "text/plain": [
       "0: 384x640 13 cars, 6 trucks, 3 traffic lights, 887.4ms\n"
      ]
     },
     "metadata": {},
     "output_type": "display_data"
    },
    {
     "data": {
      "text/plain": [
       "Speed: 1.8ms preprocess, 887.4ms inference, 1.2ms postprocess per image at shape (1, 3, 384, 640)\n"
      ]
     },
     "metadata": {},
     "output_type": "display_data"
    },
    {
     "data": {
      "text/plain": [
       "\n"
      ]
     },
     "metadata": {},
     "output_type": "display_data"
    },
    {
     "data": {
      "text/plain": [
       "0: 384x640 11 cars, 7 trucks, 3 traffic lights, 919.0ms\n"
      ]
     },
     "metadata": {},
     "output_type": "display_data"
    },
    {
     "data": {
      "text/plain": [
       "Speed: 2.7ms preprocess, 919.0ms inference, 2.6ms postprocess per image at shape (1, 3, 384, 640)\n"
      ]
     },
     "metadata": {},
     "output_type": "display_data"
    },
    {
     "data": {
      "text/plain": [
       "\n"
      ]
     },
     "metadata": {},
     "output_type": "display_data"
    },
    {
     "data": {
      "text/plain": [
       "0: 384x640 11 cars, 4 trucks, 3 traffic lights, 932.3ms\n"
      ]
     },
     "metadata": {},
     "output_type": "display_data"
    },
    {
     "data": {
      "text/plain": [
       "Speed: 2.8ms preprocess, 932.3ms inference, 0.9ms postprocess per image at shape (1, 3, 384, 640)\n"
      ]
     },
     "metadata": {},
     "output_type": "display_data"
    },
    {
     "data": {
      "text/plain": [
       "\n"
      ]
     },
     "metadata": {},
     "output_type": "display_data"
    },
    {
     "data": {
      "text/plain": [
       "0: 384x640 10 cars, 4 trucks, 2 traffic lights, 903.9ms\n"
      ]
     },
     "metadata": {},
     "output_type": "display_data"
    },
    {
     "data": {
      "text/plain": [
       "Speed: 2.7ms preprocess, 903.9ms inference, 0.8ms postprocess per image at shape (1, 3, 384, 640)\n"
      ]
     },
     "metadata": {},
     "output_type": "display_data"
    },
    {
     "data": {
      "text/plain": [
       "\n"
      ]
     },
     "metadata": {},
     "output_type": "display_data"
    },
    {
     "data": {
      "text/plain": [
       "0: 384x640 9 cars, 6 trucks, 2 traffic lights, 896.0ms\n"
      ]
     },
     "metadata": {},
     "output_type": "display_data"
    },
    {
     "data": {
      "text/plain": [
       "Speed: 2.3ms preprocess, 896.0ms inference, 0.8ms postprocess per image at shape (1, 3, 384, 640)\n"
      ]
     },
     "metadata": {},
     "output_type": "display_data"
    },
    {
     "data": {
      "text/plain": [
       "\n"
      ]
     },
     "metadata": {},
     "output_type": "display_data"
    },
    {
     "data": {
      "text/plain": [
       "0: 384x640 7 cars, 5 trucks, 2 traffic lights, 907.3ms\n"
      ]
     },
     "metadata": {},
     "output_type": "display_data"
    },
    {
     "data": {
      "text/plain": [
       "Speed: 1.9ms preprocess, 907.3ms inference, 0.9ms postprocess per image at shape (1, 3, 384, 640)\n"
      ]
     },
     "metadata": {},
     "output_type": "display_data"
    },
    {
     "data": {
      "text/plain": [
       "\n"
      ]
     },
     "metadata": {},
     "output_type": "display_data"
    },
    {
     "data": {
      "text/plain": [
       "0: 384x640 10 cars, 3 trucks, 2 traffic lights, 904.7ms\n"
      ]
     },
     "metadata": {},
     "output_type": "display_data"
    },
    {
     "data": {
      "text/plain": [
       "Speed: 2.5ms preprocess, 904.7ms inference, 0.8ms postprocess per image at shape (1, 3, 384, 640)\n"
      ]
     },
     "metadata": {},
     "output_type": "display_data"
    },
    {
     "data": {
      "text/plain": [
       "\n"
      ]
     },
     "metadata": {},
     "output_type": "display_data"
    },
    {
     "data": {
      "text/plain": [
       "0: 384x640 11 cars, 5 trucks, 2 traffic lights, 902.9ms\n"
      ]
     },
     "metadata": {},
     "output_type": "display_data"
    },
    {
     "data": {
      "text/plain": [
       "Speed: 2.2ms preprocess, 902.9ms inference, 0.9ms postprocess per image at shape (1, 3, 384, 640)\n"
      ]
     },
     "metadata": {},
     "output_type": "display_data"
    },
    {
     "data": {
      "text/plain": [
       "\n"
      ]
     },
     "metadata": {},
     "output_type": "display_data"
    },
    {
     "data": {
      "text/plain": [
       "0: 384x640 12 cars, 5 trucks, 2 traffic lights, 911.8ms\n"
      ]
     },
     "metadata": {},
     "output_type": "display_data"
    },
    {
     "data": {
      "text/plain": [
       "Speed: 2.2ms preprocess, 911.8ms inference, 0.9ms postprocess per image at shape (1, 3, 384, 640)\n"
      ]
     },
     "metadata": {},
     "output_type": "display_data"
    },
    {
     "data": {
      "text/plain": [
       "\n"
      ]
     },
     "metadata": {},
     "output_type": "display_data"
    },
    {
     "data": {
      "text/plain": [
       "0: 384x640 13 cars, 5 trucks, 2 traffic lights, 903.7ms\n"
      ]
     },
     "metadata": {},
     "output_type": "display_data"
    },
    {
     "data": {
      "text/plain": [
       "Speed: 2.3ms preprocess, 903.7ms inference, 0.8ms postprocess per image at shape (1, 3, 384, 640)\n"
      ]
     },
     "metadata": {},
     "output_type": "display_data"
    },
    {
     "data": {
      "text/plain": [
       "\n"
      ]
     },
     "metadata": {},
     "output_type": "display_data"
    },
    {
     "data": {
      "text/plain": [
       "0: 384x640 12 cars, 5 trucks, 2 traffic lights, 916.2ms\n"
      ]
     },
     "metadata": {},
     "output_type": "display_data"
    },
    {
     "data": {
      "text/plain": [
       "Speed: 2.1ms preprocess, 916.2ms inference, 0.8ms postprocess per image at shape (1, 3, 384, 640)\n"
      ]
     },
     "metadata": {},
     "output_type": "display_data"
    },
    {
     "data": {
      "text/plain": [
       "\n"
      ]
     },
     "metadata": {},
     "output_type": "display_data"
    },
    {
     "data": {
      "text/plain": [
       "0: 384x640 12 cars, 7 trucks, 2 traffic lights, 896.6ms\n"
      ]
     },
     "metadata": {},
     "output_type": "display_data"
    },
    {
     "data": {
      "text/plain": [
       "Speed: 2.7ms preprocess, 896.6ms inference, 0.9ms postprocess per image at shape (1, 3, 384, 640)\n"
      ]
     },
     "metadata": {},
     "output_type": "display_data"
    },
    {
     "data": {
      "text/plain": [
       "\n"
      ]
     },
     "metadata": {},
     "output_type": "display_data"
    },
    {
     "data": {
      "text/plain": [
       "0: 384x640 11 cars, 6 trucks, 2 traffic lights, 898.7ms\n"
      ]
     },
     "metadata": {},
     "output_type": "display_data"
    },
    {
     "data": {
      "text/plain": [
       "Speed: 3.3ms preprocess, 898.7ms inference, 1.5ms postprocess per image at shape (1, 3, 384, 640)\n"
      ]
     },
     "metadata": {},
     "output_type": "display_data"
    },
    {
     "data": {
      "text/plain": [
       "\n"
      ]
     },
     "metadata": {},
     "output_type": "display_data"
    },
    {
     "data": {
      "text/plain": [
       "0: 384x640 13 cars, 6 trucks, 2 traffic lights, 904.2ms\n"
      ]
     },
     "metadata": {},
     "output_type": "display_data"
    },
    {
     "data": {
      "text/plain": [
       "Speed: 2.4ms preprocess, 904.2ms inference, 0.9ms postprocess per image at shape (1, 3, 384, 640)\n"
      ]
     },
     "metadata": {},
     "output_type": "display_data"
    },
    {
     "data": {
      "text/plain": [
       "\n"
      ]
     },
     "metadata": {},
     "output_type": "display_data"
    },
    {
     "data": {
      "text/plain": [
       "0: 384x640 14 cars, 7 trucks, 2 traffic lights, 897.6ms\n"
      ]
     },
     "metadata": {},
     "output_type": "display_data"
    },
    {
     "data": {
      "text/plain": [
       "Speed: 2.0ms preprocess, 897.6ms inference, 1.4ms postprocess per image at shape (1, 3, 384, 640)\n"
      ]
     },
     "metadata": {},
     "output_type": "display_data"
    },
    {
     "data": {
      "text/plain": [
       "\n"
      ]
     },
     "metadata": {},
     "output_type": "display_data"
    },
    {
     "data": {
      "text/plain": [
       "0: 384x640 11 cars, 8 trucks, 2 traffic lights, 924.9ms\n"
      ]
     },
     "metadata": {},
     "output_type": "display_data"
    },
    {
     "data": {
      "text/plain": [
       "Speed: 2.6ms preprocess, 924.9ms inference, 1.0ms postprocess per image at shape (1, 3, 384, 640)\n"
      ]
     },
     "metadata": {},
     "output_type": "display_data"
    },
    {
     "data": {
      "text/plain": [
       "\n"
      ]
     },
     "metadata": {},
     "output_type": "display_data"
    },
    {
     "data": {
      "text/plain": [
       "0: 384x640 12 cars, 6 trucks, 2 traffic lights, 901.9ms\n"
      ]
     },
     "metadata": {},
     "output_type": "display_data"
    },
    {
     "data": {
      "text/plain": [
       "Speed: 3.6ms preprocess, 901.9ms inference, 1.0ms postprocess per image at shape (1, 3, 384, 640)\n"
      ]
     },
     "metadata": {},
     "output_type": "display_data"
    },
    {
     "data": {
      "text/plain": [
       "\n"
      ]
     },
     "metadata": {},
     "output_type": "display_data"
    },
    {
     "data": {
      "text/plain": [
       "0: 384x640 13 cars, 6 trucks, 2 traffic lights, 892.7ms\n"
      ]
     },
     "metadata": {},
     "output_type": "display_data"
    },
    {
     "data": {
      "text/plain": [
       "Speed: 2.0ms preprocess, 892.7ms inference, 0.8ms postprocess per image at shape (1, 3, 384, 640)\n"
      ]
     },
     "metadata": {},
     "output_type": "display_data"
    },
    {
     "data": {
      "text/plain": [
       "\n"
      ]
     },
     "metadata": {},
     "output_type": "display_data"
    },
    {
     "data": {
      "text/plain": [
       "0: 384x640 12 cars, 6 trucks, 2 traffic lights, 893.1ms\n"
      ]
     },
     "metadata": {},
     "output_type": "display_data"
    },
    {
     "data": {
      "text/plain": [
       "Speed: 2.4ms preprocess, 893.1ms inference, 0.9ms postprocess per image at shape (1, 3, 384, 640)\n"
      ]
     },
     "metadata": {},
     "output_type": "display_data"
    },
    {
     "data": {
      "text/plain": [
       "\n"
      ]
     },
     "metadata": {},
     "output_type": "display_data"
    },
    {
     "data": {
      "text/plain": [
       "0: 384x640 12 cars, 4 trucks, 2 traffic lights, 888.7ms\n"
      ]
     },
     "metadata": {},
     "output_type": "display_data"
    },
    {
     "data": {
      "text/plain": [
       "Speed: 2.3ms preprocess, 888.7ms inference, 1.1ms postprocess per image at shape (1, 3, 384, 640)\n"
      ]
     },
     "metadata": {},
     "output_type": "display_data"
    },
    {
     "data": {
      "text/plain": [
       "\n"
      ]
     },
     "metadata": {},
     "output_type": "display_data"
    },
    {
     "data": {
      "text/plain": [
       "0: 384x640 13 cars, 4 trucks, 2 traffic lights, 898.1ms\n"
      ]
     },
     "metadata": {},
     "output_type": "display_data"
    },
    {
     "data": {
      "text/plain": [
       "Speed: 3.1ms preprocess, 898.1ms inference, 0.8ms postprocess per image at shape (1, 3, 384, 640)\n"
      ]
     },
     "metadata": {},
     "output_type": "display_data"
    },
    {
     "data": {
      "text/plain": [
       "\n"
      ]
     },
     "metadata": {},
     "output_type": "display_data"
    },
    {
     "data": {
      "text/plain": [
       "0: 384x640 13 cars, 4 trucks, 2 traffic lights, 913.8ms\n"
      ]
     },
     "metadata": {},
     "output_type": "display_data"
    },
    {
     "data": {
      "text/plain": [
       "Speed: 2.1ms preprocess, 913.8ms inference, 0.9ms postprocess per image at shape (1, 3, 384, 640)\n"
      ]
     },
     "metadata": {},
     "output_type": "display_data"
    },
    {
     "data": {
      "text/plain": [
       "\n"
      ]
     },
     "metadata": {},
     "output_type": "display_data"
    },
    {
     "data": {
      "text/plain": [
       "0: 384x640 10 cars, 4 trucks, 2 traffic lights, 906.2ms\n"
      ]
     },
     "metadata": {},
     "output_type": "display_data"
    },
    {
     "data": {
      "text/plain": [
       "Speed: 2.5ms preprocess, 906.2ms inference, 1.3ms postprocess per image at shape (1, 3, 384, 640)\n"
      ]
     },
     "metadata": {},
     "output_type": "display_data"
    },
    {
     "data": {
      "text/plain": [
       "\n"
      ]
     },
     "metadata": {},
     "output_type": "display_data"
    },
    {
     "data": {
      "text/plain": [
       "0: 384x640 13 cars, 4 trucks, 2 traffic lights, 910.6ms\n"
      ]
     },
     "metadata": {},
     "output_type": "display_data"
    },
    {
     "data": {
      "text/plain": [
       "Speed: 2.6ms preprocess, 910.6ms inference, 1.2ms postprocess per image at shape (1, 3, 384, 640)\n"
      ]
     },
     "metadata": {},
     "output_type": "display_data"
    },
    {
     "data": {
      "text/plain": [
       "\n"
      ]
     },
     "metadata": {},
     "output_type": "display_data"
    },
    {
     "data": {
      "text/plain": [
       "0: 384x640 12 cars, 4 trucks, 2 traffic lights, 915.3ms\n"
      ]
     },
     "metadata": {},
     "output_type": "display_data"
    },
    {
     "data": {
      "text/plain": [
       "Speed: 3.4ms preprocess, 915.3ms inference, 1.0ms postprocess per image at shape (1, 3, 384, 640)\n"
      ]
     },
     "metadata": {},
     "output_type": "display_data"
    },
    {
     "data": {
      "text/plain": [
       "\n"
      ]
     },
     "metadata": {},
     "output_type": "display_data"
    },
    {
     "data": {
      "text/plain": [
       "0: 384x640 11 cars, 5 trucks, 2 traffic lights, 873.2ms\n"
      ]
     },
     "metadata": {},
     "output_type": "display_data"
    },
    {
     "data": {
      "text/plain": [
       "Speed: 2.2ms preprocess, 873.2ms inference, 1.1ms postprocess per image at shape (1, 3, 384, 640)\n"
      ]
     },
     "metadata": {},
     "output_type": "display_data"
    },
    {
     "data": {
      "text/plain": [
       "\n"
      ]
     },
     "metadata": {},
     "output_type": "display_data"
    },
    {
     "data": {
      "text/plain": [
       "0: 384x640 12 cars, 4 trucks, 2 traffic lights, 915.3ms\n"
      ]
     },
     "metadata": {},
     "output_type": "display_data"
    },
    {
     "data": {
      "text/plain": [
       "Speed: 13.1ms preprocess, 915.3ms inference, 1.2ms postprocess per image at shape (1, 3, 384, 640)\n"
      ]
     },
     "metadata": {},
     "output_type": "display_data"
    },
    {
     "data": {
      "text/plain": [
       "\n"
      ]
     },
     "metadata": {},
     "output_type": "display_data"
    },
    {
     "data": {
      "text/plain": [
       "0: 384x640 13 cars, 3 trucks, 2 traffic lights, 900.2ms\n"
      ]
     },
     "metadata": {},
     "output_type": "display_data"
    },
    {
     "data": {
      "text/plain": [
       "Speed: 4.4ms preprocess, 900.2ms inference, 0.9ms postprocess per image at shape (1, 3, 384, 640)\n"
      ]
     },
     "metadata": {},
     "output_type": "display_data"
    },
    {
     "data": {
      "text/plain": [
       "\n"
      ]
     },
     "metadata": {},
     "output_type": "display_data"
    },
    {
     "data": {
      "text/plain": [
       "0: 384x640 13 cars, 3 trucks, 2 traffic lights, 918.9ms\n"
      ]
     },
     "metadata": {},
     "output_type": "display_data"
    },
    {
     "data": {
      "text/plain": [
       "Speed: 2.1ms preprocess, 918.9ms inference, 0.9ms postprocess per image at shape (1, 3, 384, 640)\n"
      ]
     },
     "metadata": {},
     "output_type": "display_data"
    },
    {
     "data": {
      "text/plain": [
       "\n"
      ]
     },
     "metadata": {},
     "output_type": "display_data"
    },
    {
     "data": {
      "text/plain": [
       "0: 384x640 10 cars, 3 trucks, 2 traffic lights, 885.8ms\n"
      ]
     },
     "metadata": {},
     "output_type": "display_data"
    },
    {
     "data": {
      "text/plain": [
       "Speed: 2.3ms preprocess, 885.8ms inference, 1.1ms postprocess per image at shape (1, 3, 384, 640)\n"
      ]
     },
     "metadata": {},
     "output_type": "display_data"
    },
    {
     "data": {
      "text/plain": [
       "\n"
      ]
     },
     "metadata": {},
     "output_type": "display_data"
    },
    {
     "data": {
      "text/plain": [
       "0: 384x640 10 cars, 3 trucks, 2 traffic lights, 914.8ms\n"
      ]
     },
     "metadata": {},
     "output_type": "display_data"
    },
    {
     "data": {
      "text/plain": [
       "Speed: 3.3ms preprocess, 914.8ms inference, 0.8ms postprocess per image at shape (1, 3, 384, 640)\n"
      ]
     },
     "metadata": {},
     "output_type": "display_data"
    },
    {
     "data": {
      "text/plain": [
       "\n"
      ]
     },
     "metadata": {},
     "output_type": "display_data"
    },
    {
     "data": {
      "text/plain": [
       "0: 384x640 10 cars, 3 trucks, 2 traffic lights, 871.8ms\n"
      ]
     },
     "metadata": {},
     "output_type": "display_data"
    },
    {
     "data": {
      "text/plain": [
       "Speed: 2.4ms preprocess, 871.8ms inference, 1.8ms postprocess per image at shape (1, 3, 384, 640)\n"
      ]
     },
     "metadata": {},
     "output_type": "display_data"
    },
    {
     "data": {
      "text/plain": [
       "\n"
      ]
     },
     "metadata": {},
     "output_type": "display_data"
    },
    {
     "data": {
      "text/plain": [
       "0: 384x640 9 cars, 1 bus, 2 trucks, 2 traffic lights, 931.9ms\n"
      ]
     },
     "metadata": {},
     "output_type": "display_data"
    },
    {
     "data": {
      "text/plain": [
       "Speed: 2.6ms preprocess, 931.9ms inference, 1.5ms postprocess per image at shape (1, 3, 384, 640)\n"
      ]
     },
     "metadata": {},
     "output_type": "display_data"
    },
    {
     "data": {
      "text/plain": [
       "\n"
      ]
     },
     "metadata": {},
     "output_type": "display_data"
    },
    {
     "data": {
      "text/plain": [
       "0: 384x640 12 cars, 3 trucks, 2 traffic lights, 903.4ms\n"
      ]
     },
     "metadata": {},
     "output_type": "display_data"
    },
    {
     "data": {
      "text/plain": [
       "Speed: 2.2ms preprocess, 903.4ms inference, 0.9ms postprocess per image at shape (1, 3, 384, 640)\n"
      ]
     },
     "metadata": {},
     "output_type": "display_data"
    },
    {
     "data": {
      "text/plain": [
       "\n"
      ]
     },
     "metadata": {},
     "output_type": "display_data"
    },
    {
     "data": {
      "text/plain": [
       "0: 384x640 11 cars, 3 trucks, 2 traffic lights, 914.2ms\n"
      ]
     },
     "metadata": {},
     "output_type": "display_data"
    },
    {
     "data": {
      "text/plain": [
       "Speed: 2.1ms preprocess, 914.2ms inference, 0.9ms postprocess per image at shape (1, 3, 384, 640)\n"
      ]
     },
     "metadata": {},
     "output_type": "display_data"
    },
    {
     "data": {
      "text/plain": [
       "\n"
      ]
     },
     "metadata": {},
     "output_type": "display_data"
    },
    {
     "data": {
      "text/plain": [
       "0: 384x640 12 cars, 1 bus, 2 trucks, 2 traffic lights, 910.2ms\n"
      ]
     },
     "metadata": {},
     "output_type": "display_data"
    },
    {
     "data": {
      "text/plain": [
       "Speed: 2.0ms preprocess, 910.2ms inference, 0.9ms postprocess per image at shape (1, 3, 384, 640)\n"
      ]
     },
     "metadata": {},
     "output_type": "display_data"
    },
    {
     "data": {
      "text/plain": [
       "\n"
      ]
     },
     "metadata": {},
     "output_type": "display_data"
    },
    {
     "data": {
      "text/plain": [
       "0: 384x640 9 cars, 1 bus, 2 trucks, 2 traffic lights, 976.3ms\n"
      ]
     },
     "metadata": {},
     "output_type": "display_data"
    },
    {
     "data": {
      "text/plain": [
       "Speed: 2.2ms preprocess, 976.3ms inference, 1.1ms postprocess per image at shape (1, 3, 384, 640)\n"
      ]
     },
     "metadata": {},
     "output_type": "display_data"
    },
    {
     "data": {
      "text/plain": [
       "\n"
      ]
     },
     "metadata": {},
     "output_type": "display_data"
    },
    {
     "data": {
      "text/plain": [
       "0: 384x640 11 cars, 1 bus, 2 trucks, 2 traffic lights, 980.6ms\n"
      ]
     },
     "metadata": {},
     "output_type": "display_data"
    },
    {
     "data": {
      "text/plain": [
       "Speed: 2.6ms preprocess, 980.6ms inference, 1.0ms postprocess per image at shape (1, 3, 384, 640)\n"
      ]
     },
     "metadata": {},
     "output_type": "display_data"
    },
    {
     "data": {
      "text/plain": [
       "\n"
      ]
     },
     "metadata": {},
     "output_type": "display_data"
    },
    {
     "data": {
      "text/plain": [
       "0: 384x640 10 cars, 5 trucks, 2 traffic lights, 922.5ms\n"
      ]
     },
     "metadata": {},
     "output_type": "display_data"
    },
    {
     "data": {
      "text/plain": [
       "Speed: 3.8ms preprocess, 922.5ms inference, 1.4ms postprocess per image at shape (1, 3, 384, 640)\n"
      ]
     },
     "metadata": {},
     "output_type": "display_data"
    },
    {
     "data": {
      "text/plain": [
       "\n"
      ]
     },
     "metadata": {},
     "output_type": "display_data"
    },
    {
     "data": {
      "text/plain": [
       "0: 384x640 10 cars, 6 trucks, 2 traffic lights, 900.8ms\n"
      ]
     },
     "metadata": {},
     "output_type": "display_data"
    },
    {
     "data": {
      "text/plain": [
       "Speed: 2.9ms preprocess, 900.8ms inference, 0.9ms postprocess per image at shape (1, 3, 384, 640)\n"
      ]
     },
     "metadata": {},
     "output_type": "display_data"
    },
    {
     "data": {
      "text/plain": [
       "\n"
      ]
     },
     "metadata": {},
     "output_type": "display_data"
    },
    {
     "data": {
      "text/plain": [
       "0: 384x640 9 cars, 5 trucks, 2 traffic lights, 910.5ms\n"
      ]
     },
     "metadata": {},
     "output_type": "display_data"
    },
    {
     "data": {
      "text/plain": [
       "Speed: 2.0ms preprocess, 910.5ms inference, 1.1ms postprocess per image at shape (1, 3, 384, 640)\n"
      ]
     },
     "metadata": {},
     "output_type": "display_data"
    },
    {
     "data": {
      "text/plain": [
       "\n"
      ]
     },
     "metadata": {},
     "output_type": "display_data"
    },
    {
     "data": {
      "text/plain": [
       "0: 384x640 10 cars, 1 bus, 4 trucks, 3 traffic lights, 898.6ms\n"
      ]
     },
     "metadata": {},
     "output_type": "display_data"
    },
    {
     "data": {
      "text/plain": [
       "Speed: 2.4ms preprocess, 898.6ms inference, 1.2ms postprocess per image at shape (1, 3, 384, 640)\n"
      ]
     },
     "metadata": {},
     "output_type": "display_data"
    },
    {
     "data": {
      "text/plain": [
       "\n"
      ]
     },
     "metadata": {},
     "output_type": "display_data"
    },
    {
     "data": {
      "text/plain": [
       "0: 384x640 11 cars, 1 bus, 3 trucks, 3 traffic lights, 869.9ms\n"
      ]
     },
     "metadata": {},
     "output_type": "display_data"
    },
    {
     "data": {
      "text/plain": [
       "Speed: 2.5ms preprocess, 869.9ms inference, 0.9ms postprocess per image at shape (1, 3, 384, 640)\n"
      ]
     },
     "metadata": {},
     "output_type": "display_data"
    },
    {
     "data": {
      "text/plain": [
       "\n"
      ]
     },
     "metadata": {},
     "output_type": "display_data"
    },
    {
     "data": {
      "text/plain": [
       "0: 384x640 12 cars, 1 bus, 3 trucks, 3 traffic lights, 902.3ms\n"
      ]
     },
     "metadata": {},
     "output_type": "display_data"
    },
    {
     "data": {
      "text/plain": [
       "Speed: 2.2ms preprocess, 902.3ms inference, 1.1ms postprocess per image at shape (1, 3, 384, 640)\n"
      ]
     },
     "metadata": {},
     "output_type": "display_data"
    },
    {
     "data": {
      "text/plain": [
       "\n"
      ]
     },
     "metadata": {},
     "output_type": "display_data"
    },
    {
     "data": {
      "text/plain": [
       "0: 384x640 13 cars, 3 trucks, 3 traffic lights, 897.8ms\n"
      ]
     },
     "metadata": {},
     "output_type": "display_data"
    },
    {
     "data": {
      "text/plain": [
       "Speed: 3.5ms preprocess, 897.8ms inference, 1.0ms postprocess per image at shape (1, 3, 384, 640)\n"
      ]
     },
     "metadata": {},
     "output_type": "display_data"
    },
    {
     "data": {
      "text/plain": [
       "\n"
      ]
     },
     "metadata": {},
     "output_type": "display_data"
    },
    {
     "data": {
      "text/plain": [
       "0: 384x640 12 cars, 3 trucks, 3 traffic lights, 910.8ms\n"
      ]
     },
     "metadata": {},
     "output_type": "display_data"
    },
    {
     "data": {
      "text/plain": [
       "Speed: 2.2ms preprocess, 910.8ms inference, 0.9ms postprocess per image at shape (1, 3, 384, 640)\n"
      ]
     },
     "metadata": {},
     "output_type": "display_data"
    },
    {
     "data": {
      "text/plain": [
       "\n"
      ]
     },
     "metadata": {},
     "output_type": "display_data"
    },
    {
     "data": {
      "text/plain": [
       "0: 384x640 13 cars, 3 trucks, 3 traffic lights, 919.2ms\n"
      ]
     },
     "metadata": {},
     "output_type": "display_data"
    },
    {
     "data": {
      "text/plain": [
       "Speed: 2.2ms preprocess, 919.2ms inference, 1.0ms postprocess per image at shape (1, 3, 384, 640)\n"
      ]
     },
     "metadata": {},
     "output_type": "display_data"
    },
    {
     "data": {
      "text/plain": [
       "\n"
      ]
     },
     "metadata": {},
     "output_type": "display_data"
    },
    {
     "data": {
      "text/plain": [
       "0: 384x640 12 cars, 3 trucks, 3 traffic lights, 882.1ms\n"
      ]
     },
     "metadata": {},
     "output_type": "display_data"
    },
    {
     "data": {
      "text/plain": [
       "Speed: 2.4ms preprocess, 882.1ms inference, 1.8ms postprocess per image at shape (1, 3, 384, 640)\n"
      ]
     },
     "metadata": {},
     "output_type": "display_data"
    },
    {
     "data": {
      "text/plain": [
       "\n"
      ]
     },
     "metadata": {},
     "output_type": "display_data"
    },
    {
     "data": {
      "text/plain": [
       "0: 384x640 12 cars, 3 trucks, 3 traffic lights, 934.3ms\n"
      ]
     },
     "metadata": {},
     "output_type": "display_data"
    },
    {
     "data": {
      "text/plain": [
       "Speed: 2.0ms preprocess, 934.3ms inference, 1.0ms postprocess per image at shape (1, 3, 384, 640)\n"
      ]
     },
     "metadata": {},
     "output_type": "display_data"
    },
    {
     "data": {
      "text/plain": [
       "\n"
      ]
     },
     "metadata": {},
     "output_type": "display_data"
    },
    {
     "data": {
      "text/plain": [
       "0: 384x640 14 cars, 3 trucks, 3 traffic lights, 907.4ms\n"
      ]
     },
     "metadata": {},
     "output_type": "display_data"
    },
    {
     "data": {
      "text/plain": [
       "Speed: 3.0ms preprocess, 907.4ms inference, 0.9ms postprocess per image at shape (1, 3, 384, 640)\n"
      ]
     },
     "metadata": {},
     "output_type": "display_data"
    },
    {
     "data": {
      "text/plain": [
       "\n"
      ]
     },
     "metadata": {},
     "output_type": "display_data"
    },
    {
     "data": {
      "text/plain": [
       "0: 384x640 14 cars, 3 trucks, 3 traffic lights, 905.0ms\n"
      ]
     },
     "metadata": {},
     "output_type": "display_data"
    },
    {
     "data": {
      "text/plain": [
       "Speed: 2.0ms preprocess, 905.0ms inference, 1.0ms postprocess per image at shape (1, 3, 384, 640)\n"
      ]
     },
     "metadata": {},
     "output_type": "display_data"
    },
    {
     "data": {
      "text/plain": [
       "\n"
      ]
     },
     "metadata": {},
     "output_type": "display_data"
    },
    {
     "data": {
      "text/plain": [
       "0: 384x640 14 cars, 3 trucks, 3 traffic lights, 910.3ms\n"
      ]
     },
     "metadata": {},
     "output_type": "display_data"
    },
    {
     "data": {
      "text/plain": [
       "Speed: 2.4ms preprocess, 910.3ms inference, 0.8ms postprocess per image at shape (1, 3, 384, 640)\n"
      ]
     },
     "metadata": {},
     "output_type": "display_data"
    },
    {
     "data": {
      "text/plain": [
       "\n"
      ]
     },
     "metadata": {},
     "output_type": "display_data"
    },
    {
     "data": {
      "text/plain": [
       "0: 384x640 13 cars, 4 trucks, 2 traffic lights, 916.4ms\n"
      ]
     },
     "metadata": {},
     "output_type": "display_data"
    },
    {
     "data": {
      "text/plain": [
       "Speed: 2.2ms preprocess, 916.4ms inference, 1.2ms postprocess per image at shape (1, 3, 384, 640)\n"
      ]
     },
     "metadata": {},
     "output_type": "display_data"
    },
    {
     "data": {
      "text/plain": [
       "\n"
      ]
     },
     "metadata": {},
     "output_type": "display_data"
    },
    {
     "data": {
      "text/plain": [
       "0: 384x640 13 cars, 3 trucks, 3 traffic lights, 880.1ms\n"
      ]
     },
     "metadata": {},
     "output_type": "display_data"
    },
    {
     "data": {
      "text/plain": [
       "Speed: 3.9ms preprocess, 880.1ms inference, 1.0ms postprocess per image at shape (1, 3, 384, 640)\n"
      ]
     },
     "metadata": {},
     "output_type": "display_data"
    },
    {
     "data": {
      "text/plain": [
       "\n"
      ]
     },
     "metadata": {},
     "output_type": "display_data"
    },
    {
     "data": {
      "text/plain": [
       "0: 384x640 13 cars, 3 trucks, 3 traffic lights, 904.9ms\n"
      ]
     },
     "metadata": {},
     "output_type": "display_data"
    },
    {
     "data": {
      "text/plain": [
       "Speed: 2.1ms preprocess, 904.9ms inference, 1.1ms postprocess per image at shape (1, 3, 384, 640)\n"
      ]
     },
     "metadata": {},
     "output_type": "display_data"
    },
    {
     "data": {
      "text/plain": [
       "\n"
      ]
     },
     "metadata": {},
     "output_type": "display_data"
    },
    {
     "data": {
      "text/plain": [
       "0: 384x640 15 cars, 3 trucks, 4 traffic lights, 892.8ms\n"
      ]
     },
     "metadata": {},
     "output_type": "display_data"
    },
    {
     "data": {
      "text/plain": [
       "Speed: 2.9ms preprocess, 892.8ms inference, 0.9ms postprocess per image at shape (1, 3, 384, 640)\n"
      ]
     },
     "metadata": {},
     "output_type": "display_data"
    },
    {
     "data": {
      "text/plain": [
       "\n"
      ]
     },
     "metadata": {},
     "output_type": "display_data"
    },
    {
     "data": {
      "text/plain": [
       "0: 384x640 15 cars, 3 trucks, 4 traffic lights, 895.1ms\n"
      ]
     },
     "metadata": {},
     "output_type": "display_data"
    },
    {
     "data": {
      "text/plain": [
       "Speed: 3.6ms preprocess, 895.1ms inference, 0.9ms postprocess per image at shape (1, 3, 384, 640)\n"
      ]
     },
     "metadata": {},
     "output_type": "display_data"
    },
    {
     "data": {
      "text/plain": [
       "\n"
      ]
     },
     "metadata": {},
     "output_type": "display_data"
    },
    {
     "data": {
      "text/plain": [
       "0: 384x640 14 cars, 3 trucks, 3 traffic lights, 906.9ms\n"
      ]
     },
     "metadata": {},
     "output_type": "display_data"
    },
    {
     "data": {
      "text/plain": [
       "Speed: 3.7ms preprocess, 906.9ms inference, 1.1ms postprocess per image at shape (1, 3, 384, 640)\n"
      ]
     },
     "metadata": {},
     "output_type": "display_data"
    },
    {
     "data": {
      "text/plain": [
       "\n"
      ]
     },
     "metadata": {},
     "output_type": "display_data"
    },
    {
     "data": {
      "text/plain": [
       "0: 384x640 14 cars, 4 trucks, 3 traffic lights, 897.1ms\n"
      ]
     },
     "metadata": {},
     "output_type": "display_data"
    },
    {
     "data": {
      "text/plain": [
       "Speed: 3.6ms preprocess, 897.1ms inference, 0.9ms postprocess per image at shape (1, 3, 384, 640)\n"
      ]
     },
     "metadata": {},
     "output_type": "display_data"
    },
    {
     "data": {
      "text/plain": [
       "\n"
      ]
     },
     "metadata": {},
     "output_type": "display_data"
    },
    {
     "data": {
      "text/plain": [
       "0: 384x640 17 cars, 4 trucks, 3 traffic lights, 889.8ms\n"
      ]
     },
     "metadata": {},
     "output_type": "display_data"
    },
    {
     "data": {
      "text/plain": [
       "Speed: 2.1ms preprocess, 889.8ms inference, 1.3ms postprocess per image at shape (1, 3, 384, 640)\n"
      ]
     },
     "metadata": {},
     "output_type": "display_data"
    },
    {
     "data": {
      "text/plain": [
       "\n"
      ]
     },
     "metadata": {},
     "output_type": "display_data"
    },
    {
     "data": {
      "text/plain": [
       "0: 384x640 16 cars, 4 trucks, 3 traffic lights, 901.8ms\n"
      ]
     },
     "metadata": {},
     "output_type": "display_data"
    },
    {
     "data": {
      "text/plain": [
       "Speed: 13.4ms preprocess, 901.8ms inference, 0.8ms postprocess per image at shape (1, 3, 384, 640)\n"
      ]
     },
     "metadata": {},
     "output_type": "display_data"
    },
    {
     "data": {
      "text/plain": [
       "\n"
      ]
     },
     "metadata": {},
     "output_type": "display_data"
    },
    {
     "data": {
      "text/plain": [
       "0: 384x640 17 cars, 3 trucks, 3 traffic lights, 904.2ms\n"
      ]
     },
     "metadata": {},
     "output_type": "display_data"
    },
    {
     "data": {
      "text/plain": [
       "Speed: 2.1ms preprocess, 904.2ms inference, 0.9ms postprocess per image at shape (1, 3, 384, 640)\n"
      ]
     },
     "metadata": {},
     "output_type": "display_data"
    },
    {
     "data": {
      "text/plain": [
       "\n"
      ]
     },
     "metadata": {},
     "output_type": "display_data"
    },
    {
     "data": {
      "text/plain": [
       "0: 384x640 15 cars, 5 trucks, 3 traffic lights, 895.2ms\n"
      ]
     },
     "metadata": {},
     "output_type": "display_data"
    },
    {
     "data": {
      "text/plain": [
       "Speed: 2.2ms preprocess, 895.2ms inference, 2.4ms postprocess per image at shape (1, 3, 384, 640)\n"
      ]
     },
     "metadata": {},
     "output_type": "display_data"
    },
    {
     "data": {
      "text/plain": [
       "\n"
      ]
     },
     "metadata": {},
     "output_type": "display_data"
    },
    {
     "data": {
      "text/plain": [
       "0: 384x640 16 cars, 3 trucks, 3 traffic lights, 903.4ms\n"
      ]
     },
     "metadata": {},
     "output_type": "display_data"
    },
    {
     "data": {
      "text/plain": [
       "Speed: 3.6ms preprocess, 903.4ms inference, 0.9ms postprocess per image at shape (1, 3, 384, 640)\n"
      ]
     },
     "metadata": {},
     "output_type": "display_data"
    },
    {
     "data": {
      "text/plain": [
       "\n"
      ]
     },
     "metadata": {},
     "output_type": "display_data"
    },
    {
     "data": {
      "text/plain": [
       "0: 384x640 17 cars, 4 trucks, 3 traffic lights, 891.1ms\n"
      ]
     },
     "metadata": {},
     "output_type": "display_data"
    },
    {
     "data": {
      "text/plain": [
       "Speed: 2.3ms preprocess, 891.1ms inference, 1.0ms postprocess per image at shape (1, 3, 384, 640)\n"
      ]
     },
     "metadata": {},
     "output_type": "display_data"
    },
    {
     "data": {
      "text/plain": [
       "\n"
      ]
     },
     "metadata": {},
     "output_type": "display_data"
    },
    {
     "data": {
      "text/plain": [
       "0: 384x640 17 cars, 5 trucks, 3 traffic lights, 883.8ms\n"
      ]
     },
     "metadata": {},
     "output_type": "display_data"
    },
    {
     "data": {
      "text/plain": [
       "Speed: 2.1ms preprocess, 883.8ms inference, 0.9ms postprocess per image at shape (1, 3, 384, 640)\n"
      ]
     },
     "metadata": {},
     "output_type": "display_data"
    },
    {
     "data": {
      "text/plain": [
       "\n"
      ]
     },
     "metadata": {},
     "output_type": "display_data"
    },
    {
     "data": {
      "text/plain": [
       "0: 384x640 20 cars, 3 trucks, 3 traffic lights, 916.6ms\n"
      ]
     },
     "metadata": {},
     "output_type": "display_data"
    },
    {
     "data": {
      "text/plain": [
       "Speed: 2.3ms preprocess, 916.6ms inference, 0.9ms postprocess per image at shape (1, 3, 384, 640)\n"
      ]
     },
     "metadata": {},
     "output_type": "display_data"
    },
    {
     "data": {
      "text/plain": [
       "\n"
      ]
     },
     "metadata": {},
     "output_type": "display_data"
    },
    {
     "data": {
      "text/plain": [
       "0: 384x640 20 cars, 3 trucks, 3 traffic lights, 901.6ms\n"
      ]
     },
     "metadata": {},
     "output_type": "display_data"
    },
    {
     "data": {
      "text/plain": [
       "Speed: 2.3ms preprocess, 901.6ms inference, 1.0ms postprocess per image at shape (1, 3, 384, 640)\n"
      ]
     },
     "metadata": {},
     "output_type": "display_data"
    },
    {
     "data": {
      "text/plain": [
       "\n"
      ]
     },
     "metadata": {},
     "output_type": "display_data"
    },
    {
     "data": {
      "text/plain": [
       "0: 384x640 20 cars, 3 trucks, 4 traffic lights, 896.6ms\n"
      ]
     },
     "metadata": {},
     "output_type": "display_data"
    },
    {
     "data": {
      "text/plain": [
       "Speed: 4.3ms preprocess, 896.6ms inference, 1.7ms postprocess per image at shape (1, 3, 384, 640)\n"
      ]
     },
     "metadata": {},
     "output_type": "display_data"
    },
    {
     "data": {
      "text/plain": [
       "\n"
      ]
     },
     "metadata": {},
     "output_type": "display_data"
    },
    {
     "data": {
      "text/plain": [
       "0: 384x640 17 cars, 5 trucks, 4 traffic lights, 922.1ms\n"
      ]
     },
     "metadata": {},
     "output_type": "display_data"
    },
    {
     "data": {
      "text/plain": [
       "Speed: 2.6ms preprocess, 922.1ms inference, 0.8ms postprocess per image at shape (1, 3, 384, 640)\n"
      ]
     },
     "metadata": {},
     "output_type": "display_data"
    },
    {
     "data": {
      "text/plain": [
       "\n"
      ]
     },
     "metadata": {},
     "output_type": "display_data"
    },
    {
     "data": {
      "text/plain": [
       "0: 384x640 19 cars, 5 trucks, 4 traffic lights, 906.2ms\n"
      ]
     },
     "metadata": {},
     "output_type": "display_data"
    },
    {
     "data": {
      "text/plain": [
       "Speed: 2.2ms preprocess, 906.2ms inference, 0.9ms postprocess per image at shape (1, 3, 384, 640)\n"
      ]
     },
     "metadata": {},
     "output_type": "display_data"
    },
    {
     "data": {
      "text/plain": [
       "\n"
      ]
     },
     "metadata": {},
     "output_type": "display_data"
    },
    {
     "data": {
      "text/plain": [
       "0: 384x640 20 cars, 4 trucks, 4 traffic lights, 894.3ms\n"
      ]
     },
     "metadata": {},
     "output_type": "display_data"
    },
    {
     "data": {
      "text/plain": [
       "Speed: 3.0ms preprocess, 894.3ms inference, 1.0ms postprocess per image at shape (1, 3, 384, 640)\n"
      ]
     },
     "metadata": {},
     "output_type": "display_data"
    },
    {
     "data": {
      "text/plain": [
       "\n"
      ]
     },
     "metadata": {},
     "output_type": "display_data"
    },
    {
     "data": {
      "text/plain": [
       "0: 384x640 17 cars, 5 trucks, 4 traffic lights, 906.2ms\n"
      ]
     },
     "metadata": {},
     "output_type": "display_data"
    },
    {
     "data": {
      "text/plain": [
       "Speed: 2.2ms preprocess, 906.2ms inference, 1.0ms postprocess per image at shape (1, 3, 384, 640)\n"
      ]
     },
     "metadata": {},
     "output_type": "display_data"
    },
    {
     "data": {
      "text/plain": [
       "\n"
      ]
     },
     "metadata": {},
     "output_type": "display_data"
    },
    {
     "data": {
      "text/plain": [
       "0: 384x640 18 cars, 2 trucks, 5 traffic lights, 912.5ms\n"
      ]
     },
     "metadata": {},
     "output_type": "display_data"
    },
    {
     "data": {
      "text/plain": [
       "Speed: 3.2ms preprocess, 912.5ms inference, 0.9ms postprocess per image at shape (1, 3, 384, 640)\n"
      ]
     },
     "metadata": {},
     "output_type": "display_data"
    },
    {
     "data": {
      "text/plain": [
       "\n"
      ]
     },
     "metadata": {},
     "output_type": "display_data"
    },
    {
     "data": {
      "text/plain": [
       "0: 384x640 16 cars, 2 trucks, 4 traffic lights, 905.7ms\n"
      ]
     },
     "metadata": {},
     "output_type": "display_data"
    },
    {
     "data": {
      "text/plain": [
       "Speed: 2.1ms preprocess, 905.7ms inference, 0.9ms postprocess per image at shape (1, 3, 384, 640)\n"
      ]
     },
     "metadata": {},
     "output_type": "display_data"
    },
    {
     "data": {
      "text/plain": [
       "\n"
      ]
     },
     "metadata": {},
     "output_type": "display_data"
    },
    {
     "data": {
      "text/plain": [
       "0: 384x640 15 cars, 4 trucks, 4 traffic lights, 906.3ms\n"
      ]
     },
     "metadata": {},
     "output_type": "display_data"
    },
    {
     "data": {
      "text/plain": [
       "Speed: 2.3ms preprocess, 906.3ms inference, 1.3ms postprocess per image at shape (1, 3, 384, 640)\n"
      ]
     },
     "metadata": {},
     "output_type": "display_data"
    },
    {
     "data": {
      "text/plain": [
       "\n"
      ]
     },
     "metadata": {},
     "output_type": "display_data"
    },
    {
     "data": {
      "text/plain": [
       "0: 384x640 13 cars, 5 trucks, 4 traffic lights, 899.6ms\n"
      ]
     },
     "metadata": {},
     "output_type": "display_data"
    },
    {
     "data": {
      "text/plain": [
       "Speed: 2.9ms preprocess, 899.6ms inference, 0.9ms postprocess per image at shape (1, 3, 384, 640)\n"
      ]
     },
     "metadata": {},
     "output_type": "display_data"
    },
    {
     "data": {
      "text/plain": [
       "\n"
      ]
     },
     "metadata": {},
     "output_type": "display_data"
    },
    {
     "data": {
      "text/plain": [
       "0: 384x640 16 cars, 3 trucks, 4 traffic lights, 911.1ms\n"
      ]
     },
     "metadata": {},
     "output_type": "display_data"
    },
    {
     "data": {
      "text/plain": [
       "Speed: 2.3ms preprocess, 911.1ms inference, 0.9ms postprocess per image at shape (1, 3, 384, 640)\n"
      ]
     },
     "metadata": {},
     "output_type": "display_data"
    },
    {
     "data": {
      "text/plain": [
       "\n"
      ]
     },
     "metadata": {},
     "output_type": "display_data"
    },
    {
     "data": {
      "text/plain": [
       "0: 384x640 16 cars, 4 trucks, 4 traffic lights, 903.5ms\n"
      ]
     },
     "metadata": {},
     "output_type": "display_data"
    },
    {
     "data": {
      "text/plain": [
       "Speed: 3.2ms preprocess, 903.5ms inference, 1.0ms postprocess per image at shape (1, 3, 384, 640)\n"
      ]
     },
     "metadata": {},
     "output_type": "display_data"
    },
    {
     "data": {
      "text/plain": [
       "\n"
      ]
     },
     "metadata": {},
     "output_type": "display_data"
    },
    {
     "data": {
      "text/plain": [
       "0: 384x640 17 cars, 4 trucks, 4 traffic lights, 914.2ms\n"
      ]
     },
     "metadata": {},
     "output_type": "display_data"
    },
    {
     "data": {
      "text/plain": [
       "Speed: 2.3ms preprocess, 914.2ms inference, 1.7ms postprocess per image at shape (1, 3, 384, 640)\n"
      ]
     },
     "metadata": {},
     "output_type": "display_data"
    },
    {
     "data": {
      "text/plain": [
       "\n"
      ]
     },
     "metadata": {},
     "output_type": "display_data"
    },
    {
     "data": {
      "text/plain": [
       "0: 384x640 14 cars, 6 trucks, 4 traffic lights, 913.6ms\n"
      ]
     },
     "metadata": {},
     "output_type": "display_data"
    },
    {
     "data": {
      "text/plain": [
       "Speed: 2.4ms preprocess, 913.6ms inference, 1.3ms postprocess per image at shape (1, 3, 384, 640)\n"
      ]
     },
     "metadata": {},
     "output_type": "display_data"
    },
    {
     "data": {
      "text/plain": [
       "\n"
      ]
     },
     "metadata": {},
     "output_type": "display_data"
    },
    {
     "data": {
      "text/plain": [
       "0: 384x640 14 cars, 6 trucks, 4 traffic lights, 915.3ms\n"
      ]
     },
     "metadata": {},
     "output_type": "display_data"
    },
    {
     "data": {
      "text/plain": [
       "Speed: 2.7ms preprocess, 915.3ms inference, 1.3ms postprocess per image at shape (1, 3, 384, 640)\n"
      ]
     },
     "metadata": {},
     "output_type": "display_data"
    },
    {
     "data": {
      "text/plain": [
       "\n"
      ]
     },
     "metadata": {},
     "output_type": "display_data"
    },
    {
     "data": {
      "text/plain": [
       "0: 384x640 16 cars, 5 trucks, 3 traffic lights, 915.0ms\n"
      ]
     },
     "metadata": {},
     "output_type": "display_data"
    },
    {
     "data": {
      "text/plain": [
       "Speed: 2.8ms preprocess, 915.0ms inference, 0.8ms postprocess per image at shape (1, 3, 384, 640)\n"
      ]
     },
     "metadata": {},
     "output_type": "display_data"
    },
    {
     "data": {
      "text/plain": [
       "\n"
      ]
     },
     "metadata": {},
     "output_type": "display_data"
    },
    {
     "data": {
      "text/plain": [
       "0: 384x640 15 cars, 6 trucks, 3 traffic lights, 935.5ms\n"
      ]
     },
     "metadata": {},
     "output_type": "display_data"
    },
    {
     "data": {
      "text/plain": [
       "Speed: 2.0ms preprocess, 935.5ms inference, 1.0ms postprocess per image at shape (1, 3, 384, 640)\n"
      ]
     },
     "metadata": {},
     "output_type": "display_data"
    },
    {
     "data": {
      "text/plain": [
       "\n"
      ]
     },
     "metadata": {},
     "output_type": "display_data"
    },
    {
     "data": {
      "text/plain": [
       "0: 384x640 16 cars, 5 trucks, 3 traffic lights, 942.4ms\n"
      ]
     },
     "metadata": {},
     "output_type": "display_data"
    },
    {
     "data": {
      "text/plain": [
       "Speed: 2.4ms preprocess, 942.4ms inference, 1.0ms postprocess per image at shape (1, 3, 384, 640)\n"
      ]
     },
     "metadata": {},
     "output_type": "display_data"
    },
    {
     "data": {
      "text/plain": [
       "\n"
      ]
     },
     "metadata": {},
     "output_type": "display_data"
    },
    {
     "data": {
      "text/plain": [
       "0: 384x640 16 cars, 4 trucks, 3 traffic lights, 922.5ms\n"
      ]
     },
     "metadata": {},
     "output_type": "display_data"
    },
    {
     "data": {
      "text/plain": [
       "Speed: 2.2ms preprocess, 922.5ms inference, 1.0ms postprocess per image at shape (1, 3, 384, 640)\n"
      ]
     },
     "metadata": {},
     "output_type": "display_data"
    },
    {
     "data": {
      "text/plain": [
       "\n"
      ]
     },
     "metadata": {},
     "output_type": "display_data"
    },
    {
     "data": {
      "text/plain": [
       "0: 384x640 15 cars, 5 trucks, 3 traffic lights, 900.9ms\n"
      ]
     },
     "metadata": {},
     "output_type": "display_data"
    },
    {
     "data": {
      "text/plain": [
       "Speed: 2.5ms preprocess, 900.9ms inference, 1.2ms postprocess per image at shape (1, 3, 384, 640)\n"
      ]
     },
     "metadata": {},
     "output_type": "display_data"
    },
    {
     "data": {
      "text/plain": [
       "\n"
      ]
     },
     "metadata": {},
     "output_type": "display_data"
    },
    {
     "data": {
      "text/plain": [
       "0: 384x640 14 cars, 5 trucks, 3 traffic lights, 901.0ms\n"
      ]
     },
     "metadata": {},
     "output_type": "display_data"
    },
    {
     "data": {
      "text/plain": [
       "Speed: 2.5ms preprocess, 901.0ms inference, 0.8ms postprocess per image at shape (1, 3, 384, 640)\n"
      ]
     },
     "metadata": {},
     "output_type": "display_data"
    },
    {
     "data": {
      "text/plain": [
       "\n"
      ]
     },
     "metadata": {},
     "output_type": "display_data"
    },
    {
     "data": {
      "text/plain": [
       "0: 384x640 16 cars, 5 trucks, 3 traffic lights, 902.7ms\n"
      ]
     },
     "metadata": {},
     "output_type": "display_data"
    },
    {
     "data": {
      "text/plain": [
       "Speed: 3.6ms preprocess, 902.7ms inference, 0.9ms postprocess per image at shape (1, 3, 384, 640)\n"
      ]
     },
     "metadata": {},
     "output_type": "display_data"
    },
    {
     "data": {
      "text/plain": [
       "\n"
      ]
     },
     "metadata": {},
     "output_type": "display_data"
    },
    {
     "data": {
      "text/plain": [
       "0: 384x640 16 cars, 4 trucks, 3 traffic lights, 905.1ms\n"
      ]
     },
     "metadata": {},
     "output_type": "display_data"
    },
    {
     "data": {
      "text/plain": [
       "Speed: 2.2ms preprocess, 905.1ms inference, 1.1ms postprocess per image at shape (1, 3, 384, 640)\n"
      ]
     },
     "metadata": {},
     "output_type": "display_data"
    },
    {
     "data": {
      "text/plain": [
       "\n"
      ]
     },
     "metadata": {},
     "output_type": "display_data"
    },
    {
     "data": {
      "text/plain": [
       "0: 384x640 19 cars, 3 trucks, 3 traffic lights, 907.7ms\n"
      ]
     },
     "metadata": {},
     "output_type": "display_data"
    },
    {
     "data": {
      "text/plain": [
       "Speed: 3.0ms preprocess, 907.7ms inference, 0.9ms postprocess per image at shape (1, 3, 384, 640)\n"
      ]
     },
     "metadata": {},
     "output_type": "display_data"
    },
    {
     "data": {
      "text/plain": [
       "\n"
      ]
     },
     "metadata": {},
     "output_type": "display_data"
    },
    {
     "data": {
      "text/plain": [
       "0: 384x640 18 cars, 3 trucks, 3 traffic lights, 902.5ms\n"
      ]
     },
     "metadata": {},
     "output_type": "display_data"
    },
    {
     "data": {
      "text/plain": [
       "Speed: 2.0ms preprocess, 902.5ms inference, 0.8ms postprocess per image at shape (1, 3, 384, 640)\n"
      ]
     },
     "metadata": {},
     "output_type": "display_data"
    },
    {
     "data": {
      "text/plain": [
       "\n"
      ]
     },
     "metadata": {},
     "output_type": "display_data"
    },
    {
     "data": {
      "text/plain": [
       "0: 384x640 20 cars, 3 trucks, 3 traffic lights, 909.7ms\n"
      ]
     },
     "metadata": {},
     "output_type": "display_data"
    },
    {
     "data": {
      "text/plain": [
       "Speed: 2.5ms preprocess, 909.7ms inference, 0.9ms postprocess per image at shape (1, 3, 384, 640)\n"
      ]
     },
     "metadata": {},
     "output_type": "display_data"
    },
    {
     "data": {
      "text/plain": [
       "\n"
      ]
     },
     "metadata": {},
     "output_type": "display_data"
    },
    {
     "data": {
      "text/plain": [
       "0: 384x640 19 cars, 3 trucks, 3 traffic lights, 888.8ms\n"
      ]
     },
     "metadata": {},
     "output_type": "display_data"
    },
    {
     "data": {
      "text/plain": [
       "Speed: 11.7ms preprocess, 888.8ms inference, 0.8ms postprocess per image at shape (1, 3, 384, 640)\n"
      ]
     },
     "metadata": {},
     "output_type": "display_data"
    },
    {
     "data": {
      "text/plain": [
       "\n"
      ]
     },
     "metadata": {},
     "output_type": "display_data"
    },
    {
     "data": {
      "text/plain": [
       "0: 384x640 18 cars, 2 trucks, 3 traffic lights, 895.0ms\n"
      ]
     },
     "metadata": {},
     "output_type": "display_data"
    },
    {
     "data": {
      "text/plain": [
       "Speed: 2.0ms preprocess, 895.0ms inference, 0.9ms postprocess per image at shape (1, 3, 384, 640)\n"
      ]
     },
     "metadata": {},
     "output_type": "display_data"
    },
    {
     "data": {
      "text/plain": [
       "\n"
      ]
     },
     "metadata": {},
     "output_type": "display_data"
    },
    {
     "data": {
      "text/plain": [
       "0: 384x640 19 cars, 2 trucks, 3 traffic lights, 902.2ms\n"
      ]
     },
     "metadata": {},
     "output_type": "display_data"
    },
    {
     "data": {
      "text/plain": [
       "Speed: 3.2ms preprocess, 902.2ms inference, 1.5ms postprocess per image at shape (1, 3, 384, 640)\n"
      ]
     },
     "metadata": {},
     "output_type": "display_data"
    },
    {
     "data": {
      "text/plain": [
       "\n"
      ]
     },
     "metadata": {},
     "output_type": "display_data"
    },
    {
     "data": {
      "text/plain": [
       "0: 384x640 19 cars, 2 trucks, 3 traffic lights, 901.9ms\n"
      ]
     },
     "metadata": {},
     "output_type": "display_data"
    },
    {
     "data": {
      "text/plain": [
       "Speed: 3.0ms preprocess, 901.9ms inference, 0.9ms postprocess per image at shape (1, 3, 384, 640)\n"
      ]
     },
     "metadata": {},
     "output_type": "display_data"
    },
    {
     "data": {
      "text/plain": [
       "\n"
      ]
     },
     "metadata": {},
     "output_type": "display_data"
    },
    {
     "data": {
      "text/plain": [
       "0: 384x640 18 cars, 2 trucks, 3 traffic lights, 893.2ms\n"
      ]
     },
     "metadata": {},
     "output_type": "display_data"
    },
    {
     "data": {
      "text/plain": [
       "Speed: 2.2ms preprocess, 893.2ms inference, 1.6ms postprocess per image at shape (1, 3, 384, 640)\n"
      ]
     },
     "metadata": {},
     "output_type": "display_data"
    },
    {
     "data": {
      "text/plain": [
       "\n"
      ]
     },
     "metadata": {},
     "output_type": "display_data"
    },
    {
     "data": {
      "text/plain": [
       "0: 384x640 19 cars, 2 trucks, 3 traffic lights, 885.6ms\n"
      ]
     },
     "metadata": {},
     "output_type": "display_data"
    },
    {
     "data": {
      "text/plain": [
       "Speed: 4.1ms preprocess, 885.6ms inference, 1.6ms postprocess per image at shape (1, 3, 384, 640)\n"
      ]
     },
     "metadata": {},
     "output_type": "display_data"
    },
    {
     "data": {
      "text/plain": [
       "\n"
      ]
     },
     "metadata": {},
     "output_type": "display_data"
    },
    {
     "data": {
      "text/plain": [
       "0: 384x640 20 cars, 4 trucks, 3 traffic lights, 913.5ms\n"
      ]
     },
     "metadata": {},
     "output_type": "display_data"
    },
    {
     "data": {
      "text/plain": [
       "Speed: 2.1ms preprocess, 913.5ms inference, 0.9ms postprocess per image at shape (1, 3, 384, 640)\n"
      ]
     },
     "metadata": {},
     "output_type": "display_data"
    },
    {
     "data": {
      "text/plain": [
       "\n"
      ]
     },
     "metadata": {},
     "output_type": "display_data"
    },
    {
     "data": {
      "text/plain": [
       "0: 384x640 19 cars, 4 trucks, 3 traffic lights, 900.9ms\n"
      ]
     },
     "metadata": {},
     "output_type": "display_data"
    },
    {
     "data": {
      "text/plain": [
       "Speed: 2.3ms preprocess, 900.9ms inference, 1.2ms postprocess per image at shape (1, 3, 384, 640)\n"
      ]
     },
     "metadata": {},
     "output_type": "display_data"
    },
    {
     "data": {
      "text/plain": [
       "\n"
      ]
     },
     "metadata": {},
     "output_type": "display_data"
    },
    {
     "data": {
      "text/plain": [
       "0: 384x640 20 cars, 3 trucks, 3 traffic lights, 907.2ms\n"
      ]
     },
     "metadata": {},
     "output_type": "display_data"
    },
    {
     "data": {
      "text/plain": [
       "Speed: 4.9ms preprocess, 907.2ms inference, 1.2ms postprocess per image at shape (1, 3, 384, 640)\n"
      ]
     },
     "metadata": {},
     "output_type": "display_data"
    },
    {
     "data": {
      "text/plain": [
       "\n"
      ]
     },
     "metadata": {},
     "output_type": "display_data"
    },
    {
     "data": {
      "text/plain": [
       "0: 384x640 18 cars, 5 trucks, 3 traffic lights, 901.6ms\n"
      ]
     },
     "metadata": {},
     "output_type": "display_data"
    },
    {
     "data": {
      "text/plain": [
       "Speed: 3.4ms preprocess, 901.6ms inference, 0.9ms postprocess per image at shape (1, 3, 384, 640)\n"
      ]
     },
     "metadata": {},
     "output_type": "display_data"
    },
    {
     "data": {
      "text/plain": [
       "\n"
      ]
     },
     "metadata": {},
     "output_type": "display_data"
    },
    {
     "data": {
      "text/plain": [
       "0: 384x640 19 cars, 4 trucks, 3 traffic lights, 887.0ms\n"
      ]
     },
     "metadata": {},
     "output_type": "display_data"
    },
    {
     "data": {
      "text/plain": [
       "Speed: 2.1ms preprocess, 887.0ms inference, 1.1ms postprocess per image at shape (1, 3, 384, 640)\n"
      ]
     },
     "metadata": {},
     "output_type": "display_data"
    },
    {
     "data": {
      "text/plain": [
       "\n"
      ]
     },
     "metadata": {},
     "output_type": "display_data"
    },
    {
     "data": {
      "text/plain": [
       "0: 384x640 21 cars, 3 trucks, 3 traffic lights, 894.8ms\n"
      ]
     },
     "metadata": {},
     "output_type": "display_data"
    },
    {
     "data": {
      "text/plain": [
       "Speed: 4.0ms preprocess, 894.8ms inference, 0.9ms postprocess per image at shape (1, 3, 384, 640)\n"
      ]
     },
     "metadata": {},
     "output_type": "display_data"
    },
    {
     "data": {
      "text/plain": [
       "\n"
      ]
     },
     "metadata": {},
     "output_type": "display_data"
    },
    {
     "data": {
      "text/plain": [
       "0: 384x640 20 cars, 3 trucks, 3 traffic lights, 910.8ms\n"
      ]
     },
     "metadata": {},
     "output_type": "display_data"
    },
    {
     "data": {
      "text/plain": [
       "Speed: 2.2ms preprocess, 910.8ms inference, 0.8ms postprocess per image at shape (1, 3, 384, 640)\n"
      ]
     },
     "metadata": {},
     "output_type": "display_data"
    },
    {
     "data": {
      "text/plain": [
       "\n"
      ]
     },
     "metadata": {},
     "output_type": "display_data"
    },
    {
     "data": {
      "text/plain": [
       "0: 384x640 19 cars, 4 trucks, 3 traffic lights, 902.1ms\n"
      ]
     },
     "metadata": {},
     "output_type": "display_data"
    },
    {
     "data": {
      "text/plain": [
       "Speed: 2.4ms preprocess, 902.1ms inference, 0.9ms postprocess per image at shape (1, 3, 384, 640)\n"
      ]
     },
     "metadata": {},
     "output_type": "display_data"
    },
    {
     "data": {
      "text/plain": [
       "\n"
      ]
     },
     "metadata": {},
     "output_type": "display_data"
    },
    {
     "data": {
      "text/plain": [
       "0: 384x640 17 cars, 4 trucks, 3 traffic lights, 902.5ms\n"
      ]
     },
     "metadata": {},
     "output_type": "display_data"
    },
    {
     "data": {
      "text/plain": [
       "Speed: 2.1ms preprocess, 902.5ms inference, 1.5ms postprocess per image at shape (1, 3, 384, 640)\n"
      ]
     },
     "metadata": {},
     "output_type": "display_data"
    },
    {
     "data": {
      "text/plain": [
       "\n"
      ]
     },
     "metadata": {},
     "output_type": "display_data"
    },
    {
     "data": {
      "text/plain": [
       "0: 384x640 17 cars, 4 trucks, 3 traffic lights, 918.1ms\n"
      ]
     },
     "metadata": {},
     "output_type": "display_data"
    },
    {
     "data": {
      "text/plain": [
       "Speed: 3.6ms preprocess, 918.1ms inference, 0.9ms postprocess per image at shape (1, 3, 384, 640)\n"
      ]
     },
     "metadata": {},
     "output_type": "display_data"
    },
    {
     "data": {
      "text/plain": [
       "\n"
      ]
     },
     "metadata": {},
     "output_type": "display_data"
    },
    {
     "data": {
      "text/plain": [
       "0: 384x640 15 cars, 4 trucks, 3 traffic lights, 902.6ms\n"
      ]
     },
     "metadata": {},
     "output_type": "display_data"
    },
    {
     "data": {
      "text/plain": [
       "Speed: 2.3ms preprocess, 902.6ms inference, 0.9ms postprocess per image at shape (1, 3, 384, 640)\n"
      ]
     },
     "metadata": {},
     "output_type": "display_data"
    },
    {
     "data": {
      "text/plain": [
       "\n"
      ]
     },
     "metadata": {},
     "output_type": "display_data"
    },
    {
     "data": {
      "text/plain": [
       "0: 384x640 15 cars, 3 trucks, 3 traffic lights, 886.0ms\n"
      ]
     },
     "metadata": {},
     "output_type": "display_data"
    },
    {
     "data": {
      "text/plain": [
       "Speed: 2.1ms preprocess, 886.0ms inference, 0.9ms postprocess per image at shape (1, 3, 384, 640)\n"
      ]
     },
     "metadata": {},
     "output_type": "display_data"
    },
    {
     "data": {
      "text/plain": [
       "\n"
      ]
     },
     "metadata": {},
     "output_type": "display_data"
    },
    {
     "data": {
      "text/plain": [
       "0: 384x640 16 cars, 3 trucks, 3 traffic lights, 914.8ms\n"
      ]
     },
     "metadata": {},
     "output_type": "display_data"
    },
    {
     "data": {
      "text/plain": [
       "Speed: 2.0ms preprocess, 914.8ms inference, 0.9ms postprocess per image at shape (1, 3, 384, 640)\n"
      ]
     },
     "metadata": {},
     "output_type": "display_data"
    },
    {
     "data": {
      "text/plain": [
       "\n"
      ]
     },
     "metadata": {},
     "output_type": "display_data"
    },
    {
     "data": {
      "text/plain": [
       "0: 384x640 17 cars, 3 trucks, 3 traffic lights, 927.2ms\n"
      ]
     },
     "metadata": {},
     "output_type": "display_data"
    },
    {
     "data": {
      "text/plain": [
       "Speed: 2.0ms preprocess, 927.2ms inference, 0.9ms postprocess per image at shape (1, 3, 384, 640)\n"
      ]
     },
     "metadata": {},
     "output_type": "display_data"
    },
    {
     "data": {
      "text/plain": [
       "\n"
      ]
     },
     "metadata": {},
     "output_type": "display_data"
    },
    {
     "data": {
      "text/plain": [
       "0: 384x640 16 cars, 2 trucks, 3 traffic lights, 907.6ms\n"
      ]
     },
     "metadata": {},
     "output_type": "display_data"
    },
    {
     "data": {
      "text/plain": [
       "Speed: 2.1ms preprocess, 907.6ms inference, 0.9ms postprocess per image at shape (1, 3, 384, 640)\n"
      ]
     },
     "metadata": {},
     "output_type": "display_data"
    },
    {
     "data": {
      "text/plain": [
       "\n"
      ]
     },
     "metadata": {},
     "output_type": "display_data"
    },
    {
     "data": {
      "text/plain": [
       "0: 384x640 16 cars, 2 trucks, 3 traffic lights, 894.9ms\n"
      ]
     },
     "metadata": {},
     "output_type": "display_data"
    },
    {
     "data": {
      "text/plain": [
       "Speed: 2.4ms preprocess, 894.9ms inference, 1.9ms postprocess per image at shape (1, 3, 384, 640)\n"
      ]
     },
     "metadata": {},
     "output_type": "display_data"
    },
    {
     "data": {
      "text/plain": [
       "\n"
      ]
     },
     "metadata": {},
     "output_type": "display_data"
    },
    {
     "data": {
      "text/plain": [
       "0: 384x640 16 cars, 2 trucks, 3 traffic lights, 920.3ms\n"
      ]
     },
     "metadata": {},
     "output_type": "display_data"
    },
    {
     "data": {
      "text/plain": [
       "Speed: 3.7ms preprocess, 920.3ms inference, 1.4ms postprocess per image at shape (1, 3, 384, 640)\n"
      ]
     },
     "metadata": {},
     "output_type": "display_data"
    },
    {
     "data": {
      "text/plain": [
       "\n"
      ]
     },
     "metadata": {},
     "output_type": "display_data"
    },
    {
     "data": {
      "text/plain": [
       "0: 384x640 14 cars, 3 trucks, 3 traffic lights, 912.7ms\n"
      ]
     },
     "metadata": {},
     "output_type": "display_data"
    },
    {
     "data": {
      "text/plain": [
       "Speed: 3.0ms preprocess, 912.7ms inference, 1.2ms postprocess per image at shape (1, 3, 384, 640)\n"
      ]
     },
     "metadata": {},
     "output_type": "display_data"
    },
    {
     "data": {
      "text/plain": [
       "\n"
      ]
     },
     "metadata": {},
     "output_type": "display_data"
    },
    {
     "data": {
      "text/plain": [
       "0: 384x640 16 cars, 2 trucks, 3 traffic lights, 912.8ms\n"
      ]
     },
     "metadata": {},
     "output_type": "display_data"
    },
    {
     "data": {
      "text/plain": [
       "Speed: 3.5ms preprocess, 912.8ms inference, 0.9ms postprocess per image at shape (1, 3, 384, 640)\n"
      ]
     },
     "metadata": {},
     "output_type": "display_data"
    },
    {
     "data": {
      "text/plain": [
       "\n"
      ]
     },
     "metadata": {},
     "output_type": "display_data"
    },
    {
     "data": {
      "text/plain": [
       "0: 384x640 16 cars, 3 trucks, 3 traffic lights, 891.0ms\n"
      ]
     },
     "metadata": {},
     "output_type": "display_data"
    },
    {
     "data": {
      "text/plain": [
       "Speed: 2.4ms preprocess, 891.0ms inference, 0.8ms postprocess per image at shape (1, 3, 384, 640)\n"
      ]
     },
     "metadata": {},
     "output_type": "display_data"
    },
    {
     "data": {
      "text/plain": [
       "\n"
      ]
     },
     "metadata": {},
     "output_type": "display_data"
    },
    {
     "data": {
      "text/plain": [
       "0: 384x640 16 cars, 3 trucks, 3 traffic lights, 918.7ms\n"
      ]
     },
     "metadata": {},
     "output_type": "display_data"
    },
    {
     "data": {
      "text/plain": [
       "Speed: 3.7ms preprocess, 918.7ms inference, 0.8ms postprocess per image at shape (1, 3, 384, 640)\n"
      ]
     },
     "metadata": {},
     "output_type": "display_data"
    },
    {
     "data": {
      "text/plain": [
       "\n"
      ]
     },
     "metadata": {},
     "output_type": "display_data"
    },
    {
     "data": {
      "text/plain": [
       "0: 384x640 16 cars, 3 trucks, 3 traffic lights, 921.0ms\n"
      ]
     },
     "metadata": {},
     "output_type": "display_data"
    },
    {
     "data": {
      "text/plain": [
       "Speed: 3.8ms preprocess, 921.0ms inference, 0.9ms postprocess per image at shape (1, 3, 384, 640)\n"
      ]
     },
     "metadata": {},
     "output_type": "display_data"
    },
    {
     "data": {
      "text/plain": [
       "\n"
      ]
     },
     "metadata": {},
     "output_type": "display_data"
    },
    {
     "data": {
      "text/plain": [
       "0: 384x640 17 cars, 4 trucks, 3 traffic lights, 911.9ms\n"
      ]
     },
     "metadata": {},
     "output_type": "display_data"
    },
    {
     "data": {
      "text/plain": [
       "Speed: 2.4ms preprocess, 911.9ms inference, 1.3ms postprocess per image at shape (1, 3, 384, 640)\n"
      ]
     },
     "metadata": {},
     "output_type": "display_data"
    },
    {
     "data": {
      "text/plain": [
       "\n"
      ]
     },
     "metadata": {},
     "output_type": "display_data"
    },
    {
     "data": {
      "text/plain": [
       "0: 384x640 17 cars, 3 trucks, 3 traffic lights, 923.3ms\n"
      ]
     },
     "metadata": {},
     "output_type": "display_data"
    },
    {
     "data": {
      "text/plain": [
       "Speed: 3.9ms preprocess, 923.3ms inference, 1.0ms postprocess per image at shape (1, 3, 384, 640)\n"
      ]
     },
     "metadata": {},
     "output_type": "display_data"
    },
    {
     "data": {
      "text/plain": [
       "\n"
      ]
     },
     "metadata": {},
     "output_type": "display_data"
    },
    {
     "data": {
      "text/plain": [
       "0: 384x640 16 cars, 3 trucks, 3 traffic lights, 922.6ms\n"
      ]
     },
     "metadata": {},
     "output_type": "display_data"
    },
    {
     "data": {
      "text/plain": [
       "Speed: 3.7ms preprocess, 922.6ms inference, 1.4ms postprocess per image at shape (1, 3, 384, 640)\n"
      ]
     },
     "metadata": {},
     "output_type": "display_data"
    },
    {
     "data": {
      "text/plain": [
       "\n"
      ]
     },
     "metadata": {},
     "output_type": "display_data"
    },
    {
     "data": {
      "text/plain": [
       "0: 384x640 15 cars, 3 trucks, 3 traffic lights, 888.5ms\n"
      ]
     },
     "metadata": {},
     "output_type": "display_data"
    },
    {
     "data": {
      "text/plain": [
       "Speed: 2.6ms preprocess, 888.5ms inference, 1.0ms postprocess per image at shape (1, 3, 384, 640)\n"
      ]
     },
     "metadata": {},
     "output_type": "display_data"
    },
    {
     "data": {
      "text/plain": [
       "\n"
      ]
     },
     "metadata": {},
     "output_type": "display_data"
    },
    {
     "data": {
      "text/plain": [
       "0: 384x640 16 cars, 3 trucks, 3 traffic lights, 895.2ms\n"
      ]
     },
     "metadata": {},
     "output_type": "display_data"
    },
    {
     "data": {
      "text/plain": [
       "Speed: 9.7ms preprocess, 895.2ms inference, 0.9ms postprocess per image at shape (1, 3, 384, 640)\n"
      ]
     },
     "metadata": {},
     "output_type": "display_data"
    },
    {
     "data": {
      "text/plain": [
       "\n"
      ]
     },
     "metadata": {},
     "output_type": "display_data"
    },
    {
     "data": {
      "text/plain": [
       "0: 384x640 16 cars, 3 trucks, 3 traffic lights, 905.7ms\n"
      ]
     },
     "metadata": {},
     "output_type": "display_data"
    },
    {
     "data": {
      "text/plain": [
       "Speed: 2.3ms preprocess, 905.7ms inference, 0.9ms postprocess per image at shape (1, 3, 384, 640)\n"
      ]
     },
     "metadata": {},
     "output_type": "display_data"
    },
    {
     "data": {
      "text/plain": [
       "\n"
      ]
     },
     "metadata": {},
     "output_type": "display_data"
    },
    {
     "data": {
      "text/plain": [
       "0: 384x640 16 cars, 3 trucks, 3 traffic lights, 915.6ms\n"
      ]
     },
     "metadata": {},
     "output_type": "display_data"
    },
    {
     "data": {
      "text/plain": [
       "Speed: 2.4ms preprocess, 915.6ms inference, 1.5ms postprocess per image at shape (1, 3, 384, 640)\n"
      ]
     },
     "metadata": {},
     "output_type": "display_data"
    },
    {
     "data": {
      "text/plain": [
       "\n"
      ]
     },
     "metadata": {},
     "output_type": "display_data"
    },
    {
     "data": {
      "text/plain": [
       "0: 384x640 14 cars, 4 trucks, 3 traffic lights, 923.4ms\n"
      ]
     },
     "metadata": {},
     "output_type": "display_data"
    },
    {
     "data": {
      "text/plain": [
       "Speed: 3.6ms preprocess, 923.4ms inference, 1.2ms postprocess per image at shape (1, 3, 384, 640)\n"
      ]
     },
     "metadata": {},
     "output_type": "display_data"
    },
    {
     "data": {
      "text/plain": [
       "\n"
      ]
     },
     "metadata": {},
     "output_type": "display_data"
    },
    {
     "data": {
      "text/plain": [
       "0: 384x640 17 cars, 2 trucks, 3 traffic lights, 911.6ms\n"
      ]
     },
     "metadata": {},
     "output_type": "display_data"
    },
    {
     "data": {
      "text/plain": [
       "Speed: 2.8ms preprocess, 911.6ms inference, 1.4ms postprocess per image at shape (1, 3, 384, 640)\n"
      ]
     },
     "metadata": {},
     "output_type": "display_data"
    },
    {
     "data": {
      "text/plain": [
       "\n"
      ]
     },
     "metadata": {},
     "output_type": "display_data"
    },
    {
     "data": {
      "text/plain": [
       "0: 384x640 17 cars, 4 trucks, 3 traffic lights, 899.4ms\n"
      ]
     },
     "metadata": {},
     "output_type": "display_data"
    },
    {
     "data": {
      "text/plain": [
       "Speed: 2.3ms preprocess, 899.4ms inference, 0.9ms postprocess per image at shape (1, 3, 384, 640)\n"
      ]
     },
     "metadata": {},
     "output_type": "display_data"
    },
    {
     "data": {
      "text/plain": [
       "\n"
      ]
     },
     "metadata": {},
     "output_type": "display_data"
    },
    {
     "data": {
      "text/plain": [
       "0: 384x640 18 cars, 3 trucks, 3 traffic lights, 912.5ms\n"
      ]
     },
     "metadata": {},
     "output_type": "display_data"
    },
    {
     "data": {
      "text/plain": [
       "Speed: 2.2ms preprocess, 912.5ms inference, 1.0ms postprocess per image at shape (1, 3, 384, 640)\n"
      ]
     },
     "metadata": {},
     "output_type": "display_data"
    },
    {
     "data": {
      "text/plain": [
       "\n"
      ]
     },
     "metadata": {},
     "output_type": "display_data"
    },
    {
     "data": {
      "text/plain": [
       "0: 384x640 17 cars, 3 trucks, 3 traffic lights, 896.4ms\n"
      ]
     },
     "metadata": {},
     "output_type": "display_data"
    },
    {
     "data": {
      "text/plain": [
       "Speed: 2.3ms preprocess, 896.4ms inference, 0.9ms postprocess per image at shape (1, 3, 384, 640)\n"
      ]
     },
     "metadata": {},
     "output_type": "display_data"
    },
    {
     "data": {
      "text/plain": [
       "\n"
      ]
     },
     "metadata": {},
     "output_type": "display_data"
    },
    {
     "data": {
      "text/plain": [
       "0: 384x640 17 cars, 2 trucks, 3 traffic lights, 913.0ms\n"
      ]
     },
     "metadata": {},
     "output_type": "display_data"
    },
    {
     "data": {
      "text/plain": [
       "Speed: 2.1ms preprocess, 913.0ms inference, 0.8ms postprocess per image at shape (1, 3, 384, 640)\n"
      ]
     },
     "metadata": {},
     "output_type": "display_data"
    },
    {
     "data": {
      "text/plain": [
       "\n"
      ]
     },
     "metadata": {},
     "output_type": "display_data"
    },
    {
     "data": {
      "text/plain": [
       "0: 384x640 16 cars, 3 trucks, 3 traffic lights, 884.6ms\n"
      ]
     },
     "metadata": {},
     "output_type": "display_data"
    },
    {
     "data": {
      "text/plain": [
       "Speed: 2.4ms preprocess, 884.6ms inference, 0.9ms postprocess per image at shape (1, 3, 384, 640)\n"
      ]
     },
     "metadata": {},
     "output_type": "display_data"
    },
    {
     "data": {
      "text/plain": [
       "\n"
      ]
     },
     "metadata": {},
     "output_type": "display_data"
    },
    {
     "data": {
      "text/plain": [
       "0: 384x640 17 cars, 2 trucks, 3 traffic lights, 905.6ms\n"
      ]
     },
     "metadata": {},
     "output_type": "display_data"
    },
    {
     "data": {
      "text/plain": [
       "Speed: 2.2ms preprocess, 905.6ms inference, 0.9ms postprocess per image at shape (1, 3, 384, 640)\n"
      ]
     },
     "metadata": {},
     "output_type": "display_data"
    },
    {
     "data": {
      "text/plain": [
       "\n"
      ]
     },
     "metadata": {},
     "output_type": "display_data"
    },
    {
     "data": {
      "text/plain": [
       "0: 384x640 16 cars, 3 trucks, 3 traffic lights, 914.7ms\n"
      ]
     },
     "metadata": {},
     "output_type": "display_data"
    },
    {
     "data": {
      "text/plain": [
       "Speed: 2.0ms preprocess, 914.7ms inference, 1.0ms postprocess per image at shape (1, 3, 384, 640)\n"
      ]
     },
     "metadata": {},
     "output_type": "display_data"
    },
    {
     "data": {
      "text/plain": [
       "\n"
      ]
     },
     "metadata": {},
     "output_type": "display_data"
    },
    {
     "data": {
      "text/plain": [
       "0: 384x640 16 cars, 2 trucks, 3 traffic lights, 916.7ms\n"
      ]
     },
     "metadata": {},
     "output_type": "display_data"
    },
    {
     "data": {
      "text/plain": [
       "Speed: 2.2ms preprocess, 916.7ms inference, 0.9ms postprocess per image at shape (1, 3, 384, 640)\n"
      ]
     },
     "metadata": {},
     "output_type": "display_data"
    },
    {
     "data": {
      "text/plain": [
       "\n"
      ]
     },
     "metadata": {},
     "output_type": "display_data"
    },
    {
     "data": {
      "text/plain": [
       "0: 384x640 15 cars, 3 trucks, 3 traffic lights, 891.9ms\n"
      ]
     },
     "metadata": {},
     "output_type": "display_data"
    },
    {
     "data": {
      "text/plain": [
       "Speed: 3.0ms preprocess, 891.9ms inference, 0.9ms postprocess per image at shape (1, 3, 384, 640)\n"
      ]
     },
     "metadata": {},
     "output_type": "display_data"
    },
    {
     "data": {
      "text/plain": [
       "\n"
      ]
     },
     "metadata": {},
     "output_type": "display_data"
    },
    {
     "data": {
      "text/plain": [
       "0: 384x640 15 cars, 3 trucks, 3 traffic lights, 915.5ms\n"
      ]
     },
     "metadata": {},
     "output_type": "display_data"
    },
    {
     "data": {
      "text/plain": [
       "Speed: 1.9ms preprocess, 915.5ms inference, 0.8ms postprocess per image at shape (1, 3, 384, 640)\n"
      ]
     },
     "metadata": {},
     "output_type": "display_data"
    },
    {
     "data": {
      "text/plain": [
       "\n"
      ]
     },
     "metadata": {},
     "output_type": "display_data"
    },
    {
     "data": {
      "text/plain": [
       "0: 384x640 14 cars, 3 trucks, 3 traffic lights, 879.3ms\n"
      ]
     },
     "metadata": {},
     "output_type": "display_data"
    },
    {
     "data": {
      "text/plain": [
       "Speed: 2.0ms preprocess, 879.3ms inference, 1.6ms postprocess per image at shape (1, 3, 384, 640)\n"
      ]
     },
     "metadata": {},
     "output_type": "display_data"
    },
    {
     "data": {
      "text/plain": [
       "\n"
      ]
     },
     "metadata": {},
     "output_type": "display_data"
    },
    {
     "data": {
      "text/plain": [
       "0: 384x640 14 cars, 3 trucks, 3 traffic lights, 915.4ms\n"
      ]
     },
     "metadata": {},
     "output_type": "display_data"
    },
    {
     "data": {
      "text/plain": [
       "Speed: 4.6ms preprocess, 915.4ms inference, 1.0ms postprocess per image at shape (1, 3, 384, 640)\n"
      ]
     },
     "metadata": {},
     "output_type": "display_data"
    },
    {
     "data": {
      "text/plain": [
       "\n"
      ]
     },
     "metadata": {},
     "output_type": "display_data"
    },
    {
     "data": {
      "text/plain": [
       "0: 384x640 13 cars, 4 trucks, 3 traffic lights, 897.5ms\n"
      ]
     },
     "metadata": {},
     "output_type": "display_data"
    },
    {
     "data": {
      "text/plain": [
       "Speed: 2.3ms preprocess, 897.5ms inference, 0.8ms postprocess per image at shape (1, 3, 384, 640)\n"
      ]
     },
     "metadata": {},
     "output_type": "display_data"
    },
    {
     "data": {
      "text/plain": [
       "\n"
      ]
     },
     "metadata": {},
     "output_type": "display_data"
    },
    {
     "data": {
      "text/plain": [
       "0: 384x640 13 cars, 4 trucks, 3 traffic lights, 918.2ms\n"
      ]
     },
     "metadata": {},
     "output_type": "display_data"
    },
    {
     "data": {
      "text/plain": [
       "Speed: 2.2ms preprocess, 918.2ms inference, 1.6ms postprocess per image at shape (1, 3, 384, 640)\n"
      ]
     },
     "metadata": {},
     "output_type": "display_data"
    },
    {
     "data": {
      "text/plain": [
       "\n"
      ]
     },
     "metadata": {},
     "output_type": "display_data"
    },
    {
     "data": {
      "text/plain": [
       "0: 384x640 11 cars, 1 bus, 4 trucks, 3 traffic lights, 892.1ms\n"
      ]
     },
     "metadata": {},
     "output_type": "display_data"
    },
    {
     "data": {
      "text/plain": [
       "Speed: 2.2ms preprocess, 892.1ms inference, 1.0ms postprocess per image at shape (1, 3, 384, 640)\n"
      ]
     },
     "metadata": {},
     "output_type": "display_data"
    },
    {
     "data": {
      "text/plain": [
       "\n"
      ]
     },
     "metadata": {},
     "output_type": "display_data"
    },
    {
     "data": {
      "text/plain": [
       "0: 384x640 11 cars, 2 buss, 4 trucks, 3 traffic lights, 906.9ms\n"
      ]
     },
     "metadata": {},
     "output_type": "display_data"
    },
    {
     "data": {
      "text/plain": [
       "Speed: 2.2ms preprocess, 906.9ms inference, 0.9ms postprocess per image at shape (1, 3, 384, 640)\n"
      ]
     },
     "metadata": {},
     "output_type": "display_data"
    },
    {
     "data": {
      "text/plain": [
       "\n"
      ]
     },
     "metadata": {},
     "output_type": "display_data"
    },
    {
     "data": {
      "text/plain": [
       "0: 384x640 10 cars, 2 buss, 5 trucks, 3 traffic lights, 920.1ms\n"
      ]
     },
     "metadata": {},
     "output_type": "display_data"
    },
    {
     "data": {
      "text/plain": [
       "Speed: 2.2ms preprocess, 920.1ms inference, 0.8ms postprocess per image at shape (1, 3, 384, 640)\n"
      ]
     },
     "metadata": {},
     "output_type": "display_data"
    },
    {
     "data": {
      "text/plain": [
       "\n"
      ]
     },
     "metadata": {},
     "output_type": "display_data"
    },
    {
     "data": {
      "text/plain": [
       "0: 384x640 11 cars, 2 buss, 5 trucks, 3 traffic lights, 894.3ms\n"
      ]
     },
     "metadata": {},
     "output_type": "display_data"
    },
    {
     "data": {
      "text/plain": [
       "Speed: 3.5ms preprocess, 894.3ms inference, 1.3ms postprocess per image at shape (1, 3, 384, 640)\n"
      ]
     },
     "metadata": {},
     "output_type": "display_data"
    },
    {
     "data": {
      "text/plain": [
       "\n"
      ]
     },
     "metadata": {},
     "output_type": "display_data"
    },
    {
     "data": {
      "text/plain": [
       "0: 384x640 10 cars, 1 bus, 6 trucks, 3 traffic lights, 900.1ms\n"
      ]
     },
     "metadata": {},
     "output_type": "display_data"
    },
    {
     "data": {
      "text/plain": [
       "Speed: 2.5ms preprocess, 900.1ms inference, 1.6ms postprocess per image at shape (1, 3, 384, 640)\n"
      ]
     },
     "metadata": {},
     "output_type": "display_data"
    },
    {
     "data": {
      "text/plain": [
       "\n"
      ]
     },
     "metadata": {},
     "output_type": "display_data"
    },
    {
     "data": {
      "text/plain": [
       "0: 384x640 14 cars, 1 bus, 5 trucks, 3 traffic lights, 902.4ms\n"
      ]
     },
     "metadata": {},
     "output_type": "display_data"
    },
    {
     "data": {
      "text/plain": [
       "Speed: 2.1ms preprocess, 902.4ms inference, 1.3ms postprocess per image at shape (1, 3, 384, 640)\n"
      ]
     },
     "metadata": {},
     "output_type": "display_data"
    },
    {
     "data": {
      "text/plain": [
       "\n"
      ]
     },
     "metadata": {},
     "output_type": "display_data"
    },
    {
     "data": {
      "text/plain": [
       "0: 384x640 14 cars, 1 bus, 5 trucks, 3 traffic lights, 897.2ms\n"
      ]
     },
     "metadata": {},
     "output_type": "display_data"
    },
    {
     "data": {
      "text/plain": [
       "Speed: 3.1ms preprocess, 897.2ms inference, 1.2ms postprocess per image at shape (1, 3, 384, 640)\n"
      ]
     },
     "metadata": {},
     "output_type": "display_data"
    },
    {
     "data": {
      "text/plain": [
       "\n"
      ]
     },
     "metadata": {},
     "output_type": "display_data"
    },
    {
     "data": {
      "text/plain": [
       "0: 384x640 13 cars, 1 bus, 5 trucks, 3 traffic lights, 914.3ms\n"
      ]
     },
     "metadata": {},
     "output_type": "display_data"
    },
    {
     "data": {
      "text/plain": [
       "Speed: 2.3ms preprocess, 914.3ms inference, 0.8ms postprocess per image at shape (1, 3, 384, 640)\n"
      ]
     },
     "metadata": {},
     "output_type": "display_data"
    },
    {
     "data": {
      "text/plain": [
       "\n"
      ]
     },
     "metadata": {},
     "output_type": "display_data"
    },
    {
     "data": {
      "text/plain": [
       "0: 384x640 12 cars, 1 bus, 6 trucks, 3 traffic lights, 886.2ms\n"
      ]
     },
     "metadata": {},
     "output_type": "display_data"
    },
    {
     "data": {
      "text/plain": [
       "Speed: 2.0ms preprocess, 886.2ms inference, 0.9ms postprocess per image at shape (1, 3, 384, 640)\n"
      ]
     },
     "metadata": {},
     "output_type": "display_data"
    },
    {
     "data": {
      "text/plain": [
       "\n"
      ]
     },
     "metadata": {},
     "output_type": "display_data"
    },
    {
     "data": {
      "text/plain": [
       "0: 384x640 12 cars, 1 bus, 7 trucks, 3 traffic lights, 893.5ms\n"
      ]
     },
     "metadata": {},
     "output_type": "display_data"
    },
    {
     "data": {
      "text/plain": [
       "Speed: 10.1ms preprocess, 893.5ms inference, 1.4ms postprocess per image at shape (1, 3, 384, 640)\n"
      ]
     },
     "metadata": {},
     "output_type": "display_data"
    },
    {
     "data": {
      "text/plain": [
       "\n"
      ]
     },
     "metadata": {},
     "output_type": "display_data"
    },
    {
     "data": {
      "text/plain": [
       "0: 384x640 14 cars, 1 bus, 6 trucks, 3 traffic lights, 916.6ms\n"
      ]
     },
     "metadata": {},
     "output_type": "display_data"
    },
    {
     "data": {
      "text/plain": [
       "Speed: 3.1ms preprocess, 916.6ms inference, 1.6ms postprocess per image at shape (1, 3, 384, 640)\n"
      ]
     },
     "metadata": {},
     "output_type": "display_data"
    },
    {
     "data": {
      "text/plain": [
       "\n"
      ]
     },
     "metadata": {},
     "output_type": "display_data"
    },
    {
     "data": {
      "text/plain": [
       "0: 384x640 12 cars, 1 bus, 7 trucks, 3 traffic lights, 916.4ms\n"
      ]
     },
     "metadata": {},
     "output_type": "display_data"
    },
    {
     "data": {
      "text/plain": [
       "Speed: 3.2ms preprocess, 916.4ms inference, 0.9ms postprocess per image at shape (1, 3, 384, 640)\n"
      ]
     },
     "metadata": {},
     "output_type": "display_data"
    },
    {
     "data": {
      "text/plain": [
       "\n"
      ]
     },
     "metadata": {},
     "output_type": "display_data"
    },
    {
     "data": {
      "text/plain": [
       "0: 384x640 13 cars, 1 bus, 6 trucks, 3 traffic lights, 909.2ms\n"
      ]
     },
     "metadata": {},
     "output_type": "display_data"
    },
    {
     "data": {
      "text/plain": [
       "Speed: 2.0ms preprocess, 909.2ms inference, 0.9ms postprocess per image at shape (1, 3, 384, 640)\n"
      ]
     },
     "metadata": {},
     "output_type": "display_data"
    },
    {
     "data": {
      "text/plain": [
       "\n"
      ]
     },
     "metadata": {},
     "output_type": "display_data"
    },
    {
     "data": {
      "text/plain": [
       "0: 384x640 13 cars, 1 bus, 6 trucks, 3 traffic lights, 906.1ms\n"
      ]
     },
     "metadata": {},
     "output_type": "display_data"
    },
    {
     "data": {
      "text/plain": [
       "Speed: 3.3ms preprocess, 906.1ms inference, 0.9ms postprocess per image at shape (1, 3, 384, 640)\n"
      ]
     },
     "metadata": {},
     "output_type": "display_data"
    },
    {
     "data": {
      "text/plain": [
       "\n"
      ]
     },
     "metadata": {},
     "output_type": "display_data"
    },
    {
     "data": {
      "text/plain": [
       "0: 384x640 12 cars, 1 bus, 7 trucks, 3 traffic lights, 903.9ms\n"
      ]
     },
     "metadata": {},
     "output_type": "display_data"
    },
    {
     "data": {
      "text/plain": [
       "Speed: 1.9ms preprocess, 903.9ms inference, 1.8ms postprocess per image at shape (1, 3, 384, 640)\n"
      ]
     },
     "metadata": {},
     "output_type": "display_data"
    },
    {
     "data": {
      "text/plain": [
       "\n"
      ]
     },
     "metadata": {},
     "output_type": "display_data"
    },
    {
     "data": {
      "text/plain": [
       "0: 384x640 13 cars, 2 buss, 6 trucks, 2 traffic lights, 910.4ms\n"
      ]
     },
     "metadata": {},
     "output_type": "display_data"
    },
    {
     "data": {
      "text/plain": [
       "Speed: 3.6ms preprocess, 910.4ms inference, 1.1ms postprocess per image at shape (1, 3, 384, 640)\n"
      ]
     },
     "metadata": {},
     "output_type": "display_data"
    },
    {
     "data": {
      "text/plain": [
       "\n"
      ]
     },
     "metadata": {},
     "output_type": "display_data"
    },
    {
     "data": {
      "text/plain": [
       "0: 384x640 9 cars, 2 buss, 7 trucks, 3 traffic lights, 920.2ms\n"
      ]
     },
     "metadata": {},
     "output_type": "display_data"
    },
    {
     "data": {
      "text/plain": [
       "Speed: 2.8ms preprocess, 920.2ms inference, 0.9ms postprocess per image at shape (1, 3, 384, 640)\n"
      ]
     },
     "metadata": {},
     "output_type": "display_data"
    },
    {
     "data": {
      "text/plain": [
       "\n"
      ]
     },
     "metadata": {},
     "output_type": "display_data"
    },
    {
     "data": {
      "text/plain": [
       "0: 384x640 8 cars, 2 buss, 7 trucks, 3 traffic lights, 915.2ms\n"
      ]
     },
     "metadata": {},
     "output_type": "display_data"
    },
    {
     "data": {
      "text/plain": [
       "Speed: 4.4ms preprocess, 915.2ms inference, 0.9ms postprocess per image at shape (1, 3, 384, 640)\n"
      ]
     },
     "metadata": {},
     "output_type": "display_data"
    },
    {
     "data": {
      "text/plain": [
       "\n"
      ]
     },
     "metadata": {},
     "output_type": "display_data"
    },
    {
     "data": {
      "text/plain": [
       "0: 384x640 8 cars, 2 buss, 6 trucks, 3 traffic lights, 904.3ms\n"
      ]
     },
     "metadata": {},
     "output_type": "display_data"
    },
    {
     "data": {
      "text/plain": [
       "Speed: 2.2ms preprocess, 904.3ms inference, 0.9ms postprocess per image at shape (1, 3, 384, 640)\n"
      ]
     },
     "metadata": {},
     "output_type": "display_data"
    },
    {
     "data": {
      "text/plain": [
       "\n"
      ]
     },
     "metadata": {},
     "output_type": "display_data"
    },
    {
     "data": {
      "text/plain": [
       "0: 384x640 8 cars, 2 buss, 6 trucks, 3 traffic lights, 903.3ms\n"
      ]
     },
     "metadata": {},
     "output_type": "display_data"
    },
    {
     "data": {
      "text/plain": [
       "Speed: 2.3ms preprocess, 903.3ms inference, 0.9ms postprocess per image at shape (1, 3, 384, 640)\n"
      ]
     },
     "metadata": {},
     "output_type": "display_data"
    },
    {
     "data": {
      "text/plain": [
       "\n"
      ]
     },
     "metadata": {},
     "output_type": "display_data"
    },
    {
     "data": {
      "text/plain": [
       "0: 384x640 9 cars, 2 buss, 5 trucks, 3 traffic lights, 891.3ms\n"
      ]
     },
     "metadata": {},
     "output_type": "display_data"
    },
    {
     "data": {
      "text/plain": [
       "Speed: 2.6ms preprocess, 891.3ms inference, 1.1ms postprocess per image at shape (1, 3, 384, 640)\n"
      ]
     },
     "metadata": {},
     "output_type": "display_data"
    },
    {
     "data": {
      "text/plain": [
       "\n"
      ]
     },
     "metadata": {},
     "output_type": "display_data"
    },
    {
     "data": {
      "text/plain": [
       "0: 384x640 8 cars, 2 buss, 5 trucks, 3 traffic lights, 918.4ms\n"
      ]
     },
     "metadata": {},
     "output_type": "display_data"
    },
    {
     "data": {
      "text/plain": [
       "Speed: 2.9ms preprocess, 918.4ms inference, 0.9ms postprocess per image at shape (1, 3, 384, 640)\n"
      ]
     },
     "metadata": {},
     "output_type": "display_data"
    },
    {
     "data": {
      "text/plain": [
       "\n"
      ]
     },
     "metadata": {},
     "output_type": "display_data"
    },
    {
     "data": {
      "text/plain": [
       "0: 384x640 8 cars, 2 buss, 6 trucks, 3 traffic lights, 886.5ms\n"
      ]
     },
     "metadata": {},
     "output_type": "display_data"
    },
    {
     "data": {
      "text/plain": [
       "Speed: 2.2ms preprocess, 886.5ms inference, 1.1ms postprocess per image at shape (1, 3, 384, 640)\n"
      ]
     },
     "metadata": {},
     "output_type": "display_data"
    },
    {
     "data": {
      "text/plain": [
       "\n"
      ]
     },
     "metadata": {},
     "output_type": "display_data"
    },
    {
     "data": {
      "text/plain": [
       "0: 384x640 9 cars, 1 bus, 7 trucks, 3 traffic lights, 913.7ms\n"
      ]
     },
     "metadata": {},
     "output_type": "display_data"
    },
    {
     "data": {
      "text/plain": [
       "Speed: 3.4ms preprocess, 913.7ms inference, 0.9ms postprocess per image at shape (1, 3, 384, 640)\n"
      ]
     },
     "metadata": {},
     "output_type": "display_data"
    },
    {
     "data": {
      "text/plain": [
       "\n"
      ]
     },
     "metadata": {},
     "output_type": "display_data"
    },
    {
     "data": {
      "text/plain": [
       "0: 384x640 10 cars, 1 bus, 6 trucks, 3 traffic lights, 902.7ms\n"
      ]
     },
     "metadata": {},
     "output_type": "display_data"
    },
    {
     "data": {
      "text/plain": [
       "Speed: 2.0ms preprocess, 902.7ms inference, 1.0ms postprocess per image at shape (1, 3, 384, 640)\n"
      ]
     },
     "metadata": {},
     "output_type": "display_data"
    },
    {
     "data": {
      "text/plain": [
       "\n"
      ]
     },
     "metadata": {},
     "output_type": "display_data"
    },
    {
     "data": {
      "text/plain": [
       "0: 384x640 10 cars, 1 bus, 7 trucks, 2 traffic lights, 919.5ms\n"
      ]
     },
     "metadata": {},
     "output_type": "display_data"
    },
    {
     "data": {
      "text/plain": [
       "Speed: 2.1ms preprocess, 919.5ms inference, 0.9ms postprocess per image at shape (1, 3, 384, 640)\n"
      ]
     },
     "metadata": {},
     "output_type": "display_data"
    },
    {
     "data": {
      "text/plain": [
       "\n"
      ]
     },
     "metadata": {},
     "output_type": "display_data"
    },
    {
     "data": {
      "text/plain": [
       "0: 384x640 10 cars, 2 buss, 7 trucks, 3 traffic lights, 909.5ms\n"
      ]
     },
     "metadata": {},
     "output_type": "display_data"
    },
    {
     "data": {
      "text/plain": [
       "Speed: 2.3ms preprocess, 909.5ms inference, 1.1ms postprocess per image at shape (1, 3, 384, 640)\n"
      ]
     },
     "metadata": {},
     "output_type": "display_data"
    },
    {
     "data": {
      "text/plain": [
       "\n"
      ]
     },
     "metadata": {},
     "output_type": "display_data"
    },
    {
     "data": {
      "text/plain": [
       "0: 384x640 10 cars, 2 buss, 7 trucks, 3 traffic lights, 914.8ms\n"
      ]
     },
     "metadata": {},
     "output_type": "display_data"
    },
    {
     "data": {
      "text/plain": [
       "Speed: 3.0ms preprocess, 914.8ms inference, 2.3ms postprocess per image at shape (1, 3, 384, 640)\n"
      ]
     },
     "metadata": {},
     "output_type": "display_data"
    },
    {
     "data": {
      "text/plain": [
       "\n"
      ]
     },
     "metadata": {},
     "output_type": "display_data"
    },
    {
     "data": {
      "text/plain": [
       "0: 384x640 9 cars, 2 buss, 7 trucks, 3 traffic lights, 892.8ms\n"
      ]
     },
     "metadata": {},
     "output_type": "display_data"
    },
    {
     "data": {
      "text/plain": [
       "Speed: 4.0ms preprocess, 892.8ms inference, 0.9ms postprocess per image at shape (1, 3, 384, 640)\n"
      ]
     },
     "metadata": {},
     "output_type": "display_data"
    },
    {
     "data": {
      "text/plain": [
       "\n"
      ]
     },
     "metadata": {},
     "output_type": "display_data"
    },
    {
     "data": {
      "text/plain": [
       "0: 384x640 10 cars, 2 buss, 6 trucks, 3 traffic lights, 907.9ms\n"
      ]
     },
     "metadata": {},
     "output_type": "display_data"
    },
    {
     "data": {
      "text/plain": [
       "Speed: 2.6ms preprocess, 907.9ms inference, 0.9ms postprocess per image at shape (1, 3, 384, 640)\n"
      ]
     },
     "metadata": {},
     "output_type": "display_data"
    },
    {
     "data": {
      "text/plain": [
       "\n"
      ]
     },
     "metadata": {},
     "output_type": "display_data"
    },
    {
     "data": {
      "text/plain": [
       "0: 384x640 10 cars, 2 buss, 6 trucks, 3 traffic lights, 911.4ms\n"
      ]
     },
     "metadata": {},
     "output_type": "display_data"
    },
    {
     "data": {
      "text/plain": [
       "Speed: 2.2ms preprocess, 911.4ms inference, 1.1ms postprocess per image at shape (1, 3, 384, 640)\n"
      ]
     },
     "metadata": {},
     "output_type": "display_data"
    },
    {
     "data": {
      "text/plain": [
       "\n"
      ]
     },
     "metadata": {},
     "output_type": "display_data"
    },
    {
     "data": {
      "text/plain": [
       "0: 384x640 10 cars, 2 buss, 6 trucks, 3 traffic lights, 904.9ms\n"
      ]
     },
     "metadata": {},
     "output_type": "display_data"
    },
    {
     "data": {
      "text/plain": [
       "Speed: 3.6ms preprocess, 904.9ms inference, 0.9ms postprocess per image at shape (1, 3, 384, 640)\n"
      ]
     },
     "metadata": {},
     "output_type": "display_data"
    },
    {
     "data": {
      "text/plain": [
       "\n"
      ]
     },
     "metadata": {},
     "output_type": "display_data"
    },
    {
     "data": {
      "text/plain": [
       "0: 384x640 10 cars, 2 buss, 5 trucks, 3 traffic lights, 888.0ms\n"
      ]
     },
     "metadata": {},
     "output_type": "display_data"
    },
    {
     "data": {
      "text/plain": [
       "Speed: 2.1ms preprocess, 888.0ms inference, 1.9ms postprocess per image at shape (1, 3, 384, 640)\n"
      ]
     },
     "metadata": {},
     "output_type": "display_data"
    },
    {
     "data": {
      "text/plain": [
       "\n"
      ]
     },
     "metadata": {},
     "output_type": "display_data"
    },
    {
     "data": {
      "text/plain": [
       "0: 384x640 11 cars, 3 buss, 3 trucks, 3 traffic lights, 899.0ms\n"
      ]
     },
     "metadata": {},
     "output_type": "display_data"
    },
    {
     "data": {
      "text/plain": [
       "Speed: 2.7ms preprocess, 899.0ms inference, 0.9ms postprocess per image at shape (1, 3, 384, 640)\n"
      ]
     },
     "metadata": {},
     "output_type": "display_data"
    },
    {
     "data": {
      "text/plain": [
       "\n"
      ]
     },
     "metadata": {},
     "output_type": "display_data"
    },
    {
     "data": {
      "text/plain": [
       "0: 384x640 11 cars, 2 buss, 4 trucks, 3 traffic lights, 902.9ms\n"
      ]
     },
     "metadata": {},
     "output_type": "display_data"
    },
    {
     "data": {
      "text/plain": [
       "Speed: 2.8ms preprocess, 902.9ms inference, 0.9ms postprocess per image at shape (1, 3, 384, 640)\n"
      ]
     },
     "metadata": {},
     "output_type": "display_data"
    },
    {
     "data": {
      "text/plain": [
       "\n"
      ]
     },
     "metadata": {},
     "output_type": "display_data"
    },
    {
     "data": {
      "text/plain": [
       "0: 384x640 11 cars, 2 buss, 4 trucks, 3 traffic lights, 910.2ms\n"
      ]
     },
     "metadata": {},
     "output_type": "display_data"
    },
    {
     "data": {
      "text/plain": [
       "Speed: 2.1ms preprocess, 910.2ms inference, 1.0ms postprocess per image at shape (1, 3, 384, 640)\n"
      ]
     },
     "metadata": {},
     "output_type": "display_data"
    },
    {
     "data": {
      "text/plain": [
       "\n"
      ]
     },
     "metadata": {},
     "output_type": "display_data"
    },
    {
     "data": {
      "text/plain": [
       "0: 384x640 13 cars, 2 buss, 4 trucks, 3 traffic lights, 919.9ms\n"
      ]
     },
     "metadata": {},
     "output_type": "display_data"
    },
    {
     "data": {
      "text/plain": [
       "Speed: 2.3ms preprocess, 919.9ms inference, 1.0ms postprocess per image at shape (1, 3, 384, 640)\n"
      ]
     },
     "metadata": {},
     "output_type": "display_data"
    },
    {
     "data": {
      "text/plain": [
       "\n"
      ]
     },
     "metadata": {},
     "output_type": "display_data"
    },
    {
     "data": {
      "text/plain": [
       "0: 384x640 11 cars, 2 buss, 4 trucks, 3 traffic lights, 925.6ms\n"
      ]
     },
     "metadata": {},
     "output_type": "display_data"
    },
    {
     "data": {
      "text/plain": [
       "Speed: 4.2ms preprocess, 925.6ms inference, 1.1ms postprocess per image at shape (1, 3, 384, 640)\n"
      ]
     },
     "metadata": {},
     "output_type": "display_data"
    },
    {
     "data": {
      "text/plain": [
       "\n"
      ]
     },
     "metadata": {},
     "output_type": "display_data"
    },
    {
     "data": {
      "text/plain": [
       "0: 384x640 10 cars, 2 buss, 4 trucks, 3 traffic lights, 900.4ms\n"
      ]
     },
     "metadata": {},
     "output_type": "display_data"
    },
    {
     "data": {
      "text/plain": [
       "Speed: 2.7ms preprocess, 900.4ms inference, 0.8ms postprocess per image at shape (1, 3, 384, 640)\n"
      ]
     },
     "metadata": {},
     "output_type": "display_data"
    },
    {
     "data": {
      "text/plain": [
       "\n"
      ]
     },
     "metadata": {},
     "output_type": "display_data"
    },
    {
     "data": {
      "text/plain": [
       "0: 384x640 10 cars, 2 buss, 4 trucks, 4 traffic lights, 886.9ms\n"
      ]
     },
     "metadata": {},
     "output_type": "display_data"
    },
    {
     "data": {
      "text/plain": [
       "Speed: 2.1ms preprocess, 886.9ms inference, 1.1ms postprocess per image at shape (1, 3, 384, 640)\n"
      ]
     },
     "metadata": {},
     "output_type": "display_data"
    },
    {
     "data": {
      "text/plain": [
       "\n"
      ]
     },
     "metadata": {},
     "output_type": "display_data"
    },
    {
     "data": {
      "text/plain": [
       "0: 384x640 10 cars, 3 buss, 4 trucks, 4 traffic lights, 864.5ms\n"
      ]
     },
     "metadata": {},
     "output_type": "display_data"
    },
    {
     "data": {
      "text/plain": [
       "Speed: 14.2ms preprocess, 864.5ms inference, 1.7ms postprocess per image at shape (1, 3, 384, 640)\n"
      ]
     },
     "metadata": {},
     "output_type": "display_data"
    },
    {
     "data": {
      "text/plain": [
       "\n"
      ]
     },
     "metadata": {},
     "output_type": "display_data"
    },
    {
     "data": {
      "text/plain": [
       "0: 384x640 11 cars, 3 buss, 3 trucks, 4 traffic lights, 898.7ms\n"
      ]
     },
     "metadata": {},
     "output_type": "display_data"
    },
    {
     "data": {
      "text/plain": [
       "Speed: 3.3ms preprocess, 898.7ms inference, 1.2ms postprocess per image at shape (1, 3, 384, 640)\n"
      ]
     },
     "metadata": {},
     "output_type": "display_data"
    },
    {
     "data": {
      "text/plain": [
       "\n"
      ]
     },
     "metadata": {},
     "output_type": "display_data"
    },
    {
     "data": {
      "text/plain": [
       "0: 384x640 10 cars, 3 buss, 3 trucks, 4 traffic lights, 914.6ms\n"
      ]
     },
     "metadata": {},
     "output_type": "display_data"
    },
    {
     "data": {
      "text/plain": [
       "Speed: 2.9ms preprocess, 914.6ms inference, 0.9ms postprocess per image at shape (1, 3, 384, 640)\n"
      ]
     },
     "metadata": {},
     "output_type": "display_data"
    },
    {
     "data": {
      "text/plain": [
       "\n"
      ]
     },
     "metadata": {},
     "output_type": "display_data"
    },
    {
     "data": {
      "text/plain": [
       "0: 384x640 10 cars, 3 buss, 3 trucks, 4 traffic lights, 910.8ms\n"
      ]
     },
     "metadata": {},
     "output_type": "display_data"
    },
    {
     "data": {
      "text/plain": [
       "Speed: 3.0ms preprocess, 910.8ms inference, 1.0ms postprocess per image at shape (1, 3, 384, 640)\n"
      ]
     },
     "metadata": {},
     "output_type": "display_data"
    },
    {
     "data": {
      "text/plain": [
       "\n"
      ]
     },
     "metadata": {},
     "output_type": "display_data"
    },
    {
     "data": {
      "text/plain": [
       "0: 384x640 11 cars, 3 buss, 3 trucks, 4 traffic lights, 903.4ms\n"
      ]
     },
     "metadata": {},
     "output_type": "display_data"
    },
    {
     "data": {
      "text/plain": [
       "Speed: 2.0ms preprocess, 903.4ms inference, 0.9ms postprocess per image at shape (1, 3, 384, 640)\n"
      ]
     },
     "metadata": {},
     "output_type": "display_data"
    },
    {
     "data": {
      "text/plain": [
       "\n"
      ]
     },
     "metadata": {},
     "output_type": "display_data"
    },
    {
     "data": {
      "text/plain": [
       "0: 384x640 10 cars, 3 buss, 3 trucks, 4 traffic lights, 925.0ms\n"
      ]
     },
     "metadata": {},
     "output_type": "display_data"
    },
    {
     "data": {
      "text/plain": [
       "Speed: 2.4ms preprocess, 925.0ms inference, 1.0ms postprocess per image at shape (1, 3, 384, 640)\n"
      ]
     },
     "metadata": {},
     "output_type": "display_data"
    },
    {
     "data": {
      "text/plain": [
       "\n"
      ]
     },
     "metadata": {},
     "output_type": "display_data"
    },
    {
     "data": {
      "text/plain": [
       "0: 384x640 11 cars, 3 buss, 4 trucks, 4 traffic lights, 908.4ms\n"
      ]
     },
     "metadata": {},
     "output_type": "display_data"
    },
    {
     "data": {
      "text/plain": [
       "Speed: 2.0ms preprocess, 908.4ms inference, 1.1ms postprocess per image at shape (1, 3, 384, 640)\n"
      ]
     },
     "metadata": {},
     "output_type": "display_data"
    },
    {
     "data": {
      "text/plain": [
       "\n"
      ]
     },
     "metadata": {},
     "output_type": "display_data"
    },
    {
     "data": {
      "text/plain": [
       "0: 384x640 14 cars, 3 buss, 3 trucks, 4 traffic lights, 910.6ms\n"
      ]
     },
     "metadata": {},
     "output_type": "display_data"
    },
    {
     "data": {
      "text/plain": [
       "Speed: 2.6ms preprocess, 910.6ms inference, 0.9ms postprocess per image at shape (1, 3, 384, 640)\n"
      ]
     },
     "metadata": {},
     "output_type": "display_data"
    },
    {
     "data": {
      "text/plain": [
       "\n"
      ]
     },
     "metadata": {},
     "output_type": "display_data"
    },
    {
     "data": {
      "text/plain": [
       "0: 384x640 14 cars, 3 buss, 4 trucks, 4 traffic lights, 918.4ms\n"
      ]
     },
     "metadata": {},
     "output_type": "display_data"
    },
    {
     "data": {
      "text/plain": [
       "Speed: 2.4ms preprocess, 918.4ms inference, 0.8ms postprocess per image at shape (1, 3, 384, 640)\n"
      ]
     },
     "metadata": {},
     "output_type": "display_data"
    },
    {
     "data": {
      "text/plain": [
       "\n"
      ]
     },
     "metadata": {},
     "output_type": "display_data"
    },
    {
     "data": {
      "text/plain": [
       "0: 384x640 15 cars, 3 buss, 3 trucks, 4 traffic lights, 907.9ms\n"
      ]
     },
     "metadata": {},
     "output_type": "display_data"
    },
    {
     "data": {
      "text/plain": [
       "Speed: 2.4ms preprocess, 907.9ms inference, 0.9ms postprocess per image at shape (1, 3, 384, 640)\n"
      ]
     },
     "metadata": {},
     "output_type": "display_data"
    },
    {
     "data": {
      "text/plain": [
       "\n"
      ]
     },
     "metadata": {},
     "output_type": "display_data"
    },
    {
     "data": {
      "text/plain": [
       "0: 384x640 10 cars, 3 buss, 5 trucks, 4 traffic lights, 907.9ms\n"
      ]
     },
     "metadata": {},
     "output_type": "display_data"
    },
    {
     "data": {
      "text/plain": [
       "Speed: 2.1ms preprocess, 907.9ms inference, 0.8ms postprocess per image at shape (1, 3, 384, 640)\n"
      ]
     },
     "metadata": {},
     "output_type": "display_data"
    },
    {
     "data": {
      "text/plain": [
       "\n"
      ]
     },
     "metadata": {},
     "output_type": "display_data"
    },
    {
     "data": {
      "text/plain": [
       "0: 384x640 12 cars, 3 buss, 3 trucks, 4 traffic lights, 917.5ms\n"
      ]
     },
     "metadata": {},
     "output_type": "display_data"
    },
    {
     "data": {
      "text/plain": [
       "Speed: 2.0ms preprocess, 917.5ms inference, 1.7ms postprocess per image at shape (1, 3, 384, 640)\n"
      ]
     },
     "metadata": {},
     "output_type": "display_data"
    },
    {
     "data": {
      "text/plain": [
       "\n"
      ]
     },
     "metadata": {},
     "output_type": "display_data"
    },
    {
     "data": {
      "text/plain": [
       "0: 384x640 11 cars, 3 buss, 5 trucks, 4 traffic lights, 899.3ms\n"
      ]
     },
     "metadata": {},
     "output_type": "display_data"
    },
    {
     "data": {
      "text/plain": [
       "Speed: 3.4ms preprocess, 899.3ms inference, 0.9ms postprocess per image at shape (1, 3, 384, 640)\n"
      ]
     },
     "metadata": {},
     "output_type": "display_data"
    },
    {
     "data": {
      "text/plain": [
       "\n"
      ]
     },
     "metadata": {},
     "output_type": "display_data"
    },
    {
     "data": {
      "text/plain": [
       "0: 384x640 14 cars, 3 buss, 3 trucks, 4 traffic lights, 938.1ms\n"
      ]
     },
     "metadata": {},
     "output_type": "display_data"
    },
    {
     "data": {
      "text/plain": [
       "Speed: 3.3ms preprocess, 938.1ms inference, 1.1ms postprocess per image at shape (1, 3, 384, 640)\n"
      ]
     },
     "metadata": {},
     "output_type": "display_data"
    },
    {
     "data": {
      "text/plain": [
       "\n"
      ]
     },
     "metadata": {},
     "output_type": "display_data"
    },
    {
     "data": {
      "text/plain": [
       "0: 384x640 11 cars, 3 buss, 3 trucks, 4 traffic lights, 917.2ms\n"
      ]
     },
     "metadata": {},
     "output_type": "display_data"
    },
    {
     "data": {
      "text/plain": [
       "Speed: 2.9ms preprocess, 917.2ms inference, 1.5ms postprocess per image at shape (1, 3, 384, 640)\n"
      ]
     },
     "metadata": {},
     "output_type": "display_data"
    },
    {
     "data": {
      "text/plain": [
       "\n"
      ]
     },
     "metadata": {},
     "output_type": "display_data"
    },
    {
     "data": {
      "text/plain": [
       "0: 384x640 11 cars, 3 buss, 3 trucks, 4 traffic lights, 933.4ms\n"
      ]
     },
     "metadata": {},
     "output_type": "display_data"
    },
    {
     "data": {
      "text/plain": [
       "Speed: 3.4ms preprocess, 933.4ms inference, 1.0ms postprocess per image at shape (1, 3, 384, 640)\n"
      ]
     },
     "metadata": {},
     "output_type": "display_data"
    },
    {
     "data": {
      "text/plain": [
       "\n"
      ]
     },
     "metadata": {},
     "output_type": "display_data"
    },
    {
     "data": {
      "text/plain": [
       "0: 384x640 10 cars, 3 buss, 4 trucks, 4 traffic lights, 916.9ms\n"
      ]
     },
     "metadata": {},
     "output_type": "display_data"
    },
    {
     "data": {
      "text/plain": [
       "Speed: 5.6ms preprocess, 916.9ms inference, 1.0ms postprocess per image at shape (1, 3, 384, 640)\n"
      ]
     },
     "metadata": {},
     "output_type": "display_data"
    },
    {
     "data": {
      "text/plain": [
       "\n"
      ]
     },
     "metadata": {},
     "output_type": "display_data"
    },
    {
     "data": {
      "text/plain": [
       "0: 384x640 11 cars, 3 buss, 3 trucks, 4 traffic lights, 910.3ms\n"
      ]
     },
     "metadata": {},
     "output_type": "display_data"
    },
    {
     "data": {
      "text/plain": [
       "Speed: 3.7ms preprocess, 910.3ms inference, 0.8ms postprocess per image at shape (1, 3, 384, 640)\n"
      ]
     },
     "metadata": {},
     "output_type": "display_data"
    },
    {
     "data": {
      "text/plain": [
       "\n"
      ]
     },
     "metadata": {},
     "output_type": "display_data"
    },
    {
     "data": {
      "text/plain": [
       "0: 384x640 14 cars, 3 buss, 3 trucks, 4 traffic lights, 913.9ms\n"
      ]
     },
     "metadata": {},
     "output_type": "display_data"
    },
    {
     "data": {
      "text/plain": [
       "Speed: 2.3ms preprocess, 913.9ms inference, 0.9ms postprocess per image at shape (1, 3, 384, 640)\n"
      ]
     },
     "metadata": {},
     "output_type": "display_data"
    },
    {
     "data": {
      "text/plain": [
       "\n"
      ]
     },
     "metadata": {},
     "output_type": "display_data"
    },
    {
     "data": {
      "text/plain": [
       "0: 384x640 15 cars, 3 buss, 3 trucks, 4 traffic lights, 917.0ms\n"
      ]
     },
     "metadata": {},
     "output_type": "display_data"
    },
    {
     "data": {
      "text/plain": [
       "Speed: 2.1ms preprocess, 917.0ms inference, 1.1ms postprocess per image at shape (1, 3, 384, 640)\n"
      ]
     },
     "metadata": {},
     "output_type": "display_data"
    },
    {
     "data": {
      "text/plain": [
       "\n"
      ]
     },
     "metadata": {},
     "output_type": "display_data"
    },
    {
     "data": {
      "text/plain": [
       "0: 384x640 14 cars, 3 buss, 2 trucks, 4 traffic lights, 881.4ms\n"
      ]
     },
     "metadata": {},
     "output_type": "display_data"
    },
    {
     "data": {
      "text/plain": [
       "Speed: 3.4ms preprocess, 881.4ms inference, 1.3ms postprocess per image at shape (1, 3, 384, 640)\n"
      ]
     },
     "metadata": {},
     "output_type": "display_data"
    },
    {
     "data": {
      "text/plain": [
       "\n"
      ]
     },
     "metadata": {},
     "output_type": "display_data"
    },
    {
     "data": {
      "text/plain": [
       "0: 384x640 16 cars, 3 buss, 2 trucks, 4 traffic lights, 917.1ms\n"
      ]
     },
     "metadata": {},
     "output_type": "display_data"
    },
    {
     "data": {
      "text/plain": [
       "Speed: 3.5ms preprocess, 917.1ms inference, 1.0ms postprocess per image at shape (1, 3, 384, 640)\n"
      ]
     },
     "metadata": {},
     "output_type": "display_data"
    },
    {
     "data": {
      "text/plain": [
       "\n"
      ]
     },
     "metadata": {},
     "output_type": "display_data"
    },
    {
     "data": {
      "text/plain": [
       "0: 384x640 16 cars, 2 buss, 4 traffic lights, 975.6ms\n"
      ]
     },
     "metadata": {},
     "output_type": "display_data"
    },
    {
     "data": {
      "text/plain": [
       "Speed: 2.2ms preprocess, 975.6ms inference, 1.0ms postprocess per image at shape (1, 3, 384, 640)\n"
      ]
     },
     "metadata": {},
     "output_type": "display_data"
    },
    {
     "data": {
      "text/plain": [
       "\n"
      ]
     },
     "metadata": {},
     "output_type": "display_data"
    },
    {
     "data": {
      "text/plain": [
       "0: 384x640 15 cars, 3 buss, 1 truck, 4 traffic lights, 964.8ms\n"
      ]
     },
     "metadata": {},
     "output_type": "display_data"
    },
    {
     "data": {
      "text/plain": [
       "Speed: 2.5ms preprocess, 964.8ms inference, 1.2ms postprocess per image at shape (1, 3, 384, 640)\n"
      ]
     },
     "metadata": {},
     "output_type": "display_data"
    },
    {
     "data": {
      "text/plain": [
       "\n"
      ]
     },
     "metadata": {},
     "output_type": "display_data"
    },
    {
     "data": {
      "text/plain": [
       "0: 384x640 15 cars, 3 buss, 1 truck, 4 traffic lights, 932.1ms\n"
      ]
     },
     "metadata": {},
     "output_type": "display_data"
    },
    {
     "data": {
      "text/plain": [
       "Speed: 3.0ms preprocess, 932.1ms inference, 1.0ms postprocess per image at shape (1, 3, 384, 640)\n"
      ]
     },
     "metadata": {},
     "output_type": "display_data"
    },
    {
     "data": {
      "text/plain": [
       "\n"
      ]
     },
     "metadata": {},
     "output_type": "display_data"
    },
    {
     "data": {
      "text/plain": [
       "0: 384x640 14 cars, 3 buss, 1 truck, 4 traffic lights, 952.9ms\n"
      ]
     },
     "metadata": {},
     "output_type": "display_data"
    },
    {
     "data": {
      "text/plain": [
       "Speed: 2.5ms preprocess, 952.9ms inference, 1.0ms postprocess per image at shape (1, 3, 384, 640)\n"
      ]
     },
     "metadata": {},
     "output_type": "display_data"
    },
    {
     "data": {
      "text/plain": [
       "\n"
      ]
     },
     "metadata": {},
     "output_type": "display_data"
    },
    {
     "data": {
      "text/plain": [
       "0: 384x640 12 cars, 3 buss, 2 trucks, 4 traffic lights, 941.1ms\n"
      ]
     },
     "metadata": {},
     "output_type": "display_data"
    },
    {
     "data": {
      "text/plain": [
       "Speed: 2.4ms preprocess, 941.1ms inference, 0.9ms postprocess per image at shape (1, 3, 384, 640)\n"
      ]
     },
     "metadata": {},
     "output_type": "display_data"
    },
    {
     "data": {
      "text/plain": [
       "\n"
      ]
     },
     "metadata": {},
     "output_type": "display_data"
    },
    {
     "data": {
      "text/plain": [
       "0: 384x640 11 cars, 3 buss, 1 truck, 4 traffic lights, 928.7ms\n"
      ]
     },
     "metadata": {},
     "output_type": "display_data"
    },
    {
     "data": {
      "text/plain": [
       "Speed: 2.2ms preprocess, 928.7ms inference, 0.9ms postprocess per image at shape (1, 3, 384, 640)\n"
      ]
     },
     "metadata": {},
     "output_type": "display_data"
    },
    {
     "data": {
      "text/plain": [
       "\n"
      ]
     },
     "metadata": {},
     "output_type": "display_data"
    },
    {
     "data": {
      "text/plain": [
       "0: 384x640 14 cars, 3 buss, 1 truck, 4 traffic lights, 922.3ms\n"
      ]
     },
     "metadata": {},
     "output_type": "display_data"
    },
    {
     "data": {
      "text/plain": [
       "Speed: 3.5ms preprocess, 922.3ms inference, 1.0ms postprocess per image at shape (1, 3, 384, 640)\n"
      ]
     },
     "metadata": {},
     "output_type": "display_data"
    },
    {
     "data": {
      "text/plain": [
       "\n"
      ]
     },
     "metadata": {},
     "output_type": "display_data"
    },
    {
     "data": {
      "text/plain": [
       "0: 384x640 15 cars, 3 buss, 1 truck, 4 traffic lights, 914.2ms\n"
      ]
     },
     "metadata": {},
     "output_type": "display_data"
    },
    {
     "data": {
      "text/plain": [
       "Speed: 2.0ms preprocess, 914.2ms inference, 0.9ms postprocess per image at shape (1, 3, 384, 640)\n"
      ]
     },
     "metadata": {},
     "output_type": "display_data"
    },
    {
     "data": {
      "text/plain": [
       "\n"
      ]
     },
     "metadata": {},
     "output_type": "display_data"
    },
    {
     "data": {
      "text/plain": [
       "0: 384x640 15 cars, 2 buss, 2 trucks, 4 traffic lights, 916.9ms\n"
      ]
     },
     "metadata": {},
     "output_type": "display_data"
    },
    {
     "data": {
      "text/plain": [
       "Speed: 2.1ms preprocess, 916.9ms inference, 0.9ms postprocess per image at shape (1, 3, 384, 640)\n"
      ]
     },
     "metadata": {},
     "output_type": "display_data"
    },
    {
     "data": {
      "text/plain": [
       "\n"
      ]
     },
     "metadata": {},
     "output_type": "display_data"
    },
    {
     "data": {
      "text/plain": [
       "0: 384x640 16 cars, 3 buss, 1 truck, 4 traffic lights, 911.1ms\n"
      ]
     },
     "metadata": {},
     "output_type": "display_data"
    },
    {
     "data": {
      "text/plain": [
       "Speed: 2.2ms preprocess, 911.1ms inference, 0.9ms postprocess per image at shape (1, 3, 384, 640)\n"
      ]
     },
     "metadata": {},
     "output_type": "display_data"
    },
    {
     "data": {
      "text/plain": [
       "\n"
      ]
     },
     "metadata": {},
     "output_type": "display_data"
    },
    {
     "data": {
      "text/plain": [
       "0: 384x640 15 cars, 2 buss, 3 trucks, 4 traffic lights, 920.1ms\n"
      ]
     },
     "metadata": {},
     "output_type": "display_data"
    },
    {
     "data": {
      "text/plain": [
       "Speed: 2.1ms preprocess, 920.1ms inference, 1.6ms postprocess per image at shape (1, 3, 384, 640)\n"
      ]
     },
     "metadata": {},
     "output_type": "display_data"
    },
    {
     "data": {
      "text/plain": [
       "\n"
      ]
     },
     "metadata": {},
     "output_type": "display_data"
    },
    {
     "data": {
      "text/plain": [
       "0: 384x640 15 cars, 1 bus, 1 truck, 4 traffic lights, 927.6ms\n"
      ]
     },
     "metadata": {},
     "output_type": "display_data"
    },
    {
     "data": {
      "text/plain": [
       "Speed: 2.2ms preprocess, 927.6ms inference, 1.2ms postprocess per image at shape (1, 3, 384, 640)\n"
      ]
     },
     "metadata": {},
     "output_type": "display_data"
    },
    {
     "data": {
      "text/plain": [
       "\n"
      ]
     },
     "metadata": {},
     "output_type": "display_data"
    },
    {
     "data": {
      "text/plain": [
       "0: 384x640 14 cars, 2 buss, 2 trucks, 4 traffic lights, 910.4ms\n"
      ]
     },
     "metadata": {},
     "output_type": "display_data"
    },
    {
     "data": {
      "text/plain": [
       "Speed: 2.3ms preprocess, 910.4ms inference, 1.1ms postprocess per image at shape (1, 3, 384, 640)\n"
      ]
     },
     "metadata": {},
     "output_type": "display_data"
    },
    {
     "data": {
      "text/plain": [
       "\n"
      ]
     },
     "metadata": {},
     "output_type": "display_data"
    },
    {
     "data": {
      "text/plain": [
       "0: 384x640 14 cars, 2 buss, 1 truck, 3 traffic lights, 912.0ms\n"
      ]
     },
     "metadata": {},
     "output_type": "display_data"
    },
    {
     "data": {
      "text/plain": [
       "Speed: 3.1ms preprocess, 912.0ms inference, 0.8ms postprocess per image at shape (1, 3, 384, 640)\n"
      ]
     },
     "metadata": {},
     "output_type": "display_data"
    },
    {
     "data": {
      "text/plain": [
       "\n"
      ]
     },
     "metadata": {},
     "output_type": "display_data"
    },
    {
     "data": {
      "text/plain": [
       "0: 384x640 15 cars, 2 buss, 4 traffic lights, 922.9ms\n"
      ]
     },
     "metadata": {},
     "output_type": "display_data"
    },
    {
     "data": {
      "text/plain": [
       "Speed: 2.3ms preprocess, 922.9ms inference, 0.9ms postprocess per image at shape (1, 3, 384, 640)\n"
      ]
     },
     "metadata": {},
     "output_type": "display_data"
    },
    {
     "data": {
      "text/plain": [
       "\n"
      ]
     },
     "metadata": {},
     "output_type": "display_data"
    },
    {
     "data": {
      "text/plain": [
       "0: 384x640 15 cars, 2 buss, 1 truck, 4 traffic lights, 902.5ms\n"
      ]
     },
     "metadata": {},
     "output_type": "display_data"
    },
    {
     "data": {
      "text/plain": [
       "Speed: 2.3ms preprocess, 902.5ms inference, 0.9ms postprocess per image at shape (1, 3, 384, 640)\n"
      ]
     },
     "metadata": {},
     "output_type": "display_data"
    },
    {
     "data": {
      "text/plain": [
       "\n"
      ]
     },
     "metadata": {},
     "output_type": "display_data"
    },
    {
     "data": {
      "text/plain": [
       "0: 384x640 15 cars, 3 buss, 2 trucks, 4 traffic lights, 916.8ms\n"
      ]
     },
     "metadata": {},
     "output_type": "display_data"
    },
    {
     "data": {
      "text/plain": [
       "Speed: 2.1ms preprocess, 916.8ms inference, 1.9ms postprocess per image at shape (1, 3, 384, 640)\n"
      ]
     },
     "metadata": {},
     "output_type": "display_data"
    },
    {
     "data": {
      "text/plain": [
       "\n"
      ]
     },
     "metadata": {},
     "output_type": "display_data"
    },
    {
     "data": {
      "text/plain": [
       "0: 384x640 17 cars, 2 buss, 1 truck, 4 traffic lights, 913.3ms\n"
      ]
     },
     "metadata": {},
     "output_type": "display_data"
    },
    {
     "data": {
      "text/plain": [
       "Speed: 2.4ms preprocess, 913.3ms inference, 0.9ms postprocess per image at shape (1, 3, 384, 640)\n"
      ]
     },
     "metadata": {},
     "output_type": "display_data"
    },
    {
     "data": {
      "text/plain": [
       "\n"
      ]
     },
     "metadata": {},
     "output_type": "display_data"
    },
    {
     "data": {
      "text/plain": [
       "0: 384x640 18 cars, 1 bus, 2 trucks, 3 traffic lights, 902.6ms\n"
      ]
     },
     "metadata": {},
     "output_type": "display_data"
    },
    {
     "data": {
      "text/plain": [
       "Speed: 2.3ms preprocess, 902.6ms inference, 1.5ms postprocess per image at shape (1, 3, 384, 640)\n"
      ]
     },
     "metadata": {},
     "output_type": "display_data"
    },
    {
     "data": {
      "text/plain": [
       "\n"
      ]
     },
     "metadata": {},
     "output_type": "display_data"
    },
    {
     "data": {
      "text/plain": [
       "0: 384x640 16 cars, 1 bus, 3 trucks, 3 traffic lights, 899.9ms\n"
      ]
     },
     "metadata": {},
     "output_type": "display_data"
    },
    {
     "data": {
      "text/plain": [
       "Speed: 2.3ms preprocess, 899.9ms inference, 0.8ms postprocess per image at shape (1, 3, 384, 640)\n"
      ]
     },
     "metadata": {},
     "output_type": "display_data"
    },
    {
     "data": {
      "text/plain": [
       "\n"
      ]
     },
     "metadata": {},
     "output_type": "display_data"
    },
    {
     "data": {
      "text/plain": [
       "0: 384x640 14 cars, 2 buss, 2 trucks, 3 traffic lights, 915.5ms\n"
      ]
     },
     "metadata": {},
     "output_type": "display_data"
    },
    {
     "data": {
      "text/plain": [
       "Speed: 2.1ms preprocess, 915.5ms inference, 0.9ms postprocess per image at shape (1, 3, 384, 640)\n"
      ]
     },
     "metadata": {},
     "output_type": "display_data"
    },
    {
     "data": {
      "text/plain": [
       "\n"
      ]
     },
     "metadata": {},
     "output_type": "display_data"
    },
    {
     "data": {
      "text/plain": [
       "0: 384x640 12 cars, 2 buss, 4 trucks, 3 traffic lights, 900.6ms\n"
      ]
     },
     "metadata": {},
     "output_type": "display_data"
    },
    {
     "data": {
      "text/plain": [
       "Speed: 2.1ms preprocess, 900.6ms inference, 1.0ms postprocess per image at shape (1, 3, 384, 640)\n"
      ]
     },
     "metadata": {},
     "output_type": "display_data"
    },
    {
     "data": {
      "text/plain": [
       "\n"
      ]
     },
     "metadata": {},
     "output_type": "display_data"
    },
    {
     "data": {
      "text/plain": [
       "0: 384x640 12 cars, 1 bus, 4 trucks, 3 traffic lights, 896.1ms\n"
      ]
     },
     "metadata": {},
     "output_type": "display_data"
    },
    {
     "data": {
      "text/plain": [
       "Speed: 2.3ms preprocess, 896.1ms inference, 0.9ms postprocess per image at shape (1, 3, 384, 640)\n"
      ]
     },
     "metadata": {},
     "output_type": "display_data"
    },
    {
     "data": {
      "text/plain": [
       "\n"
      ]
     },
     "metadata": {},
     "output_type": "display_data"
    },
    {
     "data": {
      "text/plain": [
       "0: 384x640 13 cars, 1 bus, 4 trucks, 3 traffic lights, 896.6ms\n"
      ]
     },
     "metadata": {},
     "output_type": "display_data"
    },
    {
     "data": {
      "text/plain": [
       "Speed: 10.4ms preprocess, 896.6ms inference, 1.0ms postprocess per image at shape (1, 3, 384, 640)\n"
      ]
     },
     "metadata": {},
     "output_type": "display_data"
    },
    {
     "data": {
      "text/plain": [
       "\n"
      ]
     },
     "metadata": {},
     "output_type": "display_data"
    },
    {
     "data": {
      "text/plain": [
       "0: 384x640 16 cars, 1 bus, 3 trucks, 3 traffic lights, 916.7ms\n"
      ]
     },
     "metadata": {},
     "output_type": "display_data"
    },
    {
     "data": {
      "text/plain": [
       "Speed: 3.3ms preprocess, 916.7ms inference, 1.4ms postprocess per image at shape (1, 3, 384, 640)\n"
      ]
     },
     "metadata": {},
     "output_type": "display_data"
    },
    {
     "data": {
      "text/plain": [
       "\n"
      ]
     },
     "metadata": {},
     "output_type": "display_data"
    },
    {
     "data": {
      "text/plain": [
       "0: 384x640 16 cars, 1 bus, 3 trucks, 3 traffic lights, 908.7ms\n"
      ]
     },
     "metadata": {},
     "output_type": "display_data"
    },
    {
     "data": {
      "text/plain": [
       "Speed: 2.4ms preprocess, 908.7ms inference, 1.3ms postprocess per image at shape (1, 3, 384, 640)\n"
      ]
     },
     "metadata": {},
     "output_type": "display_data"
    },
    {
     "data": {
      "text/plain": [
       "\n"
      ]
     },
     "metadata": {},
     "output_type": "display_data"
    },
    {
     "data": {
      "text/plain": [
       "0: 384x640 15 cars, 1 bus, 3 trucks, 3 traffic lights, 900.3ms\n"
      ]
     },
     "metadata": {},
     "output_type": "display_data"
    },
    {
     "data": {
      "text/plain": [
       "Speed: 2.6ms preprocess, 900.3ms inference, 1.0ms postprocess per image at shape (1, 3, 384, 640)\n"
      ]
     },
     "metadata": {},
     "output_type": "display_data"
    },
    {
     "data": {
      "text/plain": [
       "\n"
      ]
     },
     "metadata": {},
     "output_type": "display_data"
    },
    {
     "data": {
      "text/plain": [
       "0: 384x640 15 cars, 1 bus, 2 trucks, 3 traffic lights, 918.7ms\n"
      ]
     },
     "metadata": {},
     "output_type": "display_data"
    },
    {
     "data": {
      "text/plain": [
       "Speed: 2.3ms preprocess, 918.7ms inference, 1.7ms postprocess per image at shape (1, 3, 384, 640)\n"
      ]
     },
     "metadata": {},
     "output_type": "display_data"
    },
    {
     "data": {
      "text/plain": [
       "\n"
      ]
     },
     "metadata": {},
     "output_type": "display_data"
    },
    {
     "data": {
      "text/plain": [
       "0: 384x640 13 cars, 1 bus, 3 trucks, 3 traffic lights, 904.4ms\n"
      ]
     },
     "metadata": {},
     "output_type": "display_data"
    },
    {
     "data": {
      "text/plain": [
       "Speed: 2.4ms preprocess, 904.4ms inference, 1.3ms postprocess per image at shape (1, 3, 384, 640)\n"
      ]
     },
     "metadata": {},
     "output_type": "display_data"
    },
    {
     "data": {
      "text/plain": [
       "\n"
      ]
     },
     "metadata": {},
     "output_type": "display_data"
    },
    {
     "data": {
      "text/plain": [
       "0: 384x640 13 cars, 1 bus, 3 trucks, 3 traffic lights, 910.5ms\n"
      ]
     },
     "metadata": {},
     "output_type": "display_data"
    },
    {
     "data": {
      "text/plain": [
       "Speed: 3.8ms preprocess, 910.5ms inference, 1.0ms postprocess per image at shape (1, 3, 384, 640)\n"
      ]
     },
     "metadata": {},
     "output_type": "display_data"
    },
    {
     "data": {
      "text/plain": [
       "\n"
      ]
     },
     "metadata": {},
     "output_type": "display_data"
    },
    {
     "data": {
      "text/plain": [
       "0: 384x640 11 cars, 1 bus, 3 trucks, 3 traffic lights, 923.0ms\n"
      ]
     },
     "metadata": {},
     "output_type": "display_data"
    },
    {
     "data": {
      "text/plain": [
       "Speed: 2.5ms preprocess, 923.0ms inference, 1.1ms postprocess per image at shape (1, 3, 384, 640)\n"
      ]
     },
     "metadata": {},
     "output_type": "display_data"
    },
    {
     "data": {
      "text/plain": [
       "\n"
      ]
     },
     "metadata": {},
     "output_type": "display_data"
    },
    {
     "data": {
      "text/plain": [
       "0: 384x640 13 cars, 1 bus, 2 trucks, 3 traffic lights, 932.0ms\n"
      ]
     },
     "metadata": {},
     "output_type": "display_data"
    },
    {
     "data": {
      "text/plain": [
       "Speed: 3.0ms preprocess, 932.0ms inference, 1.4ms postprocess per image at shape (1, 3, 384, 640)\n"
      ]
     },
     "metadata": {},
     "output_type": "display_data"
    },
    {
     "data": {
      "text/plain": [
       "\n"
      ]
     },
     "metadata": {},
     "output_type": "display_data"
    },
    {
     "data": {
      "text/plain": [
       "0: 384x640 14 cars, 1 bus, 2 trucks, 3 traffic lights, 919.5ms\n"
      ]
     },
     "metadata": {},
     "output_type": "display_data"
    },
    {
     "data": {
      "text/plain": [
       "Speed: 2.5ms preprocess, 919.5ms inference, 1.4ms postprocess per image at shape (1, 3, 384, 640)\n"
      ]
     },
     "metadata": {},
     "output_type": "display_data"
    },
    {
     "data": {
      "text/plain": [
       "\n"
      ]
     },
     "metadata": {},
     "output_type": "display_data"
    },
    {
     "data": {
      "text/plain": [
       "0: 384x640 14 cars, 1 bus, 2 trucks, 3 traffic lights, 929.3ms\n"
      ]
     },
     "metadata": {},
     "output_type": "display_data"
    },
    {
     "data": {
      "text/plain": [
       "Speed: 3.1ms preprocess, 929.3ms inference, 1.2ms postprocess per image at shape (1, 3, 384, 640)\n"
      ]
     },
     "metadata": {},
     "output_type": "display_data"
    },
    {
     "data": {
      "text/plain": [
       "\n"
      ]
     },
     "metadata": {},
     "output_type": "display_data"
    },
    {
     "data": {
      "text/plain": [
       "0: 384x640 15 cars, 2 trucks, 3 traffic lights, 913.5ms\n"
      ]
     },
     "metadata": {},
     "output_type": "display_data"
    },
    {
     "data": {
      "text/plain": [
       "Speed: 2.3ms preprocess, 913.5ms inference, 1.3ms postprocess per image at shape (1, 3, 384, 640)\n"
      ]
     },
     "metadata": {},
     "output_type": "display_data"
    },
    {
     "data": {
      "text/plain": [
       "\n"
      ]
     },
     "metadata": {},
     "output_type": "display_data"
    },
    {
     "data": {
      "text/plain": [
       "0: 384x640 14 cars, 2 trucks, 3 traffic lights, 911.3ms\n"
      ]
     },
     "metadata": {},
     "output_type": "display_data"
    },
    {
     "data": {
      "text/plain": [
       "Speed: 3.7ms preprocess, 911.3ms inference, 0.9ms postprocess per image at shape (1, 3, 384, 640)\n"
      ]
     },
     "metadata": {},
     "output_type": "display_data"
    },
    {
     "data": {
      "text/plain": [
       "\n"
      ]
     },
     "metadata": {},
     "output_type": "display_data"
    },
    {
     "data": {
      "text/plain": [
       "0: 384x640 15 cars, 2 trucks, 3 traffic lights, 895.2ms\n"
      ]
     },
     "metadata": {},
     "output_type": "display_data"
    },
    {
     "data": {
      "text/plain": [
       "Speed: 2.5ms preprocess, 895.2ms inference, 1.0ms postprocess per image at shape (1, 3, 384, 640)\n"
      ]
     },
     "metadata": {},
     "output_type": "display_data"
    },
    {
     "data": {
      "text/plain": [
       "\n"
      ]
     },
     "metadata": {},
     "output_type": "display_data"
    },
    {
     "data": {
      "text/plain": [
       "0: 384x640 14 cars, 1 bus, 3 trucks, 3 traffic lights, 907.1ms\n"
      ]
     },
     "metadata": {},
     "output_type": "display_data"
    },
    {
     "data": {
      "text/plain": [
       "Speed: 3.4ms preprocess, 907.1ms inference, 1.0ms postprocess per image at shape (1, 3, 384, 640)\n"
      ]
     },
     "metadata": {},
     "output_type": "display_data"
    },
    {
     "data": {
      "text/plain": [
       "\n"
      ]
     },
     "metadata": {},
     "output_type": "display_data"
    },
    {
     "data": {
      "text/plain": [
       "0: 384x640 14 cars, 3 trucks, 3 traffic lights, 926.3ms\n"
      ]
     },
     "metadata": {},
     "output_type": "display_data"
    },
    {
     "data": {
      "text/plain": [
       "Speed: 2.4ms preprocess, 926.3ms inference, 1.1ms postprocess per image at shape (1, 3, 384, 640)\n"
      ]
     },
     "metadata": {},
     "output_type": "display_data"
    },
    {
     "data": {
      "text/plain": [
       "\n"
      ]
     },
     "metadata": {},
     "output_type": "display_data"
    },
    {
     "data": {
      "text/plain": [
       "0: 384x640 14 cars, 1 bus, 4 trucks, 3 traffic lights, 899.0ms\n"
      ]
     },
     "metadata": {},
     "output_type": "display_data"
    },
    {
     "data": {
      "text/plain": [
       "Speed: 3.4ms preprocess, 899.0ms inference, 1.0ms postprocess per image at shape (1, 3, 384, 640)\n"
      ]
     },
     "metadata": {},
     "output_type": "display_data"
    },
    {
     "data": {
      "text/plain": [
       "\n"
      ]
     },
     "metadata": {},
     "output_type": "display_data"
    },
    {
     "data": {
      "text/plain": [
       "0: 384x640 12 cars, 1 bus, 5 trucks, 3 traffic lights, 923.4ms\n"
      ]
     },
     "metadata": {},
     "output_type": "display_data"
    },
    {
     "data": {
      "text/plain": [
       "Speed: 2.2ms preprocess, 923.4ms inference, 1.7ms postprocess per image at shape (1, 3, 384, 640)\n"
      ]
     },
     "metadata": {},
     "output_type": "display_data"
    },
    {
     "data": {
      "text/plain": [
       "\n"
      ]
     },
     "metadata": {},
     "output_type": "display_data"
    },
    {
     "data": {
      "text/plain": [
       "0: 384x640 14 cars, 1 bus, 4 trucks, 3 traffic lights, 920.2ms\n"
      ]
     },
     "metadata": {},
     "output_type": "display_data"
    },
    {
     "data": {
      "text/plain": [
       "Speed: 2.8ms preprocess, 920.2ms inference, 1.1ms postprocess per image at shape (1, 3, 384, 640)\n"
      ]
     },
     "metadata": {},
     "output_type": "display_data"
    },
    {
     "data": {
      "text/plain": [
       "\n"
      ]
     },
     "metadata": {},
     "output_type": "display_data"
    },
    {
     "data": {
      "text/plain": [
       "0: 384x640 14 cars, 1 bus, 4 trucks, 3 traffic lights, 912.1ms\n"
      ]
     },
     "metadata": {},
     "output_type": "display_data"
    },
    {
     "data": {
      "text/plain": [
       "Speed: 2.5ms preprocess, 912.1ms inference, 1.7ms postprocess per image at shape (1, 3, 384, 640)\n"
      ]
     },
     "metadata": {},
     "output_type": "display_data"
    },
    {
     "data": {
      "text/plain": [
       "\n"
      ]
     },
     "metadata": {},
     "output_type": "display_data"
    },
    {
     "data": {
      "text/plain": [
       "0: 384x640 13 cars, 4 trucks, 3 traffic lights, 907.9ms\n"
      ]
     },
     "metadata": {},
     "output_type": "display_data"
    },
    {
     "data": {
      "text/plain": [
       "Speed: 3.9ms preprocess, 907.9ms inference, 0.9ms postprocess per image at shape (1, 3, 384, 640)\n"
      ]
     },
     "metadata": {},
     "output_type": "display_data"
    },
    {
     "data": {
      "text/plain": [
       "\n"
      ]
     },
     "metadata": {},
     "output_type": "display_data"
    },
    {
     "data": {
      "text/plain": [
       "0: 384x640 11 cars, 5 trucks, 3 traffic lights, 910.7ms\n"
      ]
     },
     "metadata": {},
     "output_type": "display_data"
    },
    {
     "data": {
      "text/plain": [
       "Speed: 2.0ms preprocess, 910.7ms inference, 0.9ms postprocess per image at shape (1, 3, 384, 640)\n"
      ]
     },
     "metadata": {},
     "output_type": "display_data"
    },
    {
     "data": {
      "text/plain": [
       "\n"
      ]
     },
     "metadata": {},
     "output_type": "display_data"
    },
    {
     "data": {
      "text/plain": [
       "0: 384x640 12 cars, 4 trucks, 3 traffic lights, 918.0ms\n"
      ]
     },
     "metadata": {},
     "output_type": "display_data"
    },
    {
     "data": {
      "text/plain": [
       "Speed: 2.3ms preprocess, 918.0ms inference, 1.0ms postprocess per image at shape (1, 3, 384, 640)\n"
      ]
     },
     "metadata": {},
     "output_type": "display_data"
    },
    {
     "data": {
      "text/plain": [
       "\n"
      ]
     },
     "metadata": {},
     "output_type": "display_data"
    },
    {
     "data": {
      "text/plain": [
       "0: 384x640 13 cars, 1 bus, 4 trucks, 3 traffic lights, 912.9ms\n"
      ]
     },
     "metadata": {},
     "output_type": "display_data"
    },
    {
     "data": {
      "text/plain": [
       "Speed: 2.2ms preprocess, 912.9ms inference, 1.6ms postprocess per image at shape (1, 3, 384, 640)\n"
      ]
     },
     "metadata": {},
     "output_type": "display_data"
    },
    {
     "data": {
      "text/plain": [
       "\n"
      ]
     },
     "metadata": {},
     "output_type": "display_data"
    },
    {
     "data": {
      "text/plain": [
       "0: 384x640 12 cars, 1 bus, 3 trucks, 3 traffic lights, 919.3ms\n"
      ]
     },
     "metadata": {},
     "output_type": "display_data"
    },
    {
     "data": {
      "text/plain": [
       "Speed: 3.2ms preprocess, 919.3ms inference, 1.0ms postprocess per image at shape (1, 3, 384, 640)\n"
      ]
     },
     "metadata": {},
     "output_type": "display_data"
    },
    {
     "data": {
      "text/plain": [
       "\n"
      ]
     },
     "metadata": {},
     "output_type": "display_data"
    },
    {
     "data": {
      "text/plain": [
       "0: 384x640 12 cars, 1 bus, 3 trucks, 3 traffic lights, 915.0ms\n"
      ]
     },
     "metadata": {},
     "output_type": "display_data"
    },
    {
     "data": {
      "text/plain": [
       "Speed: 2.4ms preprocess, 915.0ms inference, 1.4ms postprocess per image at shape (1, 3, 384, 640)\n"
      ]
     },
     "metadata": {},
     "output_type": "display_data"
    },
    {
     "data": {
      "text/plain": [
       "\n"
      ]
     },
     "metadata": {},
     "output_type": "display_data"
    },
    {
     "data": {
      "text/plain": [
       "0: 384x640 10 cars, 3 trucks, 3 traffic lights, 915.4ms\n"
      ]
     },
     "metadata": {},
     "output_type": "display_data"
    },
    {
     "data": {
      "text/plain": [
       "Speed: 2.8ms preprocess, 915.4ms inference, 0.8ms postprocess per image at shape (1, 3, 384, 640)\n"
      ]
     },
     "metadata": {},
     "output_type": "display_data"
    },
    {
     "data": {
      "text/plain": [
       "\n"
      ]
     },
     "metadata": {},
     "output_type": "display_data"
    },
    {
     "data": {
      "text/plain": [
       "0: 384x640 11 cars, 3 trucks, 4 traffic lights, 925.5ms\n"
      ]
     },
     "metadata": {},
     "output_type": "display_data"
    },
    {
     "data": {
      "text/plain": [
       "Speed: 2.2ms preprocess, 925.5ms inference, 0.9ms postprocess per image at shape (1, 3, 384, 640)\n"
      ]
     },
     "metadata": {},
     "output_type": "display_data"
    },
    {
     "data": {
      "text/plain": [
       "\n"
      ]
     },
     "metadata": {},
     "output_type": "display_data"
    },
    {
     "data": {
      "text/plain": [
       "0: 384x640 12 cars, 1 truck, 4 traffic lights, 911.7ms\n"
      ]
     },
     "metadata": {},
     "output_type": "display_data"
    },
    {
     "data": {
      "text/plain": [
       "Speed: 2.2ms preprocess, 911.7ms inference, 0.8ms postprocess per image at shape (1, 3, 384, 640)\n"
      ]
     },
     "metadata": {},
     "output_type": "display_data"
    },
    {
     "data": {
      "text/plain": [
       "\n"
      ]
     },
     "metadata": {},
     "output_type": "display_data"
    },
    {
     "data": {
      "text/plain": [
       "0: 384x640 12 cars, 1 truck, 4 traffic lights, 907.2ms\n"
      ]
     },
     "metadata": {},
     "output_type": "display_data"
    },
    {
     "data": {
      "text/plain": [
       "Speed: 2.1ms preprocess, 907.2ms inference, 1.9ms postprocess per image at shape (1, 3, 384, 640)\n"
      ]
     },
     "metadata": {},
     "output_type": "display_data"
    },
    {
     "data": {
      "text/plain": [
       "\n"
      ]
     },
     "metadata": {},
     "output_type": "display_data"
    },
    {
     "data": {
      "text/plain": [
       "0: 384x640 11 cars, 1 truck, 4 traffic lights, 927.5ms\n"
      ]
     },
     "metadata": {},
     "output_type": "display_data"
    },
    {
     "data": {
      "text/plain": [
       "Speed: 2.2ms preprocess, 927.5ms inference, 1.9ms postprocess per image at shape (1, 3, 384, 640)\n"
      ]
     },
     "metadata": {},
     "output_type": "display_data"
    },
    {
     "data": {
      "text/plain": [
       "\n"
      ]
     },
     "metadata": {},
     "output_type": "display_data"
    },
    {
     "data": {
      "text/plain": [
       "0: 384x640 11 cars, 1 truck, 4 traffic lights, 905.3ms\n"
      ]
     },
     "metadata": {},
     "output_type": "display_data"
    },
    {
     "data": {
      "text/plain": [
       "Speed: 2.0ms preprocess, 905.3ms inference, 0.9ms postprocess per image at shape (1, 3, 384, 640)\n"
      ]
     },
     "metadata": {},
     "output_type": "display_data"
    },
    {
     "data": {
      "text/plain": [
       "\n"
      ]
     },
     "metadata": {},
     "output_type": "display_data"
    },
    {
     "data": {
      "text/plain": [
       "0: 384x640 11 cars, 1 truck, 4 traffic lights, 904.1ms\n"
      ]
     },
     "metadata": {},
     "output_type": "display_data"
    },
    {
     "data": {
      "text/plain": [
       "Speed: 2.5ms preprocess, 904.1ms inference, 1.1ms postprocess per image at shape (1, 3, 384, 640)\n"
      ]
     },
     "metadata": {},
     "output_type": "display_data"
    },
    {
     "data": {
      "text/plain": [
       "\n"
      ]
     },
     "metadata": {},
     "output_type": "display_data"
    },
    {
     "data": {
      "text/plain": [
       "0: 384x640 11 cars, 4 traffic lights, 902.5ms\n"
      ]
     },
     "metadata": {},
     "output_type": "display_data"
    },
    {
     "data": {
      "text/plain": [
       "Speed: 3.4ms preprocess, 902.5ms inference, 1.6ms postprocess per image at shape (1, 3, 384, 640)\n"
      ]
     },
     "metadata": {},
     "output_type": "display_data"
    },
    {
     "data": {
      "text/plain": [
       "\n"
      ]
     },
     "metadata": {},
     "output_type": "display_data"
    },
    {
     "data": {
      "text/plain": [
       "0: 384x640 13 cars, 4 traffic lights, 921.1ms\n"
      ]
     },
     "metadata": {},
     "output_type": "display_data"
    },
    {
     "data": {
      "text/plain": [
       "Speed: 3.5ms preprocess, 921.1ms inference, 0.9ms postprocess per image at shape (1, 3, 384, 640)\n"
      ]
     },
     "metadata": {},
     "output_type": "display_data"
    },
    {
     "data": {
      "text/plain": [
       "\n"
      ]
     },
     "metadata": {},
     "output_type": "display_data"
    },
    {
     "data": {
      "text/plain": [
       "0: 384x640 14 cars, 1 truck, 4 traffic lights, 907.7ms\n"
      ]
     },
     "metadata": {},
     "output_type": "display_data"
    },
    {
     "data": {
      "text/plain": [
       "Speed: 2.1ms preprocess, 907.7ms inference, 0.9ms postprocess per image at shape (1, 3, 384, 640)\n"
      ]
     },
     "metadata": {},
     "output_type": "display_data"
    },
    {
     "data": {
      "text/plain": [
       "\n"
      ]
     },
     "metadata": {},
     "output_type": "display_data"
    },
    {
     "data": {
      "text/plain": [
       "0: 384x640 14 cars, 1 truck, 4 traffic lights, 900.4ms\n"
      ]
     },
     "metadata": {},
     "output_type": "display_data"
    },
    {
     "data": {
      "text/plain": [
       "Speed: 3.1ms preprocess, 900.4ms inference, 2.0ms postprocess per image at shape (1, 3, 384, 640)\n"
      ]
     },
     "metadata": {},
     "output_type": "display_data"
    },
    {
     "data": {
      "text/plain": [
       "\n"
      ]
     },
     "metadata": {},
     "output_type": "display_data"
    },
    {
     "data": {
      "text/plain": [
       "0: 384x640 15 cars, 2 trucks, 3 traffic lights, 897.7ms\n"
      ]
     },
     "metadata": {},
     "output_type": "display_data"
    },
    {
     "data": {
      "text/plain": [
       "Speed: 3.2ms preprocess, 897.7ms inference, 0.9ms postprocess per image at shape (1, 3, 384, 640)\n"
      ]
     },
     "metadata": {},
     "output_type": "display_data"
    },
    {
     "data": {
      "text/plain": [
       "\n"
      ]
     },
     "metadata": {},
     "output_type": "display_data"
    },
    {
     "data": {
      "text/plain": [
       "0: 384x640 13 cars, 3 trucks, 4 traffic lights, 899.5ms\n"
      ]
     },
     "metadata": {},
     "output_type": "display_data"
    },
    {
     "data": {
      "text/plain": [
       "Speed: 2.2ms preprocess, 899.5ms inference, 0.9ms postprocess per image at shape (1, 3, 384, 640)\n"
      ]
     },
     "metadata": {},
     "output_type": "display_data"
    },
    {
     "data": {
      "text/plain": [
       "\n"
      ]
     },
     "metadata": {},
     "output_type": "display_data"
    },
    {
     "data": {
      "text/plain": [
       "0: 384x640 13 cars, 2 trucks, 4 traffic lights, 907.8ms\n"
      ]
     },
     "metadata": {},
     "output_type": "display_data"
    },
    {
     "data": {
      "text/plain": [
       "Speed: 2.3ms preprocess, 907.8ms inference, 1.0ms postprocess per image at shape (1, 3, 384, 640)\n"
      ]
     },
     "metadata": {},
     "output_type": "display_data"
    },
    {
     "data": {
      "text/plain": [
       "\n"
      ]
     },
     "metadata": {},
     "output_type": "display_data"
    },
    {
     "data": {
      "text/plain": [
       "0: 384x640 12 cars, 2 trucks, 4 traffic lights, 936.5ms\n"
      ]
     },
     "metadata": {},
     "output_type": "display_data"
    },
    {
     "data": {
      "text/plain": [
       "Speed: 2.7ms preprocess, 936.5ms inference, 1.1ms postprocess per image at shape (1, 3, 384, 640)\n"
      ]
     },
     "metadata": {},
     "output_type": "display_data"
    },
    {
     "data": {
      "text/plain": [
       "\n"
      ]
     },
     "metadata": {},
     "output_type": "display_data"
    },
    {
     "data": {
      "text/plain": [
       "0: 384x640 12 cars, 2 trucks, 4 traffic lights, 926.7ms\n"
      ]
     },
     "metadata": {},
     "output_type": "display_data"
    },
    {
     "data": {
      "text/plain": [
       "Speed: 4.4ms preprocess, 926.7ms inference, 0.9ms postprocess per image at shape (1, 3, 384, 640)\n"
      ]
     },
     "metadata": {},
     "output_type": "display_data"
    },
    {
     "data": {
      "text/plain": [
       "\n"
      ]
     },
     "metadata": {},
     "output_type": "display_data"
    },
    {
     "data": {
      "text/plain": [
       "0: 384x640 13 cars, 1 truck, 4 traffic lights, 881.4ms\n"
      ]
     },
     "metadata": {},
     "output_type": "display_data"
    },
    {
     "data": {
      "text/plain": [
       "Speed: 2.1ms preprocess, 881.4ms inference, 0.9ms postprocess per image at shape (1, 3, 384, 640)\n"
      ]
     },
     "metadata": {},
     "output_type": "display_data"
    },
    {
     "data": {
      "text/plain": [
       "\n"
      ]
     },
     "metadata": {},
     "output_type": "display_data"
    },
    {
     "data": {
      "text/plain": [
       "0: 384x640 13 cars, 2 trucks, 4 traffic lights, 891.7ms\n"
      ]
     },
     "metadata": {},
     "output_type": "display_data"
    },
    {
     "data": {
      "text/plain": [
       "Speed: 9.8ms preprocess, 891.7ms inference, 1.0ms postprocess per image at shape (1, 3, 384, 640)\n"
      ]
     },
     "metadata": {},
     "output_type": "display_data"
    },
    {
     "data": {
      "text/plain": [
       "\n"
      ]
     },
     "metadata": {},
     "output_type": "display_data"
    },
    {
     "data": {
      "text/plain": [
       "0: 384x640 13 cars, 1 truck, 4 traffic lights, 915.7ms\n"
      ]
     },
     "metadata": {},
     "output_type": "display_data"
    },
    {
     "data": {
      "text/plain": [
       "Speed: 3.9ms preprocess, 915.7ms inference, 1.2ms postprocess per image at shape (1, 3, 384, 640)\n"
      ]
     },
     "metadata": {},
     "output_type": "display_data"
    },
    {
     "data": {
      "text/plain": [
       "\n"
      ]
     },
     "metadata": {},
     "output_type": "display_data"
    },
    {
     "data": {
      "text/plain": [
       "0: 384x640 13 cars, 1 truck, 4 traffic lights, 911.7ms\n"
      ]
     },
     "metadata": {},
     "output_type": "display_data"
    },
    {
     "data": {
      "text/plain": [
       "Speed: 3.9ms preprocess, 911.7ms inference, 1.0ms postprocess per image at shape (1, 3, 384, 640)\n"
      ]
     },
     "metadata": {},
     "output_type": "display_data"
    },
    {
     "data": {
      "text/plain": [
       "\n"
      ]
     },
     "metadata": {},
     "output_type": "display_data"
    },
    {
     "data": {
      "text/plain": [
       "0: 384x640 14 cars, 1 truck, 4 traffic lights, 916.6ms\n"
      ]
     },
     "metadata": {},
     "output_type": "display_data"
    },
    {
     "data": {
      "text/plain": [
       "Speed: 2.3ms preprocess, 916.6ms inference, 1.3ms postprocess per image at shape (1, 3, 384, 640)\n"
      ]
     },
     "metadata": {},
     "output_type": "display_data"
    },
    {
     "data": {
      "text/plain": [
       "\n"
      ]
     },
     "metadata": {},
     "output_type": "display_data"
    },
    {
     "data": {
      "text/plain": [
       "0: 384x640 11 cars, 1 truck, 4 traffic lights, 905.8ms\n"
      ]
     },
     "metadata": {},
     "output_type": "display_data"
    },
    {
     "data": {
      "text/plain": [
       "Speed: 2.3ms preprocess, 905.8ms inference, 1.2ms postprocess per image at shape (1, 3, 384, 640)\n"
      ]
     },
     "metadata": {},
     "output_type": "display_data"
    },
    {
     "data": {
      "text/plain": [
       "\n"
      ]
     },
     "metadata": {},
     "output_type": "display_data"
    },
    {
     "data": {
      "text/plain": [
       "0: 384x640 11 cars, 2 trucks, 4 traffic lights, 909.6ms\n"
      ]
     },
     "metadata": {},
     "output_type": "display_data"
    },
    {
     "data": {
      "text/plain": [
       "Speed: 2.1ms preprocess, 909.6ms inference, 1.0ms postprocess per image at shape (1, 3, 384, 640)\n"
      ]
     },
     "metadata": {},
     "output_type": "display_data"
    },
    {
     "data": {
      "text/plain": [
       "\n"
      ]
     },
     "metadata": {},
     "output_type": "display_data"
    },
    {
     "data": {
      "text/plain": [
       "0: 384x640 12 cars, 2 trucks, 4 traffic lights, 926.0ms\n"
      ]
     },
     "metadata": {},
     "output_type": "display_data"
    },
    {
     "data": {
      "text/plain": [
       "Speed: 2.6ms preprocess, 926.0ms inference, 1.0ms postprocess per image at shape (1, 3, 384, 640)\n"
      ]
     },
     "metadata": {},
     "output_type": "display_data"
    },
    {
     "data": {
      "text/plain": [
       "\n"
      ]
     },
     "metadata": {},
     "output_type": "display_data"
    },
    {
     "data": {
      "text/plain": [
       "0: 384x640 11 cars, 3 trucks, 3 traffic lights, 917.6ms\n"
      ]
     },
     "metadata": {},
     "output_type": "display_data"
    },
    {
     "data": {
      "text/plain": [
       "Speed: 3.1ms preprocess, 917.6ms inference, 1.2ms postprocess per image at shape (1, 3, 384, 640)\n"
      ]
     },
     "metadata": {},
     "output_type": "display_data"
    },
    {
     "data": {
      "text/plain": [
       "\n"
      ]
     },
     "metadata": {},
     "output_type": "display_data"
    },
    {
     "data": {
      "text/plain": [
       "0: 384x640 14 cars, 3 trucks, 4 traffic lights, 924.4ms\n"
      ]
     },
     "metadata": {},
     "output_type": "display_data"
    },
    {
     "data": {
      "text/plain": [
       "Speed: 2.2ms preprocess, 924.4ms inference, 0.9ms postprocess per image at shape (1, 3, 384, 640)\n"
      ]
     },
     "metadata": {},
     "output_type": "display_data"
    },
    {
     "data": {
      "text/plain": [
       "\n"
      ]
     },
     "metadata": {},
     "output_type": "display_data"
    },
    {
     "data": {
      "text/plain": [
       "0: 384x640 13 cars, 4 trucks, 4 traffic lights, 926.4ms\n"
      ]
     },
     "metadata": {},
     "output_type": "display_data"
    },
    {
     "data": {
      "text/plain": [
       "Speed: 2.9ms preprocess, 926.4ms inference, 1.2ms postprocess per image at shape (1, 3, 384, 640)\n"
      ]
     },
     "metadata": {},
     "output_type": "display_data"
    },
    {
     "data": {
      "text/plain": [
       "\n"
      ]
     },
     "metadata": {},
     "output_type": "display_data"
    },
    {
     "data": {
      "text/plain": [
       "0: 384x640 14 cars, 3 trucks, 4 traffic lights, 914.5ms\n"
      ]
     },
     "metadata": {},
     "output_type": "display_data"
    },
    {
     "data": {
      "text/plain": [
       "Speed: 2.6ms preprocess, 914.5ms inference, 0.9ms postprocess per image at shape (1, 3, 384, 640)\n"
      ]
     },
     "metadata": {},
     "output_type": "display_data"
    },
    {
     "data": {
      "text/plain": [
       "\n"
      ]
     },
     "metadata": {},
     "output_type": "display_data"
    },
    {
     "data": {
      "text/plain": [
       "0: 384x640 17 cars, 3 trucks, 4 traffic lights, 907.1ms\n"
      ]
     },
     "metadata": {},
     "output_type": "display_data"
    },
    {
     "data": {
      "text/plain": [
       "Speed: 2.2ms preprocess, 907.1ms inference, 1.1ms postprocess per image at shape (1, 3, 384, 640)\n"
      ]
     },
     "metadata": {},
     "output_type": "display_data"
    },
    {
     "data": {
      "text/plain": [
       "\n"
      ]
     },
     "metadata": {},
     "output_type": "display_data"
    },
    {
     "data": {
      "text/plain": [
       "0: 384x640 16 cars, 3 trucks, 4 traffic lights, 912.1ms\n"
      ]
     },
     "metadata": {},
     "output_type": "display_data"
    },
    {
     "data": {
      "text/plain": [
       "Speed: 2.4ms preprocess, 912.1ms inference, 1.1ms postprocess per image at shape (1, 3, 384, 640)\n"
      ]
     },
     "metadata": {},
     "output_type": "display_data"
    },
    {
     "data": {
      "text/plain": [
       "\n"
      ]
     },
     "metadata": {},
     "output_type": "display_data"
    },
    {
     "data": {
      "text/plain": [
       "0: 384x640 15 cars, 3 trucks, 4 traffic lights, 919.7ms\n"
      ]
     },
     "metadata": {},
     "output_type": "display_data"
    },
    {
     "data": {
      "text/plain": [
       "Speed: 2.0ms preprocess, 919.7ms inference, 1.5ms postprocess per image at shape (1, 3, 384, 640)\n"
      ]
     },
     "metadata": {},
     "output_type": "display_data"
    },
    {
     "data": {
      "text/plain": [
       "\n"
      ]
     },
     "metadata": {},
     "output_type": "display_data"
    },
    {
     "data": {
      "text/plain": [
       "0: 384x640 16 cars, 3 trucks, 4 traffic lights, 906.5ms\n"
      ]
     },
     "metadata": {},
     "output_type": "display_data"
    },
    {
     "data": {
      "text/plain": [
       "Speed: 2.3ms preprocess, 906.5ms inference, 1.9ms postprocess per image at shape (1, 3, 384, 640)\n"
      ]
     },
     "metadata": {},
     "output_type": "display_data"
    },
    {
     "data": {
      "text/plain": [
       "\n"
      ]
     },
     "metadata": {},
     "output_type": "display_data"
    },
    {
     "data": {
      "text/plain": [
       "0: 384x640 16 cars, 3 trucks, 4 traffic lights, 907.2ms\n"
      ]
     },
     "metadata": {},
     "output_type": "display_data"
    },
    {
     "data": {
      "text/plain": [
       "Speed: 3.3ms preprocess, 907.2ms inference, 1.0ms postprocess per image at shape (1, 3, 384, 640)\n"
      ]
     },
     "metadata": {},
     "output_type": "display_data"
    },
    {
     "data": {
      "text/plain": [
       "\n"
      ]
     },
     "metadata": {},
     "output_type": "display_data"
    },
    {
     "data": {
      "text/plain": [
       "0: 384x640 16 cars, 3 trucks, 4 traffic lights, 914.5ms\n"
      ]
     },
     "metadata": {},
     "output_type": "display_data"
    },
    {
     "data": {
      "text/plain": [
       "Speed: 2.1ms preprocess, 914.5ms inference, 1.0ms postprocess per image at shape (1, 3, 384, 640)\n"
      ]
     },
     "metadata": {},
     "output_type": "display_data"
    },
    {
     "data": {
      "text/plain": [
       "\n"
      ]
     },
     "metadata": {},
     "output_type": "display_data"
    },
    {
     "data": {
      "text/plain": [
       "0: 384x640 17 cars, 3 trucks, 4 traffic lights, 917.0ms\n"
      ]
     },
     "metadata": {},
     "output_type": "display_data"
    },
    {
     "data": {
      "text/plain": [
       "Speed: 2.3ms preprocess, 917.0ms inference, 1.7ms postprocess per image at shape (1, 3, 384, 640)\n"
      ]
     },
     "metadata": {},
     "output_type": "display_data"
    },
    {
     "data": {
      "text/plain": [
       "\n"
      ]
     },
     "metadata": {},
     "output_type": "display_data"
    },
    {
     "data": {
      "text/plain": [
       "0: 384x640 17 cars, 3 trucks, 4 traffic lights, 881.6ms\n"
      ]
     },
     "metadata": {},
     "output_type": "display_data"
    },
    {
     "data": {
      "text/plain": [
       "Speed: 3.5ms preprocess, 881.6ms inference, 0.9ms postprocess per image at shape (1, 3, 384, 640)\n"
      ]
     },
     "metadata": {},
     "output_type": "display_data"
    },
    {
     "data": {
      "text/plain": [
       "\n"
      ]
     },
     "metadata": {},
     "output_type": "display_data"
    },
    {
     "data": {
      "text/plain": [
       "0: 384x640 16 cars, 3 trucks, 3 traffic lights, 906.3ms\n"
      ]
     },
     "metadata": {},
     "output_type": "display_data"
    },
    {
     "data": {
      "text/plain": [
       "Speed: 2.2ms preprocess, 906.3ms inference, 0.9ms postprocess per image at shape (1, 3, 384, 640)\n"
      ]
     },
     "metadata": {},
     "output_type": "display_data"
    },
    {
     "data": {
      "text/plain": [
       "\n"
      ]
     },
     "metadata": {},
     "output_type": "display_data"
    },
    {
     "data": {
      "text/plain": [
       "0: 384x640 16 cars, 4 trucks, 4 traffic lights, 909.7ms\n"
      ]
     },
     "metadata": {},
     "output_type": "display_data"
    },
    {
     "data": {
      "text/plain": [
       "Speed: 2.0ms preprocess, 909.7ms inference, 1.0ms postprocess per image at shape (1, 3, 384, 640)\n"
      ]
     },
     "metadata": {},
     "output_type": "display_data"
    },
    {
     "data": {
      "text/plain": [
       "\n"
      ]
     },
     "metadata": {},
     "output_type": "display_data"
    },
    {
     "data": {
      "text/plain": [
       "0: 384x640 16 cars, 2 trucks, 4 traffic lights, 913.1ms\n"
      ]
     },
     "metadata": {},
     "output_type": "display_data"
    },
    {
     "data": {
      "text/plain": [
       "Speed: 2.3ms preprocess, 913.1ms inference, 1.2ms postprocess per image at shape (1, 3, 384, 640)\n"
      ]
     },
     "metadata": {},
     "output_type": "display_data"
    },
    {
     "data": {
      "text/plain": [
       "\n"
      ]
     },
     "metadata": {},
     "output_type": "display_data"
    },
    {
     "data": {
      "text/plain": [
       "0: 384x640 14 cars, 4 trucks, 4 traffic lights, 914.2ms\n"
      ]
     },
     "metadata": {},
     "output_type": "display_data"
    },
    {
     "data": {
      "text/plain": [
       "Speed: 2.6ms preprocess, 914.2ms inference, 1.0ms postprocess per image at shape (1, 3, 384, 640)\n"
      ]
     },
     "metadata": {},
     "output_type": "display_data"
    },
    {
     "data": {
      "text/plain": [
       "\n"
      ]
     },
     "metadata": {},
     "output_type": "display_data"
    },
    {
     "data": {
      "text/plain": [
       "0: 384x640 16 cars, 3 trucks, 4 traffic lights, 898.9ms\n"
      ]
     },
     "metadata": {},
     "output_type": "display_data"
    },
    {
     "data": {
      "text/plain": [
       "Speed: 2.3ms preprocess, 898.9ms inference, 0.9ms postprocess per image at shape (1, 3, 384, 640)\n"
      ]
     },
     "metadata": {},
     "output_type": "display_data"
    },
    {
     "data": {
      "text/plain": [
       "\n"
      ]
     },
     "metadata": {},
     "output_type": "display_data"
    },
    {
     "data": {
      "text/plain": [
       "0: 384x640 16 cars, 4 trucks, 4 traffic lights, 914.5ms\n"
      ]
     },
     "metadata": {},
     "output_type": "display_data"
    },
    {
     "data": {
      "text/plain": [
       "Speed: 2.3ms preprocess, 914.5ms inference, 1.3ms postprocess per image at shape (1, 3, 384, 640)\n"
      ]
     },
     "metadata": {},
     "output_type": "display_data"
    },
    {
     "data": {
      "text/plain": [
       "\n"
      ]
     },
     "metadata": {},
     "output_type": "display_data"
    },
    {
     "data": {
      "text/plain": [
       "0: 384x640 14 cars, 4 trucks, 5 traffic lights, 914.2ms\n"
      ]
     },
     "metadata": {},
     "output_type": "display_data"
    },
    {
     "data": {
      "text/plain": [
       "Speed: 2.2ms preprocess, 914.2ms inference, 0.9ms postprocess per image at shape (1, 3, 384, 640)\n"
      ]
     },
     "metadata": {},
     "output_type": "display_data"
    },
    {
     "data": {
      "text/plain": [
       "\n"
      ]
     },
     "metadata": {},
     "output_type": "display_data"
    },
    {
     "data": {
      "text/plain": [
       "0: 384x640 13 cars, 4 trucks, 5 traffic lights, 928.0ms\n"
      ]
     },
     "metadata": {},
     "output_type": "display_data"
    },
    {
     "data": {
      "text/plain": [
       "Speed: 2.4ms preprocess, 928.0ms inference, 1.3ms postprocess per image at shape (1, 3, 384, 640)\n"
      ]
     },
     "metadata": {},
     "output_type": "display_data"
    },
    {
     "data": {
      "text/plain": [
       "\n"
      ]
     },
     "metadata": {},
     "output_type": "display_data"
    },
    {
     "data": {
      "text/plain": [
       "0: 384x640 15 cars, 3 trucks, 5 traffic lights, 913.9ms\n"
      ]
     },
     "metadata": {},
     "output_type": "display_data"
    },
    {
     "data": {
      "text/plain": [
       "Speed: 2.1ms preprocess, 913.9ms inference, 0.9ms postprocess per image at shape (1, 3, 384, 640)\n"
      ]
     },
     "metadata": {},
     "output_type": "display_data"
    },
    {
     "data": {
      "text/plain": [
       "\n"
      ]
     },
     "metadata": {},
     "output_type": "display_data"
    },
    {
     "data": {
      "text/plain": [
       "0: 384x640 14 cars, 3 trucks, 5 traffic lights, 923.3ms\n"
      ]
     },
     "metadata": {},
     "output_type": "display_data"
    },
    {
     "data": {
      "text/plain": [
       "Speed: 2.2ms preprocess, 923.3ms inference, 1.1ms postprocess per image at shape (1, 3, 384, 640)\n"
      ]
     },
     "metadata": {},
     "output_type": "display_data"
    },
    {
     "data": {
      "text/plain": [
       "\n"
      ]
     },
     "metadata": {},
     "output_type": "display_data"
    },
    {
     "data": {
      "text/plain": [
       "0: 384x640 14 cars, 3 trucks, 5 traffic lights, 902.5ms\n"
      ]
     },
     "metadata": {},
     "output_type": "display_data"
    },
    {
     "data": {
      "text/plain": [
       "Speed: 2.2ms preprocess, 902.5ms inference, 1.4ms postprocess per image at shape (1, 3, 384, 640)\n"
      ]
     },
     "metadata": {},
     "output_type": "display_data"
    },
    {
     "data": {
      "text/plain": [
       "\n"
      ]
     },
     "metadata": {},
     "output_type": "display_data"
    },
    {
     "data": {
      "text/plain": [
       "0: 384x640 13 cars, 3 trucks, 5 traffic lights, 912.4ms\n"
      ]
     },
     "metadata": {},
     "output_type": "display_data"
    },
    {
     "data": {
      "text/plain": [
       "Speed: 2.3ms preprocess, 912.4ms inference, 0.9ms postprocess per image at shape (1, 3, 384, 640)\n"
      ]
     },
     "metadata": {},
     "output_type": "display_data"
    },
    {
     "data": {
      "text/plain": [
       "\n"
      ]
     },
     "metadata": {},
     "output_type": "display_data"
    },
    {
     "data": {
      "text/plain": [
       "0: 384x640 12 cars, 4 trucks, 5 traffic lights, 907.7ms\n"
      ]
     },
     "metadata": {},
     "output_type": "display_data"
    },
    {
     "data": {
      "text/plain": [
       "Speed: 2.3ms preprocess, 907.7ms inference, 1.6ms postprocess per image at shape (1, 3, 384, 640)\n"
      ]
     },
     "metadata": {},
     "output_type": "display_data"
    },
    {
     "data": {
      "text/plain": [
       "\n"
      ]
     },
     "metadata": {},
     "output_type": "display_data"
    },
    {
     "data": {
      "text/plain": [
       "0: 384x640 14 cars, 3 trucks, 5 traffic lights, 912.0ms\n"
      ]
     },
     "metadata": {},
     "output_type": "display_data"
    },
    {
     "data": {
      "text/plain": [
       "Speed: 2.2ms preprocess, 912.0ms inference, 1.7ms postprocess per image at shape (1, 3, 384, 640)\n"
      ]
     },
     "metadata": {},
     "output_type": "display_data"
    },
    {
     "data": {
      "text/plain": [
       "\n"
      ]
     },
     "metadata": {},
     "output_type": "display_data"
    },
    {
     "data": {
      "text/plain": [
       "0: 384x640 14 cars, 4 trucks, 5 traffic lights, 913.3ms\n"
      ]
     },
     "metadata": {},
     "output_type": "display_data"
    },
    {
     "data": {
      "text/plain": [
       "Speed: 3.0ms preprocess, 913.3ms inference, 1.0ms postprocess per image at shape (1, 3, 384, 640)\n"
      ]
     },
     "metadata": {},
     "output_type": "display_data"
    },
    {
     "data": {
      "text/plain": [
       "\n"
      ]
     },
     "metadata": {},
     "output_type": "display_data"
    },
    {
     "data": {
      "text/plain": [
       "0: 384x640 13 cars, 1 bus, 3 trucks, 5 traffic lights, 937.6ms\n"
      ]
     },
     "metadata": {},
     "output_type": "display_data"
    },
    {
     "data": {
      "text/plain": [
       "Speed: 2.4ms preprocess, 937.6ms inference, 0.9ms postprocess per image at shape (1, 3, 384, 640)\n"
      ]
     },
     "metadata": {},
     "output_type": "display_data"
    },
    {
     "data": {
      "text/plain": [
       "\n"
      ]
     },
     "metadata": {},
     "output_type": "display_data"
    },
    {
     "data": {
      "text/plain": [
       "0: 384x640 13 cars, 1 bus, 2 trucks, 5 traffic lights, 902.2ms\n"
      ]
     },
     "metadata": {},
     "output_type": "display_data"
    },
    {
     "data": {
      "text/plain": [
       "Speed: 3.4ms preprocess, 902.2ms inference, 1.8ms postprocess per image at shape (1, 3, 384, 640)\n"
      ]
     },
     "metadata": {},
     "output_type": "display_data"
    },
    {
     "data": {
      "text/plain": [
       "\n"
      ]
     },
     "metadata": {},
     "output_type": "display_data"
    },
    {
     "data": {
      "text/plain": [
       "0: 384x640 10 cars, 1 bus, 5 trucks, 5 traffic lights, 938.9ms\n"
      ]
     },
     "metadata": {},
     "output_type": "display_data"
    },
    {
     "data": {
      "text/plain": [
       "Speed: 3.4ms preprocess, 938.9ms inference, 0.9ms postprocess per image at shape (1, 3, 384, 640)\n"
      ]
     },
     "metadata": {},
     "output_type": "display_data"
    },
    {
     "data": {
      "text/plain": [
       "\n"
      ]
     },
     "metadata": {},
     "output_type": "display_data"
    },
    {
     "data": {
      "text/plain": [
       "0: 384x640 10 cars, 1 bus, 5 trucks, 5 traffic lights, 907.8ms\n"
      ]
     },
     "metadata": {},
     "output_type": "display_data"
    },
    {
     "data": {
      "text/plain": [
       "Speed: 2.3ms preprocess, 907.8ms inference, 1.3ms postprocess per image at shape (1, 3, 384, 640)\n"
      ]
     },
     "metadata": {},
     "output_type": "display_data"
    },
    {
     "data": {
      "text/plain": [
       "\n"
      ]
     },
     "metadata": {},
     "output_type": "display_data"
    },
    {
     "data": {
      "text/plain": [
       "0: 384x640 11 cars, 5 trucks, 5 traffic lights, 906.5ms\n"
      ]
     },
     "metadata": {},
     "output_type": "display_data"
    },
    {
     "data": {
      "text/plain": [
       "Speed: 11.7ms preprocess, 906.5ms inference, 1.2ms postprocess per image at shape (1, 3, 384, 640)\n"
      ]
     },
     "metadata": {},
     "output_type": "display_data"
    },
    {
     "data": {
      "text/plain": [
       "\n"
      ]
     },
     "metadata": {},
     "output_type": "display_data"
    },
    {
     "data": {
      "text/plain": [
       "0: 384x640 12 cars, 1 bus, 2 trucks, 5 traffic lights, 914.8ms\n"
      ]
     },
     "metadata": {},
     "output_type": "display_data"
    },
    {
     "data": {
      "text/plain": [
       "Speed: 3.6ms preprocess, 914.8ms inference, 0.9ms postprocess per image at shape (1, 3, 384, 640)\n"
      ]
     },
     "metadata": {},
     "output_type": "display_data"
    },
    {
     "data": {
      "text/plain": [
       "\n"
      ]
     },
     "metadata": {},
     "output_type": "display_data"
    },
    {
     "data": {
      "text/plain": [
       "0: 384x640 12 cars, 1 bus, 3 trucks, 5 traffic lights, 916.5ms\n"
      ]
     },
     "metadata": {},
     "output_type": "display_data"
    },
    {
     "data": {
      "text/plain": [
       "Speed: 2.4ms preprocess, 916.5ms inference, 1.0ms postprocess per image at shape (1, 3, 384, 640)\n"
      ]
     },
     "metadata": {},
     "output_type": "display_data"
    },
    {
     "data": {
      "text/plain": [
       "\n"
      ]
     },
     "metadata": {},
     "output_type": "display_data"
    },
    {
     "data": {
      "text/plain": [
       "0: 384x640 13 cars, 1 bus, 3 trucks, 5 traffic lights, 908.0ms\n"
      ]
     },
     "metadata": {},
     "output_type": "display_data"
    },
    {
     "data": {
      "text/plain": [
       "Speed: 2.9ms preprocess, 908.0ms inference, 1.1ms postprocess per image at shape (1, 3, 384, 640)\n"
      ]
     },
     "metadata": {},
     "output_type": "display_data"
    },
    {
     "data": {
      "text/plain": [
       "\n"
      ]
     },
     "metadata": {},
     "output_type": "display_data"
    },
    {
     "data": {
      "text/plain": [
       "0: 384x640 11 cars, 1 bus, 4 trucks, 5 traffic lights, 907.8ms\n"
      ]
     },
     "metadata": {},
     "output_type": "display_data"
    },
    {
     "data": {
      "text/plain": [
       "Speed: 2.1ms preprocess, 907.8ms inference, 0.9ms postprocess per image at shape (1, 3, 384, 640)\n"
      ]
     },
     "metadata": {},
     "output_type": "display_data"
    },
    {
     "data": {
      "text/plain": [
       "\n"
      ]
     },
     "metadata": {},
     "output_type": "display_data"
    },
    {
     "data": {
      "text/plain": [
       "0: 384x640 13 cars, 1 bus, 3 trucks, 5 traffic lights, 905.0ms\n"
      ]
     },
     "metadata": {},
     "output_type": "display_data"
    },
    {
     "data": {
      "text/plain": [
       "Speed: 2.5ms preprocess, 905.0ms inference, 1.1ms postprocess per image at shape (1, 3, 384, 640)\n"
      ]
     },
     "metadata": {},
     "output_type": "display_data"
    },
    {
     "data": {
      "text/plain": [
       "\n"
      ]
     },
     "metadata": {},
     "output_type": "display_data"
    },
    {
     "data": {
      "text/plain": [
       "0: 384x640 14 cars, 2 trucks, 5 traffic lights, 916.3ms\n"
      ]
     },
     "metadata": {},
     "output_type": "display_data"
    },
    {
     "data": {
      "text/plain": [
       "Speed: 2.8ms preprocess, 916.3ms inference, 1.0ms postprocess per image at shape (1, 3, 384, 640)\n"
      ]
     },
     "metadata": {},
     "output_type": "display_data"
    },
    {
     "data": {
      "text/plain": [
       "\n"
      ]
     },
     "metadata": {},
     "output_type": "display_data"
    },
    {
     "data": {
      "text/plain": [
       "0: 384x640 13 cars, 3 trucks, 5 traffic lights, 919.9ms\n"
      ]
     },
     "metadata": {},
     "output_type": "display_data"
    },
    {
     "data": {
      "text/plain": [
       "Speed: 2.1ms preprocess, 919.9ms inference, 0.9ms postprocess per image at shape (1, 3, 384, 640)\n"
      ]
     },
     "metadata": {},
     "output_type": "display_data"
    },
    {
     "data": {
      "text/plain": [
       "\n"
      ]
     },
     "metadata": {},
     "output_type": "display_data"
    },
    {
     "data": {
      "text/plain": [
       "0: 384x640 12 cars, 3 trucks, 5 traffic lights, 913.6ms\n"
      ]
     },
     "metadata": {},
     "output_type": "display_data"
    },
    {
     "data": {
      "text/plain": [
       "Speed: 2.0ms preprocess, 913.6ms inference, 0.9ms postprocess per image at shape (1, 3, 384, 640)\n"
      ]
     },
     "metadata": {},
     "output_type": "display_data"
    },
    {
     "data": {
      "text/plain": [
       "\n"
      ]
     },
     "metadata": {},
     "output_type": "display_data"
    },
    {
     "data": {
      "text/plain": [
       "0: 384x640 12 cars, 4 trucks, 5 traffic lights, 913.5ms\n"
      ]
     },
     "metadata": {},
     "output_type": "display_data"
    },
    {
     "data": {
      "text/plain": [
       "Speed: 3.2ms preprocess, 913.5ms inference, 0.9ms postprocess per image at shape (1, 3, 384, 640)\n"
      ]
     },
     "metadata": {},
     "output_type": "display_data"
    },
    {
     "data": {
      "text/plain": [
       "\n"
      ]
     },
     "metadata": {},
     "output_type": "display_data"
    },
    {
     "data": {
      "text/plain": [
       "0: 384x640 13 cars, 4 trucks, 5 traffic lights, 907.2ms\n"
      ]
     },
     "metadata": {},
     "output_type": "display_data"
    },
    {
     "data": {
      "text/plain": [
       "Speed: 2.3ms preprocess, 907.2ms inference, 1.1ms postprocess per image at shape (1, 3, 384, 640)\n"
      ]
     },
     "metadata": {},
     "output_type": "display_data"
    },
    {
     "data": {
      "text/plain": [
       "\n"
      ]
     },
     "metadata": {},
     "output_type": "display_data"
    },
    {
     "data": {
      "text/plain": [
       "0: 384x640 13 cars, 4 trucks, 5 traffic lights, 900.3ms\n"
      ]
     },
     "metadata": {},
     "output_type": "display_data"
    },
    {
     "data": {
      "text/plain": [
       "Speed: 2.5ms preprocess, 900.3ms inference, 1.0ms postprocess per image at shape (1, 3, 384, 640)\n"
      ]
     },
     "metadata": {},
     "output_type": "display_data"
    },
    {
     "data": {
      "text/plain": [
       "\n"
      ]
     },
     "metadata": {},
     "output_type": "display_data"
    },
    {
     "data": {
      "text/plain": [
       "0: 384x640 12 cars, 5 trucks, 5 traffic lights, 905.7ms\n"
      ]
     },
     "metadata": {},
     "output_type": "display_data"
    },
    {
     "data": {
      "text/plain": [
       "Speed: 2.2ms preprocess, 905.7ms inference, 0.9ms postprocess per image at shape (1, 3, 384, 640)\n"
      ]
     },
     "metadata": {},
     "output_type": "display_data"
    },
    {
     "data": {
      "text/plain": [
       "\n"
      ]
     },
     "metadata": {},
     "output_type": "display_data"
    },
    {
     "data": {
      "text/plain": [
       "0: 384x640 14 cars, 4 trucks, 5 traffic lights, 895.4ms\n"
      ]
     },
     "metadata": {},
     "output_type": "display_data"
    },
    {
     "data": {
      "text/plain": [
       "Speed: 2.2ms preprocess, 895.4ms inference, 1.0ms postprocess per image at shape (1, 3, 384, 640)\n"
      ]
     },
     "metadata": {},
     "output_type": "display_data"
    },
    {
     "data": {
      "text/plain": [
       "\n"
      ]
     },
     "metadata": {},
     "output_type": "display_data"
    },
    {
     "data": {
      "text/plain": [
       "0: 384x640 15 cars, 4 trucks, 5 traffic lights, 907.8ms\n"
      ]
     },
     "metadata": {},
     "output_type": "display_data"
    },
    {
     "data": {
      "text/plain": [
       "Speed: 3.0ms preprocess, 907.8ms inference, 0.9ms postprocess per image at shape (1, 3, 384, 640)\n"
      ]
     },
     "metadata": {},
     "output_type": "display_data"
    },
    {
     "data": {
      "text/plain": [
       "\n"
      ]
     },
     "metadata": {},
     "output_type": "display_data"
    },
    {
     "data": {
      "text/plain": [
       "0: 384x640 19 cars, 4 trucks, 5 traffic lights, 900.8ms\n"
      ]
     },
     "metadata": {},
     "output_type": "display_data"
    },
    {
     "data": {
      "text/plain": [
       "Speed: 2.0ms preprocess, 900.8ms inference, 1.5ms postprocess per image at shape (1, 3, 384, 640)\n"
      ]
     },
     "metadata": {},
     "output_type": "display_data"
    },
    {
     "data": {
      "text/plain": [
       "\n"
      ]
     },
     "metadata": {},
     "output_type": "display_data"
    },
    {
     "data": {
      "text/plain": [
       "0: 384x640 19 cars, 1 bus, 3 trucks, 5 traffic lights, 899.7ms\n"
      ]
     },
     "metadata": {},
     "output_type": "display_data"
    },
    {
     "data": {
      "text/plain": [
       "Speed: 3.3ms preprocess, 899.7ms inference, 1.1ms postprocess per image at shape (1, 3, 384, 640)\n"
      ]
     },
     "metadata": {},
     "output_type": "display_data"
    },
    {
     "data": {
      "text/plain": [
       "\n"
      ]
     },
     "metadata": {},
     "output_type": "display_data"
    },
    {
     "data": {
      "text/plain": [
       "0: 384x640 17 cars, 1 bus, 4 trucks, 5 traffic lights, 932.4ms\n"
      ]
     },
     "metadata": {},
     "output_type": "display_data"
    },
    {
     "data": {
      "text/plain": [
       "Speed: 3.6ms preprocess, 932.4ms inference, 1.6ms postprocess per image at shape (1, 3, 384, 640)\n"
      ]
     },
     "metadata": {},
     "output_type": "display_data"
    },
    {
     "data": {
      "text/plain": [
       "\n"
      ]
     },
     "metadata": {},
     "output_type": "display_data"
    },
    {
     "data": {
      "text/plain": [
       "0: 384x640 17 cars, 1 bus, 4 trucks, 5 traffic lights, 904.3ms\n"
      ]
     },
     "metadata": {},
     "output_type": "display_data"
    },
    {
     "data": {
      "text/plain": [
       "Speed: 2.3ms preprocess, 904.3ms inference, 0.9ms postprocess per image at shape (1, 3, 384, 640)\n"
      ]
     },
     "metadata": {},
     "output_type": "display_data"
    },
    {
     "data": {
      "text/plain": [
       "\n"
      ]
     },
     "metadata": {},
     "output_type": "display_data"
    },
    {
     "data": {
      "text/plain": [
       "0: 384x640 18 cars, 1 bus, 3 trucks, 5 traffic lights, 900.9ms\n"
      ]
     },
     "metadata": {},
     "output_type": "display_data"
    },
    {
     "data": {
      "text/plain": [
       "Speed: 2.5ms preprocess, 900.9ms inference, 0.9ms postprocess per image at shape (1, 3, 384, 640)\n"
      ]
     },
     "metadata": {},
     "output_type": "display_data"
    },
    {
     "data": {
      "text/plain": [
       "\n"
      ]
     },
     "metadata": {},
     "output_type": "display_data"
    },
    {
     "data": {
      "text/plain": [
       "0: 384x640 18 cars, 4 trucks, 5 traffic lights, 924.1ms\n"
      ]
     },
     "metadata": {},
     "output_type": "display_data"
    },
    {
     "data": {
      "text/plain": [
       "Speed: 2.1ms preprocess, 924.1ms inference, 1.1ms postprocess per image at shape (1, 3, 384, 640)\n"
      ]
     },
     "metadata": {},
     "output_type": "display_data"
    },
    {
     "data": {
      "text/plain": [
       "\n"
      ]
     },
     "metadata": {},
     "output_type": "display_data"
    },
    {
     "data": {
      "text/plain": [
       "0: 384x640 18 cars, 4 trucks, 5 traffic lights, 923.9ms\n"
      ]
     },
     "metadata": {},
     "output_type": "display_data"
    },
    {
     "data": {
      "text/plain": [
       "Speed: 3.4ms preprocess, 923.9ms inference, 1.7ms postprocess per image at shape (1, 3, 384, 640)\n"
      ]
     },
     "metadata": {},
     "output_type": "display_data"
    },
    {
     "data": {
      "text/plain": [
       "\n"
      ]
     },
     "metadata": {},
     "output_type": "display_data"
    },
    {
     "data": {
      "text/plain": [
       "0: 384x640 20 cars, 4 trucks, 5 traffic lights, 920.7ms\n"
      ]
     },
     "metadata": {},
     "output_type": "display_data"
    },
    {
     "data": {
      "text/plain": [
       "Speed: 2.3ms preprocess, 920.7ms inference, 1.0ms postprocess per image at shape (1, 3, 384, 640)\n"
      ]
     },
     "metadata": {},
     "output_type": "display_data"
    },
    {
     "data": {
      "text/plain": [
       "\n"
      ]
     },
     "metadata": {},
     "output_type": "display_data"
    },
    {
     "data": {
      "text/plain": [
       "0: 384x640 19 cars, 4 trucks, 5 traffic lights, 931.9ms\n"
      ]
     },
     "metadata": {},
     "output_type": "display_data"
    },
    {
     "data": {
      "text/plain": [
       "Speed: 2.3ms preprocess, 931.9ms inference, 1.0ms postprocess per image at shape (1, 3, 384, 640)\n"
      ]
     },
     "metadata": {},
     "output_type": "display_data"
    },
    {
     "data": {
      "text/plain": [
       "\n"
      ]
     },
     "metadata": {},
     "output_type": "display_data"
    },
    {
     "data": {
      "text/plain": [
       "0: 384x640 20 cars, 4 trucks, 5 traffic lights, 931.0ms\n"
      ]
     },
     "metadata": {},
     "output_type": "display_data"
    },
    {
     "data": {
      "text/plain": [
       "Speed: 3.9ms preprocess, 931.0ms inference, 1.1ms postprocess per image at shape (1, 3, 384, 640)\n"
      ]
     },
     "metadata": {},
     "output_type": "display_data"
    },
    {
     "data": {
      "text/plain": [
       "\n"
      ]
     },
     "metadata": {},
     "output_type": "display_data"
    },
    {
     "data": {
      "text/plain": [
       "0: 384x640 18 cars, 1 bus, 4 trucks, 5 traffic lights, 918.9ms\n"
      ]
     },
     "metadata": {},
     "output_type": "display_data"
    },
    {
     "data": {
      "text/plain": [
       "Speed: 2.6ms preprocess, 918.9ms inference, 1.5ms postprocess per image at shape (1, 3, 384, 640)\n"
      ]
     },
     "metadata": {},
     "output_type": "display_data"
    },
    {
     "data": {
      "text/plain": [
       "\n"
      ]
     },
     "metadata": {},
     "output_type": "display_data"
    },
    {
     "data": {
      "text/plain": [
       "0: 384x640 18 cars, 1 bus, 4 trucks, 5 traffic lights, 927.0ms\n"
      ]
     },
     "metadata": {},
     "output_type": "display_data"
    },
    {
     "data": {
      "text/plain": [
       "Speed: 3.7ms preprocess, 927.0ms inference, 1.9ms postprocess per image at shape (1, 3, 384, 640)\n"
      ]
     },
     "metadata": {},
     "output_type": "display_data"
    },
    {
     "data": {
      "text/plain": [
       "\n"
      ]
     },
     "metadata": {},
     "output_type": "display_data"
    },
    {
     "data": {
      "text/plain": [
       "0: 384x640 16 cars, 6 trucks, 5 traffic lights, 925.4ms\n"
      ]
     },
     "metadata": {},
     "output_type": "display_data"
    },
    {
     "data": {
      "text/plain": [
       "Speed: 2.3ms preprocess, 925.4ms inference, 1.8ms postprocess per image at shape (1, 3, 384, 640)\n"
      ]
     },
     "metadata": {},
     "output_type": "display_data"
    },
    {
     "data": {
      "text/plain": [
       "\n"
      ]
     },
     "metadata": {},
     "output_type": "display_data"
    },
    {
     "data": {
      "text/plain": [
       "0: 384x640 20 cars, 4 trucks, 5 traffic lights, 918.6ms\n"
      ]
     },
     "metadata": {},
     "output_type": "display_data"
    },
    {
     "data": {
      "text/plain": [
       "Speed: 2.9ms preprocess, 918.6ms inference, 0.9ms postprocess per image at shape (1, 3, 384, 640)\n"
      ]
     },
     "metadata": {},
     "output_type": "display_data"
    },
    {
     "data": {
      "text/plain": [
       "\n"
      ]
     },
     "metadata": {},
     "output_type": "display_data"
    },
    {
     "data": {
      "text/plain": [
       "0: 384x640 19 cars, 5 trucks, 5 traffic lights, 940.7ms\n"
      ]
     },
     "metadata": {},
     "output_type": "display_data"
    },
    {
     "data": {
      "text/plain": [
       "Speed: 2.2ms preprocess, 940.7ms inference, 0.9ms postprocess per image at shape (1, 3, 384, 640)\n"
      ]
     },
     "metadata": {},
     "output_type": "display_data"
    },
    {
     "data": {
      "text/plain": [
       "\n"
      ]
     },
     "metadata": {},
     "output_type": "display_data"
    },
    {
     "data": {
      "text/plain": [
       "0: 384x640 19 cars, 5 trucks, 5 traffic lights, 926.5ms\n"
      ]
     },
     "metadata": {},
     "output_type": "display_data"
    },
    {
     "data": {
      "text/plain": [
       "Speed: 2.7ms preprocess, 926.5ms inference, 0.9ms postprocess per image at shape (1, 3, 384, 640)\n"
      ]
     },
     "metadata": {},
     "output_type": "display_data"
    },
    {
     "data": {
      "text/plain": [
       "\n"
      ]
     },
     "metadata": {},
     "output_type": "display_data"
    },
    {
     "data": {
      "text/plain": [
       "0: 384x640 18 cars, 5 trucks, 5 traffic lights, 924.1ms\n"
      ]
     },
     "metadata": {},
     "output_type": "display_data"
    },
    {
     "data": {
      "text/plain": [
       "Speed: 2.4ms preprocess, 924.1ms inference, 0.9ms postprocess per image at shape (1, 3, 384, 640)\n"
      ]
     },
     "metadata": {},
     "output_type": "display_data"
    },
    {
     "data": {
      "text/plain": [
       "\n"
      ]
     },
     "metadata": {},
     "output_type": "display_data"
    },
    {
     "data": {
      "text/plain": [
       "0: 384x640 19 cars, 4 trucks, 5 traffic lights, 932.6ms\n"
      ]
     },
     "metadata": {},
     "output_type": "display_data"
    },
    {
     "data": {
      "text/plain": [
       "Speed: 2.1ms preprocess, 932.6ms inference, 1.0ms postprocess per image at shape (1, 3, 384, 640)\n"
      ]
     },
     "metadata": {},
     "output_type": "display_data"
    },
    {
     "data": {
      "text/plain": [
       "\n"
      ]
     },
     "metadata": {},
     "output_type": "display_data"
    },
    {
     "data": {
      "text/plain": [
       "0: 384x640 18 cars, 5 trucks, 5 traffic lights, 891.1ms\n"
      ]
     },
     "metadata": {},
     "output_type": "display_data"
    },
    {
     "data": {
      "text/plain": [
       "Speed: 2.4ms preprocess, 891.1ms inference, 1.1ms postprocess per image at shape (1, 3, 384, 640)\n"
      ]
     },
     "metadata": {},
     "output_type": "display_data"
    },
    {
     "data": {
      "text/plain": [
       "\n"
      ]
     },
     "metadata": {},
     "output_type": "display_data"
    },
    {
     "data": {
      "text/plain": [
       "0: 384x640 21 cars, 4 trucks, 5 traffic lights, 928.3ms\n"
      ]
     },
     "metadata": {},
     "output_type": "display_data"
    },
    {
     "data": {
      "text/plain": [
       "Speed: 2.3ms preprocess, 928.3ms inference, 2.1ms postprocess per image at shape (1, 3, 384, 640)\n"
      ]
     },
     "metadata": {},
     "output_type": "display_data"
    },
    {
     "data": {
      "text/plain": [
       "\n"
      ]
     },
     "metadata": {},
     "output_type": "display_data"
    },
    {
     "data": {
      "text/plain": [
       "0: 384x640 18 cars, 6 trucks, 5 traffic lights, 915.5ms\n"
      ]
     },
     "metadata": {},
     "output_type": "display_data"
    },
    {
     "data": {
      "text/plain": [
       "Speed: 2.2ms preprocess, 915.5ms inference, 1.0ms postprocess per image at shape (1, 3, 384, 640)\n"
      ]
     },
     "metadata": {},
     "output_type": "display_data"
    },
    {
     "data": {
      "text/plain": [
       "\n"
      ]
     },
     "metadata": {},
     "output_type": "display_data"
    },
    {
     "data": {
      "text/plain": [
       "0: 384x640 17 cars, 5 trucks, 5 traffic lights, 916.0ms\n"
      ]
     },
     "metadata": {},
     "output_type": "display_data"
    },
    {
     "data": {
      "text/plain": [
       "Speed: 3.7ms preprocess, 916.0ms inference, 1.1ms postprocess per image at shape (1, 3, 384, 640)\n"
      ]
     },
     "metadata": {},
     "output_type": "display_data"
    },
    {
     "data": {
      "text/plain": [
       "\n"
      ]
     },
     "metadata": {},
     "output_type": "display_data"
    },
    {
     "data": {
      "text/plain": [
       "0: 384x640 17 cars, 5 trucks, 5 traffic lights, 907.6ms\n"
      ]
     },
     "metadata": {},
     "output_type": "display_data"
    },
    {
     "data": {
      "text/plain": [
       "Speed: 2.5ms preprocess, 907.6ms inference, 0.9ms postprocess per image at shape (1, 3, 384, 640)\n"
      ]
     },
     "metadata": {},
     "output_type": "display_data"
    },
    {
     "data": {
      "text/plain": [
       "\n"
      ]
     },
     "metadata": {},
     "output_type": "display_data"
    },
    {
     "data": {
      "text/plain": [
       "0: 384x640 18 cars, 5 trucks, 5 traffic lights, 907.2ms\n"
      ]
     },
     "metadata": {},
     "output_type": "display_data"
    },
    {
     "data": {
      "text/plain": [
       "Speed: 2.1ms preprocess, 907.2ms inference, 1.0ms postprocess per image at shape (1, 3, 384, 640)\n"
      ]
     },
     "metadata": {},
     "output_type": "display_data"
    },
    {
     "data": {
      "text/plain": [
       "\n"
      ]
     },
     "metadata": {},
     "output_type": "display_data"
    },
    {
     "data": {
      "text/plain": [
       "0: 384x640 16 cars, 6 trucks, 5 traffic lights, 918.2ms\n"
      ]
     },
     "metadata": {},
     "output_type": "display_data"
    },
    {
     "data": {
      "text/plain": [
       "Speed: 2.1ms preprocess, 918.2ms inference, 1.0ms postprocess per image at shape (1, 3, 384, 640)\n"
      ]
     },
     "metadata": {},
     "output_type": "display_data"
    },
    {
     "data": {
      "text/plain": [
       "\n"
      ]
     },
     "metadata": {},
     "output_type": "display_data"
    },
    {
     "data": {
      "text/plain": [
       "0: 384x640 19 cars, 5 trucks, 5 traffic lights, 923.5ms\n"
      ]
     },
     "metadata": {},
     "output_type": "display_data"
    },
    {
     "data": {
      "text/plain": [
       "Speed: 2.4ms preprocess, 923.5ms inference, 1.0ms postprocess per image at shape (1, 3, 384, 640)\n"
      ]
     },
     "metadata": {},
     "output_type": "display_data"
    },
    {
     "data": {
      "text/plain": [
       "\n"
      ]
     },
     "metadata": {},
     "output_type": "display_data"
    },
    {
     "data": {
      "text/plain": [
       "0: 384x640 19 cars, 5 trucks, 5 traffic lights, 921.1ms\n"
      ]
     },
     "metadata": {},
     "output_type": "display_data"
    },
    {
     "data": {
      "text/plain": [
       "Speed: 2.3ms preprocess, 921.1ms inference, 1.0ms postprocess per image at shape (1, 3, 384, 640)\n"
      ]
     },
     "metadata": {},
     "output_type": "display_data"
    },
    {
     "data": {
      "text/plain": [
       "\n"
      ]
     },
     "metadata": {},
     "output_type": "display_data"
    },
    {
     "data": {
      "text/plain": [
       "0: 384x640 17 cars, 6 trucks, 5 traffic lights, 921.8ms\n"
      ]
     },
     "metadata": {},
     "output_type": "display_data"
    },
    {
     "data": {
      "text/plain": [
       "Speed: 2.1ms preprocess, 921.8ms inference, 0.9ms postprocess per image at shape (1, 3, 384, 640)\n"
      ]
     },
     "metadata": {},
     "output_type": "display_data"
    },
    {
     "data": {
      "text/plain": [
       "\n"
      ]
     },
     "metadata": {},
     "output_type": "display_data"
    },
    {
     "data": {
      "text/plain": [
       "0: 384x640 18 cars, 5 trucks, 5 traffic lights, 910.9ms\n"
      ]
     },
     "metadata": {},
     "output_type": "display_data"
    },
    {
     "data": {
      "text/plain": [
       "Speed: 2.4ms preprocess, 910.9ms inference, 1.2ms postprocess per image at shape (1, 3, 384, 640)\n"
      ]
     },
     "metadata": {},
     "output_type": "display_data"
    },
    {
     "data": {
      "text/plain": [
       "\n"
      ]
     },
     "metadata": {},
     "output_type": "display_data"
    },
    {
     "data": {
      "text/plain": [
       "0: 384x640 17 cars, 1 bus, 5 trucks, 5 traffic lights, 932.8ms\n"
      ]
     },
     "metadata": {},
     "output_type": "display_data"
    },
    {
     "data": {
      "text/plain": [
       "Speed: 2.6ms preprocess, 932.8ms inference, 1.8ms postprocess per image at shape (1, 3, 384, 640)\n"
      ]
     },
     "metadata": {},
     "output_type": "display_data"
    },
    {
     "data": {
      "text/plain": [
       "\n"
      ]
     },
     "metadata": {},
     "output_type": "display_data"
    },
    {
     "data": {
      "text/plain": [
       "0: 384x640 16 cars, 1 bus, 5 trucks, 5 traffic lights, 925.5ms\n"
      ]
     },
     "metadata": {},
     "output_type": "display_data"
    },
    {
     "data": {
      "text/plain": [
       "Speed: 2.3ms preprocess, 925.5ms inference, 1.3ms postprocess per image at shape (1, 3, 384, 640)\n"
      ]
     },
     "metadata": {},
     "output_type": "display_data"
    },
    {
     "data": {
      "text/plain": [
       "\n"
      ]
     },
     "metadata": {},
     "output_type": "display_data"
    },
    {
     "data": {
      "text/plain": [
       "0: 384x640 14 cars, 1 bus, 6 trucks, 5 traffic lights, 906.9ms\n"
      ]
     },
     "metadata": {},
     "output_type": "display_data"
    },
    {
     "data": {
      "text/plain": [
       "Speed: 2.2ms preprocess, 906.9ms inference, 1.9ms postprocess per image at shape (1, 3, 384, 640)\n"
      ]
     },
     "metadata": {},
     "output_type": "display_data"
    },
    {
     "data": {
      "text/plain": [
       "\n"
      ]
     },
     "metadata": {},
     "output_type": "display_data"
    },
    {
     "data": {
      "text/plain": [
       "0: 384x640 16 cars, 1 bus, 5 trucks, 5 traffic lights, 929.3ms\n"
      ]
     },
     "metadata": {},
     "output_type": "display_data"
    },
    {
     "data": {
      "text/plain": [
       "Speed: 2.3ms preprocess, 929.3ms inference, 1.4ms postprocess per image at shape (1, 3, 384, 640)\n"
      ]
     },
     "metadata": {},
     "output_type": "display_data"
    },
    {
     "data": {
      "text/plain": [
       "\n"
      ]
     },
     "metadata": {},
     "output_type": "display_data"
    },
    {
     "data": {
      "text/plain": [
       "0: 384x640 18 cars, 1 bus, 5 trucks, 5 traffic lights, 901.0ms\n"
      ]
     },
     "metadata": {},
     "output_type": "display_data"
    },
    {
     "data": {
      "text/plain": [
       "Speed: 2.2ms preprocess, 901.0ms inference, 0.9ms postprocess per image at shape (1, 3, 384, 640)\n"
      ]
     },
     "metadata": {},
     "output_type": "display_data"
    },
    {
     "data": {
      "text/plain": [
       "\n"
      ]
     },
     "metadata": {},
     "output_type": "display_data"
    },
    {
     "data": {
      "text/plain": [
       "0: 384x640 19 cars, 1 bus, 4 trucks, 5 traffic lights, 912.6ms\n"
      ]
     },
     "metadata": {},
     "output_type": "display_data"
    },
    {
     "data": {
      "text/plain": [
       "Speed: 11.4ms preprocess, 912.6ms inference, 1.7ms postprocess per image at shape (1, 3, 384, 640)\n"
      ]
     },
     "metadata": {},
     "output_type": "display_data"
    },
    {
     "data": {
      "text/plain": [
       "\n"
      ]
     },
     "metadata": {},
     "output_type": "display_data"
    },
    {
     "data": {
      "text/plain": [
       "0: 384x640 18 cars, 1 bus, 5 trucks, 5 traffic lights, 912.2ms\n"
      ]
     },
     "metadata": {},
     "output_type": "display_data"
    },
    {
     "data": {
      "text/plain": [
       "Speed: 2.3ms preprocess, 912.2ms inference, 0.9ms postprocess per image at shape (1, 3, 384, 640)\n"
      ]
     },
     "metadata": {},
     "output_type": "display_data"
    },
    {
     "data": {
      "text/plain": [
       "\n"
      ]
     },
     "metadata": {},
     "output_type": "display_data"
    },
    {
     "data": {
      "text/plain": [
       "0: 384x640 18 cars, 1 bus, 5 trucks, 5 traffic lights, 892.9ms\n"
      ]
     },
     "metadata": {},
     "output_type": "display_data"
    },
    {
     "data": {
      "text/plain": [
       "Speed: 2.3ms preprocess, 892.9ms inference, 1.3ms postprocess per image at shape (1, 3, 384, 640)\n"
      ]
     },
     "metadata": {},
     "output_type": "display_data"
    },
    {
     "data": {
      "text/plain": [
       "\n"
      ]
     },
     "metadata": {},
     "output_type": "display_data"
    },
    {
     "data": {
      "text/plain": [
       "0: 384x640 21 cars, 1 bus, 4 trucks, 5 traffic lights, 920.6ms\n"
      ]
     },
     "metadata": {},
     "output_type": "display_data"
    },
    {
     "data": {
      "text/plain": [
       "Speed: 3.2ms preprocess, 920.6ms inference, 1.3ms postprocess per image at shape (1, 3, 384, 640)\n"
      ]
     },
     "metadata": {},
     "output_type": "display_data"
    },
    {
     "data": {
      "text/plain": [
       "\n"
      ]
     },
     "metadata": {},
     "output_type": "display_data"
    },
    {
     "data": {
      "text/plain": [
       "0: 384x640 18 cars, 1 bus, 5 trucks, 5 traffic lights, 924.8ms\n"
      ]
     },
     "metadata": {},
     "output_type": "display_data"
    },
    {
     "data": {
      "text/plain": [
       "Speed: 2.6ms preprocess, 924.8ms inference, 1.0ms postprocess per image at shape (1, 3, 384, 640)\n"
      ]
     },
     "metadata": {},
     "output_type": "display_data"
    },
    {
     "data": {
      "text/plain": [
       "\n"
      ]
     },
     "metadata": {},
     "output_type": "display_data"
    },
    {
     "data": {
      "text/plain": [
       "0: 384x640 18 cars, 1 bus, 5 trucks, 5 traffic lights, 908.8ms\n"
      ]
     },
     "metadata": {},
     "output_type": "display_data"
    },
    {
     "data": {
      "text/plain": [
       "Speed: 2.3ms preprocess, 908.8ms inference, 1.4ms postprocess per image at shape (1, 3, 384, 640)\n"
      ]
     },
     "metadata": {},
     "output_type": "display_data"
    },
    {
     "data": {
      "text/plain": [
       "\n"
      ]
     },
     "metadata": {},
     "output_type": "display_data"
    },
    {
     "data": {
      "text/plain": [
       "0: 384x640 17 cars, 1 bus, 6 trucks, 5 traffic lights, 908.3ms\n"
      ]
     },
     "metadata": {},
     "output_type": "display_data"
    },
    {
     "data": {
      "text/plain": [
       "Speed: 3.3ms preprocess, 908.3ms inference, 0.9ms postprocess per image at shape (1, 3, 384, 640)\n"
      ]
     },
     "metadata": {},
     "output_type": "display_data"
    },
    {
     "data": {
      "text/plain": [
       "\n"
      ]
     },
     "metadata": {},
     "output_type": "display_data"
    },
    {
     "data": {
      "text/plain": [
       "0: 384x640 15 cars, 1 bus, 5 trucks, 5 traffic lights, 919.8ms\n"
      ]
     },
     "metadata": {},
     "output_type": "display_data"
    },
    {
     "data": {
      "text/plain": [
       "Speed: 2.1ms preprocess, 919.8ms inference, 0.9ms postprocess per image at shape (1, 3, 384, 640)\n"
      ]
     },
     "metadata": {},
     "output_type": "display_data"
    },
    {
     "data": {
      "text/plain": [
       "\n"
      ]
     },
     "metadata": {},
     "output_type": "display_data"
    },
    {
     "data": {
      "text/plain": [
       "0: 384x640 19 cars, 1 bus, 4 trucks, 5 traffic lights, 911.1ms\n"
      ]
     },
     "metadata": {},
     "output_type": "display_data"
    },
    {
     "data": {
      "text/plain": [
       "Speed: 4.3ms preprocess, 911.1ms inference, 1.2ms postprocess per image at shape (1, 3, 384, 640)\n"
      ]
     },
     "metadata": {},
     "output_type": "display_data"
    },
    {
     "data": {
      "text/plain": [
       "\n"
      ]
     },
     "metadata": {},
     "output_type": "display_data"
    },
    {
     "data": {
      "text/plain": [
       "0: 384x640 18 cars, 1 bus, 3 trucks, 5 traffic lights, 908.3ms\n"
      ]
     },
     "metadata": {},
     "output_type": "display_data"
    },
    {
     "data": {
      "text/plain": [
       "Speed: 2.7ms preprocess, 908.3ms inference, 1.7ms postprocess per image at shape (1, 3, 384, 640)\n"
      ]
     },
     "metadata": {},
     "output_type": "display_data"
    },
    {
     "data": {
      "text/plain": [
       "\n"
      ]
     },
     "metadata": {},
     "output_type": "display_data"
    },
    {
     "data": {
      "text/plain": [
       "0: 384x640 16 cars, 1 bus, 4 trucks, 5 traffic lights, 916.4ms\n"
      ]
     },
     "metadata": {},
     "output_type": "display_data"
    },
    {
     "data": {
      "text/plain": [
       "Speed: 2.2ms preprocess, 916.4ms inference, 1.5ms postprocess per image at shape (1, 3, 384, 640)\n"
      ]
     },
     "metadata": {},
     "output_type": "display_data"
    },
    {
     "data": {
      "text/plain": [
       "\n"
      ]
     },
     "metadata": {},
     "output_type": "display_data"
    },
    {
     "data": {
      "text/plain": [
       "0: 384x640 17 cars, 1 bus, 3 trucks, 5 traffic lights, 921.5ms\n"
      ]
     },
     "metadata": {},
     "output_type": "display_data"
    },
    {
     "data": {
      "text/plain": [
       "Speed: 2.3ms preprocess, 921.5ms inference, 1.6ms postprocess per image at shape (1, 3, 384, 640)\n"
      ]
     },
     "metadata": {},
     "output_type": "display_data"
    },
    {
     "data": {
      "text/plain": [
       "\n"
      ]
     },
     "metadata": {},
     "output_type": "display_data"
    },
    {
     "data": {
      "text/plain": [
       "0: 384x640 15 cars, 1 bus, 4 trucks, 5 traffic lights, 911.3ms\n"
      ]
     },
     "metadata": {},
     "output_type": "display_data"
    },
    {
     "data": {
      "text/plain": [
       "Speed: 2.5ms preprocess, 911.3ms inference, 1.7ms postprocess per image at shape (1, 3, 384, 640)\n"
      ]
     },
     "metadata": {},
     "output_type": "display_data"
    },
    {
     "data": {
      "text/plain": [
       "\n"
      ]
     },
     "metadata": {},
     "output_type": "display_data"
    },
    {
     "data": {
      "text/plain": [
       "0: 384x640 14 cars, 1 bus, 2 trucks, 5 traffic lights, 899.8ms\n"
      ]
     },
     "metadata": {},
     "output_type": "display_data"
    },
    {
     "data": {
      "text/plain": [
       "Speed: 2.4ms preprocess, 899.8ms inference, 0.9ms postprocess per image at shape (1, 3, 384, 640)\n"
      ]
     },
     "metadata": {},
     "output_type": "display_data"
    },
    {
     "data": {
      "text/plain": [
       "\n"
      ]
     },
     "metadata": {},
     "output_type": "display_data"
    },
    {
     "data": {
      "text/plain": [
       "0: 384x640 15 cars, 1 bus, 2 trucks, 5 traffic lights, 917.1ms\n"
      ]
     },
     "metadata": {},
     "output_type": "display_data"
    },
    {
     "data": {
      "text/plain": [
       "Speed: 3.3ms preprocess, 917.1ms inference, 1.0ms postprocess per image at shape (1, 3, 384, 640)\n"
      ]
     },
     "metadata": {},
     "output_type": "display_data"
    },
    {
     "data": {
      "text/plain": [
       "\n"
      ]
     },
     "metadata": {},
     "output_type": "display_data"
    },
    {
     "data": {
      "text/plain": [
       "0: 384x640 18 cars, 1 bus, 2 trucks, 5 traffic lights, 914.6ms\n"
      ]
     },
     "metadata": {},
     "output_type": "display_data"
    },
    {
     "data": {
      "text/plain": [
       "Speed: 2.2ms preprocess, 914.6ms inference, 0.9ms postprocess per image at shape (1, 3, 384, 640)\n"
      ]
     },
     "metadata": {},
     "output_type": "display_data"
    },
    {
     "data": {
      "text/plain": [
       "\n"
      ]
     },
     "metadata": {},
     "output_type": "display_data"
    },
    {
     "data": {
      "text/plain": [
       "0: 384x640 17 cars, 1 bus, 2 trucks, 5 traffic lights, 919.8ms\n"
      ]
     },
     "metadata": {},
     "output_type": "display_data"
    },
    {
     "data": {
      "text/plain": [
       "Speed: 2.2ms preprocess, 919.8ms inference, 0.8ms postprocess per image at shape (1, 3, 384, 640)\n"
      ]
     },
     "metadata": {},
     "output_type": "display_data"
    },
    {
     "data": {
      "text/plain": [
       "\n"
      ]
     },
     "metadata": {},
     "output_type": "display_data"
    },
    {
     "data": {
      "text/plain": [
       "0: 384x640 17 cars, 1 bus, 2 trucks, 5 traffic lights, 904.5ms\n"
      ]
     },
     "metadata": {},
     "output_type": "display_data"
    },
    {
     "data": {
      "text/plain": [
       "Speed: 2.2ms preprocess, 904.5ms inference, 1.5ms postprocess per image at shape (1, 3, 384, 640)\n"
      ]
     },
     "metadata": {},
     "output_type": "display_data"
    },
    {
     "data": {
      "text/plain": [
       "\n"
      ]
     },
     "metadata": {},
     "output_type": "display_data"
    },
    {
     "data": {
      "text/plain": [
       "0: 384x640 15 cars, 1 bus, 2 trucks, 5 traffic lights, 900.7ms\n"
      ]
     },
     "metadata": {},
     "output_type": "display_data"
    },
    {
     "data": {
      "text/plain": [
       "Speed: 2.4ms preprocess, 900.7ms inference, 1.0ms postprocess per image at shape (1, 3, 384, 640)\n"
      ]
     },
     "metadata": {},
     "output_type": "display_data"
    },
    {
     "data": {
      "text/plain": [
       "\n"
      ]
     },
     "metadata": {},
     "output_type": "display_data"
    },
    {
     "data": {
      "text/plain": [
       "0: 384x640 14 cars, 1 bus, 2 trucks, 5 traffic lights, 885.2ms\n"
      ]
     },
     "metadata": {},
     "output_type": "display_data"
    },
    {
     "data": {
      "text/plain": [
       "Speed: 3.0ms preprocess, 885.2ms inference, 1.0ms postprocess per image at shape (1, 3, 384, 640)\n"
      ]
     },
     "metadata": {},
     "output_type": "display_data"
    },
    {
     "data": {
      "text/plain": [
       "\n"
      ]
     },
     "metadata": {},
     "output_type": "display_data"
    },
    {
     "data": {
      "text/plain": [
       "0: 384x640 15 cars, 1 bus, 2 trucks, 5 traffic lights, 933.4ms\n"
      ]
     },
     "metadata": {},
     "output_type": "display_data"
    },
    {
     "data": {
      "text/plain": [
       "Speed: 2.7ms preprocess, 933.4ms inference, 1.4ms postprocess per image at shape (1, 3, 384, 640)\n"
      ]
     },
     "metadata": {},
     "output_type": "display_data"
    },
    {
     "data": {
      "text/plain": [
       "\n"
      ]
     },
     "metadata": {},
     "output_type": "display_data"
    },
    {
     "data": {
      "text/plain": [
       "0: 384x640 15 cars, 1 bus, 2 trucks, 5 traffic lights, 907.9ms\n"
      ]
     },
     "metadata": {},
     "output_type": "display_data"
    },
    {
     "data": {
      "text/plain": [
       "Speed: 3.4ms preprocess, 907.9ms inference, 1.4ms postprocess per image at shape (1, 3, 384, 640)\n"
      ]
     },
     "metadata": {},
     "output_type": "display_data"
    },
    {
     "data": {
      "text/plain": [
       "\n"
      ]
     },
     "metadata": {},
     "output_type": "display_data"
    },
    {
     "data": {
      "text/plain": [
       "0: 384x640 15 cars, 1 bus, 2 trucks, 5 traffic lights, 916.1ms\n"
      ]
     },
     "metadata": {},
     "output_type": "display_data"
    },
    {
     "data": {
      "text/plain": [
       "Speed: 3.5ms preprocess, 916.1ms inference, 0.9ms postprocess per image at shape (1, 3, 384, 640)\n"
      ]
     },
     "metadata": {},
     "output_type": "display_data"
    },
    {
     "data": {
      "text/plain": [
       "\n"
      ]
     },
     "metadata": {},
     "output_type": "display_data"
    },
    {
     "data": {
      "text/plain": [
       "0: 384x640 17 cars, 1 bus, 2 trucks, 5 traffic lights, 917.0ms\n"
      ]
     },
     "metadata": {},
     "output_type": "display_data"
    },
    {
     "data": {
      "text/plain": [
       "Speed: 2.3ms preprocess, 917.0ms inference, 0.8ms postprocess per image at shape (1, 3, 384, 640)\n"
      ]
     },
     "metadata": {},
     "output_type": "display_data"
    },
    {
     "data": {
      "text/plain": [
       "\n"
      ]
     },
     "metadata": {},
     "output_type": "display_data"
    },
    {
     "data": {
      "text/plain": [
       "0: 384x640 17 cars, 1 bus, 2 trucks, 5 traffic lights, 911.1ms\n"
      ]
     },
     "metadata": {},
     "output_type": "display_data"
    },
    {
     "data": {
      "text/plain": [
       "Speed: 3.2ms preprocess, 911.1ms inference, 0.9ms postprocess per image at shape (1, 3, 384, 640)\n"
      ]
     },
     "metadata": {},
     "output_type": "display_data"
    },
    {
     "data": {
      "text/plain": [
       "\n"
      ]
     },
     "metadata": {},
     "output_type": "display_data"
    },
    {
     "data": {
      "text/plain": [
       "0: 384x640 16 cars, 1 bus, 3 trucks, 5 traffic lights, 915.3ms\n"
      ]
     },
     "metadata": {},
     "output_type": "display_data"
    },
    {
     "data": {
      "text/plain": [
       "Speed: 2.0ms preprocess, 915.3ms inference, 1.1ms postprocess per image at shape (1, 3, 384, 640)\n"
      ]
     },
     "metadata": {},
     "output_type": "display_data"
    },
    {
     "data": {
      "text/plain": [
       "\n"
      ]
     },
     "metadata": {},
     "output_type": "display_data"
    },
    {
     "data": {
      "text/plain": [
       "0: 384x640 15 cars, 1 bus, 2 trucks, 5 traffic lights, 910.5ms\n"
      ]
     },
     "metadata": {},
     "output_type": "display_data"
    },
    {
     "data": {
      "text/plain": [
       "Speed: 2.1ms preprocess, 910.5ms inference, 1.0ms postprocess per image at shape (1, 3, 384, 640)\n"
      ]
     },
     "metadata": {},
     "output_type": "display_data"
    },
    {
     "data": {
      "text/plain": [
       "\n"
      ]
     },
     "metadata": {},
     "output_type": "display_data"
    },
    {
     "data": {
      "text/plain": [
       "0: 384x640 15 cars, 1 bus, 2 trucks, 5 traffic lights, 902.5ms\n"
      ]
     },
     "metadata": {},
     "output_type": "display_data"
    },
    {
     "data": {
      "text/plain": [
       "Speed: 2.4ms preprocess, 902.5ms inference, 0.9ms postprocess per image at shape (1, 3, 384, 640)\n"
      ]
     },
     "metadata": {},
     "output_type": "display_data"
    },
    {
     "data": {
      "text/plain": [
       "\n"
      ]
     },
     "metadata": {},
     "output_type": "display_data"
    },
    {
     "data": {
      "text/plain": [
       "0: 384x640 17 cars, 1 bus, 2 trucks, 5 traffic lights, 905.3ms\n"
      ]
     },
     "metadata": {},
     "output_type": "display_data"
    },
    {
     "data": {
      "text/plain": [
       "Speed: 2.4ms preprocess, 905.3ms inference, 0.9ms postprocess per image at shape (1, 3, 384, 640)\n"
      ]
     },
     "metadata": {},
     "output_type": "display_data"
    },
    {
     "data": {
      "text/plain": [
       "\n"
      ]
     },
     "metadata": {},
     "output_type": "display_data"
    },
    {
     "data": {
      "text/plain": [
       "0: 384x640 16 cars, 1 bus, 2 trucks, 5 traffic lights, 919.5ms\n"
      ]
     },
     "metadata": {},
     "output_type": "display_data"
    },
    {
     "data": {
      "text/plain": [
       "Speed: 2.1ms preprocess, 919.5ms inference, 0.9ms postprocess per image at shape (1, 3, 384, 640)\n"
      ]
     },
     "metadata": {},
     "output_type": "display_data"
    },
    {
     "data": {
      "text/plain": [
       "\n"
      ]
     },
     "metadata": {},
     "output_type": "display_data"
    },
    {
     "data": {
      "text/plain": [
       "0: 384x640 13 cars, 1 bus, 2 trucks, 5 traffic lights, 904.6ms\n"
      ]
     },
     "metadata": {},
     "output_type": "display_data"
    },
    {
     "data": {
      "text/plain": [
       "Speed: 2.1ms preprocess, 904.6ms inference, 1.0ms postprocess per image at shape (1, 3, 384, 640)\n"
      ]
     },
     "metadata": {},
     "output_type": "display_data"
    },
    {
     "data": {
      "text/plain": [
       "\n"
      ]
     },
     "metadata": {},
     "output_type": "display_data"
    },
    {
     "data": {
      "text/plain": [
       "0: 384x640 16 cars, 1 bus, 4 trucks, 5 traffic lights, 879.4ms\n"
      ]
     },
     "metadata": {},
     "output_type": "display_data"
    },
    {
     "data": {
      "text/plain": [
       "Speed: 2.7ms preprocess, 879.4ms inference, 0.9ms postprocess per image at shape (1, 3, 384, 640)\n"
      ]
     },
     "metadata": {},
     "output_type": "display_data"
    },
    {
     "data": {
      "text/plain": [
       "\n"
      ]
     },
     "metadata": {},
     "output_type": "display_data"
    },
    {
     "data": {
      "text/plain": [
       "0: 384x640 17 cars, 1 bus, 3 trucks, 5 traffic lights, 915.4ms\n"
      ]
     },
     "metadata": {},
     "output_type": "display_data"
    },
    {
     "data": {
      "text/plain": [
       "Speed: 2.3ms preprocess, 915.4ms inference, 1.0ms postprocess per image at shape (1, 3, 384, 640)\n"
      ]
     },
     "metadata": {},
     "output_type": "display_data"
    },
    {
     "data": {
      "text/plain": [
       "\n"
      ]
     },
     "metadata": {},
     "output_type": "display_data"
    },
    {
     "data": {
      "text/plain": [
       "0: 384x640 15 cars, 1 bus, 3 trucks, 5 traffic lights, 916.0ms\n"
      ]
     },
     "metadata": {},
     "output_type": "display_data"
    },
    {
     "data": {
      "text/plain": [
       "Speed: 2.3ms preprocess, 916.0ms inference, 1.2ms postprocess per image at shape (1, 3, 384, 640)\n"
      ]
     },
     "metadata": {},
     "output_type": "display_data"
    },
    {
     "data": {
      "text/plain": [
       "\n"
      ]
     },
     "metadata": {},
     "output_type": "display_data"
    },
    {
     "data": {
      "text/plain": [
       "0: 384x640 16 cars, 1 bus, 2 trucks, 5 traffic lights, 915.8ms\n"
      ]
     },
     "metadata": {},
     "output_type": "display_data"
    },
    {
     "data": {
      "text/plain": [
       "Speed: 2.7ms preprocess, 915.8ms inference, 1.0ms postprocess per image at shape (1, 3, 384, 640)\n"
      ]
     },
     "metadata": {},
     "output_type": "display_data"
    },
    {
     "data": {
      "text/plain": [
       "\n"
      ]
     },
     "metadata": {},
     "output_type": "display_data"
    },
    {
     "data": {
      "text/plain": [
       "0: 384x640 15 cars, 1 bus, 4 trucks, 5 traffic lights, 922.9ms\n"
      ]
     },
     "metadata": {},
     "output_type": "display_data"
    },
    {
     "data": {
      "text/plain": [
       "Speed: 3.2ms preprocess, 922.9ms inference, 1.0ms postprocess per image at shape (1, 3, 384, 640)\n"
      ]
     },
     "metadata": {},
     "output_type": "display_data"
    },
    {
     "data": {
      "text/plain": [
       "\n"
      ]
     },
     "metadata": {},
     "output_type": "display_data"
    },
    {
     "data": {
      "text/plain": [
       "0: 384x640 14 cars, 1 bus, 3 trucks, 5 traffic lights, 923.2ms\n"
      ]
     },
     "metadata": {},
     "output_type": "display_data"
    },
    {
     "data": {
      "text/plain": [
       "Speed: 2.4ms preprocess, 923.2ms inference, 1.2ms postprocess per image at shape (1, 3, 384, 640)\n"
      ]
     },
     "metadata": {},
     "output_type": "display_data"
    },
    {
     "data": {
      "text/plain": [
       "\n"
      ]
     },
     "metadata": {},
     "output_type": "display_data"
    },
    {
     "data": {
      "text/plain": [
       "0: 384x640 15 cars, 1 bus, 2 trucks, 5 traffic lights, 909.2ms\n"
      ]
     },
     "metadata": {},
     "output_type": "display_data"
    },
    {
     "data": {
      "text/plain": [
       "Speed: 2.5ms preprocess, 909.2ms inference, 1.7ms postprocess per image at shape (1, 3, 384, 640)\n"
      ]
     },
     "metadata": {},
     "output_type": "display_data"
    },
    {
     "data": {
      "text/plain": [
       "\n"
      ]
     },
     "metadata": {},
     "output_type": "display_data"
    },
    {
     "data": {
      "text/plain": [
       "0: 384x640 17 cars, 1 bus, 3 trucks, 5 traffic lights, 909.3ms\n"
      ]
     },
     "metadata": {},
     "output_type": "display_data"
    },
    {
     "data": {
      "text/plain": [
       "Speed: 3.5ms preprocess, 909.3ms inference, 1.0ms postprocess per image at shape (1, 3, 384, 640)\n"
      ]
     },
     "metadata": {},
     "output_type": "display_data"
    },
    {
     "data": {
      "text/plain": [
       "\n"
      ]
     },
     "metadata": {},
     "output_type": "display_data"
    },
    {
     "data": {
      "text/plain": [
       "0: 384x640 18 cars, 1 bus, 2 trucks, 5 traffic lights, 914.5ms\n"
      ]
     },
     "metadata": {},
     "output_type": "display_data"
    },
    {
     "data": {
      "text/plain": [
       "Speed: 3.0ms preprocess, 914.5ms inference, 1.3ms postprocess per image at shape (1, 3, 384, 640)\n"
      ]
     },
     "metadata": {},
     "output_type": "display_data"
    },
    {
     "data": {
      "text/plain": [
       "\n"
      ]
     },
     "metadata": {},
     "output_type": "display_data"
    },
    {
     "data": {
      "text/plain": [
       "0: 384x640 18 cars, 1 bus, 2 trucks, 5 traffic lights, 902.6ms\n"
      ]
     },
     "metadata": {},
     "output_type": "display_data"
    },
    {
     "data": {
      "text/plain": [
       "Speed: 12.7ms preprocess, 902.6ms inference, 1.6ms postprocess per image at shape (1, 3, 384, 640)\n"
      ]
     },
     "metadata": {},
     "output_type": "display_data"
    },
    {
     "data": {
      "text/plain": [
       "\n"
      ]
     },
     "metadata": {},
     "output_type": "display_data"
    },
    {
     "data": {
      "text/plain": [
       "0: 384x640 18 cars, 2 trucks, 5 traffic lights, 934.6ms\n"
      ]
     },
     "metadata": {},
     "output_type": "display_data"
    },
    {
     "data": {
      "text/plain": [
       "Speed: 2.1ms preprocess, 934.6ms inference, 1.0ms postprocess per image at shape (1, 3, 384, 640)\n"
      ]
     },
     "metadata": {},
     "output_type": "display_data"
    },
    {
     "data": {
      "text/plain": [
       "\n"
      ]
     },
     "metadata": {},
     "output_type": "display_data"
    },
    {
     "data": {
      "text/plain": [
       "0: 384x640 19 cars, 1 truck, 5 traffic lights, 913.7ms\n"
      ]
     },
     "metadata": {},
     "output_type": "display_data"
    },
    {
     "data": {
      "text/plain": [
       "Speed: 2.2ms preprocess, 913.7ms inference, 0.9ms postprocess per image at shape (1, 3, 384, 640)\n"
      ]
     },
     "metadata": {},
     "output_type": "display_data"
    },
    {
     "data": {
      "text/plain": [
       "\n"
      ]
     },
     "metadata": {},
     "output_type": "display_data"
    },
    {
     "data": {
      "text/plain": [
       "0: 384x640 17 cars, 1 truck, 5 traffic lights, 915.1ms\n"
      ]
     },
     "metadata": {},
     "output_type": "display_data"
    },
    {
     "data": {
      "text/plain": [
       "Speed: 3.3ms preprocess, 915.1ms inference, 0.9ms postprocess per image at shape (1, 3, 384, 640)\n"
      ]
     },
     "metadata": {},
     "output_type": "display_data"
    },
    {
     "data": {
      "text/plain": [
       "\n"
      ]
     },
     "metadata": {},
     "output_type": "display_data"
    },
    {
     "data": {
      "text/plain": [
       "0: 384x640 15 cars, 1 truck, 5 traffic lights, 928.5ms\n"
      ]
     },
     "metadata": {},
     "output_type": "display_data"
    },
    {
     "data": {
      "text/plain": [
       "Speed: 2.4ms preprocess, 928.5ms inference, 1.9ms postprocess per image at shape (1, 3, 384, 640)\n"
      ]
     },
     "metadata": {},
     "output_type": "display_data"
    },
    {
     "data": {
      "text/plain": [
       "\n"
      ]
     },
     "metadata": {},
     "output_type": "display_data"
    },
    {
     "data": {
      "text/plain": [
       "0: 384x640 12 cars, 2 trucks, 5 traffic lights, 924.7ms\n"
      ]
     },
     "metadata": {},
     "output_type": "display_data"
    },
    {
     "data": {
      "text/plain": [
       "Speed: 2.2ms preprocess, 924.7ms inference, 1.1ms postprocess per image at shape (1, 3, 384, 640)\n"
      ]
     },
     "metadata": {},
     "output_type": "display_data"
    },
    {
     "data": {
      "text/plain": [
       "\n"
      ]
     },
     "metadata": {},
     "output_type": "display_data"
    },
    {
     "data": {
      "text/plain": [
       "0: 384x640 10 cars, 1 truck, 5 traffic lights, 902.7ms\n"
      ]
     },
     "metadata": {},
     "output_type": "display_data"
    },
    {
     "data": {
      "text/plain": [
       "Speed: 2.5ms preprocess, 902.7ms inference, 1.1ms postprocess per image at shape (1, 3, 384, 640)\n"
      ]
     },
     "metadata": {},
     "output_type": "display_data"
    },
    {
     "data": {
      "text/plain": [
       "\n"
      ]
     },
     "metadata": {},
     "output_type": "display_data"
    },
    {
     "data": {
      "text/plain": [
       "0: 384x640 10 cars, 3 trucks, 5 traffic lights, 932.2ms\n"
      ]
     },
     "metadata": {},
     "output_type": "display_data"
    },
    {
     "data": {
      "text/plain": [
       "Speed: 2.5ms preprocess, 932.2ms inference, 1.3ms postprocess per image at shape (1, 3, 384, 640)\n"
      ]
     },
     "metadata": {},
     "output_type": "display_data"
    },
    {
     "data": {
      "text/plain": [
       "\n"
      ]
     },
     "metadata": {},
     "output_type": "display_data"
    },
    {
     "data": {
      "text/plain": [
       "0: 384x640 12 cars, 1 bus, 2 trucks, 5 traffic lights, 895.8ms\n"
      ]
     },
     "metadata": {},
     "output_type": "display_data"
    },
    {
     "data": {
      "text/plain": [
       "Speed: 2.3ms preprocess, 895.8ms inference, 1.0ms postprocess per image at shape (1, 3, 384, 640)\n"
      ]
     },
     "metadata": {},
     "output_type": "display_data"
    },
    {
     "data": {
      "text/plain": [
       "\n"
      ]
     },
     "metadata": {},
     "output_type": "display_data"
    },
    {
     "data": {
      "text/plain": [
       "0: 384x640 14 cars, 1 bus, 2 trucks, 3 traffic lights, 903.6ms\n"
      ]
     },
     "metadata": {},
     "output_type": "display_data"
    },
    {
     "data": {
      "text/plain": [
       "Speed: 2.1ms preprocess, 903.6ms inference, 0.9ms postprocess per image at shape (1, 3, 384, 640)\n"
      ]
     },
     "metadata": {},
     "output_type": "display_data"
    },
    {
     "data": {
      "text/plain": [
       "\n"
      ]
     },
     "metadata": {},
     "output_type": "display_data"
    },
    {
     "data": {
      "text/plain": [
       "0: 384x640 13 cars, 1 bus, 2 trucks, 4 traffic lights, 905.2ms\n"
      ]
     },
     "metadata": {},
     "output_type": "display_data"
    },
    {
     "data": {
      "text/plain": [
       "Speed: 2.4ms preprocess, 905.2ms inference, 1.1ms postprocess per image at shape (1, 3, 384, 640)\n"
      ]
     },
     "metadata": {},
     "output_type": "display_data"
    },
    {
     "data": {
      "text/plain": [
       "\n"
      ]
     },
     "metadata": {},
     "output_type": "display_data"
    },
    {
     "data": {
      "text/plain": [
       "0: 384x640 13 cars, 1 bus, 2 trucks, 4 traffic lights, 919.1ms\n"
      ]
     },
     "metadata": {},
     "output_type": "display_data"
    },
    {
     "data": {
      "text/plain": [
       "Speed: 2.7ms preprocess, 919.1ms inference, 1.1ms postprocess per image at shape (1, 3, 384, 640)\n"
      ]
     },
     "metadata": {},
     "output_type": "display_data"
    },
    {
     "data": {
      "text/plain": [
       "\n"
      ]
     },
     "metadata": {},
     "output_type": "display_data"
    },
    {
     "data": {
      "text/plain": [
       "0: 384x640 8 cars, 2 buss, 3 trucks, 4 traffic lights, 923.2ms\n"
      ]
     },
     "metadata": {},
     "output_type": "display_data"
    },
    {
     "data": {
      "text/plain": [
       "Speed: 2.7ms preprocess, 923.2ms inference, 2.4ms postprocess per image at shape (1, 3, 384, 640)\n"
      ]
     },
     "metadata": {},
     "output_type": "display_data"
    },
    {
     "data": {
      "text/plain": [
       "\n"
      ]
     },
     "metadata": {},
     "output_type": "display_data"
    },
    {
     "data": {
      "text/plain": [
       "0: 384x640 11 cars, 2 buss, 3 trucks, 4 traffic lights, 911.0ms\n"
      ]
     },
     "metadata": {},
     "output_type": "display_data"
    },
    {
     "data": {
      "text/plain": [
       "Speed: 2.4ms preprocess, 911.0ms inference, 0.9ms postprocess per image at shape (1, 3, 384, 640)\n"
      ]
     },
     "metadata": {},
     "output_type": "display_data"
    },
    {
     "data": {
      "text/plain": [
       "\n"
      ]
     },
     "metadata": {},
     "output_type": "display_data"
    },
    {
     "data": {
      "text/plain": [
       "0: 384x640 11 cars, 2 buss, 2 trucks, 4 traffic lights, 920.5ms\n"
      ]
     },
     "metadata": {},
     "output_type": "display_data"
    },
    {
     "data": {
      "text/plain": [
       "Speed: 2.1ms preprocess, 920.5ms inference, 1.0ms postprocess per image at shape (1, 3, 384, 640)\n"
      ]
     },
     "metadata": {},
     "output_type": "display_data"
    },
    {
     "data": {
      "text/plain": [
       "\n"
      ]
     },
     "metadata": {},
     "output_type": "display_data"
    },
    {
     "data": {
      "text/plain": [
       "0: 384x640 13 cars, 2 buss, 1 truck, 4 traffic lights, 911.0ms\n"
      ]
     },
     "metadata": {},
     "output_type": "display_data"
    },
    {
     "data": {
      "text/plain": [
       "Speed: 2.4ms preprocess, 911.0ms inference, 0.9ms postprocess per image at shape (1, 3, 384, 640)\n"
      ]
     },
     "metadata": {},
     "output_type": "display_data"
    },
    {
     "data": {
      "text/plain": [
       "\n"
      ]
     },
     "metadata": {},
     "output_type": "display_data"
    },
    {
     "data": {
      "text/plain": [
       "0: 384x640 10 cars, 2 buss, 3 trucks, 4 traffic lights, 886.8ms\n"
      ]
     },
     "metadata": {},
     "output_type": "display_data"
    },
    {
     "data": {
      "text/plain": [
       "Speed: 2.0ms preprocess, 886.8ms inference, 1.3ms postprocess per image at shape (1, 3, 384, 640)\n"
      ]
     },
     "metadata": {},
     "output_type": "display_data"
    },
    {
     "data": {
      "text/plain": [
       "\n"
      ]
     },
     "metadata": {},
     "output_type": "display_data"
    },
    {
     "data": {
      "text/plain": [
       "0: 384x640 11 cars, 2 buss, 2 trucks, 3 traffic lights, 914.5ms\n"
      ]
     },
     "metadata": {},
     "output_type": "display_data"
    },
    {
     "data": {
      "text/plain": [
       "Speed: 3.1ms preprocess, 914.5ms inference, 1.0ms postprocess per image at shape (1, 3, 384, 640)\n"
      ]
     },
     "metadata": {},
     "output_type": "display_data"
    },
    {
     "data": {
      "text/plain": [
       "\n"
      ]
     },
     "metadata": {},
     "output_type": "display_data"
    },
    {
     "data": {
      "text/plain": [
       "0: 384x640 11 cars, 2 buss, 2 trucks, 3 traffic lights, 905.3ms\n"
      ]
     },
     "metadata": {},
     "output_type": "display_data"
    },
    {
     "data": {
      "text/plain": [
       "Speed: 1.9ms preprocess, 905.3ms inference, 1.6ms postprocess per image at shape (1, 3, 384, 640)\n"
      ]
     },
     "metadata": {},
     "output_type": "display_data"
    },
    {
     "data": {
      "text/plain": [
       "\n"
      ]
     },
     "metadata": {},
     "output_type": "display_data"
    },
    {
     "data": {
      "text/plain": [
       "0: 384x640 12 cars, 1 bus, 4 trucks, 3 traffic lights, 906.9ms\n"
      ]
     },
     "metadata": {},
     "output_type": "display_data"
    },
    {
     "data": {
      "text/plain": [
       "Speed: 2.1ms preprocess, 906.9ms inference, 1.1ms postprocess per image at shape (1, 3, 384, 640)\n"
      ]
     },
     "metadata": {},
     "output_type": "display_data"
    },
    {
     "data": {
      "text/plain": [
       "\n"
      ]
     },
     "metadata": {},
     "output_type": "display_data"
    },
    {
     "data": {
      "text/plain": [
       "0: 384x640 11 cars, 1 bus, 4 trucks, 3 traffic lights, 911.5ms\n"
      ]
     },
     "metadata": {},
     "output_type": "display_data"
    },
    {
     "data": {
      "text/plain": [
       "Speed: 3.4ms preprocess, 911.5ms inference, 1.1ms postprocess per image at shape (1, 3, 384, 640)\n"
      ]
     },
     "metadata": {},
     "output_type": "display_data"
    },
    {
     "data": {
      "text/plain": [
       "\n"
      ]
     },
     "metadata": {},
     "output_type": "display_data"
    },
    {
     "data": {
      "text/plain": [
       "0: 384x640 11 cars, 1 bus, 4 trucks, 3 traffic lights, 904.3ms\n"
      ]
     },
     "metadata": {},
     "output_type": "display_data"
    },
    {
     "data": {
      "text/plain": [
       "Speed: 3.0ms preprocess, 904.3ms inference, 1.0ms postprocess per image at shape (1, 3, 384, 640)\n"
      ]
     },
     "metadata": {},
     "output_type": "display_data"
    },
    {
     "data": {
      "text/plain": [
       "\n"
      ]
     },
     "metadata": {},
     "output_type": "display_data"
    },
    {
     "data": {
      "text/plain": [
       "0: 384x640 11 cars, 1 bus, 4 trucks, 3 traffic lights, 930.3ms\n"
      ]
     },
     "metadata": {},
     "output_type": "display_data"
    },
    {
     "data": {
      "text/plain": [
       "Speed: 2.4ms preprocess, 930.3ms inference, 1.4ms postprocess per image at shape (1, 3, 384, 640)\n"
      ]
     },
     "metadata": {},
     "output_type": "display_data"
    },
    {
     "data": {
      "text/plain": [
       "\n"
      ]
     },
     "metadata": {},
     "output_type": "display_data"
    },
    {
     "data": {
      "text/plain": [
       "0: 384x640 12 cars, 1 bus, 4 trucks, 3 traffic lights, 893.9ms\n"
      ]
     },
     "metadata": {},
     "output_type": "display_data"
    },
    {
     "data": {
      "text/plain": [
       "Speed: 3.9ms preprocess, 893.9ms inference, 1.0ms postprocess per image at shape (1, 3, 384, 640)\n"
      ]
     },
     "metadata": {},
     "output_type": "display_data"
    },
    {
     "data": {
      "text/plain": [
       "\n"
      ]
     },
     "metadata": {},
     "output_type": "display_data"
    },
    {
     "data": {
      "text/plain": [
       "0: 384x640 10 cars, 1 bus, 5 trucks, 3 traffic lights, 893.5ms\n"
      ]
     },
     "metadata": {},
     "output_type": "display_data"
    },
    {
     "data": {
      "text/plain": [
       "Speed: 3.4ms preprocess, 893.5ms inference, 0.9ms postprocess per image at shape (1, 3, 384, 640)\n"
      ]
     },
     "metadata": {},
     "output_type": "display_data"
    },
    {
     "data": {
      "text/plain": [
       "\n"
      ]
     },
     "metadata": {},
     "output_type": "display_data"
    },
    {
     "data": {
      "text/plain": [
       "0: 384x640 12 cars, 1 bus, 5 trucks, 3 traffic lights, 914.0ms\n"
      ]
     },
     "metadata": {},
     "output_type": "display_data"
    },
    {
     "data": {
      "text/plain": [
       "Speed: 4.2ms preprocess, 914.0ms inference, 1.0ms postprocess per image at shape (1, 3, 384, 640)\n"
      ]
     },
     "metadata": {},
     "output_type": "display_data"
    },
    {
     "data": {
      "text/plain": [
       "\n"
      ]
     },
     "metadata": {},
     "output_type": "display_data"
    },
    {
     "data": {
      "text/plain": [
       "0: 384x640 12 cars, 1 bus, 6 trucks, 3 traffic lights, 918.0ms\n"
      ]
     },
     "metadata": {},
     "output_type": "display_data"
    },
    {
     "data": {
      "text/plain": [
       "Speed: 3.5ms preprocess, 918.0ms inference, 0.9ms postprocess per image at shape (1, 3, 384, 640)\n"
      ]
     },
     "metadata": {},
     "output_type": "display_data"
    },
    {
     "data": {
      "text/plain": [
       "\n"
      ]
     },
     "metadata": {},
     "output_type": "display_data"
    },
    {
     "data": {
      "text/plain": [
       "0: 384x640 14 cars, 2 buss, 4 trucks, 3 traffic lights, 911.0ms\n"
      ]
     },
     "metadata": {},
     "output_type": "display_data"
    },
    {
     "data": {
      "text/plain": [
       "Speed: 2.1ms preprocess, 911.0ms inference, 1.2ms postprocess per image at shape (1, 3, 384, 640)\n"
      ]
     },
     "metadata": {},
     "output_type": "display_data"
    },
    {
     "data": {
      "text/plain": [
       "\n"
      ]
     },
     "metadata": {},
     "output_type": "display_data"
    },
    {
     "data": {
      "text/plain": [
       "0: 384x640 13 cars, 1 bus, 6 trucks, 3 traffic lights, 913.1ms\n"
      ]
     },
     "metadata": {},
     "output_type": "display_data"
    },
    {
     "data": {
      "text/plain": [
       "Speed: 2.2ms preprocess, 913.1ms inference, 0.8ms postprocess per image at shape (1, 3, 384, 640)\n"
      ]
     },
     "metadata": {},
     "output_type": "display_data"
    },
    {
     "data": {
      "text/plain": [
       "\n"
      ]
     },
     "metadata": {},
     "output_type": "display_data"
    },
    {
     "data": {
      "text/plain": [
       "0: 384x640 14 cars, 2 buss, 4 trucks, 3 traffic lights, 911.1ms\n"
      ]
     },
     "metadata": {},
     "output_type": "display_data"
    },
    {
     "data": {
      "text/plain": [
       "Speed: 3.2ms preprocess, 911.1ms inference, 0.8ms postprocess per image at shape (1, 3, 384, 640)\n"
      ]
     },
     "metadata": {},
     "output_type": "display_data"
    },
    {
     "data": {
      "text/plain": [
       "\n"
      ]
     },
     "metadata": {},
     "output_type": "display_data"
    },
    {
     "data": {
      "text/plain": [
       "0: 384x640 13 cars, 2 buss, 4 trucks, 3 traffic lights, 899.8ms\n"
      ]
     },
     "metadata": {},
     "output_type": "display_data"
    },
    {
     "data": {
      "text/plain": [
       "Speed: 3.1ms preprocess, 899.8ms inference, 0.9ms postprocess per image at shape (1, 3, 384, 640)\n"
      ]
     },
     "metadata": {},
     "output_type": "display_data"
    },
    {
     "data": {
      "text/plain": [
       "\n"
      ]
     },
     "metadata": {},
     "output_type": "display_data"
    },
    {
     "data": {
      "text/plain": [
       "0: 384x640 15 cars, 1 bus, 2 trucks, 3 traffic lights, 925.4ms\n"
      ]
     },
     "metadata": {},
     "output_type": "display_data"
    },
    {
     "data": {
      "text/plain": [
       "Speed: 2.3ms preprocess, 925.4ms inference, 1.1ms postprocess per image at shape (1, 3, 384, 640)\n"
      ]
     },
     "metadata": {},
     "output_type": "display_data"
    },
    {
     "data": {
      "text/plain": [
       "\n"
      ]
     },
     "metadata": {},
     "output_type": "display_data"
    },
    {
     "data": {
      "text/plain": [
       "0: 384x640 14 cars, 1 bus, 3 trucks, 3 traffic lights, 951.7ms\n"
      ]
     },
     "metadata": {},
     "output_type": "display_data"
    },
    {
     "data": {
      "text/plain": [
       "Speed: 2.1ms preprocess, 951.7ms inference, 1.1ms postprocess per image at shape (1, 3, 384, 640)\n"
      ]
     },
     "metadata": {},
     "output_type": "display_data"
    },
    {
     "data": {
      "text/plain": [
       "\n"
      ]
     },
     "metadata": {},
     "output_type": "display_data"
    },
    {
     "data": {
      "text/plain": [
       "0: 384x640 16 cars, 1 bus, 2 trucks, 3 traffic lights, 923.9ms\n"
      ]
     },
     "metadata": {},
     "output_type": "display_data"
    },
    {
     "data": {
      "text/plain": [
       "Speed: 2.1ms preprocess, 923.9ms inference, 0.9ms postprocess per image at shape (1, 3, 384, 640)\n"
      ]
     },
     "metadata": {},
     "output_type": "display_data"
    },
    {
     "data": {
      "text/plain": [
       "\n"
      ]
     },
     "metadata": {},
     "output_type": "display_data"
    },
    {
     "data": {
      "text/plain": [
       "0: 384x640 17 cars, 1 bus, 2 trucks, 3 traffic lights, 903.7ms\n"
      ]
     },
     "metadata": {},
     "output_type": "display_data"
    },
    {
     "data": {
      "text/plain": [
       "Speed: 2.1ms preprocess, 903.7ms inference, 1.0ms postprocess per image at shape (1, 3, 384, 640)\n"
      ]
     },
     "metadata": {},
     "output_type": "display_data"
    },
    {
     "data": {
      "text/plain": [
       "\n"
      ]
     },
     "metadata": {},
     "output_type": "display_data"
    },
    {
     "data": {
      "text/plain": [
       "0: 384x640 18 cars, 1 bus, 1 truck, 3 traffic lights, 931.6ms\n"
      ]
     },
     "metadata": {},
     "output_type": "display_data"
    },
    {
     "data": {
      "text/plain": [
       "Speed: 5.4ms preprocess, 931.6ms inference, 1.2ms postprocess per image at shape (1, 3, 384, 640)\n"
      ]
     },
     "metadata": {},
     "output_type": "display_data"
    },
    {
     "data": {
      "text/plain": [
       "\n"
      ]
     },
     "metadata": {},
     "output_type": "display_data"
    },
    {
     "data": {
      "text/plain": [
       "0: 384x640 17 cars, 1 bus, 1 truck, 3 traffic lights, 902.1ms\n"
      ]
     },
     "metadata": {},
     "output_type": "display_data"
    },
    {
     "data": {
      "text/plain": [
       "Speed: 2.6ms preprocess, 902.1ms inference, 0.9ms postprocess per image at shape (1, 3, 384, 640)\n"
      ]
     },
     "metadata": {},
     "output_type": "display_data"
    },
    {
     "data": {
      "text/plain": [
       "\n"
      ]
     },
     "metadata": {},
     "output_type": "display_data"
    },
    {
     "data": {
      "text/plain": [
       "0: 384x640 18 cars, 1 bus, 1 truck, 3 traffic lights, 904.1ms\n"
      ]
     },
     "metadata": {},
     "output_type": "display_data"
    },
    {
     "data": {
      "text/plain": [
       "Speed: 2.2ms preprocess, 904.1ms inference, 0.9ms postprocess per image at shape (1, 3, 384, 640)\n"
      ]
     },
     "metadata": {},
     "output_type": "display_data"
    },
    {
     "data": {
      "text/plain": [
       "\n"
      ]
     },
     "metadata": {},
     "output_type": "display_data"
    },
    {
     "data": {
      "text/plain": [
       "0: 384x640 14 cars, 1 bus, 4 trucks, 3 traffic lights, 904.4ms\n"
      ]
     },
     "metadata": {},
     "output_type": "display_data"
    },
    {
     "data": {
      "text/plain": [
       "Speed: 2.1ms preprocess, 904.4ms inference, 1.7ms postprocess per image at shape (1, 3, 384, 640)\n"
      ]
     },
     "metadata": {},
     "output_type": "display_data"
    },
    {
     "data": {
      "text/plain": [
       "\n"
      ]
     },
     "metadata": {},
     "output_type": "display_data"
    },
    {
     "data": {
      "text/plain": [
       "0: 384x640 13 cars, 1 bus, 3 trucks, 3 traffic lights, 914.6ms\n"
      ]
     },
     "metadata": {},
     "output_type": "display_data"
    },
    {
     "data": {
      "text/plain": [
       "Speed: 2.5ms preprocess, 914.6ms inference, 0.9ms postprocess per image at shape (1, 3, 384, 640)\n"
      ]
     },
     "metadata": {},
     "output_type": "display_data"
    },
    {
     "data": {
      "text/plain": [
       "\n"
      ]
     },
     "metadata": {},
     "output_type": "display_data"
    },
    {
     "data": {
      "text/plain": [
       "0: 384x640 13 cars, 1 bus, 2 trucks, 2 traffic lights, 905.6ms\n"
      ]
     },
     "metadata": {},
     "output_type": "display_data"
    },
    {
     "data": {
      "text/plain": [
       "Speed: 10.9ms preprocess, 905.6ms inference, 0.9ms postprocess per image at shape (1, 3, 384, 640)\n"
      ]
     },
     "metadata": {},
     "output_type": "display_data"
    },
    {
     "data": {
      "text/plain": [
       "\n"
      ]
     },
     "metadata": {},
     "output_type": "display_data"
    },
    {
     "data": {
      "text/plain": [
       "0: 384x640 13 cars, 1 bus, 1 truck, 2 traffic lights, 913.9ms\n"
      ]
     },
     "metadata": {},
     "output_type": "display_data"
    },
    {
     "data": {
      "text/plain": [
       "Speed: 2.1ms preprocess, 913.9ms inference, 0.9ms postprocess per image at shape (1, 3, 384, 640)\n"
      ]
     },
     "metadata": {},
     "output_type": "display_data"
    },
    {
     "data": {
      "text/plain": [
       "\n"
      ]
     },
     "metadata": {},
     "output_type": "display_data"
    },
    {
     "data": {
      "text/plain": [
       "0: 384x640 12 cars, 1 bus, 2 traffic lights, 910.5ms\n"
      ]
     },
     "metadata": {},
     "output_type": "display_data"
    },
    {
     "data": {
      "text/plain": [
       "Speed: 2.4ms preprocess, 910.5ms inference, 1.0ms postprocess per image at shape (1, 3, 384, 640)\n"
      ]
     },
     "metadata": {},
     "output_type": "display_data"
    },
    {
     "data": {
      "text/plain": [
       "\n"
      ]
     },
     "metadata": {},
     "output_type": "display_data"
    },
    {
     "data": {
      "text/plain": [
       "0: 384x640 13 cars, 1 bus, 1 truck, 2 traffic lights, 911.2ms\n"
      ]
     },
     "metadata": {},
     "output_type": "display_data"
    },
    {
     "data": {
      "text/plain": [
       "Speed: 2.1ms preprocess, 911.2ms inference, 1.4ms postprocess per image at shape (1, 3, 384, 640)\n"
      ]
     },
     "metadata": {},
     "output_type": "display_data"
    },
    {
     "data": {
      "text/plain": [
       "\n"
      ]
     },
     "metadata": {},
     "output_type": "display_data"
    },
    {
     "data": {
      "text/plain": [
       "0: 384x640 13 cars, 1 bus, 1 truck, 2 traffic lights, 918.3ms\n"
      ]
     },
     "metadata": {},
     "output_type": "display_data"
    },
    {
     "data": {
      "text/plain": [
       "Speed: 3.0ms preprocess, 918.3ms inference, 1.1ms postprocess per image at shape (1, 3, 384, 640)\n"
      ]
     },
     "metadata": {},
     "output_type": "display_data"
    },
    {
     "data": {
      "text/plain": [
       "\n"
      ]
     },
     "metadata": {},
     "output_type": "display_data"
    },
    {
     "data": {
      "text/plain": [
       "0: 384x640 10 cars, 1 bus, 2 trucks, 2 traffic lights, 917.1ms\n"
      ]
     },
     "metadata": {},
     "output_type": "display_data"
    },
    {
     "data": {
      "text/plain": [
       "Speed: 3.6ms preprocess, 917.1ms inference, 1.0ms postprocess per image at shape (1, 3, 384, 640)\n"
      ]
     },
     "metadata": {},
     "output_type": "display_data"
    },
    {
     "data": {
      "text/plain": [
       "\n"
      ]
     },
     "metadata": {},
     "output_type": "display_data"
    },
    {
     "data": {
      "text/plain": [
       "0: 384x640 12 cars, 1 bus, 1 truck, 2 traffic lights, 897.4ms\n"
      ]
     },
     "metadata": {},
     "output_type": "display_data"
    },
    {
     "data": {
      "text/plain": [
       "Speed: 2.0ms preprocess, 897.4ms inference, 0.9ms postprocess per image at shape (1, 3, 384, 640)\n"
      ]
     },
     "metadata": {},
     "output_type": "display_data"
    },
    {
     "data": {
      "text/plain": [
       "\n"
      ]
     },
     "metadata": {},
     "output_type": "display_data"
    },
    {
     "data": {
      "text/plain": [
       "0: 384x640 11 cars, 1 bus, 1 truck, 2 traffic lights, 903.5ms\n"
      ]
     },
     "metadata": {},
     "output_type": "display_data"
    },
    {
     "data": {
      "text/plain": [
       "Speed: 2.1ms preprocess, 903.5ms inference, 1.0ms postprocess per image at shape (1, 3, 384, 640)\n"
      ]
     },
     "metadata": {},
     "output_type": "display_data"
    },
    {
     "data": {
      "text/plain": [
       "\n"
      ]
     },
     "metadata": {},
     "output_type": "display_data"
    },
    {
     "data": {
      "text/plain": [
       "0: 384x640 12 cars, 1 bus, 1 truck, 2 traffic lights, 927.4ms\n"
      ]
     },
     "metadata": {},
     "output_type": "display_data"
    },
    {
     "data": {
      "text/plain": [
       "Speed: 2.7ms preprocess, 927.4ms inference, 1.0ms postprocess per image at shape (1, 3, 384, 640)\n"
      ]
     },
     "metadata": {},
     "output_type": "display_data"
    },
    {
     "data": {
      "text/plain": [
       "\n"
      ]
     },
     "metadata": {},
     "output_type": "display_data"
    },
    {
     "data": {
      "text/plain": [
       "0: 384x640 16 cars, 1 bus, 2 traffic lights, 924.0ms\n"
      ]
     },
     "metadata": {},
     "output_type": "display_data"
    },
    {
     "data": {
      "text/plain": [
       "Speed: 2.4ms preprocess, 924.0ms inference, 1.3ms postprocess per image at shape (1, 3, 384, 640)\n"
      ]
     },
     "metadata": {},
     "output_type": "display_data"
    },
    {
     "data": {
      "text/plain": [
       "\n"
      ]
     },
     "metadata": {},
     "output_type": "display_data"
    },
    {
     "data": {
      "text/plain": [
       "0: 384x640 16 cars, 1 bus, 1 truck, 2 traffic lights, 925.2ms\n"
      ]
     },
     "metadata": {},
     "output_type": "display_data"
    },
    {
     "data": {
      "text/plain": [
       "Speed: 3.2ms preprocess, 925.2ms inference, 0.9ms postprocess per image at shape (1, 3, 384, 640)\n"
      ]
     },
     "metadata": {},
     "output_type": "display_data"
    },
    {
     "data": {
      "text/plain": [
       "\n"
      ]
     },
     "metadata": {},
     "output_type": "display_data"
    },
    {
     "data": {
      "text/plain": [
       "0: 384x640 15 cars, 1 bus, 2 traffic lights, 902.6ms\n"
      ]
     },
     "metadata": {},
     "output_type": "display_data"
    },
    {
     "data": {
      "text/plain": [
       "Speed: 2.5ms preprocess, 902.6ms inference, 1.6ms postprocess per image at shape (1, 3, 384, 640)\n"
      ]
     },
     "metadata": {},
     "output_type": "display_data"
    },
    {
     "data": {
      "text/plain": [
       "\n"
      ]
     },
     "metadata": {},
     "output_type": "display_data"
    },
    {
     "data": {
      "text/plain": [
       "0: 384x640 14 cars, 1 bus, 1 truck, 2 traffic lights, 895.0ms\n"
      ]
     },
     "metadata": {},
     "output_type": "display_data"
    },
    {
     "data": {
      "text/plain": [
       "Speed: 2.5ms preprocess, 895.0ms inference, 1.3ms postprocess per image at shape (1, 3, 384, 640)\n"
      ]
     },
     "metadata": {},
     "output_type": "display_data"
    },
    {
     "data": {
      "text/plain": [
       "\n"
      ]
     },
     "metadata": {},
     "output_type": "display_data"
    },
    {
     "data": {
      "text/plain": [
       "0: 384x640 16 cars, 1 bus, 1 truck, 2 traffic lights, 916.8ms\n"
      ]
     },
     "metadata": {},
     "output_type": "display_data"
    },
    {
     "data": {
      "text/plain": [
       "Speed: 2.8ms preprocess, 916.8ms inference, 1.2ms postprocess per image at shape (1, 3, 384, 640)\n"
      ]
     },
     "metadata": {},
     "output_type": "display_data"
    },
    {
     "data": {
      "text/plain": [
       "\n"
      ]
     },
     "metadata": {},
     "output_type": "display_data"
    },
    {
     "data": {
      "text/plain": [
       "0: 384x640 15 cars, 1 bus, 2 trucks, 2 traffic lights, 916.1ms\n"
      ]
     },
     "metadata": {},
     "output_type": "display_data"
    },
    {
     "data": {
      "text/plain": [
       "Speed: 3.2ms preprocess, 916.1ms inference, 1.3ms postprocess per image at shape (1, 3, 384, 640)\n"
      ]
     },
     "metadata": {},
     "output_type": "display_data"
    },
    {
     "data": {
      "text/plain": [
       "\n"
      ]
     },
     "metadata": {},
     "output_type": "display_data"
    },
    {
     "data": {
      "text/plain": [
       "0: 384x640 16 cars, 1 bus, 1 truck, 2 traffic lights, 910.3ms\n"
      ]
     },
     "metadata": {},
     "output_type": "display_data"
    },
    {
     "data": {
      "text/plain": [
       "Speed: 2.1ms preprocess, 910.3ms inference, 1.2ms postprocess per image at shape (1, 3, 384, 640)\n"
      ]
     },
     "metadata": {},
     "output_type": "display_data"
    },
    {
     "data": {
      "text/plain": [
       "\n"
      ]
     },
     "metadata": {},
     "output_type": "display_data"
    },
    {
     "data": {
      "text/plain": [
       "0: 384x640 18 cars, 1 bus, 2 trucks, 2 traffic lights, 882.6ms\n"
      ]
     },
     "metadata": {},
     "output_type": "display_data"
    },
    {
     "data": {
      "text/plain": [
       "Speed: 2.0ms preprocess, 882.6ms inference, 1.1ms postprocess per image at shape (1, 3, 384, 640)\n"
      ]
     },
     "metadata": {},
     "output_type": "display_data"
    },
    {
     "data": {
      "text/plain": [
       "\n"
      ]
     },
     "metadata": {},
     "output_type": "display_data"
    },
    {
     "data": {
      "text/plain": [
       "0: 384x640 14 cars, 1 bus, 3 trucks, 2 traffic lights, 913.8ms\n"
      ]
     },
     "metadata": {},
     "output_type": "display_data"
    },
    {
     "data": {
      "text/plain": [
       "Speed: 2.6ms preprocess, 913.8ms inference, 1.8ms postprocess per image at shape (1, 3, 384, 640)\n"
      ]
     },
     "metadata": {},
     "output_type": "display_data"
    },
    {
     "data": {
      "text/plain": [
       "\n"
      ]
     },
     "metadata": {},
     "output_type": "display_data"
    },
    {
     "data": {
      "text/plain": [
       "0: 384x640 16 cars, 2 traffic lights, 922.7ms\n"
      ]
     },
     "metadata": {},
     "output_type": "display_data"
    },
    {
     "data": {
      "text/plain": [
       "Speed: 2.6ms preprocess, 922.7ms inference, 1.4ms postprocess per image at shape (1, 3, 384, 640)\n"
      ]
     },
     "metadata": {},
     "output_type": "display_data"
    },
    {
     "data": {
      "text/plain": [
       "\n"
      ]
     },
     "metadata": {},
     "output_type": "display_data"
    },
    {
     "data": {
      "text/plain": [
       "0: 384x640 17 cars, 2 traffic lights, 912.1ms\n"
      ]
     },
     "metadata": {},
     "output_type": "display_data"
    },
    {
     "data": {
      "text/plain": [
       "Speed: 2.7ms preprocess, 912.1ms inference, 0.9ms postprocess per image at shape (1, 3, 384, 640)\n"
      ]
     },
     "metadata": {},
     "output_type": "display_data"
    },
    {
     "data": {
      "text/plain": [
       "\n"
      ]
     },
     "metadata": {},
     "output_type": "display_data"
    },
    {
     "data": {
      "text/plain": [
       "0: 384x640 15 cars, 1 truck, 2 traffic lights, 906.7ms\n"
      ]
     },
     "metadata": {},
     "output_type": "display_data"
    },
    {
     "data": {
      "text/plain": [
       "Speed: 2.3ms preprocess, 906.7ms inference, 1.0ms postprocess per image at shape (1, 3, 384, 640)\n"
      ]
     },
     "metadata": {},
     "output_type": "display_data"
    },
    {
     "data": {
      "text/plain": [
       "\n"
      ]
     },
     "metadata": {},
     "output_type": "display_data"
    },
    {
     "data": {
      "text/plain": [
       "0: 384x640 16 cars, 2 traffic lights, 905.7ms\n"
      ]
     },
     "metadata": {},
     "output_type": "display_data"
    },
    {
     "data": {
      "text/plain": [
       "Speed: 3.1ms preprocess, 905.7ms inference, 1.0ms postprocess per image at shape (1, 3, 384, 640)\n"
      ]
     },
     "metadata": {},
     "output_type": "display_data"
    },
    {
     "data": {
      "text/plain": [
       "\n"
      ]
     },
     "metadata": {},
     "output_type": "display_data"
    },
    {
     "data": {
      "text/plain": [
       "0: 384x640 14 cars, 2 traffic lights, 904.3ms\n"
      ]
     },
     "metadata": {},
     "output_type": "display_data"
    },
    {
     "data": {
      "text/plain": [
       "Speed: 3.7ms preprocess, 904.3ms inference, 0.9ms postprocess per image at shape (1, 3, 384, 640)\n"
      ]
     },
     "metadata": {},
     "output_type": "display_data"
    },
    {
     "data": {
      "text/plain": [
       "\n"
      ]
     },
     "metadata": {},
     "output_type": "display_data"
    },
    {
     "data": {
      "text/plain": [
       "0: 384x640 16 cars, 2 traffic lights, 926.5ms\n"
      ]
     },
     "metadata": {},
     "output_type": "display_data"
    },
    {
     "data": {
      "text/plain": [
       "Speed: 2.2ms preprocess, 926.5ms inference, 1.4ms postprocess per image at shape (1, 3, 384, 640)\n"
      ]
     },
     "metadata": {},
     "output_type": "display_data"
    },
    {
     "data": {
      "text/plain": [
       "\n"
      ]
     },
     "metadata": {},
     "output_type": "display_data"
    },
    {
     "data": {
      "text/plain": [
       "0: 384x640 15 cars, 1 bus, 1 truck, 2 traffic lights, 955.8ms\n"
      ]
     },
     "metadata": {},
     "output_type": "display_data"
    },
    {
     "data": {
      "text/plain": [
       "Speed: 2.0ms preprocess, 955.8ms inference, 2.2ms postprocess per image at shape (1, 3, 384, 640)\n"
      ]
     },
     "metadata": {},
     "output_type": "display_data"
    },
    {
     "data": {
      "text/plain": [
       "\n"
      ]
     },
     "metadata": {},
     "output_type": "display_data"
    },
    {
     "data": {
      "text/plain": [
       "0: 384x640 15 cars, 1 bus, 2 traffic lights, 933.4ms\n"
      ]
     },
     "metadata": {},
     "output_type": "display_data"
    },
    {
     "data": {
      "text/plain": [
       "Speed: 2.4ms preprocess, 933.4ms inference, 1.8ms postprocess per image at shape (1, 3, 384, 640)\n"
      ]
     },
     "metadata": {},
     "output_type": "display_data"
    },
    {
     "data": {
      "text/plain": [
       "\n"
      ]
     },
     "metadata": {},
     "output_type": "display_data"
    },
    {
     "data": {
      "text/plain": [
       "0: 384x640 14 cars, 1 bus, 1 truck, 2 traffic lights, 934.5ms\n"
      ]
     },
     "metadata": {},
     "output_type": "display_data"
    },
    {
     "data": {
      "text/plain": [
       "Speed: 2.5ms preprocess, 934.5ms inference, 1.8ms postprocess per image at shape (1, 3, 384, 640)\n"
      ]
     },
     "metadata": {},
     "output_type": "display_data"
    },
    {
     "data": {
      "text/plain": [
       "\n"
      ]
     },
     "metadata": {},
     "output_type": "display_data"
    },
    {
     "data": {
      "text/plain": [
       "0: 384x640 13 cars, 1 bus, 2 traffic lights, 928.9ms\n"
      ]
     },
     "metadata": {},
     "output_type": "display_data"
    },
    {
     "data": {
      "text/plain": [
       "Speed: 2.0ms preprocess, 928.9ms inference, 1.0ms postprocess per image at shape (1, 3, 384, 640)\n"
      ]
     },
     "metadata": {},
     "output_type": "display_data"
    },
    {
     "data": {
      "text/plain": [
       "\n"
      ]
     },
     "metadata": {},
     "output_type": "display_data"
    },
    {
     "data": {
      "text/plain": [
       "0: 384x640 11 cars, 1 bus, 1 truck, 2 traffic lights, 908.7ms\n"
      ]
     },
     "metadata": {},
     "output_type": "display_data"
    },
    {
     "data": {
      "text/plain": [
       "Speed: 2.5ms preprocess, 908.7ms inference, 0.8ms postprocess per image at shape (1, 3, 384, 640)\n"
      ]
     },
     "metadata": {},
     "output_type": "display_data"
    },
    {
     "data": {
      "text/plain": [
       "\n"
      ]
     },
     "metadata": {},
     "output_type": "display_data"
    },
    {
     "data": {
      "text/plain": [
       "0: 384x640 12 cars, 1 bus, 2 traffic lights, 931.6ms\n"
      ]
     },
     "metadata": {},
     "output_type": "display_data"
    },
    {
     "data": {
      "text/plain": [
       "Speed: 3.1ms preprocess, 931.6ms inference, 0.9ms postprocess per image at shape (1, 3, 384, 640)\n"
      ]
     },
     "metadata": {},
     "output_type": "display_data"
    },
    {
     "data": {
      "text/plain": [
       "\n"
      ]
     },
     "metadata": {},
     "output_type": "display_data"
    },
    {
     "data": {
      "text/plain": [
       "0: 384x640 12 cars, 1 bus, 2 traffic lights, 921.0ms\n"
      ]
     },
     "metadata": {},
     "output_type": "display_data"
    },
    {
     "data": {
      "text/plain": [
       "Speed: 2.2ms preprocess, 921.0ms inference, 0.8ms postprocess per image at shape (1, 3, 384, 640)\n"
      ]
     },
     "metadata": {},
     "output_type": "display_data"
    },
    {
     "data": {
      "text/plain": [
       "\n"
      ]
     },
     "metadata": {},
     "output_type": "display_data"
    },
    {
     "data": {
      "text/plain": [
       "0: 384x640 13 cars, 1 bus, 2 traffic lights, 900.5ms\n"
      ]
     },
     "metadata": {},
     "output_type": "display_data"
    },
    {
     "data": {
      "text/plain": [
       "Speed: 2.2ms preprocess, 900.5ms inference, 1.0ms postprocess per image at shape (1, 3, 384, 640)\n"
      ]
     },
     "metadata": {},
     "output_type": "display_data"
    },
    {
     "data": {
      "text/plain": [
       "\n"
      ]
     },
     "metadata": {},
     "output_type": "display_data"
    },
    {
     "data": {
      "text/plain": [
       "0: 384x640 12 cars, 1 bus, 2 traffic lights, 916.3ms\n"
      ]
     },
     "metadata": {},
     "output_type": "display_data"
    },
    {
     "data": {
      "text/plain": [
       "Speed: 2.2ms preprocess, 916.3ms inference, 1.3ms postprocess per image at shape (1, 3, 384, 640)\n"
      ]
     },
     "metadata": {},
     "output_type": "display_data"
    },
    {
     "data": {
      "text/plain": [
       "\n"
      ]
     },
     "metadata": {},
     "output_type": "display_data"
    },
    {
     "data": {
      "text/plain": [
       "0: 384x640 12 cars, 1 bus, 2 traffic lights, 903.8ms\n"
      ]
     },
     "metadata": {},
     "output_type": "display_data"
    },
    {
     "data": {
      "text/plain": [
       "Speed: 3.4ms preprocess, 903.8ms inference, 0.9ms postprocess per image at shape (1, 3, 384, 640)\n"
      ]
     },
     "metadata": {},
     "output_type": "display_data"
    },
    {
     "data": {
      "text/plain": [
       "\n"
      ]
     },
     "metadata": {},
     "output_type": "display_data"
    },
    {
     "data": {
      "text/plain": [
       "0: 384x640 12 cars, 1 bus, 2 traffic lights, 913.4ms\n"
      ]
     },
     "metadata": {},
     "output_type": "display_data"
    },
    {
     "data": {
      "text/plain": [
       "Speed: 2.1ms preprocess, 913.4ms inference, 0.9ms postprocess per image at shape (1, 3, 384, 640)\n"
      ]
     },
     "metadata": {},
     "output_type": "display_data"
    },
    {
     "data": {
      "text/plain": [
       "\n"
      ]
     },
     "metadata": {},
     "output_type": "display_data"
    },
    {
     "data": {
      "text/plain": [
       "0: 384x640 14 cars, 1 bus, 1 truck, 2 traffic lights, 902.7ms\n"
      ]
     },
     "metadata": {},
     "output_type": "display_data"
    },
    {
     "data": {
      "text/plain": [
       "Speed: 2.2ms preprocess, 902.7ms inference, 1.2ms postprocess per image at shape (1, 3, 384, 640)\n"
      ]
     },
     "metadata": {},
     "output_type": "display_data"
    },
    {
     "data": {
      "text/plain": [
       "\n"
      ]
     },
     "metadata": {},
     "output_type": "display_data"
    },
    {
     "data": {
      "text/plain": [
       "0: 384x640 12 cars, 1 bus, 2 trucks, 2 traffic lights, 912.4ms\n"
      ]
     },
     "metadata": {},
     "output_type": "display_data"
    },
    {
     "data": {
      "text/plain": [
       "Speed: 2.3ms preprocess, 912.4ms inference, 1.3ms postprocess per image at shape (1, 3, 384, 640)\n"
      ]
     },
     "metadata": {},
     "output_type": "display_data"
    },
    {
     "data": {
      "text/plain": [
       "\n"
      ]
     },
     "metadata": {},
     "output_type": "display_data"
    },
    {
     "data": {
      "text/plain": [
       "0: 384x640 13 cars, 1 bus, 1 truck, 2 traffic lights, 920.3ms\n"
      ]
     },
     "metadata": {},
     "output_type": "display_data"
    },
    {
     "data": {
      "text/plain": [
       "Speed: 3.6ms preprocess, 920.3ms inference, 1.1ms postprocess per image at shape (1, 3, 384, 640)\n"
      ]
     },
     "metadata": {},
     "output_type": "display_data"
    },
    {
     "data": {
      "text/plain": [
       "\n"
      ]
     },
     "metadata": {},
     "output_type": "display_data"
    },
    {
     "data": {
      "text/plain": [
       "0: 384x640 13 cars, 1 bus, 2 trucks, 2 traffic lights, 897.0ms\n"
      ]
     },
     "metadata": {},
     "output_type": "display_data"
    },
    {
     "data": {
      "text/plain": [
       "Speed: 2.5ms preprocess, 897.0ms inference, 0.9ms postprocess per image at shape (1, 3, 384, 640)\n"
      ]
     },
     "metadata": {},
     "output_type": "display_data"
    },
    {
     "data": {
      "text/plain": [
       "\n"
      ]
     },
     "metadata": {},
     "output_type": "display_data"
    },
    {
     "data": {
      "text/plain": [
       "0: 384x640 13 cars, 1 bus, 3 trucks, 2 traffic lights, 896.5ms\n"
      ]
     },
     "metadata": {},
     "output_type": "display_data"
    },
    {
     "data": {
      "text/plain": [
       "Speed: 2.2ms preprocess, 896.5ms inference, 1.5ms postprocess per image at shape (1, 3, 384, 640)\n"
      ]
     },
     "metadata": {},
     "output_type": "display_data"
    },
    {
     "data": {
      "text/plain": [
       "\n"
      ]
     },
     "metadata": {},
     "output_type": "display_data"
    },
    {
     "data": {
      "text/plain": [
       "0: 384x640 13 cars, 1 bus, 3 trucks, 2 traffic lights, 909.8ms\n"
      ]
     },
     "metadata": {},
     "output_type": "display_data"
    },
    {
     "data": {
      "text/plain": [
       "Speed: 9.8ms preprocess, 909.8ms inference, 1.0ms postprocess per image at shape (1, 3, 384, 640)\n"
      ]
     },
     "metadata": {},
     "output_type": "display_data"
    },
    {
     "data": {
      "text/plain": [
       "\n"
      ]
     },
     "metadata": {},
     "output_type": "display_data"
    },
    {
     "data": {
      "text/plain": [
       "0: 384x640 13 cars, 1 bus, 4 trucks, 2 traffic lights, 913.4ms\n"
      ]
     },
     "metadata": {},
     "output_type": "display_data"
    },
    {
     "data": {
      "text/plain": [
       "Speed: 2.4ms preprocess, 913.4ms inference, 1.6ms postprocess per image at shape (1, 3, 384, 640)\n"
      ]
     },
     "metadata": {},
     "output_type": "display_data"
    },
    {
     "data": {
      "text/plain": [
       "\n"
      ]
     },
     "metadata": {},
     "output_type": "display_data"
    },
    {
     "data": {
      "text/plain": [
       "0: 384x640 14 cars, 1 bus, 4 trucks, 2 traffic lights, 905.3ms\n"
      ]
     },
     "metadata": {},
     "output_type": "display_data"
    },
    {
     "data": {
      "text/plain": [
       "Speed: 2.1ms preprocess, 905.3ms inference, 0.9ms postprocess per image at shape (1, 3, 384, 640)\n"
      ]
     },
     "metadata": {},
     "output_type": "display_data"
    },
    {
     "data": {
      "text/plain": [
       "\n"
      ]
     },
     "metadata": {},
     "output_type": "display_data"
    },
    {
     "data": {
      "text/plain": [
       "0: 384x640 12 cars, 1 bus, 5 trucks, 2 traffic lights, 920.5ms\n"
      ]
     },
     "metadata": {},
     "output_type": "display_data"
    },
    {
     "data": {
      "text/plain": [
       "Speed: 2.4ms preprocess, 920.5ms inference, 1.0ms postprocess per image at shape (1, 3, 384, 640)\n"
      ]
     },
     "metadata": {},
     "output_type": "display_data"
    },
    {
     "data": {
      "text/plain": [
       "\n"
      ]
     },
     "metadata": {},
     "output_type": "display_data"
    },
    {
     "data": {
      "text/plain": [
       "0: 384x640 11 cars, 1 bus, 5 trucks, 2 traffic lights, 910.9ms\n"
      ]
     },
     "metadata": {},
     "output_type": "display_data"
    },
    {
     "data": {
      "text/plain": [
       "Speed: 2.4ms preprocess, 910.9ms inference, 1.2ms postprocess per image at shape (1, 3, 384, 640)\n"
      ]
     },
     "metadata": {},
     "output_type": "display_data"
    },
    {
     "data": {
      "text/plain": [
       "\n"
      ]
     },
     "metadata": {},
     "output_type": "display_data"
    },
    {
     "data": {
      "text/plain": [
       "0: 384x640 12 cars, 1 bus, 4 trucks, 2 traffic lights, 930.4ms\n"
      ]
     },
     "metadata": {},
     "output_type": "display_data"
    },
    {
     "data": {
      "text/plain": [
       "Speed: 2.4ms preprocess, 930.4ms inference, 0.9ms postprocess per image at shape (1, 3, 384, 640)\n"
      ]
     },
     "metadata": {},
     "output_type": "display_data"
    },
    {
     "data": {
      "text/plain": [
       "\n"
      ]
     },
     "metadata": {},
     "output_type": "display_data"
    },
    {
     "data": {
      "text/plain": [
       "0: 384x640 14 cars, 1 bus, 3 trucks, 2 traffic lights, 932.4ms\n"
      ]
     },
     "metadata": {},
     "output_type": "display_data"
    },
    {
     "data": {
      "text/plain": [
       "Speed: 2.3ms preprocess, 932.4ms inference, 0.9ms postprocess per image at shape (1, 3, 384, 640)\n"
      ]
     },
     "metadata": {},
     "output_type": "display_data"
    },
    {
     "data": {
      "text/plain": [
       "\n"
      ]
     },
     "metadata": {},
     "output_type": "display_data"
    },
    {
     "data": {
      "text/plain": [
       "0: 384x640 13 cars, 1 bus, 3 trucks, 2 traffic lights, 910.4ms\n"
      ]
     },
     "metadata": {},
     "output_type": "display_data"
    },
    {
     "data": {
      "text/plain": [
       "Speed: 2.2ms preprocess, 910.4ms inference, 1.8ms postprocess per image at shape (1, 3, 384, 640)\n"
      ]
     },
     "metadata": {},
     "output_type": "display_data"
    },
    {
     "data": {
      "text/plain": [
       "\n"
      ]
     },
     "metadata": {},
     "output_type": "display_data"
    },
    {
     "data": {
      "text/plain": [
       "0: 384x640 11 cars, 1 bus, 3 trucks, 2 traffic lights, 908.5ms\n"
      ]
     },
     "metadata": {},
     "output_type": "display_data"
    },
    {
     "data": {
      "text/plain": [
       "Speed: 2.2ms preprocess, 908.5ms inference, 1.2ms postprocess per image at shape (1, 3, 384, 640)\n"
      ]
     },
     "metadata": {},
     "output_type": "display_data"
    },
    {
     "data": {
      "text/plain": [
       "\n"
      ]
     },
     "metadata": {},
     "output_type": "display_data"
    },
    {
     "data": {
      "text/plain": [
       "0: 384x640 14 cars, 1 bus, 2 trucks, 3 traffic lights, 935.1ms\n"
      ]
     },
     "metadata": {},
     "output_type": "display_data"
    },
    {
     "data": {
      "text/plain": [
       "Speed: 3.2ms preprocess, 935.1ms inference, 1.0ms postprocess per image at shape (1, 3, 384, 640)\n"
      ]
     },
     "metadata": {},
     "output_type": "display_data"
    },
    {
     "data": {
      "text/plain": [
       "\n"
      ]
     },
     "metadata": {},
     "output_type": "display_data"
    },
    {
     "data": {
      "text/plain": [
       "0: 384x640 13 cars, 1 bus, 4 trucks, 2 traffic lights, 923.2ms\n"
      ]
     },
     "metadata": {},
     "output_type": "display_data"
    },
    {
     "data": {
      "text/plain": [
       "Speed: 2.7ms preprocess, 923.2ms inference, 1.1ms postprocess per image at shape (1, 3, 384, 640)\n"
      ]
     },
     "metadata": {},
     "output_type": "display_data"
    },
    {
     "data": {
      "text/plain": [
       "\n"
      ]
     },
     "metadata": {},
     "output_type": "display_data"
    },
    {
     "data": {
      "text/plain": [
       "0: 384x640 16 cars, 1 bus, 2 trucks, 2 traffic lights, 921.9ms\n"
      ]
     },
     "metadata": {},
     "output_type": "display_data"
    },
    {
     "data": {
      "text/plain": [
       "Speed: 3.2ms preprocess, 921.9ms inference, 1.0ms postprocess per image at shape (1, 3, 384, 640)\n"
      ]
     },
     "metadata": {},
     "output_type": "display_data"
    },
    {
     "data": {
      "text/plain": [
       "\n"
      ]
     },
     "metadata": {},
     "output_type": "display_data"
    },
    {
     "data": {
      "text/plain": [
       "0: 384x640 15 cars, 1 bus, 4 trucks, 2 traffic lights, 910.5ms\n"
      ]
     },
     "metadata": {},
     "output_type": "display_data"
    },
    {
     "data": {
      "text/plain": [
       "Speed: 3.5ms preprocess, 910.5ms inference, 1.8ms postprocess per image at shape (1, 3, 384, 640)\n"
      ]
     },
     "metadata": {},
     "output_type": "display_data"
    },
    {
     "data": {
      "text/plain": [
       "\n"
      ]
     },
     "metadata": {},
     "output_type": "display_data"
    },
    {
     "data": {
      "text/plain": [
       "0: 384x640 13 cars, 1 bus, 4 trucks, 2 traffic lights, 962.3ms\n"
      ]
     },
     "metadata": {},
     "output_type": "display_data"
    },
    {
     "data": {
      "text/plain": [
       "Speed: 2.6ms preprocess, 962.3ms inference, 0.9ms postprocess per image at shape (1, 3, 384, 640)\n"
      ]
     },
     "metadata": {},
     "output_type": "display_data"
    },
    {
     "data": {
      "text/plain": [
       "\n"
      ]
     },
     "metadata": {},
     "output_type": "display_data"
    },
    {
     "data": {
      "text/plain": [
       "0: 384x640 14 cars, 3 trucks, 2 traffic lights, 923.4ms\n"
      ]
     },
     "metadata": {},
     "output_type": "display_data"
    },
    {
     "data": {
      "text/plain": [
       "Speed: 2.1ms preprocess, 923.4ms inference, 1.1ms postprocess per image at shape (1, 3, 384, 640)\n"
      ]
     },
     "metadata": {},
     "output_type": "display_data"
    },
    {
     "data": {
      "text/plain": [
       "\n"
      ]
     },
     "metadata": {},
     "output_type": "display_data"
    },
    {
     "data": {
      "text/plain": [
       "0: 384x640 15 cars, 3 trucks, 2 traffic lights, 918.7ms\n"
      ]
     },
     "metadata": {},
     "output_type": "display_data"
    },
    {
     "data": {
      "text/plain": [
       "Speed: 2.1ms preprocess, 918.7ms inference, 0.9ms postprocess per image at shape (1, 3, 384, 640)\n"
      ]
     },
     "metadata": {},
     "output_type": "display_data"
    },
    {
     "data": {
      "text/plain": [
       "\n"
      ]
     },
     "metadata": {},
     "output_type": "display_data"
    },
    {
     "data": {
      "text/plain": [
       "0: 384x640 15 cars, 3 trucks, 2 traffic lights, 935.9ms\n"
      ]
     },
     "metadata": {},
     "output_type": "display_data"
    },
    {
     "data": {
      "text/plain": [
       "Speed: 2.3ms preprocess, 935.9ms inference, 1.0ms postprocess per image at shape (1, 3, 384, 640)\n"
      ]
     },
     "metadata": {},
     "output_type": "display_data"
    },
    {
     "data": {
      "text/plain": [
       "\n"
      ]
     },
     "metadata": {},
     "output_type": "display_data"
    },
    {
     "data": {
      "text/plain": [
       "0: 384x640 14 cars, 3 trucks, 2 traffic lights, 922.0ms\n"
      ]
     },
     "metadata": {},
     "output_type": "display_data"
    },
    {
     "data": {
      "text/plain": [
       "Speed: 2.2ms preprocess, 922.0ms inference, 1.0ms postprocess per image at shape (1, 3, 384, 640)\n"
      ]
     },
     "metadata": {},
     "output_type": "display_data"
    },
    {
     "data": {
      "text/plain": [
       "\n"
      ]
     },
     "metadata": {},
     "output_type": "display_data"
    },
    {
     "data": {
      "text/plain": [
       "0: 384x640 18 cars, 2 trucks, 2 traffic lights, 908.9ms\n"
      ]
     },
     "metadata": {},
     "output_type": "display_data"
    },
    {
     "data": {
      "text/plain": [
       "Speed: 2.2ms preprocess, 908.9ms inference, 1.0ms postprocess per image at shape (1, 3, 384, 640)\n"
      ]
     },
     "metadata": {},
     "output_type": "display_data"
    },
    {
     "data": {
      "text/plain": [
       "\n"
      ]
     },
     "metadata": {},
     "output_type": "display_data"
    },
    {
     "data": {
      "text/plain": [
       "0: 384x640 18 cars, 2 trucks, 2 traffic lights, 942.0ms\n"
      ]
     },
     "metadata": {},
     "output_type": "display_data"
    },
    {
     "data": {
      "text/plain": [
       "Speed: 2.1ms preprocess, 942.0ms inference, 0.9ms postprocess per image at shape (1, 3, 384, 640)\n"
      ]
     },
     "metadata": {},
     "output_type": "display_data"
    },
    {
     "data": {
      "text/plain": [
       "\n"
      ]
     },
     "metadata": {},
     "output_type": "display_data"
    },
    {
     "data": {
      "text/plain": [
       "0: 384x640 16 cars, 3 trucks, 2 traffic lights, 914.6ms\n"
      ]
     },
     "metadata": {},
     "output_type": "display_data"
    },
    {
     "data": {
      "text/plain": [
       "Speed: 2.3ms preprocess, 914.6ms inference, 1.1ms postprocess per image at shape (1, 3, 384, 640)\n"
      ]
     },
     "metadata": {},
     "output_type": "display_data"
    },
    {
     "data": {
      "text/plain": [
       "\n"
      ]
     },
     "metadata": {},
     "output_type": "display_data"
    },
    {
     "data": {
      "text/plain": [
       "0: 384x640 18 cars, 2 trucks, 2 traffic lights, 920.3ms\n"
      ]
     },
     "metadata": {},
     "output_type": "display_data"
    },
    {
     "data": {
      "text/plain": [
       "Speed: 2.1ms preprocess, 920.3ms inference, 1.3ms postprocess per image at shape (1, 3, 384, 640)\n"
      ]
     },
     "metadata": {},
     "output_type": "display_data"
    },
    {
     "data": {
      "text/plain": [
       "\n"
      ]
     },
     "metadata": {},
     "output_type": "display_data"
    },
    {
     "data": {
      "text/plain": [
       "0: 384x640 16 cars, 2 trucks, 2 traffic lights, 926.3ms\n"
      ]
     },
     "metadata": {},
     "output_type": "display_data"
    },
    {
     "data": {
      "text/plain": [
       "Speed: 3.9ms preprocess, 926.3ms inference, 0.9ms postprocess per image at shape (1, 3, 384, 640)\n"
      ]
     },
     "metadata": {},
     "output_type": "display_data"
    },
    {
     "data": {
      "text/plain": [
       "\n"
      ]
     },
     "metadata": {},
     "output_type": "display_data"
    },
    {
     "data": {
      "text/plain": [
       "0: 384x640 14 cars, 2 trucks, 2 traffic lights, 919.4ms\n"
      ]
     },
     "metadata": {},
     "output_type": "display_data"
    },
    {
     "data": {
      "text/plain": [
       "Speed: 3.3ms preprocess, 919.4ms inference, 1.7ms postprocess per image at shape (1, 3, 384, 640)\n"
      ]
     },
     "metadata": {},
     "output_type": "display_data"
    },
    {
     "data": {
      "text/plain": [
       "\n"
      ]
     },
     "metadata": {},
     "output_type": "display_data"
    },
    {
     "data": {
      "text/plain": [
       "0: 384x640 13 cars, 2 trucks, 2 traffic lights, 923.2ms\n"
      ]
     },
     "metadata": {},
     "output_type": "display_data"
    },
    {
     "data": {
      "text/plain": [
       "Speed: 3.4ms preprocess, 923.2ms inference, 1.2ms postprocess per image at shape (1, 3, 384, 640)\n"
      ]
     },
     "metadata": {},
     "output_type": "display_data"
    },
    {
     "data": {
      "text/plain": [
       "\n"
      ]
     },
     "metadata": {},
     "output_type": "display_data"
    },
    {
     "data": {
      "text/plain": [
       "0: 384x640 13 cars, 2 trucks, 2 traffic lights, 910.3ms\n"
      ]
     },
     "metadata": {},
     "output_type": "display_data"
    },
    {
     "data": {
      "text/plain": [
       "Speed: 2.7ms preprocess, 910.3ms inference, 1.0ms postprocess per image at shape (1, 3, 384, 640)\n"
      ]
     },
     "metadata": {},
     "output_type": "display_data"
    },
    {
     "data": {
      "text/plain": [
       "\n"
      ]
     },
     "metadata": {},
     "output_type": "display_data"
    },
    {
     "data": {
      "text/plain": [
       "0: 384x640 14 cars, 2 trucks, 2 traffic lights, 916.8ms\n"
      ]
     },
     "metadata": {},
     "output_type": "display_data"
    },
    {
     "data": {
      "text/plain": [
       "Speed: 2.3ms preprocess, 916.8ms inference, 0.9ms postprocess per image at shape (1, 3, 384, 640)\n"
      ]
     },
     "metadata": {},
     "output_type": "display_data"
    },
    {
     "data": {
      "text/plain": [
       "\n"
      ]
     },
     "metadata": {},
     "output_type": "display_data"
    },
    {
     "data": {
      "text/plain": [
       "0: 384x640 14 cars, 1 truck, 2 traffic lights, 910.8ms\n"
      ]
     },
     "metadata": {},
     "output_type": "display_data"
    },
    {
     "data": {
      "text/plain": [
       "Speed: 3.1ms preprocess, 910.8ms inference, 0.9ms postprocess per image at shape (1, 3, 384, 640)\n"
      ]
     },
     "metadata": {},
     "output_type": "display_data"
    },
    {
     "data": {
      "text/plain": [
       "\n"
      ]
     },
     "metadata": {},
     "output_type": "display_data"
    },
    {
     "data": {
      "text/plain": [
       "0: 384x640 17 cars, 1 truck, 2 traffic lights, 900.1ms\n"
      ]
     },
     "metadata": {},
     "output_type": "display_data"
    },
    {
     "data": {
      "text/plain": [
       "Speed: 2.1ms preprocess, 900.1ms inference, 1.0ms postprocess per image at shape (1, 3, 384, 640)\n"
      ]
     },
     "metadata": {},
     "output_type": "display_data"
    },
    {
     "data": {
      "text/plain": [
       "\n"
      ]
     },
     "metadata": {},
     "output_type": "display_data"
    },
    {
     "data": {
      "text/plain": [
       "0: 384x640 16 cars, 2 trucks, 2 traffic lights, 917.7ms\n"
      ]
     },
     "metadata": {},
     "output_type": "display_data"
    },
    {
     "data": {
      "text/plain": [
       "Speed: 2.9ms preprocess, 917.7ms inference, 1.3ms postprocess per image at shape (1, 3, 384, 640)\n"
      ]
     },
     "metadata": {},
     "output_type": "display_data"
    },
    {
     "data": {
      "text/plain": [
       "\n"
      ]
     },
     "metadata": {},
     "output_type": "display_data"
    },
    {
     "data": {
      "text/plain": [
       "0: 384x640 18 cars, 1 truck, 2 traffic lights, 900.6ms\n"
      ]
     },
     "metadata": {},
     "output_type": "display_data"
    },
    {
     "data": {
      "text/plain": [
       "Speed: 2.3ms preprocess, 900.6ms inference, 0.9ms postprocess per image at shape (1, 3, 384, 640)\n"
      ]
     },
     "metadata": {},
     "output_type": "display_data"
    },
    {
     "data": {
      "text/plain": [
       "\n"
      ]
     },
     "metadata": {},
     "output_type": "display_data"
    },
    {
     "data": {
      "text/plain": [
       "0: 384x640 17 cars, 2 trucks, 2 traffic lights, 908.2ms\n"
      ]
     },
     "metadata": {},
     "output_type": "display_data"
    },
    {
     "data": {
      "text/plain": [
       "Speed: 3.5ms preprocess, 908.2ms inference, 1.0ms postprocess per image at shape (1, 3, 384, 640)\n"
      ]
     },
     "metadata": {},
     "output_type": "display_data"
    },
    {
     "data": {
      "text/plain": [
       "\n"
      ]
     },
     "metadata": {},
     "output_type": "display_data"
    },
    {
     "data": {
      "text/plain": [
       "0: 384x640 18 cars, 2 trucks, 2 traffic lights, 898.4ms\n"
      ]
     },
     "metadata": {},
     "output_type": "display_data"
    },
    {
     "data": {
      "text/plain": [
       "Speed: 2.6ms preprocess, 898.4ms inference, 0.9ms postprocess per image at shape (1, 3, 384, 640)\n"
      ]
     },
     "metadata": {},
     "output_type": "display_data"
    },
    {
     "data": {
      "text/plain": [
       "\n"
      ]
     },
     "metadata": {},
     "output_type": "display_data"
    },
    {
     "data": {
      "text/plain": [
       "0: 384x640 19 cars, 1 truck, 2 traffic lights, 936.0ms\n"
      ]
     },
     "metadata": {},
     "output_type": "display_data"
    },
    {
     "data": {
      "text/plain": [
       "Speed: 2.3ms preprocess, 936.0ms inference, 1.1ms postprocess per image at shape (1, 3, 384, 640)\n"
      ]
     },
     "metadata": {},
     "output_type": "display_data"
    },
    {
     "data": {
      "text/plain": [
       "\n"
      ]
     },
     "metadata": {},
     "output_type": "display_data"
    },
    {
     "data": {
      "text/plain": [
       "0: 384x640 19 cars, 2 trucks, 2 traffic lights, 933.8ms\n"
      ]
     },
     "metadata": {},
     "output_type": "display_data"
    },
    {
     "data": {
      "text/plain": [
       "Speed: 2.6ms preprocess, 933.8ms inference, 1.6ms postprocess per image at shape (1, 3, 384, 640)\n"
      ]
     },
     "metadata": {},
     "output_type": "display_data"
    },
    {
     "data": {
      "text/plain": [
       "\n"
      ]
     },
     "metadata": {},
     "output_type": "display_data"
    },
    {
     "data": {
      "text/plain": [
       "0: 384x640 17 cars, 2 trucks, 2 traffic lights, 903.3ms\n"
      ]
     },
     "metadata": {},
     "output_type": "display_data"
    },
    {
     "data": {
      "text/plain": [
       "Speed: 2.4ms preprocess, 903.3ms inference, 1.2ms postprocess per image at shape (1, 3, 384, 640)\n"
      ]
     },
     "metadata": {},
     "output_type": "display_data"
    },
    {
     "data": {
      "text/plain": [
       "\n"
      ]
     },
     "metadata": {},
     "output_type": "display_data"
    },
    {
     "data": {
      "text/plain": [
       "0: 384x640 18 cars, 2 trucks, 3 traffic lights, 921.5ms\n"
      ]
     },
     "metadata": {},
     "output_type": "display_data"
    },
    {
     "data": {
      "text/plain": [
       "Speed: 2.6ms preprocess, 921.5ms inference, 1.0ms postprocess per image at shape (1, 3, 384, 640)\n"
      ]
     },
     "metadata": {},
     "output_type": "display_data"
    },
    {
     "data": {
      "text/plain": [
       "\n"
      ]
     },
     "metadata": {},
     "output_type": "display_data"
    },
    {
     "data": {
      "text/plain": [
       "0: 384x640 19 cars, 2 trucks, 3 traffic lights, 928.5ms\n"
      ]
     },
     "metadata": {},
     "output_type": "display_data"
    },
    {
     "data": {
      "text/plain": [
       "Speed: 2.4ms preprocess, 928.5ms inference, 1.4ms postprocess per image at shape (1, 3, 384, 640)\n"
      ]
     },
     "metadata": {},
     "output_type": "display_data"
    },
    {
     "data": {
      "text/plain": [
       "\n"
      ]
     },
     "metadata": {},
     "output_type": "display_data"
    },
    {
     "data": {
      "text/plain": [
       "0: 384x640 21 cars, 1 truck, 3 traffic lights, 984.1ms\n"
      ]
     },
     "metadata": {},
     "output_type": "display_data"
    },
    {
     "data": {
      "text/plain": [
       "Speed: 3.0ms preprocess, 984.1ms inference, 1.5ms postprocess per image at shape (1, 3, 384, 640)\n"
      ]
     },
     "metadata": {},
     "output_type": "display_data"
    },
    {
     "data": {
      "text/plain": [
       "\n"
      ]
     },
     "metadata": {},
     "output_type": "display_data"
    },
    {
     "data": {
      "text/plain": [
       "0: 384x640 20 cars, 2 trucks, 3 traffic lights, 972.3ms\n"
      ]
     },
     "metadata": {},
     "output_type": "display_data"
    },
    {
     "data": {
      "text/plain": [
       "Speed: 3.1ms preprocess, 972.3ms inference, 1.3ms postprocess per image at shape (1, 3, 384, 640)\n"
      ]
     },
     "metadata": {},
     "output_type": "display_data"
    },
    {
     "data": {
      "text/plain": [
       "\n"
      ]
     },
     "metadata": {},
     "output_type": "display_data"
    },
    {
     "data": {
      "text/plain": [
       "0: 384x640 22 cars, 2 trucks, 3 traffic lights, 980.5ms\n"
      ]
     },
     "metadata": {},
     "output_type": "display_data"
    },
    {
     "data": {
      "text/plain": [
       "Speed: 2.2ms preprocess, 980.5ms inference, 1.2ms postprocess per image at shape (1, 3, 384, 640)\n"
      ]
     },
     "metadata": {},
     "output_type": "display_data"
    },
    {
     "data": {
      "text/plain": [
       "\n"
      ]
     },
     "metadata": {},
     "output_type": "display_data"
    },
    {
     "data": {
      "text/plain": [
       "0: 384x640 22 cars, 1 truck, 4 traffic lights, 963.7ms\n"
      ]
     },
     "metadata": {},
     "output_type": "display_data"
    },
    {
     "data": {
      "text/plain": [
       "Speed: 2.3ms preprocess, 963.7ms inference, 1.2ms postprocess per image at shape (1, 3, 384, 640)\n"
      ]
     },
     "metadata": {},
     "output_type": "display_data"
    },
    {
     "data": {
      "text/plain": [
       "\n"
      ]
     },
     "metadata": {},
     "output_type": "display_data"
    },
    {
     "data": {
      "text/plain": [
       "0: 384x640 18 cars, 1 truck, 4 traffic lights, 914.2ms\n"
      ]
     },
     "metadata": {},
     "output_type": "display_data"
    },
    {
     "data": {
      "text/plain": [
       "Speed: 2.3ms preprocess, 914.2ms inference, 1.1ms postprocess per image at shape (1, 3, 384, 640)\n"
      ]
     },
     "metadata": {},
     "output_type": "display_data"
    },
    {
     "data": {
      "text/plain": [
       "\n"
      ]
     },
     "metadata": {},
     "output_type": "display_data"
    },
    {
     "data": {
      "text/plain": [
       "0: 384x640 17 cars, 3 trucks, 4 traffic lights, 930.7ms\n"
      ]
     },
     "metadata": {},
     "output_type": "display_data"
    },
    {
     "data": {
      "text/plain": [
       "Speed: 3.3ms preprocess, 930.7ms inference, 1.1ms postprocess per image at shape (1, 3, 384, 640)\n"
      ]
     },
     "metadata": {},
     "output_type": "display_data"
    },
    {
     "data": {
      "text/plain": [
       "\n"
      ]
     },
     "metadata": {},
     "output_type": "display_data"
    },
    {
     "data": {
      "text/plain": [
       "0: 384x640 19 cars, 3 trucks, 4 traffic lights, 931.1ms\n"
      ]
     },
     "metadata": {},
     "output_type": "display_data"
    },
    {
     "data": {
      "text/plain": [
       "Speed: 2.5ms preprocess, 931.1ms inference, 1.0ms postprocess per image at shape (1, 3, 384, 640)\n"
      ]
     },
     "metadata": {},
     "output_type": "display_data"
    },
    {
     "data": {
      "text/plain": [
       "\n"
      ]
     },
     "metadata": {},
     "output_type": "display_data"
    },
    {
     "data": {
      "text/plain": [
       "0: 384x640 17 cars, 4 trucks, 4 traffic lights, 940.8ms\n"
      ]
     },
     "metadata": {},
     "output_type": "display_data"
    },
    {
     "data": {
      "text/plain": [
       "Speed: 2.3ms preprocess, 940.8ms inference, 1.1ms postprocess per image at shape (1, 3, 384, 640)\n"
      ]
     },
     "metadata": {},
     "output_type": "display_data"
    },
    {
     "data": {
      "text/plain": [
       "\n"
      ]
     },
     "metadata": {},
     "output_type": "display_data"
    },
    {
     "data": {
      "text/plain": [
       "0: 384x640 18 cars, 3 trucks, 4 traffic lights, 920.2ms\n"
      ]
     },
     "metadata": {},
     "output_type": "display_data"
    },
    {
     "data": {
      "text/plain": [
       "Speed: 2.3ms preprocess, 920.2ms inference, 1.0ms postprocess per image at shape (1, 3, 384, 640)\n"
      ]
     },
     "metadata": {},
     "output_type": "display_data"
    },
    {
     "data": {
      "text/plain": [
       "\n"
      ]
     },
     "metadata": {},
     "output_type": "display_data"
    },
    {
     "data": {
      "text/plain": [
       "0: 384x640 17 cars, 3 trucks, 4 traffic lights, 934.5ms\n"
      ]
     },
     "metadata": {},
     "output_type": "display_data"
    },
    {
     "data": {
      "text/plain": [
       "Speed: 2.1ms preprocess, 934.5ms inference, 1.5ms postprocess per image at shape (1, 3, 384, 640)\n"
      ]
     },
     "metadata": {},
     "output_type": "display_data"
    },
    {
     "data": {
      "text/plain": [
       "\n"
      ]
     },
     "metadata": {},
     "output_type": "display_data"
    },
    {
     "data": {
      "text/plain": [
       "0: 384x640 15 cars, 3 trucks, 4 traffic lights, 922.5ms\n"
      ]
     },
     "metadata": {},
     "output_type": "display_data"
    },
    {
     "data": {
      "text/plain": [
       "Speed: 3.5ms preprocess, 922.5ms inference, 1.2ms postprocess per image at shape (1, 3, 384, 640)\n"
      ]
     },
     "metadata": {},
     "output_type": "display_data"
    },
    {
     "data": {
      "text/plain": [
       "\n"
      ]
     },
     "metadata": {},
     "output_type": "display_data"
    },
    {
     "data": {
      "text/plain": [
       "0: 384x640 14 cars, 4 trucks, 4 traffic lights, 930.5ms\n"
      ]
     },
     "metadata": {},
     "output_type": "display_data"
    },
    {
     "data": {
      "text/plain": [
       "Speed: 3.2ms preprocess, 930.5ms inference, 1.0ms postprocess per image at shape (1, 3, 384, 640)\n"
      ]
     },
     "metadata": {},
     "output_type": "display_data"
    },
    {
     "data": {
      "text/plain": [
       "\n"
      ]
     },
     "metadata": {},
     "output_type": "display_data"
    },
    {
     "data": {
      "text/plain": [
       "0: 384x640 15 cars, 4 trucks, 4 traffic lights, 942.8ms\n"
      ]
     },
     "metadata": {},
     "output_type": "display_data"
    },
    {
     "data": {
      "text/plain": [
       "Speed: 2.6ms preprocess, 942.8ms inference, 1.1ms postprocess per image at shape (1, 3, 384, 640)\n"
      ]
     },
     "metadata": {},
     "output_type": "display_data"
    },
    {
     "data": {
      "text/plain": [
       "\n"
      ]
     },
     "metadata": {},
     "output_type": "display_data"
    },
    {
     "data": {
      "text/plain": [
       "0: 384x640 15 cars, 4 trucks, 4 traffic lights, 903.8ms\n"
      ]
     },
     "metadata": {},
     "output_type": "display_data"
    },
    {
     "data": {
      "text/plain": [
       "Speed: 2.5ms preprocess, 903.8ms inference, 1.0ms postprocess per image at shape (1, 3, 384, 640)\n"
      ]
     },
     "metadata": {},
     "output_type": "display_data"
    },
    {
     "data": {
      "text/plain": [
       "\n"
      ]
     },
     "metadata": {},
     "output_type": "display_data"
    },
    {
     "data": {
      "text/plain": [
       "0: 384x640 19 cars, 3 trucks, 4 traffic lights, 946.9ms\n"
      ]
     },
     "metadata": {},
     "output_type": "display_data"
    },
    {
     "data": {
      "text/plain": [
       "Speed: 2.5ms preprocess, 946.9ms inference, 0.9ms postprocess per image at shape (1, 3, 384, 640)\n"
      ]
     },
     "metadata": {},
     "output_type": "display_data"
    },
    {
     "data": {
      "text/plain": [
       "\n"
      ]
     },
     "metadata": {},
     "output_type": "display_data"
    },
    {
     "data": {
      "text/plain": [
       "0: 384x640 16 cars, 1 bus, 4 trucks, 4 traffic lights, 908.6ms\n"
      ]
     },
     "metadata": {},
     "output_type": "display_data"
    },
    {
     "data": {
      "text/plain": [
       "Speed: 3.3ms preprocess, 908.6ms inference, 1.1ms postprocess per image at shape (1, 3, 384, 640)\n"
      ]
     },
     "metadata": {},
     "output_type": "display_data"
    },
    {
     "data": {
      "text/plain": [
       "\n"
      ]
     },
     "metadata": {},
     "output_type": "display_data"
    },
    {
     "data": {
      "text/plain": [
       "0: 384x640 17 cars, 1 bus, 2 trucks, 4 traffic lights, 911.9ms\n"
      ]
     },
     "metadata": {},
     "output_type": "display_data"
    },
    {
     "data": {
      "text/plain": [
       "Speed: 2.3ms preprocess, 911.9ms inference, 1.8ms postprocess per image at shape (1, 3, 384, 640)\n"
      ]
     },
     "metadata": {},
     "output_type": "display_data"
    },
    {
     "data": {
      "text/plain": [
       "\n"
      ]
     },
     "metadata": {},
     "output_type": "display_data"
    },
    {
     "data": {
      "text/plain": [
       "0: 384x640 18 cars, 1 bus, 2 trucks, 4 traffic lights, 913.8ms\n"
      ]
     },
     "metadata": {},
     "output_type": "display_data"
    },
    {
     "data": {
      "text/plain": [
       "Speed: 3.5ms preprocess, 913.8ms inference, 1.3ms postprocess per image at shape (1, 3, 384, 640)\n"
      ]
     },
     "metadata": {},
     "output_type": "display_data"
    },
    {
     "data": {
      "text/plain": [
       "\n"
      ]
     },
     "metadata": {},
     "output_type": "display_data"
    },
    {
     "data": {
      "text/plain": [
       "0: 384x640 19 cars, 2 trucks, 4 traffic lights, 915.7ms\n"
      ]
     },
     "metadata": {},
     "output_type": "display_data"
    },
    {
     "data": {
      "text/plain": [
       "Speed: 2.4ms preprocess, 915.7ms inference, 1.0ms postprocess per image at shape (1, 3, 384, 640)\n"
      ]
     },
     "metadata": {},
     "output_type": "display_data"
    },
    {
     "data": {
      "text/plain": [
       "\n"
      ]
     },
     "metadata": {},
     "output_type": "display_data"
    },
    {
     "data": {
      "text/plain": [
       "0: 384x640 20 cars, 1 bus, 2 trucks, 4 traffic lights, 910.5ms\n"
      ]
     },
     "metadata": {},
     "output_type": "display_data"
    },
    {
     "data": {
      "text/plain": [
       "Speed: 2.0ms preprocess, 910.5ms inference, 0.9ms postprocess per image at shape (1, 3, 384, 640)\n"
      ]
     },
     "metadata": {},
     "output_type": "display_data"
    },
    {
     "data": {
      "text/plain": [
       "\n"
      ]
     },
     "metadata": {},
     "output_type": "display_data"
    },
    {
     "data": {
      "text/plain": [
       "0: 384x640 19 cars, 1 bus, 3 trucks, 4 traffic lights, 911.1ms\n"
      ]
     },
     "metadata": {},
     "output_type": "display_data"
    },
    {
     "data": {
      "text/plain": [
       "Speed: 2.2ms preprocess, 911.1ms inference, 1.0ms postprocess per image at shape (1, 3, 384, 640)\n"
      ]
     },
     "metadata": {},
     "output_type": "display_data"
    },
    {
     "data": {
      "text/plain": [
       "\n"
      ]
     },
     "metadata": {},
     "output_type": "display_data"
    },
    {
     "data": {
      "text/plain": [
       "0: 384x640 17 cars, 4 trucks, 4 traffic lights, 912.7ms\n"
      ]
     },
     "metadata": {},
     "output_type": "display_data"
    },
    {
     "data": {
      "text/plain": [
       "Speed: 2.0ms preprocess, 912.7ms inference, 1.0ms postprocess per image at shape (1, 3, 384, 640)\n"
      ]
     },
     "metadata": {},
     "output_type": "display_data"
    },
    {
     "data": {
      "text/plain": [
       "\n"
      ]
     },
     "metadata": {},
     "output_type": "display_data"
    },
    {
     "data": {
      "text/plain": [
       "0: 384x640 19 cars, 4 trucks, 4 traffic lights, 949.8ms\n"
      ]
     },
     "metadata": {},
     "output_type": "display_data"
    },
    {
     "data": {
      "text/plain": [
       "Speed: 2.5ms preprocess, 949.8ms inference, 1.2ms postprocess per image at shape (1, 3, 384, 640)\n"
      ]
     },
     "metadata": {},
     "output_type": "display_data"
    },
    {
     "data": {
      "text/plain": [
       "\n"
      ]
     },
     "metadata": {},
     "output_type": "display_data"
    },
    {
     "data": {
      "text/plain": [
       "0: 384x640 22 cars, 4 trucks, 4 traffic lights, 1163.6ms\n"
      ]
     },
     "metadata": {},
     "output_type": "display_data"
    },
    {
     "data": {
      "text/plain": [
       "Speed: 2.4ms preprocess, 1163.6ms inference, 2.0ms postprocess per image at shape (1, 3, 384, 640)\n"
      ]
     },
     "metadata": {},
     "output_type": "display_data"
    },
    {
     "data": {
      "text/plain": [
       "\n"
      ]
     },
     "metadata": {},
     "output_type": "display_data"
    },
    {
     "data": {
      "text/plain": [
       "0: 384x640 22 cars, 5 trucks, 4 traffic lights, 1044.2ms\n"
      ]
     },
     "metadata": {},
     "output_type": "display_data"
    },
    {
     "data": {
      "text/plain": [
       "Speed: 3.8ms preprocess, 1044.2ms inference, 1.1ms postprocess per image at shape (1, 3, 384, 640)\n"
      ]
     },
     "metadata": {},
     "output_type": "display_data"
    },
    {
     "data": {
      "text/plain": [
       "\n"
      ]
     },
     "metadata": {},
     "output_type": "display_data"
    },
    {
     "data": {
      "text/plain": [
       "0: 384x640 22 cars, 5 trucks, 4 traffic lights, 959.3ms\n"
      ]
     },
     "metadata": {},
     "output_type": "display_data"
    },
    {
     "data": {
      "text/plain": [
       "Speed: 2.2ms preprocess, 959.3ms inference, 1.1ms postprocess per image at shape (1, 3, 384, 640)\n"
      ]
     },
     "metadata": {},
     "output_type": "display_data"
    },
    {
     "data": {
      "text/plain": [
       "\n"
      ]
     },
     "metadata": {},
     "output_type": "display_data"
    },
    {
     "data": {
      "text/plain": [
       "0: 384x640 21 cars, 5 trucks, 4 traffic lights, 928.4ms\n"
      ]
     },
     "metadata": {},
     "output_type": "display_data"
    },
    {
     "data": {
      "text/plain": [
       "Speed: 3.1ms preprocess, 928.4ms inference, 1.1ms postprocess per image at shape (1, 3, 384, 640)\n"
      ]
     },
     "metadata": {},
     "output_type": "display_data"
    },
    {
     "data": {
      "text/plain": [
       "\n"
      ]
     },
     "metadata": {},
     "output_type": "display_data"
    },
    {
     "data": {
      "text/plain": [
       "0: 384x640 19 cars, 5 trucks, 4 traffic lights, 926.0ms\n"
      ]
     },
     "metadata": {},
     "output_type": "display_data"
    },
    {
     "data": {
      "text/plain": [
       "Speed: 2.1ms preprocess, 926.0ms inference, 0.9ms postprocess per image at shape (1, 3, 384, 640)\n"
      ]
     },
     "metadata": {},
     "output_type": "display_data"
    },
    {
     "data": {
      "text/plain": [
       "\n"
      ]
     },
     "metadata": {},
     "output_type": "display_data"
    },
    {
     "data": {
      "text/plain": [
       "0: 384x640 18 cars, 5 trucks, 4 traffic lights, 925.5ms\n"
      ]
     },
     "metadata": {},
     "output_type": "display_data"
    },
    {
     "data": {
      "text/plain": [
       "Speed: 2.1ms preprocess, 925.5ms inference, 0.9ms postprocess per image at shape (1, 3, 384, 640)\n"
      ]
     },
     "metadata": {},
     "output_type": "display_data"
    },
    {
     "data": {
      "text/plain": [
       "\n"
      ]
     },
     "metadata": {},
     "output_type": "display_data"
    },
    {
     "data": {
      "text/plain": [
       "0: 384x640 18 cars, 5 trucks, 4 traffic lights, 910.5ms\n"
      ]
     },
     "metadata": {},
     "output_type": "display_data"
    },
    {
     "data": {
      "text/plain": [
       "Speed: 3.3ms preprocess, 910.5ms inference, 0.9ms postprocess per image at shape (1, 3, 384, 640)\n"
      ]
     },
     "metadata": {},
     "output_type": "display_data"
    },
    {
     "data": {
      "text/plain": [
       "\n"
      ]
     },
     "metadata": {},
     "output_type": "display_data"
    },
    {
     "data": {
      "text/plain": [
       "0: 384x640 16 cars, 6 trucks, 4 traffic lights, 878.6ms\n"
      ]
     },
     "metadata": {},
     "output_type": "display_data"
    },
    {
     "data": {
      "text/plain": [
       "Speed: 2.2ms preprocess, 878.6ms inference, 1.0ms postprocess per image at shape (1, 3, 384, 640)\n"
      ]
     },
     "metadata": {},
     "output_type": "display_data"
    },
    {
     "data": {
      "text/plain": [
       "\n"
      ]
     },
     "metadata": {},
     "output_type": "display_data"
    },
    {
     "data": {
      "text/plain": [
       "0: 384x640 17 cars, 5 trucks, 4 traffic lights, 896.1ms\n"
      ]
     },
     "metadata": {},
     "output_type": "display_data"
    },
    {
     "data": {
      "text/plain": [
       "Speed: 2.3ms preprocess, 896.1ms inference, 1.0ms postprocess per image at shape (1, 3, 384, 640)\n"
      ]
     },
     "metadata": {},
     "output_type": "display_data"
    },
    {
     "data": {
      "text/plain": [
       "\n"
      ]
     },
     "metadata": {},
     "output_type": "display_data"
    },
    {
     "data": {
      "text/plain": [
       "0: 384x640 16 cars, 5 trucks, 4 traffic lights, 926.6ms\n"
      ]
     },
     "metadata": {},
     "output_type": "display_data"
    },
    {
     "data": {
      "text/plain": [
       "Speed: 2.4ms preprocess, 926.6ms inference, 1.0ms postprocess per image at shape (1, 3, 384, 640)\n"
      ]
     },
     "metadata": {},
     "output_type": "display_data"
    },
    {
     "data": {
      "text/plain": [
       "\n"
      ]
     },
     "metadata": {},
     "output_type": "display_data"
    },
    {
     "data": {
      "text/plain": [
       "0: 384x640 16 cars, 6 trucks, 4 traffic lights, 950.1ms\n"
      ]
     },
     "metadata": {},
     "output_type": "display_data"
    },
    {
     "data": {
      "text/plain": [
       "Speed: 2.9ms preprocess, 950.1ms inference, 1.0ms postprocess per image at shape (1, 3, 384, 640)\n"
      ]
     },
     "metadata": {},
     "output_type": "display_data"
    },
    {
     "data": {
      "text/plain": [
       "\n"
      ]
     },
     "metadata": {},
     "output_type": "display_data"
    },
    {
     "data": {
      "text/plain": [
       "0: 384x640 16 cars, 5 trucks, 4 traffic lights, 907.6ms\n"
      ]
     },
     "metadata": {},
     "output_type": "display_data"
    },
    {
     "data": {
      "text/plain": [
       "Speed: 2.1ms preprocess, 907.6ms inference, 1.0ms postprocess per image at shape (1, 3, 384, 640)\n"
      ]
     },
     "metadata": {},
     "output_type": "display_data"
    },
    {
     "data": {
      "text/plain": [
       "\n"
      ]
     },
     "metadata": {},
     "output_type": "display_data"
    },
    {
     "data": {
      "text/plain": [
       "0: 384x640 17 cars, 6 trucks, 4 traffic lights, 931.9ms\n"
      ]
     },
     "metadata": {},
     "output_type": "display_data"
    },
    {
     "data": {
      "text/plain": [
       "Speed: 2.8ms preprocess, 931.9ms inference, 0.9ms postprocess per image at shape (1, 3, 384, 640)\n"
      ]
     },
     "metadata": {},
     "output_type": "display_data"
    },
    {
     "data": {
      "text/plain": [
       "\n"
      ]
     },
     "metadata": {},
     "output_type": "display_data"
    },
    {
     "data": {
      "text/plain": [
       "0: 384x640 18 cars, 6 trucks, 4 traffic lights, 915.3ms\n"
      ]
     },
     "metadata": {},
     "output_type": "display_data"
    },
    {
     "data": {
      "text/plain": [
       "Speed: 2.5ms preprocess, 915.3ms inference, 0.9ms postprocess per image at shape (1, 3, 384, 640)\n"
      ]
     },
     "metadata": {},
     "output_type": "display_data"
    },
    {
     "data": {
      "text/plain": [
       "\n"
      ]
     },
     "metadata": {},
     "output_type": "display_data"
    },
    {
     "data": {
      "text/plain": [
       "0: 384x640 18 cars, 6 trucks, 4 traffic lights, 920.2ms\n"
      ]
     },
     "metadata": {},
     "output_type": "display_data"
    },
    {
     "data": {
      "text/plain": [
       "Speed: 2.4ms preprocess, 920.2ms inference, 1.0ms postprocess per image at shape (1, 3, 384, 640)\n"
      ]
     },
     "metadata": {},
     "output_type": "display_data"
    },
    {
     "data": {
      "text/plain": [
       "\n"
      ]
     },
     "metadata": {},
     "output_type": "display_data"
    },
    {
     "data": {
      "text/plain": [
       "0: 384x640 18 cars, 6 trucks, 4 traffic lights, 924.1ms\n"
      ]
     },
     "metadata": {},
     "output_type": "display_data"
    },
    {
     "data": {
      "text/plain": [
       "Speed: 2.6ms preprocess, 924.1ms inference, 0.9ms postprocess per image at shape (1, 3, 384, 640)\n"
      ]
     },
     "metadata": {},
     "output_type": "display_data"
    },
    {
     "data": {
      "text/plain": [
       "\n"
      ]
     },
     "metadata": {},
     "output_type": "display_data"
    },
    {
     "data": {
      "text/plain": [
       "0: 384x640 18 cars, 6 trucks, 4 traffic lights, 990.4ms\n"
      ]
     },
     "metadata": {},
     "output_type": "display_data"
    },
    {
     "data": {
      "text/plain": [
       "Speed: 2.1ms preprocess, 990.4ms inference, 1.3ms postprocess per image at shape (1, 3, 384, 640)\n"
      ]
     },
     "metadata": {},
     "output_type": "display_data"
    },
    {
     "data": {
      "text/plain": [
       "\n"
      ]
     },
     "metadata": {},
     "output_type": "display_data"
    },
    {
     "data": {
      "text/plain": [
       "0: 384x640 19 cars, 6 trucks, 4 traffic lights, 978.5ms\n"
      ]
     },
     "metadata": {},
     "output_type": "display_data"
    },
    {
     "data": {
      "text/plain": [
       "Speed: 3.4ms preprocess, 978.5ms inference, 1.1ms postprocess per image at shape (1, 3, 384, 640)\n"
      ]
     },
     "metadata": {},
     "output_type": "display_data"
    },
    {
     "data": {
      "text/plain": [
       "\n"
      ]
     },
     "metadata": {},
     "output_type": "display_data"
    },
    {
     "data": {
      "text/plain": [
       "0: 384x640 19 cars, 6 trucks, 4 traffic lights, 933.8ms\n"
      ]
     },
     "metadata": {},
     "output_type": "display_data"
    },
    {
     "data": {
      "text/plain": [
       "Speed: 2.1ms preprocess, 933.8ms inference, 1.0ms postprocess per image at shape (1, 3, 384, 640)\n"
      ]
     },
     "metadata": {},
     "output_type": "display_data"
    },
    {
     "data": {
      "text/plain": [
       "\n"
      ]
     },
     "metadata": {},
     "output_type": "display_data"
    },
    {
     "data": {
      "text/plain": [
       "0: 384x640 19 cars, 6 trucks, 4 traffic lights, 913.2ms\n"
      ]
     },
     "metadata": {},
     "output_type": "display_data"
    },
    {
     "data": {
      "text/plain": [
       "Speed: 2.3ms preprocess, 913.2ms inference, 1.0ms postprocess per image at shape (1, 3, 384, 640)\n"
      ]
     },
     "metadata": {},
     "output_type": "display_data"
    },
    {
     "data": {
      "text/plain": [
       "\n"
      ]
     },
     "metadata": {},
     "output_type": "display_data"
    },
    {
     "data": {
      "text/plain": [
       "0: 384x640 19 cars, 6 trucks, 4 traffic lights, 896.3ms\n"
      ]
     },
     "metadata": {},
     "output_type": "display_data"
    },
    {
     "data": {
      "text/plain": [
       "Speed: 2.3ms preprocess, 896.3ms inference, 1.5ms postprocess per image at shape (1, 3, 384, 640)\n"
      ]
     },
     "metadata": {},
     "output_type": "display_data"
    },
    {
     "data": {
      "text/plain": [
       "\n"
      ]
     },
     "metadata": {},
     "output_type": "display_data"
    },
    {
     "data": {
      "text/plain": [
       "0: 384x640 18 cars, 6 trucks, 4 traffic lights, 923.0ms\n"
      ]
     },
     "metadata": {},
     "output_type": "display_data"
    },
    {
     "data": {
      "text/plain": [
       "Speed: 2.5ms preprocess, 923.0ms inference, 1.1ms postprocess per image at shape (1, 3, 384, 640)\n"
      ]
     },
     "metadata": {},
     "output_type": "display_data"
    },
    {
     "data": {
      "text/plain": [
       "\n"
      ]
     },
     "metadata": {},
     "output_type": "display_data"
    },
    {
     "data": {
      "text/plain": [
       "0: 384x640 18 cars, 4 trucks, 4 traffic lights, 910.5ms\n"
      ]
     },
     "metadata": {},
     "output_type": "display_data"
    },
    {
     "data": {
      "text/plain": [
       "Speed: 2.4ms preprocess, 910.5ms inference, 1.0ms postprocess per image at shape (1, 3, 384, 640)\n"
      ]
     },
     "metadata": {},
     "output_type": "display_data"
    },
    {
     "data": {
      "text/plain": [
       "\n"
      ]
     },
     "metadata": {},
     "output_type": "display_data"
    },
    {
     "data": {
      "text/plain": [
       "0: 384x640 19 cars, 4 trucks, 4 traffic lights, 915.4ms\n"
      ]
     },
     "metadata": {},
     "output_type": "display_data"
    },
    {
     "data": {
      "text/plain": [
       "Speed: 3.1ms preprocess, 915.4ms inference, 1.5ms postprocess per image at shape (1, 3, 384, 640)\n"
      ]
     },
     "metadata": {},
     "output_type": "display_data"
    },
    {
     "data": {
      "text/plain": [
       "\n"
      ]
     },
     "metadata": {},
     "output_type": "display_data"
    },
    {
     "data": {
      "text/plain": [
       "0: 384x640 18 cars, 5 trucks, 4 traffic lights, 923.7ms\n"
      ]
     },
     "metadata": {},
     "output_type": "display_data"
    },
    {
     "data": {
      "text/plain": [
       "Speed: 3.1ms preprocess, 923.7ms inference, 1.2ms postprocess per image at shape (1, 3, 384, 640)\n"
      ]
     },
     "metadata": {},
     "output_type": "display_data"
    },
    {
     "data": {
      "text/plain": [
       "\n"
      ]
     },
     "metadata": {},
     "output_type": "display_data"
    },
    {
     "data": {
      "text/plain": [
       "0: 384x640 19 cars, 5 trucks, 4 traffic lights, 930.0ms\n"
      ]
     },
     "metadata": {},
     "output_type": "display_data"
    },
    {
     "data": {
      "text/plain": [
       "Speed: 2.4ms preprocess, 930.0ms inference, 0.9ms postprocess per image at shape (1, 3, 384, 640)\n"
      ]
     },
     "metadata": {},
     "output_type": "display_data"
    },
    {
     "data": {
      "text/plain": [
       "\n"
      ]
     },
     "metadata": {},
     "output_type": "display_data"
    },
    {
     "data": {
      "text/plain": [
       "0: 384x640 19 cars, 5 trucks, 4 traffic lights, 930.6ms\n"
      ]
     },
     "metadata": {},
     "output_type": "display_data"
    },
    {
     "data": {
      "text/plain": [
       "Speed: 3.2ms preprocess, 930.6ms inference, 0.9ms postprocess per image at shape (1, 3, 384, 640)\n"
      ]
     },
     "metadata": {},
     "output_type": "display_data"
    },
    {
     "data": {
      "text/plain": [
       "\n"
      ]
     },
     "metadata": {},
     "output_type": "display_data"
    },
    {
     "data": {
      "text/plain": [
       "0: 384x640 19 cars, 5 trucks, 4 traffic lights, 921.9ms\n"
      ]
     },
     "metadata": {},
     "output_type": "display_data"
    },
    {
     "data": {
      "text/plain": [
       "Speed: 2.2ms preprocess, 921.9ms inference, 1.3ms postprocess per image at shape (1, 3, 384, 640)\n"
      ]
     },
     "metadata": {},
     "output_type": "display_data"
    },
    {
     "data": {
      "text/plain": [
       "\n"
      ]
     },
     "metadata": {},
     "output_type": "display_data"
    },
    {
     "data": {
      "text/plain": [
       "0: 384x640 21 cars, 5 trucks, 4 traffic lights, 924.3ms\n"
      ]
     },
     "metadata": {},
     "output_type": "display_data"
    },
    {
     "data": {
      "text/plain": [
       "Speed: 2.5ms preprocess, 924.3ms inference, 1.6ms postprocess per image at shape (1, 3, 384, 640)\n"
      ]
     },
     "metadata": {},
     "output_type": "display_data"
    },
    {
     "data": {
      "text/plain": [
       "\n"
      ]
     },
     "metadata": {},
     "output_type": "display_data"
    },
    {
     "data": {
      "text/plain": [
       "0: 384x640 19 cars, 5 trucks, 4 traffic lights, 907.8ms\n"
      ]
     },
     "metadata": {},
     "output_type": "display_data"
    },
    {
     "data": {
      "text/plain": [
       "Speed: 2.1ms preprocess, 907.8ms inference, 0.9ms postprocess per image at shape (1, 3, 384, 640)\n"
      ]
     },
     "metadata": {},
     "output_type": "display_data"
    },
    {
     "data": {
      "text/plain": [
       "\n"
      ]
     },
     "metadata": {},
     "output_type": "display_data"
    },
    {
     "data": {
      "text/plain": [
       "0: 384x640 17 cars, 5 trucks, 4 traffic lights, 924.7ms\n"
      ]
     },
     "metadata": {},
     "output_type": "display_data"
    },
    {
     "data": {
      "text/plain": [
       "Speed: 2.1ms preprocess, 924.7ms inference, 0.9ms postprocess per image at shape (1, 3, 384, 640)\n"
      ]
     },
     "metadata": {},
     "output_type": "display_data"
    },
    {
     "data": {
      "text/plain": [
       "\n"
      ]
     },
     "metadata": {},
     "output_type": "display_data"
    },
    {
     "data": {
      "text/plain": [
       "0: 384x640 15 cars, 5 trucks, 4 traffic lights, 934.8ms\n"
      ]
     },
     "metadata": {},
     "output_type": "display_data"
    },
    {
     "data": {
      "text/plain": [
       "Speed: 2.1ms preprocess, 934.8ms inference, 1.2ms postprocess per image at shape (1, 3, 384, 640)\n"
      ]
     },
     "metadata": {},
     "output_type": "display_data"
    },
    {
     "data": {
      "text/plain": [
       "\n"
      ]
     },
     "metadata": {},
     "output_type": "display_data"
    },
    {
     "data": {
      "text/plain": [
       "0: 384x640 15 cars, 6 trucks, 4 traffic lights, 923.9ms\n"
      ]
     },
     "metadata": {},
     "output_type": "display_data"
    },
    {
     "data": {
      "text/plain": [
       "Speed: 2.1ms preprocess, 923.9ms inference, 0.9ms postprocess per image at shape (1, 3, 384, 640)\n"
      ]
     },
     "metadata": {},
     "output_type": "display_data"
    },
    {
     "data": {
      "text/plain": [
       "\n"
      ]
     },
     "metadata": {},
     "output_type": "display_data"
    },
    {
     "data": {
      "text/plain": [
       "0: 384x640 15 cars, 6 trucks, 4 traffic lights, 912.7ms\n"
      ]
     },
     "metadata": {},
     "output_type": "display_data"
    },
    {
     "data": {
      "text/plain": [
       "Speed: 2.3ms preprocess, 912.7ms inference, 0.9ms postprocess per image at shape (1, 3, 384, 640)\n"
      ]
     },
     "metadata": {},
     "output_type": "display_data"
    },
    {
     "data": {
      "text/plain": [
       "\n"
      ]
     },
     "metadata": {},
     "output_type": "display_data"
    },
    {
     "data": {
      "text/plain": [
       "0: 384x640 15 cars, 5 trucks, 4 traffic lights, 927.2ms\n"
      ]
     },
     "metadata": {},
     "output_type": "display_data"
    },
    {
     "data": {
      "text/plain": [
       "Speed: 2.3ms preprocess, 927.2ms inference, 0.9ms postprocess per image at shape (1, 3, 384, 640)\n"
      ]
     },
     "metadata": {},
     "output_type": "display_data"
    },
    {
     "data": {
      "text/plain": [
       "\n"
      ]
     },
     "metadata": {},
     "output_type": "display_data"
    },
    {
     "data": {
      "text/plain": [
       "0: 384x640 12 cars, 6 trucks, 4 traffic lights, 930.3ms\n"
      ]
     },
     "metadata": {},
     "output_type": "display_data"
    },
    {
     "data": {
      "text/plain": [
       "Speed: 3.3ms preprocess, 930.3ms inference, 0.9ms postprocess per image at shape (1, 3, 384, 640)\n"
      ]
     },
     "metadata": {},
     "output_type": "display_data"
    },
    {
     "data": {
      "text/plain": [
       "\n"
      ]
     },
     "metadata": {},
     "output_type": "display_data"
    },
    {
     "data": {
      "text/plain": [
       "0: 384x640 12 cars, 6 trucks, 4 traffic lights, 919.5ms\n"
      ]
     },
     "metadata": {},
     "output_type": "display_data"
    },
    {
     "data": {
      "text/plain": [
       "Speed: 2.1ms preprocess, 919.5ms inference, 1.0ms postprocess per image at shape (1, 3, 384, 640)\n"
      ]
     },
     "metadata": {},
     "output_type": "display_data"
    },
    {
     "data": {
      "text/plain": [
       "\n"
      ]
     },
     "metadata": {},
     "output_type": "display_data"
    },
    {
     "data": {
      "text/plain": [
       "0: 384x640 13 cars, 5 trucks, 4 traffic lights, 928.5ms\n"
      ]
     },
     "metadata": {},
     "output_type": "display_data"
    },
    {
     "data": {
      "text/plain": [
       "Speed: 2.3ms preprocess, 928.5ms inference, 0.9ms postprocess per image at shape (1, 3, 384, 640)\n"
      ]
     },
     "metadata": {},
     "output_type": "display_data"
    },
    {
     "data": {
      "text/plain": [
       "\n"
      ]
     },
     "metadata": {},
     "output_type": "display_data"
    },
    {
     "data": {
      "text/plain": [
       "0: 384x640 12 cars, 6 trucks, 4 traffic lights, 904.0ms\n"
      ]
     },
     "metadata": {},
     "output_type": "display_data"
    },
    {
     "data": {
      "text/plain": [
       "Speed: 2.2ms preprocess, 904.0ms inference, 1.0ms postprocess per image at shape (1, 3, 384, 640)\n"
      ]
     },
     "metadata": {},
     "output_type": "display_data"
    },
    {
     "data": {
      "text/plain": [
       "\n"
      ]
     },
     "metadata": {},
     "output_type": "display_data"
    },
    {
     "data": {
      "text/plain": [
       "0: 384x640 12 cars, 6 trucks, 4 traffic lights, 928.1ms\n"
      ]
     },
     "metadata": {},
     "output_type": "display_data"
    },
    {
     "data": {
      "text/plain": [
       "Speed: 2.1ms preprocess, 928.1ms inference, 0.9ms postprocess per image at shape (1, 3, 384, 640)\n"
      ]
     },
     "metadata": {},
     "output_type": "display_data"
    },
    {
     "data": {
      "text/plain": [
       "\n"
      ]
     },
     "metadata": {},
     "output_type": "display_data"
    },
    {
     "data": {
      "text/plain": [
       "0: 384x640 12 cars, 5 trucks, 4 traffic lights, 933.7ms\n"
      ]
     },
     "metadata": {},
     "output_type": "display_data"
    },
    {
     "data": {
      "text/plain": [
       "Speed: 2.1ms preprocess, 933.7ms inference, 0.9ms postprocess per image at shape (1, 3, 384, 640)\n"
      ]
     },
     "metadata": {},
     "output_type": "display_data"
    },
    {
     "data": {
      "text/plain": [
       "\n"
      ]
     },
     "metadata": {},
     "output_type": "display_data"
    },
    {
     "data": {
      "text/plain": [
       "0: 384x640 14 cars, 4 trucks, 4 traffic lights, 928.9ms\n"
      ]
     },
     "metadata": {},
     "output_type": "display_data"
    },
    {
     "data": {
      "text/plain": [
       "Speed: 2.2ms preprocess, 928.9ms inference, 0.9ms postprocess per image at shape (1, 3, 384, 640)\n"
      ]
     },
     "metadata": {},
     "output_type": "display_data"
    },
    {
     "data": {
      "text/plain": [
       "\n"
      ]
     },
     "metadata": {},
     "output_type": "display_data"
    },
    {
     "data": {
      "text/plain": [
       "0: 384x640 17 cars, 4 trucks, 4 traffic lights, 939.7ms\n"
      ]
     },
     "metadata": {},
     "output_type": "display_data"
    },
    {
     "data": {
      "text/plain": [
       "Speed: 2.0ms preprocess, 939.7ms inference, 1.2ms postprocess per image at shape (1, 3, 384, 640)\n"
      ]
     },
     "metadata": {},
     "output_type": "display_data"
    },
    {
     "data": {
      "text/plain": [
       "\n"
      ]
     },
     "metadata": {},
     "output_type": "display_data"
    },
    {
     "data": {
      "text/plain": [
       "0: 384x640 17 cars, 6 trucks, 4 traffic lights, 1064.1ms\n"
      ]
     },
     "metadata": {},
     "output_type": "display_data"
    },
    {
     "data": {
      "text/plain": [
       "Speed: 3.5ms preprocess, 1064.1ms inference, 1.3ms postprocess per image at shape (1, 3, 384, 640)\n"
      ]
     },
     "metadata": {},
     "output_type": "display_data"
    },
    {
     "data": {
      "text/plain": [
       "\n"
      ]
     },
     "metadata": {},
     "output_type": "display_data"
    },
    {
     "data": {
      "text/plain": [
       "0: 384x640 17 cars, 5 trucks, 4 traffic lights, 1014.3ms\n"
      ]
     },
     "metadata": {},
     "output_type": "display_data"
    },
    {
     "data": {
      "text/plain": [
       "Speed: 2.4ms preprocess, 1014.3ms inference, 1.2ms postprocess per image at shape (1, 3, 384, 640)\n"
      ]
     },
     "metadata": {},
     "output_type": "display_data"
    },
    {
     "data": {
      "text/plain": [
       "\n"
      ]
     },
     "metadata": {},
     "output_type": "display_data"
    },
    {
     "data": {
      "text/plain": [
       "0: 384x640 17 cars, 4 trucks, 4 traffic lights, 958.2ms\n"
      ]
     },
     "metadata": {},
     "output_type": "display_data"
    },
    {
     "data": {
      "text/plain": [
       "Speed: 2.6ms preprocess, 958.2ms inference, 0.9ms postprocess per image at shape (1, 3, 384, 640)\n"
      ]
     },
     "metadata": {},
     "output_type": "display_data"
    },
    {
     "data": {
      "text/plain": [
       "\n"
      ]
     },
     "metadata": {},
     "output_type": "display_data"
    },
    {
     "data": {
      "text/plain": [
       "0: 384x640 15 cars, 5 trucks, 4 traffic lights, 950.8ms\n"
      ]
     },
     "metadata": {},
     "output_type": "display_data"
    },
    {
     "data": {
      "text/plain": [
       "Speed: 2.2ms preprocess, 950.8ms inference, 1.2ms postprocess per image at shape (1, 3, 384, 640)\n"
      ]
     },
     "metadata": {},
     "output_type": "display_data"
    },
    {
     "data": {
      "text/plain": [
       "\n"
      ]
     },
     "metadata": {},
     "output_type": "display_data"
    },
    {
     "data": {
      "text/plain": [
       "0: 384x640 17 cars, 4 trucks, 4 traffic lights, 955.8ms\n"
      ]
     },
     "metadata": {},
     "output_type": "display_data"
    },
    {
     "data": {
      "text/plain": [
       "Speed: 2.7ms preprocess, 955.8ms inference, 1.2ms postprocess per image at shape (1, 3, 384, 640)\n"
      ]
     },
     "metadata": {},
     "output_type": "display_data"
    },
    {
     "data": {
      "text/plain": [
       "\n"
      ]
     },
     "metadata": {},
     "output_type": "display_data"
    },
    {
     "data": {
      "text/plain": [
       "0: 384x640 15 cars, 5 trucks, 4 traffic lights, 948.1ms\n"
      ]
     },
     "metadata": {},
     "output_type": "display_data"
    },
    {
     "data": {
      "text/plain": [
       "Speed: 2.2ms preprocess, 948.1ms inference, 1.3ms postprocess per image at shape (1, 3, 384, 640)\n"
      ]
     },
     "metadata": {},
     "output_type": "display_data"
    },
    {
     "data": {
      "text/plain": [
       "\n"
      ]
     },
     "metadata": {},
     "output_type": "display_data"
    },
    {
     "data": {
      "text/plain": [
       "0: 384x640 16 cars, 4 trucks, 4 traffic lights, 941.2ms\n"
      ]
     },
     "metadata": {},
     "output_type": "display_data"
    },
    {
     "data": {
      "text/plain": [
       "Speed: 2.3ms preprocess, 941.2ms inference, 1.5ms postprocess per image at shape (1, 3, 384, 640)\n"
      ]
     },
     "metadata": {},
     "output_type": "display_data"
    },
    {
     "data": {
      "text/plain": [
       "\n"
      ]
     },
     "metadata": {},
     "output_type": "display_data"
    },
    {
     "data": {
      "text/plain": [
       "0: 384x640 16 cars, 5 trucks, 4 traffic lights, 950.0ms\n"
      ]
     },
     "metadata": {},
     "output_type": "display_data"
    },
    {
     "data": {
      "text/plain": [
       "Speed: 2.4ms preprocess, 950.0ms inference, 1.1ms postprocess per image at shape (1, 3, 384, 640)\n"
      ]
     },
     "metadata": {},
     "output_type": "display_data"
    },
    {
     "data": {
      "text/plain": [
       "\n"
      ]
     },
     "metadata": {},
     "output_type": "display_data"
    },
    {
     "data": {
      "text/plain": [
       "0: 384x640 16 cars, 3 trucks, 4 traffic lights, 916.9ms\n"
      ]
     },
     "metadata": {},
     "output_type": "display_data"
    },
    {
     "data": {
      "text/plain": [
       "Speed: 2.2ms preprocess, 916.9ms inference, 1.0ms postprocess per image at shape (1, 3, 384, 640)\n"
      ]
     },
     "metadata": {},
     "output_type": "display_data"
    },
    {
     "data": {
      "text/plain": [
       "\n"
      ]
     },
     "metadata": {},
     "output_type": "display_data"
    },
    {
     "data": {
      "text/plain": [
       "0: 384x640 19 cars, 3 trucks, 4 traffic lights, 941.6ms\n"
      ]
     },
     "metadata": {},
     "output_type": "display_data"
    },
    {
     "data": {
      "text/plain": [
       "Speed: 2.3ms preprocess, 941.6ms inference, 1.8ms postprocess per image at shape (1, 3, 384, 640)\n"
      ]
     },
     "metadata": {},
     "output_type": "display_data"
    },
    {
     "data": {
      "text/plain": [
       "\n"
      ]
     },
     "metadata": {},
     "output_type": "display_data"
    },
    {
     "data": {
      "text/plain": [
       "0: 384x640 18 cars, 4 trucks, 4 traffic lights, 922.3ms\n"
      ]
     },
     "metadata": {},
     "output_type": "display_data"
    },
    {
     "data": {
      "text/plain": [
       "Speed: 2.6ms preprocess, 922.3ms inference, 1.1ms postprocess per image at shape (1, 3, 384, 640)\n"
      ]
     },
     "metadata": {},
     "output_type": "display_data"
    },
    {
     "data": {
      "text/plain": [
       "\n"
      ]
     },
     "metadata": {},
     "output_type": "display_data"
    },
    {
     "data": {
      "text/plain": [
       "0: 384x640 17 cars, 5 trucks, 4 traffic lights, 917.4ms\n"
      ]
     },
     "metadata": {},
     "output_type": "display_data"
    },
    {
     "data": {
      "text/plain": [
       "Speed: 2.3ms preprocess, 917.4ms inference, 1.8ms postprocess per image at shape (1, 3, 384, 640)\n"
      ]
     },
     "metadata": {},
     "output_type": "display_data"
    },
    {
     "data": {
      "text/plain": [
       "\n"
      ]
     },
     "metadata": {},
     "output_type": "display_data"
    },
    {
     "data": {
      "text/plain": [
       "0: 384x640 15 cars, 4 trucks, 4 traffic lights, 910.2ms\n"
      ]
     },
     "metadata": {},
     "output_type": "display_data"
    },
    {
     "data": {
      "text/plain": [
       "Speed: 2.5ms preprocess, 910.2ms inference, 1.3ms postprocess per image at shape (1, 3, 384, 640)\n"
      ]
     },
     "metadata": {},
     "output_type": "display_data"
    },
    {
     "data": {
      "text/plain": [
       "\n"
      ]
     },
     "metadata": {},
     "output_type": "display_data"
    },
    {
     "data": {
      "text/plain": [
       "0: 384x640 15 cars, 3 trucks, 4 traffic lights, 930.5ms\n"
      ]
     },
     "metadata": {},
     "output_type": "display_data"
    },
    {
     "data": {
      "text/plain": [
       "Speed: 2.8ms preprocess, 930.5ms inference, 1.2ms postprocess per image at shape (1, 3, 384, 640)\n"
      ]
     },
     "metadata": {},
     "output_type": "display_data"
    },
    {
     "data": {
      "text/plain": [
       "\n"
      ]
     },
     "metadata": {},
     "output_type": "display_data"
    },
    {
     "data": {
      "text/plain": [
       "0: 384x640 15 cars, 3 trucks, 4 traffic lights, 914.3ms\n"
      ]
     },
     "metadata": {},
     "output_type": "display_data"
    },
    {
     "data": {
      "text/plain": [
       "Speed: 2.3ms preprocess, 914.3ms inference, 0.9ms postprocess per image at shape (1, 3, 384, 640)\n"
      ]
     },
     "metadata": {},
     "output_type": "display_data"
    },
    {
     "data": {
      "text/plain": [
       "\n"
      ]
     },
     "metadata": {},
     "output_type": "display_data"
    },
    {
     "data": {
      "text/plain": [
       "0: 384x640 16 cars, 3 trucks, 3 traffic lights, 930.0ms\n"
      ]
     },
     "metadata": {},
     "output_type": "display_data"
    },
    {
     "data": {
      "text/plain": [
       "Speed: 2.7ms preprocess, 930.0ms inference, 1.2ms postprocess per image at shape (1, 3, 384, 640)\n"
      ]
     },
     "metadata": {},
     "output_type": "display_data"
    },
    {
     "data": {
      "text/plain": [
       "\n"
      ]
     },
     "metadata": {},
     "output_type": "display_data"
    },
    {
     "data": {
      "text/plain": [
       "0: 384x640 16 cars, 3 trucks, 3 traffic lights, 923.3ms\n"
      ]
     },
     "metadata": {},
     "output_type": "display_data"
    },
    {
     "data": {
      "text/plain": [
       "Speed: 2.8ms preprocess, 923.3ms inference, 1.0ms postprocess per image at shape (1, 3, 384, 640)\n"
      ]
     },
     "metadata": {},
     "output_type": "display_data"
    },
    {
     "data": {
      "text/plain": [
       "\n"
      ]
     },
     "metadata": {},
     "output_type": "display_data"
    },
    {
     "data": {
      "text/plain": [
       "0: 384x640 16 cars, 3 trucks, 3 traffic lights, 928.0ms\n"
      ]
     },
     "metadata": {},
     "output_type": "display_data"
    },
    {
     "data": {
      "text/plain": [
       "Speed: 2.8ms preprocess, 928.0ms inference, 1.1ms postprocess per image at shape (1, 3, 384, 640)\n"
      ]
     },
     "metadata": {},
     "output_type": "display_data"
    },
    {
     "data": {
      "text/plain": [
       "\n"
      ]
     },
     "metadata": {},
     "output_type": "display_data"
    },
    {
     "data": {
      "text/plain": [
       "0: 384x640 15 cars, 4 trucks, 3 traffic lights, 929.4ms\n"
      ]
     },
     "metadata": {},
     "output_type": "display_data"
    },
    {
     "data": {
      "text/plain": [
       "Speed: 2.3ms preprocess, 929.4ms inference, 1.1ms postprocess per image at shape (1, 3, 384, 640)\n"
      ]
     },
     "metadata": {},
     "output_type": "display_data"
    },
    {
     "data": {
      "text/plain": [
       "\n"
      ]
     },
     "metadata": {},
     "output_type": "display_data"
    },
    {
     "data": {
      "text/plain": [
       "0: 384x640 15 cars, 4 trucks, 3 traffic lights, 921.0ms\n"
      ]
     },
     "metadata": {},
     "output_type": "display_data"
    },
    {
     "data": {
      "text/plain": [
       "Speed: 3.9ms preprocess, 921.0ms inference, 1.5ms postprocess per image at shape (1, 3, 384, 640)\n"
      ]
     },
     "metadata": {},
     "output_type": "display_data"
    },
    {
     "data": {
      "text/plain": [
       "\n"
      ]
     },
     "metadata": {},
     "output_type": "display_data"
    },
    {
     "data": {
      "text/plain": [
       "0: 384x640 14 cars, 3 trucks, 3 traffic lights, 925.0ms\n"
      ]
     },
     "metadata": {},
     "output_type": "display_data"
    },
    {
     "data": {
      "text/plain": [
       "Speed: 2.3ms preprocess, 925.0ms inference, 1.2ms postprocess per image at shape (1, 3, 384, 640)\n"
      ]
     },
     "metadata": {},
     "output_type": "display_data"
    },
    {
     "data": {
      "text/plain": [
       "\n"
      ]
     },
     "metadata": {},
     "output_type": "display_data"
    },
    {
     "data": {
      "text/plain": [
       "0: 384x640 15 cars, 4 trucks, 3 traffic lights, 924.8ms\n"
      ]
     },
     "metadata": {},
     "output_type": "display_data"
    },
    {
     "data": {
      "text/plain": [
       "Speed: 2.3ms preprocess, 924.8ms inference, 1.7ms postprocess per image at shape (1, 3, 384, 640)\n"
      ]
     },
     "metadata": {},
     "output_type": "display_data"
    },
    {
     "data": {
      "text/plain": [
       "\n"
      ]
     },
     "metadata": {},
     "output_type": "display_data"
    },
    {
     "data": {
      "text/plain": [
       "0: 384x640 15 cars, 4 trucks, 3 traffic lights, 932.1ms\n"
      ]
     },
     "metadata": {},
     "output_type": "display_data"
    },
    {
     "data": {
      "text/plain": [
       "Speed: 2.7ms preprocess, 932.1ms inference, 1.2ms postprocess per image at shape (1, 3, 384, 640)\n"
      ]
     },
     "metadata": {},
     "output_type": "display_data"
    },
    {
     "data": {
      "text/plain": [
       "\n"
      ]
     },
     "metadata": {},
     "output_type": "display_data"
    },
    {
     "data": {
      "text/plain": [
       "0: 384x640 16 cars, 3 trucks, 3 traffic lights, 933.7ms\n"
      ]
     },
     "metadata": {},
     "output_type": "display_data"
    },
    {
     "data": {
      "text/plain": [
       "Speed: 2.3ms preprocess, 933.7ms inference, 0.9ms postprocess per image at shape (1, 3, 384, 640)\n"
      ]
     },
     "metadata": {},
     "output_type": "display_data"
    },
    {
     "data": {
      "text/plain": [
       "\n"
      ]
     },
     "metadata": {},
     "output_type": "display_data"
    },
    {
     "data": {
      "text/plain": [
       "0: 384x640 16 cars, 3 trucks, 3 traffic lights, 894.6ms\n"
      ]
     },
     "metadata": {},
     "output_type": "display_data"
    },
    {
     "data": {
      "text/plain": [
       "Speed: 2.4ms preprocess, 894.6ms inference, 1.9ms postprocess per image at shape (1, 3, 384, 640)\n"
      ]
     },
     "metadata": {},
     "output_type": "display_data"
    },
    {
     "data": {
      "text/plain": [
       "\n"
      ]
     },
     "metadata": {},
     "output_type": "display_data"
    },
    {
     "data": {
      "text/plain": [
       "0: 384x640 15 cars, 3 trucks, 3 traffic lights, 915.9ms\n"
      ]
     },
     "metadata": {},
     "output_type": "display_data"
    },
    {
     "data": {
      "text/plain": [
       "Speed: 2.2ms preprocess, 915.9ms inference, 1.0ms postprocess per image at shape (1, 3, 384, 640)\n"
      ]
     },
     "metadata": {},
     "output_type": "display_data"
    },
    {
     "data": {
      "text/plain": [
       "\n"
      ]
     },
     "metadata": {},
     "output_type": "display_data"
    },
    {
     "data": {
      "text/plain": [
       "0: 384x640 16 cars, 3 trucks, 3 traffic lights, 919.3ms\n"
      ]
     },
     "metadata": {},
     "output_type": "display_data"
    },
    {
     "data": {
      "text/plain": [
       "Speed: 2.5ms preprocess, 919.3ms inference, 1.9ms postprocess per image at shape (1, 3, 384, 640)\n"
      ]
     },
     "metadata": {},
     "output_type": "display_data"
    },
    {
     "data": {
      "text/plain": [
       "\n"
      ]
     },
     "metadata": {},
     "output_type": "display_data"
    },
    {
     "data": {
      "text/plain": [
       "0: 384x640 14 cars, 5 trucks, 3 traffic lights, 918.8ms\n"
      ]
     },
     "metadata": {},
     "output_type": "display_data"
    },
    {
     "data": {
      "text/plain": [
       "Speed: 2.2ms preprocess, 918.8ms inference, 1.7ms postprocess per image at shape (1, 3, 384, 640)\n"
      ]
     },
     "metadata": {},
     "output_type": "display_data"
    },
    {
     "data": {
      "text/plain": [
       "\n"
      ]
     },
     "metadata": {},
     "output_type": "display_data"
    },
    {
     "data": {
      "text/plain": [
       "0: 384x640 17 cars, 4 trucks, 3 traffic lights, 904.6ms\n"
      ]
     },
     "metadata": {},
     "output_type": "display_data"
    },
    {
     "data": {
      "text/plain": [
       "Speed: 3.0ms preprocess, 904.6ms inference, 0.9ms postprocess per image at shape (1, 3, 384, 640)\n"
      ]
     },
     "metadata": {},
     "output_type": "display_data"
    },
    {
     "data": {
      "text/plain": [
       "\n"
      ]
     },
     "metadata": {},
     "output_type": "display_data"
    },
    {
     "data": {
      "text/plain": [
       "0: 384x640 17 cars, 4 trucks, 3 traffic lights, 949.4ms\n"
      ]
     },
     "metadata": {},
     "output_type": "display_data"
    },
    {
     "data": {
      "text/plain": [
       "Speed: 2.7ms preprocess, 949.4ms inference, 2.3ms postprocess per image at shape (1, 3, 384, 640)\n"
      ]
     },
     "metadata": {},
     "output_type": "display_data"
    },
    {
     "data": {
      "text/plain": [
       "\n"
      ]
     },
     "metadata": {},
     "output_type": "display_data"
    },
    {
     "data": {
      "text/plain": [
       "0: 384x640 16 cars, 3 trucks, 3 traffic lights, 972.6ms\n"
      ]
     },
     "metadata": {},
     "output_type": "display_data"
    },
    {
     "data": {
      "text/plain": [
       "Speed: 4.6ms preprocess, 972.6ms inference, 2.1ms postprocess per image at shape (1, 3, 384, 640)\n"
      ]
     },
     "metadata": {},
     "output_type": "display_data"
    },
    {
     "data": {
      "text/plain": [
       "\n"
      ]
     },
     "metadata": {},
     "output_type": "display_data"
    },
    {
     "data": {
      "text/plain": [
       "0: 384x640 17 cars, 3 trucks, 3 traffic lights, 945.2ms\n"
      ]
     },
     "metadata": {},
     "output_type": "display_data"
    },
    {
     "data": {
      "text/plain": [
       "Speed: 2.2ms preprocess, 945.2ms inference, 1.0ms postprocess per image at shape (1, 3, 384, 640)\n"
      ]
     },
     "metadata": {},
     "output_type": "display_data"
    },
    {
     "data": {
      "text/plain": [
       "\n"
      ]
     },
     "metadata": {},
     "output_type": "display_data"
    },
    {
     "data": {
      "text/plain": [
       "0: 384x640 16 cars, 4 trucks, 3 traffic lights, 931.9ms\n"
      ]
     },
     "metadata": {},
     "output_type": "display_data"
    },
    {
     "data": {
      "text/plain": [
       "Speed: 2.1ms preprocess, 931.9ms inference, 1.0ms postprocess per image at shape (1, 3, 384, 640)\n"
      ]
     },
     "metadata": {},
     "output_type": "display_data"
    },
    {
     "data": {
      "text/plain": [
       "\n"
      ]
     },
     "metadata": {},
     "output_type": "display_data"
    },
    {
     "data": {
      "text/plain": [
       "0: 384x640 16 cars, 3 trucks, 3 traffic lights, 903.9ms\n"
      ]
     },
     "metadata": {},
     "output_type": "display_data"
    },
    {
     "data": {
      "text/plain": [
       "Speed: 4.2ms preprocess, 903.9ms inference, 1.0ms postprocess per image at shape (1, 3, 384, 640)\n"
      ]
     },
     "metadata": {},
     "output_type": "display_data"
    },
    {
     "data": {
      "text/plain": [
       "\n"
      ]
     },
     "metadata": {},
     "output_type": "display_data"
    },
    {
     "data": {
      "text/plain": [
       "0: 384x640 15 cars, 4 trucks, 3 traffic lights, 931.5ms\n"
      ]
     },
     "metadata": {},
     "output_type": "display_data"
    },
    {
     "data": {
      "text/plain": [
       "Speed: 2.3ms preprocess, 931.5ms inference, 1.0ms postprocess per image at shape (1, 3, 384, 640)\n"
      ]
     },
     "metadata": {},
     "output_type": "display_data"
    },
    {
     "data": {
      "text/plain": [
       "\n"
      ]
     },
     "metadata": {},
     "output_type": "display_data"
    },
    {
     "data": {
      "text/plain": [
       "0: 384x640 13 cars, 3 trucks, 3 traffic lights, 935.5ms\n"
      ]
     },
     "metadata": {},
     "output_type": "display_data"
    },
    {
     "data": {
      "text/plain": [
       "Speed: 2.2ms preprocess, 935.5ms inference, 0.9ms postprocess per image at shape (1, 3, 384, 640)\n"
      ]
     },
     "metadata": {},
     "output_type": "display_data"
    },
    {
     "data": {
      "text/plain": [
       "\n"
      ]
     },
     "metadata": {},
     "output_type": "display_data"
    },
    {
     "data": {
      "text/plain": [
       "0: 384x640 15 cars, 3 trucks, 3 traffic lights, 927.0ms\n"
      ]
     },
     "metadata": {},
     "output_type": "display_data"
    },
    {
     "data": {
      "text/plain": [
       "Speed: 2.3ms preprocess, 927.0ms inference, 1.4ms postprocess per image at shape (1, 3, 384, 640)\n"
      ]
     },
     "metadata": {},
     "output_type": "display_data"
    },
    {
     "data": {
      "text/plain": [
       "\n"
      ]
     },
     "metadata": {},
     "output_type": "display_data"
    },
    {
     "data": {
      "text/plain": [
       "0: 384x640 15 cars, 3 trucks, 3 traffic lights, 958.3ms\n"
      ]
     },
     "metadata": {},
     "output_type": "display_data"
    },
    {
     "data": {
      "text/plain": [
       "Speed: 3.5ms preprocess, 958.3ms inference, 1.0ms postprocess per image at shape (1, 3, 384, 640)\n"
      ]
     },
     "metadata": {},
     "output_type": "display_data"
    },
    {
     "data": {
      "text/plain": [
       "\n"
      ]
     },
     "metadata": {},
     "output_type": "display_data"
    },
    {
     "data": {
      "text/plain": [
       "0: 384x640 15 cars, 4 trucks, 3 traffic lights, 927.3ms\n"
      ]
     },
     "metadata": {},
     "output_type": "display_data"
    },
    {
     "data": {
      "text/plain": [
       "Speed: 2.3ms preprocess, 927.3ms inference, 0.9ms postprocess per image at shape (1, 3, 384, 640)\n"
      ]
     },
     "metadata": {},
     "output_type": "display_data"
    },
    {
     "data": {
      "text/plain": [
       "\n"
      ]
     },
     "metadata": {},
     "output_type": "display_data"
    },
    {
     "data": {
      "text/plain": [
       "0: 384x640 15 cars, 3 trucks, 3 traffic lights, 917.2ms\n"
      ]
     },
     "metadata": {},
     "output_type": "display_data"
    },
    {
     "data": {
      "text/plain": [
       "Speed: 2.0ms preprocess, 917.2ms inference, 1.0ms postprocess per image at shape (1, 3, 384, 640)\n"
      ]
     },
     "metadata": {},
     "output_type": "display_data"
    },
    {
     "data": {
      "text/plain": [
       "\n"
      ]
     },
     "metadata": {},
     "output_type": "display_data"
    },
    {
     "data": {
      "text/plain": [
       "0: 384x640 16 cars, 3 trucks, 3 traffic lights, 915.9ms\n"
      ]
     },
     "metadata": {},
     "output_type": "display_data"
    },
    {
     "data": {
      "text/plain": [
       "Speed: 2.2ms preprocess, 915.9ms inference, 1.6ms postprocess per image at shape (1, 3, 384, 640)\n"
      ]
     },
     "metadata": {},
     "output_type": "display_data"
    },
    {
     "data": {
      "text/plain": [
       "\n"
      ]
     },
     "metadata": {},
     "output_type": "display_data"
    },
    {
     "data": {
      "text/plain": [
       "0: 384x640 16 cars, 3 trucks, 3 traffic lights, 931.0ms\n"
      ]
     },
     "metadata": {},
     "output_type": "display_data"
    },
    {
     "data": {
      "text/plain": [
       "Speed: 2.3ms preprocess, 931.0ms inference, 1.8ms postprocess per image at shape (1, 3, 384, 640)\n"
      ]
     },
     "metadata": {},
     "output_type": "display_data"
    },
    {
     "data": {
      "text/plain": [
       "\n"
      ]
     },
     "metadata": {},
     "output_type": "display_data"
    },
    {
     "data": {
      "text/plain": [
       "0: 384x640 15 cars, 3 trucks, 3 traffic lights, 904.9ms\n"
      ]
     },
     "metadata": {},
     "output_type": "display_data"
    },
    {
     "data": {
      "text/plain": [
       "Speed: 3.3ms preprocess, 904.9ms inference, 1.7ms postprocess per image at shape (1, 3, 384, 640)\n"
      ]
     },
     "metadata": {},
     "output_type": "display_data"
    },
    {
     "data": {
      "text/plain": [
       "\n"
      ]
     },
     "metadata": {},
     "output_type": "display_data"
    },
    {
     "data": {
      "text/plain": [
       "0: 384x640 14 cars, 4 trucks, 3 traffic lights, 912.8ms\n"
      ]
     },
     "metadata": {},
     "output_type": "display_data"
    },
    {
     "data": {
      "text/plain": [
       "Speed: 2.3ms preprocess, 912.8ms inference, 2.0ms postprocess per image at shape (1, 3, 384, 640)\n"
      ]
     },
     "metadata": {},
     "output_type": "display_data"
    },
    {
     "data": {
      "text/plain": [
       "\n"
      ]
     },
     "metadata": {},
     "output_type": "display_data"
    },
    {
     "data": {
      "text/plain": [
       "0: 384x640 15 cars, 6 trucks, 3 traffic lights, 921.6ms\n"
      ]
     },
     "metadata": {},
     "output_type": "display_data"
    },
    {
     "data": {
      "text/plain": [
       "Speed: 2.5ms preprocess, 921.6ms inference, 1.1ms postprocess per image at shape (1, 3, 384, 640)\n"
      ]
     },
     "metadata": {},
     "output_type": "display_data"
    },
    {
     "data": {
      "text/plain": [
       "\n"
      ]
     },
     "metadata": {},
     "output_type": "display_data"
    },
    {
     "data": {
      "text/plain": [
       "0: 384x640 14 cars, 5 trucks, 3 traffic lights, 940.6ms\n"
      ]
     },
     "metadata": {},
     "output_type": "display_data"
    },
    {
     "data": {
      "text/plain": [
       "Speed: 2.4ms preprocess, 940.6ms inference, 1.6ms postprocess per image at shape (1, 3, 384, 640)\n"
      ]
     },
     "metadata": {},
     "output_type": "display_data"
    },
    {
     "data": {
      "text/plain": [
       "\n"
      ]
     },
     "metadata": {},
     "output_type": "display_data"
    },
    {
     "data": {
      "text/plain": [
       "0: 384x640 13 cars, 4 trucks, 4 traffic lights, 949.3ms\n"
      ]
     },
     "metadata": {},
     "output_type": "display_data"
    },
    {
     "data": {
      "text/plain": [
       "Speed: 2.5ms preprocess, 949.3ms inference, 1.0ms postprocess per image at shape (1, 3, 384, 640)\n"
      ]
     },
     "metadata": {},
     "output_type": "display_data"
    },
    {
     "data": {
      "text/plain": [
       "\n"
      ]
     },
     "metadata": {},
     "output_type": "display_data"
    },
    {
     "data": {
      "text/plain": [
       "0: 384x640 13 cars, 4 trucks, 4 traffic lights, 899.3ms\n"
      ]
     },
     "metadata": {},
     "output_type": "display_data"
    },
    {
     "data": {
      "text/plain": [
       "Speed: 3.7ms preprocess, 899.3ms inference, 0.9ms postprocess per image at shape (1, 3, 384, 640)\n"
      ]
     },
     "metadata": {},
     "output_type": "display_data"
    },
    {
     "data": {
      "text/plain": [
       "\n"
      ]
     },
     "metadata": {},
     "output_type": "display_data"
    },
    {
     "data": {
      "text/plain": [
       "0: 384x640 12 cars, 5 trucks, 3 traffic lights, 919.3ms\n"
      ]
     },
     "metadata": {},
     "output_type": "display_data"
    },
    {
     "data": {
      "text/plain": [
       "Speed: 2.3ms preprocess, 919.3ms inference, 1.0ms postprocess per image at shape (1, 3, 384, 640)\n"
      ]
     },
     "metadata": {},
     "output_type": "display_data"
    },
    {
     "data": {
      "text/plain": [
       "\n"
      ]
     },
     "metadata": {},
     "output_type": "display_data"
    },
    {
     "data": {
      "text/plain": [
       "0: 384x640 12 cars, 5 trucks, 3 traffic lights, 924.8ms\n"
      ]
     },
     "metadata": {},
     "output_type": "display_data"
    },
    {
     "data": {
      "text/plain": [
       "Speed: 2.1ms preprocess, 924.8ms inference, 1.0ms postprocess per image at shape (1, 3, 384, 640)\n"
      ]
     },
     "metadata": {},
     "output_type": "display_data"
    },
    {
     "data": {
      "text/plain": [
       "\n"
      ]
     },
     "metadata": {},
     "output_type": "display_data"
    },
    {
     "data": {
      "text/plain": [
       "0: 384x640 11 cars, 6 trucks, 3 traffic lights, 917.8ms\n"
      ]
     },
     "metadata": {},
     "output_type": "display_data"
    },
    {
     "data": {
      "text/plain": [
       "Speed: 2.1ms preprocess, 917.8ms inference, 1.0ms postprocess per image at shape (1, 3, 384, 640)\n"
      ]
     },
     "metadata": {},
     "output_type": "display_data"
    },
    {
     "data": {
      "text/plain": [
       "\n"
      ]
     },
     "metadata": {},
     "output_type": "display_data"
    },
    {
     "data": {
      "text/plain": [
       "0: 384x640 10 cars, 6 trucks, 4 traffic lights, 931.2ms\n"
      ]
     },
     "metadata": {},
     "output_type": "display_data"
    },
    {
     "data": {
      "text/plain": [
       "Speed: 2.0ms preprocess, 931.2ms inference, 1.9ms postprocess per image at shape (1, 3, 384, 640)\n"
      ]
     },
     "metadata": {},
     "output_type": "display_data"
    },
    {
     "data": {
      "text/plain": [
       "\n"
      ]
     },
     "metadata": {},
     "output_type": "display_data"
    },
    {
     "data": {
      "text/plain": [
       "0: 384x640 11 cars, 6 trucks, 4 traffic lights, 906.6ms\n"
      ]
     },
     "metadata": {},
     "output_type": "display_data"
    },
    {
     "data": {
      "text/plain": [
       "Speed: 2.1ms preprocess, 906.6ms inference, 1.6ms postprocess per image at shape (1, 3, 384, 640)\n"
      ]
     },
     "metadata": {},
     "output_type": "display_data"
    },
    {
     "data": {
      "text/plain": [
       "\n"
      ]
     },
     "metadata": {},
     "output_type": "display_data"
    },
    {
     "data": {
      "text/plain": [
       "0: 384x640 9 cars, 7 trucks, 4 traffic lights, 927.2ms\n"
      ]
     },
     "metadata": {},
     "output_type": "display_data"
    },
    {
     "data": {
      "text/plain": [
       "Speed: 3.7ms preprocess, 927.2ms inference, 1.9ms postprocess per image at shape (1, 3, 384, 640)\n"
      ]
     },
     "metadata": {},
     "output_type": "display_data"
    },
    {
     "data": {
      "text/plain": [
       "\n"
      ]
     },
     "metadata": {},
     "output_type": "display_data"
    },
    {
     "data": {
      "text/plain": [
       "0: 384x640 8 cars, 7 trucks, 4 traffic lights, 918.5ms\n"
      ]
     },
     "metadata": {},
     "output_type": "display_data"
    },
    {
     "data": {
      "text/plain": [
       "Speed: 2.5ms preprocess, 918.5ms inference, 1.0ms postprocess per image at shape (1, 3, 384, 640)\n"
      ]
     },
     "metadata": {},
     "output_type": "display_data"
    },
    {
     "data": {
      "text/plain": [
       "\n"
      ]
     },
     "metadata": {},
     "output_type": "display_data"
    },
    {
     "data": {
      "text/plain": [
       "0: 384x640 12 cars, 5 trucks, 4 traffic lights, 934.5ms\n"
      ]
     },
     "metadata": {},
     "output_type": "display_data"
    },
    {
     "data": {
      "text/plain": [
       "Speed: 2.1ms preprocess, 934.5ms inference, 1.0ms postprocess per image at shape (1, 3, 384, 640)\n"
      ]
     },
     "metadata": {},
     "output_type": "display_data"
    },
    {
     "data": {
      "text/plain": [
       "\n"
      ]
     },
     "metadata": {},
     "output_type": "display_data"
    },
    {
     "data": {
      "text/plain": [
       "0: 384x640 13 cars, 5 trucks, 4 traffic lights, 955.4ms\n"
      ]
     },
     "metadata": {},
     "output_type": "display_data"
    },
    {
     "data": {
      "text/plain": [
       "Speed: 2.1ms preprocess, 955.4ms inference, 1.2ms postprocess per image at shape (1, 3, 384, 640)\n"
      ]
     },
     "metadata": {},
     "output_type": "display_data"
    },
    {
     "data": {
      "text/plain": [
       "\n"
      ]
     },
     "metadata": {},
     "output_type": "display_data"
    },
    {
     "data": {
      "text/plain": [
       "0: 384x640 12 cars, 5 trucks, 4 traffic lights, 936.3ms\n"
      ]
     },
     "metadata": {},
     "output_type": "display_data"
    },
    {
     "data": {
      "text/plain": [
       "Speed: 4.3ms preprocess, 936.3ms inference, 1.1ms postprocess per image at shape (1, 3, 384, 640)\n"
      ]
     },
     "metadata": {},
     "output_type": "display_data"
    },
    {
     "data": {
      "text/plain": [
       "\n"
      ]
     },
     "metadata": {},
     "output_type": "display_data"
    },
    {
     "data": {
      "text/plain": [
       "0: 384x640 10 cars, 6 trucks, 4 traffic lights, 915.3ms\n"
      ]
     },
     "metadata": {},
     "output_type": "display_data"
    },
    {
     "data": {
      "text/plain": [
       "Speed: 2.0ms preprocess, 915.3ms inference, 0.9ms postprocess per image at shape (1, 3, 384, 640)\n"
      ]
     },
     "metadata": {},
     "output_type": "display_data"
    },
    {
     "data": {
      "text/plain": [
       "\n"
      ]
     },
     "metadata": {},
     "output_type": "display_data"
    },
    {
     "data": {
      "text/plain": [
       "0: 384x640 11 cars, 6 trucks, 4 traffic lights, 947.3ms\n"
      ]
     },
     "metadata": {},
     "output_type": "display_data"
    },
    {
     "data": {
      "text/plain": [
       "Speed: 2.4ms preprocess, 947.3ms inference, 1.0ms postprocess per image at shape (1, 3, 384, 640)\n"
      ]
     },
     "metadata": {},
     "output_type": "display_data"
    },
    {
     "data": {
      "text/plain": [
       "\n"
      ]
     },
     "metadata": {},
     "output_type": "display_data"
    },
    {
     "data": {
      "text/plain": [
       "0: 384x640 10 cars, 5 trucks, 4 traffic lights, 945.4ms\n"
      ]
     },
     "metadata": {},
     "output_type": "display_data"
    },
    {
     "data": {
      "text/plain": [
       "Speed: 3.6ms preprocess, 945.4ms inference, 1.3ms postprocess per image at shape (1, 3, 384, 640)\n"
      ]
     },
     "metadata": {},
     "output_type": "display_data"
    },
    {
     "data": {
      "text/plain": [
       "\n"
      ]
     },
     "metadata": {},
     "output_type": "display_data"
    },
    {
     "data": {
      "text/plain": [
       "0: 384x640 12 cars, 6 trucks, 4 traffic lights, 962.5ms\n"
      ]
     },
     "metadata": {},
     "output_type": "display_data"
    },
    {
     "data": {
      "text/plain": [
       "Speed: 3.5ms preprocess, 962.5ms inference, 1.0ms postprocess per image at shape (1, 3, 384, 640)\n"
      ]
     },
     "metadata": {},
     "output_type": "display_data"
    },
    {
     "data": {
      "text/plain": [
       "\n"
      ]
     },
     "metadata": {},
     "output_type": "display_data"
    },
    {
     "data": {
      "text/plain": [
       "0: 384x640 11 cars, 7 trucks, 5 traffic lights, 919.4ms\n"
      ]
     },
     "metadata": {},
     "output_type": "display_data"
    },
    {
     "data": {
      "text/plain": [
       "Speed: 2.2ms preprocess, 919.4ms inference, 1.2ms postprocess per image at shape (1, 3, 384, 640)\n"
      ]
     },
     "metadata": {},
     "output_type": "display_data"
    },
    {
     "data": {
      "text/plain": [
       "\n"
      ]
     },
     "metadata": {},
     "output_type": "display_data"
    },
    {
     "data": {
      "text/plain": [
       "0: 384x640 12 cars, 6 trucks, 5 traffic lights, 929.8ms\n"
      ]
     },
     "metadata": {},
     "output_type": "display_data"
    },
    {
     "data": {
      "text/plain": [
       "Speed: 2.1ms preprocess, 929.8ms inference, 1.2ms postprocess per image at shape (1, 3, 384, 640)\n"
      ]
     },
     "metadata": {},
     "output_type": "display_data"
    },
    {
     "data": {
      "text/plain": [
       "\n"
      ]
     },
     "metadata": {},
     "output_type": "display_data"
    },
    {
     "data": {
      "text/plain": [
       "0: 384x640 12 cars, 6 trucks, 5 traffic lights, 967.8ms\n"
      ]
     },
     "metadata": {},
     "output_type": "display_data"
    },
    {
     "data": {
      "text/plain": [
       "Speed: 2.4ms preprocess, 967.8ms inference, 1.0ms postprocess per image at shape (1, 3, 384, 640)\n"
      ]
     },
     "metadata": {},
     "output_type": "display_data"
    },
    {
     "data": {
      "text/plain": [
       "\n"
      ]
     },
     "metadata": {},
     "output_type": "display_data"
    },
    {
     "data": {
      "text/plain": [
       "0: 384x640 12 cars, 5 trucks, 3 traffic lights, 965.5ms\n"
      ]
     },
     "metadata": {},
     "output_type": "display_data"
    },
    {
     "data": {
      "text/plain": [
       "Speed: 2.2ms preprocess, 965.5ms inference, 1.1ms postprocess per image at shape (1, 3, 384, 640)\n"
      ]
     },
     "metadata": {},
     "output_type": "display_data"
    },
    {
     "data": {
      "text/plain": [
       "\n"
      ]
     },
     "metadata": {},
     "output_type": "display_data"
    },
    {
     "data": {
      "text/plain": [
       "0: 384x640 12 cars, 4 trucks, 3 traffic lights, 937.2ms\n"
      ]
     },
     "metadata": {},
     "output_type": "display_data"
    },
    {
     "data": {
      "text/plain": [
       "Speed: 2.4ms preprocess, 937.2ms inference, 1.7ms postprocess per image at shape (1, 3, 384, 640)\n"
      ]
     },
     "metadata": {},
     "output_type": "display_data"
    },
    {
     "data": {
      "text/plain": [
       "\n"
      ]
     },
     "metadata": {},
     "output_type": "display_data"
    },
    {
     "data": {
      "text/plain": [
       "0: 384x640 10 cars, 7 trucks, 3 traffic lights, 928.5ms\n"
      ]
     },
     "metadata": {},
     "output_type": "display_data"
    },
    {
     "data": {
      "text/plain": [
       "Speed: 2.0ms preprocess, 928.5ms inference, 1.0ms postprocess per image at shape (1, 3, 384, 640)\n"
      ]
     },
     "metadata": {},
     "output_type": "display_data"
    },
    {
     "data": {
      "text/plain": [
       "\n"
      ]
     },
     "metadata": {},
     "output_type": "display_data"
    },
    {
     "data": {
      "text/plain": [
       "0: 384x640 13 cars, 4 trucks, 3 traffic lights, 938.2ms\n"
      ]
     },
     "metadata": {},
     "output_type": "display_data"
    },
    {
     "data": {
      "text/plain": [
       "Speed: 2.3ms preprocess, 938.2ms inference, 1.0ms postprocess per image at shape (1, 3, 384, 640)\n"
      ]
     },
     "metadata": {},
     "output_type": "display_data"
    },
    {
     "data": {
      "text/plain": [
       "\n"
      ]
     },
     "metadata": {},
     "output_type": "display_data"
    },
    {
     "data": {
      "text/plain": [
       "0: 384x640 12 cars, 4 trucks, 3 traffic lights, 928.5ms\n"
      ]
     },
     "metadata": {},
     "output_type": "display_data"
    },
    {
     "data": {
      "text/plain": [
       "Speed: 2.1ms preprocess, 928.5ms inference, 1.0ms postprocess per image at shape (1, 3, 384, 640)\n"
      ]
     },
     "metadata": {},
     "output_type": "display_data"
    },
    {
     "data": {
      "text/plain": [
       "\n"
      ]
     },
     "metadata": {},
     "output_type": "display_data"
    },
    {
     "data": {
      "text/plain": [
       "0: 384x640 14 cars, 1 bus, 3 trucks, 3 traffic lights, 925.6ms\n"
      ]
     },
     "metadata": {},
     "output_type": "display_data"
    },
    {
     "data": {
      "text/plain": [
       "Speed: 2.0ms preprocess, 925.6ms inference, 1.0ms postprocess per image at shape (1, 3, 384, 640)\n"
      ]
     },
     "metadata": {},
     "output_type": "display_data"
    },
    {
     "data": {
      "text/plain": [
       "\n"
      ]
     },
     "metadata": {},
     "output_type": "display_data"
    },
    {
     "data": {
      "text/plain": [
       "0: 384x640 11 cars, 7 trucks, 3 traffic lights, 942.5ms\n"
      ]
     },
     "metadata": {},
     "output_type": "display_data"
    },
    {
     "data": {
      "text/plain": [
       "Speed: 2.1ms preprocess, 942.5ms inference, 1.3ms postprocess per image at shape (1, 3, 384, 640)\n"
      ]
     },
     "metadata": {},
     "output_type": "display_data"
    },
    {
     "data": {
      "text/plain": [
       "\n"
      ]
     },
     "metadata": {},
     "output_type": "display_data"
    },
    {
     "data": {
      "text/plain": [
       "0: 384x640 11 cars, 7 trucks, 3 traffic lights, 938.2ms\n"
      ]
     },
     "metadata": {},
     "output_type": "display_data"
    },
    {
     "data": {
      "text/plain": [
       "Speed: 2.5ms preprocess, 938.2ms inference, 1.4ms postprocess per image at shape (1, 3, 384, 640)\n"
      ]
     },
     "metadata": {},
     "output_type": "display_data"
    },
    {
     "data": {
      "text/plain": [
       "\n"
      ]
     },
     "metadata": {},
     "output_type": "display_data"
    },
    {
     "data": {
      "text/plain": [
       "0: 384x640 12 cars, 6 trucks, 3 traffic lights, 901.8ms\n"
      ]
     },
     "metadata": {},
     "output_type": "display_data"
    },
    {
     "data": {
      "text/plain": [
       "Speed: 3.0ms preprocess, 901.8ms inference, 1.3ms postprocess per image at shape (1, 3, 384, 640)\n"
      ]
     },
     "metadata": {},
     "output_type": "display_data"
    },
    {
     "data": {
      "text/plain": [
       "\n"
      ]
     },
     "metadata": {},
     "output_type": "display_data"
    },
    {
     "data": {
      "text/plain": [
       "0: 384x640 12 cars, 1 bus, 4 trucks, 3 traffic lights, 947.1ms\n"
      ]
     },
     "metadata": {},
     "output_type": "display_data"
    },
    {
     "data": {
      "text/plain": [
       "Speed: 2.9ms preprocess, 947.1ms inference, 1.5ms postprocess per image at shape (1, 3, 384, 640)\n"
      ]
     },
     "metadata": {},
     "output_type": "display_data"
    },
    {
     "data": {
      "text/plain": [
       "\n"
      ]
     },
     "metadata": {},
     "output_type": "display_data"
    },
    {
     "data": {
      "text/plain": [
       "0: 384x640 11 cars, 6 trucks, 3 traffic lights, 1107.4ms\n"
      ]
     },
     "metadata": {},
     "output_type": "display_data"
    },
    {
     "data": {
      "text/plain": [
       "Speed: 2.5ms preprocess, 1107.4ms inference, 1.3ms postprocess per image at shape (1, 3, 384, 640)\n"
      ]
     },
     "metadata": {},
     "output_type": "display_data"
    },
    {
     "data": {
      "text/plain": [
       "\n"
      ]
     },
     "metadata": {},
     "output_type": "display_data"
    },
    {
     "data": {
      "text/plain": [
       "0: 384x640 11 cars, 5 trucks, 3 traffic lights, 1066.9ms\n"
      ]
     },
     "metadata": {},
     "output_type": "display_data"
    },
    {
     "data": {
      "text/plain": [
       "Speed: 2.5ms preprocess, 1066.9ms inference, 1.4ms postprocess per image at shape (1, 3, 384, 640)\n"
      ]
     },
     "metadata": {},
     "output_type": "display_data"
    },
    {
     "data": {
      "text/plain": [
       "\n"
      ]
     },
     "metadata": {},
     "output_type": "display_data"
    },
    {
     "data": {
      "text/plain": [
       "0: 384x640 10 cars, 5 trucks, 3 traffic lights, 977.7ms\n"
      ]
     },
     "metadata": {},
     "output_type": "display_data"
    },
    {
     "data": {
      "text/plain": [
       "Speed: 2.5ms preprocess, 977.7ms inference, 1.1ms postprocess per image at shape (1, 3, 384, 640)\n"
      ]
     },
     "metadata": {},
     "output_type": "display_data"
    },
    {
     "data": {
      "text/plain": [
       "\n"
      ]
     },
     "metadata": {},
     "output_type": "display_data"
    },
    {
     "data": {
      "text/plain": [
       "0: 384x640 10 cars, 5 trucks, 3 traffic lights, 939.2ms\n"
      ]
     },
     "metadata": {},
     "output_type": "display_data"
    },
    {
     "data": {
      "text/plain": [
       "Speed: 2.3ms preprocess, 939.2ms inference, 1.1ms postprocess per image at shape (1, 3, 384, 640)\n"
      ]
     },
     "metadata": {},
     "output_type": "display_data"
    },
    {
     "data": {
      "text/plain": [
       "\n"
      ]
     },
     "metadata": {},
     "output_type": "display_data"
    },
    {
     "data": {
      "text/plain": [
       "0: 384x640 11 cars, 5 trucks, 3 traffic lights, 968.0ms\n"
      ]
     },
     "metadata": {},
     "output_type": "display_data"
    },
    {
     "data": {
      "text/plain": [
       "Speed: 2.3ms preprocess, 968.0ms inference, 1.4ms postprocess per image at shape (1, 3, 384, 640)\n"
      ]
     },
     "metadata": {},
     "output_type": "display_data"
    },
    {
     "data": {
      "text/plain": [
       "\n"
      ]
     },
     "metadata": {},
     "output_type": "display_data"
    },
    {
     "data": {
      "text/plain": [
       "0: 384x640 9 cars, 6 trucks, 3 traffic lights, 1064.5ms\n"
      ]
     },
     "metadata": {},
     "output_type": "display_data"
    },
    {
     "data": {
      "text/plain": [
       "Speed: 2.5ms preprocess, 1064.5ms inference, 1.4ms postprocess per image at shape (1, 3, 384, 640)\n"
      ]
     },
     "metadata": {},
     "output_type": "display_data"
    },
    {
     "data": {
      "text/plain": [
       "\n"
      ]
     },
     "metadata": {},
     "output_type": "display_data"
    },
    {
     "data": {
      "text/plain": [
       "0: 384x640 11 cars, 4 trucks, 3 traffic lights, 1066.9ms\n"
      ]
     },
     "metadata": {},
     "output_type": "display_data"
    },
    {
     "data": {
      "text/plain": [
       "Speed: 2.6ms preprocess, 1066.9ms inference, 1.2ms postprocess per image at shape (1, 3, 384, 640)\n"
      ]
     },
     "metadata": {},
     "output_type": "display_data"
    },
    {
     "data": {
      "text/plain": [
       "\n"
      ]
     },
     "metadata": {},
     "output_type": "display_data"
    },
    {
     "data": {
      "text/plain": [
       "0: 384x640 10 cars, 5 trucks, 3 traffic lights, 951.9ms\n"
      ]
     },
     "metadata": {},
     "output_type": "display_data"
    },
    {
     "data": {
      "text/plain": [
       "Speed: 2.3ms preprocess, 951.9ms inference, 1.0ms postprocess per image at shape (1, 3, 384, 640)\n"
      ]
     },
     "metadata": {},
     "output_type": "display_data"
    },
    {
     "data": {
      "text/plain": [
       "\n"
      ]
     },
     "metadata": {},
     "output_type": "display_data"
    },
    {
     "data": {
      "text/plain": [
       "0: 384x640 9 cars, 4 trucks, 3 traffic lights, 927.6ms\n"
      ]
     },
     "metadata": {},
     "output_type": "display_data"
    },
    {
     "data": {
      "text/plain": [
       "Speed: 2.1ms preprocess, 927.6ms inference, 0.9ms postprocess per image at shape (1, 3, 384, 640)\n"
      ]
     },
     "metadata": {},
     "output_type": "display_data"
    },
    {
     "data": {
      "text/plain": [
       "\n"
      ]
     },
     "metadata": {},
     "output_type": "display_data"
    },
    {
     "data": {
      "text/plain": [
       "0: 384x640 8 cars, 5 trucks, 3 traffic lights, 885.1ms\n"
      ]
     },
     "metadata": {},
     "output_type": "display_data"
    },
    {
     "data": {
      "text/plain": [
       "Speed: 2.4ms preprocess, 885.1ms inference, 1.0ms postprocess per image at shape (1, 3, 384, 640)\n"
      ]
     },
     "metadata": {},
     "output_type": "display_data"
    },
    {
     "data": {
      "text/plain": [
       "\n"
      ]
     },
     "metadata": {},
     "output_type": "display_data"
    },
    {
     "data": {
      "text/plain": [
       "0: 384x640 7 cars, 4 trucks, 3 traffic lights, 886.2ms\n"
      ]
     },
     "metadata": {},
     "output_type": "display_data"
    },
    {
     "data": {
      "text/plain": [
       "Speed: 11.3ms preprocess, 886.2ms inference, 0.9ms postprocess per image at shape (1, 3, 384, 640)\n"
      ]
     },
     "metadata": {},
     "output_type": "display_data"
    },
    {
     "data": {
      "text/plain": [
       "\n"
      ]
     },
     "metadata": {},
     "output_type": "display_data"
    },
    {
     "data": {
      "text/plain": [
       "0: 384x640 7 cars, 4 trucks, 3 traffic lights, 918.2ms\n"
      ]
     },
     "metadata": {},
     "output_type": "display_data"
    },
    {
     "data": {
      "text/plain": [
       "Speed: 2.2ms preprocess, 918.2ms inference, 0.9ms postprocess per image at shape (1, 3, 384, 640)\n"
      ]
     },
     "metadata": {},
     "output_type": "display_data"
    },
    {
     "data": {
      "text/plain": [
       "\n"
      ]
     },
     "metadata": {},
     "output_type": "display_data"
    },
    {
     "data": {
      "text/plain": [
       "0: 384x640 8 cars, 4 trucks, 4 traffic lights, 905.9ms\n"
      ]
     },
     "metadata": {},
     "output_type": "display_data"
    },
    {
     "data": {
      "text/plain": [
       "Speed: 2.0ms preprocess, 905.9ms inference, 1.3ms postprocess per image at shape (1, 3, 384, 640)\n"
      ]
     },
     "metadata": {},
     "output_type": "display_data"
    },
    {
     "data": {
      "text/plain": [
       "\n"
      ]
     },
     "metadata": {},
     "output_type": "display_data"
    },
    {
     "data": {
      "text/plain": [
       "0: 384x640 8 cars, 4 trucks, 3 traffic lights, 911.2ms\n"
      ]
     },
     "metadata": {},
     "output_type": "display_data"
    },
    {
     "data": {
      "text/plain": [
       "Speed: 3.1ms preprocess, 911.2ms inference, 1.1ms postprocess per image at shape (1, 3, 384, 640)\n"
      ]
     },
     "metadata": {},
     "output_type": "display_data"
    },
    {
     "data": {
      "text/plain": [
       "\n"
      ]
     },
     "metadata": {},
     "output_type": "display_data"
    },
    {
     "data": {
      "text/plain": [
       "0: 384x640 8 cars, 3 trucks, 3 traffic lights, 934.0ms\n"
      ]
     },
     "metadata": {},
     "output_type": "display_data"
    },
    {
     "data": {
      "text/plain": [
       "Speed: 3.3ms preprocess, 934.0ms inference, 1.2ms postprocess per image at shape (1, 3, 384, 640)\n"
      ]
     },
     "metadata": {},
     "output_type": "display_data"
    },
    {
     "data": {
      "text/plain": [
       "\n"
      ]
     },
     "metadata": {},
     "output_type": "display_data"
    },
    {
     "data": {
      "text/plain": [
       "0: 384x640 8 cars, 3 trucks, 3 traffic lights, 930.3ms\n"
      ]
     },
     "metadata": {},
     "output_type": "display_data"
    },
    {
     "data": {
      "text/plain": [
       "Speed: 2.5ms preprocess, 930.3ms inference, 1.0ms postprocess per image at shape (1, 3, 384, 640)\n"
      ]
     },
     "metadata": {},
     "output_type": "display_data"
    },
    {
     "data": {
      "text/plain": [
       "\n"
      ]
     },
     "metadata": {},
     "output_type": "display_data"
    },
    {
     "data": {
      "text/plain": [
       "0: 384x640 8 cars, 3 trucks, 3 traffic lights, 910.5ms\n"
      ]
     },
     "metadata": {},
     "output_type": "display_data"
    },
    {
     "data": {
      "text/plain": [
       "Speed: 4.2ms preprocess, 910.5ms inference, 1.4ms postprocess per image at shape (1, 3, 384, 640)\n"
      ]
     },
     "metadata": {},
     "output_type": "display_data"
    },
    {
     "data": {
      "text/plain": [
       "\n"
      ]
     },
     "metadata": {},
     "output_type": "display_data"
    },
    {
     "data": {
      "text/plain": [
       "0: 384x640 8 cars, 3 trucks, 3 traffic lights, 963.0ms\n"
      ]
     },
     "metadata": {},
     "output_type": "display_data"
    },
    {
     "data": {
      "text/plain": [
       "Speed: 2.4ms preprocess, 963.0ms inference, 1.4ms postprocess per image at shape (1, 3, 384, 640)\n"
      ]
     },
     "metadata": {},
     "output_type": "display_data"
    },
    {
     "data": {
      "text/plain": [
       "\n"
      ]
     },
     "metadata": {},
     "output_type": "display_data"
    },
    {
     "data": {
      "text/plain": [
       "0: 384x640 8 cars, 3 trucks, 3 traffic lights, 1143.2ms\n"
      ]
     },
     "metadata": {},
     "output_type": "display_data"
    },
    {
     "data": {
      "text/plain": [
       "Speed: 3.3ms preprocess, 1143.2ms inference, 1.7ms postprocess per image at shape (1, 3, 384, 640)\n"
      ]
     },
     "metadata": {},
     "output_type": "display_data"
    },
    {
     "data": {
      "text/plain": [
       "\n"
      ]
     },
     "metadata": {},
     "output_type": "display_data"
    },
    {
     "data": {
      "text/plain": [
       "0: 384x640 7 cars, 3 trucks, 3 traffic lights, 1049.3ms\n"
      ]
     },
     "metadata": {},
     "output_type": "display_data"
    },
    {
     "data": {
      "text/plain": [
       "Speed: 3.8ms preprocess, 1049.3ms inference, 1.7ms postprocess per image at shape (1, 3, 384, 640)\n"
      ]
     },
     "metadata": {},
     "output_type": "display_data"
    },
    {
     "data": {
      "text/plain": [
       "\n"
      ]
     },
     "metadata": {},
     "output_type": "display_data"
    },
    {
     "data": {
      "text/plain": [
       "0: 384x640 7 cars, 4 trucks, 4 traffic lights, 928.2ms\n"
      ]
     },
     "metadata": {},
     "output_type": "display_data"
    },
    {
     "data": {
      "text/plain": [
       "Speed: 2.3ms preprocess, 928.2ms inference, 1.5ms postprocess per image at shape (1, 3, 384, 640)\n"
      ]
     },
     "metadata": {},
     "output_type": "display_data"
    },
    {
     "data": {
      "text/plain": [
       "\n"
      ]
     },
     "metadata": {},
     "output_type": "display_data"
    },
    {
     "data": {
      "text/plain": [
       "0: 384x640 8 cars, 4 trucks, 4 traffic lights, 1090.3ms\n"
      ]
     },
     "metadata": {},
     "output_type": "display_data"
    },
    {
     "data": {
      "text/plain": [
       "Speed: 3.0ms preprocess, 1090.3ms inference, 1.7ms postprocess per image at shape (1, 3, 384, 640)\n"
      ]
     },
     "metadata": {},
     "output_type": "display_data"
    },
    {
     "data": {
      "text/plain": [
       "\n"
      ]
     },
     "metadata": {},
     "output_type": "display_data"
    },
    {
     "data": {
      "text/plain": [
       "0: 384x640 9 cars, 3 trucks, 4 traffic lights, 1154.6ms\n"
      ]
     },
     "metadata": {},
     "output_type": "display_data"
    },
    {
     "data": {
      "text/plain": [
       "Speed: 3.3ms preprocess, 1154.6ms inference, 2.0ms postprocess per image at shape (1, 3, 384, 640)\n"
      ]
     },
     "metadata": {},
     "output_type": "display_data"
    },
    {
     "data": {
      "text/plain": [
       "\n"
      ]
     },
     "metadata": {},
     "output_type": "display_data"
    },
    {
     "data": {
      "text/plain": [
       "0: 384x640 9 cars, 3 trucks, 4 traffic lights, 1150.8ms\n"
      ]
     },
     "metadata": {},
     "output_type": "display_data"
    },
    {
     "data": {
      "text/plain": [
       "Speed: 2.8ms preprocess, 1150.8ms inference, 1.5ms postprocess per image at shape (1, 3, 384, 640)\n"
      ]
     },
     "metadata": {},
     "output_type": "display_data"
    },
    {
     "data": {
      "text/plain": [
       "\n"
      ]
     },
     "metadata": {},
     "output_type": "display_data"
    },
    {
     "data": {
      "text/plain": [
       "0: 384x640 9 cars, 3 trucks, 4 traffic lights, 1134.3ms\n"
      ]
     },
     "metadata": {},
     "output_type": "display_data"
    },
    {
     "data": {
      "text/plain": [
       "Speed: 3.0ms preprocess, 1134.3ms inference, 1.5ms postprocess per image at shape (1, 3, 384, 640)\n"
      ]
     },
     "metadata": {},
     "output_type": "display_data"
    },
    {
     "data": {
      "text/plain": [
       "\n"
      ]
     },
     "metadata": {},
     "output_type": "display_data"
    },
    {
     "data": {
      "text/plain": [
       "0: 384x640 9 cars, 4 trucks, 4 traffic lights, 1133.8ms\n"
      ]
     },
     "metadata": {},
     "output_type": "display_data"
    },
    {
     "data": {
      "text/plain": [
       "Speed: 15.1ms preprocess, 1133.8ms inference, 1.5ms postprocess per image at shape (1, 3, 384, 640)\n"
      ]
     },
     "metadata": {},
     "output_type": "display_data"
    },
    {
     "data": {
      "text/plain": [
       "\n"
      ]
     },
     "metadata": {},
     "output_type": "display_data"
    },
    {
     "data": {
      "text/plain": [
       "0: 384x640 9 cars, 3 trucks, 4 traffic lights, 1143.0ms\n"
      ]
     },
     "metadata": {},
     "output_type": "display_data"
    },
    {
     "data": {
      "text/plain": [
       "Speed: 3.4ms preprocess, 1143.0ms inference, 2.6ms postprocess per image at shape (1, 3, 384, 640)\n"
      ]
     },
     "metadata": {},
     "output_type": "display_data"
    },
    {
     "data": {
      "text/plain": [
       "\n"
      ]
     },
     "metadata": {},
     "output_type": "display_data"
    },
    {
     "data": {
      "text/plain": [
       "0: 384x640 11 cars, 3 trucks, 4 traffic lights, 1134.5ms\n"
      ]
     },
     "metadata": {},
     "output_type": "display_data"
    },
    {
     "data": {
      "text/plain": [
       "Speed: 3.8ms preprocess, 1134.5ms inference, 1.4ms postprocess per image at shape (1, 3, 384, 640)\n"
      ]
     },
     "metadata": {},
     "output_type": "display_data"
    },
    {
     "data": {
      "text/plain": [
       "\n"
      ]
     },
     "metadata": {},
     "output_type": "display_data"
    },
    {
     "data": {
      "text/plain": [
       "0: 384x640 11 cars, 3 trucks, 4 traffic lights, 1113.9ms\n"
      ]
     },
     "metadata": {},
     "output_type": "display_data"
    },
    {
     "data": {
      "text/plain": [
       "Speed: 3.3ms preprocess, 1113.9ms inference, 1.3ms postprocess per image at shape (1, 3, 384, 640)\n"
      ]
     },
     "metadata": {},
     "output_type": "display_data"
    },
    {
     "data": {
      "text/plain": [
       "\n"
      ]
     },
     "metadata": {},
     "output_type": "display_data"
    },
    {
     "data": {
      "text/plain": [
       "0: 384x640 10 cars, 4 trucks, 4 traffic lights, 1148.9ms\n"
      ]
     },
     "metadata": {},
     "output_type": "display_data"
    },
    {
     "data": {
      "text/plain": [
       "Speed: 3.6ms preprocess, 1148.9ms inference, 1.5ms postprocess per image at shape (1, 3, 384, 640)\n"
      ]
     },
     "metadata": {},
     "output_type": "display_data"
    },
    {
     "data": {
      "text/plain": [
       "\n"
      ]
     },
     "metadata": {},
     "output_type": "display_data"
    },
    {
     "data": {
      "text/plain": [
       "0: 384x640 10 cars, 4 trucks, 4 traffic lights, 1030.0ms\n"
      ]
     },
     "metadata": {},
     "output_type": "display_data"
    },
    {
     "data": {
      "text/plain": [
       "Speed: 2.9ms preprocess, 1030.0ms inference, 1.2ms postprocess per image at shape (1, 3, 384, 640)\n"
      ]
     },
     "metadata": {},
     "output_type": "display_data"
    },
    {
     "data": {
      "text/plain": [
       "\n"
      ]
     },
     "metadata": {},
     "output_type": "display_data"
    },
    {
     "data": {
      "text/plain": [
       "0: 384x640 11 cars, 3 trucks, 4 traffic lights, 1005.9ms\n"
      ]
     },
     "metadata": {},
     "output_type": "display_data"
    },
    {
     "data": {
      "text/plain": [
       "Speed: 2.8ms preprocess, 1005.9ms inference, 1.3ms postprocess per image at shape (1, 3, 384, 640)\n"
      ]
     },
     "metadata": {},
     "output_type": "display_data"
    },
    {
     "data": {
      "text/plain": [
       "\n"
      ]
     },
     "metadata": {},
     "output_type": "display_data"
    },
    {
     "data": {
      "text/plain": [
       "0: 384x640 11 cars, 3 trucks, 4 traffic lights, 1014.2ms\n"
      ]
     },
     "metadata": {},
     "output_type": "display_data"
    },
    {
     "data": {
      "text/plain": [
       "Speed: 2.8ms preprocess, 1014.2ms inference, 1.2ms postprocess per image at shape (1, 3, 384, 640)\n"
      ]
     },
     "metadata": {},
     "output_type": "display_data"
    },
    {
     "data": {
      "text/plain": [
       "\n"
      ]
     },
     "metadata": {},
     "output_type": "display_data"
    },
    {
     "data": {
      "text/plain": [
       "0: 384x640 10 cars, 4 trucks, 4 traffic lights, 951.6ms\n"
      ]
     },
     "metadata": {},
     "output_type": "display_data"
    },
    {
     "data": {
      "text/plain": [
       "Speed: 2.9ms preprocess, 951.6ms inference, 1.2ms postprocess per image at shape (1, 3, 384, 640)\n"
      ]
     },
     "metadata": {},
     "output_type": "display_data"
    },
    {
     "data": {
      "text/plain": [
       "\n"
      ]
     },
     "metadata": {},
     "output_type": "display_data"
    },
    {
     "data": {
      "text/plain": [
       "0: 384x640 10 cars, 4 trucks, 4 traffic lights, 961.0ms\n"
      ]
     },
     "metadata": {},
     "output_type": "display_data"
    },
    {
     "data": {
      "text/plain": [
       "Speed: 2.3ms preprocess, 961.0ms inference, 2.1ms postprocess per image at shape (1, 3, 384, 640)\n"
      ]
     },
     "metadata": {},
     "output_type": "display_data"
    },
    {
     "data": {
      "text/plain": [
       "\n"
      ]
     },
     "metadata": {},
     "output_type": "display_data"
    },
    {
     "data": {
      "text/plain": [
       "0: 384x640 11 cars, 4 trucks, 4 traffic lights, 952.6ms\n"
      ]
     },
     "metadata": {},
     "output_type": "display_data"
    },
    {
     "data": {
      "text/plain": [
       "Speed: 3.2ms preprocess, 952.6ms inference, 1.3ms postprocess per image at shape (1, 3, 384, 640)\n"
      ]
     },
     "metadata": {},
     "output_type": "display_data"
    },
    {
     "data": {
      "text/plain": [
       "\n"
      ]
     },
     "metadata": {},
     "output_type": "display_data"
    },
    {
     "data": {
      "text/plain": [
       "0: 384x640 10 cars, 3 trucks, 4 traffic lights, 979.1ms\n"
      ]
     },
     "metadata": {},
     "output_type": "display_data"
    },
    {
     "data": {
      "text/plain": [
       "Speed: 2.6ms preprocess, 979.1ms inference, 1.2ms postprocess per image at shape (1, 3, 384, 640)\n"
      ]
     },
     "metadata": {},
     "output_type": "display_data"
    },
    {
     "data": {
      "text/plain": [
       "\n"
      ]
     },
     "metadata": {},
     "output_type": "display_data"
    },
    {
     "data": {
      "text/plain": [
       "0: 384x640 9 cars, 3 trucks, 4 traffic lights, 919.3ms\n"
      ]
     },
     "metadata": {},
     "output_type": "display_data"
    },
    {
     "data": {
      "text/plain": [
       "Speed: 4.2ms preprocess, 919.3ms inference, 1.1ms postprocess per image at shape (1, 3, 384, 640)\n"
      ]
     },
     "metadata": {},
     "output_type": "display_data"
    },
    {
     "data": {
      "text/plain": [
       "\n"
      ]
     },
     "metadata": {},
     "output_type": "display_data"
    },
    {
     "data": {
      "text/plain": [
       "0: 384x640 10 cars, 3 trucks, 4 traffic lights, 940.3ms\n"
      ]
     },
     "metadata": {},
     "output_type": "display_data"
    },
    {
     "data": {
      "text/plain": [
       "Speed: 2.8ms preprocess, 940.3ms inference, 1.1ms postprocess per image at shape (1, 3, 384, 640)\n"
      ]
     },
     "metadata": {},
     "output_type": "display_data"
    },
    {
     "data": {
      "text/plain": [
       "\n"
      ]
     },
     "metadata": {},
     "output_type": "display_data"
    },
    {
     "data": {
      "text/plain": [
       "0: 384x640 10 cars, 4 trucks, 4 traffic lights, 904.8ms\n"
      ]
     },
     "metadata": {},
     "output_type": "display_data"
    },
    {
     "data": {
      "text/plain": [
       "Speed: 2.3ms preprocess, 904.8ms inference, 1.1ms postprocess per image at shape (1, 3, 384, 640)\n"
      ]
     },
     "metadata": {},
     "output_type": "display_data"
    },
    {
     "data": {
      "text/plain": [
       "\n"
      ]
     },
     "metadata": {},
     "output_type": "display_data"
    },
    {
     "data": {
      "text/plain": [
       "0: 384x640 12 cars, 3 trucks, 4 traffic lights, 932.0ms\n"
      ]
     },
     "metadata": {},
     "output_type": "display_data"
    },
    {
     "data": {
      "text/plain": [
       "Speed: 2.2ms preprocess, 932.0ms inference, 1.4ms postprocess per image at shape (1, 3, 384, 640)\n"
      ]
     },
     "metadata": {},
     "output_type": "display_data"
    },
    {
     "data": {
      "text/plain": [
       "\n"
      ]
     },
     "metadata": {},
     "output_type": "display_data"
    },
    {
     "data": {
      "text/plain": [
       "0: 384x640 11 cars, 3 trucks, 4 traffic lights, 920.4ms\n"
      ]
     },
     "metadata": {},
     "output_type": "display_data"
    },
    {
     "data": {
      "text/plain": [
       "Speed: 2.7ms preprocess, 920.4ms inference, 1.2ms postprocess per image at shape (1, 3, 384, 640)\n"
      ]
     },
     "metadata": {},
     "output_type": "display_data"
    },
    {
     "data": {
      "text/plain": [
       "\n"
      ]
     },
     "metadata": {},
     "output_type": "display_data"
    },
    {
     "data": {
      "text/plain": [
       "0: 384x640 11 cars, 3 trucks, 4 traffic lights, 927.9ms\n"
      ]
     },
     "metadata": {},
     "output_type": "display_data"
    },
    {
     "data": {
      "text/plain": [
       "Speed: 3.0ms preprocess, 927.9ms inference, 1.4ms postprocess per image at shape (1, 3, 384, 640)\n"
      ]
     },
     "metadata": {},
     "output_type": "display_data"
    },
    {
     "data": {
      "text/plain": [
       "\n"
      ]
     },
     "metadata": {},
     "output_type": "display_data"
    },
    {
     "data": {
      "text/plain": [
       "0: 384x640 10 cars, 4 trucks, 4 traffic lights, 939.3ms\n"
      ]
     },
     "metadata": {},
     "output_type": "display_data"
    },
    {
     "data": {
      "text/plain": [
       "Speed: 2.3ms preprocess, 939.3ms inference, 1.1ms postprocess per image at shape (1, 3, 384, 640)\n"
      ]
     },
     "metadata": {},
     "output_type": "display_data"
    },
    {
     "data": {
      "text/plain": [
       "\n"
      ]
     },
     "metadata": {},
     "output_type": "display_data"
    },
    {
     "data": {
      "text/plain": [
       "0: 384x640 13 cars, 4 trucks, 3 traffic lights, 915.2ms\n"
      ]
     },
     "metadata": {},
     "output_type": "display_data"
    },
    {
     "data": {
      "text/plain": [
       "Speed: 3.3ms preprocess, 915.2ms inference, 1.0ms postprocess per image at shape (1, 3, 384, 640)\n"
      ]
     },
     "metadata": {},
     "output_type": "display_data"
    },
    {
     "data": {
      "text/plain": [
       "\n"
      ]
     },
     "metadata": {},
     "output_type": "display_data"
    },
    {
     "data": {
      "text/plain": [
       "0: 384x640 12 cars, 4 trucks, 3 traffic lights, 928.7ms\n"
      ]
     },
     "metadata": {},
     "output_type": "display_data"
    },
    {
     "data": {
      "text/plain": [
       "Speed: 2.3ms preprocess, 928.7ms inference, 1.1ms postprocess per image at shape (1, 3, 384, 640)\n"
      ]
     },
     "metadata": {},
     "output_type": "display_data"
    },
    {
     "data": {
      "text/plain": [
       "\n"
      ]
     },
     "metadata": {},
     "output_type": "display_data"
    },
    {
     "data": {
      "text/plain": [
       "0: 384x640 11 cars, 4 trucks, 3 traffic lights, 930.4ms\n"
      ]
     },
     "metadata": {},
     "output_type": "display_data"
    },
    {
     "data": {
      "text/plain": [
       "Speed: 2.2ms preprocess, 930.4ms inference, 1.0ms postprocess per image at shape (1, 3, 384, 640)\n"
      ]
     },
     "metadata": {},
     "output_type": "display_data"
    },
    {
     "data": {
      "text/plain": [
       "\n"
      ]
     },
     "metadata": {},
     "output_type": "display_data"
    },
    {
     "data": {
      "text/plain": [
       "0: 384x640 11 cars, 5 trucks, 3 traffic lights, 947.5ms\n"
      ]
     },
     "metadata": {},
     "output_type": "display_data"
    },
    {
     "data": {
      "text/plain": [
       "Speed: 2.2ms preprocess, 947.5ms inference, 1.0ms postprocess per image at shape (1, 3, 384, 640)\n"
      ]
     },
     "metadata": {},
     "output_type": "display_data"
    },
    {
     "data": {
      "text/plain": [
       "\n"
      ]
     },
     "metadata": {},
     "output_type": "display_data"
    },
    {
     "data": {
      "text/plain": [
       "0: 384x640 10 cars, 4 trucks, 3 traffic lights, 937.5ms\n"
      ]
     },
     "metadata": {},
     "output_type": "display_data"
    },
    {
     "data": {
      "text/plain": [
       "Speed: 2.3ms preprocess, 937.5ms inference, 1.2ms postprocess per image at shape (1, 3, 384, 640)\n"
      ]
     },
     "metadata": {},
     "output_type": "display_data"
    },
    {
     "data": {
      "text/plain": [
       "\n"
      ]
     },
     "metadata": {},
     "output_type": "display_data"
    },
    {
     "data": {
      "text/plain": [
       "0: 384x640 9 cars, 4 trucks, 3 traffic lights, 945.2ms\n"
      ]
     },
     "metadata": {},
     "output_type": "display_data"
    },
    {
     "data": {
      "text/plain": [
       "Speed: 2.2ms preprocess, 945.2ms inference, 1.2ms postprocess per image at shape (1, 3, 384, 640)\n"
      ]
     },
     "metadata": {},
     "output_type": "display_data"
    },
    {
     "data": {
      "text/plain": [
       "\n"
      ]
     },
     "metadata": {},
     "output_type": "display_data"
    },
    {
     "data": {
      "text/plain": [
       "0: 384x640 10 cars, 4 trucks, 4 traffic lights, 927.4ms\n"
      ]
     },
     "metadata": {},
     "output_type": "display_data"
    },
    {
     "data": {
      "text/plain": [
       "Speed: 2.2ms preprocess, 927.4ms inference, 1.1ms postprocess per image at shape (1, 3, 384, 640)\n"
      ]
     },
     "metadata": {},
     "output_type": "display_data"
    },
    {
     "data": {
      "text/plain": [
       "\n"
      ]
     },
     "metadata": {},
     "output_type": "display_data"
    },
    {
     "data": {
      "text/plain": [
       "0: 384x640 10 cars, 4 trucks, 4 traffic lights, 934.4ms\n"
      ]
     },
     "metadata": {},
     "output_type": "display_data"
    },
    {
     "data": {
      "text/plain": [
       "Speed: 2.3ms preprocess, 934.4ms inference, 1.6ms postprocess per image at shape (1, 3, 384, 640)\n"
      ]
     },
     "metadata": {},
     "output_type": "display_data"
    },
    {
     "data": {
      "text/plain": [
       "\n"
      ]
     },
     "metadata": {},
     "output_type": "display_data"
    },
    {
     "data": {
      "text/plain": [
       "0: 384x640 9 cars, 4 trucks, 3 traffic lights, 929.4ms\n"
      ]
     },
     "metadata": {},
     "output_type": "display_data"
    },
    {
     "data": {
      "text/plain": [
       "Speed: 2.3ms preprocess, 929.4ms inference, 1.0ms postprocess per image at shape (1, 3, 384, 640)\n"
      ]
     },
     "metadata": {},
     "output_type": "display_data"
    },
    {
     "data": {
      "text/plain": [
       "\n"
      ]
     },
     "metadata": {},
     "output_type": "display_data"
    },
    {
     "data": {
      "text/plain": [
       "0: 384x640 10 cars, 4 trucks, 3 traffic lights, 927.7ms\n"
      ]
     },
     "metadata": {},
     "output_type": "display_data"
    },
    {
     "data": {
      "text/plain": [
       "Speed: 2.2ms preprocess, 927.7ms inference, 1.0ms postprocess per image at shape (1, 3, 384, 640)\n"
      ]
     },
     "metadata": {},
     "output_type": "display_data"
    },
    {
     "data": {
      "text/plain": [
       "\n"
      ]
     },
     "metadata": {},
     "output_type": "display_data"
    },
    {
     "data": {
      "text/plain": [
       "0: 384x640 10 cars, 4 trucks, 4 traffic lights, 919.8ms\n"
      ]
     },
     "metadata": {},
     "output_type": "display_data"
    },
    {
     "data": {
      "text/plain": [
       "Speed: 2.5ms preprocess, 919.8ms inference, 1.0ms postprocess per image at shape (1, 3, 384, 640)\n"
      ]
     },
     "metadata": {},
     "output_type": "display_data"
    },
    {
     "data": {
      "text/plain": [
       "\n"
      ]
     },
     "metadata": {},
     "output_type": "display_data"
    },
    {
     "data": {
      "text/plain": [
       "0: 384x640 9 cars, 3 trucks, 4 traffic lights, 921.2ms\n"
      ]
     },
     "metadata": {},
     "output_type": "display_data"
    },
    {
     "data": {
      "text/plain": [
       "Speed: 2.5ms preprocess, 921.2ms inference, 0.9ms postprocess per image at shape (1, 3, 384, 640)\n"
      ]
     },
     "metadata": {},
     "output_type": "display_data"
    },
    {
     "data": {
      "text/plain": [
       "\n"
      ]
     },
     "metadata": {},
     "output_type": "display_data"
    },
    {
     "data": {
      "text/plain": [
       "0: 384x640 11 cars, 3 trucks, 4 traffic lights, 921.0ms\n"
      ]
     },
     "metadata": {},
     "output_type": "display_data"
    },
    {
     "data": {
      "text/plain": [
       "Speed: 2.2ms preprocess, 921.0ms inference, 1.7ms postprocess per image at shape (1, 3, 384, 640)\n"
      ]
     },
     "metadata": {},
     "output_type": "display_data"
    },
    {
     "data": {
      "text/plain": [
       "\n"
      ]
     },
     "metadata": {},
     "output_type": "display_data"
    },
    {
     "data": {
      "text/plain": [
       "0: 384x640 9 cars, 2 trucks, 4 traffic lights, 1028.0ms\n"
      ]
     },
     "metadata": {},
     "output_type": "display_data"
    },
    {
     "data": {
      "text/plain": [
       "Speed: 2.4ms preprocess, 1028.0ms inference, 1.3ms postprocess per image at shape (1, 3, 384, 640)\n"
      ]
     },
     "metadata": {},
     "output_type": "display_data"
    },
    {
     "data": {
      "text/plain": [
       "\n"
      ]
     },
     "metadata": {},
     "output_type": "display_data"
    },
    {
     "data": {
      "text/plain": [
       "0: 384x640 11 cars, 2 trucks, 4 traffic lights, 977.8ms\n"
      ]
     },
     "metadata": {},
     "output_type": "display_data"
    },
    {
     "data": {
      "text/plain": [
       "Speed: 2.9ms preprocess, 977.8ms inference, 1.3ms postprocess per image at shape (1, 3, 384, 640)\n"
      ]
     },
     "metadata": {},
     "output_type": "display_data"
    },
    {
     "data": {
      "text/plain": [
       "\n"
      ]
     },
     "metadata": {},
     "output_type": "display_data"
    },
    {
     "data": {
      "text/plain": [
       "0: 384x640 10 cars, 2 trucks, 4 traffic lights, 957.3ms\n"
      ]
     },
     "metadata": {},
     "output_type": "display_data"
    },
    {
     "data": {
      "text/plain": [
       "Speed: 3.0ms preprocess, 957.3ms inference, 1.6ms postprocess per image at shape (1, 3, 384, 640)\n"
      ]
     },
     "metadata": {},
     "output_type": "display_data"
    },
    {
     "data": {
      "text/plain": [
       "\n"
      ]
     },
     "metadata": {},
     "output_type": "display_data"
    },
    {
     "data": {
      "text/plain": [
       "0: 384x640 10 cars, 2 trucks, 4 traffic lights, 926.2ms\n"
      ]
     },
     "metadata": {},
     "output_type": "display_data"
    },
    {
     "data": {
      "text/plain": [
       "Speed: 2.2ms preprocess, 926.2ms inference, 1.0ms postprocess per image at shape (1, 3, 384, 640)\n"
      ]
     },
     "metadata": {},
     "output_type": "display_data"
    },
    {
     "data": {
      "text/plain": [
       "\n"
      ]
     },
     "metadata": {},
     "output_type": "display_data"
    },
    {
     "data": {
      "text/plain": [
       "0: 384x640 11 cars, 2 trucks, 3 traffic lights, 925.1ms\n"
      ]
     },
     "metadata": {},
     "output_type": "display_data"
    },
    {
     "data": {
      "text/plain": [
       "Speed: 2.1ms preprocess, 925.1ms inference, 0.9ms postprocess per image at shape (1, 3, 384, 640)\n"
      ]
     },
     "metadata": {},
     "output_type": "display_data"
    },
    {
     "data": {
      "text/plain": [
       "\n"
      ]
     },
     "metadata": {},
     "output_type": "display_data"
    },
    {
     "data": {
      "text/plain": [
       "0: 384x640 12 cars, 2 trucks, 3 traffic lights, 920.7ms\n"
      ]
     },
     "metadata": {},
     "output_type": "display_data"
    },
    {
     "data": {
      "text/plain": [
       "Speed: 3.1ms preprocess, 920.7ms inference, 1.0ms postprocess per image at shape (1, 3, 384, 640)\n"
      ]
     },
     "metadata": {},
     "output_type": "display_data"
    },
    {
     "data": {
      "text/plain": [
       "\n"
      ]
     },
     "metadata": {},
     "output_type": "display_data"
    },
    {
     "data": {
      "text/plain": [
       "0: 384x640 12 cars, 2 trucks, 3 traffic lights, 908.6ms\n"
      ]
     },
     "metadata": {},
     "output_type": "display_data"
    },
    {
     "data": {
      "text/plain": [
       "Speed: 2.9ms preprocess, 908.6ms inference, 1.6ms postprocess per image at shape (1, 3, 384, 640)\n"
      ]
     },
     "metadata": {},
     "output_type": "display_data"
    },
    {
     "data": {
      "text/plain": [
       "\n"
      ]
     },
     "metadata": {},
     "output_type": "display_data"
    },
    {
     "data": {
      "text/plain": [
       "0: 384x640 11 cars, 2 trucks, 4 traffic lights, 904.6ms\n"
      ]
     },
     "metadata": {},
     "output_type": "display_data"
    },
    {
     "data": {
      "text/plain": [
       "Speed: 3.2ms preprocess, 904.6ms inference, 0.9ms postprocess per image at shape (1, 3, 384, 640)\n"
      ]
     },
     "metadata": {},
     "output_type": "display_data"
    },
    {
     "data": {
      "text/plain": [
       "\n"
      ]
     },
     "metadata": {},
     "output_type": "display_data"
    },
    {
     "data": {
      "text/plain": [
       "0: 384x640 11 cars, 3 trucks, 3 traffic lights, 893.1ms\n"
      ]
     },
     "metadata": {},
     "output_type": "display_data"
    },
    {
     "data": {
      "text/plain": [
       "Speed: 3.2ms preprocess, 893.1ms inference, 1.1ms postprocess per image at shape (1, 3, 384, 640)\n"
      ]
     },
     "metadata": {},
     "output_type": "display_data"
    },
    {
     "data": {
      "text/plain": [
       "\n"
      ]
     },
     "metadata": {},
     "output_type": "display_data"
    },
    {
     "data": {
      "text/plain": [
       "0: 384x640 11 cars, 3 trucks, 3 traffic lights, 942.5ms\n"
      ]
     },
     "metadata": {},
     "output_type": "display_data"
    },
    {
     "data": {
      "text/plain": [
       "Speed: 2.7ms preprocess, 942.5ms inference, 1.1ms postprocess per image at shape (1, 3, 384, 640)\n"
      ]
     },
     "metadata": {},
     "output_type": "display_data"
    },
    {
     "data": {
      "text/plain": [
       "\n"
      ]
     },
     "metadata": {},
     "output_type": "display_data"
    },
    {
     "data": {
      "text/plain": [
       "0: 384x640 10 cars, 2 trucks, 3 traffic lights, 933.5ms\n"
      ]
     },
     "metadata": {},
     "output_type": "display_data"
    },
    {
     "data": {
      "text/plain": [
       "Speed: 2.1ms preprocess, 933.5ms inference, 0.9ms postprocess per image at shape (1, 3, 384, 640)\n"
      ]
     },
     "metadata": {},
     "output_type": "display_data"
    },
    {
     "data": {
      "text/plain": [
       "\n"
      ]
     },
     "metadata": {},
     "output_type": "display_data"
    },
    {
     "data": {
      "text/plain": [
       "0: 384x640 10 cars, 2 trucks, 3 traffic lights, 922.6ms\n"
      ]
     },
     "metadata": {},
     "output_type": "display_data"
    },
    {
     "data": {
      "text/plain": [
       "Speed: 2.3ms preprocess, 922.6ms inference, 1.3ms postprocess per image at shape (1, 3, 384, 640)\n"
      ]
     },
     "metadata": {},
     "output_type": "display_data"
    },
    {
     "data": {
      "text/plain": [
       "\n"
      ]
     },
     "metadata": {},
     "output_type": "display_data"
    },
    {
     "data": {
      "text/plain": [
       "0: 384x640 10 cars, 2 trucks, 3 traffic lights, 913.4ms\n"
      ]
     },
     "metadata": {},
     "output_type": "display_data"
    },
    {
     "data": {
      "text/plain": [
       "Speed: 2.1ms preprocess, 913.4ms inference, 1.0ms postprocess per image at shape (1, 3, 384, 640)\n"
      ]
     },
     "metadata": {},
     "output_type": "display_data"
    },
    {
     "data": {
      "text/plain": [
       "\n"
      ]
     },
     "metadata": {},
     "output_type": "display_data"
    },
    {
     "data": {
      "text/plain": [
       "0: 384x640 11 cars, 2 trucks, 3 traffic lights, 909.9ms\n"
      ]
     },
     "metadata": {},
     "output_type": "display_data"
    },
    {
     "data": {
      "text/plain": [
       "Speed: 2.6ms preprocess, 909.9ms inference, 1.7ms postprocess per image at shape (1, 3, 384, 640)\n"
      ]
     },
     "metadata": {},
     "output_type": "display_data"
    },
    {
     "data": {
      "text/plain": [
       "\n"
      ]
     },
     "metadata": {},
     "output_type": "display_data"
    },
    {
     "data": {
      "text/plain": [
       "0: 384x640 11 cars, 2 trucks, 3 traffic lights, 932.4ms\n"
      ]
     },
     "metadata": {},
     "output_type": "display_data"
    },
    {
     "data": {
      "text/plain": [
       "Speed: 2.2ms preprocess, 932.4ms inference, 1.1ms postprocess per image at shape (1, 3, 384, 640)\n"
      ]
     },
     "metadata": {},
     "output_type": "display_data"
    },
    {
     "data": {
      "text/plain": [
       "\n"
      ]
     },
     "metadata": {},
     "output_type": "display_data"
    },
    {
     "data": {
      "text/plain": [
       "0: 384x640 12 cars, 2 trucks, 3 traffic lights, 919.9ms\n"
      ]
     },
     "metadata": {},
     "output_type": "display_data"
    },
    {
     "data": {
      "text/plain": [
       "Speed: 3.0ms preprocess, 919.9ms inference, 1.1ms postprocess per image at shape (1, 3, 384, 640)\n"
      ]
     },
     "metadata": {},
     "output_type": "display_data"
    },
    {
     "data": {
      "text/plain": [
       "\n"
      ]
     },
     "metadata": {},
     "output_type": "display_data"
    },
    {
     "data": {
      "text/plain": [
       "0: 384x640 12 cars, 2 trucks, 3 traffic lights, 929.0ms\n"
      ]
     },
     "metadata": {},
     "output_type": "display_data"
    },
    {
     "data": {
      "text/plain": [
       "Speed: 3.0ms preprocess, 929.0ms inference, 1.4ms postprocess per image at shape (1, 3, 384, 640)\n"
      ]
     },
     "metadata": {},
     "output_type": "display_data"
    },
    {
     "data": {
      "text/plain": [
       "\n"
      ]
     },
     "metadata": {},
     "output_type": "display_data"
    },
    {
     "data": {
      "text/plain": [
       "0: 384x640 12 cars, 2 trucks, 3 traffic lights, 927.0ms\n"
      ]
     },
     "metadata": {},
     "output_type": "display_data"
    },
    {
     "data": {
      "text/plain": [
       "Speed: 3.3ms preprocess, 927.0ms inference, 1.2ms postprocess per image at shape (1, 3, 384, 640)\n"
      ]
     },
     "metadata": {},
     "output_type": "display_data"
    },
    {
     "data": {
      "text/plain": [
       "\n"
      ]
     },
     "metadata": {},
     "output_type": "display_data"
    },
    {
     "data": {
      "text/plain": [
       "0: 384x640 12 cars, 2 trucks, 3 traffic lights, 906.0ms\n"
      ]
     },
     "metadata": {},
     "output_type": "display_data"
    },
    {
     "data": {
      "text/plain": [
       "Speed: 3.6ms preprocess, 906.0ms inference, 1.0ms postprocess per image at shape (1, 3, 384, 640)\n"
      ]
     },
     "metadata": {},
     "output_type": "display_data"
    },
    {
     "data": {
      "text/plain": [
       "\n"
      ]
     },
     "metadata": {},
     "output_type": "display_data"
    },
    {
     "data": {
      "text/plain": [
       "0: 384x640 11 cars, 2 trucks, 3 traffic lights, 917.0ms\n"
      ]
     },
     "metadata": {},
     "output_type": "display_data"
    },
    {
     "data": {
      "text/plain": [
       "Speed: 2.2ms preprocess, 917.0ms inference, 1.0ms postprocess per image at shape (1, 3, 384, 640)\n"
      ]
     },
     "metadata": {},
     "output_type": "display_data"
    },
    {
     "data": {
      "text/plain": [
       "\n"
      ]
     },
     "metadata": {},
     "output_type": "display_data"
    },
    {
     "data": {
      "text/plain": [
       "0: 384x640 10 cars, 2 trucks, 3 traffic lights, 899.7ms\n"
      ]
     },
     "metadata": {},
     "output_type": "display_data"
    },
    {
     "data": {
      "text/plain": [
       "Speed: 2.2ms preprocess, 899.7ms inference, 1.2ms postprocess per image at shape (1, 3, 384, 640)\n"
      ]
     },
     "metadata": {},
     "output_type": "display_data"
    },
    {
     "data": {
      "text/plain": [
       "\n"
      ]
     },
     "metadata": {},
     "output_type": "display_data"
    },
    {
     "data": {
      "text/plain": [
       "0: 384x640 11 cars, 2 trucks, 3 traffic lights, 917.0ms\n"
      ]
     },
     "metadata": {},
     "output_type": "display_data"
    },
    {
     "data": {
      "text/plain": [
       "Speed: 2.9ms preprocess, 917.0ms inference, 1.7ms postprocess per image at shape (1, 3, 384, 640)\n"
      ]
     },
     "metadata": {},
     "output_type": "display_data"
    },
    {
     "data": {
      "text/plain": [
       "\n"
      ]
     },
     "metadata": {},
     "output_type": "display_data"
    },
    {
     "data": {
      "text/plain": [
       "0: 384x640 12 cars, 2 trucks, 3 traffic lights, 908.8ms\n"
      ]
     },
     "metadata": {},
     "output_type": "display_data"
    },
    {
     "data": {
      "text/plain": [
       "Speed: 2.7ms preprocess, 908.8ms inference, 1.0ms postprocess per image at shape (1, 3, 384, 640)\n"
      ]
     },
     "metadata": {},
     "output_type": "display_data"
    },
    {
     "data": {
      "text/plain": [
       "\n"
      ]
     },
     "metadata": {},
     "output_type": "display_data"
    },
    {
     "data": {
      "text/plain": [
       "0: 384x640 14 cars, 2 trucks, 3 traffic lights, 943.6ms\n"
      ]
     },
     "metadata": {},
     "output_type": "display_data"
    },
    {
     "data": {
      "text/plain": [
       "Speed: 3.5ms preprocess, 943.6ms inference, 1.3ms postprocess per image at shape (1, 3, 384, 640)\n"
      ]
     },
     "metadata": {},
     "output_type": "display_data"
    },
    {
     "data": {
      "text/plain": [
       "\n"
      ]
     },
     "metadata": {},
     "output_type": "display_data"
    },
    {
     "data": {
      "text/plain": [
       "0: 384x640 14 cars, 2 trucks, 3 traffic lights, 920.7ms\n"
      ]
     },
     "metadata": {},
     "output_type": "display_data"
    },
    {
     "data": {
      "text/plain": [
       "Speed: 3.3ms preprocess, 920.7ms inference, 1.4ms postprocess per image at shape (1, 3, 384, 640)\n"
      ]
     },
     "metadata": {},
     "output_type": "display_data"
    },
    {
     "data": {
      "text/plain": [
       "\n"
      ]
     },
     "metadata": {},
     "output_type": "display_data"
    },
    {
     "data": {
      "text/plain": [
       "0: 384x640 14 cars, 2 trucks, 3 traffic lights, 939.8ms\n"
      ]
     },
     "metadata": {},
     "output_type": "display_data"
    },
    {
     "data": {
      "text/plain": [
       "Speed: 2.8ms preprocess, 939.8ms inference, 1.0ms postprocess per image at shape (1, 3, 384, 640)\n"
      ]
     },
     "metadata": {},
     "output_type": "display_data"
    },
    {
     "data": {
      "text/plain": [
       "\n"
      ]
     },
     "metadata": {},
     "output_type": "display_data"
    },
    {
     "data": {
      "text/plain": [
       "0: 384x640 15 cars, 2 trucks, 3 traffic lights, 923.1ms\n"
      ]
     },
     "metadata": {},
     "output_type": "display_data"
    },
    {
     "data": {
      "text/plain": [
       "Speed: 3.2ms preprocess, 923.1ms inference, 0.9ms postprocess per image at shape (1, 3, 384, 640)\n"
      ]
     },
     "metadata": {},
     "output_type": "display_data"
    },
    {
     "data": {
      "text/plain": [
       "\n"
      ]
     },
     "metadata": {},
     "output_type": "display_data"
    },
    {
     "data": {
      "text/plain": [
       "0: 384x640 15 cars, 2 trucks, 3 traffic lights, 914.6ms\n"
      ]
     },
     "metadata": {},
     "output_type": "display_data"
    },
    {
     "data": {
      "text/plain": [
       "Speed: 3.3ms preprocess, 914.6ms inference, 0.9ms postprocess per image at shape (1, 3, 384, 640)\n"
      ]
     },
     "metadata": {},
     "output_type": "display_data"
    },
    {
     "data": {
      "text/plain": [
       "\n"
      ]
     },
     "metadata": {},
     "output_type": "display_data"
    },
    {
     "data": {
      "text/plain": [
       "0: 384x640 14 cars, 5 trucks, 4 traffic lights, 895.9ms\n"
      ]
     },
     "metadata": {},
     "output_type": "display_data"
    },
    {
     "data": {
      "text/plain": [
       "Speed: 2.3ms preprocess, 895.9ms inference, 1.0ms postprocess per image at shape (1, 3, 384, 640)\n"
      ]
     },
     "metadata": {},
     "output_type": "display_data"
    },
    {
     "data": {
      "text/plain": [
       "\n"
      ]
     },
     "metadata": {},
     "output_type": "display_data"
    },
    {
     "data": {
      "text/plain": [
       "0: 384x640 16 cars, 3 trucks, 4 traffic lights, 920.4ms\n"
      ]
     },
     "metadata": {},
     "output_type": "display_data"
    },
    {
     "data": {
      "text/plain": [
       "Speed: 3.3ms preprocess, 920.4ms inference, 1.5ms postprocess per image at shape (1, 3, 384, 640)\n"
      ]
     },
     "metadata": {},
     "output_type": "display_data"
    },
    {
     "data": {
      "text/plain": [
       "\n"
      ]
     },
     "metadata": {},
     "output_type": "display_data"
    },
    {
     "data": {
      "text/plain": [
       "0: 384x640 16 cars, 4 trucks, 4 traffic lights, 923.9ms\n"
      ]
     },
     "metadata": {},
     "output_type": "display_data"
    },
    {
     "data": {
      "text/plain": [
       "Speed: 3.9ms preprocess, 923.9ms inference, 1.1ms postprocess per image at shape (1, 3, 384, 640)\n"
      ]
     },
     "metadata": {},
     "output_type": "display_data"
    },
    {
     "data": {
      "text/plain": [
       "\n"
      ]
     },
     "metadata": {},
     "output_type": "display_data"
    },
    {
     "data": {
      "text/plain": [
       "0: 384x640 17 cars, 4 trucks, 4 traffic lights, 935.9ms\n"
      ]
     },
     "metadata": {},
     "output_type": "display_data"
    },
    {
     "data": {
      "text/plain": [
       "Speed: 2.3ms preprocess, 935.9ms inference, 1.7ms postprocess per image at shape (1, 3, 384, 640)\n"
      ]
     },
     "metadata": {},
     "output_type": "display_data"
    },
    {
     "data": {
      "text/plain": [
       "\n"
      ]
     },
     "metadata": {},
     "output_type": "display_data"
    },
    {
     "data": {
      "text/plain": [
       "0: 384x640 15 cars, 4 trucks, 4 traffic lights, 900.3ms\n"
      ]
     },
     "metadata": {},
     "output_type": "display_data"
    },
    {
     "data": {
      "text/plain": [
       "Speed: 3.3ms preprocess, 900.3ms inference, 9.3ms postprocess per image at shape (1, 3, 384, 640)\n"
      ]
     },
     "metadata": {},
     "output_type": "display_data"
    },
    {
     "data": {
      "text/plain": [
       "\n"
      ]
     },
     "metadata": {},
     "output_type": "display_data"
    },
    {
     "data": {
      "text/plain": [
       "0: 384x640 15 cars, 6 trucks, 4 traffic lights, 907.7ms\n"
      ]
     },
     "metadata": {},
     "output_type": "display_data"
    },
    {
     "data": {
      "text/plain": [
       "Speed: 2.1ms preprocess, 907.7ms inference, 1.9ms postprocess per image at shape (1, 3, 384, 640)\n"
      ]
     },
     "metadata": {},
     "output_type": "display_data"
    },
    {
     "data": {
      "text/plain": [
       "\n"
      ]
     },
     "metadata": {},
     "output_type": "display_data"
    },
    {
     "data": {
      "text/plain": [
       "0: 384x640 11 cars, 6 trucks, 4 traffic lights, 927.4ms\n"
      ]
     },
     "metadata": {},
     "output_type": "display_data"
    },
    {
     "data": {
      "text/plain": [
       "Speed: 11.1ms preprocess, 927.4ms inference, 0.9ms postprocess per image at shape (1, 3, 384, 640)\n"
      ]
     },
     "metadata": {},
     "output_type": "display_data"
    },
    {
     "data": {
      "text/plain": [
       "\n"
      ]
     },
     "metadata": {},
     "output_type": "display_data"
    },
    {
     "data": {
      "text/plain": [
       "0: 384x640 13 cars, 6 trucks, 4 traffic lights, 889.5ms\n"
      ]
     },
     "metadata": {},
     "output_type": "display_data"
    },
    {
     "data": {
      "text/plain": [
       "Speed: 11.3ms preprocess, 889.5ms inference, 1.3ms postprocess per image at shape (1, 3, 384, 640)\n"
      ]
     },
     "metadata": {},
     "output_type": "display_data"
    },
    {
     "data": {
      "text/plain": [
       "\n"
      ]
     },
     "metadata": {},
     "output_type": "display_data"
    },
    {
     "data": {
      "text/plain": [
       "0: 384x640 16 cars, 4 trucks, 4 traffic lights, 928.6ms\n"
      ]
     },
     "metadata": {},
     "output_type": "display_data"
    },
    {
     "data": {
      "text/plain": [
       "Speed: 3.3ms preprocess, 928.6ms inference, 1.0ms postprocess per image at shape (1, 3, 384, 640)\n"
      ]
     },
     "metadata": {},
     "output_type": "display_data"
    },
    {
     "data": {
      "text/plain": [
       "\n"
      ]
     },
     "metadata": {},
     "output_type": "display_data"
    },
    {
     "data": {
      "text/plain": [
       "0: 384x640 16 cars, 5 trucks, 4 traffic lights, 924.6ms\n"
      ]
     },
     "metadata": {},
     "output_type": "display_data"
    },
    {
     "data": {
      "text/plain": [
       "Speed: 2.3ms preprocess, 924.6ms inference, 1.4ms postprocess per image at shape (1, 3, 384, 640)\n"
      ]
     },
     "metadata": {},
     "output_type": "display_data"
    },
    {
     "data": {
      "text/plain": [
       "\n"
      ]
     },
     "metadata": {},
     "output_type": "display_data"
    },
    {
     "data": {
      "text/plain": [
       "0: 384x640 16 cars, 5 trucks, 4 traffic lights, 900.0ms\n"
      ]
     },
     "metadata": {},
     "output_type": "display_data"
    },
    {
     "data": {
      "text/plain": [
       "Speed: 2.4ms preprocess, 900.0ms inference, 0.9ms postprocess per image at shape (1, 3, 384, 640)\n"
      ]
     },
     "metadata": {},
     "output_type": "display_data"
    },
    {
     "data": {
      "text/plain": [
       "\n"
      ]
     },
     "metadata": {},
     "output_type": "display_data"
    },
    {
     "data": {
      "text/plain": [
       "0: 384x640 14 cars, 6 trucks, 4 traffic lights, 945.2ms\n"
      ]
     },
     "metadata": {},
     "output_type": "display_data"
    },
    {
     "data": {
      "text/plain": [
       "Speed: 3.4ms preprocess, 945.2ms inference, 1.0ms postprocess per image at shape (1, 3, 384, 640)\n"
      ]
     },
     "metadata": {},
     "output_type": "display_data"
    },
    {
     "data": {
      "text/plain": [
       "\n"
      ]
     },
     "metadata": {},
     "output_type": "display_data"
    },
    {
     "data": {
      "text/plain": [
       "0: 384x640 13 cars, 6 trucks, 4 traffic lights, 898.5ms\n"
      ]
     },
     "metadata": {},
     "output_type": "display_data"
    },
    {
     "data": {
      "text/plain": [
       "Speed: 4.7ms preprocess, 898.5ms inference, 1.6ms postprocess per image at shape (1, 3, 384, 640)\n"
      ]
     },
     "metadata": {},
     "output_type": "display_data"
    },
    {
     "data": {
      "text/plain": [
       "\n"
      ]
     },
     "metadata": {},
     "output_type": "display_data"
    },
    {
     "data": {
      "text/plain": [
       "0: 384x640 14 cars, 7 trucks, 4 traffic lights, 931.8ms\n"
      ]
     },
     "metadata": {},
     "output_type": "display_data"
    },
    {
     "data": {
      "text/plain": [
       "Speed: 2.1ms preprocess, 931.8ms inference, 0.9ms postprocess per image at shape (1, 3, 384, 640)\n"
      ]
     },
     "metadata": {},
     "output_type": "display_data"
    },
    {
     "data": {
      "text/plain": [
       "\n"
      ]
     },
     "metadata": {},
     "output_type": "display_data"
    },
    {
     "data": {
      "text/plain": [
       "0: 384x640 13 cars, 6 trucks, 4 traffic lights, 944.7ms\n"
      ]
     },
     "metadata": {},
     "output_type": "display_data"
    },
    {
     "data": {
      "text/plain": [
       "Speed: 3.5ms preprocess, 944.7ms inference, 0.8ms postprocess per image at shape (1, 3, 384, 640)\n"
      ]
     },
     "metadata": {},
     "output_type": "display_data"
    },
    {
     "data": {
      "text/plain": [
       "\n"
      ]
     },
     "metadata": {},
     "output_type": "display_data"
    },
    {
     "data": {
      "text/plain": [
       "0: 384x640 11 cars, 7 trucks, 4 traffic lights, 924.5ms\n"
      ]
     },
     "metadata": {},
     "output_type": "display_data"
    },
    {
     "data": {
      "text/plain": [
       "Speed: 2.3ms preprocess, 924.5ms inference, 1.0ms postprocess per image at shape (1, 3, 384, 640)\n"
      ]
     },
     "metadata": {},
     "output_type": "display_data"
    },
    {
     "data": {
      "text/plain": [
       "\n"
      ]
     },
     "metadata": {},
     "output_type": "display_data"
    },
    {
     "data": {
      "text/plain": [
       "0: 384x640 13 cars, 5 trucks, 3 traffic lights, 933.3ms\n"
      ]
     },
     "metadata": {},
     "output_type": "display_data"
    },
    {
     "data": {
      "text/plain": [
       "Speed: 3.0ms preprocess, 933.3ms inference, 0.9ms postprocess per image at shape (1, 3, 384, 640)\n"
      ]
     },
     "metadata": {},
     "output_type": "display_data"
    },
    {
     "data": {
      "text/plain": [
       "\n"
      ]
     },
     "metadata": {},
     "output_type": "display_data"
    },
    {
     "data": {
      "text/plain": [
       "0: 384x640 11 cars, 6 trucks, 4 traffic lights, 925.4ms\n"
      ]
     },
     "metadata": {},
     "output_type": "display_data"
    },
    {
     "data": {
      "text/plain": [
       "Speed: 2.3ms preprocess, 925.4ms inference, 1.9ms postprocess per image at shape (1, 3, 384, 640)\n"
      ]
     },
     "metadata": {},
     "output_type": "display_data"
    },
    {
     "data": {
      "text/plain": [
       "\n"
      ]
     },
     "metadata": {},
     "output_type": "display_data"
    },
    {
     "data": {
      "text/plain": [
       "0: 384x640 13 cars, 6 trucks, 4 traffic lights, 932.0ms\n"
      ]
     },
     "metadata": {},
     "output_type": "display_data"
    },
    {
     "data": {
      "text/plain": [
       "Speed: 2.7ms preprocess, 932.0ms inference, 0.9ms postprocess per image at shape (1, 3, 384, 640)\n"
      ]
     },
     "metadata": {},
     "output_type": "display_data"
    },
    {
     "data": {
      "text/plain": [
       "\n"
      ]
     },
     "metadata": {},
     "output_type": "display_data"
    },
    {
     "data": {
      "text/plain": [
       "0: 384x640 13 cars, 6 trucks, 4 traffic lights, 941.9ms\n"
      ]
     },
     "metadata": {},
     "output_type": "display_data"
    },
    {
     "data": {
      "text/plain": [
       "Speed: 3.4ms preprocess, 941.9ms inference, 0.9ms postprocess per image at shape (1, 3, 384, 640)\n"
      ]
     },
     "metadata": {},
     "output_type": "display_data"
    },
    {
     "data": {
      "text/plain": [
       "\n"
      ]
     },
     "metadata": {},
     "output_type": "display_data"
    },
    {
     "data": {
      "text/plain": [
       "0: 384x640 12 cars, 6 trucks, 4 traffic lights, 912.1ms\n"
      ]
     },
     "metadata": {},
     "output_type": "display_data"
    },
    {
     "data": {
      "text/plain": [
       "Speed: 2.1ms preprocess, 912.1ms inference, 1.4ms postprocess per image at shape (1, 3, 384, 640)\n"
      ]
     },
     "metadata": {},
     "output_type": "display_data"
    },
    {
     "data": {
      "text/plain": [
       "\n"
      ]
     },
     "metadata": {},
     "output_type": "display_data"
    },
    {
     "data": {
      "text/plain": [
       "0: 384x640 11 cars, 7 trucks, 4 traffic lights, 946.2ms\n"
      ]
     },
     "metadata": {},
     "output_type": "display_data"
    },
    {
     "data": {
      "text/plain": [
       "Speed: 2.9ms preprocess, 946.2ms inference, 1.1ms postprocess per image at shape (1, 3, 384, 640)\n"
      ]
     },
     "metadata": {},
     "output_type": "display_data"
    },
    {
     "data": {
      "text/plain": [
       "\n"
      ]
     },
     "metadata": {},
     "output_type": "display_data"
    },
    {
     "data": {
      "text/plain": [
       "0: 384x640 11 cars, 7 trucks, 4 traffic lights, 938.3ms\n"
      ]
     },
     "metadata": {},
     "output_type": "display_data"
    },
    {
     "data": {
      "text/plain": [
       "Speed: 2.6ms preprocess, 938.3ms inference, 0.9ms postprocess per image at shape (1, 3, 384, 640)\n"
      ]
     },
     "metadata": {},
     "output_type": "display_data"
    },
    {
     "data": {
      "text/plain": [
       "\n"
      ]
     },
     "metadata": {},
     "output_type": "display_data"
    },
    {
     "data": {
      "text/plain": [
       "0: 384x640 12 cars, 8 trucks, 4 traffic lights, 927.1ms\n"
      ]
     },
     "metadata": {},
     "output_type": "display_data"
    },
    {
     "data": {
      "text/plain": [
       "Speed: 2.4ms preprocess, 927.1ms inference, 1.7ms postprocess per image at shape (1, 3, 384, 640)\n"
      ]
     },
     "metadata": {},
     "output_type": "display_data"
    },
    {
     "data": {
      "text/plain": [
       "\n"
      ]
     },
     "metadata": {},
     "output_type": "display_data"
    },
    {
     "data": {
      "text/plain": [
       "0: 384x640 14 cars, 6 trucks, 4 traffic lights, 911.0ms\n"
      ]
     },
     "metadata": {},
     "output_type": "display_data"
    },
    {
     "data": {
      "text/plain": [
       "Speed: 2.1ms preprocess, 911.0ms inference, 1.0ms postprocess per image at shape (1, 3, 384, 640)\n"
      ]
     },
     "metadata": {},
     "output_type": "display_data"
    },
    {
     "data": {
      "text/plain": [
       "\n"
      ]
     },
     "metadata": {},
     "output_type": "display_data"
    },
    {
     "data": {
      "text/plain": [
       "0: 384x640 12 cars, 7 trucks, 3 traffic lights, 913.3ms\n"
      ]
     },
     "metadata": {},
     "output_type": "display_data"
    },
    {
     "data": {
      "text/plain": [
       "Speed: 2.2ms preprocess, 913.3ms inference, 2.4ms postprocess per image at shape (1, 3, 384, 640)\n"
      ]
     },
     "metadata": {},
     "output_type": "display_data"
    },
    {
     "data": {
      "text/plain": [
       "\n"
      ]
     },
     "metadata": {},
     "output_type": "display_data"
    },
    {
     "data": {
      "text/plain": [
       "0: 384x640 10 cars, 6 trucks, 3 traffic lights, 939.2ms\n"
      ]
     },
     "metadata": {},
     "output_type": "display_data"
    },
    {
     "data": {
      "text/plain": [
       "Speed: 3.5ms preprocess, 939.2ms inference, 1.4ms postprocess per image at shape (1, 3, 384, 640)\n"
      ]
     },
     "metadata": {},
     "output_type": "display_data"
    },
    {
     "data": {
      "text/plain": [
       "\n"
      ]
     },
     "metadata": {},
     "output_type": "display_data"
    },
    {
     "data": {
      "text/plain": [
       "0: 384x640 10 cars, 6 trucks, 3 traffic lights, 916.1ms\n"
      ]
     },
     "metadata": {},
     "output_type": "display_data"
    },
    {
     "data": {
      "text/plain": [
       "Speed: 3.1ms preprocess, 916.1ms inference, 0.9ms postprocess per image at shape (1, 3, 384, 640)\n"
      ]
     },
     "metadata": {},
     "output_type": "display_data"
    },
    {
     "data": {
      "text/plain": [
       "\n"
      ]
     },
     "metadata": {},
     "output_type": "display_data"
    },
    {
     "data": {
      "text/plain": [
       "0: 384x640 10 cars, 6 trucks, 3 traffic lights, 923.2ms\n"
      ]
     },
     "metadata": {},
     "output_type": "display_data"
    },
    {
     "data": {
      "text/plain": [
       "Speed: 3.3ms preprocess, 923.2ms inference, 1.0ms postprocess per image at shape (1, 3, 384, 640)\n"
      ]
     },
     "metadata": {},
     "output_type": "display_data"
    },
    {
     "data": {
      "text/plain": [
       "\n"
      ]
     },
     "metadata": {},
     "output_type": "display_data"
    },
    {
     "data": {
      "text/plain": [
       "0: 384x640 11 cars, 6 trucks, 4 traffic lights, 933.5ms\n"
      ]
     },
     "metadata": {},
     "output_type": "display_data"
    },
    {
     "data": {
      "text/plain": [
       "Speed: 1.9ms preprocess, 933.5ms inference, 0.9ms postprocess per image at shape (1, 3, 384, 640)\n"
      ]
     },
     "metadata": {},
     "output_type": "display_data"
    },
    {
     "data": {
      "text/plain": [
       "\n"
      ]
     },
     "metadata": {},
     "output_type": "display_data"
    },
    {
     "data": {
      "text/plain": [
       "0: 384x640 13 cars, 5 trucks, 4 traffic lights, 905.3ms\n"
      ]
     },
     "metadata": {},
     "output_type": "display_data"
    },
    {
     "data": {
      "text/plain": [
       "Speed: 2.2ms preprocess, 905.3ms inference, 0.9ms postprocess per image at shape (1, 3, 384, 640)\n"
      ]
     },
     "metadata": {},
     "output_type": "display_data"
    },
    {
     "data": {
      "text/plain": [
       "\n"
      ]
     },
     "metadata": {},
     "output_type": "display_data"
    },
    {
     "data": {
      "text/plain": [
       "0: 384x640 16 cars, 3 trucks, 4 traffic lights, 919.8ms\n"
      ]
     },
     "metadata": {},
     "output_type": "display_data"
    },
    {
     "data": {
      "text/plain": [
       "Speed: 2.0ms preprocess, 919.8ms inference, 1.0ms postprocess per image at shape (1, 3, 384, 640)\n"
      ]
     },
     "metadata": {},
     "output_type": "display_data"
    },
    {
     "data": {
      "text/plain": [
       "\n"
      ]
     },
     "metadata": {},
     "output_type": "display_data"
    },
    {
     "data": {
      "text/plain": [
       "0: 384x640 14 cars, 4 trucks, 5 traffic lights, 914.1ms\n"
      ]
     },
     "metadata": {},
     "output_type": "display_data"
    },
    {
     "data": {
      "text/plain": [
       "Speed: 2.0ms preprocess, 914.1ms inference, 1.1ms postprocess per image at shape (1, 3, 384, 640)\n"
      ]
     },
     "metadata": {},
     "output_type": "display_data"
    },
    {
     "data": {
      "text/plain": [
       "\n"
      ]
     },
     "metadata": {},
     "output_type": "display_data"
    },
    {
     "data": {
      "text/plain": [
       "0: 384x640 14 cars, 6 trucks, 5 traffic lights, 925.2ms\n"
      ]
     },
     "metadata": {},
     "output_type": "display_data"
    },
    {
     "data": {
      "text/plain": [
       "Speed: 3.0ms preprocess, 925.2ms inference, 1.1ms postprocess per image at shape (1, 3, 384, 640)\n"
      ]
     },
     "metadata": {},
     "output_type": "display_data"
    },
    {
     "data": {
      "text/plain": [
       "\n"
      ]
     },
     "metadata": {},
     "output_type": "display_data"
    },
    {
     "data": {
      "text/plain": [
       "0: 384x640 14 cars, 5 trucks, 5 traffic lights, 938.4ms\n"
      ]
     },
     "metadata": {},
     "output_type": "display_data"
    },
    {
     "data": {
      "text/plain": [
       "Speed: 4.0ms preprocess, 938.4ms inference, 0.9ms postprocess per image at shape (1, 3, 384, 640)\n"
      ]
     },
     "metadata": {},
     "output_type": "display_data"
    },
    {
     "data": {
      "text/plain": [
       "\n"
      ]
     },
     "metadata": {},
     "output_type": "display_data"
    },
    {
     "data": {
      "text/plain": [
       "0: 384x640 12 cars, 7 trucks, 5 traffic lights, 916.0ms\n"
      ]
     },
     "metadata": {},
     "output_type": "display_data"
    },
    {
     "data": {
      "text/plain": [
       "Speed: 2.1ms preprocess, 916.0ms inference, 1.2ms postprocess per image at shape (1, 3, 384, 640)\n"
      ]
     },
     "metadata": {},
     "output_type": "display_data"
    },
    {
     "data": {
      "text/plain": [
       "\n"
      ]
     },
     "metadata": {},
     "output_type": "display_data"
    },
    {
     "data": {
      "text/plain": [
       "0: 384x640 13 cars, 6 trucks, 5 traffic lights, 955.0ms\n"
      ]
     },
     "metadata": {},
     "output_type": "display_data"
    },
    {
     "data": {
      "text/plain": [
       "Speed: 2.2ms preprocess, 955.0ms inference, 0.9ms postprocess per image at shape (1, 3, 384, 640)\n"
      ]
     },
     "metadata": {},
     "output_type": "display_data"
    },
    {
     "data": {
      "text/plain": [
       "\n"
      ]
     },
     "metadata": {},
     "output_type": "display_data"
    },
    {
     "data": {
      "text/plain": [
       "0: 384x640 12 cars, 7 trucks, 5 traffic lights, 915.4ms\n"
      ]
     },
     "metadata": {},
     "output_type": "display_data"
    },
    {
     "data": {
      "text/plain": [
       "Speed: 2.1ms preprocess, 915.4ms inference, 0.9ms postprocess per image at shape (1, 3, 384, 640)\n"
      ]
     },
     "metadata": {},
     "output_type": "display_data"
    },
    {
     "data": {
      "text/plain": [
       "\n"
      ]
     },
     "metadata": {},
     "output_type": "display_data"
    },
    {
     "data": {
      "text/plain": [
       "0: 384x640 12 cars, 7 trucks, 5 traffic lights, 923.7ms\n"
      ]
     },
     "metadata": {},
     "output_type": "display_data"
    },
    {
     "data": {
      "text/plain": [
       "Speed: 2.4ms preprocess, 923.7ms inference, 0.9ms postprocess per image at shape (1, 3, 384, 640)\n"
      ]
     },
     "metadata": {},
     "output_type": "display_data"
    },
    {
     "data": {
      "text/plain": [
       "\n"
      ]
     },
     "metadata": {},
     "output_type": "display_data"
    },
    {
     "data": {
      "text/plain": [
       "0: 384x640 13 cars, 6 trucks, 5 traffic lights, 916.6ms\n"
      ]
     },
     "metadata": {},
     "output_type": "display_data"
    },
    {
     "data": {
      "text/plain": [
       "Speed: 2.3ms preprocess, 916.6ms inference, 1.1ms postprocess per image at shape (1, 3, 384, 640)\n"
      ]
     },
     "metadata": {},
     "output_type": "display_data"
    },
    {
     "data": {
      "text/plain": [
       "\n"
      ]
     },
     "metadata": {},
     "output_type": "display_data"
    },
    {
     "data": {
      "text/plain": [
       "0: 384x640 13 cars, 6 trucks, 5 traffic lights, 904.7ms\n"
      ]
     },
     "metadata": {},
     "output_type": "display_data"
    },
    {
     "data": {
      "text/plain": [
       "Speed: 2.5ms preprocess, 904.7ms inference, 1.0ms postprocess per image at shape (1, 3, 384, 640)\n"
      ]
     },
     "metadata": {},
     "output_type": "display_data"
    },
    {
     "data": {
      "text/plain": [
       "\n"
      ]
     },
     "metadata": {},
     "output_type": "display_data"
    },
    {
     "data": {
      "text/plain": [
       "0: 384x640 14 cars, 6 trucks, 5 traffic lights, 928.9ms\n"
      ]
     },
     "metadata": {},
     "output_type": "display_data"
    },
    {
     "data": {
      "text/plain": [
       "Speed: 2.5ms preprocess, 928.9ms inference, 1.9ms postprocess per image at shape (1, 3, 384, 640)\n"
      ]
     },
     "metadata": {},
     "output_type": "display_data"
    },
    {
     "data": {
      "text/plain": [
       "\n"
      ]
     },
     "metadata": {},
     "output_type": "display_data"
    },
    {
     "data": {
      "text/plain": [
       "0: 384x640 14 cars, 5 trucks, 5 traffic lights, 918.0ms\n"
      ]
     },
     "metadata": {},
     "output_type": "display_data"
    },
    {
     "data": {
      "text/plain": [
       "Speed: 2.2ms preprocess, 918.0ms inference, 0.9ms postprocess per image at shape (1, 3, 384, 640)\n"
      ]
     },
     "metadata": {},
     "output_type": "display_data"
    },
    {
     "data": {
      "text/plain": [
       "\n"
      ]
     },
     "metadata": {},
     "output_type": "display_data"
    },
    {
     "data": {
      "text/plain": [
       "0: 384x640 13 cars, 6 trucks, 5 traffic lights, 914.6ms\n"
      ]
     },
     "metadata": {},
     "output_type": "display_data"
    },
    {
     "data": {
      "text/plain": [
       "Speed: 2.1ms preprocess, 914.6ms inference, 1.1ms postprocess per image at shape (1, 3, 384, 640)\n"
      ]
     },
     "metadata": {},
     "output_type": "display_data"
    },
    {
     "data": {
      "text/plain": [
       "\n"
      ]
     },
     "metadata": {},
     "output_type": "display_data"
    },
    {
     "data": {
      "text/plain": [
       "0: 384x640 13 cars, 6 trucks, 5 traffic lights, 924.2ms\n"
      ]
     },
     "metadata": {},
     "output_type": "display_data"
    },
    {
     "data": {
      "text/plain": [
       "Speed: 2.3ms preprocess, 924.2ms inference, 0.9ms postprocess per image at shape (1, 3, 384, 640)\n"
      ]
     },
     "metadata": {},
     "output_type": "display_data"
    },
    {
     "data": {
      "text/plain": [
       "\n"
      ]
     },
     "metadata": {},
     "output_type": "display_data"
    },
    {
     "data": {
      "text/plain": [
       "0: 384x640 14 cars, 6 trucks, 5 traffic lights, 916.4ms\n"
      ]
     },
     "metadata": {},
     "output_type": "display_data"
    },
    {
     "data": {
      "text/plain": [
       "Speed: 2.4ms preprocess, 916.4ms inference, 1.1ms postprocess per image at shape (1, 3, 384, 640)\n"
      ]
     },
     "metadata": {},
     "output_type": "display_data"
    },
    {
     "data": {
      "text/plain": [
       "\n"
      ]
     },
     "metadata": {},
     "output_type": "display_data"
    },
    {
     "data": {
      "text/plain": [
       "0: 384x640 15 cars, 5 trucks, 5 traffic lights, 909.3ms\n"
      ]
     },
     "metadata": {},
     "output_type": "display_data"
    },
    {
     "data": {
      "text/plain": [
       "Speed: 2.3ms preprocess, 909.3ms inference, 0.9ms postprocess per image at shape (1, 3, 384, 640)\n"
      ]
     },
     "metadata": {},
     "output_type": "display_data"
    },
    {
     "data": {
      "text/plain": [
       "\n"
      ]
     },
     "metadata": {},
     "output_type": "display_data"
    },
    {
     "data": {
      "text/plain": [
       "0: 384x640 14 cars, 6 trucks, 6 traffic lights, 928.2ms\n"
      ]
     },
     "metadata": {},
     "output_type": "display_data"
    },
    {
     "data": {
      "text/plain": [
       "Speed: 2.3ms preprocess, 928.2ms inference, 1.5ms postprocess per image at shape (1, 3, 384, 640)\n"
      ]
     },
     "metadata": {},
     "output_type": "display_data"
    },
    {
     "data": {
      "text/plain": [
       "\n"
      ]
     },
     "metadata": {},
     "output_type": "display_data"
    },
    {
     "data": {
      "text/plain": [
       "0: 384x640 14 cars, 6 trucks, 6 traffic lights, 923.8ms\n"
      ]
     },
     "metadata": {},
     "output_type": "display_data"
    },
    {
     "data": {
      "text/plain": [
       "Speed: 4.0ms preprocess, 923.8ms inference, 1.3ms postprocess per image at shape (1, 3, 384, 640)\n"
      ]
     },
     "metadata": {},
     "output_type": "display_data"
    },
    {
     "data": {
      "text/plain": [
       "\n"
      ]
     },
     "metadata": {},
     "output_type": "display_data"
    },
    {
     "data": {
      "text/plain": [
       "0: 384x640 15 cars, 6 trucks, 6 traffic lights, 927.6ms\n"
      ]
     },
     "metadata": {},
     "output_type": "display_data"
    },
    {
     "data": {
      "text/plain": [
       "Speed: 3.2ms preprocess, 927.6ms inference, 1.0ms postprocess per image at shape (1, 3, 384, 640)\n"
      ]
     },
     "metadata": {},
     "output_type": "display_data"
    },
    {
     "data": {
      "text/plain": [
       "\n"
      ]
     },
     "metadata": {},
     "output_type": "display_data"
    },
    {
     "data": {
      "text/plain": [
       "0: 384x640 14 cars, 6 trucks, 5 traffic lights, 934.9ms\n"
      ]
     },
     "metadata": {},
     "output_type": "display_data"
    },
    {
     "data": {
      "text/plain": [
       "Speed: 2.5ms preprocess, 934.9ms inference, 1.0ms postprocess per image at shape (1, 3, 384, 640)\n"
      ]
     },
     "metadata": {},
     "output_type": "display_data"
    },
    {
     "data": {
      "text/plain": [
       "\n"
      ]
     },
     "metadata": {},
     "output_type": "display_data"
    },
    {
     "data": {
      "text/plain": [
       "0: 384x640 15 cars, 6 trucks, 5 traffic lights, 926.7ms\n"
      ]
     },
     "metadata": {},
     "output_type": "display_data"
    },
    {
     "data": {
      "text/plain": [
       "Speed: 2.0ms preprocess, 926.7ms inference, 1.0ms postprocess per image at shape (1, 3, 384, 640)\n"
      ]
     },
     "metadata": {},
     "output_type": "display_data"
    },
    {
     "data": {
      "text/plain": [
       "\n"
      ]
     },
     "metadata": {},
     "output_type": "display_data"
    },
    {
     "data": {
      "text/plain": [
       "0: 384x640 14 cars, 6 trucks, 5 traffic lights, 921.4ms\n"
      ]
     },
     "metadata": {},
     "output_type": "display_data"
    },
    {
     "data": {
      "text/plain": [
       "Speed: 3.3ms preprocess, 921.4ms inference, 1.5ms postprocess per image at shape (1, 3, 384, 640)\n"
      ]
     },
     "metadata": {},
     "output_type": "display_data"
    },
    {
     "data": {
      "text/plain": [
       "\n"
      ]
     },
     "metadata": {},
     "output_type": "display_data"
    },
    {
     "data": {
      "text/plain": [
       "0: 384x640 14 cars, 4 trucks, 5 traffic lights, 912.7ms\n"
      ]
     },
     "metadata": {},
     "output_type": "display_data"
    },
    {
     "data": {
      "text/plain": [
       "Speed: 3.3ms preprocess, 912.7ms inference, 1.5ms postprocess per image at shape (1, 3, 384, 640)\n"
      ]
     },
     "metadata": {},
     "output_type": "display_data"
    },
    {
     "data": {
      "text/plain": [
       "\n"
      ]
     },
     "metadata": {},
     "output_type": "display_data"
    },
    {
     "data": {
      "text/plain": [
       "0: 384x640 16 cars, 4 trucks, 5 traffic lights, 933.8ms\n"
      ]
     },
     "metadata": {},
     "output_type": "display_data"
    },
    {
     "data": {
      "text/plain": [
       "Speed: 2.5ms preprocess, 933.8ms inference, 1.0ms postprocess per image at shape (1, 3, 384, 640)\n"
      ]
     },
     "metadata": {},
     "output_type": "display_data"
    },
    {
     "data": {
      "text/plain": [
       "\n"
      ]
     },
     "metadata": {},
     "output_type": "display_data"
    },
    {
     "data": {
      "text/plain": [
       "0: 384x640 14 cars, 4 trucks, 5 traffic lights, 930.4ms\n"
      ]
     },
     "metadata": {},
     "output_type": "display_data"
    },
    {
     "data": {
      "text/plain": [
       "Speed: 2.5ms preprocess, 930.4ms inference, 0.9ms postprocess per image at shape (1, 3, 384, 640)\n"
      ]
     },
     "metadata": {},
     "output_type": "display_data"
    },
    {
     "data": {
      "text/plain": [
       "\n"
      ]
     },
     "metadata": {},
     "output_type": "display_data"
    },
    {
     "data": {
      "text/plain": [
       "0: 384x640 15 cars, 2 trucks, 5 traffic lights, 908.9ms\n"
      ]
     },
     "metadata": {},
     "output_type": "display_data"
    },
    {
     "data": {
      "text/plain": [
       "Speed: 2.5ms preprocess, 908.9ms inference, 1.2ms postprocess per image at shape (1, 3, 384, 640)\n"
      ]
     },
     "metadata": {},
     "output_type": "display_data"
    },
    {
     "data": {
      "text/plain": [
       "\n"
      ]
     },
     "metadata": {},
     "output_type": "display_data"
    },
    {
     "data": {
      "text/plain": [
       "0: 384x640 15 cars, 3 trucks, 5 traffic lights, 935.0ms\n"
      ]
     },
     "metadata": {},
     "output_type": "display_data"
    },
    {
     "data": {
      "text/plain": [
       "Speed: 3.3ms preprocess, 935.0ms inference, 1.1ms postprocess per image at shape (1, 3, 384, 640)\n"
      ]
     },
     "metadata": {},
     "output_type": "display_data"
    },
    {
     "data": {
      "text/plain": [
       "\n"
      ]
     },
     "metadata": {},
     "output_type": "display_data"
    },
    {
     "data": {
      "text/plain": [
       "0: 384x640 14 cars, 4 trucks, 5 traffic lights, 930.3ms\n"
      ]
     },
     "metadata": {},
     "output_type": "display_data"
    },
    {
     "data": {
      "text/plain": [
       "Speed: 2.8ms preprocess, 930.3ms inference, 1.8ms postprocess per image at shape (1, 3, 384, 640)\n"
      ]
     },
     "metadata": {},
     "output_type": "display_data"
    },
    {
     "data": {
      "text/plain": [
       "\n"
      ]
     },
     "metadata": {},
     "output_type": "display_data"
    },
    {
     "data": {
      "text/plain": [
       "0: 384x640 16 cars, 4 trucks, 5 traffic lights, 925.1ms\n"
      ]
     },
     "metadata": {},
     "output_type": "display_data"
    },
    {
     "data": {
      "text/plain": [
       "Speed: 2.1ms preprocess, 925.1ms inference, 1.0ms postprocess per image at shape (1, 3, 384, 640)\n"
      ]
     },
     "metadata": {},
     "output_type": "display_data"
    },
    {
     "data": {
      "text/plain": [
       "\n"
      ]
     },
     "metadata": {},
     "output_type": "display_data"
    },
    {
     "data": {
      "text/plain": [
       "0: 384x640 16 cars, 5 trucks, 5 traffic lights, 924.6ms\n"
      ]
     },
     "metadata": {},
     "output_type": "display_data"
    },
    {
     "data": {
      "text/plain": [
       "Speed: 2.5ms preprocess, 924.6ms inference, 1.0ms postprocess per image at shape (1, 3, 384, 640)\n"
      ]
     },
     "metadata": {},
     "output_type": "display_data"
    },
    {
     "data": {
      "text/plain": [
       "\n"
      ]
     },
     "metadata": {},
     "output_type": "display_data"
    },
    {
     "data": {
      "text/plain": [
       "0: 384x640 17 cars, 5 trucks, 5 traffic lights, 923.7ms\n"
      ]
     },
     "metadata": {},
     "output_type": "display_data"
    },
    {
     "data": {
      "text/plain": [
       "Speed: 2.2ms preprocess, 923.7ms inference, 0.9ms postprocess per image at shape (1, 3, 384, 640)\n"
      ]
     },
     "metadata": {},
     "output_type": "display_data"
    },
    {
     "data": {
      "text/plain": [
       "\n"
      ]
     },
     "metadata": {},
     "output_type": "display_data"
    },
    {
     "data": {
      "text/plain": [
       "0: 384x640 15 cars, 7 trucks, 5 traffic lights, 905.9ms\n"
      ]
     },
     "metadata": {},
     "output_type": "display_data"
    },
    {
     "data": {
      "text/plain": [
       "Speed: 2.1ms preprocess, 905.9ms inference, 1.1ms postprocess per image at shape (1, 3, 384, 640)\n"
      ]
     },
     "metadata": {},
     "output_type": "display_data"
    },
    {
     "data": {
      "text/plain": [
       "\n"
      ]
     },
     "metadata": {},
     "output_type": "display_data"
    },
    {
     "data": {
      "text/plain": [
       "0: 384x640 14 cars, 8 trucks, 5 traffic lights, 902.8ms\n"
      ]
     },
     "metadata": {},
     "output_type": "display_data"
    },
    {
     "data": {
      "text/plain": [
       "Speed: 2.8ms preprocess, 902.8ms inference, 0.9ms postprocess per image at shape (1, 3, 384, 640)\n"
      ]
     },
     "metadata": {},
     "output_type": "display_data"
    },
    {
     "data": {
      "text/plain": [
       "\n"
      ]
     },
     "metadata": {},
     "output_type": "display_data"
    },
    {
     "data": {
      "text/plain": [
       "0: 384x640 15 cars, 7 trucks, 5 traffic lights, 914.3ms\n"
      ]
     },
     "metadata": {},
     "output_type": "display_data"
    },
    {
     "data": {
      "text/plain": [
       "Speed: 3.3ms preprocess, 914.3ms inference, 1.6ms postprocess per image at shape (1, 3, 384, 640)\n"
      ]
     },
     "metadata": {},
     "output_type": "display_data"
    },
    {
     "data": {
      "text/plain": [
       "\n"
      ]
     },
     "metadata": {},
     "output_type": "display_data"
    },
    {
     "data": {
      "text/plain": [
       "0: 384x640 16 cars, 6 trucks, 5 traffic lights, 945.5ms\n"
      ]
     },
     "metadata": {},
     "output_type": "display_data"
    },
    {
     "data": {
      "text/plain": [
       "Speed: 2.2ms preprocess, 945.5ms inference, 1.8ms postprocess per image at shape (1, 3, 384, 640)\n"
      ]
     },
     "metadata": {},
     "output_type": "display_data"
    },
    {
     "data": {
      "text/plain": [
       "\n"
      ]
     },
     "metadata": {},
     "output_type": "display_data"
    },
    {
     "data": {
      "text/plain": [
       "0: 384x640 15 cars, 6 trucks, 5 traffic lights, 924.9ms\n"
      ]
     },
     "metadata": {},
     "output_type": "display_data"
    },
    {
     "data": {
      "text/plain": [
       "Speed: 2.4ms preprocess, 924.9ms inference, 0.9ms postprocess per image at shape (1, 3, 384, 640)\n"
      ]
     },
     "metadata": {},
     "output_type": "display_data"
    },
    {
     "data": {
      "text/plain": [
       "\n"
      ]
     },
     "metadata": {},
     "output_type": "display_data"
    },
    {
     "data": {
      "text/plain": [
       "0: 384x640 13 cars, 8 trucks, 5 traffic lights, 907.0ms\n"
      ]
     },
     "metadata": {},
     "output_type": "display_data"
    },
    {
     "data": {
      "text/plain": [
       "Speed: 2.1ms preprocess, 907.0ms inference, 1.5ms postprocess per image at shape (1, 3, 384, 640)\n"
      ]
     },
     "metadata": {},
     "output_type": "display_data"
    },
    {
     "data": {
      "text/plain": [
       "\n"
      ]
     },
     "metadata": {},
     "output_type": "display_data"
    },
    {
     "data": {
      "text/plain": [
       "0: 384x640 14 cars, 1 bus, 7 trucks, 5 traffic lights, 925.1ms\n"
      ]
     },
     "metadata": {},
     "output_type": "display_data"
    },
    {
     "data": {
      "text/plain": [
       "Speed: 2.8ms preprocess, 925.1ms inference, 2.2ms postprocess per image at shape (1, 3, 384, 640)\n"
      ]
     },
     "metadata": {},
     "output_type": "display_data"
    },
    {
     "data": {
      "text/plain": [
       "\n"
      ]
     },
     "metadata": {},
     "output_type": "display_data"
    },
    {
     "data": {
      "text/plain": [
       "0: 384x640 14 cars, 8 trucks, 5 traffic lights, 923.6ms\n"
      ]
     },
     "metadata": {},
     "output_type": "display_data"
    },
    {
     "data": {
      "text/plain": [
       "Speed: 2.5ms preprocess, 923.6ms inference, 1.8ms postprocess per image at shape (1, 3, 384, 640)\n"
      ]
     },
     "metadata": {},
     "output_type": "display_data"
    },
    {
     "data": {
      "text/plain": [
       "\n"
      ]
     },
     "metadata": {},
     "output_type": "display_data"
    },
    {
     "data": {
      "text/plain": [
       "0: 384x640 14 cars, 8 trucks, 5 traffic lights, 935.2ms\n"
      ]
     },
     "metadata": {},
     "output_type": "display_data"
    },
    {
     "data": {
      "text/plain": [
       "Speed: 2.2ms preprocess, 935.2ms inference, 1.0ms postprocess per image at shape (1, 3, 384, 640)\n"
      ]
     },
     "metadata": {},
     "output_type": "display_data"
    },
    {
     "data": {
      "text/plain": [
       "\n"
      ]
     },
     "metadata": {},
     "output_type": "display_data"
    },
    {
     "data": {
      "text/plain": [
       "0: 384x640 15 cars, 9 trucks, 4 traffic lights, 945.6ms\n"
      ]
     },
     "metadata": {},
     "output_type": "display_data"
    },
    {
     "data": {
      "text/plain": [
       "Speed: 2.2ms preprocess, 945.6ms inference, 1.5ms postprocess per image at shape (1, 3, 384, 640)\n"
      ]
     },
     "metadata": {},
     "output_type": "display_data"
    },
    {
     "data": {
      "text/plain": [
       "\n"
      ]
     },
     "metadata": {},
     "output_type": "display_data"
    },
    {
     "data": {
      "text/plain": [
       "0: 384x640 14 cars, 9 trucks, 4 traffic lights, 920.6ms\n"
      ]
     },
     "metadata": {},
     "output_type": "display_data"
    },
    {
     "data": {
      "text/plain": [
       "Speed: 2.2ms preprocess, 920.6ms inference, 0.9ms postprocess per image at shape (1, 3, 384, 640)\n"
      ]
     },
     "metadata": {},
     "output_type": "display_data"
    },
    {
     "data": {
      "text/plain": [
       "\n"
      ]
     },
     "metadata": {},
     "output_type": "display_data"
    },
    {
     "data": {
      "text/plain": [
       "0: 384x640 16 cars, 9 trucks, 4 traffic lights, 929.0ms\n"
      ]
     },
     "metadata": {},
     "output_type": "display_data"
    },
    {
     "data": {
      "text/plain": [
       "Speed: 2.0ms preprocess, 929.0ms inference, 0.9ms postprocess per image at shape (1, 3, 384, 640)\n"
      ]
     },
     "metadata": {},
     "output_type": "display_data"
    },
    {
     "data": {
      "text/plain": [
       "\n"
      ]
     },
     "metadata": {},
     "output_type": "display_data"
    },
    {
     "data": {
      "text/plain": [
       "0: 384x640 17 cars, 8 trucks, 4 traffic lights, 933.7ms\n"
      ]
     },
     "metadata": {},
     "output_type": "display_data"
    },
    {
     "data": {
      "text/plain": [
       "Speed: 2.0ms preprocess, 933.7ms inference, 1.2ms postprocess per image at shape (1, 3, 384, 640)\n"
      ]
     },
     "metadata": {},
     "output_type": "display_data"
    },
    {
     "data": {
      "text/plain": [
       "\n"
      ]
     },
     "metadata": {},
     "output_type": "display_data"
    },
    {
     "data": {
      "text/plain": [
       "0: 384x640 15 cars, 10 trucks, 4 traffic lights, 958.4ms\n"
      ]
     },
     "metadata": {},
     "output_type": "display_data"
    },
    {
     "data": {
      "text/plain": [
       "Speed: 2.7ms preprocess, 958.4ms inference, 1.2ms postprocess per image at shape (1, 3, 384, 640)\n"
      ]
     },
     "metadata": {},
     "output_type": "display_data"
    },
    {
     "data": {
      "text/plain": [
       "\n"
      ]
     },
     "metadata": {},
     "output_type": "display_data"
    },
    {
     "data": {
      "text/plain": [
       "0: 384x640 17 cars, 10 trucks, 4 traffic lights, 1021.3ms\n"
      ]
     },
     "metadata": {},
     "output_type": "display_data"
    },
    {
     "data": {
      "text/plain": [
       "Speed: 2.4ms preprocess, 1021.3ms inference, 2.1ms postprocess per image at shape (1, 3, 384, 640)\n"
      ]
     },
     "metadata": {},
     "output_type": "display_data"
    },
    {
     "data": {
      "text/plain": [
       "\n"
      ]
     },
     "metadata": {},
     "output_type": "display_data"
    },
    {
     "data": {
      "text/plain": [
       "0: 384x640 19 cars, 8 trucks, 4 traffic lights, 1041.8ms\n"
      ]
     },
     "metadata": {},
     "output_type": "display_data"
    },
    {
     "data": {
      "text/plain": [
       "Speed: 2.8ms preprocess, 1041.8ms inference, 2.4ms postprocess per image at shape (1, 3, 384, 640)\n"
      ]
     },
     "metadata": {},
     "output_type": "display_data"
    },
    {
     "data": {
      "text/plain": [
       "\n"
      ]
     },
     "metadata": {},
     "output_type": "display_data"
    },
    {
     "data": {
      "text/plain": [
       "0: 384x640 18 cars, 7 trucks, 4 traffic lights, 1066.3ms\n"
      ]
     },
     "metadata": {},
     "output_type": "display_data"
    },
    {
     "data": {
      "text/plain": [
       "Speed: 2.7ms preprocess, 1066.3ms inference, 1.3ms postprocess per image at shape (1, 3, 384, 640)\n"
      ]
     },
     "metadata": {},
     "output_type": "display_data"
    },
    {
     "data": {
      "text/plain": [
       "\n"
      ]
     },
     "metadata": {},
     "output_type": "display_data"
    },
    {
     "data": {
      "text/plain": [
       "0: 384x640 16 cars, 7 trucks, 4 traffic lights, 994.8ms\n"
      ]
     },
     "metadata": {},
     "output_type": "display_data"
    },
    {
     "data": {
      "text/plain": [
       "Speed: 3.3ms preprocess, 994.8ms inference, 1.0ms postprocess per image at shape (1, 3, 384, 640)\n"
      ]
     },
     "metadata": {},
     "output_type": "display_data"
    },
    {
     "data": {
      "text/plain": [
       "\n"
      ]
     },
     "metadata": {},
     "output_type": "display_data"
    },
    {
     "data": {
      "text/plain": [
       "0: 384x640 17 cars, 7 trucks, 4 traffic lights, 938.8ms\n"
      ]
     },
     "metadata": {},
     "output_type": "display_data"
    },
    {
     "data": {
      "text/plain": [
       "Speed: 2.1ms preprocess, 938.8ms inference, 1.2ms postprocess per image at shape (1, 3, 384, 640)\n"
      ]
     },
     "metadata": {},
     "output_type": "display_data"
    },
    {
     "data": {
      "text/plain": [
       "\n"
      ]
     },
     "metadata": {},
     "output_type": "display_data"
    },
    {
     "data": {
      "text/plain": [
       "0: 384x640 16 cars, 7 trucks, 4 traffic lights, 962.3ms\n"
      ]
     },
     "metadata": {},
     "output_type": "display_data"
    },
    {
     "data": {
      "text/plain": [
       "Speed: 2.3ms preprocess, 962.3ms inference, 1.3ms postprocess per image at shape (1, 3, 384, 640)\n"
      ]
     },
     "metadata": {},
     "output_type": "display_data"
    },
    {
     "data": {
      "text/plain": [
       "\n"
      ]
     },
     "metadata": {},
     "output_type": "display_data"
    },
    {
     "data": {
      "text/plain": [
       "0: 384x640 14 cars, 8 trucks, 4 traffic lights, 939.4ms\n"
      ]
     },
     "metadata": {},
     "output_type": "display_data"
    },
    {
     "data": {
      "text/plain": [
       "Speed: 3.2ms preprocess, 939.4ms inference, 1.2ms postprocess per image at shape (1, 3, 384, 640)\n"
      ]
     },
     "metadata": {},
     "output_type": "display_data"
    },
    {
     "data": {
      "text/plain": [
       "\n"
      ]
     },
     "metadata": {},
     "output_type": "display_data"
    },
    {
     "data": {
      "text/plain": [
       "0: 384x640 15 cars, 7 trucks, 4 traffic lights, 932.4ms\n"
      ]
     },
     "metadata": {},
     "output_type": "display_data"
    },
    {
     "data": {
      "text/plain": [
       "Speed: 2.4ms preprocess, 932.4ms inference, 1.0ms postprocess per image at shape (1, 3, 384, 640)\n"
      ]
     },
     "metadata": {},
     "output_type": "display_data"
    },
    {
     "data": {
      "text/plain": [
       "\n"
      ]
     },
     "metadata": {},
     "output_type": "display_data"
    },
    {
     "data": {
      "text/plain": [
       "0: 384x640 17 cars, 7 trucks, 4 traffic lights, 921.2ms\n"
      ]
     },
     "metadata": {},
     "output_type": "display_data"
    },
    {
     "data": {
      "text/plain": [
       "Speed: 2.5ms preprocess, 921.2ms inference, 1.0ms postprocess per image at shape (1, 3, 384, 640)\n"
      ]
     },
     "metadata": {},
     "output_type": "display_data"
    },
    {
     "data": {
      "text/plain": [
       "\n"
      ]
     },
     "metadata": {},
     "output_type": "display_data"
    },
    {
     "data": {
      "text/plain": [
       "0: 384x640 18 cars, 5 trucks, 5 traffic lights, 928.2ms\n"
      ]
     },
     "metadata": {},
     "output_type": "display_data"
    },
    {
     "data": {
      "text/plain": [
       "Speed: 2.1ms preprocess, 928.2ms inference, 1.0ms postprocess per image at shape (1, 3, 384, 640)\n"
      ]
     },
     "metadata": {},
     "output_type": "display_data"
    },
    {
     "data": {
      "text/plain": [
       "\n"
      ]
     },
     "metadata": {},
     "output_type": "display_data"
    },
    {
     "data": {
      "text/plain": [
       "0: 384x640 17 cars, 5 trucks, 5 traffic lights, 944.9ms\n"
      ]
     },
     "metadata": {},
     "output_type": "display_data"
    },
    {
     "data": {
      "text/plain": [
       "Speed: 2.2ms preprocess, 944.9ms inference, 1.0ms postprocess per image at shape (1, 3, 384, 640)\n"
      ]
     },
     "metadata": {},
     "output_type": "display_data"
    },
    {
     "data": {
      "text/plain": [
       "\n"
      ]
     },
     "metadata": {},
     "output_type": "display_data"
    },
    {
     "data": {
      "text/plain": [
       "0: 384x640 16 cars, 6 trucks, 5 traffic lights, 923.8ms\n"
      ]
     },
     "metadata": {},
     "output_type": "display_data"
    },
    {
     "data": {
      "text/plain": [
       "Speed: 2.3ms preprocess, 923.8ms inference, 1.0ms postprocess per image at shape (1, 3, 384, 640)\n"
      ]
     },
     "metadata": {},
     "output_type": "display_data"
    },
    {
     "data": {
      "text/plain": [
       "\n"
      ]
     },
     "metadata": {},
     "output_type": "display_data"
    },
    {
     "data": {
      "text/plain": [
       "0: 384x640 17 cars, 5 trucks, 5 traffic lights, 917.4ms\n"
      ]
     },
     "metadata": {},
     "output_type": "display_data"
    },
    {
     "data": {
      "text/plain": [
       "Speed: 2.1ms preprocess, 917.4ms inference, 1.1ms postprocess per image at shape (1, 3, 384, 640)\n"
      ]
     },
     "metadata": {},
     "output_type": "display_data"
    },
    {
     "data": {
      "text/plain": [
       "\n"
      ]
     },
     "metadata": {},
     "output_type": "display_data"
    },
    {
     "data": {
      "text/plain": [
       "0: 384x640 16 cars, 5 trucks, 5 traffic lights, 936.5ms\n"
      ]
     },
     "metadata": {},
     "output_type": "display_data"
    },
    {
     "data": {
      "text/plain": [
       "Speed: 2.4ms preprocess, 936.5ms inference, 1.2ms postprocess per image at shape (1, 3, 384, 640)\n"
      ]
     },
     "metadata": {},
     "output_type": "display_data"
    },
    {
     "data": {
      "text/plain": [
       "\n"
      ]
     },
     "metadata": {},
     "output_type": "display_data"
    },
    {
     "data": {
      "text/plain": [
       "0: 384x640 14 cars, 7 trucks, 5 traffic lights, 924.8ms\n"
      ]
     },
     "metadata": {},
     "output_type": "display_data"
    },
    {
     "data": {
      "text/plain": [
       "Speed: 2.4ms preprocess, 924.8ms inference, 1.0ms postprocess per image at shape (1, 3, 384, 640)\n"
      ]
     },
     "metadata": {},
     "output_type": "display_data"
    },
    {
     "data": {
      "text/plain": [
       "\n"
      ]
     },
     "metadata": {},
     "output_type": "display_data"
    },
    {
     "data": {
      "text/plain": [
       "0: 384x640 15 cars, 6 trucks, 5 traffic lights, 930.0ms\n"
      ]
     },
     "metadata": {},
     "output_type": "display_data"
    },
    {
     "data": {
      "text/plain": [
       "Speed: 2.3ms preprocess, 930.0ms inference, 1.0ms postprocess per image at shape (1, 3, 384, 640)\n"
      ]
     },
     "metadata": {},
     "output_type": "display_data"
    },
    {
     "data": {
      "text/plain": [
       "\n"
      ]
     },
     "metadata": {},
     "output_type": "display_data"
    },
    {
     "data": {
      "text/plain": [
       "0: 384x640 15 cars, 6 trucks, 4 traffic lights, 916.8ms\n"
      ]
     },
     "metadata": {},
     "output_type": "display_data"
    },
    {
     "data": {
      "text/plain": [
       "Speed: 2.2ms preprocess, 916.8ms inference, 1.0ms postprocess per image at shape (1, 3, 384, 640)\n"
      ]
     },
     "metadata": {},
     "output_type": "display_data"
    },
    {
     "data": {
      "text/plain": [
       "\n"
      ]
     },
     "metadata": {},
     "output_type": "display_data"
    },
    {
     "data": {
      "text/plain": [
       "0: 384x640 15 cars, 4 trucks, 4 traffic lights, 923.5ms\n"
      ]
     },
     "metadata": {},
     "output_type": "display_data"
    },
    {
     "data": {
      "text/plain": [
       "Speed: 2.2ms preprocess, 923.5ms inference, 1.2ms postprocess per image at shape (1, 3, 384, 640)\n"
      ]
     },
     "metadata": {},
     "output_type": "display_data"
    },
    {
     "data": {
      "text/plain": [
       "\n"
      ]
     },
     "metadata": {},
     "output_type": "display_data"
    },
    {
     "data": {
      "text/plain": [
       "0: 384x640 16 cars, 2 trucks, 4 traffic lights, 923.9ms\n"
      ]
     },
     "metadata": {},
     "output_type": "display_data"
    },
    {
     "data": {
      "text/plain": [
       "Speed: 2.1ms preprocess, 923.9ms inference, 1.7ms postprocess per image at shape (1, 3, 384, 640)\n"
      ]
     },
     "metadata": {},
     "output_type": "display_data"
    },
    {
     "data": {
      "text/plain": [
       "\n"
      ]
     },
     "metadata": {},
     "output_type": "display_data"
    },
    {
     "data": {
      "text/plain": [
       "0: 384x640 17 cars, 3 trucks, 5 traffic lights, 929.9ms\n"
      ]
     },
     "metadata": {},
     "output_type": "display_data"
    },
    {
     "data": {
      "text/plain": [
       "Speed: 2.3ms preprocess, 929.9ms inference, 1.8ms postprocess per image at shape (1, 3, 384, 640)\n"
      ]
     },
     "metadata": {},
     "output_type": "display_data"
    },
    {
     "data": {
      "text/plain": [
       "\n"
      ]
     },
     "metadata": {},
     "output_type": "display_data"
    },
    {
     "data": {
      "text/plain": [
       "0: 384x640 17 cars, 3 trucks, 5 traffic lights, 918.5ms\n"
      ]
     },
     "metadata": {},
     "output_type": "display_data"
    },
    {
     "data": {
      "text/plain": [
       "Speed: 2.2ms preprocess, 918.5ms inference, 0.9ms postprocess per image at shape (1, 3, 384, 640)\n"
      ]
     },
     "metadata": {},
     "output_type": "display_data"
    },
    {
     "data": {
      "text/plain": [
       "\n"
      ]
     },
     "metadata": {},
     "output_type": "display_data"
    },
    {
     "data": {
      "text/plain": [
       "0: 384x640 16 cars, 4 trucks, 5 traffic lights, 915.3ms\n"
      ]
     },
     "metadata": {},
     "output_type": "display_data"
    },
    {
     "data": {
      "text/plain": [
       "Speed: 2.0ms preprocess, 915.3ms inference, 1.7ms postprocess per image at shape (1, 3, 384, 640)\n"
      ]
     },
     "metadata": {},
     "output_type": "display_data"
    },
    {
     "data": {
      "text/plain": [
       "\n"
      ]
     },
     "metadata": {},
     "output_type": "display_data"
    },
    {
     "data": {
      "text/plain": [
       "0: 384x640 17 cars, 1 bus, 4 trucks, 5 traffic lights, 920.5ms\n"
      ]
     },
     "metadata": {},
     "output_type": "display_data"
    },
    {
     "data": {
      "text/plain": [
       "Speed: 2.3ms preprocess, 920.5ms inference, 0.9ms postprocess per image at shape (1, 3, 384, 640)\n"
      ]
     },
     "metadata": {},
     "output_type": "display_data"
    },
    {
     "data": {
      "text/plain": [
       "\n"
      ]
     },
     "metadata": {},
     "output_type": "display_data"
    },
    {
     "data": {
      "text/plain": [
       "0: 384x640 18 cars, 1 bus, 4 trucks, 5 traffic lights, 916.8ms\n"
      ]
     },
     "metadata": {},
     "output_type": "display_data"
    },
    {
     "data": {
      "text/plain": [
       "Speed: 2.0ms preprocess, 916.8ms inference, 1.8ms postprocess per image at shape (1, 3, 384, 640)\n"
      ]
     },
     "metadata": {},
     "output_type": "display_data"
    },
    {
     "data": {
      "text/plain": [
       "\n"
      ]
     },
     "metadata": {},
     "output_type": "display_data"
    },
    {
     "data": {
      "text/plain": [
       "0: 384x640 18 cars, 4 trucks, 5 traffic lights, 939.1ms\n"
      ]
     },
     "metadata": {},
     "output_type": "display_data"
    },
    {
     "data": {
      "text/plain": [
       "Speed: 2.3ms preprocess, 939.1ms inference, 0.9ms postprocess per image at shape (1, 3, 384, 640)\n"
      ]
     },
     "metadata": {},
     "output_type": "display_data"
    },
    {
     "data": {
      "text/plain": [
       "\n"
      ]
     },
     "metadata": {},
     "output_type": "display_data"
    },
    {
     "data": {
      "text/plain": [
       "0: 384x640 18 cars, 3 trucks, 5 traffic lights, 913.8ms\n"
      ]
     },
     "metadata": {},
     "output_type": "display_data"
    },
    {
     "data": {
      "text/plain": [
       "Speed: 1.9ms preprocess, 913.8ms inference, 1.0ms postprocess per image at shape (1, 3, 384, 640)\n"
      ]
     },
     "metadata": {},
     "output_type": "display_data"
    },
    {
     "data": {
      "text/plain": [
       "\n"
      ]
     },
     "metadata": {},
     "output_type": "display_data"
    },
    {
     "data": {
      "text/plain": [
       "0: 384x640 17 cars, 4 trucks, 5 traffic lights, 918.3ms\n"
      ]
     },
     "metadata": {},
     "output_type": "display_data"
    },
    {
     "data": {
      "text/plain": [
       "Speed: 2.8ms preprocess, 918.3ms inference, 0.9ms postprocess per image at shape (1, 3, 384, 640)\n"
      ]
     },
     "metadata": {},
     "output_type": "display_data"
    },
    {
     "data": {
      "text/plain": [
       "\n"
      ]
     },
     "metadata": {},
     "output_type": "display_data"
    },
    {
     "data": {
      "text/plain": [
       "0: 384x640 17 cars, 3 trucks, 5 traffic lights, 938.5ms\n"
      ]
     },
     "metadata": {},
     "output_type": "display_data"
    },
    {
     "data": {
      "text/plain": [
       "Speed: 1.9ms preprocess, 938.5ms inference, 0.9ms postprocess per image at shape (1, 3, 384, 640)\n"
      ]
     },
     "metadata": {},
     "output_type": "display_data"
    },
    {
     "data": {
      "text/plain": [
       "\n"
      ]
     },
     "metadata": {},
     "output_type": "display_data"
    },
    {
     "data": {
      "text/plain": [
       "0: 384x640 18 cars, 3 trucks, 4 traffic lights, 907.4ms\n"
      ]
     },
     "metadata": {},
     "output_type": "display_data"
    },
    {
     "data": {
      "text/plain": [
       "Speed: 2.4ms preprocess, 907.4ms inference, 1.2ms postprocess per image at shape (1, 3, 384, 640)\n"
      ]
     },
     "metadata": {},
     "output_type": "display_data"
    },
    {
     "data": {
      "text/plain": [
       "\n"
      ]
     },
     "metadata": {},
     "output_type": "display_data"
    },
    {
     "data": {
      "text/plain": [
       "0: 384x640 18 cars, 4 trucks, 4 traffic lights, 933.5ms\n"
      ]
     },
     "metadata": {},
     "output_type": "display_data"
    },
    {
     "data": {
      "text/plain": [
       "Speed: 3.4ms preprocess, 933.5ms inference, 1.0ms postprocess per image at shape (1, 3, 384, 640)\n"
      ]
     },
     "metadata": {},
     "output_type": "display_data"
    },
    {
     "data": {
      "text/plain": [
       "\n"
      ]
     },
     "metadata": {},
     "output_type": "display_data"
    },
    {
     "data": {
      "text/plain": [
       "0: 384x640 19 cars, 4 trucks, 4 traffic lights, 929.9ms\n"
      ]
     },
     "metadata": {},
     "output_type": "display_data"
    },
    {
     "data": {
      "text/plain": [
       "Speed: 4.2ms preprocess, 929.9ms inference, 1.1ms postprocess per image at shape (1, 3, 384, 640)\n"
      ]
     },
     "metadata": {},
     "output_type": "display_data"
    },
    {
     "data": {
      "text/plain": [
       "\n"
      ]
     },
     "metadata": {},
     "output_type": "display_data"
    },
    {
     "data": {
      "text/plain": [
       "0: 384x640 19 cars, 4 trucks, 4 traffic lights, 938.6ms\n"
      ]
     },
     "metadata": {},
     "output_type": "display_data"
    },
    {
     "data": {
      "text/plain": [
       "Speed: 2.2ms preprocess, 938.6ms inference, 1.1ms postprocess per image at shape (1, 3, 384, 640)\n"
      ]
     },
     "metadata": {},
     "output_type": "display_data"
    },
    {
     "data": {
      "text/plain": [
       "\n"
      ]
     },
     "metadata": {},
     "output_type": "display_data"
    },
    {
     "data": {
      "text/plain": [
       "0: 384x640 19 cars, 4 trucks, 4 traffic lights, 934.7ms\n"
      ]
     },
     "metadata": {},
     "output_type": "display_data"
    },
    {
     "data": {
      "text/plain": [
       "Speed: 2.6ms preprocess, 934.7ms inference, 2.0ms postprocess per image at shape (1, 3, 384, 640)\n"
      ]
     },
     "metadata": {},
     "output_type": "display_data"
    },
    {
     "data": {
      "text/plain": [
       "\n"
      ]
     },
     "metadata": {},
     "output_type": "display_data"
    },
    {
     "data": {
      "text/plain": [
       "0: 384x640 19 cars, 4 trucks, 4 traffic lights, 951.4ms\n"
      ]
     },
     "metadata": {},
     "output_type": "display_data"
    },
    {
     "data": {
      "text/plain": [
       "Speed: 2.6ms preprocess, 951.4ms inference, 1.1ms postprocess per image at shape (1, 3, 384, 640)\n"
      ]
     },
     "metadata": {},
     "output_type": "display_data"
    },
    {
     "data": {
      "text/plain": [
       "\n"
      ]
     },
     "metadata": {},
     "output_type": "display_data"
    },
    {
     "data": {
      "text/plain": [
       "0: 384x640 20 cars, 4 trucks, 4 traffic lights, 963.9ms\n"
      ]
     },
     "metadata": {},
     "output_type": "display_data"
    },
    {
     "data": {
      "text/plain": [
       "Speed: 2.6ms preprocess, 963.9ms inference, 1.0ms postprocess per image at shape (1, 3, 384, 640)\n"
      ]
     },
     "metadata": {},
     "output_type": "display_data"
    },
    {
     "data": {
      "text/plain": [
       "\n"
      ]
     },
     "metadata": {},
     "output_type": "display_data"
    },
    {
     "data": {
      "text/plain": [
       "0: 384x640 19 cars, 4 trucks, 4 traffic lights, 926.2ms\n"
      ]
     },
     "metadata": {},
     "output_type": "display_data"
    },
    {
     "data": {
      "text/plain": [
       "Speed: 2.2ms preprocess, 926.2ms inference, 1.8ms postprocess per image at shape (1, 3, 384, 640)\n"
      ]
     },
     "metadata": {},
     "output_type": "display_data"
    },
    {
     "data": {
      "text/plain": [
       "\n"
      ]
     },
     "metadata": {},
     "output_type": "display_data"
    },
    {
     "data": {
      "text/plain": [
       "0: 384x640 17 cars, 4 trucks, 4 traffic lights, 936.8ms\n"
      ]
     },
     "metadata": {},
     "output_type": "display_data"
    },
    {
     "data": {
      "text/plain": [
       "Speed: 3.1ms preprocess, 936.8ms inference, 1.3ms postprocess per image at shape (1, 3, 384, 640)\n"
      ]
     },
     "metadata": {},
     "output_type": "display_data"
    },
    {
     "data": {
      "text/plain": [
       "\n"
      ]
     },
     "metadata": {},
     "output_type": "display_data"
    },
    {
     "data": {
      "text/plain": [
       "0: 384x640 18 cars, 3 trucks, 4 traffic lights, 981.7ms\n"
      ]
     },
     "metadata": {},
     "output_type": "display_data"
    },
    {
     "data": {
      "text/plain": [
       "Speed: 2.9ms preprocess, 981.7ms inference, 1.5ms postprocess per image at shape (1, 3, 384, 640)\n"
      ]
     },
     "metadata": {},
     "output_type": "display_data"
    },
    {
     "data": {
      "text/plain": [
       "\n"
      ]
     },
     "metadata": {},
     "output_type": "display_data"
    },
    {
     "data": {
      "text/plain": [
       "0: 384x640 17 cars, 4 trucks, 4 traffic lights, 948.7ms\n"
      ]
     },
     "metadata": {},
     "output_type": "display_data"
    },
    {
     "data": {
      "text/plain": [
       "Speed: 2.9ms preprocess, 948.7ms inference, 1.7ms postprocess per image at shape (1, 3, 384, 640)\n"
      ]
     },
     "metadata": {},
     "output_type": "display_data"
    },
    {
     "data": {
      "text/plain": [
       "\n"
      ]
     },
     "metadata": {},
     "output_type": "display_data"
    },
    {
     "data": {
      "text/plain": [
       "0: 384x640 16 cars, 4 trucks, 4 traffic lights, 907.6ms\n"
      ]
     },
     "metadata": {},
     "output_type": "display_data"
    },
    {
     "data": {
      "text/plain": [
       "Speed: 2.3ms preprocess, 907.6ms inference, 1.0ms postprocess per image at shape (1, 3, 384, 640)\n"
      ]
     },
     "metadata": {},
     "output_type": "display_data"
    },
    {
     "data": {
      "text/plain": [
       "\n"
      ]
     },
     "metadata": {},
     "output_type": "display_data"
    },
    {
     "data": {
      "text/plain": [
       "0: 384x640 16 cars, 4 trucks, 4 traffic lights, 926.7ms\n"
      ]
     },
     "metadata": {},
     "output_type": "display_data"
    },
    {
     "data": {
      "text/plain": [
       "Speed: 2.5ms preprocess, 926.7ms inference, 1.1ms postprocess per image at shape (1, 3, 384, 640)\n"
      ]
     },
     "metadata": {},
     "output_type": "display_data"
    },
    {
     "data": {
      "text/plain": [
       "\n"
      ]
     },
     "metadata": {},
     "output_type": "display_data"
    },
    {
     "data": {
      "text/plain": [
       "0: 384x640 14 cars, 5 trucks, 4 traffic lights, 930.5ms\n"
      ]
     },
     "metadata": {},
     "output_type": "display_data"
    },
    {
     "data": {
      "text/plain": [
       "Speed: 2.1ms preprocess, 930.5ms inference, 1.0ms postprocess per image at shape (1, 3, 384, 640)\n"
      ]
     },
     "metadata": {},
     "output_type": "display_data"
    },
    {
     "data": {
      "text/plain": [
       "\n"
      ]
     },
     "metadata": {},
     "output_type": "display_data"
    },
    {
     "data": {
      "text/plain": [
       "0: 384x640 16 cars, 4 trucks, 5 traffic lights, 930.8ms\n"
      ]
     },
     "metadata": {},
     "output_type": "display_data"
    },
    {
     "data": {
      "text/plain": [
       "Speed: 3.3ms preprocess, 930.8ms inference, 1.6ms postprocess per image at shape (1, 3, 384, 640)\n"
      ]
     },
     "metadata": {},
     "output_type": "display_data"
    },
    {
     "data": {
      "text/plain": [
       "\n"
      ]
     },
     "metadata": {},
     "output_type": "display_data"
    },
    {
     "data": {
      "text/plain": [
       "0: 384x640 15 cars, 4 trucks, 5 traffic lights, 925.0ms\n"
      ]
     },
     "metadata": {},
     "output_type": "display_data"
    },
    {
     "data": {
      "text/plain": [
       "Speed: 3.3ms preprocess, 925.0ms inference, 1.0ms postprocess per image at shape (1, 3, 384, 640)\n"
      ]
     },
     "metadata": {},
     "output_type": "display_data"
    },
    {
     "data": {
      "text/plain": [
       "\n"
      ]
     },
     "metadata": {},
     "output_type": "display_data"
    },
    {
     "data": {
      "text/plain": [
       "0: 384x640 15 cars, 6 trucks, 5 traffic lights, 894.4ms\n"
      ]
     },
     "metadata": {},
     "output_type": "display_data"
    },
    {
     "data": {
      "text/plain": [
       "Speed: 2.5ms preprocess, 894.4ms inference, 1.5ms postprocess per image at shape (1, 3, 384, 640)\n"
      ]
     },
     "metadata": {},
     "output_type": "display_data"
    },
    {
     "data": {
      "text/plain": [
       "\n"
      ]
     },
     "metadata": {},
     "output_type": "display_data"
    },
    {
     "data": {
      "text/plain": [
       "0: 384x640 17 cars, 6 trucks, 4 traffic lights, 932.8ms\n"
      ]
     },
     "metadata": {},
     "output_type": "display_data"
    },
    {
     "data": {
      "text/plain": [
       "Speed: 2.3ms preprocess, 932.8ms inference, 1.0ms postprocess per image at shape (1, 3, 384, 640)\n"
      ]
     },
     "metadata": {},
     "output_type": "display_data"
    },
    {
     "data": {
      "text/plain": [
       "\n"
      ]
     },
     "metadata": {},
     "output_type": "display_data"
    },
    {
     "data": {
      "text/plain": [
       "0: 384x640 17 cars, 6 trucks, 5 traffic lights, 902.4ms\n"
      ]
     },
     "metadata": {},
     "output_type": "display_data"
    },
    {
     "data": {
      "text/plain": [
       "Speed: 2.3ms preprocess, 902.4ms inference, 1.6ms postprocess per image at shape (1, 3, 384, 640)\n"
      ]
     },
     "metadata": {},
     "output_type": "display_data"
    },
    {
     "data": {
      "text/plain": [
       "\n"
      ]
     },
     "metadata": {},
     "output_type": "display_data"
    },
    {
     "data": {
      "text/plain": [
       "0: 384x640 18 cars, 5 trucks, 4 traffic lights, 924.9ms\n"
      ]
     },
     "metadata": {},
     "output_type": "display_data"
    },
    {
     "data": {
      "text/plain": [
       "Speed: 2.2ms preprocess, 924.9ms inference, 1.6ms postprocess per image at shape (1, 3, 384, 640)\n"
      ]
     },
     "metadata": {},
     "output_type": "display_data"
    },
    {
     "data": {
      "text/plain": [
       "\n"
      ]
     },
     "metadata": {},
     "output_type": "display_data"
    },
    {
     "data": {
      "text/plain": [
       "0: 384x640 17 cars, 5 trucks, 5 traffic lights, 920.6ms\n"
      ]
     },
     "metadata": {},
     "output_type": "display_data"
    },
    {
     "data": {
      "text/plain": [
       "Speed: 2.3ms preprocess, 920.6ms inference, 0.9ms postprocess per image at shape (1, 3, 384, 640)\n"
      ]
     },
     "metadata": {},
     "output_type": "display_data"
    },
    {
     "data": {
      "text/plain": [
       "\n"
      ]
     },
     "metadata": {},
     "output_type": "display_data"
    },
    {
     "data": {
      "text/plain": [
       "0: 384x640 16 cars, 6 trucks, 5 traffic lights, 911.8ms\n"
      ]
     },
     "metadata": {},
     "output_type": "display_data"
    },
    {
     "data": {
      "text/plain": [
       "Speed: 2.1ms preprocess, 911.8ms inference, 1.1ms postprocess per image at shape (1, 3, 384, 640)\n"
      ]
     },
     "metadata": {},
     "output_type": "display_data"
    },
    {
     "data": {
      "text/plain": [
       "\n"
      ]
     },
     "metadata": {},
     "output_type": "display_data"
    },
    {
     "data": {
      "text/plain": [
       "0: 384x640 18 cars, 1 bus, 6 trucks, 5 traffic lights, 903.1ms\n"
      ]
     },
     "metadata": {},
     "output_type": "display_data"
    },
    {
     "data": {
      "text/plain": [
       "Speed: 2.9ms preprocess, 903.1ms inference, 1.0ms postprocess per image at shape (1, 3, 384, 640)\n"
      ]
     },
     "metadata": {},
     "output_type": "display_data"
    },
    {
     "data": {
      "text/plain": [
       "\n"
      ]
     },
     "metadata": {},
     "output_type": "display_data"
    },
    {
     "data": {
      "text/plain": [
       "0: 384x640 16 cars, 6 trucks, 5 traffic lights, 930.5ms\n"
      ]
     },
     "metadata": {},
     "output_type": "display_data"
    },
    {
     "data": {
      "text/plain": [
       "Speed: 2.9ms preprocess, 930.5ms inference, 2.0ms postprocess per image at shape (1, 3, 384, 640)\n"
      ]
     },
     "metadata": {},
     "output_type": "display_data"
    },
    {
     "data": {
      "text/plain": [
       "\n"
      ]
     },
     "metadata": {},
     "output_type": "display_data"
    },
    {
     "data": {
      "text/plain": [
       "0: 384x640 15 cars, 6 trucks, 5 traffic lights, 916.5ms\n"
      ]
     },
     "metadata": {},
     "output_type": "display_data"
    },
    {
     "data": {
      "text/plain": [
       "Speed: 2.3ms preprocess, 916.5ms inference, 1.1ms postprocess per image at shape (1, 3, 384, 640)\n"
      ]
     },
     "metadata": {},
     "output_type": "display_data"
    },
    {
     "data": {
      "text/plain": [
       "\n"
      ]
     },
     "metadata": {},
     "output_type": "display_data"
    },
    {
     "data": {
      "text/plain": [
       "0: 384x640 17 cars, 5 trucks, 5 traffic lights, 929.1ms\n"
      ]
     },
     "metadata": {},
     "output_type": "display_data"
    },
    {
     "data": {
      "text/plain": [
       "Speed: 3.0ms preprocess, 929.1ms inference, 1.2ms postprocess per image at shape (1, 3, 384, 640)\n"
      ]
     },
     "metadata": {},
     "output_type": "display_data"
    },
    {
     "data": {
      "text/plain": [
       "\n"
      ]
     },
     "metadata": {},
     "output_type": "display_data"
    },
    {
     "data": {
      "text/plain": [
       "0: 384x640 17 cars, 6 trucks, 5 traffic lights, 1009.2ms\n"
      ]
     },
     "metadata": {},
     "output_type": "display_data"
    },
    {
     "data": {
      "text/plain": [
       "Speed: 2.8ms preprocess, 1009.2ms inference, 1.4ms postprocess per image at shape (1, 3, 384, 640)\n"
      ]
     },
     "metadata": {},
     "output_type": "display_data"
    },
    {
     "data": {
      "text/plain": [
       "\n"
      ]
     },
     "metadata": {},
     "output_type": "display_data"
    },
    {
     "data": {
      "text/plain": [
       "0: 384x640 15 cars, 7 trucks, 5 traffic lights, 1076.8ms\n"
      ]
     },
     "metadata": {},
     "output_type": "display_data"
    },
    {
     "data": {
      "text/plain": [
       "Speed: 2.6ms preprocess, 1076.8ms inference, 1.6ms postprocess per image at shape (1, 3, 384, 640)\n"
      ]
     },
     "metadata": {},
     "output_type": "display_data"
    },
    {
     "data": {
      "text/plain": [
       "\n"
      ]
     },
     "metadata": {},
     "output_type": "display_data"
    },
    {
     "data": {
      "text/plain": [
       "0: 384x640 14 cars, 7 trucks, 5 traffic lights, 1087.3ms\n"
      ]
     },
     "metadata": {},
     "output_type": "display_data"
    },
    {
     "data": {
      "text/plain": [
       "Speed: 2.4ms preprocess, 1087.3ms inference, 1.4ms postprocess per image at shape (1, 3, 384, 640)\n"
      ]
     },
     "metadata": {},
     "output_type": "display_data"
    },
    {
     "data": {
      "text/plain": [
       "\n"
      ]
     },
     "metadata": {},
     "output_type": "display_data"
    },
    {
     "data": {
      "text/plain": [
       "0: 384x640 15 cars, 6 trucks, 4 traffic lights, 1005.6ms\n"
      ]
     },
     "metadata": {},
     "output_type": "display_data"
    },
    {
     "data": {
      "text/plain": [
       "Speed: 2.9ms preprocess, 1005.6ms inference, 1.3ms postprocess per image at shape (1, 3, 384, 640)\n"
      ]
     },
     "metadata": {},
     "output_type": "display_data"
    },
    {
     "data": {
      "text/plain": [
       "\n"
      ]
     },
     "metadata": {},
     "output_type": "display_data"
    },
    {
     "data": {
      "text/plain": [
       "0: 384x640 15 cars, 6 trucks, 5 traffic lights, 980.0ms\n"
      ]
     },
     "metadata": {},
     "output_type": "display_data"
    },
    {
     "data": {
      "text/plain": [
       "Speed: 2.3ms preprocess, 980.0ms inference, 1.2ms postprocess per image at shape (1, 3, 384, 640)\n"
      ]
     },
     "metadata": {},
     "output_type": "display_data"
    },
    {
     "data": {
      "text/plain": [
       "\n"
      ]
     },
     "metadata": {},
     "output_type": "display_data"
    },
    {
     "data": {
      "text/plain": [
       "0: 384x640 16 cars, 6 trucks, 4 traffic lights, 930.2ms\n"
      ]
     },
     "metadata": {},
     "output_type": "display_data"
    },
    {
     "data": {
      "text/plain": [
       "Speed: 10.7ms preprocess, 930.2ms inference, 1.0ms postprocess per image at shape (1, 3, 384, 640)\n"
      ]
     },
     "metadata": {},
     "output_type": "display_data"
    },
    {
     "data": {
      "text/plain": [
       "\n"
      ]
     },
     "metadata": {},
     "output_type": "display_data"
    },
    {
     "data": {
      "text/plain": [
       "0: 384x640 16 cars, 6 trucks, 4 traffic lights, 958.2ms\n"
      ]
     },
     "metadata": {},
     "output_type": "display_data"
    },
    {
     "data": {
      "text/plain": [
       "Speed: 10.0ms preprocess, 958.2ms inference, 1.2ms postprocess per image at shape (1, 3, 384, 640)\n"
      ]
     },
     "metadata": {},
     "output_type": "display_data"
    },
    {
     "data": {
      "text/plain": [
       "\n"
      ]
     },
     "metadata": {},
     "output_type": "display_data"
    },
    {
     "data": {
      "text/plain": [
       "0: 384x640 17 cars, 6 trucks, 4 traffic lights, 1070.2ms\n"
      ]
     },
     "metadata": {},
     "output_type": "display_data"
    },
    {
     "data": {
      "text/plain": [
       "Speed: 17.1ms preprocess, 1070.2ms inference, 1.3ms postprocess per image at shape (1, 3, 384, 640)\n"
      ]
     },
     "metadata": {},
     "output_type": "display_data"
    },
    {
     "data": {
      "text/plain": [
       "\n"
      ]
     },
     "metadata": {},
     "output_type": "display_data"
    },
    {
     "data": {
      "text/plain": [
       "0: 384x640 17 cars, 6 trucks, 5 traffic lights, 1076.2ms\n"
      ]
     },
     "metadata": {},
     "output_type": "display_data"
    },
    {
     "data": {
      "text/plain": [
       "Speed: 2.6ms preprocess, 1076.2ms inference, 1.3ms postprocess per image at shape (1, 3, 384, 640)\n"
      ]
     },
     "metadata": {},
     "output_type": "display_data"
    },
    {
     "data": {
      "text/plain": [
       "\n"
      ]
     },
     "metadata": {},
     "output_type": "display_data"
    },
    {
     "data": {
      "text/plain": [
       "0: 384x640 15 cars, 6 trucks, 5 traffic lights, 958.6ms\n"
      ]
     },
     "metadata": {},
     "output_type": "display_data"
    },
    {
     "data": {
      "text/plain": [
       "Speed: 2.5ms preprocess, 958.6ms inference, 1.1ms postprocess per image at shape (1, 3, 384, 640)\n"
      ]
     },
     "metadata": {},
     "output_type": "display_data"
    },
    {
     "data": {
      "text/plain": [
       "\n"
      ]
     },
     "metadata": {},
     "output_type": "display_data"
    },
    {
     "data": {
      "text/plain": [
       "0: 384x640 14 cars, 6 trucks, 5 traffic lights, 1030.7ms\n"
      ]
     },
     "metadata": {},
     "output_type": "display_data"
    },
    {
     "data": {
      "text/plain": [
       "Speed: 2.4ms preprocess, 1030.7ms inference, 1.3ms postprocess per image at shape (1, 3, 384, 640)\n"
      ]
     },
     "metadata": {},
     "output_type": "display_data"
    },
    {
     "data": {
      "text/plain": [
       "\n"
      ]
     },
     "metadata": {},
     "output_type": "display_data"
    },
    {
     "data": {
      "text/plain": [
       "0: 384x640 14 cars, 7 trucks, 4 traffic lights, 1094.0ms\n"
      ]
     },
     "metadata": {},
     "output_type": "display_data"
    },
    {
     "data": {
      "text/plain": [
       "Speed: 3.7ms preprocess, 1094.0ms inference, 1.8ms postprocess per image at shape (1, 3, 384, 640)\n"
      ]
     },
     "metadata": {},
     "output_type": "display_data"
    },
    {
     "data": {
      "text/plain": [
       "\n"
      ]
     },
     "metadata": {},
     "output_type": "display_data"
    },
    {
     "data": {
      "text/plain": [
       "0: 384x640 14 cars, 4 trucks, 5 traffic lights, 1068.1ms\n"
      ]
     },
     "metadata": {},
     "output_type": "display_data"
    },
    {
     "data": {
      "text/plain": [
       "Speed: 3.8ms preprocess, 1068.1ms inference, 1.3ms postprocess per image at shape (1, 3, 384, 640)\n"
      ]
     },
     "metadata": {},
     "output_type": "display_data"
    },
    {
     "data": {
      "text/plain": [
       "\n"
      ]
     },
     "metadata": {},
     "output_type": "display_data"
    },
    {
     "data": {
      "text/plain": [
       "0: 384x640 13 cars, 4 trucks, 4 traffic lights, 997.8ms\n"
      ]
     },
     "metadata": {},
     "output_type": "display_data"
    },
    {
     "data": {
      "text/plain": [
       "Speed: 3.2ms preprocess, 997.8ms inference, 1.3ms postprocess per image at shape (1, 3, 384, 640)\n"
      ]
     },
     "metadata": {},
     "output_type": "display_data"
    },
    {
     "data": {
      "text/plain": [
       "\n"
      ]
     },
     "metadata": {},
     "output_type": "display_data"
    },
    {
     "data": {
      "text/plain": [
       "0: 384x640 14 cars, 5 trucks, 5 traffic lights, 945.2ms\n"
      ]
     },
     "metadata": {},
     "output_type": "display_data"
    },
    {
     "data": {
      "text/plain": [
       "Speed: 2.3ms preprocess, 945.2ms inference, 0.9ms postprocess per image at shape (1, 3, 384, 640)\n"
      ]
     },
     "metadata": {},
     "output_type": "display_data"
    },
    {
     "data": {
      "text/plain": [
       "\n"
      ]
     },
     "metadata": {},
     "output_type": "display_data"
    },
    {
     "data": {
      "text/plain": [
       "0: 384x640 14 cars, 4 trucks, 3 traffic lights, 922.9ms\n"
      ]
     },
     "metadata": {},
     "output_type": "display_data"
    },
    {
     "data": {
      "text/plain": [
       "Speed: 2.2ms preprocess, 922.9ms inference, 1.0ms postprocess per image at shape (1, 3, 384, 640)\n"
      ]
     },
     "metadata": {},
     "output_type": "display_data"
    },
    {
     "data": {
      "text/plain": [
       "\n"
      ]
     },
     "metadata": {},
     "output_type": "display_data"
    },
    {
     "data": {
      "text/plain": [
       "0: 384x640 13 cars, 5 trucks, 3 traffic lights, 965.5ms\n"
      ]
     },
     "metadata": {},
     "output_type": "display_data"
    },
    {
     "data": {
      "text/plain": [
       "Speed: 2.2ms preprocess, 965.5ms inference, 1.4ms postprocess per image at shape (1, 3, 384, 640)\n"
      ]
     },
     "metadata": {},
     "output_type": "display_data"
    },
    {
     "data": {
      "text/plain": [
       "\n"
      ]
     },
     "metadata": {},
     "output_type": "display_data"
    },
    {
     "data": {
      "text/plain": [
       "0: 384x640 14 cars, 5 trucks, 3 traffic lights, 939.0ms\n"
      ]
     },
     "metadata": {},
     "output_type": "display_data"
    },
    {
     "data": {
      "text/plain": [
       "Speed: 2.4ms preprocess, 939.0ms inference, 0.9ms postprocess per image at shape (1, 3, 384, 640)\n"
      ]
     },
     "metadata": {},
     "output_type": "display_data"
    },
    {
     "data": {
      "text/plain": [
       "\n"
      ]
     },
     "metadata": {},
     "output_type": "display_data"
    },
    {
     "data": {
      "text/plain": [
       "0: 384x640 16 cars, 4 trucks, 3 traffic lights, 934.8ms\n"
      ]
     },
     "metadata": {},
     "output_type": "display_data"
    },
    {
     "data": {
      "text/plain": [
       "Speed: 2.0ms preprocess, 934.8ms inference, 1.1ms postprocess per image at shape (1, 3, 384, 640)\n"
      ]
     },
     "metadata": {},
     "output_type": "display_data"
    },
    {
     "data": {
      "text/plain": [
       "\n"
      ]
     },
     "metadata": {},
     "output_type": "display_data"
    },
    {
     "data": {
      "text/plain": [
       "0: 384x640 17 cars, 1 bus, 3 trucks, 3 traffic lights, 904.9ms\n"
      ]
     },
     "metadata": {},
     "output_type": "display_data"
    },
    {
     "data": {
      "text/plain": [
       "Speed: 2.3ms preprocess, 904.9ms inference, 2.1ms postprocess per image at shape (1, 3, 384, 640)\n"
      ]
     },
     "metadata": {},
     "output_type": "display_data"
    },
    {
     "data": {
      "text/plain": [
       "\n"
      ]
     },
     "metadata": {},
     "output_type": "display_data"
    },
    {
     "data": {
      "text/plain": [
       "0: 384x640 14 cars, 5 trucks, 3 traffic lights, 919.0ms\n"
      ]
     },
     "metadata": {},
     "output_type": "display_data"
    },
    {
     "data": {
      "text/plain": [
       "Speed: 2.3ms preprocess, 919.0ms inference, 1.0ms postprocess per image at shape (1, 3, 384, 640)\n"
      ]
     },
     "metadata": {},
     "output_type": "display_data"
    },
    {
     "data": {
      "text/plain": [
       "\n"
      ]
     },
     "metadata": {},
     "output_type": "display_data"
    },
    {
     "data": {
      "text/plain": [
       "0: 384x640 13 cars, 5 trucks, 3 traffic lights, 930.7ms\n"
      ]
     },
     "metadata": {},
     "output_type": "display_data"
    },
    {
     "data": {
      "text/plain": [
       "Speed: 2.2ms preprocess, 930.7ms inference, 1.0ms postprocess per image at shape (1, 3, 384, 640)\n"
      ]
     },
     "metadata": {},
     "output_type": "display_data"
    },
    {
     "data": {
      "text/plain": [
       "\n"
      ]
     },
     "metadata": {},
     "output_type": "display_data"
    },
    {
     "data": {
      "text/plain": [
       "0: 384x640 12 cars, 6 trucks, 3 traffic lights, 917.4ms\n"
      ]
     },
     "metadata": {},
     "output_type": "display_data"
    },
    {
     "data": {
      "text/plain": [
       "Speed: 3.5ms preprocess, 917.4ms inference, 1.0ms postprocess per image at shape (1, 3, 384, 640)\n"
      ]
     },
     "metadata": {},
     "output_type": "display_data"
    },
    {
     "data": {
      "text/plain": [
       "\n"
      ]
     },
     "metadata": {},
     "output_type": "display_data"
    },
    {
     "data": {
      "text/plain": [
       "0: 384x640 13 cars, 6 trucks, 3 traffic lights, 924.5ms\n"
      ]
     },
     "metadata": {},
     "output_type": "display_data"
    },
    {
     "data": {
      "text/plain": [
       "Speed: 2.2ms preprocess, 924.5ms inference, 0.9ms postprocess per image at shape (1, 3, 384, 640)\n"
      ]
     },
     "metadata": {},
     "output_type": "display_data"
    },
    {
     "data": {
      "text/plain": [
       "\n"
      ]
     },
     "metadata": {},
     "output_type": "display_data"
    },
    {
     "data": {
      "text/plain": [
       "0: 384x640 11 cars, 6 trucks, 3 traffic lights, 909.8ms\n"
      ]
     },
     "metadata": {},
     "output_type": "display_data"
    },
    {
     "data": {
      "text/plain": [
       "Speed: 2.2ms preprocess, 909.8ms inference, 1.0ms postprocess per image at shape (1, 3, 384, 640)\n"
      ]
     },
     "metadata": {},
     "output_type": "display_data"
    },
    {
     "data": {
      "text/plain": [
       "\n"
      ]
     },
     "metadata": {},
     "output_type": "display_data"
    },
    {
     "data": {
      "text/plain": [
       "0: 384x640 13 cars, 6 trucks, 3 traffic lights, 923.3ms\n"
      ]
     },
     "metadata": {},
     "output_type": "display_data"
    },
    {
     "data": {
      "text/plain": [
       "Speed: 2.1ms preprocess, 923.3ms inference, 1.0ms postprocess per image at shape (1, 3, 384, 640)\n"
      ]
     },
     "metadata": {},
     "output_type": "display_data"
    },
    {
     "data": {
      "text/plain": [
       "\n"
      ]
     },
     "metadata": {},
     "output_type": "display_data"
    },
    {
     "data": {
      "text/plain": [
       "0: 384x640 13 cars, 6 trucks, 3 traffic lights, 920.2ms\n"
      ]
     },
     "metadata": {},
     "output_type": "display_data"
    },
    {
     "data": {
      "text/plain": [
       "Speed: 2.2ms preprocess, 920.2ms inference, 1.0ms postprocess per image at shape (1, 3, 384, 640)\n"
      ]
     },
     "metadata": {},
     "output_type": "display_data"
    },
    {
     "data": {
      "text/plain": [
       "\n"
      ]
     },
     "metadata": {},
     "output_type": "display_data"
    },
    {
     "data": {
      "text/plain": [
       "0: 384x640 15 cars, 7 trucks, 3 traffic lights, 929.0ms\n"
      ]
     },
     "metadata": {},
     "output_type": "display_data"
    },
    {
     "data": {
      "text/plain": [
       "Speed: 2.7ms preprocess, 929.0ms inference, 0.9ms postprocess per image at shape (1, 3, 384, 640)\n"
      ]
     },
     "metadata": {},
     "output_type": "display_data"
    },
    {
     "data": {
      "text/plain": [
       "\n"
      ]
     },
     "metadata": {},
     "output_type": "display_data"
    },
    {
     "data": {
      "text/plain": [
       "0: 384x640 15 cars, 6 trucks, 3 traffic lights, 913.6ms\n"
      ]
     },
     "metadata": {},
     "output_type": "display_data"
    },
    {
     "data": {
      "text/plain": [
       "Speed: 2.4ms preprocess, 913.6ms inference, 0.9ms postprocess per image at shape (1, 3, 384, 640)\n"
      ]
     },
     "metadata": {},
     "output_type": "display_data"
    },
    {
     "data": {
      "text/plain": [
       "\n"
      ]
     },
     "metadata": {},
     "output_type": "display_data"
    },
    {
     "data": {
      "text/plain": [
       "0: 384x640 14 cars, 6 trucks, 3 traffic lights, 909.0ms\n"
      ]
     },
     "metadata": {},
     "output_type": "display_data"
    },
    {
     "data": {
      "text/plain": [
       "Speed: 2.3ms preprocess, 909.0ms inference, 1.4ms postprocess per image at shape (1, 3, 384, 640)\n"
      ]
     },
     "metadata": {},
     "output_type": "display_data"
    },
    {
     "data": {
      "text/plain": [
       "\n"
      ]
     },
     "metadata": {},
     "output_type": "display_data"
    },
    {
     "data": {
      "text/plain": [
       "0: 384x640 14 cars, 6 trucks, 3 traffic lights, 945.4ms\n"
      ]
     },
     "metadata": {},
     "output_type": "display_data"
    },
    {
     "data": {
      "text/plain": [
       "Speed: 2.6ms preprocess, 945.4ms inference, 0.9ms postprocess per image at shape (1, 3, 384, 640)\n"
      ]
     },
     "metadata": {},
     "output_type": "display_data"
    },
    {
     "data": {
      "text/plain": [
       "\n"
      ]
     },
     "metadata": {},
     "output_type": "display_data"
    },
    {
     "data": {
      "text/plain": [
       "0: 384x640 15 cars, 6 trucks, 3 traffic lights, 908.7ms\n"
      ]
     },
     "metadata": {},
     "output_type": "display_data"
    },
    {
     "data": {
      "text/plain": [
       "Speed: 1.9ms preprocess, 908.7ms inference, 1.3ms postprocess per image at shape (1, 3, 384, 640)\n"
      ]
     },
     "metadata": {},
     "output_type": "display_data"
    },
    {
     "data": {
      "text/plain": [
       "\n"
      ]
     },
     "metadata": {},
     "output_type": "display_data"
    },
    {
     "data": {
      "text/plain": [
       "0: 384x640 15 cars, 6 trucks, 3 traffic lights, 931.8ms\n"
      ]
     },
     "metadata": {},
     "output_type": "display_data"
    },
    {
     "data": {
      "text/plain": [
       "Speed: 2.3ms preprocess, 931.8ms inference, 0.9ms postprocess per image at shape (1, 3, 384, 640)\n"
      ]
     },
     "metadata": {},
     "output_type": "display_data"
    },
    {
     "data": {
      "text/plain": [
       "\n"
      ]
     },
     "metadata": {},
     "output_type": "display_data"
    },
    {
     "data": {
      "text/plain": [
       "0: 384x640 17 cars, 5 trucks, 3 traffic lights, 902.7ms\n"
      ]
     },
     "metadata": {},
     "output_type": "display_data"
    },
    {
     "data": {
      "text/plain": [
       "Speed: 3.4ms preprocess, 902.7ms inference, 1.1ms postprocess per image at shape (1, 3, 384, 640)\n"
      ]
     },
     "metadata": {},
     "output_type": "display_data"
    },
    {
     "data": {
      "text/plain": [
       "\n"
      ]
     },
     "metadata": {},
     "output_type": "display_data"
    },
    {
     "data": {
      "text/plain": [
       "0: 384x640 18 cars, 5 trucks, 3 traffic lights, 910.1ms\n"
      ]
     },
     "metadata": {},
     "output_type": "display_data"
    },
    {
     "data": {
      "text/plain": [
       "Speed: 2.1ms preprocess, 910.1ms inference, 1.1ms postprocess per image at shape (1, 3, 384, 640)\n"
      ]
     },
     "metadata": {},
     "output_type": "display_data"
    },
    {
     "data": {
      "text/plain": [
       "\n"
      ]
     },
     "metadata": {},
     "output_type": "display_data"
    },
    {
     "data": {
      "text/plain": [
       "0: 384x640 19 cars, 5 trucks, 3 traffic lights, 929.5ms\n"
      ]
     },
     "metadata": {},
     "output_type": "display_data"
    },
    {
     "data": {
      "text/plain": [
       "Speed: 3.5ms preprocess, 929.5ms inference, 1.4ms postprocess per image at shape (1, 3, 384, 640)\n"
      ]
     },
     "metadata": {},
     "output_type": "display_data"
    },
    {
     "data": {
      "text/plain": [
       "\n"
      ]
     },
     "metadata": {},
     "output_type": "display_data"
    },
    {
     "data": {
      "text/plain": [
       "0: 384x640 18 cars, 5 trucks, 3 traffic lights, 963.4ms\n"
      ]
     },
     "metadata": {},
     "output_type": "display_data"
    },
    {
     "data": {
      "text/plain": [
       "Speed: 2.5ms preprocess, 963.4ms inference, 1.8ms postprocess per image at shape (1, 3, 384, 640)\n"
      ]
     },
     "metadata": {},
     "output_type": "display_data"
    },
    {
     "data": {
      "text/plain": [
       "\n"
      ]
     },
     "metadata": {},
     "output_type": "display_data"
    },
    {
     "data": {
      "text/plain": [
       "0: 384x640 20 cars, 6 trucks, 3 traffic lights, 928.1ms\n"
      ]
     },
     "metadata": {},
     "output_type": "display_data"
    },
    {
     "data": {
      "text/plain": [
       "Speed: 3.1ms preprocess, 928.1ms inference, 1.1ms postprocess per image at shape (1, 3, 384, 640)\n"
      ]
     },
     "metadata": {},
     "output_type": "display_data"
    },
    {
     "data": {
      "text/plain": [
       "\n"
      ]
     },
     "metadata": {},
     "output_type": "display_data"
    },
    {
     "data": {
      "text/plain": [
       "0: 384x640 19 cars, 6 trucks, 3 traffic lights, 927.8ms\n"
      ]
     },
     "metadata": {},
     "output_type": "display_data"
    },
    {
     "data": {
      "text/plain": [
       "Speed: 2.4ms preprocess, 927.8ms inference, 1.0ms postprocess per image at shape (1, 3, 384, 640)\n"
      ]
     },
     "metadata": {},
     "output_type": "display_data"
    },
    {
     "data": {
      "text/plain": [
       "\n"
      ]
     },
     "metadata": {},
     "output_type": "display_data"
    },
    {
     "data": {
      "text/plain": [
       "0: 384x640 19 cars, 5 trucks, 3 traffic lights, 922.7ms\n"
      ]
     },
     "metadata": {},
     "output_type": "display_data"
    },
    {
     "data": {
      "text/plain": [
       "Speed: 2.4ms preprocess, 922.7ms inference, 1.6ms postprocess per image at shape (1, 3, 384, 640)\n"
      ]
     },
     "metadata": {},
     "output_type": "display_data"
    },
    {
     "data": {
      "text/plain": [
       "\n"
      ]
     },
     "metadata": {},
     "output_type": "display_data"
    },
    {
     "data": {
      "text/plain": [
       "0: 384x640 20 cars, 6 trucks, 3 traffic lights, 927.1ms\n"
      ]
     },
     "metadata": {},
     "output_type": "display_data"
    },
    {
     "data": {
      "text/plain": [
       "Speed: 2.4ms preprocess, 927.1ms inference, 1.1ms postprocess per image at shape (1, 3, 384, 640)\n"
      ]
     },
     "metadata": {},
     "output_type": "display_data"
    },
    {
     "data": {
      "text/plain": [
       "\n"
      ]
     },
     "metadata": {},
     "output_type": "display_data"
    },
    {
     "data": {
      "text/plain": [
       "0: 384x640 20 cars, 6 trucks, 3 traffic lights, 921.8ms\n"
      ]
     },
     "metadata": {},
     "output_type": "display_data"
    },
    {
     "data": {
      "text/plain": [
       "Speed: 3.3ms preprocess, 921.8ms inference, 1.4ms postprocess per image at shape (1, 3, 384, 640)\n"
      ]
     },
     "metadata": {},
     "output_type": "display_data"
    },
    {
     "data": {
      "text/plain": [
       "\n"
      ]
     },
     "metadata": {},
     "output_type": "display_data"
    },
    {
     "data": {
      "text/plain": [
       "0: 384x640 21 cars, 6 trucks, 3 traffic lights, 929.1ms\n"
      ]
     },
     "metadata": {},
     "output_type": "display_data"
    },
    {
     "data": {
      "text/plain": [
       "Speed: 2.3ms preprocess, 929.1ms inference, 1.0ms postprocess per image at shape (1, 3, 384, 640)\n"
      ]
     },
     "metadata": {},
     "output_type": "display_data"
    },
    {
     "data": {
      "text/plain": [
       "\n"
      ]
     },
     "metadata": {},
     "output_type": "display_data"
    },
    {
     "data": {
      "text/plain": [
       "0: 384x640 21 cars, 6 trucks, 3 traffic lights, 912.4ms\n"
      ]
     },
     "metadata": {},
     "output_type": "display_data"
    },
    {
     "data": {
      "text/plain": [
       "Speed: 2.1ms preprocess, 912.4ms inference, 1.1ms postprocess per image at shape (1, 3, 384, 640)\n"
      ]
     },
     "metadata": {},
     "output_type": "display_data"
    },
    {
     "data": {
      "text/plain": [
       "\n"
      ]
     },
     "metadata": {},
     "output_type": "display_data"
    },
    {
     "data": {
      "text/plain": [
       "0: 384x640 20 cars, 6 trucks, 3 traffic lights, 929.5ms\n"
      ]
     },
     "metadata": {},
     "output_type": "display_data"
    },
    {
     "data": {
      "text/plain": [
       "Speed: 2.2ms preprocess, 929.5ms inference, 1.0ms postprocess per image at shape (1, 3, 384, 640)\n"
      ]
     },
     "metadata": {},
     "output_type": "display_data"
    },
    {
     "data": {
      "text/plain": [
       "\n"
      ]
     },
     "metadata": {},
     "output_type": "display_data"
    },
    {
     "data": {
      "text/plain": [
       "0: 384x640 20 cars, 6 trucks, 3 traffic lights, 910.5ms\n"
      ]
     },
     "metadata": {},
     "output_type": "display_data"
    },
    {
     "data": {
      "text/plain": [
       "Speed: 2.2ms preprocess, 910.5ms inference, 1.6ms postprocess per image at shape (1, 3, 384, 640)\n"
      ]
     },
     "metadata": {},
     "output_type": "display_data"
    },
    {
     "data": {
      "text/plain": [
       "\n"
      ]
     },
     "metadata": {},
     "output_type": "display_data"
    },
    {
     "data": {
      "text/plain": [
       "0: 384x640 21 cars, 6 trucks, 3 traffic lights, 928.2ms\n"
      ]
     },
     "metadata": {},
     "output_type": "display_data"
    },
    {
     "data": {
      "text/plain": [
       "Speed: 2.2ms preprocess, 928.2ms inference, 1.2ms postprocess per image at shape (1, 3, 384, 640)\n"
      ]
     },
     "metadata": {},
     "output_type": "display_data"
    },
    {
     "data": {
      "text/plain": [
       "\n"
      ]
     },
     "metadata": {},
     "output_type": "display_data"
    },
    {
     "data": {
      "text/plain": [
       "0: 384x640 21 cars, 6 trucks, 3 traffic lights, 929.3ms\n"
      ]
     },
     "metadata": {},
     "output_type": "display_data"
    },
    {
     "data": {
      "text/plain": [
       "Speed: 2.5ms preprocess, 929.3ms inference, 1.2ms postprocess per image at shape (1, 3, 384, 640)\n"
      ]
     },
     "metadata": {},
     "output_type": "display_data"
    },
    {
     "data": {
      "text/plain": [
       "\n"
      ]
     },
     "metadata": {},
     "output_type": "display_data"
    },
    {
     "data": {
      "text/plain": [
       "0: 384x640 20 cars, 7 trucks, 3 traffic lights, 929.9ms\n"
      ]
     },
     "metadata": {},
     "output_type": "display_data"
    },
    {
     "data": {
      "text/plain": [
       "Speed: 2.2ms preprocess, 929.9ms inference, 1.1ms postprocess per image at shape (1, 3, 384, 640)\n"
      ]
     },
     "metadata": {},
     "output_type": "display_data"
    },
    {
     "data": {
      "text/plain": [
       "\n"
      ]
     },
     "metadata": {},
     "output_type": "display_data"
    },
    {
     "data": {
      "text/plain": [
       "0: 384x640 21 cars, 5 trucks, 4 traffic lights, 924.3ms\n"
      ]
     },
     "metadata": {},
     "output_type": "display_data"
    },
    {
     "data": {
      "text/plain": [
       "Speed: 3.4ms preprocess, 924.3ms inference, 1.8ms postprocess per image at shape (1, 3, 384, 640)\n"
      ]
     },
     "metadata": {},
     "output_type": "display_data"
    },
    {
     "data": {
      "text/plain": [
       "\n"
      ]
     },
     "metadata": {},
     "output_type": "display_data"
    },
    {
     "data": {
      "text/plain": [
       "0: 384x640 18 cars, 7 trucks, 4 traffic lights, 911.4ms\n"
      ]
     },
     "metadata": {},
     "output_type": "display_data"
    },
    {
     "data": {
      "text/plain": [
       "Speed: 2.3ms preprocess, 911.4ms inference, 1.8ms postprocess per image at shape (1, 3, 384, 640)\n"
      ]
     },
     "metadata": {},
     "output_type": "display_data"
    },
    {
     "data": {
      "text/plain": [
       "\n"
      ]
     },
     "metadata": {},
     "output_type": "display_data"
    },
    {
     "data": {
      "text/plain": [
       "0: 384x640 19 cars, 7 trucks, 4 traffic lights, 927.9ms\n"
      ]
     },
     "metadata": {},
     "output_type": "display_data"
    },
    {
     "data": {
      "text/plain": [
       "Speed: 2.5ms preprocess, 927.9ms inference, 0.9ms postprocess per image at shape (1, 3, 384, 640)\n"
      ]
     },
     "metadata": {},
     "output_type": "display_data"
    },
    {
     "data": {
      "text/plain": [
       "\n"
      ]
     },
     "metadata": {},
     "output_type": "display_data"
    },
    {
     "data": {
      "text/plain": [
       "0: 384x640 19 cars, 7 trucks, 4 traffic lights, 924.8ms\n"
      ]
     },
     "metadata": {},
     "output_type": "display_data"
    },
    {
     "data": {
      "text/plain": [
       "Speed: 2.1ms preprocess, 924.8ms inference, 1.0ms postprocess per image at shape (1, 3, 384, 640)\n"
      ]
     },
     "metadata": {},
     "output_type": "display_data"
    },
    {
     "data": {
      "text/plain": [
       "\n"
      ]
     },
     "metadata": {},
     "output_type": "display_data"
    },
    {
     "data": {
      "text/plain": [
       "0: 384x640 22 cars, 4 trucks, 4 traffic lights, 949.9ms\n"
      ]
     },
     "metadata": {},
     "output_type": "display_data"
    },
    {
     "data": {
      "text/plain": [
       "Speed: 2.2ms preprocess, 949.9ms inference, 1.2ms postprocess per image at shape (1, 3, 384, 640)\n"
      ]
     },
     "metadata": {},
     "output_type": "display_data"
    },
    {
     "data": {
      "text/plain": [
       "\n"
      ]
     },
     "metadata": {},
     "output_type": "display_data"
    },
    {
     "data": {
      "text/plain": [
       "0: 384x640 19 cars, 5 trucks, 4 traffic lights, 946.4ms\n"
      ]
     },
     "metadata": {},
     "output_type": "display_data"
    },
    {
     "data": {
      "text/plain": [
       "Speed: 2.5ms preprocess, 946.4ms inference, 1.2ms postprocess per image at shape (1, 3, 384, 640)\n"
      ]
     },
     "metadata": {},
     "output_type": "display_data"
    },
    {
     "data": {
      "text/plain": [
       "\n"
      ]
     },
     "metadata": {},
     "output_type": "display_data"
    },
    {
     "data": {
      "text/plain": [
       "0: 384x640 19 cars, 5 trucks, 4 traffic lights, 951.0ms\n"
      ]
     },
     "metadata": {},
     "output_type": "display_data"
    },
    {
     "data": {
      "text/plain": [
       "Speed: 2.0ms preprocess, 951.0ms inference, 1.1ms postprocess per image at shape (1, 3, 384, 640)\n"
      ]
     },
     "metadata": {},
     "output_type": "display_data"
    },
    {
     "data": {
      "text/plain": [
       "\n"
      ]
     },
     "metadata": {},
     "output_type": "display_data"
    },
    {
     "data": {
      "text/plain": [
       "0: 384x640 19 cars, 5 trucks, 4 traffic lights, 958.0ms\n"
      ]
     },
     "metadata": {},
     "output_type": "display_data"
    },
    {
     "data": {
      "text/plain": [
       "Speed: 2.5ms preprocess, 958.0ms inference, 1.1ms postprocess per image at shape (1, 3, 384, 640)\n"
      ]
     },
     "metadata": {},
     "output_type": "display_data"
    },
    {
     "data": {
      "text/plain": [
       "\n"
      ]
     },
     "metadata": {},
     "output_type": "display_data"
    },
    {
     "data": {
      "text/plain": [
       "0: 384x640 20 cars, 4 trucks, 4 traffic lights, 964.0ms\n"
      ]
     },
     "metadata": {},
     "output_type": "display_data"
    },
    {
     "data": {
      "text/plain": [
       "Speed: 2.3ms preprocess, 964.0ms inference, 1.3ms postprocess per image at shape (1, 3, 384, 640)\n"
      ]
     },
     "metadata": {},
     "output_type": "display_data"
    },
    {
     "data": {
      "text/plain": [
       "\n"
      ]
     },
     "metadata": {},
     "output_type": "display_data"
    },
    {
     "data": {
      "text/plain": [
       "0: 384x640 20 cars, 4 trucks, 4 traffic lights, 984.9ms\n"
      ]
     },
     "metadata": {},
     "output_type": "display_data"
    },
    {
     "data": {
      "text/plain": [
       "Speed: 2.3ms preprocess, 984.9ms inference, 1.2ms postprocess per image at shape (1, 3, 384, 640)\n"
      ]
     },
     "metadata": {},
     "output_type": "display_data"
    },
    {
     "data": {
      "text/plain": [
       "\n"
      ]
     },
     "metadata": {},
     "output_type": "display_data"
    },
    {
     "data": {
      "text/plain": [
       "0: 384x640 19 cars, 6 trucks, 4 traffic lights, 945.3ms\n"
      ]
     },
     "metadata": {},
     "output_type": "display_data"
    },
    {
     "data": {
      "text/plain": [
       "Speed: 2.8ms preprocess, 945.3ms inference, 1.1ms postprocess per image at shape (1, 3, 384, 640)\n"
      ]
     },
     "metadata": {},
     "output_type": "display_data"
    },
    {
     "data": {
      "text/plain": [
       "\n"
      ]
     },
     "metadata": {},
     "output_type": "display_data"
    },
    {
     "data": {
      "text/plain": [
       "0: 384x640 19 cars, 5 trucks, 4 traffic lights, 971.9ms\n"
      ]
     },
     "metadata": {},
     "output_type": "display_data"
    },
    {
     "data": {
      "text/plain": [
       "Speed: 2.1ms preprocess, 971.9ms inference, 1.0ms postprocess per image at shape (1, 3, 384, 640)\n"
      ]
     },
     "metadata": {},
     "output_type": "display_data"
    },
    {
     "data": {
      "text/plain": [
       "\n"
      ]
     },
     "metadata": {},
     "output_type": "display_data"
    },
    {
     "data": {
      "text/plain": [
       "0: 384x640 21 cars, 5 trucks, 4 traffic lights, 962.3ms\n"
      ]
     },
     "metadata": {},
     "output_type": "display_data"
    },
    {
     "data": {
      "text/plain": [
       "Speed: 2.5ms preprocess, 962.3ms inference, 1.2ms postprocess per image at shape (1, 3, 384, 640)\n"
      ]
     },
     "metadata": {},
     "output_type": "display_data"
    },
    {
     "data": {
      "text/plain": [
       "\n"
      ]
     },
     "metadata": {},
     "output_type": "display_data"
    },
    {
     "data": {
      "text/plain": [
       "0: 384x640 19 cars, 5 trucks, 4 traffic lights, 945.5ms\n"
      ]
     },
     "metadata": {},
     "output_type": "display_data"
    },
    {
     "data": {
      "text/plain": [
       "Speed: 2.4ms preprocess, 945.5ms inference, 0.9ms postprocess per image at shape (1, 3, 384, 640)\n"
      ]
     },
     "metadata": {},
     "output_type": "display_data"
    },
    {
     "data": {
      "text/plain": [
       "\n"
      ]
     },
     "metadata": {},
     "output_type": "display_data"
    },
    {
     "data": {
      "text/plain": [
       "0: 384x640 19 cars, 4 trucks, 4 traffic lights, 929.5ms\n"
      ]
     },
     "metadata": {},
     "output_type": "display_data"
    },
    {
     "data": {
      "text/plain": [
       "Speed: 2.3ms preprocess, 929.5ms inference, 0.9ms postprocess per image at shape (1, 3, 384, 640)\n"
      ]
     },
     "metadata": {},
     "output_type": "display_data"
    },
    {
     "data": {
      "text/plain": [
       "\n"
      ]
     },
     "metadata": {},
     "output_type": "display_data"
    },
    {
     "data": {
      "text/plain": [
       "0: 384x640 18 cars, 5 trucks, 4 traffic lights, 940.6ms\n"
      ]
     },
     "metadata": {},
     "output_type": "display_data"
    },
    {
     "data": {
      "text/plain": [
       "Speed: 2.0ms preprocess, 940.6ms inference, 1.0ms postprocess per image at shape (1, 3, 384, 640)\n"
      ]
     },
     "metadata": {},
     "output_type": "display_data"
    },
    {
     "data": {
      "text/plain": [
       "\n"
      ]
     },
     "metadata": {},
     "output_type": "display_data"
    },
    {
     "data": {
      "text/plain": [
       "0: 384x640 15 cars, 6 trucks, 4 traffic lights, 967.9ms\n"
      ]
     },
     "metadata": {},
     "output_type": "display_data"
    },
    {
     "data": {
      "text/plain": [
       "Speed: 2.3ms preprocess, 967.9ms inference, 1.1ms postprocess per image at shape (1, 3, 384, 640)\n"
      ]
     },
     "metadata": {},
     "output_type": "display_data"
    },
    {
     "data": {
      "text/plain": [
       "\n"
      ]
     },
     "metadata": {},
     "output_type": "display_data"
    },
    {
     "data": {
      "text/plain": [
       "0: 384x640 17 cars, 5 trucks, 4 traffic lights, 959.2ms\n"
      ]
     },
     "metadata": {},
     "output_type": "display_data"
    },
    {
     "data": {
      "text/plain": [
       "Speed: 2.4ms preprocess, 959.2ms inference, 1.1ms postprocess per image at shape (1, 3, 384, 640)\n"
      ]
     },
     "metadata": {},
     "output_type": "display_data"
    },
    {
     "data": {
      "text/plain": [
       "\n"
      ]
     },
     "metadata": {},
     "output_type": "display_data"
    },
    {
     "data": {
      "text/plain": [
       "0: 384x640 15 cars, 6 trucks, 4 traffic lights, 939.8ms\n"
      ]
     },
     "metadata": {},
     "output_type": "display_data"
    },
    {
     "data": {
      "text/plain": [
       "Speed: 2.3ms preprocess, 939.8ms inference, 1.1ms postprocess per image at shape (1, 3, 384, 640)\n"
      ]
     },
     "metadata": {},
     "output_type": "display_data"
    },
    {
     "data": {
      "text/plain": [
       "\n"
      ]
     },
     "metadata": {},
     "output_type": "display_data"
    },
    {
     "data": {
      "text/plain": [
       "0: 384x640 15 cars, 5 trucks, 4 traffic lights, 939.1ms\n"
      ]
     },
     "metadata": {},
     "output_type": "display_data"
    },
    {
     "data": {
      "text/plain": [
       "Speed: 2.6ms preprocess, 939.1ms inference, 1.1ms postprocess per image at shape (1, 3, 384, 640)\n"
      ]
     },
     "metadata": {},
     "output_type": "display_data"
    },
    {
     "data": {
      "text/plain": [
       "\n"
      ]
     },
     "metadata": {},
     "output_type": "display_data"
    },
    {
     "data": {
      "text/plain": [
       "0: 384x640 14 cars, 6 trucks, 4 traffic lights, 951.7ms\n"
      ]
     },
     "metadata": {},
     "output_type": "display_data"
    },
    {
     "data": {
      "text/plain": [
       "Speed: 2.3ms preprocess, 951.7ms inference, 1.3ms postprocess per image at shape (1, 3, 384, 640)\n"
      ]
     },
     "metadata": {},
     "output_type": "display_data"
    },
    {
     "data": {
      "text/plain": [
       "\n"
      ]
     },
     "metadata": {},
     "output_type": "display_data"
    },
    {
     "data": {
      "text/plain": [
       "0: 384x640 15 cars, 6 trucks, 4 traffic lights, 925.6ms\n"
      ]
     },
     "metadata": {},
     "output_type": "display_data"
    },
    {
     "data": {
      "text/plain": [
       "Speed: 2.5ms preprocess, 925.6ms inference, 1.0ms postprocess per image at shape (1, 3, 384, 640)\n"
      ]
     },
     "metadata": {},
     "output_type": "display_data"
    },
    {
     "data": {
      "text/plain": [
       "\n"
      ]
     },
     "metadata": {},
     "output_type": "display_data"
    },
    {
     "data": {
      "text/plain": [
       "0: 384x640 15 cars, 6 trucks, 4 traffic lights, 937.3ms\n"
      ]
     },
     "metadata": {},
     "output_type": "display_data"
    },
    {
     "data": {
      "text/plain": [
       "Speed: 2.6ms preprocess, 937.3ms inference, 1.0ms postprocess per image at shape (1, 3, 384, 640)\n"
      ]
     },
     "metadata": {},
     "output_type": "display_data"
    },
    {
     "data": {
      "text/plain": [
       "\n"
      ]
     },
     "metadata": {},
     "output_type": "display_data"
    },
    {
     "data": {
      "text/plain": [
       "0: 384x640 15 cars, 5 trucks, 4 traffic lights, 932.7ms\n"
      ]
     },
     "metadata": {},
     "output_type": "display_data"
    },
    {
     "data": {
      "text/plain": [
       "Speed: 2.3ms preprocess, 932.7ms inference, 1.0ms postprocess per image at shape (1, 3, 384, 640)\n"
      ]
     },
     "metadata": {},
     "output_type": "display_data"
    },
    {
     "data": {
      "text/plain": [
       "\n"
      ]
     },
     "metadata": {},
     "output_type": "display_data"
    },
    {
     "data": {
      "text/plain": [
       "0: 384x640 15 cars, 5 trucks, 4 traffic lights, 938.4ms\n"
      ]
     },
     "metadata": {},
     "output_type": "display_data"
    },
    {
     "data": {
      "text/plain": [
       "Speed: 3.1ms preprocess, 938.4ms inference, 1.3ms postprocess per image at shape (1, 3, 384, 640)\n"
      ]
     },
     "metadata": {},
     "output_type": "display_data"
    },
    {
     "data": {
      "text/plain": [
       "\n"
      ]
     },
     "metadata": {},
     "output_type": "display_data"
    },
    {
     "data": {
      "text/plain": [
       "0: 384x640 15 cars, 5 trucks, 4 traffic lights, 916.7ms\n"
      ]
     },
     "metadata": {},
     "output_type": "display_data"
    },
    {
     "data": {
      "text/plain": [
       "Speed: 2.4ms preprocess, 916.7ms inference, 1.3ms postprocess per image at shape (1, 3, 384, 640)\n"
      ]
     },
     "metadata": {},
     "output_type": "display_data"
    },
    {
     "data": {
      "text/plain": [
       "\n"
      ]
     },
     "metadata": {},
     "output_type": "display_data"
    },
    {
     "data": {
      "text/plain": [
       "0: 384x640 16 cars, 4 trucks, 4 traffic lights, 921.2ms\n"
      ]
     },
     "metadata": {},
     "output_type": "display_data"
    },
    {
     "data": {
      "text/plain": [
       "Speed: 3.3ms preprocess, 921.2ms inference, 1.7ms postprocess per image at shape (1, 3, 384, 640)\n"
      ]
     },
     "metadata": {},
     "output_type": "display_data"
    },
    {
     "data": {
      "text/plain": [
       "\n"
      ]
     },
     "metadata": {},
     "output_type": "display_data"
    },
    {
     "data": {
      "text/plain": [
       "0: 384x640 16 cars, 4 trucks, 4 traffic lights, 925.9ms\n"
      ]
     },
     "metadata": {},
     "output_type": "display_data"
    },
    {
     "data": {
      "text/plain": [
       "Speed: 2.3ms preprocess, 925.9ms inference, 1.0ms postprocess per image at shape (1, 3, 384, 640)\n"
      ]
     },
     "metadata": {},
     "output_type": "display_data"
    },
    {
     "data": {
      "text/plain": [
       "\n"
      ]
     },
     "metadata": {},
     "output_type": "display_data"
    },
    {
     "data": {
      "text/plain": [
       "0: 384x640 16 cars, 4 trucks, 4 traffic lights, 936.2ms\n"
      ]
     },
     "metadata": {},
     "output_type": "display_data"
    },
    {
     "data": {
      "text/plain": [
       "Speed: 2.2ms preprocess, 936.2ms inference, 1.1ms postprocess per image at shape (1, 3, 384, 640)\n"
      ]
     },
     "metadata": {},
     "output_type": "display_data"
    },
    {
     "data": {
      "text/plain": [
       "\n"
      ]
     },
     "metadata": {},
     "output_type": "display_data"
    },
    {
     "data": {
      "text/plain": [
       "0: 384x640 15 cars, 4 trucks, 4 traffic lights, 928.1ms\n"
      ]
     },
     "metadata": {},
     "output_type": "display_data"
    },
    {
     "data": {
      "text/plain": [
       "Speed: 2.4ms preprocess, 928.1ms inference, 1.0ms postprocess per image at shape (1, 3, 384, 640)\n"
      ]
     },
     "metadata": {},
     "output_type": "display_data"
    },
    {
     "data": {
      "text/plain": [
       "\n"
      ]
     },
     "metadata": {},
     "output_type": "display_data"
    },
    {
     "data": {
      "text/plain": [
       "0: 384x640 15 cars, 5 trucks, 4 traffic lights, 955.6ms\n"
      ]
     },
     "metadata": {},
     "output_type": "display_data"
    },
    {
     "data": {
      "text/plain": [
       "Speed: 2.3ms preprocess, 955.6ms inference, 1.1ms postprocess per image at shape (1, 3, 384, 640)\n"
      ]
     },
     "metadata": {},
     "output_type": "display_data"
    },
    {
     "data": {
      "text/plain": [
       "\n"
      ]
     },
     "metadata": {},
     "output_type": "display_data"
    },
    {
     "data": {
      "text/plain": [
       "0: 384x640 18 cars, 4 trucks, 4 traffic lights, 932.6ms\n"
      ]
     },
     "metadata": {},
     "output_type": "display_data"
    },
    {
     "data": {
      "text/plain": [
       "Speed: 2.2ms preprocess, 932.6ms inference, 1.0ms postprocess per image at shape (1, 3, 384, 640)\n"
      ]
     },
     "metadata": {},
     "output_type": "display_data"
    },
    {
     "data": {
      "text/plain": [
       "\n"
      ]
     },
     "metadata": {},
     "output_type": "display_data"
    },
    {
     "data": {
      "text/plain": [
       "0: 384x640 20 cars, 4 trucks, 4 traffic lights, 927.4ms\n"
      ]
     },
     "metadata": {},
     "output_type": "display_data"
    },
    {
     "data": {
      "text/plain": [
       "Speed: 2.4ms preprocess, 927.4ms inference, 1.0ms postprocess per image at shape (1, 3, 384, 640)\n"
      ]
     },
     "metadata": {},
     "output_type": "display_data"
    },
    {
     "data": {
      "text/plain": [
       "\n"
      ]
     },
     "metadata": {},
     "output_type": "display_data"
    },
    {
     "data": {
      "text/plain": [
       "0: 384x640 19 cars, 4 trucks, 4 traffic lights, 943.8ms\n"
      ]
     },
     "metadata": {},
     "output_type": "display_data"
    },
    {
     "data": {
      "text/plain": [
       "Speed: 2.1ms preprocess, 943.8ms inference, 1.2ms postprocess per image at shape (1, 3, 384, 640)\n"
      ]
     },
     "metadata": {},
     "output_type": "display_data"
    },
    {
     "data": {
      "text/plain": [
       "\n"
      ]
     },
     "metadata": {},
     "output_type": "display_data"
    },
    {
     "data": {
      "text/plain": [
       "0: 384x640 18 cars, 4 trucks, 4 traffic lights, 950.4ms\n"
      ]
     },
     "metadata": {},
     "output_type": "display_data"
    },
    {
     "data": {
      "text/plain": [
       "Speed: 2.6ms preprocess, 950.4ms inference, 1.0ms postprocess per image at shape (1, 3, 384, 640)\n"
      ]
     },
     "metadata": {},
     "output_type": "display_data"
    },
    {
     "data": {
      "text/plain": [
       "\n"
      ]
     },
     "metadata": {},
     "output_type": "display_data"
    },
    {
     "data": {
      "text/plain": [
       "0: 384x640 18 cars, 4 trucks, 4 traffic lights, 924.0ms\n"
      ]
     },
     "metadata": {},
     "output_type": "display_data"
    },
    {
     "data": {
      "text/plain": [
       "Speed: 2.4ms preprocess, 924.0ms inference, 1.0ms postprocess per image at shape (1, 3, 384, 640)\n"
      ]
     },
     "metadata": {},
     "output_type": "display_data"
    },
    {
     "data": {
      "text/plain": [
       "\n"
      ]
     },
     "metadata": {},
     "output_type": "display_data"
    },
    {
     "data": {
      "text/plain": [
       "0: 384x640 17 cars, 4 trucks, 4 traffic lights, 951.8ms\n"
      ]
     },
     "metadata": {},
     "output_type": "display_data"
    },
    {
     "data": {
      "text/plain": [
       "Speed: 2.1ms preprocess, 951.8ms inference, 1.5ms postprocess per image at shape (1, 3, 384, 640)\n"
      ]
     },
     "metadata": {},
     "output_type": "display_data"
    },
    {
     "data": {
      "text/plain": [
       "\n"
      ]
     },
     "metadata": {},
     "output_type": "display_data"
    },
    {
     "data": {
      "text/plain": [
       "0: 384x640 18 cars, 4 trucks, 4 traffic lights, 927.3ms\n"
      ]
     },
     "metadata": {},
     "output_type": "display_data"
    },
    {
     "data": {
      "text/plain": [
       "Speed: 2.7ms preprocess, 927.3ms inference, 1.4ms postprocess per image at shape (1, 3, 384, 640)\n"
      ]
     },
     "metadata": {},
     "output_type": "display_data"
    },
    {
     "data": {
      "text/plain": [
       "\n"
      ]
     },
     "metadata": {},
     "output_type": "display_data"
    },
    {
     "data": {
      "text/plain": [
       "0: 384x640 18 cars, 4 trucks, 4 traffic lights, 953.0ms\n"
      ]
     },
     "metadata": {},
     "output_type": "display_data"
    },
    {
     "data": {
      "text/plain": [
       "Speed: 2.3ms preprocess, 953.0ms inference, 1.3ms postprocess per image at shape (1, 3, 384, 640)\n"
      ]
     },
     "metadata": {},
     "output_type": "display_data"
    },
    {
     "data": {
      "text/plain": [
       "\n"
      ]
     },
     "metadata": {},
     "output_type": "display_data"
    },
    {
     "data": {
      "text/plain": [
       "0: 384x640 17 cars, 4 trucks, 4 traffic lights, 950.9ms\n"
      ]
     },
     "metadata": {},
     "output_type": "display_data"
    },
    {
     "data": {
      "text/plain": [
       "Speed: 2.9ms preprocess, 950.9ms inference, 1.5ms postprocess per image at shape (1, 3, 384, 640)\n"
      ]
     },
     "metadata": {},
     "output_type": "display_data"
    },
    {
     "data": {
      "text/plain": [
       "\n"
      ]
     },
     "metadata": {},
     "output_type": "display_data"
    },
    {
     "data": {
      "text/plain": [
       "0: 384x640 17 cars, 5 trucks, 4 traffic lights, 942.5ms\n"
      ]
     },
     "metadata": {},
     "output_type": "display_data"
    },
    {
     "data": {
      "text/plain": [
       "Speed: 2.9ms preprocess, 942.5ms inference, 1.1ms postprocess per image at shape (1, 3, 384, 640)\n"
      ]
     },
     "metadata": {},
     "output_type": "display_data"
    },
    {
     "data": {
      "text/plain": [
       "\n"
      ]
     },
     "metadata": {},
     "output_type": "display_data"
    },
    {
     "data": {
      "text/plain": [
       "0: 384x640 18 cars, 4 trucks, 4 traffic lights, 928.6ms\n"
      ]
     },
     "metadata": {},
     "output_type": "display_data"
    },
    {
     "data": {
      "text/plain": [
       "Speed: 2.3ms preprocess, 928.6ms inference, 1.0ms postprocess per image at shape (1, 3, 384, 640)\n"
      ]
     },
     "metadata": {},
     "output_type": "display_data"
    },
    {
     "data": {
      "text/plain": [
       "\n"
      ]
     },
     "metadata": {},
     "output_type": "display_data"
    },
    {
     "data": {
      "text/plain": [
       "0: 384x640 17 cars, 3 trucks, 4 traffic lights, 941.8ms\n"
      ]
     },
     "metadata": {},
     "output_type": "display_data"
    },
    {
     "data": {
      "text/plain": [
       "Speed: 2.3ms preprocess, 941.8ms inference, 1.0ms postprocess per image at shape (1, 3, 384, 640)\n"
      ]
     },
     "metadata": {},
     "output_type": "display_data"
    },
    {
     "data": {
      "text/plain": [
       "\n"
      ]
     },
     "metadata": {},
     "output_type": "display_data"
    },
    {
     "data": {
      "text/plain": [
       "0: 384x640 18 cars, 4 trucks, 4 traffic lights, 926.1ms\n"
      ]
     },
     "metadata": {},
     "output_type": "display_data"
    },
    {
     "data": {
      "text/plain": [
       "Speed: 3.0ms preprocess, 926.1ms inference, 1.5ms postprocess per image at shape (1, 3, 384, 640)\n"
      ]
     },
     "metadata": {},
     "output_type": "display_data"
    },
    {
     "data": {
      "text/plain": [
       "\n"
      ]
     },
     "metadata": {},
     "output_type": "display_data"
    },
    {
     "data": {
      "text/plain": [
       "0: 384x640 18 cars, 4 trucks, 4 traffic lights, 930.0ms\n"
      ]
     },
     "metadata": {},
     "output_type": "display_data"
    },
    {
     "data": {
      "text/plain": [
       "Speed: 2.4ms preprocess, 930.0ms inference, 1.2ms postprocess per image at shape (1, 3, 384, 640)\n"
      ]
     },
     "metadata": {},
     "output_type": "display_data"
    },
    {
     "data": {
      "text/plain": [
       "\n"
      ]
     },
     "metadata": {},
     "output_type": "display_data"
    },
    {
     "data": {
      "text/plain": [
       "0: 384x640 17 cars, 4 trucks, 4 traffic lights, 914.1ms\n"
      ]
     },
     "metadata": {},
     "output_type": "display_data"
    },
    {
     "data": {
      "text/plain": [
       "Speed: 2.1ms preprocess, 914.1ms inference, 1.2ms postprocess per image at shape (1, 3, 384, 640)\n"
      ]
     },
     "metadata": {},
     "output_type": "display_data"
    },
    {
     "data": {
      "text/plain": [
       "\n"
      ]
     },
     "metadata": {},
     "output_type": "display_data"
    },
    {
     "data": {
      "text/plain": [
       "0: 384x640 15 cars, 4 trucks, 4 traffic lights, 928.6ms\n"
      ]
     },
     "metadata": {},
     "output_type": "display_data"
    },
    {
     "data": {
      "text/plain": [
       "Speed: 2.3ms preprocess, 928.6ms inference, 1.2ms postprocess per image at shape (1, 3, 384, 640)\n"
      ]
     },
     "metadata": {},
     "output_type": "display_data"
    },
    {
     "data": {
      "text/plain": [
       "\n"
      ]
     },
     "metadata": {},
     "output_type": "display_data"
    },
    {
     "data": {
      "text/plain": [
       "0: 384x640 15 cars, 4 trucks, 4 traffic lights, 956.2ms\n"
      ]
     },
     "metadata": {},
     "output_type": "display_data"
    },
    {
     "data": {
      "text/plain": [
       "Speed: 2.2ms preprocess, 956.2ms inference, 1.9ms postprocess per image at shape (1, 3, 384, 640)\n"
      ]
     },
     "metadata": {},
     "output_type": "display_data"
    },
    {
     "data": {
      "text/plain": [
       "\n"
      ]
     },
     "metadata": {},
     "output_type": "display_data"
    },
    {
     "data": {
      "text/plain": [
       "0: 384x640 13 cars, 1 bus, 4 trucks, 4 traffic lights, 956.0ms\n"
      ]
     },
     "metadata": {},
     "output_type": "display_data"
    },
    {
     "data": {
      "text/plain": [
       "Speed: 3.5ms preprocess, 956.0ms inference, 1.9ms postprocess per image at shape (1, 3, 384, 640)\n"
      ]
     },
     "metadata": {},
     "output_type": "display_data"
    },
    {
     "data": {
      "text/plain": [
       "\n"
      ]
     },
     "metadata": {},
     "output_type": "display_data"
    },
    {
     "data": {
      "text/plain": [
       "0: 384x640 13 cars, 1 bus, 5 trucks, 4 traffic lights, 950.0ms\n"
      ]
     },
     "metadata": {},
     "output_type": "display_data"
    },
    {
     "data": {
      "text/plain": [
       "Speed: 3.7ms preprocess, 950.0ms inference, 1.1ms postprocess per image at shape (1, 3, 384, 640)\n"
      ]
     },
     "metadata": {},
     "output_type": "display_data"
    },
    {
     "data": {
      "text/plain": [
       "\n"
      ]
     },
     "metadata": {},
     "output_type": "display_data"
    },
    {
     "data": {
      "text/plain": [
       "0: 384x640 16 cars, 4 trucks, 4 traffic lights, 947.0ms\n"
      ]
     },
     "metadata": {},
     "output_type": "display_data"
    },
    {
     "data": {
      "text/plain": [
       "Speed: 2.5ms preprocess, 947.0ms inference, 1.1ms postprocess per image at shape (1, 3, 384, 640)\n"
      ]
     },
     "metadata": {},
     "output_type": "display_data"
    },
    {
     "data": {
      "text/plain": [
       "\n"
      ]
     },
     "metadata": {},
     "output_type": "display_data"
    },
    {
     "data": {
      "text/plain": [
       "0: 384x640 15 cars, 5 trucks, 4 traffic lights, 955.3ms\n"
      ]
     },
     "metadata": {},
     "output_type": "display_data"
    },
    {
     "data": {
      "text/plain": [
       "Speed: 2.6ms preprocess, 955.3ms inference, 1.1ms postprocess per image at shape (1, 3, 384, 640)\n"
      ]
     },
     "metadata": {},
     "output_type": "display_data"
    },
    {
     "data": {
      "text/plain": [
       "\n"
      ]
     },
     "metadata": {},
     "output_type": "display_data"
    },
    {
     "data": {
      "text/plain": [
       "0: 384x640 17 cars, 4 trucks, 4 traffic lights, 944.9ms\n"
      ]
     },
     "metadata": {},
     "output_type": "display_data"
    },
    {
     "data": {
      "text/plain": [
       "Speed: 3.3ms preprocess, 944.9ms inference, 1.8ms postprocess per image at shape (1, 3, 384, 640)\n"
      ]
     },
     "metadata": {},
     "output_type": "display_data"
    },
    {
     "data": {
      "text/plain": [
       "\n"
      ]
     },
     "metadata": {},
     "output_type": "display_data"
    },
    {
     "data": {
      "text/plain": [
       "0: 384x640 15 cars, 5 trucks, 4 traffic lights, 941.0ms\n"
      ]
     },
     "metadata": {},
     "output_type": "display_data"
    },
    {
     "data": {
      "text/plain": [
       "Speed: 2.6ms preprocess, 941.0ms inference, 1.0ms postprocess per image at shape (1, 3, 384, 640)\n"
      ]
     },
     "metadata": {},
     "output_type": "display_data"
    },
    {
     "data": {
      "text/plain": [
       "\n"
      ]
     },
     "metadata": {},
     "output_type": "display_data"
    },
    {
     "data": {
      "text/plain": [
       "0: 384x640 15 cars, 7 trucks, 4 traffic lights, 929.9ms\n"
      ]
     },
     "metadata": {},
     "output_type": "display_data"
    },
    {
     "data": {
      "text/plain": [
       "Speed: 2.2ms preprocess, 929.9ms inference, 1.3ms postprocess per image at shape (1, 3, 384, 640)\n"
      ]
     },
     "metadata": {},
     "output_type": "display_data"
    },
    {
     "data": {
      "text/plain": [
       "\n"
      ]
     },
     "metadata": {},
     "output_type": "display_data"
    },
    {
     "data": {
      "text/plain": [
       "0: 384x640 14 cars, 8 trucks, 4 traffic lights, 939.8ms\n"
      ]
     },
     "metadata": {},
     "output_type": "display_data"
    },
    {
     "data": {
      "text/plain": [
       "Speed: 2.6ms preprocess, 939.8ms inference, 1.0ms postprocess per image at shape (1, 3, 384, 640)\n"
      ]
     },
     "metadata": {},
     "output_type": "display_data"
    },
    {
     "data": {
      "text/plain": [
       "\n"
      ]
     },
     "metadata": {},
     "output_type": "display_data"
    },
    {
     "data": {
      "text/plain": [
       "0: 384x640 15 cars, 7 trucks, 4 traffic lights, 927.1ms\n"
      ]
     },
     "metadata": {},
     "output_type": "display_data"
    },
    {
     "data": {
      "text/plain": [
       "Speed: 2.4ms preprocess, 927.1ms inference, 1.0ms postprocess per image at shape (1, 3, 384, 640)\n"
      ]
     },
     "metadata": {},
     "output_type": "display_data"
    },
    {
     "data": {
      "text/plain": [
       "\n"
      ]
     },
     "metadata": {},
     "output_type": "display_data"
    },
    {
     "data": {
      "text/plain": [
       "0: 384x640 14 cars, 7 trucks, 4 traffic lights, 957.8ms\n"
      ]
     },
     "metadata": {},
     "output_type": "display_data"
    },
    {
     "data": {
      "text/plain": [
       "Speed: 2.0ms preprocess, 957.8ms inference, 1.1ms postprocess per image at shape (1, 3, 384, 640)\n"
      ]
     },
     "metadata": {},
     "output_type": "display_data"
    },
    {
     "data": {
      "text/plain": [
       "\n"
      ]
     },
     "metadata": {},
     "output_type": "display_data"
    },
    {
     "data": {
      "text/plain": [
       "0: 384x640 13 cars, 6 trucks, 4 traffic lights, 947.6ms\n"
      ]
     },
     "metadata": {},
     "output_type": "display_data"
    },
    {
     "data": {
      "text/plain": [
       "Speed: 3.5ms preprocess, 947.6ms inference, 1.2ms postprocess per image at shape (1, 3, 384, 640)\n"
      ]
     },
     "metadata": {},
     "output_type": "display_data"
    },
    {
     "data": {
      "text/plain": [
       "\n"
      ]
     },
     "metadata": {},
     "output_type": "display_data"
    },
    {
     "data": {
      "text/plain": [
       "0: 384x640 15 cars, 6 trucks, 4 traffic lights, 927.3ms\n"
      ]
     },
     "metadata": {},
     "output_type": "display_data"
    },
    {
     "data": {
      "text/plain": [
       "Speed: 2.2ms preprocess, 927.3ms inference, 1.2ms postprocess per image at shape (1, 3, 384, 640)\n"
      ]
     },
     "metadata": {},
     "output_type": "display_data"
    },
    {
     "data": {
      "text/plain": [
       "\n"
      ]
     },
     "metadata": {},
     "output_type": "display_data"
    },
    {
     "data": {
      "text/plain": [
       "0: 384x640 16 cars, 5 trucks, 4 traffic lights, 936.3ms\n"
      ]
     },
     "metadata": {},
     "output_type": "display_data"
    },
    {
     "data": {
      "text/plain": [
       "Speed: 3.6ms preprocess, 936.3ms inference, 1.2ms postprocess per image at shape (1, 3, 384, 640)\n"
      ]
     },
     "metadata": {},
     "output_type": "display_data"
    },
    {
     "data": {
      "text/plain": [
       "\n"
      ]
     },
     "metadata": {},
     "output_type": "display_data"
    },
    {
     "data": {
      "text/plain": [
       "0: 384x640 16 cars, 5 trucks, 4 traffic lights, 933.9ms\n"
      ]
     },
     "metadata": {},
     "output_type": "display_data"
    },
    {
     "data": {
      "text/plain": [
       "Speed: 3.7ms preprocess, 933.9ms inference, 1.0ms postprocess per image at shape (1, 3, 384, 640)\n"
      ]
     },
     "metadata": {},
     "output_type": "display_data"
    },
    {
     "data": {
      "text/plain": [
       "\n"
      ]
     },
     "metadata": {},
     "output_type": "display_data"
    },
    {
     "data": {
      "text/plain": [
       "0: 384x640 17 cars, 4 trucks, 4 traffic lights, 948.2ms\n"
      ]
     },
     "metadata": {},
     "output_type": "display_data"
    },
    {
     "data": {
      "text/plain": [
       "Speed: 2.2ms preprocess, 948.2ms inference, 1.3ms postprocess per image at shape (1, 3, 384, 640)\n"
      ]
     },
     "metadata": {},
     "output_type": "display_data"
    },
    {
     "data": {
      "text/plain": [
       "\n"
      ]
     },
     "metadata": {},
     "output_type": "display_data"
    },
    {
     "data": {
      "text/plain": [
       "0: 384x640 17 cars, 4 trucks, 4 traffic lights, 943.9ms\n"
      ]
     },
     "metadata": {},
     "output_type": "display_data"
    },
    {
     "data": {
      "text/plain": [
       "Speed: 2.3ms preprocess, 943.9ms inference, 1.3ms postprocess per image at shape (1, 3, 384, 640)\n"
      ]
     },
     "metadata": {},
     "output_type": "display_data"
    },
    {
     "data": {
      "text/plain": [
       "\n"
      ]
     },
     "metadata": {},
     "output_type": "display_data"
    },
    {
     "data": {
      "text/plain": [
       "0: 384x640 19 cars, 4 trucks, 4 traffic lights, 936.0ms\n"
      ]
     },
     "metadata": {},
     "output_type": "display_data"
    },
    {
     "data": {
      "text/plain": [
       "Speed: 2.5ms preprocess, 936.0ms inference, 1.3ms postprocess per image at shape (1, 3, 384, 640)\n"
      ]
     },
     "metadata": {},
     "output_type": "display_data"
    },
    {
     "data": {
      "text/plain": [
       "\n"
      ]
     },
     "metadata": {},
     "output_type": "display_data"
    },
    {
     "data": {
      "text/plain": [
       "0: 384x640 18 cars, 4 trucks, 4 traffic lights, 938.0ms\n"
      ]
     },
     "metadata": {},
     "output_type": "display_data"
    },
    {
     "data": {
      "text/plain": [
       "Speed: 2.4ms preprocess, 938.0ms inference, 2.1ms postprocess per image at shape (1, 3, 384, 640)\n"
      ]
     },
     "metadata": {},
     "output_type": "display_data"
    },
    {
     "data": {
      "text/plain": [
       "\n"
      ]
     },
     "metadata": {},
     "output_type": "display_data"
    },
    {
     "data": {
      "text/plain": [
       "0: 384x640 18 cars, 5 trucks, 4 traffic lights, 927.1ms\n"
      ]
     },
     "metadata": {},
     "output_type": "display_data"
    },
    {
     "data": {
      "text/plain": [
       "Speed: 2.2ms preprocess, 927.1ms inference, 1.1ms postprocess per image at shape (1, 3, 384, 640)\n"
      ]
     },
     "metadata": {},
     "output_type": "display_data"
    },
    {
     "data": {
      "text/plain": [
       "\n"
      ]
     },
     "metadata": {},
     "output_type": "display_data"
    },
    {
     "data": {
      "text/plain": [
       "0: 384x640 17 cars, 5 trucks, 4 traffic lights, 954.4ms\n"
      ]
     },
     "metadata": {},
     "output_type": "display_data"
    },
    {
     "data": {
      "text/plain": [
       "Speed: 2.2ms preprocess, 954.4ms inference, 2.3ms postprocess per image at shape (1, 3, 384, 640)\n"
      ]
     },
     "metadata": {},
     "output_type": "display_data"
    },
    {
     "data": {
      "text/plain": [
       "\n"
      ]
     },
     "metadata": {},
     "output_type": "display_data"
    },
    {
     "data": {
      "text/plain": [
       "0: 384x640 19 cars, 1 bus, 4 trucks, 4 traffic lights, 925.8ms\n"
      ]
     },
     "metadata": {},
     "output_type": "display_data"
    },
    {
     "data": {
      "text/plain": [
       "Speed: 3.1ms preprocess, 925.8ms inference, 1.0ms postprocess per image at shape (1, 3, 384, 640)\n"
      ]
     },
     "metadata": {},
     "output_type": "display_data"
    },
    {
     "data": {
      "text/plain": [
       "\n"
      ]
     },
     "metadata": {},
     "output_type": "display_data"
    },
    {
     "data": {
      "text/plain": [
       "0: 384x640 19 cars, 6 trucks, 4 traffic lights, 911.4ms\n"
      ]
     },
     "metadata": {},
     "output_type": "display_data"
    },
    {
     "data": {
      "text/plain": [
       "Speed: 2.1ms preprocess, 911.4ms inference, 1.0ms postprocess per image at shape (1, 3, 384, 640)\n"
      ]
     },
     "metadata": {},
     "output_type": "display_data"
    },
    {
     "data": {
      "text/plain": [
       "\n"
      ]
     },
     "metadata": {},
     "output_type": "display_data"
    },
    {
     "data": {
      "text/plain": [
       "0: 384x640 20 cars, 1 bus, 3 trucks, 4 traffic lights, 933.8ms\n"
      ]
     },
     "metadata": {},
     "output_type": "display_data"
    },
    {
     "data": {
      "text/plain": [
       "Speed: 2.2ms preprocess, 933.8ms inference, 1.1ms postprocess per image at shape (1, 3, 384, 640)\n"
      ]
     },
     "metadata": {},
     "output_type": "display_data"
    },
    {
     "data": {
      "text/plain": [
       "\n"
      ]
     },
     "metadata": {},
     "output_type": "display_data"
    },
    {
     "data": {
      "text/plain": [
       "0: 384x640 20 cars, 3 trucks, 4 traffic lights, 931.6ms\n"
      ]
     },
     "metadata": {},
     "output_type": "display_data"
    },
    {
     "data": {
      "text/plain": [
       "Speed: 2.5ms preprocess, 931.6ms inference, 1.1ms postprocess per image at shape (1, 3, 384, 640)\n"
      ]
     },
     "metadata": {},
     "output_type": "display_data"
    },
    {
     "data": {
      "text/plain": [
       "\n"
      ]
     },
     "metadata": {},
     "output_type": "display_data"
    },
    {
     "data": {
      "text/plain": [
       "0: 384x640 17 cars, 5 trucks, 4 traffic lights, 997.1ms\n"
      ]
     },
     "metadata": {},
     "output_type": "display_data"
    },
    {
     "data": {
      "text/plain": [
       "Speed: 3.5ms preprocess, 997.1ms inference, 1.2ms postprocess per image at shape (1, 3, 384, 640)\n"
      ]
     },
     "metadata": {},
     "output_type": "display_data"
    },
    {
     "data": {
      "text/plain": [
       "\n"
      ]
     },
     "metadata": {},
     "output_type": "display_data"
    },
    {
     "data": {
      "text/plain": [
       "0: 384x640 16 cars, 4 trucks, 4 traffic lights, 946.4ms\n"
      ]
     },
     "metadata": {},
     "output_type": "display_data"
    },
    {
     "data": {
      "text/plain": [
       "Speed: 10.9ms preprocess, 946.4ms inference, 1.1ms postprocess per image at shape (1, 3, 384, 640)\n"
      ]
     },
     "metadata": {},
     "output_type": "display_data"
    },
    {
     "data": {
      "text/plain": [
       "\n"
      ]
     },
     "metadata": {},
     "output_type": "display_data"
    },
    {
     "data": {
      "text/plain": [
       "0: 384x640 17 cars, 1 bus, 2 trucks, 4 traffic lights, 946.1ms\n"
      ]
     },
     "metadata": {},
     "output_type": "display_data"
    },
    {
     "data": {
      "text/plain": [
       "Speed: 10.6ms preprocess, 946.1ms inference, 1.6ms postprocess per image at shape (1, 3, 384, 640)\n"
      ]
     },
     "metadata": {},
     "output_type": "display_data"
    },
    {
     "data": {
      "text/plain": [
       "\n"
      ]
     },
     "metadata": {},
     "output_type": "display_data"
    },
    {
     "data": {
      "text/plain": [
       "0: 384x640 18 cars, 1 bus, 1 truck, 4 traffic lights, 973.4ms\n"
      ]
     },
     "metadata": {},
     "output_type": "display_data"
    },
    {
     "data": {
      "text/plain": [
       "Speed: 11.6ms preprocess, 973.4ms inference, 1.2ms postprocess per image at shape (1, 3, 384, 640)\n"
      ]
     },
     "metadata": {},
     "output_type": "display_data"
    },
    {
     "data": {
      "text/plain": [
       "\n"
      ]
     },
     "metadata": {},
     "output_type": "display_data"
    },
    {
     "data": {
      "text/plain": [
       "0: 384x640 18 cars, 3 trucks, 4 traffic lights, 988.3ms\n"
      ]
     },
     "metadata": {},
     "output_type": "display_data"
    },
    {
     "data": {
      "text/plain": [
       "Speed: 10.7ms preprocess, 988.3ms inference, 1.7ms postprocess per image at shape (1, 3, 384, 640)\n"
      ]
     },
     "metadata": {},
     "output_type": "display_data"
    },
    {
     "data": {
      "text/plain": [
       "\n"
      ]
     },
     "metadata": {},
     "output_type": "display_data"
    },
    {
     "data": {
      "text/plain": [
       "0: 384x640 17 cars, 2 trucks, 3 traffic lights, 981.1ms\n"
      ]
     },
     "metadata": {},
     "output_type": "display_data"
    },
    {
     "data": {
      "text/plain": [
       "Speed: 10.4ms preprocess, 981.1ms inference, 1.3ms postprocess per image at shape (1, 3, 384, 640)\n"
      ]
     },
     "metadata": {},
     "output_type": "display_data"
    },
    {
     "data": {
      "text/plain": [
       "\n"
      ]
     },
     "metadata": {},
     "output_type": "display_data"
    },
    {
     "data": {
      "text/plain": [
       "0: 384x640 16 cars, 2 trucks, 3 traffic lights, 951.9ms\n"
      ]
     },
     "metadata": {},
     "output_type": "display_data"
    },
    {
     "data": {
      "text/plain": [
       "Speed: 10.7ms preprocess, 951.9ms inference, 1.3ms postprocess per image at shape (1, 3, 384, 640)\n"
      ]
     },
     "metadata": {},
     "output_type": "display_data"
    },
    {
     "data": {
      "text/plain": [
       "\n"
      ]
     },
     "metadata": {},
     "output_type": "display_data"
    },
    {
     "data": {
      "text/plain": [
       "0: 384x640 16 cars, 2 trucks, 3 traffic lights, 974.6ms\n"
      ]
     },
     "metadata": {},
     "output_type": "display_data"
    },
    {
     "data": {
      "text/plain": [
       "Speed: 11.9ms preprocess, 974.6ms inference, 1.2ms postprocess per image at shape (1, 3, 384, 640)\n"
      ]
     },
     "metadata": {},
     "output_type": "display_data"
    },
    {
     "data": {
      "text/plain": [
       "\n"
      ]
     },
     "metadata": {},
     "output_type": "display_data"
    },
    {
     "data": {
      "text/plain": [
       "0: 384x640 17 cars, 3 trucks, 3 traffic lights, 963.9ms\n"
      ]
     },
     "metadata": {},
     "output_type": "display_data"
    },
    {
     "data": {
      "text/plain": [
       "Speed: 11.2ms preprocess, 963.9ms inference, 1.4ms postprocess per image at shape (1, 3, 384, 640)\n"
      ]
     },
     "metadata": {},
     "output_type": "display_data"
    },
    {
     "data": {
      "text/plain": [
       "\n"
      ]
     },
     "metadata": {},
     "output_type": "display_data"
    },
    {
     "data": {
      "text/plain": [
       "0: 384x640 16 cars, 3 trucks, 3 traffic lights, 925.2ms\n"
      ]
     },
     "metadata": {},
     "output_type": "display_data"
    },
    {
     "data": {
      "text/plain": [
       "Speed: 11.0ms preprocess, 925.2ms inference, 1.3ms postprocess per image at shape (1, 3, 384, 640)\n"
      ]
     },
     "metadata": {},
     "output_type": "display_data"
    },
    {
     "data": {
      "text/plain": [
       "\n"
      ]
     },
     "metadata": {},
     "output_type": "display_data"
    },
    {
     "data": {
      "text/plain": [
       "0: 384x640 17 cars, 3 trucks, 3 traffic lights, 952.8ms\n"
      ]
     },
     "metadata": {},
     "output_type": "display_data"
    },
    {
     "data": {
      "text/plain": [
       "Speed: 12.6ms preprocess, 952.8ms inference, 1.0ms postprocess per image at shape (1, 3, 384, 640)\n"
      ]
     },
     "metadata": {},
     "output_type": "display_data"
    },
    {
     "data": {
      "text/plain": [
       "\n"
      ]
     },
     "metadata": {},
     "output_type": "display_data"
    },
    {
     "data": {
      "text/plain": [
       "0: 384x640 17 cars, 3 trucks, 3 traffic lights, 955.0ms\n"
      ]
     },
     "metadata": {},
     "output_type": "display_data"
    },
    {
     "data": {
      "text/plain": [
       "Speed: 11.5ms preprocess, 955.0ms inference, 1.1ms postprocess per image at shape (1, 3, 384, 640)\n"
      ]
     },
     "metadata": {},
     "output_type": "display_data"
    },
    {
     "data": {
      "text/plain": [
       "\n"
      ]
     },
     "metadata": {},
     "output_type": "display_data"
    },
    {
     "data": {
      "text/plain": [
       "0: 384x640 16 cars, 2 trucks, 3 traffic lights, 942.1ms\n"
      ]
     },
     "metadata": {},
     "output_type": "display_data"
    },
    {
     "data": {
      "text/plain": [
       "Speed: 10.7ms preprocess, 942.1ms inference, 1.0ms postprocess per image at shape (1, 3, 384, 640)\n"
      ]
     },
     "metadata": {},
     "output_type": "display_data"
    },
    {
     "data": {
      "text/plain": [
       "\n"
      ]
     },
     "metadata": {},
     "output_type": "display_data"
    },
    {
     "data": {
      "text/plain": [
       "0: 384x640 15 cars, 2 trucks, 3 traffic lights, 935.0ms\n"
      ]
     },
     "metadata": {},
     "output_type": "display_data"
    },
    {
     "data": {
      "text/plain": [
       "Speed: 12.2ms preprocess, 935.0ms inference, 1.0ms postprocess per image at shape (1, 3, 384, 640)\n"
      ]
     },
     "metadata": {},
     "output_type": "display_data"
    },
    {
     "data": {
      "text/plain": [
       "\n"
      ]
     },
     "metadata": {},
     "output_type": "display_data"
    },
    {
     "data": {
      "text/plain": [
       "0: 384x640 17 cars, 2 trucks, 3 traffic lights, 923.7ms\n"
      ]
     },
     "metadata": {},
     "output_type": "display_data"
    },
    {
     "data": {
      "text/plain": [
       "Speed: 10.4ms preprocess, 923.7ms inference, 1.7ms postprocess per image at shape (1, 3, 384, 640)\n"
      ]
     },
     "metadata": {},
     "output_type": "display_data"
    },
    {
     "data": {
      "text/plain": [
       "\n"
      ]
     },
     "metadata": {},
     "output_type": "display_data"
    },
    {
     "data": {
      "text/plain": [
       "0: 384x640 17 cars, 2 trucks, 3 traffic lights, 954.4ms\n"
      ]
     },
     "metadata": {},
     "output_type": "display_data"
    },
    {
     "data": {
      "text/plain": [
       "Speed: 10.2ms preprocess, 954.4ms inference, 1.1ms postprocess per image at shape (1, 3, 384, 640)\n"
      ]
     },
     "metadata": {},
     "output_type": "display_data"
    },
    {
     "data": {
      "text/plain": [
       "\n"
      ]
     },
     "metadata": {},
     "output_type": "display_data"
    },
    {
     "data": {
      "text/plain": [
       "0: 384x640 17 cars, 3 trucks, 3 traffic lights, 928.3ms\n"
      ]
     },
     "metadata": {},
     "output_type": "display_data"
    },
    {
     "data": {
      "text/plain": [
       "Speed: 10.6ms preprocess, 928.3ms inference, 1.9ms postprocess per image at shape (1, 3, 384, 640)\n"
      ]
     },
     "metadata": {},
     "output_type": "display_data"
    },
    {
     "data": {
      "text/plain": [
       "\n"
      ]
     },
     "metadata": {},
     "output_type": "display_data"
    },
    {
     "data": {
      "text/plain": [
       "0: 384x640 16 cars, 1 bus, 2 trucks, 3 traffic lights, 924.4ms\n"
      ]
     },
     "metadata": {},
     "output_type": "display_data"
    },
    {
     "data": {
      "text/plain": [
       "Speed: 11.3ms preprocess, 924.4ms inference, 1.1ms postprocess per image at shape (1, 3, 384, 640)\n"
      ]
     },
     "metadata": {},
     "output_type": "display_data"
    },
    {
     "data": {
      "text/plain": [
       "\n"
      ]
     },
     "metadata": {},
     "output_type": "display_data"
    },
    {
     "data": {
      "text/plain": [
       "0: 384x640 14 cars, 2 buss, 4 trucks, 4 traffic lights, 919.7ms\n"
      ]
     },
     "metadata": {},
     "output_type": "display_data"
    },
    {
     "data": {
      "text/plain": [
       "Speed: 11.2ms preprocess, 919.7ms inference, 1.0ms postprocess per image at shape (1, 3, 384, 640)\n"
      ]
     },
     "metadata": {},
     "output_type": "display_data"
    },
    {
     "data": {
      "text/plain": [
       "\n"
      ]
     },
     "metadata": {},
     "output_type": "display_data"
    },
    {
     "data": {
      "text/plain": [
       "0: 384x640 18 cars, 2 buss, 2 trucks, 4 traffic lights, 921.0ms\n"
      ]
     },
     "metadata": {},
     "output_type": "display_data"
    },
    {
     "data": {
      "text/plain": [
       "Speed: 11.5ms preprocess, 921.0ms inference, 1.2ms postprocess per image at shape (1, 3, 384, 640)\n"
      ]
     },
     "metadata": {},
     "output_type": "display_data"
    },
    {
     "data": {
      "text/plain": [
       "\n"
      ]
     },
     "metadata": {},
     "output_type": "display_data"
    },
    {
     "data": {
      "text/plain": [
       "0: 384x640 18 cars, 2 buss, 3 trucks, 5 traffic lights, 938.3ms\n"
      ]
     },
     "metadata": {},
     "output_type": "display_data"
    },
    {
     "data": {
      "text/plain": [
       "Speed: 11.8ms preprocess, 938.3ms inference, 1.1ms postprocess per image at shape (1, 3, 384, 640)\n"
      ]
     },
     "metadata": {},
     "output_type": "display_data"
    },
    {
     "data": {
      "text/plain": [
       "\n"
      ]
     },
     "metadata": {},
     "output_type": "display_data"
    },
    {
     "data": {
      "text/plain": [
       "0: 384x640 21 cars, 1 bus, 2 trucks, 4 traffic lights, 937.9ms\n"
      ]
     },
     "metadata": {},
     "output_type": "display_data"
    },
    {
     "data": {
      "text/plain": [
       "Speed: 10.6ms preprocess, 937.9ms inference, 1.1ms postprocess per image at shape (1, 3, 384, 640)\n"
      ]
     },
     "metadata": {},
     "output_type": "display_data"
    },
    {
     "data": {
      "text/plain": [
       "\n"
      ]
     },
     "metadata": {},
     "output_type": "display_data"
    },
    {
     "data": {
      "text/plain": [
       "0: 384x640 21 cars, 3 trucks, 4 traffic lights, 949.5ms\n"
      ]
     },
     "metadata": {},
     "output_type": "display_data"
    },
    {
     "data": {
      "text/plain": [
       "Speed: 12.1ms preprocess, 949.5ms inference, 1.1ms postprocess per image at shape (1, 3, 384, 640)\n"
      ]
     },
     "metadata": {},
     "output_type": "display_data"
    },
    {
     "data": {
      "text/plain": [
       "\n"
      ]
     },
     "metadata": {},
     "output_type": "display_data"
    },
    {
     "data": {
      "text/plain": [
       "0: 384x640 20 cars, 4 trucks, 4 traffic lights, 921.7ms\n"
      ]
     },
     "metadata": {},
     "output_type": "display_data"
    },
    {
     "data": {
      "text/plain": [
       "Speed: 10.3ms preprocess, 921.7ms inference, 1.1ms postprocess per image at shape (1, 3, 384, 640)\n"
      ]
     },
     "metadata": {},
     "output_type": "display_data"
    },
    {
     "data": {
      "text/plain": [
       "\n"
      ]
     },
     "metadata": {},
     "output_type": "display_data"
    },
    {
     "data": {
      "text/plain": [
       "0: 384x640 20 cars, 4 trucks, 4 traffic lights, 912.4ms\n"
      ]
     },
     "metadata": {},
     "output_type": "display_data"
    },
    {
     "data": {
      "text/plain": [
       "Speed: 10.2ms preprocess, 912.4ms inference, 1.2ms postprocess per image at shape (1, 3, 384, 640)\n"
      ]
     },
     "metadata": {},
     "output_type": "display_data"
    },
    {
     "data": {
      "text/plain": [
       "\n"
      ]
     },
     "metadata": {},
     "output_type": "display_data"
    },
    {
     "data": {
      "text/plain": [
       "0: 384x640 20 cars, 4 trucks, 4 traffic lights, 922.3ms\n"
      ]
     },
     "metadata": {},
     "output_type": "display_data"
    },
    {
     "data": {
      "text/plain": [
       "Speed: 2.3ms preprocess, 922.3ms inference, 1.0ms postprocess per image at shape (1, 3, 384, 640)\n"
      ]
     },
     "metadata": {},
     "output_type": "display_data"
    },
    {
     "data": {
      "text/plain": [
       "\n"
      ]
     },
     "metadata": {},
     "output_type": "display_data"
    },
    {
     "data": {
      "text/plain": [
       "0: 384x640 21 cars, 4 trucks, 4 traffic lights, 939.2ms\n"
      ]
     },
     "metadata": {},
     "output_type": "display_data"
    },
    {
     "data": {
      "text/plain": [
       "Speed: 2.1ms preprocess, 939.2ms inference, 1.2ms postprocess per image at shape (1, 3, 384, 640)\n"
      ]
     },
     "metadata": {},
     "output_type": "display_data"
    },
    {
     "data": {
      "text/plain": [
       "\n"
      ]
     },
     "metadata": {},
     "output_type": "display_data"
    },
    {
     "data": {
      "text/plain": [
       "0: 384x640 22 cars, 4 trucks, 4 traffic lights, 946.2ms\n"
      ]
     },
     "metadata": {},
     "output_type": "display_data"
    },
    {
     "data": {
      "text/plain": [
       "Speed: 2.4ms preprocess, 946.2ms inference, 1.4ms postprocess per image at shape (1, 3, 384, 640)\n"
      ]
     },
     "metadata": {},
     "output_type": "display_data"
    },
    {
     "data": {
      "text/plain": [
       "\n"
      ]
     },
     "metadata": {},
     "output_type": "display_data"
    },
    {
     "data": {
      "text/plain": [
       "0: 384x640 21 cars, 1 bus, 5 trucks, 4 traffic lights, 927.9ms\n"
      ]
     },
     "metadata": {},
     "output_type": "display_data"
    },
    {
     "data": {
      "text/plain": [
       "Speed: 3.6ms preprocess, 927.9ms inference, 2.1ms postprocess per image at shape (1, 3, 384, 640)\n"
      ]
     },
     "metadata": {},
     "output_type": "display_data"
    },
    {
     "data": {
      "text/plain": [
       "\n"
      ]
     },
     "metadata": {},
     "output_type": "display_data"
    },
    {
     "data": {
      "text/plain": [
       "0: 384x640 22 cars, 1 bus, 4 trucks, 5 traffic lights, 934.9ms\n"
      ]
     },
     "metadata": {},
     "output_type": "display_data"
    },
    {
     "data": {
      "text/plain": [
       "Speed: 2.3ms preprocess, 934.9ms inference, 1.1ms postprocess per image at shape (1, 3, 384, 640)\n"
      ]
     },
     "metadata": {},
     "output_type": "display_data"
    },
    {
     "data": {
      "text/plain": [
       "\n"
      ]
     },
     "metadata": {},
     "output_type": "display_data"
    },
    {
     "data": {
      "text/plain": [
       "0: 384x640 22 cars, 1 bus, 4 trucks, 4 traffic lights, 947.6ms\n"
      ]
     },
     "metadata": {},
     "output_type": "display_data"
    },
    {
     "data": {
      "text/plain": [
       "Speed: 2.1ms preprocess, 947.6ms inference, 1.3ms postprocess per image at shape (1, 3, 384, 640)\n"
      ]
     },
     "metadata": {},
     "output_type": "display_data"
    },
    {
     "data": {
      "text/plain": [
       "\n"
      ]
     },
     "metadata": {},
     "output_type": "display_data"
    },
    {
     "data": {
      "text/plain": [
       "0: 384x640 22 cars, 1 bus, 3 trucks, 4 traffic lights, 947.0ms\n"
      ]
     },
     "metadata": {},
     "output_type": "display_data"
    },
    {
     "data": {
      "text/plain": [
       "Speed: 3.2ms preprocess, 947.0ms inference, 1.1ms postprocess per image at shape (1, 3, 384, 640)\n"
      ]
     },
     "metadata": {},
     "output_type": "display_data"
    },
    {
     "data": {
      "text/plain": [
       "\n"
      ]
     },
     "metadata": {},
     "output_type": "display_data"
    },
    {
     "data": {
      "text/plain": [
       "0: 384x640 23 cars, 2 buss, 3 trucks, 5 traffic lights, 949.1ms\n"
      ]
     },
     "metadata": {},
     "output_type": "display_data"
    },
    {
     "data": {
      "text/plain": [
       "Speed: 2.6ms preprocess, 949.1ms inference, 2.1ms postprocess per image at shape (1, 3, 384, 640)\n"
      ]
     },
     "metadata": {},
     "output_type": "display_data"
    },
    {
     "data": {
      "text/plain": [
       "\n"
      ]
     },
     "metadata": {},
     "output_type": "display_data"
    },
    {
     "data": {
      "text/plain": [
       "0: 384x640 22 cars, 1 bus, 3 trucks, 5 traffic lights, 938.1ms\n"
      ]
     },
     "metadata": {},
     "output_type": "display_data"
    },
    {
     "data": {
      "text/plain": [
       "Speed: 2.6ms preprocess, 938.1ms inference, 1.4ms postprocess per image at shape (1, 3, 384, 640)\n"
      ]
     },
     "metadata": {},
     "output_type": "display_data"
    },
    {
     "data": {
      "text/plain": [
       "\n"
      ]
     },
     "metadata": {},
     "output_type": "display_data"
    },
    {
     "data": {
      "text/plain": [
       "0: 384x640 22 cars, 1 bus, 2 trucks, 5 traffic lights, 997.5ms\n"
      ]
     },
     "metadata": {},
     "output_type": "display_data"
    },
    {
     "data": {
      "text/plain": [
       "Speed: 2.3ms preprocess, 997.5ms inference, 1.5ms postprocess per image at shape (1, 3, 384, 640)\n"
      ]
     },
     "metadata": {},
     "output_type": "display_data"
    },
    {
     "data": {
      "text/plain": [
       "\n"
      ]
     },
     "metadata": {},
     "output_type": "display_data"
    },
    {
     "data": {
      "text/plain": [
       "0: 384x640 22 cars, 1 bus, 3 trucks, 4 traffic lights, 990.5ms\n"
      ]
     },
     "metadata": {},
     "output_type": "display_data"
    },
    {
     "data": {
      "text/plain": [
       "Speed: 10.5ms preprocess, 990.5ms inference, 1.2ms postprocess per image at shape (1, 3, 384, 640)\n"
      ]
     },
     "metadata": {},
     "output_type": "display_data"
    },
    {
     "data": {
      "text/plain": [
       "\n"
      ]
     },
     "metadata": {},
     "output_type": "display_data"
    },
    {
     "data": {
      "text/plain": [
       "0: 384x640 23 cars, 3 trucks, 5 traffic lights, 945.2ms\n"
      ]
     },
     "metadata": {},
     "output_type": "display_data"
    },
    {
     "data": {
      "text/plain": [
       "Speed: 11.9ms preprocess, 945.2ms inference, 1.0ms postprocess per image at shape (1, 3, 384, 640)\n"
      ]
     },
     "metadata": {},
     "output_type": "display_data"
    },
    {
     "data": {
      "text/plain": [
       "\n"
      ]
     },
     "metadata": {},
     "output_type": "display_data"
    },
    {
     "data": {
      "text/plain": [
       "0: 384x640 23 cars, 1 bus, 2 trucks, 4 traffic lights, 945.4ms\n"
      ]
     },
     "metadata": {},
     "output_type": "display_data"
    },
    {
     "data": {
      "text/plain": [
       "Speed: 10.3ms preprocess, 945.4ms inference, 1.2ms postprocess per image at shape (1, 3, 384, 640)\n"
      ]
     },
     "metadata": {},
     "output_type": "display_data"
    },
    {
     "data": {
      "text/plain": [
       "\n"
      ]
     },
     "metadata": {},
     "output_type": "display_data"
    },
    {
     "data": {
      "text/plain": [
       "0: 384x640 21 cars, 1 bus, 3 trucks, 4 traffic lights, 935.6ms\n"
      ]
     },
     "metadata": {},
     "output_type": "display_data"
    },
    {
     "data": {
      "text/plain": [
       "Speed: 11.1ms preprocess, 935.6ms inference, 1.1ms postprocess per image at shape (1, 3, 384, 640)\n"
      ]
     },
     "metadata": {},
     "output_type": "display_data"
    },
    {
     "data": {
      "text/plain": [
       "\n"
      ]
     },
     "metadata": {},
     "output_type": "display_data"
    },
    {
     "data": {
      "text/plain": [
       "0: 384x640 19 cars, 1 bus, 4 trucks, 4 traffic lights, 919.3ms\n"
      ]
     },
     "metadata": {},
     "output_type": "display_data"
    },
    {
     "data": {
      "text/plain": [
       "Speed: 10.1ms preprocess, 919.3ms inference, 1.3ms postprocess per image at shape (1, 3, 384, 640)\n"
      ]
     },
     "metadata": {},
     "output_type": "display_data"
    },
    {
     "data": {
      "text/plain": [
       "\n"
      ]
     },
     "metadata": {},
     "output_type": "display_data"
    },
    {
     "data": {
      "text/plain": [
       "0: 384x640 22 cars, 3 trucks, 4 traffic lights, 957.7ms\n"
      ]
     },
     "metadata": {},
     "output_type": "display_data"
    },
    {
     "data": {
      "text/plain": [
       "Speed: 11.6ms preprocess, 957.7ms inference, 1.2ms postprocess per image at shape (1, 3, 384, 640)\n"
      ]
     },
     "metadata": {},
     "output_type": "display_data"
    },
    {
     "data": {
      "text/plain": [
       "\n"
      ]
     },
     "metadata": {},
     "output_type": "display_data"
    },
    {
     "data": {
      "text/plain": [
       "0: 384x640 20 cars, 4 trucks, 4 traffic lights, 941.8ms\n"
      ]
     },
     "metadata": {},
     "output_type": "display_data"
    },
    {
     "data": {
      "text/plain": [
       "Speed: 11.2ms preprocess, 941.8ms inference, 1.1ms postprocess per image at shape (1, 3, 384, 640)\n"
      ]
     },
     "metadata": {},
     "output_type": "display_data"
    },
    {
     "data": {
      "text/plain": [
       "\n"
      ]
     },
     "metadata": {},
     "output_type": "display_data"
    },
    {
     "data": {
      "text/plain": [
       "0: 384x640 19 cars, 5 trucks, 4 traffic lights, 924.4ms\n"
      ]
     },
     "metadata": {},
     "output_type": "display_data"
    },
    {
     "data": {
      "text/plain": [
       "Speed: 10.1ms preprocess, 924.4ms inference, 1.0ms postprocess per image at shape (1, 3, 384, 640)\n"
      ]
     },
     "metadata": {},
     "output_type": "display_data"
    },
    {
     "data": {
      "text/plain": [
       "\n"
      ]
     },
     "metadata": {},
     "output_type": "display_data"
    },
    {
     "data": {
      "text/plain": [
       "0: 384x640 18 cars, 3 trucks, 4 traffic lights, 954.8ms\n"
      ]
     },
     "metadata": {},
     "output_type": "display_data"
    },
    {
     "data": {
      "text/plain": [
       "Speed: 11.7ms preprocess, 954.8ms inference, 1.0ms postprocess per image at shape (1, 3, 384, 640)\n"
      ]
     },
     "metadata": {},
     "output_type": "display_data"
    },
    {
     "data": {
      "text/plain": [
       "\n"
      ]
     },
     "metadata": {},
     "output_type": "display_data"
    },
    {
     "data": {
      "text/plain": [
       "0: 384x640 16 cars, 3 trucks, 4 traffic lights, 923.6ms\n"
      ]
     },
     "metadata": {},
     "output_type": "display_data"
    },
    {
     "data": {
      "text/plain": [
       "Speed: 11.8ms preprocess, 923.6ms inference, 1.0ms postprocess per image at shape (1, 3, 384, 640)\n"
      ]
     },
     "metadata": {},
     "output_type": "display_data"
    },
    {
     "data": {
      "text/plain": [
       "\n"
      ]
     },
     "metadata": {},
     "output_type": "display_data"
    },
    {
     "data": {
      "text/plain": [
       "0: 384x640 16 cars, 4 trucks, 4 traffic lights, 910.1ms\n"
      ]
     },
     "metadata": {},
     "output_type": "display_data"
    },
    {
     "data": {
      "text/plain": [
       "Speed: 10.1ms preprocess, 910.1ms inference, 0.9ms postprocess per image at shape (1, 3, 384, 640)\n"
      ]
     },
     "metadata": {},
     "output_type": "display_data"
    },
    {
     "data": {
      "text/plain": [
       "\n"
      ]
     },
     "metadata": {},
     "output_type": "display_data"
    },
    {
     "data": {
      "text/plain": [
       "0: 384x640 14 cars, 6 trucks, 4 traffic lights, 927.5ms\n"
      ]
     },
     "metadata": {},
     "output_type": "display_data"
    },
    {
     "data": {
      "text/plain": [
       "Speed: 2.0ms preprocess, 927.5ms inference, 1.0ms postprocess per image at shape (1, 3, 384, 640)\n"
      ]
     },
     "metadata": {},
     "output_type": "display_data"
    },
    {
     "data": {
      "text/plain": [
       "\n"
      ]
     },
     "metadata": {},
     "output_type": "display_data"
    },
    {
     "data": {
      "text/plain": [
       "0: 384x640 18 cars, 5 trucks, 4 traffic lights, 949.5ms\n"
      ]
     },
     "metadata": {},
     "output_type": "display_data"
    },
    {
     "data": {
      "text/plain": [
       "Speed: 2.3ms preprocess, 949.5ms inference, 1.3ms postprocess per image at shape (1, 3, 384, 640)\n"
      ]
     },
     "metadata": {},
     "output_type": "display_data"
    },
    {
     "data": {
      "text/plain": [
       "\n"
      ]
     },
     "metadata": {},
     "output_type": "display_data"
    },
    {
     "data": {
      "text/plain": [
       "0: 384x640 17 cars, 1 bus, 4 trucks, 4 traffic lights, 938.0ms\n"
      ]
     },
     "metadata": {},
     "output_type": "display_data"
    },
    {
     "data": {
      "text/plain": [
       "Speed: 2.5ms preprocess, 938.0ms inference, 1.4ms postprocess per image at shape (1, 3, 384, 640)\n"
      ]
     },
     "metadata": {},
     "output_type": "display_data"
    },
    {
     "data": {
      "text/plain": [
       "\n"
      ]
     },
     "metadata": {},
     "output_type": "display_data"
    },
    {
     "data": {
      "text/plain": [
       "0: 384x640 16 cars, 1 bus, 4 trucks, 4 traffic lights, 940.7ms\n"
      ]
     },
     "metadata": {},
     "output_type": "display_data"
    },
    {
     "data": {
      "text/plain": [
       "Speed: 2.5ms preprocess, 940.7ms inference, 1.0ms postprocess per image at shape (1, 3, 384, 640)\n"
      ]
     },
     "metadata": {},
     "output_type": "display_data"
    },
    {
     "data": {
      "text/plain": [
       "\n"
      ]
     },
     "metadata": {},
     "output_type": "display_data"
    },
    {
     "data": {
      "text/plain": [
       "0: 384x640 17 cars, 6 trucks, 4 traffic lights, 923.1ms\n"
      ]
     },
     "metadata": {},
     "output_type": "display_data"
    },
    {
     "data": {
      "text/plain": [
       "Speed: 2.3ms preprocess, 923.1ms inference, 1.2ms postprocess per image at shape (1, 3, 384, 640)\n"
      ]
     },
     "metadata": {},
     "output_type": "display_data"
    },
    {
     "data": {
      "text/plain": [
       "\n"
      ]
     },
     "metadata": {},
     "output_type": "display_data"
    },
    {
     "data": {
      "text/plain": [
       "0: 384x640 18 cars, 6 trucks, 4 traffic lights, 956.3ms\n"
      ]
     },
     "metadata": {},
     "output_type": "display_data"
    },
    {
     "data": {
      "text/plain": [
       "Speed: 2.4ms preprocess, 956.3ms inference, 1.2ms postprocess per image at shape (1, 3, 384, 640)\n"
      ]
     },
     "metadata": {},
     "output_type": "display_data"
    },
    {
     "data": {
      "text/plain": [
       "\n"
      ]
     },
     "metadata": {},
     "output_type": "display_data"
    },
    {
     "data": {
      "text/plain": [
       "0: 384x640 17 cars, 7 trucks, 4 traffic lights, 920.1ms\n"
      ]
     },
     "metadata": {},
     "output_type": "display_data"
    },
    {
     "data": {
      "text/plain": [
       "Speed: 13.1ms preprocess, 920.1ms inference, 1.8ms postprocess per image at shape (1, 3, 384, 640)\n"
      ]
     },
     "metadata": {},
     "output_type": "display_data"
    },
    {
     "data": {
      "text/plain": [
       "\n"
      ]
     },
     "metadata": {},
     "output_type": "display_data"
    },
    {
     "data": {
      "text/plain": [
       "0: 384x640 19 cars, 7 trucks, 4 traffic lights, 930.2ms\n"
      ]
     },
     "metadata": {},
     "output_type": "display_data"
    },
    {
     "data": {
      "text/plain": [
       "Speed: 10.3ms preprocess, 930.2ms inference, 1.0ms postprocess per image at shape (1, 3, 384, 640)\n"
      ]
     },
     "metadata": {},
     "output_type": "display_data"
    },
    {
     "data": {
      "text/plain": [
       "\n"
      ]
     },
     "metadata": {},
     "output_type": "display_data"
    },
    {
     "data": {
      "text/plain": [
       "0: 384x640 20 cars, 6 trucks, 4 traffic lights, 960.6ms\n"
      ]
     },
     "metadata": {},
     "output_type": "display_data"
    },
    {
     "data": {
      "text/plain": [
       "Speed: 9.9ms preprocess, 960.6ms inference, 1.3ms postprocess per image at shape (1, 3, 384, 640)\n"
      ]
     },
     "metadata": {},
     "output_type": "display_data"
    },
    {
     "data": {
      "text/plain": [
       "\n"
      ]
     },
     "metadata": {},
     "output_type": "display_data"
    },
    {
     "data": {
      "text/plain": [
       "0: 384x640 20 cars, 6 trucks, 4 traffic lights, 952.3ms\n"
      ]
     },
     "metadata": {},
     "output_type": "display_data"
    },
    {
     "data": {
      "text/plain": [
       "Speed: 10.8ms preprocess, 952.3ms inference, 1.3ms postprocess per image at shape (1, 3, 384, 640)\n"
      ]
     },
     "metadata": {},
     "output_type": "display_data"
    },
    {
     "data": {
      "text/plain": [
       "\n"
      ]
     },
     "metadata": {},
     "output_type": "display_data"
    },
    {
     "data": {
      "text/plain": [
       "0: 384x640 20 cars, 6 trucks, 4 traffic lights, 934.8ms\n"
      ]
     },
     "metadata": {},
     "output_type": "display_data"
    },
    {
     "data": {
      "text/plain": [
       "Speed: 11.6ms preprocess, 934.8ms inference, 1.1ms postprocess per image at shape (1, 3, 384, 640)\n"
      ]
     },
     "metadata": {},
     "output_type": "display_data"
    },
    {
     "data": {
      "text/plain": [
       "\n"
      ]
     },
     "metadata": {},
     "output_type": "display_data"
    },
    {
     "data": {
      "text/plain": [
       "0: 384x640 20 cars, 6 trucks, 4 traffic lights, 916.0ms\n"
      ]
     },
     "metadata": {},
     "output_type": "display_data"
    },
    {
     "data": {
      "text/plain": [
       "Speed: 10.4ms preprocess, 916.0ms inference, 1.1ms postprocess per image at shape (1, 3, 384, 640)\n"
      ]
     },
     "metadata": {},
     "output_type": "display_data"
    },
    {
     "data": {
      "text/plain": [
       "\n"
      ]
     },
     "metadata": {},
     "output_type": "display_data"
    },
    {
     "data": {
      "text/plain": [
       "0: 384x640 19 cars, 6 trucks, 4 traffic lights, 907.2ms\n"
      ]
     },
     "metadata": {},
     "output_type": "display_data"
    },
    {
     "data": {
      "text/plain": [
       "Speed: 2.2ms preprocess, 907.2ms inference, 1.6ms postprocess per image at shape (1, 3, 384, 640)\n"
      ]
     },
     "metadata": {},
     "output_type": "display_data"
    },
    {
     "data": {
      "text/plain": [
       "\n"
      ]
     },
     "metadata": {},
     "output_type": "display_data"
    },
    {
     "data": {
      "text/plain": [
       "0: 384x640 21 cars, 5 trucks, 4 traffic lights, 923.3ms\n"
      ]
     },
     "metadata": {},
     "output_type": "display_data"
    },
    {
     "data": {
      "text/plain": [
       "Speed: 2.4ms preprocess, 923.3ms inference, 1.0ms postprocess per image at shape (1, 3, 384, 640)\n"
      ]
     },
     "metadata": {},
     "output_type": "display_data"
    },
    {
     "data": {
      "text/plain": [
       "\n"
      ]
     },
     "metadata": {},
     "output_type": "display_data"
    },
    {
     "data": {
      "text/plain": [
       "0: 384x640 21 cars, 5 trucks, 4 traffic lights, 935.6ms\n"
      ]
     },
     "metadata": {},
     "output_type": "display_data"
    },
    {
     "data": {
      "text/plain": [
       "Speed: 2.3ms preprocess, 935.6ms inference, 1.0ms postprocess per image at shape (1, 3, 384, 640)\n"
      ]
     },
     "metadata": {},
     "output_type": "display_data"
    },
    {
     "data": {
      "text/plain": [
       "\n"
      ]
     },
     "metadata": {},
     "output_type": "display_data"
    },
    {
     "data": {
      "text/plain": [
       "0: 384x640 21 cars, 5 trucks, 4 traffic lights, 918.0ms\n"
      ]
     },
     "metadata": {},
     "output_type": "display_data"
    },
    {
     "data": {
      "text/plain": [
       "Speed: 2.3ms preprocess, 918.0ms inference, 1.1ms postprocess per image at shape (1, 3, 384, 640)\n"
      ]
     },
     "metadata": {},
     "output_type": "display_data"
    },
    {
     "data": {
      "text/plain": [
       "\n"
      ]
     },
     "metadata": {},
     "output_type": "display_data"
    },
    {
     "data": {
      "text/plain": [
       "0: 384x640 22 cars, 5 trucks, 4 traffic lights, 942.3ms\n"
      ]
     },
     "metadata": {},
     "output_type": "display_data"
    },
    {
     "data": {
      "text/plain": [
       "Speed: 2.5ms preprocess, 942.3ms inference, 1.1ms postprocess per image at shape (1, 3, 384, 640)\n"
      ]
     },
     "metadata": {},
     "output_type": "display_data"
    },
    {
     "data": {
      "text/plain": [
       "\n"
      ]
     },
     "metadata": {},
     "output_type": "display_data"
    },
    {
     "data": {
      "text/plain": [
       "0: 384x640 24 cars, 4 trucks, 4 traffic lights, 946.8ms\n"
      ]
     },
     "metadata": {},
     "output_type": "display_data"
    },
    {
     "data": {
      "text/plain": [
       "Speed: 3.6ms preprocess, 946.8ms inference, 1.0ms postprocess per image at shape (1, 3, 384, 640)\n"
      ]
     },
     "metadata": {},
     "output_type": "display_data"
    },
    {
     "data": {
      "text/plain": [
       "\n"
      ]
     },
     "metadata": {},
     "output_type": "display_data"
    },
    {
     "data": {
      "text/plain": [
       "0: 384x640 20 cars, 7 trucks, 4 traffic lights, 965.2ms\n"
      ]
     },
     "metadata": {},
     "output_type": "display_data"
    },
    {
     "data": {
      "text/plain": [
       "Speed: 2.2ms preprocess, 965.2ms inference, 1.2ms postprocess per image at shape (1, 3, 384, 640)\n"
      ]
     },
     "metadata": {},
     "output_type": "display_data"
    },
    {
     "data": {
      "text/plain": [
       "\n"
      ]
     },
     "metadata": {},
     "output_type": "display_data"
    },
    {
     "data": {
      "text/plain": [
       "0: 384x640 22 cars, 5 trucks, 4 traffic lights, 944.6ms\n"
      ]
     },
     "metadata": {},
     "output_type": "display_data"
    },
    {
     "data": {
      "text/plain": [
       "Speed: 11.2ms preprocess, 944.6ms inference, 1.1ms postprocess per image at shape (1, 3, 384, 640)\n"
      ]
     },
     "metadata": {},
     "output_type": "display_data"
    },
    {
     "data": {
      "text/plain": [
       "\n"
      ]
     },
     "metadata": {},
     "output_type": "display_data"
    },
    {
     "data": {
      "text/plain": [
       "0: 384x640 21 cars, 6 trucks, 4 traffic lights, 955.7ms\n"
      ]
     },
     "metadata": {},
     "output_type": "display_data"
    },
    {
     "data": {
      "text/plain": [
       "Speed: 10.2ms preprocess, 955.7ms inference, 1.3ms postprocess per image at shape (1, 3, 384, 640)\n"
      ]
     },
     "metadata": {},
     "output_type": "display_data"
    },
    {
     "data": {
      "text/plain": [
       "\n"
      ]
     },
     "metadata": {},
     "output_type": "display_data"
    },
    {
     "data": {
      "text/plain": [
       "0: 384x640 20 cars, 7 trucks, 4 traffic lights, 955.6ms\n"
      ]
     },
     "metadata": {},
     "output_type": "display_data"
    },
    {
     "data": {
      "text/plain": [
       "Speed: 10.3ms preprocess, 955.6ms inference, 1.1ms postprocess per image at shape (1, 3, 384, 640)\n"
      ]
     },
     "metadata": {},
     "output_type": "display_data"
    },
    {
     "data": {
      "text/plain": [
       "\n"
      ]
     },
     "metadata": {},
     "output_type": "display_data"
    },
    {
     "data": {
      "text/plain": [
       "0: 384x640 20 cars, 5 trucks, 4 traffic lights, 962.4ms\n"
      ]
     },
     "metadata": {},
     "output_type": "display_data"
    },
    {
     "data": {
      "text/plain": [
       "Speed: 15.5ms preprocess, 962.4ms inference, 1.0ms postprocess per image at shape (1, 3, 384, 640)\n"
      ]
     },
     "metadata": {},
     "output_type": "display_data"
    },
    {
     "data": {
      "text/plain": [
       "\n"
      ]
     },
     "metadata": {},
     "output_type": "display_data"
    },
    {
     "data": {
      "text/plain": [
       "0: 384x640 21 cars, 5 trucks, 4 traffic lights, 958.4ms\n"
      ]
     },
     "metadata": {},
     "output_type": "display_data"
    },
    {
     "data": {
      "text/plain": [
       "Speed: 11.6ms preprocess, 958.4ms inference, 0.9ms postprocess per image at shape (1, 3, 384, 640)\n"
      ]
     },
     "metadata": {},
     "output_type": "display_data"
    },
    {
     "data": {
      "text/plain": [
       "\n"
      ]
     },
     "metadata": {},
     "output_type": "display_data"
    },
    {
     "data": {
      "text/plain": [
       "0: 384x640 22 cars, 5 trucks, 4 traffic lights, 942.5ms\n"
      ]
     },
     "metadata": {},
     "output_type": "display_data"
    },
    {
     "data": {
      "text/plain": [
       "Speed: 11.3ms preprocess, 942.5ms inference, 1.2ms postprocess per image at shape (1, 3, 384, 640)\n"
      ]
     },
     "metadata": {},
     "output_type": "display_data"
    },
    {
     "data": {
      "text/plain": [
       "\n"
      ]
     },
     "metadata": {},
     "output_type": "display_data"
    },
    {
     "data": {
      "text/plain": [
       "0: 384x640 22 cars, 5 trucks, 4 traffic lights, 935.2ms\n"
      ]
     },
     "metadata": {},
     "output_type": "display_data"
    },
    {
     "data": {
      "text/plain": [
       "Speed: 12.4ms preprocess, 935.2ms inference, 1.2ms postprocess per image at shape (1, 3, 384, 640)\n"
      ]
     },
     "metadata": {},
     "output_type": "display_data"
    },
    {
     "data": {
      "text/plain": [
       "\n"
      ]
     },
     "metadata": {},
     "output_type": "display_data"
    },
    {
     "data": {
      "text/plain": [
       "0: 384x640 20 cars, 6 trucks, 4 traffic lights, 955.4ms\n"
      ]
     },
     "metadata": {},
     "output_type": "display_data"
    },
    {
     "data": {
      "text/plain": [
       "Speed: 10.2ms preprocess, 955.4ms inference, 1.2ms postprocess per image at shape (1, 3, 384, 640)\n"
      ]
     },
     "metadata": {},
     "output_type": "display_data"
    },
    {
     "data": {
      "text/plain": [
       "\n"
      ]
     },
     "metadata": {},
     "output_type": "display_data"
    },
    {
     "data": {
      "text/plain": [
       "0: 384x640 21 cars, 5 trucks, 4 traffic lights, 939.5ms\n"
      ]
     },
     "metadata": {},
     "output_type": "display_data"
    },
    {
     "data": {
      "text/plain": [
       "Speed: 11.2ms preprocess, 939.5ms inference, 1.9ms postprocess per image at shape (1, 3, 384, 640)\n"
      ]
     },
     "metadata": {},
     "output_type": "display_data"
    },
    {
     "data": {
      "text/plain": [
       "\n"
      ]
     },
     "metadata": {},
     "output_type": "display_data"
    },
    {
     "data": {
      "text/plain": [
       "0: 384x640 19 cars, 5 trucks, 4 traffic lights, 938.5ms\n"
      ]
     },
     "metadata": {},
     "output_type": "display_data"
    },
    {
     "data": {
      "text/plain": [
       "Speed: 16.7ms preprocess, 938.5ms inference, 1.3ms postprocess per image at shape (1, 3, 384, 640)\n"
      ]
     },
     "metadata": {},
     "output_type": "display_data"
    },
    {
     "data": {
      "text/plain": [
       "\n"
      ]
     },
     "metadata": {},
     "output_type": "display_data"
    },
    {
     "data": {
      "text/plain": [
       "0: 384x640 18 cars, 6 trucks, 4 traffic lights, 920.5ms\n"
      ]
     },
     "metadata": {},
     "output_type": "display_data"
    },
    {
     "data": {
      "text/plain": [
       "Speed: 11.3ms preprocess, 920.5ms inference, 1.0ms postprocess per image at shape (1, 3, 384, 640)\n"
      ]
     },
     "metadata": {},
     "output_type": "display_data"
    },
    {
     "data": {
      "text/plain": [
       "\n"
      ]
     },
     "metadata": {},
     "output_type": "display_data"
    },
    {
     "data": {
      "text/plain": [
       "0: 384x640 19 cars, 6 trucks, 4 traffic lights, 931.5ms\n"
      ]
     },
     "metadata": {},
     "output_type": "display_data"
    },
    {
     "data": {
      "text/plain": [
       "Speed: 2.3ms preprocess, 931.5ms inference, 1.8ms postprocess per image at shape (1, 3, 384, 640)\n"
      ]
     },
     "metadata": {},
     "output_type": "display_data"
    },
    {
     "data": {
      "text/plain": [
       "\n"
      ]
     },
     "metadata": {},
     "output_type": "display_data"
    },
    {
     "data": {
      "text/plain": [
       "0: 384x640 20 cars, 5 trucks, 4 traffic lights, 924.2ms\n"
      ]
     },
     "metadata": {},
     "output_type": "display_data"
    },
    {
     "data": {
      "text/plain": [
       "Speed: 10.7ms preprocess, 924.2ms inference, 1.7ms postprocess per image at shape (1, 3, 384, 640)\n"
      ]
     },
     "metadata": {},
     "output_type": "display_data"
    },
    {
     "data": {
      "text/plain": [
       "\n"
      ]
     },
     "metadata": {},
     "output_type": "display_data"
    },
    {
     "data": {
      "text/plain": [
       "0: 384x640 20 cars, 6 trucks, 4 traffic lights, 955.7ms\n"
      ]
     },
     "metadata": {},
     "output_type": "display_data"
    },
    {
     "data": {
      "text/plain": [
       "Speed: 12.1ms preprocess, 955.7ms inference, 0.9ms postprocess per image at shape (1, 3, 384, 640)\n"
      ]
     },
     "metadata": {},
     "output_type": "display_data"
    },
    {
     "data": {
      "text/plain": [
       "\n"
      ]
     },
     "metadata": {},
     "output_type": "display_data"
    },
    {
     "data": {
      "text/plain": [
       "0: 384x640 22 cars, 5 trucks, 4 traffic lights, 935.3ms\n"
      ]
     },
     "metadata": {},
     "output_type": "display_data"
    },
    {
     "data": {
      "text/plain": [
       "Speed: 13.3ms preprocess, 935.3ms inference, 1.8ms postprocess per image at shape (1, 3, 384, 640)\n"
      ]
     },
     "metadata": {},
     "output_type": "display_data"
    },
    {
     "data": {
      "text/plain": [
       "\n"
      ]
     },
     "metadata": {},
     "output_type": "display_data"
    },
    {
     "data": {
      "text/plain": [
       "0: 384x640 21 cars, 5 trucks, 4 traffic lights, 928.6ms\n"
      ]
     },
     "metadata": {},
     "output_type": "display_data"
    },
    {
     "data": {
      "text/plain": [
       "Speed: 13.3ms preprocess, 928.6ms inference, 1.5ms postprocess per image at shape (1, 3, 384, 640)\n"
      ]
     },
     "metadata": {},
     "output_type": "display_data"
    },
    {
     "data": {
      "text/plain": [
       "\n"
      ]
     },
     "metadata": {},
     "output_type": "display_data"
    },
    {
     "data": {
      "text/plain": [
       "0: 384x640 19 cars, 5 trucks, 4 traffic lights, 921.0ms\n"
      ]
     },
     "metadata": {},
     "output_type": "display_data"
    },
    {
     "data": {
      "text/plain": [
       "Speed: 10.0ms preprocess, 921.0ms inference, 1.9ms postprocess per image at shape (1, 3, 384, 640)\n"
      ]
     },
     "metadata": {},
     "output_type": "display_data"
    },
    {
     "data": {
      "text/plain": [
       "\n"
      ]
     },
     "metadata": {},
     "output_type": "display_data"
    },
    {
     "data": {
      "text/plain": [
       "0: 384x640 20 cars, 5 trucks, 4 traffic lights, 915.3ms\n"
      ]
     },
     "metadata": {},
     "output_type": "display_data"
    },
    {
     "data": {
      "text/plain": [
       "Speed: 10.9ms preprocess, 915.3ms inference, 1.0ms postprocess per image at shape (1, 3, 384, 640)\n"
      ]
     },
     "metadata": {},
     "output_type": "display_data"
    },
    {
     "data": {
      "text/plain": [
       "\n"
      ]
     },
     "metadata": {},
     "output_type": "display_data"
    },
    {
     "data": {
      "text/plain": [
       "0: 384x640 22 cars, 5 trucks, 4 traffic lights, 908.5ms\n"
      ]
     },
     "metadata": {},
     "output_type": "display_data"
    },
    {
     "data": {
      "text/plain": [
       "Speed: 2.3ms preprocess, 908.5ms inference, 1.0ms postprocess per image at shape (1, 3, 384, 640)\n"
      ]
     },
     "metadata": {},
     "output_type": "display_data"
    },
    {
     "data": {
      "text/plain": [
       "\n"
      ]
     },
     "metadata": {},
     "output_type": "display_data"
    },
    {
     "data": {
      "text/plain": [
       "0: 384x640 20 cars, 6 trucks, 4 traffic lights, 933.9ms\n"
      ]
     },
     "metadata": {},
     "output_type": "display_data"
    },
    {
     "data": {
      "text/plain": [
       "Speed: 2.1ms preprocess, 933.9ms inference, 1.3ms postprocess per image at shape (1, 3, 384, 640)\n"
      ]
     },
     "metadata": {},
     "output_type": "display_data"
    },
    {
     "data": {
      "text/plain": [
       "\n"
      ]
     },
     "metadata": {},
     "output_type": "display_data"
    },
    {
     "data": {
      "text/plain": [
       "0: 384x640 21 cars, 6 trucks, 4 traffic lights, 967.9ms\n"
      ]
     },
     "metadata": {},
     "output_type": "display_data"
    },
    {
     "data": {
      "text/plain": [
       "Speed: 3.1ms preprocess, 967.9ms inference, 1.1ms postprocess per image at shape (1, 3, 384, 640)\n"
      ]
     },
     "metadata": {},
     "output_type": "display_data"
    },
    {
     "data": {
      "text/plain": [
       "\n"
      ]
     },
     "metadata": {},
     "output_type": "display_data"
    },
    {
     "data": {
      "text/plain": [
       "0: 384x640 23 cars, 5 trucks, 4 traffic lights, 948.4ms\n"
      ]
     },
     "metadata": {},
     "output_type": "display_data"
    },
    {
     "data": {
      "text/plain": [
       "Speed: 2.5ms preprocess, 948.4ms inference, 1.3ms postprocess per image at shape (1, 3, 384, 640)\n"
      ]
     },
     "metadata": {},
     "output_type": "display_data"
    },
    {
     "data": {
      "text/plain": [
       "\n"
      ]
     },
     "metadata": {},
     "output_type": "display_data"
    },
    {
     "data": {
      "text/plain": [
       "0: 384x640 21 cars, 7 trucks, 4 traffic lights, 929.8ms\n"
      ]
     },
     "metadata": {},
     "output_type": "display_data"
    },
    {
     "data": {
      "text/plain": [
       "Speed: 10.5ms preprocess, 929.8ms inference, 1.3ms postprocess per image at shape (1, 3, 384, 640)\n"
      ]
     },
     "metadata": {},
     "output_type": "display_data"
    },
    {
     "data": {
      "text/plain": [
       "\n"
      ]
     },
     "metadata": {},
     "output_type": "display_data"
    },
    {
     "data": {
      "text/plain": [
       "0: 384x640 19 cars, 8 trucks, 4 traffic lights, 914.6ms\n"
      ]
     },
     "metadata": {},
     "output_type": "display_data"
    },
    {
     "data": {
      "text/plain": [
       "Speed: 10.5ms preprocess, 914.6ms inference, 1.3ms postprocess per image at shape (1, 3, 384, 640)\n"
      ]
     },
     "metadata": {},
     "output_type": "display_data"
    },
    {
     "data": {
      "text/plain": [
       "\n"
      ]
     },
     "metadata": {},
     "output_type": "display_data"
    },
    {
     "data": {
      "text/plain": [
       "0: 384x640 18 cars, 9 trucks, 4 traffic lights, 915.9ms\n"
      ]
     },
     "metadata": {},
     "output_type": "display_data"
    },
    {
     "data": {
      "text/plain": [
       "Speed: 2.6ms preprocess, 915.9ms inference, 1.2ms postprocess per image at shape (1, 3, 384, 640)\n"
      ]
     },
     "metadata": {},
     "output_type": "display_data"
    },
    {
     "data": {
      "text/plain": [
       "\n"
      ]
     },
     "metadata": {},
     "output_type": "display_data"
    },
    {
     "data": {
      "text/plain": [
       "0: 384x640 19 cars, 7 trucks, 4 traffic lights, 963.6ms\n"
      ]
     },
     "metadata": {},
     "output_type": "display_data"
    },
    {
     "data": {
      "text/plain": [
       "Speed: 2.2ms preprocess, 963.6ms inference, 1.3ms postprocess per image at shape (1, 3, 384, 640)\n"
      ]
     },
     "metadata": {},
     "output_type": "display_data"
    },
    {
     "data": {
      "text/plain": [
       "\n"
      ]
     },
     "metadata": {},
     "output_type": "display_data"
    },
    {
     "data": {
      "text/plain": [
       "0: 384x640 16 cars, 7 trucks, 4 traffic lights, 915.4ms\n"
      ]
     },
     "metadata": {},
     "output_type": "display_data"
    },
    {
     "data": {
      "text/plain": [
       "Speed: 14.7ms preprocess, 915.4ms inference, 1.1ms postprocess per image at shape (1, 3, 384, 640)\n"
      ]
     },
     "metadata": {},
     "output_type": "display_data"
    },
    {
     "data": {
      "text/plain": [
       "\n"
      ]
     },
     "metadata": {},
     "output_type": "display_data"
    },
    {
     "data": {
      "text/plain": [
       "0: 384x640 18 cars, 6 trucks, 4 traffic lights, 919.3ms\n"
      ]
     },
     "metadata": {},
     "output_type": "display_data"
    },
    {
     "data": {
      "text/plain": [
       "Speed: 11.2ms preprocess, 919.3ms inference, 1.0ms postprocess per image at shape (1, 3, 384, 640)\n"
      ]
     },
     "metadata": {},
     "output_type": "display_data"
    },
    {
     "data": {
      "text/plain": [
       "\n"
      ]
     },
     "metadata": {},
     "output_type": "display_data"
    },
    {
     "data": {
      "text/plain": [
       "0: 384x640 19 cars, 5 trucks, 4 traffic lights, 942.2ms\n"
      ]
     },
     "metadata": {},
     "output_type": "display_data"
    },
    {
     "data": {
      "text/plain": [
       "Speed: 10.4ms preprocess, 942.2ms inference, 2.0ms postprocess per image at shape (1, 3, 384, 640)\n"
      ]
     },
     "metadata": {},
     "output_type": "display_data"
    },
    {
     "data": {
      "text/plain": [
       "\n"
      ]
     },
     "metadata": {},
     "output_type": "display_data"
    },
    {
     "data": {
      "text/plain": [
       "0: 384x640 16 cars, 7 trucks, 4 traffic lights, 926.8ms\n"
      ]
     },
     "metadata": {},
     "output_type": "display_data"
    },
    {
     "data": {
      "text/plain": [
       "Speed: 10.4ms preprocess, 926.8ms inference, 1.1ms postprocess per image at shape (1, 3, 384, 640)\n"
      ]
     },
     "metadata": {},
     "output_type": "display_data"
    },
    {
     "data": {
      "text/plain": [
       "\n"
      ]
     },
     "metadata": {},
     "output_type": "display_data"
    },
    {
     "data": {
      "text/plain": [
       "0: 384x640 17 cars, 6 trucks, 4 traffic lights, 898.6ms\n"
      ]
     },
     "metadata": {},
     "output_type": "display_data"
    },
    {
     "data": {
      "text/plain": [
       "Speed: 10.6ms preprocess, 898.6ms inference, 1.2ms postprocess per image at shape (1, 3, 384, 640)\n"
      ]
     },
     "metadata": {},
     "output_type": "display_data"
    },
    {
     "data": {
      "text/plain": [
       "\n"
      ]
     },
     "metadata": {},
     "output_type": "display_data"
    },
    {
     "data": {
      "text/plain": [
       "0: 384x640 19 cars, 5 trucks, 4 traffic lights, 942.7ms\n"
      ]
     },
     "metadata": {},
     "output_type": "display_data"
    },
    {
     "data": {
      "text/plain": [
       "Speed: 2.4ms preprocess, 942.7ms inference, 1.8ms postprocess per image at shape (1, 3, 384, 640)\n"
      ]
     },
     "metadata": {},
     "output_type": "display_data"
    },
    {
     "data": {
      "text/plain": [
       "\n"
      ]
     },
     "metadata": {},
     "output_type": "display_data"
    },
    {
     "data": {
      "text/plain": [
       "0: 384x640 19 cars, 5 trucks, 4 traffic lights, 923.3ms\n"
      ]
     },
     "metadata": {},
     "output_type": "display_data"
    },
    {
     "data": {
      "text/plain": [
       "Speed: 2.3ms preprocess, 923.3ms inference, 1.1ms postprocess per image at shape (1, 3, 384, 640)\n"
      ]
     },
     "metadata": {},
     "output_type": "display_data"
    },
    {
     "data": {
      "text/plain": [
       "\n"
      ]
     },
     "metadata": {},
     "output_type": "display_data"
    },
    {
     "data": {
      "text/plain": [
       "0: 384x640 19 cars, 5 trucks, 4 traffic lights, 934.3ms\n"
      ]
     },
     "metadata": {},
     "output_type": "display_data"
    },
    {
     "data": {
      "text/plain": [
       "Speed: 2.3ms preprocess, 934.3ms inference, 1.1ms postprocess per image at shape (1, 3, 384, 640)\n"
      ]
     },
     "metadata": {},
     "output_type": "display_data"
    },
    {
     "data": {
      "text/plain": [
       "\n"
      ]
     },
     "metadata": {},
     "output_type": "display_data"
    },
    {
     "data": {
      "text/plain": [
       "0: 384x640 14 cars, 7 trucks, 4 traffic lights, 942.3ms\n"
      ]
     },
     "metadata": {},
     "output_type": "display_data"
    },
    {
     "data": {
      "text/plain": [
       "Speed: 2.9ms preprocess, 942.3ms inference, 1.3ms postprocess per image at shape (1, 3, 384, 640)\n"
      ]
     },
     "metadata": {},
     "output_type": "display_data"
    },
    {
     "data": {
      "text/plain": [
       "\n"
      ]
     },
     "metadata": {},
     "output_type": "display_data"
    },
    {
     "data": {
      "text/plain": [
       "0: 384x640 14 cars, 6 trucks, 4 traffic lights, 941.9ms\n"
      ]
     },
     "metadata": {},
     "output_type": "display_data"
    },
    {
     "data": {
      "text/plain": [
       "Speed: 2.8ms preprocess, 941.9ms inference, 1.8ms postprocess per image at shape (1, 3, 384, 640)\n"
      ]
     },
     "metadata": {},
     "output_type": "display_data"
    },
    {
     "data": {
      "text/plain": [
       "\n"
      ]
     },
     "metadata": {},
     "output_type": "display_data"
    },
    {
     "data": {
      "text/plain": [
       "0: 384x640 16 cars, 5 trucks, 4 traffic lights, 937.8ms\n"
      ]
     },
     "metadata": {},
     "output_type": "display_data"
    },
    {
     "data": {
      "text/plain": [
       "Speed: 2.4ms preprocess, 937.8ms inference, 1.3ms postprocess per image at shape (1, 3, 384, 640)\n"
      ]
     },
     "metadata": {},
     "output_type": "display_data"
    },
    {
     "data": {
      "text/plain": [
       "\n"
      ]
     },
     "metadata": {},
     "output_type": "display_data"
    },
    {
     "data": {
      "text/plain": [
       "0: 384x640 14 cars, 6 trucks, 4 traffic lights, 929.3ms\n"
      ]
     },
     "metadata": {},
     "output_type": "display_data"
    },
    {
     "data": {
      "text/plain": [
       "Speed: 3.1ms preprocess, 929.3ms inference, 1.4ms postprocess per image at shape (1, 3, 384, 640)\n"
      ]
     },
     "metadata": {},
     "output_type": "display_data"
    },
    {
     "data": {
      "text/plain": [
       "\n"
      ]
     },
     "metadata": {},
     "output_type": "display_data"
    },
    {
     "data": {
      "text/plain": [
       "0: 384x640 15 cars, 7 trucks, 4 traffic lights, 958.6ms\n"
      ]
     },
     "metadata": {},
     "output_type": "display_data"
    },
    {
     "data": {
      "text/plain": [
       "Speed: 2.5ms preprocess, 958.6ms inference, 1.1ms postprocess per image at shape (1, 3, 384, 640)\n"
      ]
     },
     "metadata": {},
     "output_type": "display_data"
    },
    {
     "data": {
      "text/plain": [
       "\n"
      ]
     },
     "metadata": {},
     "output_type": "display_data"
    },
    {
     "data": {
      "text/plain": [
       "0: 384x640 16 cars, 7 trucks, 4 traffic lights, 946.5ms\n"
      ]
     },
     "metadata": {},
     "output_type": "display_data"
    },
    {
     "data": {
      "text/plain": [
       "Speed: 2.1ms preprocess, 946.5ms inference, 1.2ms postprocess per image at shape (1, 3, 384, 640)\n"
      ]
     },
     "metadata": {},
     "output_type": "display_data"
    },
    {
     "data": {
      "text/plain": [
       "\n"
      ]
     },
     "metadata": {},
     "output_type": "display_data"
    },
    {
     "data": {
      "text/plain": [
       "0: 384x640 16 cars, 6 trucks, 4 traffic lights, 979.0ms\n"
      ]
     },
     "metadata": {},
     "output_type": "display_data"
    },
    {
     "data": {
      "text/plain": [
       "Speed: 2.6ms preprocess, 979.0ms inference, 1.3ms postprocess per image at shape (1, 3, 384, 640)\n"
      ]
     },
     "metadata": {},
     "output_type": "display_data"
    },
    {
     "data": {
      "text/plain": [
       "\n"
      ]
     },
     "metadata": {},
     "output_type": "display_data"
    },
    {
     "data": {
      "text/plain": [
       "0: 384x640 15 cars, 6 trucks, 4 traffic lights, 945.6ms\n"
      ]
     },
     "metadata": {},
     "output_type": "display_data"
    },
    {
     "data": {
      "text/plain": [
       "Speed: 11.5ms preprocess, 945.6ms inference, 1.1ms postprocess per image at shape (1, 3, 384, 640)\n"
      ]
     },
     "metadata": {},
     "output_type": "display_data"
    },
    {
     "data": {
      "text/plain": [
       "\n"
      ]
     },
     "metadata": {},
     "output_type": "display_data"
    },
    {
     "data": {
      "text/plain": [
       "0: 384x640 14 cars, 7 trucks, 4 traffic lights, 920.7ms\n"
      ]
     },
     "metadata": {},
     "output_type": "display_data"
    },
    {
     "data": {
      "text/plain": [
       "Speed: 10.1ms preprocess, 920.7ms inference, 1.0ms postprocess per image at shape (1, 3, 384, 640)\n"
      ]
     },
     "metadata": {},
     "output_type": "display_data"
    },
    {
     "data": {
      "text/plain": [
       "\n"
      ]
     },
     "metadata": {},
     "output_type": "display_data"
    },
    {
     "data": {
      "text/plain": [
       "0: 384x640 14 cars, 6 trucks, 4 traffic lights, 919.7ms\n"
      ]
     },
     "metadata": {},
     "output_type": "display_data"
    },
    {
     "data": {
      "text/plain": [
       "Speed: 10.0ms preprocess, 919.7ms inference, 1.1ms postprocess per image at shape (1, 3, 384, 640)\n"
      ]
     },
     "metadata": {},
     "output_type": "display_data"
    },
    {
     "data": {
      "text/plain": [
       "\n"
      ]
     },
     "metadata": {},
     "output_type": "display_data"
    },
    {
     "data": {
      "text/plain": [
       "0: 384x640 14 cars, 7 trucks, 4 traffic lights, 943.3ms\n"
      ]
     },
     "metadata": {},
     "output_type": "display_data"
    },
    {
     "data": {
      "text/plain": [
       "Speed: 2.6ms preprocess, 943.3ms inference, 1.3ms postprocess per image at shape (1, 3, 384, 640)\n"
      ]
     },
     "metadata": {},
     "output_type": "display_data"
    },
    {
     "data": {
      "text/plain": [
       "\n"
      ]
     },
     "metadata": {},
     "output_type": "display_data"
    },
    {
     "data": {
      "text/plain": [
       "0: 384x640 16 cars, 6 trucks, 4 traffic lights, 930.9ms\n"
      ]
     },
     "metadata": {},
     "output_type": "display_data"
    },
    {
     "data": {
      "text/plain": [
       "Speed: 11.4ms preprocess, 930.9ms inference, 1.3ms postprocess per image at shape (1, 3, 384, 640)\n"
      ]
     },
     "metadata": {},
     "output_type": "display_data"
    },
    {
     "data": {
      "text/plain": [
       "\n"
      ]
     },
     "metadata": {},
     "output_type": "display_data"
    },
    {
     "data": {
      "text/plain": [
       "0: 384x640 14 cars, 6 trucks, 4 traffic lights, 935.9ms\n"
      ]
     },
     "metadata": {},
     "output_type": "display_data"
    },
    {
     "data": {
      "text/plain": [
       "Speed: 10.0ms preprocess, 935.9ms inference, 1.0ms postprocess per image at shape (1, 3, 384, 640)\n"
      ]
     },
     "metadata": {},
     "output_type": "display_data"
    },
    {
     "data": {
      "text/plain": [
       "\n"
      ]
     },
     "metadata": {},
     "output_type": "display_data"
    },
    {
     "data": {
      "text/plain": [
       "0: 384x640 13 cars, 6 trucks, 4 traffic lights, 967.3ms\n"
      ]
     },
     "metadata": {},
     "output_type": "display_data"
    },
    {
     "data": {
      "text/plain": [
       "Speed: 9.8ms preprocess, 967.3ms inference, 1.3ms postprocess per image at shape (1, 3, 384, 640)\n"
      ]
     },
     "metadata": {},
     "output_type": "display_data"
    },
    {
     "data": {
      "text/plain": [
       "\n"
      ]
     },
     "metadata": {},
     "output_type": "display_data"
    },
    {
     "data": {
      "text/plain": [
       "0: 384x640 13 cars, 8 trucks, 4 traffic lights, 951.0ms\n"
      ]
     },
     "metadata": {},
     "output_type": "display_data"
    },
    {
     "data": {
      "text/plain": [
       "Speed: 10.5ms preprocess, 951.0ms inference, 1.2ms postprocess per image at shape (1, 3, 384, 640)\n"
      ]
     },
     "metadata": {},
     "output_type": "display_data"
    },
    {
     "data": {
      "text/plain": [
       "\n"
      ]
     },
     "metadata": {},
     "output_type": "display_data"
    },
    {
     "data": {
      "text/plain": [
       "0: 384x640 17 cars, 7 trucks, 4 traffic lights, 956.8ms\n"
      ]
     },
     "metadata": {},
     "output_type": "display_data"
    },
    {
     "data": {
      "text/plain": [
       "Speed: 11.2ms preprocess, 956.8ms inference, 1.0ms postprocess per image at shape (1, 3, 384, 640)\n"
      ]
     },
     "metadata": {},
     "output_type": "display_data"
    },
    {
     "data": {
      "text/plain": [
       "\n"
      ]
     },
     "metadata": {},
     "output_type": "display_data"
    },
    {
     "data": {
      "text/plain": [
       "0: 384x640 21 cars, 6 trucks, 4 traffic lights, 928.7ms\n"
      ]
     },
     "metadata": {},
     "output_type": "display_data"
    },
    {
     "data": {
      "text/plain": [
       "Speed: 10.2ms preprocess, 928.7ms inference, 1.4ms postprocess per image at shape (1, 3, 384, 640)\n"
      ]
     },
     "metadata": {},
     "output_type": "display_data"
    },
    {
     "data": {
      "text/plain": [
       "\n"
      ]
     },
     "metadata": {},
     "output_type": "display_data"
    },
    {
     "data": {
      "text/plain": [
       "0: 384x640 20 cars, 7 trucks, 4 traffic lights, 928.5ms\n"
      ]
     },
     "metadata": {},
     "output_type": "display_data"
    },
    {
     "data": {
      "text/plain": [
       "Speed: 11.7ms preprocess, 928.5ms inference, 1.1ms postprocess per image at shape (1, 3, 384, 640)\n"
      ]
     },
     "metadata": {},
     "output_type": "display_data"
    },
    {
     "data": {
      "text/plain": [
       "\n"
      ]
     },
     "metadata": {},
     "output_type": "display_data"
    },
    {
     "data": {
      "text/plain": [
       "0: 384x640 21 cars, 7 trucks, 4 traffic lights, 941.1ms\n"
      ]
     },
     "metadata": {},
     "output_type": "display_data"
    },
    {
     "data": {
      "text/plain": [
       "Speed: 11.3ms preprocess, 941.1ms inference, 1.8ms postprocess per image at shape (1, 3, 384, 640)\n"
      ]
     },
     "metadata": {},
     "output_type": "display_data"
    },
    {
     "data": {
      "text/plain": [
       "\n"
      ]
     },
     "metadata": {},
     "output_type": "display_data"
    },
    {
     "data": {
      "text/plain": [
       "0: 384x640 22 cars, 7 trucks, 4 traffic lights, 925.9ms\n"
      ]
     },
     "metadata": {},
     "output_type": "display_data"
    },
    {
     "data": {
      "text/plain": [
       "Speed: 10.0ms preprocess, 925.9ms inference, 1.7ms postprocess per image at shape (1, 3, 384, 640)\n"
      ]
     },
     "metadata": {},
     "output_type": "display_data"
    },
    {
     "data": {
      "text/plain": [
       "\n"
      ]
     },
     "metadata": {},
     "output_type": "display_data"
    },
    {
     "data": {
      "text/plain": [
       "0: 384x640 21 cars, 8 trucks, 4 traffic lights, 910.3ms\n"
      ]
     },
     "metadata": {},
     "output_type": "display_data"
    },
    {
     "data": {
      "text/plain": [
       "Speed: 11.2ms preprocess, 910.3ms inference, 1.0ms postprocess per image at shape (1, 3, 384, 640)\n"
      ]
     },
     "metadata": {},
     "output_type": "display_data"
    },
    {
     "data": {
      "text/plain": [
       "\n"
      ]
     },
     "metadata": {},
     "output_type": "display_data"
    },
    {
     "data": {
      "text/plain": [
       "0: 384x640 21 cars, 8 trucks, 4 traffic lights, 954.6ms\n"
      ]
     },
     "metadata": {},
     "output_type": "display_data"
    },
    {
     "data": {
      "text/plain": [
       "Speed: 2.1ms preprocess, 954.6ms inference, 1.0ms postprocess per image at shape (1, 3, 384, 640)\n"
      ]
     },
     "metadata": {},
     "output_type": "display_data"
    },
    {
     "data": {
      "text/plain": [
       "\n"
      ]
     },
     "metadata": {},
     "output_type": "display_data"
    },
    {
     "data": {
      "text/plain": [
       "0: 384x640 21 cars, 6 trucks, 4 traffic lights, 923.6ms\n"
      ]
     },
     "metadata": {},
     "output_type": "display_data"
    },
    {
     "data": {
      "text/plain": [
       "Speed: 12.0ms preprocess, 923.6ms inference, 1.8ms postprocess per image at shape (1, 3, 384, 640)\n"
      ]
     },
     "metadata": {},
     "output_type": "display_data"
    },
    {
     "data": {
      "text/plain": [
       "Video frame is empty or video processing has been successfully completed.\n"
      ]
     },
     "metadata": {},
     "output_type": "display_data"
    }
   ],
   "source": [
    "while cap.isOpened():\n",
    "    success, im0 = cap.read()\n",
    "    if not success:\n",
    "        print('Video frame is empty or video processing has been successfully completed.')\n",
    "        break\n",
    "    im0 = counter.count(im0)\n",
    "    video_writer.write(im0)\n",
    "\n",
    "cap.release()\n",
    "video_writer.release()\n",
    "cv2.destroyAllWindows()"
   ]
  }
 ],
 "metadata": {
  "kernelspec": {
   "display_name": "Python 3",
   "language": "python",
   "name": "python3"
  },
  "language_info": {
   "codemirror_mode": {
    "name": "ipython"
   },
   "file_extension": ".py",
   "mimetype": "text/x-python",
   "name": "python",
   "nbconvert_exporter": "python",
   "pygments_lexer": "ipython3"
  }
 },
 "nbformat": 4,
 "nbformat_minor": 5
}
